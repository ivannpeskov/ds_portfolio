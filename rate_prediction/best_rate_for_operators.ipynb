{
 "cells": [
  {
   "cell_type": "markdown",
   "metadata": {},
   "source": [
    "# Определение перспективного тарифа для телеком-компании"
   ]
  },
  {
   "cell_type": "markdown",
   "metadata": {},
   "source": [
    "## Цели исследования\n",
    "В нашем распоряжении  выборки данных по длительности звонков, количеству смс, объему использованного траффика случайных клиентов телеком-компании за 2018 год. \n",
    "Данные представлены в разрезе двух тарифов - \"smart\" и \"ultra\". \n",
    "Необходимо на основании представленных данных выбрать более перспективный для маркетинговых вложений тариф. "
   ]
  },
  {
   "cell_type": "code",
   "execution_count": 1,
   "metadata": {},
   "outputs": [],
   "source": [
    "import pandas as pd\n",
    "import numpy as np\n",
    "import math\n",
    "import matplotlib as plt\n",
    "from scipy import stats as st"
   ]
  },
  {
   "cell_type": "code",
   "execution_count": 2,
   "metadata": {},
   "outputs": [],
   "source": [
    "calls = pd.read_csv('/datasets/calls.csv')\n",
    "internet = pd.read_csv('/datasets/internet.csv')\n",
    "tariffs = pd.read_csv('/datasets/tariffs.csv')\n",
    "users = pd.read_csv('/datasets/users.csv')\n",
    "messages = pd.read_csv('/datasets/messages.csv')"
   ]
  },
  {
   "cell_type": "markdown",
   "metadata": {},
   "source": [
    "# Предобработка данных"
   ]
  },
  {
   "cell_type": "markdown",
   "metadata": {},
   "source": [
    "#### Предобратка данных в таблице calls"
   ]
  },
  {
   "cell_type": "code",
   "execution_count": 3,
   "metadata": {},
   "outputs": [
    {
     "name": "stdout",
     "output_type": "stream",
     "text": [
      "<class 'pandas.core.frame.DataFrame'>\n",
      "RangeIndex: 202607 entries, 0 to 202606\n",
      "Data columns (total 4 columns):\n",
      " #   Column     Non-Null Count   Dtype  \n",
      "---  ------     --------------   -----  \n",
      " 0   id         202607 non-null  object \n",
      " 1   call_date  202607 non-null  object \n",
      " 2   duration   202607 non-null  float64\n",
      " 3   user_id    202607 non-null  int64  \n",
      "dtypes: float64(1), int64(1), object(2)\n",
      "memory usage: 6.2+ MB\n"
     ]
    }
   ],
   "source": [
    "calls.info()"
   ]
  },
  {
   "cell_type": "markdown",
   "metadata": {},
   "source": [
    "Видно, что в таблице нет пропущенных значений. Необходимо перевести колонку `call_date` в формат datetime, а также дополнительно изучить данные в колонке `duration`\n",
    "\n",
    "Также, для дальнейших расчетов, округлим минуты в колонке `duration` до ближайшего положительного числа, затем переведем тип колонки в int"
   ]
  },
  {
   "cell_type": "code",
   "execution_count": 4,
   "metadata": {},
   "outputs": [
    {
     "data": {
      "text/html": [
       "<div>\n",
       "<style scoped>\n",
       "    .dataframe tbody tr th:only-of-type {\n",
       "        vertical-align: middle;\n",
       "    }\n",
       "\n",
       "    .dataframe tbody tr th {\n",
       "        vertical-align: top;\n",
       "    }\n",
       "\n",
       "    .dataframe thead th {\n",
       "        text-align: right;\n",
       "    }\n",
       "</style>\n",
       "<table border=\"1\" class=\"dataframe\">\n",
       "  <thead>\n",
       "    <tr style=\"text-align: right;\">\n",
       "      <th></th>\n",
       "      <th>id</th>\n",
       "      <th>call_date</th>\n",
       "      <th>duration</th>\n",
       "      <th>user_id</th>\n",
       "      <th>month</th>\n",
       "    </tr>\n",
       "  </thead>\n",
       "  <tbody>\n",
       "    <tr>\n",
       "      <th>0</th>\n",
       "      <td>1000_0</td>\n",
       "      <td>2018-07-25</td>\n",
       "      <td>0</td>\n",
       "      <td>1000</td>\n",
       "      <td>7</td>\n",
       "    </tr>\n",
       "    <tr>\n",
       "      <th>1</th>\n",
       "      <td>1000_1</td>\n",
       "      <td>2018-08-17</td>\n",
       "      <td>0</td>\n",
       "      <td>1000</td>\n",
       "      <td>8</td>\n",
       "    </tr>\n",
       "    <tr>\n",
       "      <th>2</th>\n",
       "      <td>1000_2</td>\n",
       "      <td>2018-06-11</td>\n",
       "      <td>3</td>\n",
       "      <td>1000</td>\n",
       "      <td>6</td>\n",
       "    </tr>\n",
       "    <tr>\n",
       "      <th>3</th>\n",
       "      <td>1000_3</td>\n",
       "      <td>2018-09-21</td>\n",
       "      <td>14</td>\n",
       "      <td>1000</td>\n",
       "      <td>9</td>\n",
       "    </tr>\n",
       "    <tr>\n",
       "      <th>4</th>\n",
       "      <td>1000_4</td>\n",
       "      <td>2018-12-15</td>\n",
       "      <td>6</td>\n",
       "      <td>1000</td>\n",
       "      <td>12</td>\n",
       "    </tr>\n",
       "  </tbody>\n",
       "</table>\n",
       "</div>"
      ],
      "text/plain": [
       "       id  call_date  duration  user_id  month\n",
       "0  1000_0 2018-07-25         0     1000      7\n",
       "1  1000_1 2018-08-17         0     1000      8\n",
       "2  1000_2 2018-06-11         3     1000      6\n",
       "3  1000_3 2018-09-21        14     1000      9\n",
       "4  1000_4 2018-12-15         6     1000     12"
      ]
     },
     "execution_count": 4,
     "metadata": {},
     "output_type": "execute_result"
    }
   ],
   "source": [
    "calls['call_date'] = pd.to_datetime(calls['call_date'], format = '%Y-%m-%d')\n",
    "calls['month'] = calls['call_date'].dt.month\n",
    "calls['duration'] = calls['duration'].apply(math.ceil) \n",
    "calls.head()"
   ]
  },
  {
   "cell_type": "code",
   "execution_count": 5,
   "metadata": {},
   "outputs": [
    {
     "data": {
      "text/plain": [
       "count    202607.000000\n",
       "mean          7.158198\n",
       "std           5.959173\n",
       "min           0.000000\n",
       "25%           2.000000\n",
       "50%           6.000000\n",
       "75%          11.000000\n",
       "max          38.000000\n",
       "Name: duration, dtype: float64"
      ]
     },
     "execution_count": 5,
     "metadata": {},
     "output_type": "execute_result"
    },
    {
     "data": {
      "image/png": "[encoded data removed]",
      "text/plain": [
       "<Figure size 432x288 with 1 Axes>"
      ]
     },
     "metadata": {
      "needs_background": "light"
     },
     "output_type": "display_data"
    }
   ],
   "source": [
    "calls['duration'].hist()\n",
    "calls['duration'].describe()"
   ]
  },
  {
   "cell_type": "markdown",
   "metadata": {},
   "source": [
    "Значения в колнке `duration` не вызывают вопросов. Максимальная длительность звонка - 38 минут, минимальная длительность звонка - 0 минут - данные звонки соответвуют пропущенным."
   ]
  },
  {
   "cell_type": "markdown",
   "metadata": {},
   "source": [
    "#### Предобработка данных в таблице internet"
   ]
  },
  {
   "cell_type": "code",
   "execution_count": 6,
   "metadata": {},
   "outputs": [
    {
     "name": "stdout",
     "output_type": "stream",
     "text": [
      "<class 'pandas.core.frame.DataFrame'>\n",
      "RangeIndex: 149396 entries, 0 to 149395\n",
      "Data columns (total 5 columns):\n",
      " #   Column        Non-Null Count   Dtype  \n",
      "---  ------        --------------   -----  \n",
      " 0   Unnamed: 0    149396 non-null  int64  \n",
      " 1   id            149396 non-null  object \n",
      " 2   mb_used       149396 non-null  float64\n",
      " 3   session_date  149396 non-null  object \n",
      " 4   user_id       149396 non-null  int64  \n",
      "dtypes: float64(1), int64(2), object(2)\n",
      "memory usage: 5.7+ MB\n"
     ]
    }
   ],
   "source": [
    "internet.info()"
   ]
  },
  {
   "cell_type": "markdown",
   "metadata": {},
   "source": [
    "Исходя из данных метода info можем увидеть: \n",
    "1. Наличие колонки unnamed - изучим ее подробнее \n",
    "2. Необходимо привести значения в колонке `session_date` к типу datetime\n",
    "3. Исследовать дополнительно значения в колонке `mb_used`. (Округлять значения на данном этапе нет необходимости, так как по правилам оператора округление производится по всем сессиям юзера суммарно за месяц. "
   ]
  },
  {
   "cell_type": "code",
   "execution_count": 7,
   "metadata": {},
   "outputs": [
    {
     "data": {
      "text/html": [
       "<div>\n",
       "<style scoped>\n",
       "    .dataframe tbody tr th:only-of-type {\n",
       "        vertical-align: middle;\n",
       "    }\n",
       "\n",
       "    .dataframe tbody tr th {\n",
       "        vertical-align: top;\n",
       "    }\n",
       "\n",
       "    .dataframe thead th {\n",
       "        text-align: right;\n",
       "    }\n",
       "</style>\n",
       "<table border=\"1\" class=\"dataframe\">\n",
       "  <thead>\n",
       "    <tr style=\"text-align: right;\">\n",
       "      <th></th>\n",
       "      <th>Unnamed: 0</th>\n",
       "      <th>id</th>\n",
       "      <th>mb_used</th>\n",
       "      <th>session_date</th>\n",
       "      <th>user_id</th>\n",
       "    </tr>\n",
       "  </thead>\n",
       "  <tbody>\n",
       "    <tr>\n",
       "      <th>149391</th>\n",
       "      <td>149391</td>\n",
       "      <td>1499_152</td>\n",
       "      <td>318.90</td>\n",
       "      <td>2018-10-03</td>\n",
       "      <td>1499</td>\n",
       "    </tr>\n",
       "    <tr>\n",
       "      <th>149392</th>\n",
       "      <td>149392</td>\n",
       "      <td>1499_153</td>\n",
       "      <td>490.13</td>\n",
       "      <td>2018-12-14</td>\n",
       "      <td>1499</td>\n",
       "    </tr>\n",
       "    <tr>\n",
       "      <th>149393</th>\n",
       "      <td>149393</td>\n",
       "      <td>1499_154</td>\n",
       "      <td>0.00</td>\n",
       "      <td>2018-10-27</td>\n",
       "      <td>1499</td>\n",
       "    </tr>\n",
       "    <tr>\n",
       "      <th>149394</th>\n",
       "      <td>149394</td>\n",
       "      <td>1499_155</td>\n",
       "      <td>1246.32</td>\n",
       "      <td>2018-11-26</td>\n",
       "      <td>1499</td>\n",
       "    </tr>\n",
       "    <tr>\n",
       "      <th>149395</th>\n",
       "      <td>149395</td>\n",
       "      <td>1499_156</td>\n",
       "      <td>544.37</td>\n",
       "      <td>2018-10-26</td>\n",
       "      <td>1499</td>\n",
       "    </tr>\n",
       "  </tbody>\n",
       "</table>\n",
       "</div>"
      ],
      "text/plain": [
       "        Unnamed: 0        id  mb_used session_date  user_id\n",
       "149391      149391  1499_152   318.90   2018-10-03     1499\n",
       "149392      149392  1499_153   490.13   2018-12-14     1499\n",
       "149393      149393  1499_154     0.00   2018-10-27     1499\n",
       "149394      149394  1499_155  1246.32   2018-11-26     1499\n",
       "149395      149395  1499_156   544.37   2018-10-26     1499"
      ]
     },
     "execution_count": 7,
     "metadata": {},
     "output_type": "execute_result"
    }
   ],
   "source": [
    "internet.tail()"
   ]
  },
  {
   "cell_type": "markdown",
   "metadata": {},
   "source": [
    "Колонкка `Unnamed: 0` соответствует индексу таблицы. Удалим данную колонку"
   ]
  },
  {
   "cell_type": "code",
   "execution_count": 8,
   "metadata": {},
   "outputs": [
    {
     "data": {
      "text/html": [
       "<div>\n",
       "<style scoped>\n",
       "    .dataframe tbody tr th:only-of-type {\n",
       "        vertical-align: middle;\n",
       "    }\n",
       "\n",
       "    .dataframe tbody tr th {\n",
       "        vertical-align: top;\n",
       "    }\n",
       "\n",
       "    .dataframe thead th {\n",
       "        text-align: right;\n",
       "    }\n",
       "</style>\n",
       "<table border=\"1\" class=\"dataframe\">\n",
       "  <thead>\n",
       "    <tr style=\"text-align: right;\">\n",
       "      <th></th>\n",
       "      <th>id</th>\n",
       "      <th>mb_used</th>\n",
       "      <th>session_date</th>\n",
       "      <th>user_id</th>\n",
       "    </tr>\n",
       "  </thead>\n",
       "  <tbody>\n",
       "    <tr>\n",
       "      <th>0</th>\n",
       "      <td>1000_0</td>\n",
       "      <td>112.95</td>\n",
       "      <td>2018-11-25</td>\n",
       "      <td>1000</td>\n",
       "    </tr>\n",
       "    <tr>\n",
       "      <th>1</th>\n",
       "      <td>1000_1</td>\n",
       "      <td>1052.81</td>\n",
       "      <td>2018-09-07</td>\n",
       "      <td>1000</td>\n",
       "    </tr>\n",
       "    <tr>\n",
       "      <th>2</th>\n",
       "      <td>1000_2</td>\n",
       "      <td>1197.26</td>\n",
       "      <td>2018-06-25</td>\n",
       "      <td>1000</td>\n",
       "    </tr>\n",
       "    <tr>\n",
       "      <th>3</th>\n",
       "      <td>1000_3</td>\n",
       "      <td>550.27</td>\n",
       "      <td>2018-08-22</td>\n",
       "      <td>1000</td>\n",
       "    </tr>\n",
       "    <tr>\n",
       "      <th>4</th>\n",
       "      <td>1000_4</td>\n",
       "      <td>302.56</td>\n",
       "      <td>2018-09-24</td>\n",
       "      <td>1000</td>\n",
       "    </tr>\n",
       "  </tbody>\n",
       "</table>\n",
       "</div>"
      ],
      "text/plain": [
       "       id  mb_used session_date  user_id\n",
       "0  1000_0   112.95   2018-11-25     1000\n",
       "1  1000_1  1052.81   2018-09-07     1000\n",
       "2  1000_2  1197.26   2018-06-25     1000\n",
       "3  1000_3   550.27   2018-08-22     1000\n",
       "4  1000_4   302.56   2018-09-24     1000"
      ]
     },
     "execution_count": 8,
     "metadata": {},
     "output_type": "execute_result"
    }
   ],
   "source": [
    "internet = internet.drop(columns = 'Unnamed: 0')\n",
    "internet.head()"
   ]
  },
  {
   "cell_type": "code",
   "execution_count": 9,
   "metadata": {},
   "outputs": [
    {
     "name": "stdout",
     "output_type": "stream",
     "text": [
      "<class 'pandas.core.frame.DataFrame'>\n",
      "RangeIndex: 149396 entries, 0 to 149395\n",
      "Data columns (total 5 columns):\n",
      " #   Column        Non-Null Count   Dtype         \n",
      "---  ------        --------------   -----         \n",
      " 0   id            149396 non-null  object        \n",
      " 1   mb_used       149396 non-null  float64       \n",
      " 2   session_date  149396 non-null  datetime64[ns]\n",
      " 3   user_id       149396 non-null  int64         \n",
      " 4   month         149396 non-null  int64         \n",
      "dtypes: datetime64[ns](1), float64(1), int64(2), object(1)\n",
      "memory usage: 5.7+ MB\n"
     ]
    }
   ],
   "source": [
    "internet['session_date'] = pd.to_datetime(internet['session_date'],format = '%Y-%m-%d')\n",
    "internet['month'] = internet['session_date'].dt.month\n",
    "internet.info()"
   ]
  },
  {
   "cell_type": "code",
   "execution_count": 10,
   "metadata": {},
   "outputs": [
    {
     "name": "stdout",
     "output_type": "stream",
     "text": [
      "19598\n"
     ]
    },
    {
     "data": {
      "text/plain": [
       "count    149396.000000\n",
       "mean        370.192426\n",
       "std         278.300951\n",
       "min           0.000000\n",
       "25%         138.187500\n",
       "50%         348.015000\n",
       "75%         559.552500\n",
       "max        1724.830000\n",
       "Name: mb_used, dtype: float64"
      ]
     },
     "execution_count": 10,
     "metadata": {},
     "output_type": "execute_result"
    },
    {
     "data": {
      "image/png": "[encoded data removed]",
      "text/plain": [
       "<Figure size 432x288 with 1 Axes>"
      ]
     },
     "metadata": {
      "needs_background": "light"
     },
     "output_type": "display_data"
    }
   ],
   "source": [
    "internet['mb_used'].hist()\n",
    "print (len(internet[internet['mb_used'] == 0]))\n",
    "internet['mb_used'].describe()"
   ]
  },
  {
   "cell_type": "markdown",
   "metadata": {},
   "source": [
    "Из данных таблицы видно, что существуют сессии с нулевым количеством использования мб интернета, таких записей приблизительно 13 % от общего количества. Возможно, это случай, когда включена передача данных на мобильном устройстве, при условии, что нет фоновых приложений, потребляющих траффик. Учитывая, что такие сессии не изменят размер выручки при расчете итоговой выручки по тарифу, а также то, что мы не анализируем общее количество сессий подключения, удалим строки с нулевыми значениями для облегчения датафрейма."
   ]
  },
  {
   "cell_type": "code",
   "execution_count": 11,
   "metadata": {},
   "outputs": [
    {
     "name": "stdout",
     "output_type": "stream",
     "text": [
      "<class 'pandas.core.frame.DataFrame'>\n",
      "Int64Index: 129798 entries, 0 to 149395\n",
      "Data columns (total 5 columns):\n",
      " #   Column        Non-Null Count   Dtype         \n",
      "---  ------        --------------   -----         \n",
      " 0   id            129798 non-null  object        \n",
      " 1   mb_used       129798 non-null  float64       \n",
      " 2   session_date  129798 non-null  datetime64[ns]\n",
      " 3   user_id       129798 non-null  int64         \n",
      " 4   month         129798 non-null  int64         \n",
      "dtypes: datetime64[ns](1), float64(1), int64(2), object(1)\n",
      "memory usage: 5.9+ MB\n"
     ]
    }
   ],
   "source": [
    "internet = internet.query('mb_used!=0')\n",
    "internet.info()"
   ]
  },
  {
   "cell_type": "markdown",
   "metadata": {},
   "source": [
    "#### Предобработка данных в таблице tariffs"
   ]
  },
  {
   "cell_type": "code",
   "execution_count": 12,
   "metadata": {},
   "outputs": [
    {
     "name": "stdout",
     "output_type": "stream",
     "text": [
      "<class 'pandas.core.frame.DataFrame'>\n",
      "RangeIndex: 2 entries, 0 to 1\n",
      "Data columns (total 8 columns):\n",
      " #   Column                 Non-Null Count  Dtype \n",
      "---  ------                 --------------  ----- \n",
      " 0   messages_included      2 non-null      int64 \n",
      " 1   mb_per_month_included  2 non-null      int64 \n",
      " 2   minutes_included       2 non-null      int64 \n",
      " 3   rub_monthly_fee        2 non-null      int64 \n",
      " 4   rub_per_gb             2 non-null      int64 \n",
      " 5   rub_per_message        2 non-null      int64 \n",
      " 6   rub_per_minute         2 non-null      int64 \n",
      " 7   tariff_name            2 non-null      object\n",
      "dtypes: int64(7), object(1)\n",
      "memory usage: 256.0+ bytes\n"
     ]
    }
   ],
   "source": [
    "tariffs.info()"
   ]
  },
  {
   "cell_type": "code",
   "execution_count": 13,
   "metadata": {},
   "outputs": [
    {
     "data": {
      "text/html": [
       "<div>\n",
       "<style scoped>\n",
       "    .dataframe tbody tr th:only-of-type {\n",
       "        vertical-align: middle;\n",
       "    }\n",
       "\n",
       "    .dataframe tbody tr th {\n",
       "        vertical-align: top;\n",
       "    }\n",
       "\n",
       "    .dataframe thead th {\n",
       "        text-align: right;\n",
       "    }\n",
       "</style>\n",
       "<table border=\"1\" class=\"dataframe\">\n",
       "  <thead>\n",
       "    <tr style=\"text-align: right;\">\n",
       "      <th></th>\n",
       "      <th>messages_included</th>\n",
       "      <th>mb_per_month_included</th>\n",
       "      <th>minutes_included</th>\n",
       "      <th>rub_monthly_fee</th>\n",
       "      <th>rub_per_gb</th>\n",
       "      <th>rub_per_message</th>\n",
       "      <th>rub_per_minute</th>\n",
       "      <th>tariff_name</th>\n",
       "    </tr>\n",
       "  </thead>\n",
       "  <tbody>\n",
       "    <tr>\n",
       "      <th>0</th>\n",
       "      <td>50</td>\n",
       "      <td>15360</td>\n",
       "      <td>500</td>\n",
       "      <td>550</td>\n",
       "      <td>200</td>\n",
       "      <td>3</td>\n",
       "      <td>3</td>\n",
       "      <td>smart</td>\n",
       "    </tr>\n",
       "    <tr>\n",
       "      <th>1</th>\n",
       "      <td>1000</td>\n",
       "      <td>30720</td>\n",
       "      <td>3000</td>\n",
       "      <td>1950</td>\n",
       "      <td>150</td>\n",
       "      <td>1</td>\n",
       "      <td>1</td>\n",
       "      <td>ultra</td>\n",
       "    </tr>\n",
       "  </tbody>\n",
       "</table>\n",
       "</div>"
      ],
      "text/plain": [
       "   messages_included  mb_per_month_included  minutes_included  \\\n",
       "0                 50                  15360               500   \n",
       "1               1000                  30720              3000   \n",
       "\n",
       "   rub_monthly_fee  rub_per_gb  rub_per_message  rub_per_minute tariff_name  \n",
       "0              550         200                3               3       smart  \n",
       "1             1950         150                1               1       ultra  "
      ]
     },
     "execution_count": 13,
     "metadata": {},
     "output_type": "execute_result"
    }
   ],
   "source": [
    "tariffs"
   ]
  },
  {
   "cell_type": "markdown",
   "metadata": {},
   "source": [
    "В описаниях тарифов указано количество включенных мб в пакет, а расчет стоимости тарифа ведется на основании гб. Необходимо перевести значения в колонке `mb_per_month_included` в гб (в 1 гб 1024 мб), а также переименуем саму колонку в `gb_per_month_included`"
   ]
  },
  {
   "cell_type": "code",
   "execution_count": 14,
   "metadata": {},
   "outputs": [],
   "source": [
    "tariffs['mb_per_month_included'] = (tariffs['mb_per_month_included']/1024).astype('int')\n",
    "tariffs = tariffs.rename(columns = {'mb_per_month_included':'gb_per_month_included'})"
   ]
  },
  {
   "cell_type": "code",
   "execution_count": 15,
   "metadata": {},
   "outputs": [
    {
     "data": {
      "text/html": [
       "<div>\n",
       "<style scoped>\n",
       "    .dataframe tbody tr th:only-of-type {\n",
       "        vertical-align: middle;\n",
       "    }\n",
       "\n",
       "    .dataframe tbody tr th {\n",
       "        vertical-align: top;\n",
       "    }\n",
       "\n",
       "    .dataframe thead th {\n",
       "        text-align: right;\n",
       "    }\n",
       "</style>\n",
       "<table border=\"1\" class=\"dataframe\">\n",
       "  <thead>\n",
       "    <tr style=\"text-align: right;\">\n",
       "      <th></th>\n",
       "      <th>messages_included</th>\n",
       "      <th>gb_per_month_included</th>\n",
       "      <th>minutes_included</th>\n",
       "      <th>rub_monthly_fee</th>\n",
       "      <th>rub_per_gb</th>\n",
       "      <th>rub_per_message</th>\n",
       "      <th>rub_per_minute</th>\n",
       "      <th>tariff_name</th>\n",
       "    </tr>\n",
       "  </thead>\n",
       "  <tbody>\n",
       "    <tr>\n",
       "      <th>0</th>\n",
       "      <td>50</td>\n",
       "      <td>15</td>\n",
       "      <td>500</td>\n",
       "      <td>550</td>\n",
       "      <td>200</td>\n",
       "      <td>3</td>\n",
       "      <td>3</td>\n",
       "      <td>smart</td>\n",
       "    </tr>\n",
       "    <tr>\n",
       "      <th>1</th>\n",
       "      <td>1000</td>\n",
       "      <td>30</td>\n",
       "      <td>3000</td>\n",
       "      <td>1950</td>\n",
       "      <td>150</td>\n",
       "      <td>1</td>\n",
       "      <td>1</td>\n",
       "      <td>ultra</td>\n",
       "    </tr>\n",
       "  </tbody>\n",
       "</table>\n",
       "</div>"
      ],
      "text/plain": [
       "   messages_included  gb_per_month_included  minutes_included  \\\n",
       "0                 50                     15               500   \n",
       "1               1000                     30              3000   \n",
       "\n",
       "   rub_monthly_fee  rub_per_gb  rub_per_message  rub_per_minute tariff_name  \n",
       "0              550         200                3               3       smart  \n",
       "1             1950         150                1               1       ultra  "
      ]
     },
     "execution_count": 15,
     "metadata": {},
     "output_type": "execute_result"
    }
   ],
   "source": [
    "tariffs"
   ]
  },
  {
   "cell_type": "markdown",
   "metadata": {},
   "source": [
    "#### Предобработка данных в таблице users"
   ]
  },
  {
   "cell_type": "code",
   "execution_count": 16,
   "metadata": {},
   "outputs": [
    {
     "name": "stdout",
     "output_type": "stream",
     "text": [
      "<class 'pandas.core.frame.DataFrame'>\n",
      "RangeIndex: 500 entries, 0 to 499\n",
      "Data columns (total 8 columns):\n",
      " #   Column      Non-Null Count  Dtype \n",
      "---  ------      --------------  ----- \n",
      " 0   user_id     500 non-null    int64 \n",
      " 1   age         500 non-null    int64 \n",
      " 2   churn_date  38 non-null     object\n",
      " 3   city        500 non-null    object\n",
      " 4   first_name  500 non-null    object\n",
      " 5   last_name   500 non-null    object\n",
      " 6   reg_date    500 non-null    object\n",
      " 7   tariff      500 non-null    object\n",
      "dtypes: int64(2), object(6)\n",
      "memory usage: 31.4+ KB\n"
     ]
    }
   ],
   "source": [
    "users.info()"
   ]
  },
  {
   "cell_type": "markdown",
   "metadata": {},
   "source": [
    "Видно, что в таблице представлены данные по 500 клиентам компании. \n",
    "Доработаем данные в таблице: \n",
    "1. Значения в колонке `churn_date` приведем к типу datetime, также, создадим колонку `is_active` с типом bool (1, если пакет еще активен, 0, если нет) \n",
    "2. Значения в колонке `reg_date` приведем к типу datetime\n",
    "3. Изучим дополнительно значения в колонках `user_id`, `age`, `city`, `tariff`, а также дедуплицируем имеющиеся данные. "
   ]
  },
  {
   "cell_type": "code",
   "execution_count": 17,
   "metadata": {},
   "outputs": [
    {
     "name": "stdout",
     "output_type": "stream",
     "text": [
      "<class 'pandas.core.frame.DataFrame'>\n",
      "RangeIndex: 500 entries, 0 to 499\n",
      "Data columns (total 9 columns):\n",
      " #   Column      Non-Null Count  Dtype         \n",
      "---  ------      --------------  -----         \n",
      " 0   user_id     500 non-null    int64         \n",
      " 1   age         500 non-null    int64         \n",
      " 2   churn_date  38 non-null     datetime64[ns]\n",
      " 3   city        500 non-null    object        \n",
      " 4   first_name  500 non-null    object        \n",
      " 5   last_name   500 non-null    object        \n",
      " 6   reg_date    500 non-null    object        \n",
      " 7   tariff      500 non-null    object        \n",
      " 8   is_active   500 non-null    bool          \n",
      "dtypes: bool(1), datetime64[ns](1), int64(2), object(5)\n",
      "memory usage: 31.9+ KB\n"
     ]
    }
   ],
   "source": [
    "users['churn_date'] = pd.to_datetime(users['churn_date'], format = '%Y-%m-%d', errors = 'coerce')\n",
    "users['is_active'] = users['churn_date'].isnull()\n",
    "\n",
    "users.info()"
   ]
  },
  {
   "cell_type": "code",
   "execution_count": 18,
   "metadata": {},
   "outputs": [],
   "source": [
    "users['reg_date'] = pd.to_datetime(users['reg_date'], format = '%Y-%m-%d')"
   ]
  },
  {
   "cell_type": "code",
   "execution_count": 19,
   "metadata": {},
   "outputs": [
    {
     "data": {
      "text/plain": [
       "1024    1\n",
       "1353    1\n",
       "1366    1\n",
       "1365    1\n",
       "1364    1\n",
       "       ..\n",
       "1185    1\n",
       "1184    1\n",
       "1183    1\n",
       "1182    1\n",
       "1023    1\n",
       "Name: user_id, Length: 500, dtype: int64"
      ]
     },
     "execution_count": 19,
     "metadata": {},
     "output_type": "execute_result"
    }
   ],
   "source": [
    "users['user_id'].value_counts()"
   ]
  },
  {
   "cell_type": "code",
   "execution_count": 20,
   "metadata": {},
   "outputs": [
    {
     "data": {
      "text/plain": [
       "count    500.00000\n",
       "mean      46.58800\n",
       "std       16.66763\n",
       "min       18.00000\n",
       "25%       32.00000\n",
       "50%       46.00000\n",
       "75%       62.00000\n",
       "max       75.00000\n",
       "Name: age, dtype: float64"
      ]
     },
     "execution_count": 20,
     "metadata": {},
     "output_type": "execute_result"
    },
    {
     "data": {
      "image/png": "[encoded data removed]",
      "text/plain": [
       "<Figure size 432x288 with 1 Axes>"
      ]
     },
     "metadata": {
      "needs_background": "light"
     },
     "output_type": "display_data"
    }
   ],
   "source": [
    "users['age'].hist()\n",
    "users['age'].describe()"
   ]
  },
  {
   "cell_type": "markdown",
   "metadata": {},
   "source": [
    "Отличная выборка! Представлены в равной мере все возрастные группы! "
   ]
  },
  {
   "cell_type": "code",
   "execution_count": 21,
   "metadata": {},
   "outputs": [
    {
     "data": {
      "text/plain": [
       "Москва             99\n",
       "Санкт-Петербург    39\n",
       "Новосибирск        16\n",
       "Омск               14\n",
       "Казань             14\n",
       "                   ..\n",
       "Архангельск         1\n",
       "Химки               1\n",
       "Нижневартовск       1\n",
       "Иваново             1\n",
       "Подольск            1\n",
       "Name: city, Length: 76, dtype: int64"
      ]
     },
     "execution_count": 21,
     "metadata": {},
     "output_type": "execute_result"
    }
   ],
   "source": [
    "users['city'].value_counts()"
   ]
  },
  {
   "cell_type": "code",
   "execution_count": 22,
   "metadata": {},
   "outputs": [
    {
     "data": {
      "text/plain": [
       "smart    351\n",
       "ultra    149\n",
       "Name: tariff, dtype: int64"
      ]
     },
     "execution_count": 22,
     "metadata": {},
     "output_type": "execute_result"
    }
   ],
   "source": [
    "users['tariff'].value_counts()"
   ]
  },
  {
   "cell_type": "code",
   "execution_count": 23,
   "metadata": {},
   "outputs": [
    {
     "data": {
      "text/plain": [
       "0"
      ]
     },
     "execution_count": 23,
     "metadata": {},
     "output_type": "execute_result"
    }
   ],
   "source": [
    "users.duplicated().sum()"
   ]
  },
  {
   "cell_type": "markdown",
   "metadata": {},
   "source": [
    "Дублей нет, данные выглядят корректными."
   ]
  },
  {
   "cell_type": "markdown",
   "metadata": {},
   "source": [
    "#### Предобработка данных в таблице messages"
   ]
  },
  {
   "cell_type": "code",
   "execution_count": 24,
   "metadata": {},
   "outputs": [
    {
     "name": "stdout",
     "output_type": "stream",
     "text": [
      "<class 'pandas.core.frame.DataFrame'>\n",
      "RangeIndex: 123036 entries, 0 to 123035\n",
      "Data columns (total 3 columns):\n",
      " #   Column        Non-Null Count   Dtype \n",
      "---  ------        --------------   ----- \n",
      " 0   id            123036 non-null  object\n",
      " 1   message_date  123036 non-null  object\n",
      " 2   user_id       123036 non-null  int64 \n",
      "dtypes: int64(1), object(2)\n",
      "memory usage: 2.8+ MB\n"
     ]
    }
   ],
   "source": [
    "messages.info()"
   ]
  },
  {
   "cell_type": "code",
   "execution_count": 25,
   "metadata": {},
   "outputs": [
    {
     "data": {
      "text/html": [
       "<div>\n",
       "<style scoped>\n",
       "    .dataframe tbody tr th:only-of-type {\n",
       "        vertical-align: middle;\n",
       "    }\n",
       "\n",
       "    .dataframe tbody tr th {\n",
       "        vertical-align: top;\n",
       "    }\n",
       "\n",
       "    .dataframe thead th {\n",
       "        text-align: right;\n",
       "    }\n",
       "</style>\n",
       "<table border=\"1\" class=\"dataframe\">\n",
       "  <thead>\n",
       "    <tr style=\"text-align: right;\">\n",
       "      <th></th>\n",
       "      <th>id</th>\n",
       "      <th>message_date</th>\n",
       "      <th>user_id</th>\n",
       "    </tr>\n",
       "  </thead>\n",
       "  <tbody>\n",
       "    <tr>\n",
       "      <th>0</th>\n",
       "      <td>1000_0</td>\n",
       "      <td>2018-06-27</td>\n",
       "      <td>1000</td>\n",
       "    </tr>\n",
       "    <tr>\n",
       "      <th>1</th>\n",
       "      <td>1000_1</td>\n",
       "      <td>2018-10-08</td>\n",
       "      <td>1000</td>\n",
       "    </tr>\n",
       "    <tr>\n",
       "      <th>2</th>\n",
       "      <td>1000_2</td>\n",
       "      <td>2018-08-04</td>\n",
       "      <td>1000</td>\n",
       "    </tr>\n",
       "    <tr>\n",
       "      <th>3</th>\n",
       "      <td>1000_3</td>\n",
       "      <td>2018-06-16</td>\n",
       "      <td>1000</td>\n",
       "    </tr>\n",
       "    <tr>\n",
       "      <th>4</th>\n",
       "      <td>1000_4</td>\n",
       "      <td>2018-12-05</td>\n",
       "      <td>1000</td>\n",
       "    </tr>\n",
       "  </tbody>\n",
       "</table>\n",
       "</div>"
      ],
      "text/plain": [
       "       id message_date  user_id\n",
       "0  1000_0   2018-06-27     1000\n",
       "1  1000_1   2018-10-08     1000\n",
       "2  1000_2   2018-08-04     1000\n",
       "3  1000_3   2018-06-16     1000\n",
       "4  1000_4   2018-12-05     1000"
      ]
     },
     "execution_count": 25,
     "metadata": {},
     "output_type": "execute_result"
    }
   ],
   "source": [
    "messages.head()"
   ]
  },
  {
   "cell_type": "markdown",
   "metadata": {},
   "source": [
    "Приведем данные в колонке `mesage_date` к типу datetime "
   ]
  },
  {
   "cell_type": "code",
   "execution_count": 26,
   "metadata": {},
   "outputs": [
    {
     "name": "stdout",
     "output_type": "stream",
     "text": [
      "<class 'pandas.core.frame.DataFrame'>\n",
      "RangeIndex: 123036 entries, 0 to 123035\n",
      "Data columns (total 4 columns):\n",
      " #   Column        Non-Null Count   Dtype         \n",
      "---  ------        --------------   -----         \n",
      " 0   id            123036 non-null  object        \n",
      " 1   message_date  123036 non-null  datetime64[ns]\n",
      " 2   user_id       123036 non-null  int64         \n",
      " 3   month         123036 non-null  int64         \n",
      "dtypes: datetime64[ns](1), int64(2), object(1)\n",
      "memory usage: 3.8+ MB\n"
     ]
    }
   ],
   "source": [
    "messages['message_date'] = pd.to_datetime(messages['message_date'], format = '%Y-%m-%d')\n",
    "messages['month'] = messages['message_date'].dt.month\n",
    "messages.info()"
   ]
  },
  {
   "cell_type": "markdown",
   "metadata": {},
   "source": [
    "### Расчет выручки по месяцам"
   ]
  },
  {
   "cell_type": "markdown",
   "metadata": {},
   "source": [
    "В таблицах `messages`, `calls`, `internet` найдем объем потраченных сообщений, минут, гб по каждому юзеру в разрезе каждого месяца. "
   ]
  },
  {
   "cell_type": "code",
   "execution_count": 27,
   "metadata": {},
   "outputs": [
    {
     "data": {
      "text/html": [
       "<div>\n",
       "<style scoped>\n",
       "    .dataframe tbody tr th:only-of-type {\n",
       "        vertical-align: middle;\n",
       "    }\n",
       "\n",
       "    .dataframe tbody tr th {\n",
       "        vertical-align: top;\n",
       "    }\n",
       "\n",
       "    .dataframe thead th {\n",
       "        text-align: right;\n",
       "    }\n",
       "</style>\n",
       "<table border=\"1\" class=\"dataframe\">\n",
       "  <thead>\n",
       "    <tr style=\"text-align: right;\">\n",
       "      <th></th>\n",
       "      <th>user_id</th>\n",
       "      <th>month</th>\n",
       "      <th>messages</th>\n",
       "    </tr>\n",
       "  </thead>\n",
       "  <tbody>\n",
       "    <tr>\n",
       "      <th>0</th>\n",
       "      <td>1000</td>\n",
       "      <td>5</td>\n",
       "      <td>22</td>\n",
       "    </tr>\n",
       "    <tr>\n",
       "      <th>1</th>\n",
       "      <td>1000</td>\n",
       "      <td>6</td>\n",
       "      <td>60</td>\n",
       "    </tr>\n",
       "    <tr>\n",
       "      <th>2</th>\n",
       "      <td>1000</td>\n",
       "      <td>7</td>\n",
       "      <td>75</td>\n",
       "    </tr>\n",
       "    <tr>\n",
       "      <th>3</th>\n",
       "      <td>1000</td>\n",
       "      <td>8</td>\n",
       "      <td>81</td>\n",
       "    </tr>\n",
       "    <tr>\n",
       "      <th>4</th>\n",
       "      <td>1000</td>\n",
       "      <td>9</td>\n",
       "      <td>57</td>\n",
       "    </tr>\n",
       "    <tr>\n",
       "      <th>...</th>\n",
       "      <td>...</td>\n",
       "      <td>...</td>\n",
       "      <td>...</td>\n",
       "    </tr>\n",
       "    <tr>\n",
       "      <th>2712</th>\n",
       "      <td>1498</td>\n",
       "      <td>10</td>\n",
       "      <td>42</td>\n",
       "    </tr>\n",
       "    <tr>\n",
       "      <th>2713</th>\n",
       "      <td>1499</td>\n",
       "      <td>9</td>\n",
       "      <td>11</td>\n",
       "    </tr>\n",
       "    <tr>\n",
       "      <th>2714</th>\n",
       "      <td>1499</td>\n",
       "      <td>10</td>\n",
       "      <td>48</td>\n",
       "    </tr>\n",
       "    <tr>\n",
       "      <th>2715</th>\n",
       "      <td>1499</td>\n",
       "      <td>11</td>\n",
       "      <td>59</td>\n",
       "    </tr>\n",
       "    <tr>\n",
       "      <th>2716</th>\n",
       "      <td>1499</td>\n",
       "      <td>12</td>\n",
       "      <td>66</td>\n",
       "    </tr>\n",
       "  </tbody>\n",
       "</table>\n",
       "<p>2717 rows × 3 columns</p>\n",
       "</div>"
      ],
      "text/plain": [
       "      user_id  month  messages\n",
       "0        1000      5        22\n",
       "1        1000      6        60\n",
       "2        1000      7        75\n",
       "3        1000      8        81\n",
       "4        1000      9        57\n",
       "...       ...    ...       ...\n",
       "2712     1498     10        42\n",
       "2713     1499      9        11\n",
       "2714     1499     10        48\n",
       "2715     1499     11        59\n",
       "2716     1499     12        66\n",
       "\n",
       "[2717 rows x 3 columns]"
      ]
     },
     "execution_count": 27,
     "metadata": {},
     "output_type": "execute_result"
    }
   ],
   "source": [
    "messages_pivot=messages.pivot_table(index = ['user_id', 'month'], values ='id', aggfunc ='count').reset_index()\n",
    "messages_pivot = messages_pivot.rename(columns = {'id':'messages'})\n",
    "messages_pivot"
   ]
  },
  {
   "cell_type": "code",
   "execution_count": 28,
   "metadata": {},
   "outputs": [
    {
     "data": {
      "text/html": [
       "<div>\n",
       "<style scoped>\n",
       "    .dataframe tbody tr th:only-of-type {\n",
       "        vertical-align: middle;\n",
       "    }\n",
       "\n",
       "    .dataframe tbody tr th {\n",
       "        vertical-align: top;\n",
       "    }\n",
       "\n",
       "    .dataframe thead th {\n",
       "        text-align: right;\n",
       "    }\n",
       "</style>\n",
       "<table border=\"1\" class=\"dataframe\">\n",
       "  <thead>\n",
       "    <tr style=\"text-align: right;\">\n",
       "      <th></th>\n",
       "      <th>user_id</th>\n",
       "      <th>month</th>\n",
       "      <th>duration</th>\n",
       "    </tr>\n",
       "  </thead>\n",
       "  <tbody>\n",
       "    <tr>\n",
       "      <th>0</th>\n",
       "      <td>1000</td>\n",
       "      <td>5</td>\n",
       "      <td>159</td>\n",
       "    </tr>\n",
       "    <tr>\n",
       "      <th>1</th>\n",
       "      <td>1000</td>\n",
       "      <td>6</td>\n",
       "      <td>172</td>\n",
       "    </tr>\n",
       "    <tr>\n",
       "      <th>2</th>\n",
       "      <td>1000</td>\n",
       "      <td>7</td>\n",
       "      <td>340</td>\n",
       "    </tr>\n",
       "    <tr>\n",
       "      <th>3</th>\n",
       "      <td>1000</td>\n",
       "      <td>8</td>\n",
       "      <td>408</td>\n",
       "    </tr>\n",
       "    <tr>\n",
       "      <th>4</th>\n",
       "      <td>1000</td>\n",
       "      <td>9</td>\n",
       "      <td>466</td>\n",
       "    </tr>\n",
       "    <tr>\n",
       "      <th>...</th>\n",
       "      <td>...</td>\n",
       "      <td>...</td>\n",
       "      <td>...</td>\n",
       "    </tr>\n",
       "    <tr>\n",
       "      <th>3169</th>\n",
       "      <td>1498</td>\n",
       "      <td>10</td>\n",
       "      <td>247</td>\n",
       "    </tr>\n",
       "    <tr>\n",
       "      <th>3170</th>\n",
       "      <td>1499</td>\n",
       "      <td>9</td>\n",
       "      <td>70</td>\n",
       "    </tr>\n",
       "    <tr>\n",
       "      <th>3171</th>\n",
       "      <td>1499</td>\n",
       "      <td>10</td>\n",
       "      <td>449</td>\n",
       "    </tr>\n",
       "    <tr>\n",
       "      <th>3172</th>\n",
       "      <td>1499</td>\n",
       "      <td>11</td>\n",
       "      <td>612</td>\n",
       "    </tr>\n",
       "    <tr>\n",
       "      <th>3173</th>\n",
       "      <td>1499</td>\n",
       "      <td>12</td>\n",
       "      <td>492</td>\n",
       "    </tr>\n",
       "  </tbody>\n",
       "</table>\n",
       "<p>3174 rows × 3 columns</p>\n",
       "</div>"
      ],
      "text/plain": [
       "      user_id  month  duration\n",
       "0        1000      5       159\n",
       "1        1000      6       172\n",
       "2        1000      7       340\n",
       "3        1000      8       408\n",
       "4        1000      9       466\n",
       "...       ...    ...       ...\n",
       "3169     1498     10       247\n",
       "3170     1499      9        70\n",
       "3171     1499     10       449\n",
       "3172     1499     11       612\n",
       "3173     1499     12       492\n",
       "\n",
       "[3174 rows x 3 columns]"
      ]
     },
     "execution_count": 28,
     "metadata": {},
     "output_type": "execute_result"
    }
   ],
   "source": [
    "calls_pivot = calls.pivot_table(index =['user_id', 'month'], values = 'duration', aggfunc = 'sum').reset_index()\n",
    "calls_pivot"
   ]
  },
  {
   "cell_type": "code",
   "execution_count": 29,
   "metadata": {},
   "outputs": [
    {
     "data": {
      "text/html": [
       "<div>\n",
       "<style scoped>\n",
       "    .dataframe tbody tr th:only-of-type {\n",
       "        vertical-align: middle;\n",
       "    }\n",
       "\n",
       "    .dataframe tbody tr th {\n",
       "        vertical-align: top;\n",
       "    }\n",
       "\n",
       "    .dataframe thead th {\n",
       "        text-align: right;\n",
       "    }\n",
       "</style>\n",
       "<table border=\"1\" class=\"dataframe\">\n",
       "  <thead>\n",
       "    <tr style=\"text-align: right;\">\n",
       "      <th></th>\n",
       "      <th>user_id</th>\n",
       "      <th>month</th>\n",
       "      <th>mb_used</th>\n",
       "      <th>gb_used</th>\n",
       "    </tr>\n",
       "  </thead>\n",
       "  <tbody>\n",
       "    <tr>\n",
       "      <th>0</th>\n",
       "      <td>1000</td>\n",
       "      <td>5</td>\n",
       "      <td>2253.49</td>\n",
       "      <td>3</td>\n",
       "    </tr>\n",
       "    <tr>\n",
       "      <th>1</th>\n",
       "      <td>1000</td>\n",
       "      <td>6</td>\n",
       "      <td>23233.77</td>\n",
       "      <td>23</td>\n",
       "    </tr>\n",
       "    <tr>\n",
       "      <th>2</th>\n",
       "      <td>1000</td>\n",
       "      <td>7</td>\n",
       "      <td>14003.64</td>\n",
       "      <td>14</td>\n",
       "    </tr>\n",
       "    <tr>\n",
       "      <th>3</th>\n",
       "      <td>1000</td>\n",
       "      <td>8</td>\n",
       "      <td>14055.93</td>\n",
       "      <td>14</td>\n",
       "    </tr>\n",
       "    <tr>\n",
       "      <th>4</th>\n",
       "      <td>1000</td>\n",
       "      <td>9</td>\n",
       "      <td>14568.91</td>\n",
       "      <td>15</td>\n",
       "    </tr>\n",
       "    <tr>\n",
       "      <th>...</th>\n",
       "      <td>...</td>\n",
       "      <td>...</td>\n",
       "      <td>...</td>\n",
       "      <td>...</td>\n",
       "    </tr>\n",
       "    <tr>\n",
       "      <th>3196</th>\n",
       "      <td>1498</td>\n",
       "      <td>10</td>\n",
       "      <td>20579.36</td>\n",
       "      <td>21</td>\n",
       "    </tr>\n",
       "    <tr>\n",
       "      <th>3197</th>\n",
       "      <td>1499</td>\n",
       "      <td>9</td>\n",
       "      <td>1845.75</td>\n",
       "      <td>2</td>\n",
       "    </tr>\n",
       "    <tr>\n",
       "      <th>3198</th>\n",
       "      <td>1499</td>\n",
       "      <td>10</td>\n",
       "      <td>17788.51</td>\n",
       "      <td>18</td>\n",
       "    </tr>\n",
       "    <tr>\n",
       "      <th>3199</th>\n",
       "      <td>1499</td>\n",
       "      <td>11</td>\n",
       "      <td>17963.31</td>\n",
       "      <td>18</td>\n",
       "    </tr>\n",
       "    <tr>\n",
       "      <th>3200</th>\n",
       "      <td>1499</td>\n",
       "      <td>12</td>\n",
       "      <td>13055.58</td>\n",
       "      <td>13</td>\n",
       "    </tr>\n",
       "  </tbody>\n",
       "</table>\n",
       "<p>3201 rows × 4 columns</p>\n",
       "</div>"
      ],
      "text/plain": [
       "      user_id  month   mb_used  gb_used\n",
       "0        1000      5   2253.49        3\n",
       "1        1000      6  23233.77       23\n",
       "2        1000      7  14003.64       14\n",
       "3        1000      8  14055.93       14\n",
       "4        1000      9  14568.91       15\n",
       "...       ...    ...       ...      ...\n",
       "3196     1498     10  20579.36       21\n",
       "3197     1499      9   1845.75        2\n",
       "3198     1499     10  17788.51       18\n",
       "3199     1499     11  17963.31       18\n",
       "3200     1499     12  13055.58       13\n",
       "\n",
       "[3201 rows x 4 columns]"
      ]
     },
     "execution_count": 29,
     "metadata": {},
     "output_type": "execute_result"
    }
   ],
   "source": [
    "internet_pivot = internet.pivot_table(index = ['user_id', 'month'], values = 'mb_used', aggfunc = 'sum').reset_index()\n",
    "internet_pivot['gb_used'] = (internet_pivot['mb_used']/1024).apply(math.ceil)\n",
    "internet_pivot"
   ]
  },
  {
   "cell_type": "code",
   "execution_count": 30,
   "metadata": {},
   "outputs": [],
   "source": [
    "tariffs = tariffs.rename(columns = {'tariff_name':'tariff'})"
   ]
  },
  {
   "cell_type": "markdown",
   "metadata": {},
   "source": [
    "Объединим полученные данные в одну таблицу, а также добавим данные по количеству доступных минут, смс и гб из таблицы с тарифами"
   ]
  },
  {
   "cell_type": "code",
   "execution_count": 31,
   "metadata": {},
   "outputs": [
    {
     "data": {
      "text/html": [
       "<div>\n",
       "<style scoped>\n",
       "    .dataframe tbody tr th:only-of-type {\n",
       "        vertical-align: middle;\n",
       "    }\n",
       "\n",
       "    .dataframe tbody tr th {\n",
       "        vertical-align: top;\n",
       "    }\n",
       "\n",
       "    .dataframe thead th {\n",
       "        text-align: right;\n",
       "    }\n",
       "</style>\n",
       "<table border=\"1\" class=\"dataframe\">\n",
       "  <thead>\n",
       "    <tr style=\"text-align: right;\">\n",
       "      <th></th>\n",
       "      <th>user_id</th>\n",
       "      <th>age</th>\n",
       "      <th>churn_date</th>\n",
       "      <th>city</th>\n",
       "      <th>first_name</th>\n",
       "      <th>last_name</th>\n",
       "      <th>reg_date</th>\n",
       "      <th>tariff</th>\n",
       "      <th>is_active</th>\n",
       "    </tr>\n",
       "  </thead>\n",
       "  <tbody>\n",
       "    <tr>\n",
       "      <th>0</th>\n",
       "      <td>1000</td>\n",
       "      <td>52</td>\n",
       "      <td>NaT</td>\n",
       "      <td>Краснодар</td>\n",
       "      <td>Рафаил</td>\n",
       "      <td>Верещагин</td>\n",
       "      <td>2018-05-25</td>\n",
       "      <td>ultra</td>\n",
       "      <td>True</td>\n",
       "    </tr>\n",
       "    <tr>\n",
       "      <th>1</th>\n",
       "      <td>1001</td>\n",
       "      <td>41</td>\n",
       "      <td>NaT</td>\n",
       "      <td>Москва</td>\n",
       "      <td>Иван</td>\n",
       "      <td>Ежов</td>\n",
       "      <td>2018-11-01</td>\n",
       "      <td>smart</td>\n",
       "      <td>True</td>\n",
       "    </tr>\n",
       "    <tr>\n",
       "      <th>2</th>\n",
       "      <td>1002</td>\n",
       "      <td>59</td>\n",
       "      <td>NaT</td>\n",
       "      <td>Стерлитамак</td>\n",
       "      <td>Евгений</td>\n",
       "      <td>Абрамович</td>\n",
       "      <td>2018-06-17</td>\n",
       "      <td>smart</td>\n",
       "      <td>True</td>\n",
       "    </tr>\n",
       "    <tr>\n",
       "      <th>3</th>\n",
       "      <td>1003</td>\n",
       "      <td>23</td>\n",
       "      <td>NaT</td>\n",
       "      <td>Москва</td>\n",
       "      <td>Белла</td>\n",
       "      <td>Белякова</td>\n",
       "      <td>2018-08-17</td>\n",
       "      <td>ultra</td>\n",
       "      <td>True</td>\n",
       "    </tr>\n",
       "    <tr>\n",
       "      <th>4</th>\n",
       "      <td>1004</td>\n",
       "      <td>68</td>\n",
       "      <td>NaT</td>\n",
       "      <td>Новокузнецк</td>\n",
       "      <td>Татьяна</td>\n",
       "      <td>Авдеенко</td>\n",
       "      <td>2018-05-14</td>\n",
       "      <td>ultra</td>\n",
       "      <td>True</td>\n",
       "    </tr>\n",
       "    <tr>\n",
       "      <th>...</th>\n",
       "      <td>...</td>\n",
       "      <td>...</td>\n",
       "      <td>...</td>\n",
       "      <td>...</td>\n",
       "      <td>...</td>\n",
       "      <td>...</td>\n",
       "      <td>...</td>\n",
       "      <td>...</td>\n",
       "      <td>...</td>\n",
       "    </tr>\n",
       "    <tr>\n",
       "      <th>495</th>\n",
       "      <td>1495</td>\n",
       "      <td>65</td>\n",
       "      <td>NaT</td>\n",
       "      <td>Иркутск</td>\n",
       "      <td>Авксентий</td>\n",
       "      <td>Фокин</td>\n",
       "      <td>2018-08-28</td>\n",
       "      <td>ultra</td>\n",
       "      <td>True</td>\n",
       "    </tr>\n",
       "    <tr>\n",
       "      <th>496</th>\n",
       "      <td>1496</td>\n",
       "      <td>36</td>\n",
       "      <td>NaT</td>\n",
       "      <td>Вологда</td>\n",
       "      <td>Трифон</td>\n",
       "      <td>Блохин</td>\n",
       "      <td>2018-01-27</td>\n",
       "      <td>smart</td>\n",
       "      <td>True</td>\n",
       "    </tr>\n",
       "    <tr>\n",
       "      <th>497</th>\n",
       "      <td>1497</td>\n",
       "      <td>32</td>\n",
       "      <td>NaT</td>\n",
       "      <td>Челябинск</td>\n",
       "      <td>Каролина</td>\n",
       "      <td>Агеева</td>\n",
       "      <td>2018-10-09</td>\n",
       "      <td>smart</td>\n",
       "      <td>True</td>\n",
       "    </tr>\n",
       "    <tr>\n",
       "      <th>498</th>\n",
       "      <td>1498</td>\n",
       "      <td>68</td>\n",
       "      <td>2018-10-25</td>\n",
       "      <td>Владикавказ</td>\n",
       "      <td>Всеволод</td>\n",
       "      <td>Акимчин</td>\n",
       "      <td>2018-07-19</td>\n",
       "      <td>smart</td>\n",
       "      <td>False</td>\n",
       "    </tr>\n",
       "    <tr>\n",
       "      <th>499</th>\n",
       "      <td>1499</td>\n",
       "      <td>35</td>\n",
       "      <td>NaT</td>\n",
       "      <td>Пермь</td>\n",
       "      <td>Гектор</td>\n",
       "      <td>Корнилов</td>\n",
       "      <td>2018-09-27</td>\n",
       "      <td>smart</td>\n",
       "      <td>True</td>\n",
       "    </tr>\n",
       "  </tbody>\n",
       "</table>\n",
       "<p>500 rows × 9 columns</p>\n",
       "</div>"
      ],
      "text/plain": [
       "     user_id  age churn_date         city first_name  last_name   reg_date  \\\n",
       "0       1000   52        NaT    Краснодар     Рафаил  Верещагин 2018-05-25   \n",
       "1       1001   41        NaT       Москва       Иван       Ежов 2018-11-01   \n",
       "2       1002   59        NaT  Стерлитамак    Евгений  Абрамович 2018-06-17   \n",
       "3       1003   23        NaT       Москва      Белла   Белякова 2018-08-17   \n",
       "4       1004   68        NaT  Новокузнецк    Татьяна   Авдеенко 2018-05-14   \n",
       "..       ...  ...        ...          ...        ...        ...        ...   \n",
       "495     1495   65        NaT      Иркутск  Авксентий      Фокин 2018-08-28   \n",
       "496     1496   36        NaT      Вологда     Трифон     Блохин 2018-01-27   \n",
       "497     1497   32        NaT    Челябинск   Каролина     Агеева 2018-10-09   \n",
       "498     1498   68 2018-10-25  Владикавказ   Всеволод    Акимчин 2018-07-19   \n",
       "499     1499   35        NaT        Пермь     Гектор   Корнилов 2018-09-27   \n",
       "\n",
       "    tariff  is_active  \n",
       "0    ultra       True  \n",
       "1    smart       True  \n",
       "2    smart       True  \n",
       "3    ultra       True  \n",
       "4    ultra       True  \n",
       "..     ...        ...  \n",
       "495  ultra       True  \n",
       "496  smart       True  \n",
       "497  smart       True  \n",
       "498  smart      False  \n",
       "499  smart       True  \n",
       "\n",
       "[500 rows x 9 columns]"
      ]
     },
     "execution_count": 31,
     "metadata": {},
     "output_type": "execute_result"
    }
   ],
   "source": [
    "users"
   ]
  },
  {
   "cell_type": "markdown",
   "metadata": {},
   "source": [
    "Создадим пустой фрейм с уникальными id клиентов и месяцами для дальнейшего мерджа с таблицами"
   ]
  },
  {
   "cell_type": "code",
   "execution_count": 32,
   "metadata": {},
   "outputs": [
    {
     "data": {
      "text/html": [
       "<div>\n",
       "<style scoped>\n",
       "    .dataframe tbody tr th:only-of-type {\n",
       "        vertical-align: middle;\n",
       "    }\n",
       "\n",
       "    .dataframe tbody tr th {\n",
       "        vertical-align: top;\n",
       "    }\n",
       "\n",
       "    .dataframe thead th {\n",
       "        text-align: right;\n",
       "    }\n",
       "</style>\n",
       "<table border=\"1\" class=\"dataframe\">\n",
       "  <thead>\n",
       "    <tr style=\"text-align: right;\">\n",
       "      <th></th>\n",
       "      <th>user_id</th>\n",
       "      <th>month</th>\n",
       "    </tr>\n",
       "  </thead>\n",
       "  <tbody>\n",
       "    <tr>\n",
       "      <th>0</th>\n",
       "      <td>1000</td>\n",
       "      <td>1</td>\n",
       "    </tr>\n",
       "    <tr>\n",
       "      <th>1</th>\n",
       "      <td>1000</td>\n",
       "      <td>2</td>\n",
       "    </tr>\n",
       "    <tr>\n",
       "      <th>2</th>\n",
       "      <td>1000</td>\n",
       "      <td>3</td>\n",
       "    </tr>\n",
       "    <tr>\n",
       "      <th>3</th>\n",
       "      <td>1000</td>\n",
       "      <td>4</td>\n",
       "    </tr>\n",
       "    <tr>\n",
       "      <th>4</th>\n",
       "      <td>1000</td>\n",
       "      <td>5</td>\n",
       "    </tr>\n",
       "    <tr>\n",
       "      <th>...</th>\n",
       "      <td>...</td>\n",
       "      <td>...</td>\n",
       "    </tr>\n",
       "    <tr>\n",
       "      <th>5995</th>\n",
       "      <td>1499</td>\n",
       "      <td>8</td>\n",
       "    </tr>\n",
       "    <tr>\n",
       "      <th>5996</th>\n",
       "      <td>1499</td>\n",
       "      <td>9</td>\n",
       "    </tr>\n",
       "    <tr>\n",
       "      <th>5997</th>\n",
       "      <td>1499</td>\n",
       "      <td>10</td>\n",
       "    </tr>\n",
       "    <tr>\n",
       "      <th>5998</th>\n",
       "      <td>1499</td>\n",
       "      <td>11</td>\n",
       "    </tr>\n",
       "    <tr>\n",
       "      <th>5999</th>\n",
       "      <td>1499</td>\n",
       "      <td>12</td>\n",
       "    </tr>\n",
       "  </tbody>\n",
       "</table>\n",
       "<p>6000 rows × 2 columns</p>\n",
       "</div>"
      ],
      "text/plain": [
       "      user_id  month\n",
       "0        1000      1\n",
       "1        1000      2\n",
       "2        1000      3\n",
       "3        1000      4\n",
       "4        1000      5\n",
       "...       ...    ...\n",
       "5995     1499      8\n",
       "5996     1499      9\n",
       "5997     1499     10\n",
       "5998     1499     11\n",
       "5999     1499     12\n",
       "\n",
       "[6000 rows x 2 columns]"
      ]
     },
     "execution_count": 32,
     "metadata": {},
     "output_type": "execute_result"
    }
   ],
   "source": [
    "user_id = users.user_id.unique()\n",
    "month = [1,2,3,4,5,6,7,8,9,10,11,12]\n",
    "\n",
    "index = pd.MultiIndex.from_product([user_id, month], names = [\"user_id\", \"month\"])\n",
    "\n",
    "general_users = pd.DataFrame(index = index).reset_index()\n",
    "general_users"
   ]
  },
  {
   "cell_type": "code",
   "execution_count": 33,
   "metadata": {},
   "outputs": [
    {
     "data": {
      "text/html": [
       "<div>\n",
       "<style scoped>\n",
       "    .dataframe tbody tr th:only-of-type {\n",
       "        vertical-align: middle;\n",
       "    }\n",
       "\n",
       "    .dataframe tbody tr th {\n",
       "        vertical-align: top;\n",
       "    }\n",
       "\n",
       "    .dataframe thead th {\n",
       "        text-align: right;\n",
       "    }\n",
       "</style>\n",
       "<table border=\"1\" class=\"dataframe\">\n",
       "  <thead>\n",
       "    <tr style=\"text-align: right;\">\n",
       "      <th></th>\n",
       "      <th>user_id</th>\n",
       "      <th>month</th>\n",
       "      <th>city</th>\n",
       "      <th>tariff</th>\n",
       "      <th>is_active</th>\n",
       "      <th>duration</th>\n",
       "      <th>messages</th>\n",
       "      <th>gb_used</th>\n",
       "      <th>messages_included</th>\n",
       "      <th>gb_per_month_included</th>\n",
       "      <th>minutes_included</th>\n",
       "      <th>rub_monthly_fee</th>\n",
       "      <th>rub_per_gb</th>\n",
       "      <th>rub_per_message</th>\n",
       "      <th>rub_per_minute</th>\n",
       "    </tr>\n",
       "  </thead>\n",
       "  <tbody>\n",
       "    <tr>\n",
       "      <th>0</th>\n",
       "      <td>1000</td>\n",
       "      <td>1</td>\n",
       "      <td>Краснодар</td>\n",
       "      <td>ultra</td>\n",
       "      <td>True</td>\n",
       "      <td>NaN</td>\n",
       "      <td>NaN</td>\n",
       "      <td>NaN</td>\n",
       "      <td>1000</td>\n",
       "      <td>30</td>\n",
       "      <td>3000</td>\n",
       "      <td>1950</td>\n",
       "      <td>150</td>\n",
       "      <td>1</td>\n",
       "      <td>1</td>\n",
       "    </tr>\n",
       "    <tr>\n",
       "      <th>1</th>\n",
       "      <td>1000</td>\n",
       "      <td>2</td>\n",
       "      <td>Краснодар</td>\n",
       "      <td>ultra</td>\n",
       "      <td>True</td>\n",
       "      <td>NaN</td>\n",
       "      <td>NaN</td>\n",
       "      <td>NaN</td>\n",
       "      <td>1000</td>\n",
       "      <td>30</td>\n",
       "      <td>3000</td>\n",
       "      <td>1950</td>\n",
       "      <td>150</td>\n",
       "      <td>1</td>\n",
       "      <td>1</td>\n",
       "    </tr>\n",
       "    <tr>\n",
       "      <th>2</th>\n",
       "      <td>1000</td>\n",
       "      <td>3</td>\n",
       "      <td>Краснодар</td>\n",
       "      <td>ultra</td>\n",
       "      <td>True</td>\n",
       "      <td>NaN</td>\n",
       "      <td>NaN</td>\n",
       "      <td>NaN</td>\n",
       "      <td>1000</td>\n",
       "      <td>30</td>\n",
       "      <td>3000</td>\n",
       "      <td>1950</td>\n",
       "      <td>150</td>\n",
       "      <td>1</td>\n",
       "      <td>1</td>\n",
       "    </tr>\n",
       "    <tr>\n",
       "      <th>3</th>\n",
       "      <td>1000</td>\n",
       "      <td>4</td>\n",
       "      <td>Краснодар</td>\n",
       "      <td>ultra</td>\n",
       "      <td>True</td>\n",
       "      <td>NaN</td>\n",
       "      <td>NaN</td>\n",
       "      <td>NaN</td>\n",
       "      <td>1000</td>\n",
       "      <td>30</td>\n",
       "      <td>3000</td>\n",
       "      <td>1950</td>\n",
       "      <td>150</td>\n",
       "      <td>1</td>\n",
       "      <td>1</td>\n",
       "    </tr>\n",
       "    <tr>\n",
       "      <th>4</th>\n",
       "      <td>1000</td>\n",
       "      <td>5</td>\n",
       "      <td>Краснодар</td>\n",
       "      <td>ultra</td>\n",
       "      <td>True</td>\n",
       "      <td>159.0</td>\n",
       "      <td>22.0</td>\n",
       "      <td>3.0</td>\n",
       "      <td>1000</td>\n",
       "      <td>30</td>\n",
       "      <td>3000</td>\n",
       "      <td>1950</td>\n",
       "      <td>150</td>\n",
       "      <td>1</td>\n",
       "      <td>1</td>\n",
       "    </tr>\n",
       "    <tr>\n",
       "      <th>...</th>\n",
       "      <td>...</td>\n",
       "      <td>...</td>\n",
       "      <td>...</td>\n",
       "      <td>...</td>\n",
       "      <td>...</td>\n",
       "      <td>...</td>\n",
       "      <td>...</td>\n",
       "      <td>...</td>\n",
       "      <td>...</td>\n",
       "      <td>...</td>\n",
       "      <td>...</td>\n",
       "      <td>...</td>\n",
       "      <td>...</td>\n",
       "      <td>...</td>\n",
       "      <td>...</td>\n",
       "    </tr>\n",
       "    <tr>\n",
       "      <th>5995</th>\n",
       "      <td>1499</td>\n",
       "      <td>8</td>\n",
       "      <td>Пермь</td>\n",
       "      <td>smart</td>\n",
       "      <td>True</td>\n",
       "      <td>NaN</td>\n",
       "      <td>NaN</td>\n",
       "      <td>NaN</td>\n",
       "      <td>50</td>\n",
       "      <td>15</td>\n",
       "      <td>500</td>\n",
       "      <td>550</td>\n",
       "      <td>200</td>\n",
       "      <td>3</td>\n",
       "      <td>3</td>\n",
       "    </tr>\n",
       "    <tr>\n",
       "      <th>5996</th>\n",
       "      <td>1499</td>\n",
       "      <td>9</td>\n",
       "      <td>Пермь</td>\n",
       "      <td>smart</td>\n",
       "      <td>True</td>\n",
       "      <td>70.0</td>\n",
       "      <td>11.0</td>\n",
       "      <td>2.0</td>\n",
       "      <td>50</td>\n",
       "      <td>15</td>\n",
       "      <td>500</td>\n",
       "      <td>550</td>\n",
       "      <td>200</td>\n",
       "      <td>3</td>\n",
       "      <td>3</td>\n",
       "    </tr>\n",
       "    <tr>\n",
       "      <th>5997</th>\n",
       "      <td>1499</td>\n",
       "      <td>10</td>\n",
       "      <td>Пермь</td>\n",
       "      <td>smart</td>\n",
       "      <td>True</td>\n",
       "      <td>449.0</td>\n",
       "      <td>48.0</td>\n",
       "      <td>18.0</td>\n",
       "      <td>50</td>\n",
       "      <td>15</td>\n",
       "      <td>500</td>\n",
       "      <td>550</td>\n",
       "      <td>200</td>\n",
       "      <td>3</td>\n",
       "      <td>3</td>\n",
       "    </tr>\n",
       "    <tr>\n",
       "      <th>5998</th>\n",
       "      <td>1499</td>\n",
       "      <td>11</td>\n",
       "      <td>Пермь</td>\n",
       "      <td>smart</td>\n",
       "      <td>True</td>\n",
       "      <td>612.0</td>\n",
       "      <td>59.0</td>\n",
       "      <td>18.0</td>\n",
       "      <td>50</td>\n",
       "      <td>15</td>\n",
       "      <td>500</td>\n",
       "      <td>550</td>\n",
       "      <td>200</td>\n",
       "      <td>3</td>\n",
       "      <td>3</td>\n",
       "    </tr>\n",
       "    <tr>\n",
       "      <th>5999</th>\n",
       "      <td>1499</td>\n",
       "      <td>12</td>\n",
       "      <td>Пермь</td>\n",
       "      <td>smart</td>\n",
       "      <td>True</td>\n",
       "      <td>492.0</td>\n",
       "      <td>66.0</td>\n",
       "      <td>13.0</td>\n",
       "      <td>50</td>\n",
       "      <td>15</td>\n",
       "      <td>500</td>\n",
       "      <td>550</td>\n",
       "      <td>200</td>\n",
       "      <td>3</td>\n",
       "      <td>3</td>\n",
       "    </tr>\n",
       "  </tbody>\n",
       "</table>\n",
       "<p>6000 rows × 15 columns</p>\n",
       "</div>"
      ],
      "text/plain": [
       "      user_id  month       city tariff  is_active  duration  messages  \\\n",
       "0        1000      1  Краснодар  ultra       True       NaN       NaN   \n",
       "1        1000      2  Краснодар  ultra       True       NaN       NaN   \n",
       "2        1000      3  Краснодар  ultra       True       NaN       NaN   \n",
       "3        1000      4  Краснодар  ultra       True       NaN       NaN   \n",
       "4        1000      5  Краснодар  ultra       True     159.0      22.0   \n",
       "...       ...    ...        ...    ...        ...       ...       ...   \n",
       "5995     1499      8      Пермь  smart       True       NaN       NaN   \n",
       "5996     1499      9      Пермь  smart       True      70.0      11.0   \n",
       "5997     1499     10      Пермь  smart       True     449.0      48.0   \n",
       "5998     1499     11      Пермь  smart       True     612.0      59.0   \n",
       "5999     1499     12      Пермь  smart       True     492.0      66.0   \n",
       "\n",
       "      gb_used  messages_included  gb_per_month_included  minutes_included  \\\n",
       "0         NaN               1000                     30              3000   \n",
       "1         NaN               1000                     30              3000   \n",
       "2         NaN               1000                     30              3000   \n",
       "3         NaN               1000                     30              3000   \n",
       "4         3.0               1000                     30              3000   \n",
       "...       ...                ...                    ...               ...   \n",
       "5995      NaN                 50                     15               500   \n",
       "5996      2.0                 50                     15               500   \n",
       "5997     18.0                 50                     15               500   \n",
       "5998     18.0                 50                     15               500   \n",
       "5999     13.0                 50                     15               500   \n",
       "\n",
       "      rub_monthly_fee  rub_per_gb  rub_per_message  rub_per_minute  \n",
       "0                1950         150                1               1  \n",
       "1                1950         150                1               1  \n",
       "2                1950         150                1               1  \n",
       "3                1950         150                1               1  \n",
       "4                1950         150                1               1  \n",
       "...               ...         ...              ...             ...  \n",
       "5995              550         200                3               3  \n",
       "5996              550         200                3               3  \n",
       "5997              550         200                3               3  \n",
       "5998              550         200                3               3  \n",
       "5999              550         200                3               3  \n",
       "\n",
       "[6000 rows x 15 columns]"
      ]
     },
     "execution_count": 33,
     "metadata": {},
     "output_type": "execute_result"
    }
   ],
   "source": [
    "general_users = (general_users\n",
    "                 .merge(users[['user_id', 'city', 'tariff', 'is_active']], on = 'user_id', how = 'left')\n",
    "                 .merge(calls_pivot, on = ['user_id', 'month'], how = 'left')\n",
    "                 .merge(messages_pivot, on = ['user_id', 'month'], how = 'left')\n",
    "                 .merge(internet_pivot, on = ['user_id', 'month'], how = 'left')\n",
    "                 .merge(tariffs, on = 'tariff')\n",
    ")\n",
    "general_users = general_users.drop(columns = 'mb_used')\n",
    "general_users"
   ]
  },
  {
   "cell_type": "code",
   "execution_count": 34,
   "metadata": {},
   "outputs": [
    {
     "data": {
      "text/plain": [
       "(500,)"
      ]
     },
     "execution_count": 34,
     "metadata": {},
     "output_type": "execute_result"
    }
   ],
   "source": [
    "general_users.user_id.unique().shape"
   ]
  },
  {
   "cell_type": "markdown",
   "metadata": {},
   "source": [
    "Для того, чтобы не учитывать абонентскую плату по месяцам, в которых пользователи не пользовались пакетом (такие месяца полчились из-за способа сбора данных), удалим такие месяца из датафрейма"
   ]
  },
  {
   "cell_type": "code",
   "execution_count": 35,
   "metadata": {},
   "outputs": [
    {
     "data": {
      "text/html": [
       "<div>\n",
       "<style scoped>\n",
       "    .dataframe tbody tr th:only-of-type {\n",
       "        vertical-align: middle;\n",
       "    }\n",
       "\n",
       "    .dataframe tbody tr th {\n",
       "        vertical-align: top;\n",
       "    }\n",
       "\n",
       "    .dataframe thead th {\n",
       "        text-align: right;\n",
       "    }\n",
       "</style>\n",
       "<table border=\"1\" class=\"dataframe\">\n",
       "  <thead>\n",
       "    <tr style=\"text-align: right;\">\n",
       "      <th></th>\n",
       "      <th>index</th>\n",
       "      <th>user_id</th>\n",
       "      <th>month</th>\n",
       "      <th>city</th>\n",
       "      <th>tariff</th>\n",
       "      <th>is_active</th>\n",
       "      <th>duration</th>\n",
       "      <th>messages</th>\n",
       "      <th>gb_used</th>\n",
       "      <th>messages_included</th>\n",
       "      <th>gb_per_month_included</th>\n",
       "      <th>minutes_included</th>\n",
       "      <th>rub_monthly_fee</th>\n",
       "      <th>rub_per_gb</th>\n",
       "      <th>rub_per_message</th>\n",
       "      <th>rub_per_minute</th>\n",
       "    </tr>\n",
       "  </thead>\n",
       "  <tbody>\n",
       "    <tr>\n",
       "      <th>0</th>\n",
       "      <td>4</td>\n",
       "      <td>1000</td>\n",
       "      <td>5</td>\n",
       "      <td>Краснодар</td>\n",
       "      <td>ultra</td>\n",
       "      <td>True</td>\n",
       "      <td>159.0</td>\n",
       "      <td>22.0</td>\n",
       "      <td>3.0</td>\n",
       "      <td>1000</td>\n",
       "      <td>30</td>\n",
       "      <td>3000</td>\n",
       "      <td>1950</td>\n",
       "      <td>150</td>\n",
       "      <td>1</td>\n",
       "      <td>1</td>\n",
       "    </tr>\n",
       "    <tr>\n",
       "      <th>1</th>\n",
       "      <td>5</td>\n",
       "      <td>1000</td>\n",
       "      <td>6</td>\n",
       "      <td>Краснодар</td>\n",
       "      <td>ultra</td>\n",
       "      <td>True</td>\n",
       "      <td>172.0</td>\n",
       "      <td>60.0</td>\n",
       "      <td>23.0</td>\n",
       "      <td>1000</td>\n",
       "      <td>30</td>\n",
       "      <td>3000</td>\n",
       "      <td>1950</td>\n",
       "      <td>150</td>\n",
       "      <td>1</td>\n",
       "      <td>1</td>\n",
       "    </tr>\n",
       "    <tr>\n",
       "      <th>2</th>\n",
       "      <td>6</td>\n",
       "      <td>1000</td>\n",
       "      <td>7</td>\n",
       "      <td>Краснодар</td>\n",
       "      <td>ultra</td>\n",
       "      <td>True</td>\n",
       "      <td>340.0</td>\n",
       "      <td>75.0</td>\n",
       "      <td>14.0</td>\n",
       "      <td>1000</td>\n",
       "      <td>30</td>\n",
       "      <td>3000</td>\n",
       "      <td>1950</td>\n",
       "      <td>150</td>\n",
       "      <td>1</td>\n",
       "      <td>1</td>\n",
       "    </tr>\n",
       "    <tr>\n",
       "      <th>3</th>\n",
       "      <td>7</td>\n",
       "      <td>1000</td>\n",
       "      <td>8</td>\n",
       "      <td>Краснодар</td>\n",
       "      <td>ultra</td>\n",
       "      <td>True</td>\n",
       "      <td>408.0</td>\n",
       "      <td>81.0</td>\n",
       "      <td>14.0</td>\n",
       "      <td>1000</td>\n",
       "      <td>30</td>\n",
       "      <td>3000</td>\n",
       "      <td>1950</td>\n",
       "      <td>150</td>\n",
       "      <td>1</td>\n",
       "      <td>1</td>\n",
       "    </tr>\n",
       "    <tr>\n",
       "      <th>4</th>\n",
       "      <td>8</td>\n",
       "      <td>1000</td>\n",
       "      <td>9</td>\n",
       "      <td>Краснодар</td>\n",
       "      <td>ultra</td>\n",
       "      <td>True</td>\n",
       "      <td>466.0</td>\n",
       "      <td>57.0</td>\n",
       "      <td>15.0</td>\n",
       "      <td>1000</td>\n",
       "      <td>30</td>\n",
       "      <td>3000</td>\n",
       "      <td>1950</td>\n",
       "      <td>150</td>\n",
       "      <td>1</td>\n",
       "      <td>1</td>\n",
       "    </tr>\n",
       "    <tr>\n",
       "      <th>...</th>\n",
       "      <td>...</td>\n",
       "      <td>...</td>\n",
       "      <td>...</td>\n",
       "      <td>...</td>\n",
       "      <td>...</td>\n",
       "      <td>...</td>\n",
       "      <td>...</td>\n",
       "      <td>...</td>\n",
       "      <td>...</td>\n",
       "      <td>...</td>\n",
       "      <td>...</td>\n",
       "      <td>...</td>\n",
       "      <td>...</td>\n",
       "      <td>...</td>\n",
       "      <td>...</td>\n",
       "      <td>...</td>\n",
       "    </tr>\n",
       "    <tr>\n",
       "      <th>3209</th>\n",
       "      <td>5985</td>\n",
       "      <td>1498</td>\n",
       "      <td>10</td>\n",
       "      <td>Владикавказ</td>\n",
       "      <td>smart</td>\n",
       "      <td>False</td>\n",
       "      <td>247.0</td>\n",
       "      <td>42.0</td>\n",
       "      <td>21.0</td>\n",
       "      <td>50</td>\n",
       "      <td>15</td>\n",
       "      <td>500</td>\n",
       "      <td>550</td>\n",
       "      <td>200</td>\n",
       "      <td>3</td>\n",
       "      <td>3</td>\n",
       "    </tr>\n",
       "    <tr>\n",
       "      <th>3210</th>\n",
       "      <td>5996</td>\n",
       "      <td>1499</td>\n",
       "      <td>9</td>\n",
       "      <td>Пермь</td>\n",
       "      <td>smart</td>\n",
       "      <td>True</td>\n",
       "      <td>70.0</td>\n",
       "      <td>11.0</td>\n",
       "      <td>2.0</td>\n",
       "      <td>50</td>\n",
       "      <td>15</td>\n",
       "      <td>500</td>\n",
       "      <td>550</td>\n",
       "      <td>200</td>\n",
       "      <td>3</td>\n",
       "      <td>3</td>\n",
       "    </tr>\n",
       "    <tr>\n",
       "      <th>3211</th>\n",
       "      <td>5997</td>\n",
       "      <td>1499</td>\n",
       "      <td>10</td>\n",
       "      <td>Пермь</td>\n",
       "      <td>smart</td>\n",
       "      <td>True</td>\n",
       "      <td>449.0</td>\n",
       "      <td>48.0</td>\n",
       "      <td>18.0</td>\n",
       "      <td>50</td>\n",
       "      <td>15</td>\n",
       "      <td>500</td>\n",
       "      <td>550</td>\n",
       "      <td>200</td>\n",
       "      <td>3</td>\n",
       "      <td>3</td>\n",
       "    </tr>\n",
       "    <tr>\n",
       "      <th>3212</th>\n",
       "      <td>5998</td>\n",
       "      <td>1499</td>\n",
       "      <td>11</td>\n",
       "      <td>Пермь</td>\n",
       "      <td>smart</td>\n",
       "      <td>True</td>\n",
       "      <td>612.0</td>\n",
       "      <td>59.0</td>\n",
       "      <td>18.0</td>\n",
       "      <td>50</td>\n",
       "      <td>15</td>\n",
       "      <td>500</td>\n",
       "      <td>550</td>\n",
       "      <td>200</td>\n",
       "      <td>3</td>\n",
       "      <td>3</td>\n",
       "    </tr>\n",
       "    <tr>\n",
       "      <th>3213</th>\n",
       "      <td>5999</td>\n",
       "      <td>1499</td>\n",
       "      <td>12</td>\n",
       "      <td>Пермь</td>\n",
       "      <td>smart</td>\n",
       "      <td>True</td>\n",
       "      <td>492.0</td>\n",
       "      <td>66.0</td>\n",
       "      <td>13.0</td>\n",
       "      <td>50</td>\n",
       "      <td>15</td>\n",
       "      <td>500</td>\n",
       "      <td>550</td>\n",
       "      <td>200</td>\n",
       "      <td>3</td>\n",
       "      <td>3</td>\n",
       "    </tr>\n",
       "  </tbody>\n",
       "</table>\n",
       "<p>3214 rows × 16 columns</p>\n",
       "</div>"
      ],
      "text/plain": [
       "      index  user_id  month         city tariff  is_active  duration  \\\n",
       "0         4     1000      5    Краснодар  ultra       True     159.0   \n",
       "1         5     1000      6    Краснодар  ultra       True     172.0   \n",
       "2         6     1000      7    Краснодар  ultra       True     340.0   \n",
       "3         7     1000      8    Краснодар  ultra       True     408.0   \n",
       "4         8     1000      9    Краснодар  ultra       True     466.0   \n",
       "...     ...      ...    ...          ...    ...        ...       ...   \n",
       "3209   5985     1498     10  Владикавказ  smart      False     247.0   \n",
       "3210   5996     1499      9        Пермь  smart       True      70.0   \n",
       "3211   5997     1499     10        Пермь  smart       True     449.0   \n",
       "3212   5998     1499     11        Пермь  smart       True     612.0   \n",
       "3213   5999     1499     12        Пермь  smart       True     492.0   \n",
       "\n",
       "      messages  gb_used  messages_included  gb_per_month_included  \\\n",
       "0         22.0      3.0               1000                     30   \n",
       "1         60.0     23.0               1000                     30   \n",
       "2         75.0     14.0               1000                     30   \n",
       "3         81.0     14.0               1000                     30   \n",
       "4         57.0     15.0               1000                     30   \n",
       "...        ...      ...                ...                    ...   \n",
       "3209      42.0     21.0                 50                     15   \n",
       "3210      11.0      2.0                 50                     15   \n",
       "3211      48.0     18.0                 50                     15   \n",
       "3212      59.0     18.0                 50                     15   \n",
       "3213      66.0     13.0                 50                     15   \n",
       "\n",
       "      minutes_included  rub_monthly_fee  rub_per_gb  rub_per_message  \\\n",
       "0                 3000             1950         150                1   \n",
       "1                 3000             1950         150                1   \n",
       "2                 3000             1950         150                1   \n",
       "3                 3000             1950         150                1   \n",
       "4                 3000             1950         150                1   \n",
       "...                ...              ...         ...              ...   \n",
       "3209               500              550         200                3   \n",
       "3210               500              550         200                3   \n",
       "3211               500              550         200                3   \n",
       "3212               500              550         200                3   \n",
       "3213               500              550         200                3   \n",
       "\n",
       "      rub_per_minute  \n",
       "0                  1  \n",
       "1                  1  \n",
       "2                  1  \n",
       "3                  1  \n",
       "4                  1  \n",
       "...              ...  \n",
       "3209               3  \n",
       "3210               3  \n",
       "3211               3  \n",
       "3212               3  \n",
       "3213               3  \n",
       "\n",
       "[3214 rows x 16 columns]"
      ]
     },
     "execution_count": 35,
     "metadata": {},
     "output_type": "execute_result"
    }
   ],
   "source": [
    "index = (general_users[(general_users['duration'].isna()==True)\n",
    "                       &(general_users['gb_used'].isna()==True)\n",
    "                       &(general_users['messages'].isna()==True)].index\n",
    ")\n",
    "general_users = general_users.drop(index = index).reset_index()\n",
    "general_users"
   ]
  },
  {
   "cell_type": "markdown",
   "metadata": {},
   "source": [
    "Выполним проверку, что удаленные юзеры не совершили ни одного звонка, не отпривили ни одного смс, не использовали ни одного гб интернета."
   ]
  },
  {
   "cell_type": "code",
   "execution_count": 36,
   "metadata": {},
   "outputs": [
    {
     "data": {
      "text/html": [
       "<div>\n",
       "<style scoped>\n",
       "    .dataframe tbody tr th:only-of-type {\n",
       "        vertical-align: middle;\n",
       "    }\n",
       "\n",
       "    .dataframe tbody tr th {\n",
       "        vertical-align: top;\n",
       "    }\n",
       "\n",
       "    .dataframe thead th {\n",
       "        text-align: right;\n",
       "    }\n",
       "</style>\n",
       "<table border=\"1\" class=\"dataframe\">\n",
       "  <thead>\n",
       "    <tr style=\"text-align: right;\">\n",
       "      <th></th>\n",
       "      <th>user_id</th>\n",
       "      <th>month</th>\n",
       "      <th>messages</th>\n",
       "    </tr>\n",
       "  </thead>\n",
       "  <tbody>\n",
       "  </tbody>\n",
       "</table>\n",
       "</div>"
      ],
      "text/plain": [
       "Empty DataFrame\n",
       "Columns: [user_id, month, messages]\n",
       "Index: []"
      ]
     },
     "metadata": {},
     "output_type": "display_data"
    },
    {
     "data": {
      "text/html": [
       "<div>\n",
       "<style scoped>\n",
       "    .dataframe tbody tr th:only-of-type {\n",
       "        vertical-align: middle;\n",
       "    }\n",
       "\n",
       "    .dataframe tbody tr th {\n",
       "        vertical-align: top;\n",
       "    }\n",
       "\n",
       "    .dataframe thead th {\n",
       "        text-align: right;\n",
       "    }\n",
       "</style>\n",
       "<table border=\"1\" class=\"dataframe\">\n",
       "  <thead>\n",
       "    <tr style=\"text-align: right;\">\n",
       "      <th></th>\n",
       "      <th>user_id</th>\n",
       "      <th>month</th>\n",
       "      <th>mb_used</th>\n",
       "      <th>gb_used</th>\n",
       "    </tr>\n",
       "  </thead>\n",
       "  <tbody>\n",
       "  </tbody>\n",
       "</table>\n",
       "</div>"
      ],
      "text/plain": [
       "Empty DataFrame\n",
       "Columns: [user_id, month, mb_used, gb_used]\n",
       "Index: []"
      ]
     },
     "metadata": {},
     "output_type": "display_data"
    },
    {
     "data": {
      "text/html": [
       "<div>\n",
       "<style scoped>\n",
       "    .dataframe tbody tr th:only-of-type {\n",
       "        vertical-align: middle;\n",
       "    }\n",
       "\n",
       "    .dataframe tbody tr th {\n",
       "        vertical-align: top;\n",
       "    }\n",
       "\n",
       "    .dataframe thead th {\n",
       "        text-align: right;\n",
       "    }\n",
       "</style>\n",
       "<table border=\"1\" class=\"dataframe\">\n",
       "  <thead>\n",
       "    <tr style=\"text-align: right;\">\n",
       "      <th></th>\n",
       "      <th>user_id</th>\n",
       "      <th>month</th>\n",
       "      <th>duration</th>\n",
       "    </tr>\n",
       "  </thead>\n",
       "  <tbody>\n",
       "  </tbody>\n",
       "</table>\n",
       "</div>"
      ],
      "text/plain": [
       "Empty DataFrame\n",
       "Columns: [user_id, month, duration]\n",
       "Index: []"
      ]
     },
     "metadata": {},
     "output_type": "display_data"
    }
   ],
   "source": [
    "bad_users = []\n",
    "for user in users.user_id.unique():\n",
    "    if user not in general_users.user_id.unique():\n",
    "        bad_users.append(user)\n",
    "bad_users\n",
    "\n",
    "display(messages_pivot.query('user_id in @bad_users'))\n",
    "display(internet_pivot.query('user_id in @bad_users'))\n",
    "display(calls_pivot.query('user_id in @bad_users'))"
   ]
  },
  {
   "cell_type": "code",
   "execution_count": 37,
   "metadata": {},
   "outputs": [
    {
     "data": {
      "text/html": [
       "<div>\n",
       "<style scoped>\n",
       "    .dataframe tbody tr th:only-of-type {\n",
       "        vertical-align: middle;\n",
       "    }\n",
       "\n",
       "    .dataframe tbody tr th {\n",
       "        vertical-align: top;\n",
       "    }\n",
       "\n",
       "    .dataframe thead th {\n",
       "        text-align: right;\n",
       "    }\n",
       "</style>\n",
       "<table border=\"1\" class=\"dataframe\">\n",
       "  <thead>\n",
       "    <tr style=\"text-align: right;\">\n",
       "      <th></th>\n",
       "      <th>index</th>\n",
       "      <th>user_id</th>\n",
       "      <th>month</th>\n",
       "      <th>city</th>\n",
       "      <th>tariff</th>\n",
       "      <th>is_active</th>\n",
       "      <th>duration</th>\n",
       "      <th>messages</th>\n",
       "      <th>gb_used</th>\n",
       "      <th>messages_included</th>\n",
       "      <th>gb_per_month_included</th>\n",
       "      <th>minutes_included</th>\n",
       "      <th>rub_monthly_fee</th>\n",
       "      <th>rub_per_gb</th>\n",
       "      <th>rub_per_message</th>\n",
       "      <th>rub_per_minute</th>\n",
       "    </tr>\n",
       "  </thead>\n",
       "  <tbody>\n",
       "  </tbody>\n",
       "</table>\n",
       "</div>"
      ],
      "text/plain": [
       "Empty DataFrame\n",
       "Columns: [index, user_id, month, city, tariff, is_active, duration, messages, gb_used, messages_included, gb_per_month_included, minutes_included, rub_monthly_fee, rub_per_gb, rub_per_message, rub_per_minute]\n",
       "Index: []"
      ]
     },
     "execution_count": 37,
     "metadata": {},
     "output_type": "execute_result"
    }
   ],
   "source": [
    "general_users[general_users['month'].isna()==True]"
   ]
  },
  {
   "cell_type": "code",
   "execution_count": 38,
   "metadata": {},
   "outputs": [
    {
     "name": "stdout",
     "output_type": "stream",
     "text": [
      "0\n",
      "0\n",
      "0\n"
     ]
    }
   ],
   "source": [
    "general_users['month'] = general_users['month'].fillna(0)\n",
    "general_users['duration'] = general_users['duration'].fillna(0)\n",
    "general_users['gb_used'] = general_users['gb_used'].fillna(0)\n",
    "general_users['messages'] = general_users['messages'].fillna(0)\n",
    "\n",
    "print (general_users['duration'].isna().sum())\n",
    "print (general_users['gb_used'].isna().sum())\n",
    "print (general_users['messages'].isna().sum())"
   ]
  },
  {
   "cell_type": "code",
   "execution_count": 39,
   "metadata": {},
   "outputs": [
    {
     "data": {
      "text/plain": [
       "(498,)"
      ]
     },
     "execution_count": 39,
     "metadata": {},
     "output_type": "execute_result"
    }
   ],
   "source": [
    "# Комментарий ревьюера\n",
    "general_users.user_id.unique().shape "
   ]
  },
  {
   "cell_type": "code",
   "execution_count": 40,
   "metadata": {},
   "outputs": [
    {
     "data": {
      "text/plain": [
       "[1128, 1371]"
      ]
     },
     "execution_count": 40,
     "metadata": {},
     "output_type": "execute_result"
    }
   ],
   "source": [
    "bad_users = []\n",
    "for user in users.user_id.unique():\n",
    "    if user not in general_users.user_id.unique():\n",
    "        bad_users.append(user)\n",
    "bad_users      # [1091, 1106, 1128, 1231, 1328, 1371, 1473, 1489]   "
   ]
  },
  {
   "cell_type": "code",
   "execution_count": 41,
   "metadata": {},
   "outputs": [
    {
     "data": {
      "text/html": [
       "<div>\n",
       "<style scoped>\n",
       "    .dataframe tbody tr th:only-of-type {\n",
       "        vertical-align: middle;\n",
       "    }\n",
       "\n",
       "    .dataframe tbody tr th {\n",
       "        vertical-align: top;\n",
       "    }\n",
       "\n",
       "    .dataframe thead th {\n",
       "        text-align: right;\n",
       "    }\n",
       "</style>\n",
       "<table border=\"1\" class=\"dataframe\">\n",
       "  <thead>\n",
       "    <tr style=\"text-align: right;\">\n",
       "      <th></th>\n",
       "      <th>index</th>\n",
       "      <th>user_id</th>\n",
       "      <th>month</th>\n",
       "      <th>city</th>\n",
       "      <th>tariff</th>\n",
       "      <th>is_active</th>\n",
       "      <th>duration</th>\n",
       "      <th>messages</th>\n",
       "      <th>gb_used</th>\n",
       "      <th>messages_included</th>\n",
       "      <th>gb_per_month_included</th>\n",
       "      <th>minutes_included</th>\n",
       "      <th>rub_monthly_fee</th>\n",
       "      <th>rub_per_gb</th>\n",
       "      <th>rub_per_message</th>\n",
       "      <th>rub_per_minute</th>\n",
       "    </tr>\n",
       "  </thead>\n",
       "  <tbody>\n",
       "  </tbody>\n",
       "</table>\n",
       "</div>"
      ],
      "text/plain": [
       "Empty DataFrame\n",
       "Columns: [index, user_id, month, city, tariff, is_active, duration, messages, gb_used, messages_included, gb_per_month_included, minutes_included, rub_monthly_fee, rub_per_gb, rub_per_message, rub_per_minute]\n",
       "Index: []"
      ]
     },
     "execution_count": 41,
     "metadata": {},
     "output_type": "execute_result"
    }
   ],
   "source": [
    "general_users.query('user_id == 1371')"
   ]
  },
  {
   "cell_type": "markdown",
   "metadata": {},
   "source": [
    "Найдем количество минут, смс и гб сверх пакета для каждой строки таблицы, как разницу фактически потраченных и включенных по тем строкам, где фактически потраченные превышают включенные"
   ]
  },
  {
   "cell_type": "code",
   "execution_count": 42,
   "metadata": {},
   "outputs": [
    {
     "data": {
      "text/html": [
       "<div>\n",
       "<style scoped>\n",
       "    .dataframe tbody tr th:only-of-type {\n",
       "        vertical-align: middle;\n",
       "    }\n",
       "\n",
       "    .dataframe tbody tr th {\n",
       "        vertical-align: top;\n",
       "    }\n",
       "\n",
       "    .dataframe thead th {\n",
       "        text-align: right;\n",
       "    }\n",
       "</style>\n",
       "<table border=\"1\" class=\"dataframe\">\n",
       "  <thead>\n",
       "    <tr style=\"text-align: right;\">\n",
       "      <th></th>\n",
       "      <th>index</th>\n",
       "      <th>user_id</th>\n",
       "      <th>month</th>\n",
       "      <th>city</th>\n",
       "      <th>tariff</th>\n",
       "      <th>is_active</th>\n",
       "      <th>duration</th>\n",
       "      <th>messages</th>\n",
       "      <th>gb_used</th>\n",
       "      <th>messages_included</th>\n",
       "      <th>gb_per_month_included</th>\n",
       "      <th>minutes_included</th>\n",
       "      <th>rub_monthly_fee</th>\n",
       "      <th>rub_per_gb</th>\n",
       "      <th>rub_per_message</th>\n",
       "      <th>rub_per_minute</th>\n",
       "      <th>over_minutes</th>\n",
       "      <th>over_gb</th>\n",
       "      <th>over_messages</th>\n",
       "    </tr>\n",
       "  </thead>\n",
       "  <tbody>\n",
       "    <tr>\n",
       "      <th>0</th>\n",
       "      <td>4</td>\n",
       "      <td>1000</td>\n",
       "      <td>5</td>\n",
       "      <td>Краснодар</td>\n",
       "      <td>ultra</td>\n",
       "      <td>True</td>\n",
       "      <td>159.0</td>\n",
       "      <td>22.0</td>\n",
       "      <td>3.0</td>\n",
       "      <td>1000</td>\n",
       "      <td>30</td>\n",
       "      <td>3000</td>\n",
       "      <td>1950</td>\n",
       "      <td>150</td>\n",
       "      <td>1</td>\n",
       "      <td>1</td>\n",
       "      <td>0.0</td>\n",
       "      <td>0.0</td>\n",
       "      <td>0.0</td>\n",
       "    </tr>\n",
       "    <tr>\n",
       "      <th>1</th>\n",
       "      <td>5</td>\n",
       "      <td>1000</td>\n",
       "      <td>6</td>\n",
       "      <td>Краснодар</td>\n",
       "      <td>ultra</td>\n",
       "      <td>True</td>\n",
       "      <td>172.0</td>\n",
       "      <td>60.0</td>\n",
       "      <td>23.0</td>\n",
       "      <td>1000</td>\n",
       "      <td>30</td>\n",
       "      <td>3000</td>\n",
       "      <td>1950</td>\n",
       "      <td>150</td>\n",
       "      <td>1</td>\n",
       "      <td>1</td>\n",
       "      <td>0.0</td>\n",
       "      <td>0.0</td>\n",
       "      <td>0.0</td>\n",
       "    </tr>\n",
       "    <tr>\n",
       "      <th>2</th>\n",
       "      <td>6</td>\n",
       "      <td>1000</td>\n",
       "      <td>7</td>\n",
       "      <td>Краснодар</td>\n",
       "      <td>ultra</td>\n",
       "      <td>True</td>\n",
       "      <td>340.0</td>\n",
       "      <td>75.0</td>\n",
       "      <td>14.0</td>\n",
       "      <td>1000</td>\n",
       "      <td>30</td>\n",
       "      <td>3000</td>\n",
       "      <td>1950</td>\n",
       "      <td>150</td>\n",
       "      <td>1</td>\n",
       "      <td>1</td>\n",
       "      <td>0.0</td>\n",
       "      <td>0.0</td>\n",
       "      <td>0.0</td>\n",
       "    </tr>\n",
       "    <tr>\n",
       "      <th>3</th>\n",
       "      <td>7</td>\n",
       "      <td>1000</td>\n",
       "      <td>8</td>\n",
       "      <td>Краснодар</td>\n",
       "      <td>ultra</td>\n",
       "      <td>True</td>\n",
       "      <td>408.0</td>\n",
       "      <td>81.0</td>\n",
       "      <td>14.0</td>\n",
       "      <td>1000</td>\n",
       "      <td>30</td>\n",
       "      <td>3000</td>\n",
       "      <td>1950</td>\n",
       "      <td>150</td>\n",
       "      <td>1</td>\n",
       "      <td>1</td>\n",
       "      <td>0.0</td>\n",
       "      <td>0.0</td>\n",
       "      <td>0.0</td>\n",
       "    </tr>\n",
       "    <tr>\n",
       "      <th>4</th>\n",
       "      <td>8</td>\n",
       "      <td>1000</td>\n",
       "      <td>9</td>\n",
       "      <td>Краснодар</td>\n",
       "      <td>ultra</td>\n",
       "      <td>True</td>\n",
       "      <td>466.0</td>\n",
       "      <td>57.0</td>\n",
       "      <td>15.0</td>\n",
       "      <td>1000</td>\n",
       "      <td>30</td>\n",
       "      <td>3000</td>\n",
       "      <td>1950</td>\n",
       "      <td>150</td>\n",
       "      <td>1</td>\n",
       "      <td>1</td>\n",
       "      <td>0.0</td>\n",
       "      <td>0.0</td>\n",
       "      <td>0.0</td>\n",
       "    </tr>\n",
       "  </tbody>\n",
       "</table>\n",
       "</div>"
      ],
      "text/plain": [
       "   index  user_id  month       city tariff  is_active  duration  messages  \\\n",
       "0      4     1000      5  Краснодар  ultra       True     159.0      22.0   \n",
       "1      5     1000      6  Краснодар  ultra       True     172.0      60.0   \n",
       "2      6     1000      7  Краснодар  ultra       True     340.0      75.0   \n",
       "3      7     1000      8  Краснодар  ultra       True     408.0      81.0   \n",
       "4      8     1000      9  Краснодар  ultra       True     466.0      57.0   \n",
       "\n",
       "   gb_used  messages_included  gb_per_month_included  minutes_included  \\\n",
       "0      3.0               1000                     30              3000   \n",
       "1     23.0               1000                     30              3000   \n",
       "2     14.0               1000                     30              3000   \n",
       "3     14.0               1000                     30              3000   \n",
       "4     15.0               1000                     30              3000   \n",
       "\n",
       "   rub_monthly_fee  rub_per_gb  rub_per_message  rub_per_minute  over_minutes  \\\n",
       "0             1950         150                1               1           0.0   \n",
       "1             1950         150                1               1           0.0   \n",
       "2             1950         150                1               1           0.0   \n",
       "3             1950         150                1               1           0.0   \n",
       "4             1950         150                1               1           0.0   \n",
       "\n",
       "   over_gb  over_messages  \n",
       "0      0.0            0.0  \n",
       "1      0.0            0.0  \n",
       "2      0.0            0.0  \n",
       "3      0.0            0.0  \n",
       "4      0.0            0.0  "
      ]
     },
     "execution_count": 42,
     "metadata": {},
     "output_type": "execute_result"
    }
   ],
   "source": [
    "general_users['over_minutes'] = (\n",
    "    (general_users['duration']-general_users['minutes_included'])\n",
    "                                 .where(general_users['duration']>general_users['minutes_included'], 0)\n",
    ")\n",
    "\n",
    "general_users['over_gb'] = (\n",
    "    (general_users['gb_used']-general_users['gb_per_month_included'])\n",
    "                                 .where(general_users['gb_used']>general_users['gb_per_month_included'], 0)\n",
    ")\n",
    "\n",
    "general_users['over_messages'] = (\n",
    "    (general_users['messages']-general_users['messages_included'])\n",
    "                                 .where(general_users['messages']>general_users['messages_included'], 0)\n",
    ")\n",
    "general_users.head()"
   ]
  },
  {
   "cell_type": "markdown",
   "metadata": {},
   "source": [
    "Найдем итоговую выручку компании за месяц, как сумму базовой стоимости пакета + сумма произведений количества гб, смс и минут на стоимость гб, смс и минуты пакета соответственно."
   ]
  },
  {
   "cell_type": "code",
   "execution_count": 43,
   "metadata": {},
   "outputs": [
    {
     "data": {
      "text/plain": [
       "<bound method NDFrame.head of 0       1950.0\n",
       "1       1950.0\n",
       "2       1950.0\n",
       "3       1950.0\n",
       "4       1950.0\n",
       "         ...  \n",
       "3209    1750.0\n",
       "3210     550.0\n",
       "3211    1150.0\n",
       "3212    1513.0\n",
       "3213     598.0\n",
       "Name: total_sum, Length: 3214, dtype: float64>"
      ]
     },
     "execution_count": 43,
     "metadata": {},
     "output_type": "execute_result"
    }
   ],
   "source": [
    "general_users['total_sum'] = (\n",
    "    general_users['rub_monthly_fee'] #базовая стоимость пакета\n",
    "    + general_users['rub_per_minute'] * general_users['over_minutes'] #доп минуты\n",
    "    + general_users['rub_per_message'] * general_users['over_messages'] #доп смс\n",
    "    + general_users['rub_per_gb'] * general_users['over_gb'] #доп гб\n",
    ")\n",
    "general_users['total_sum'].head"
   ]
  },
  {
   "cell_type": "markdown",
   "metadata": {},
   "source": [
    "### Ограничения: \n",
    "1. Не учтена дата начала пользования пакетом.\n",
    "2. Не учтена дата окончания пользования пакетом. \n",
    "3. Не учтены исторические изменения в тарифах"
   ]
  },
  {
   "cell_type": "markdown",
   "metadata": {},
   "source": [
    "## Изучение поведения пользователей в зависимости от  выбранного тарифа"
   ]
  },
  {
   "cell_type": "markdown",
   "metadata": {},
   "source": [
    "Создадим отдельные таблицы с пользователями тарифа smart и ultra для удобства анализа"
   ]
  },
  {
   "cell_type": "code",
   "execution_count": 44,
   "metadata": {},
   "outputs": [],
   "source": [
    "general_smart = general_users.query('tariff == \"smart\"')\n",
    "general_ultra = general_users.query('tariff == \"ultra\"')"
   ]
  },
  {
   "cell_type": "markdown",
   "metadata": {},
   "source": [
    "### Изучим пользовательский опыт клиентов с тарифом \"Smart\""
   ]
  },
  {
   "cell_type": "code",
   "execution_count": 45,
   "metadata": {},
   "outputs": [
    {
     "data": {
      "image/png": "[encoded data removed]",
      "text/plain": [
       "<Figure size 432x288 with 1 Axes>"
      ]
     },
     "metadata": {
      "needs_background": "light"
     },
     "output_type": "display_data"
    },
    {
     "data": {
      "image/png": "[encoded data removed]",
      "text/plain": [
       "<Figure size 432x288 with 1 Axes>"
      ]
     },
     "metadata": {
      "needs_background": "light"
     },
     "output_type": "display_data"
    },
    {
     "name": "stdout",
     "output_type": "stream",
     "text": [
      "36203.06665209469\n"
     ]
    },
    {
     "data": {
      "text/plain": [
       "count    2229.000000\n",
       "mean      417.934948\n",
       "std       190.313730\n",
       "min         0.000000\n",
       "25%       282.000000\n",
       "50%       422.000000\n",
       "75%       545.000000\n",
       "max      1435.000000\n",
       "Name: duration, dtype: float64"
      ]
     },
     "execution_count": 45,
     "metadata": {},
     "output_type": "execute_result"
    }
   ],
   "source": [
    "general_smart['duration'].plot(kind = 'hist',grid = True, title ='Продолжительность звонков')\n",
    "plt.pyplot.show()\n",
    "general_smart.boxplot(column = 'duration')\n",
    "plt.pyplot.show()\n",
    "print (np.var(general_smart['duration']))\n",
    "general_smart['duration'].describe()"
   ]
  },
  {
   "cell_type": "markdown",
   "metadata": {},
   "source": [
    "Данные скошены влево, медиана = 427 минут, средняя продолжительность звонков = 421 минуту, стандартное отклонение = 187,5 минут. Единичные данные находятся за пределами номального распределения. "
   ]
  },
  {
   "cell_type": "code",
   "execution_count": 46,
   "metadata": {},
   "outputs": [
    {
     "data": {
      "image/png": "[encoded data removed]",
      "text/plain": [
       "<Figure size 432x288 with 1 Axes>"
      ]
     },
     "metadata": {
      "needs_background": "light"
     },
     "output_type": "display_data"
    },
    {
     "data": {
      "image/png": "[encoded data removed]",
      "text/plain": [
       "<Figure size 432x288 with 1 Axes>"
      ]
     },
     "metadata": {
      "needs_background": "light"
     },
     "output_type": "display_data"
    },
    {
     "name": "stdout",
     "output_type": "stream",
     "text": [
      "796.455482917076\n"
     ]
    },
    {
     "data": {
      "text/plain": [
       "count    2229.000000\n",
       "mean       33.384029\n",
       "std        28.227876\n",
       "min         0.000000\n",
       "25%        10.000000\n",
       "50%        28.000000\n",
       "75%        51.000000\n",
       "max       143.000000\n",
       "Name: messages, dtype: float64"
      ]
     },
     "execution_count": 46,
     "metadata": {},
     "output_type": "execute_result"
    }
   ],
   "source": [
    "general_smart['messages'].plot(kind = 'hist',grid = True, title = 'количество отправленных смс')\n",
    "plt.pyplot.show()\n",
    "general_smart.boxplot(column = 'messages')\n",
    "plt.pyplot.show()\n",
    "print (np.var(general_smart['messages']))\n",
    "general_smart['messages'].describe()"
   ]
  },
  {
   "cell_type": "markdown",
   "metadata": {},
   "source": [
    "Большинство пользователей укладываются в ограничение по количеству смс.\n",
    "Медиана = 34 смс, стандартное отклоненеие = 26. \n",
    "Значительное количетво измерений находится вне нормального распределения. "
   ]
  },
  {
   "cell_type": "code",
   "execution_count": 47,
   "metadata": {},
   "outputs": [
    {
     "data": {
      "image/png": "[encoded data removed]",
      "text/plain": [
       "<Figure size 1080x720 with 1 Axes>"
      ]
     },
     "metadata": {
      "needs_background": "light"
     },
     "output_type": "display_data"
    },
    {
     "data": {
      "image/png": "[encoded data removed]",
      "text/plain": [
       "<Figure size 360x720 with 1 Axes>"
      ]
     },
     "metadata": {
      "needs_background": "light"
     },
     "output_type": "display_data"
    },
    {
     "name": "stdout",
     "output_type": "stream",
     "text": [
      "33.013887454837445\n"
     ]
    },
    {
     "data": {
      "text/plain": [
       "count    2229.000000\n",
       "mean       16.328847\n",
       "std         5.747061\n",
       "min         0.000000\n",
       "25%        13.000000\n",
       "50%        17.000000\n",
       "75%        20.000000\n",
       "max        38.000000\n",
       "Name: gb_used, dtype: float64"
      ]
     },
     "execution_count": 47,
     "metadata": {},
     "output_type": "execute_result"
    }
   ],
   "source": [
    "general_smart['gb_used'].plot(kind = 'hist', figsize = (15,10),grid = True, title = 'Использование гб')\n",
    "plt.pyplot.show()\n",
    "general_smart.boxplot(column = 'messages', figsize = (5,10))\n",
    "plt.pyplot.show()\n",
    "print (np.var(general_smart['gb_used']))\n",
    "general_smart['gb_used'].describe()"
   ]
  },
  {
   "cell_type": "markdown",
   "metadata": {},
   "source": [
    "Найдем доли пользователей, не уложившихся в тарифные лимиты"
   ]
  },
  {
   "cell_type": "code",
   "execution_count": 48,
   "metadata": {},
   "outputs": [
    {
     "name": "stdout",
     "output_type": "stream",
     "text": [
      "0.3382682817406909\n",
      "0.253028263795424\n",
      "0.5850157021085689\n"
     ]
    }
   ],
   "source": [
    "print (sum(general_smart['over_minutes']>0)/len(general_smart))\n",
    "print (sum(general_smart['over_messages']>0)/len(general_smart))\n",
    "print (sum(general_smart['over_gb']>0)/len(general_smart))"
   ]
  },
  {
   "cell_type": "markdown",
   "metadata": {},
   "source": [
    "Найдем среднюю выручку и размер переплаты"
   ]
  },
  {
   "cell_type": "code",
   "execution_count": 49,
   "metadata": {},
   "outputs": [
    {
     "data": {
      "text/plain": [
       "27"
      ]
     },
     "execution_count": 49,
     "metadata": {},
     "output_type": "execute_result"
    }
   ],
   "source": [
    "smart_max_boarder = (general_smart['total_sum'].mean() + np.std(general_smart['total_sum'])*3)\n",
    "sum(general_smart['total_sum']>smart_max_boarder)"
   ]
  },
  {
   "cell_type": "markdown",
   "metadata": {},
   "source": [
    "27 случаев, когда итоговая сумма заплаченная за месяц превышает три стандартных отклонения. Исключим эти данные из таблицы для дальнейшего анализа. "
   ]
  },
  {
   "cell_type": "code",
   "execution_count": 50,
   "metadata": {},
   "outputs": [],
   "source": [
    "#general_smart = general_smart.query('total_sum<@smart_max_boarder')"
   ]
  },
  {
   "cell_type": "markdown",
   "metadata": {},
   "source": [
    "#### Выводы о пользовтельском опыте клиентов тарифа \"smart\"\n",
    "1. 33 % пользователей не укладываются в лимит по минутам. 29% пользователей не укладываются в лимит по смс. 58% пользователей не укладываются в лимит по гб пакета. \n",
    "2. Медианное значение суммы пользования тарифом smart составляет 1012 рублей, средняя сумма, которую платят пользователи составляет 1291 рубль. "
   ]
  },
  {
   "cell_type": "markdown",
   "metadata": {},
   "source": [
    "### Изучим пользовательский опыт клиентов с тарифом \"Ultra\""
   ]
  },
  {
   "cell_type": "code",
   "execution_count": 51,
   "metadata": {},
   "outputs": [
    {
     "data": {
      "image/png": "[encoded data removed]",
      "text/plain": [
       "<Figure size 432x288 with 1 Axes>"
      ]
     },
     "metadata": {
      "needs_background": "light"
     },
     "output_type": "display_data"
    },
    {
     "data": {
      "image/png": "[encoded data removed]",
      "text/plain": [
       "<Figure size 432x288 with 1 Axes>"
      ]
     },
     "metadata": {
      "needs_background": "light"
     },
     "output_type": "display_data"
    },
    {
     "name": "stdout",
     "output_type": "stream",
     "text": [
      "100771.2236172022\n"
     ]
    },
    {
     "data": {
      "text/plain": [
       "count     985.000000\n",
       "mean      526.623350\n",
       "std       317.606098\n",
       "min         0.000000\n",
       "25%       284.000000\n",
       "50%       518.000000\n",
       "75%       752.000000\n",
       "max      1673.000000\n",
       "Name: duration, dtype: float64"
      ]
     },
     "execution_count": 51,
     "metadata": {},
     "output_type": "execute_result"
    }
   ],
   "source": [
    "general_ultra['duration'].plot(kind = 'hist',grid = True, title ='Продолжительность звонков')\n",
    "plt.pyplot.show()\n",
    "general_ultra.boxplot(column = 'duration')\n",
    "plt.pyplot.show()\n",
    "print (np.var(general_ultra['duration']))\n",
    "general_ultra['duration'].describe()\n"
   ]
  },
  {
   "cell_type": "markdown",
   "metadata": {},
   "source": [
    "На графиках видно только три случая, когда пользователь превысил лимит минут по тарифу. \n",
    "В среднем пользователи используют 557 минут звонков. \n",
    "Медианное значение составляет 538 минут, стандартное отклонение 311 минут. "
   ]
  },
  {
   "cell_type": "code",
   "execution_count": 52,
   "metadata": {},
   "outputs": [
    {
     "data": {
      "image/png": "[encoded data removed]",
      "text/plain": [
       "<Figure size 432x288 with 1 Axes>"
      ]
     },
     "metadata": {
      "needs_background": "light"
     },
     "output_type": "display_data"
    },
    {
     "data": {
      "image/png": "[encoded data removed]",
      "text/plain": [
       "<Figure size 432x288 with 1 Axes>"
      ]
     },
     "metadata": {
      "needs_background": "light"
     },
     "output_type": "display_data"
    },
    {
     "name": "stdout",
     "output_type": "stream",
     "text": [
      "2282.9460753948824\n"
     ]
    },
    {
     "data": {
      "text/plain": [
       "count    985.000000\n",
       "mean      49.363452\n",
       "std       47.804457\n",
       "min        0.000000\n",
       "25%        6.000000\n",
       "50%       38.000000\n",
       "75%       79.000000\n",
       "max      224.000000\n",
       "Name: messages, dtype: float64"
      ]
     },
     "execution_count": 52,
     "metadata": {},
     "output_type": "execute_result"
    }
   ],
   "source": [
    "general_ultra['messages'].plot(kind = 'hist',grid = True, title = 'количество отправленных смс')\n",
    "general_smart['messages'].plot(kind = 'hist',grid = True, title = 'количество отправленных смс', alpha = 0.5)\n",
    "plt.pyplot.show()\n",
    "general_ultra.boxplot(column = 'messages')\n",
    "plt.pyplot.show()\n",
    "print (np.var(general_ultra['messages']))\n",
    "general_ultra['messages'].describe()"
   ]
  },
  {
   "cell_type": "markdown",
   "metadata": {},
   "source": [
    "Ни один из пользователей тарифа ultra не израсходовал лимит смс. \n",
    "Максимальное значение составляет 224 смс сообщения, среднее 61 сообщение."
   ]
  },
  {
   "cell_type": "code",
   "execution_count": 53,
   "metadata": {},
   "outputs": [
    {
     "data": {
      "image/png": "[encoded data removed]",
      "text/plain": [
       "<Figure size 1080x720 with 1 Axes>"
      ]
     },
     "metadata": {
      "needs_background": "light"
     },
     "output_type": "display_data"
    },
    {
     "data": {
      "image/png": "[encoded data removed]",
      "text/plain": [
       "<Figure size 360x720 with 1 Axes>"
      ]
     },
     "metadata": {
      "needs_background": "light"
     },
     "output_type": "display_data"
    },
    {
     "name": "stdout",
     "output_type": "stream",
     "text": [
      "96.99311602978692\n"
     ]
    },
    {
     "data": {
      "text/plain": [
       "count    985.000000\n",
       "mean      19.494416\n",
       "std        9.853511\n",
       "min        0.000000\n",
       "25%       12.000000\n",
       "50%       19.000000\n",
       "75%       27.000000\n",
       "max       49.000000\n",
       "Name: gb_used, dtype: float64"
      ]
     },
     "execution_count": 53,
     "metadata": {},
     "output_type": "execute_result"
    }
   ],
   "source": [
    "general_ultra['gb_used'].plot(kind = 'hist', figsize = (15,10),grid = True, title = 'Использование гб')\n",
    "general_smart['gb_used'].plot(kind = 'hist', figsize = (15,10),grid = True, title = 'Использование гб', alpha = 0.5)\n",
    "plt.pyplot.show()\n",
    "general_ultra.boxplot(column = 'gb_used', figsize = (5,10))\n",
    "plt.pyplot.show()\n",
    "print (np.var(general_ultra['gb_used']))\n",
    "general_ultra['gb_used'].describe()"
   ]
  },
  {
   "cell_type": "markdown",
   "metadata": {},
   "source": [
    "Значения распределены нормально, максимальное значение составляет 49 гб использованных гб в месяц, среднее - 19, медианное - 19. "
   ]
  },
  {
   "cell_type": "code",
   "execution_count": 54,
   "metadata": {},
   "outputs": [
    {
     "name": "stdout",
     "output_type": "stream",
     "text": [
      "0.0\n",
      "0.0\n",
      "0.13604060913705585\n"
     ]
    }
   ],
   "source": [
    "print (sum(general_ultra['over_minutes']>0)/len(general_ultra))\n",
    "print (sum(general_ultra['over_messages']>0)/len(general_ultra))\n",
    "print (sum(general_ultra['over_gb']>0)/len(general_ultra))"
   ]
  },
  {
   "cell_type": "markdown",
   "metadata": {},
   "source": [
    "12% пользователей пакета ultra не укладываются в тарифные лимиты по гб."
   ]
  },
  {
   "cell_type": "markdown",
   "metadata": {},
   "source": [
    "### Анализ размера выручки в зависимости от тарифа"
   ]
  },
  {
   "cell_type": "code",
   "execution_count": 55,
   "metadata": {},
   "outputs": [
    {
     "data": {
      "image/png": "[encoded data removed]",
      "text/plain": [
       "<Figure size 432x288 with 1 Axes>"
      ]
     },
     "metadata": {
      "needs_background": "light"
     },
     "output_type": "display_data"
    },
    {
     "data": {
      "image/png": "[encoded data removed]",
      "text/plain": [
       "<Figure size 432x288 with 1 Axes>"
      ]
     },
     "metadata": {
      "needs_background": "light"
     },
     "output_type": "display_data"
    },
    {
     "name": "stdout",
     "output_type": "stream",
     "text": [
      "141373.07325620347\n"
     ]
    },
    {
     "data": {
      "text/plain": [
       "count     985.000000\n",
       "mean     2070.152284\n",
       "std       376.187114\n",
       "min      1950.000000\n",
       "25%      1950.000000\n",
       "50%      1950.000000\n",
       "75%      1950.000000\n",
       "max      4800.000000\n",
       "Name: total_sum, dtype: float64"
      ]
     },
     "execution_count": 55,
     "metadata": {},
     "output_type": "execute_result"
    },
    {
     "data": {
      "image/png": "[encoded data removed]",
      "text/plain": [
       "<Figure size 720x1080 with 1 Axes>"
      ]
     },
     "metadata": {
      "needs_background": "light"
     },
     "output_type": "display_data"
    }
   ],
   "source": [
    "#Тариф ультра\n",
    "general_ultra['total_sum'].plot(grid = True, kind = 'hist', title = 'Выручка')\n",
    "plt.pyplot.show()\n",
    "general_ultra['total_sum'].plot(grid = True, kind = 'hist', range = (1900,2200), title = 'Распределение выручки от 0 до 1500')\n",
    "plt.pyplot.show()\n",
    "general_ultra.boxplot(column = 'total_sum', figsize = (10,15))\n",
    "print (np.var(general_ultra['total_sum']))\n",
    "general_ultra['total_sum'].describe()\n"
   ]
  },
  {
   "cell_type": "code",
   "execution_count": 56,
   "metadata": {},
   "outputs": [
    {
     "data": {
      "image/png": "[encoded data removed]",
      "text/plain": [
       "<Figure size 432x288 with 1 Axes>"
      ]
     },
     "metadata": {
      "needs_background": "light"
     },
     "output_type": "display_data"
    },
    {
     "data": {
      "image/png": "[encoded data removed]",
      "text/plain": [
       "<Figure size 432x288 with 1 Axes>"
      ]
     },
     "metadata": {
      "needs_background": "light"
     },
     "output_type": "display_data"
    },
    {
     "name": "stdout",
     "output_type": "stream",
     "text": [
      "669485.2209234245\n"
     ]
    },
    {
     "data": {
      "text/plain": [
       "count    2229.000000\n",
       "mean     1289.973531\n",
       "std       818.404367\n",
       "min       550.000000\n",
       "25%       550.000000\n",
       "50%      1023.000000\n",
       "75%      1750.000000\n",
       "max      6770.000000\n",
       "Name: total_sum, dtype: float64"
      ]
     },
     "execution_count": 56,
     "metadata": {},
     "output_type": "execute_result"
    },
    {
     "data": {
      "image/png": "[encoded data removed]",
      "text/plain": [
       "<Figure size 720x1080 with 1 Axes>"
      ]
     },
     "metadata": {
      "needs_background": "light"
     },
     "output_type": "display_data"
    }
   ],
   "source": [
    "# Тариф Смарт\n",
    "general_smart['total_sum'].plot(grid = True, kind = 'hist', title = 'Выручка')\n",
    "plt.pyplot.show()\n",
    "general_smart['total_sum'].plot(grid = True, kind = 'hist', range = (0,1500), title = 'Распределение выручки от 0 до 1500')\n",
    "plt.pyplot.show()\n",
    "general_smart.boxplot(column = 'total_sum', figsize = (10,15))\n",
    "print (np.var(general_smart['total_sum']))\n",
    "general_smart['total_sum'].describe()"
   ]
  },
  {
   "cell_type": "markdown",
   "metadata": {},
   "source": [
    "Каждый квартиль клиентов тарифа ультра превышает размер каждого квартиля клиентов тарифа смарт. Необходимо проверить гипотезу о равенстве средних чеков тарифов."
   ]
  },
  {
   "cell_type": "markdown",
   "metadata": {},
   "source": [
    "## Изучение поведения пользователей в зависимости от географического признака"
   ]
  },
  {
   "cell_type": "markdown",
   "metadata": {},
   "source": [
    "Составим отделные датафреймы для Москвичей и клиентов из других регонов. "
   ]
  },
  {
   "cell_type": "code",
   "execution_count": 57,
   "metadata": {},
   "outputs": [],
   "source": [
    "moscow_users = general_users.query('city==\"Москва\"')\n",
    "region_users = general_users.query('city!=\"Москва\"')"
   ]
  },
  {
   "cell_type": "markdown",
   "metadata": {},
   "source": [
    "Сравним длительности разговоров"
   ]
  },
  {
   "cell_type": "code",
   "execution_count": 58,
   "metadata": {},
   "outputs": [
    {
     "data": {
      "image/png": "[encoded data removed]",
      "text/plain": [
       "<Figure size 720x360 with 1 Axes>"
      ]
     },
     "metadata": {
      "needs_background": "light"
     },
     "output_type": "display_data"
    },
    {
     "data": {
      "image/png": "[encoded data removed]",
      "text/plain": [
       "<Figure size 720x360 with 1 Axes>"
      ]
     },
     "metadata": {
      "needs_background": "light"
     },
     "output_type": "display_data"
    },
    {
     "data": {
      "image/png": "[encoded data removed]",
      "text/plain": [
       "<Figure size 720x360 with 1 Axes>"
      ]
     },
     "metadata": {
      "needs_background": "light"
     },
     "output_type": "display_data"
    },
    {
     "data": {
      "image/png": "[encoded data removed]",
      "text/plain": [
       "<Figure size 720x360 with 1 Axes>"
      ]
     },
     "metadata": {
      "needs_background": "light"
     },
     "output_type": "display_data"
    }
   ],
   "source": [
    "moscow_users['duration'].plot(kind = 'hist', figsize = (10,5), grid = True, title = 'minutes')\n",
    "region_users['duration'].plot(kind = 'hist', figsize = (10,5), grid = True, title = 'minutes',alpha =0.7)\n",
    "plt.pyplot.show()\n",
    "\n",
    "\n",
    "moscow_users['gb_used'].plot(kind = 'hist', figsize = (10,5), grid = True, title = 'gb_used')\n",
    "region_users['gb_used'].plot(kind = 'hist', figsize = (10,5), grid = True, title = 'gb_used',alpha =0.7)\n",
    "plt.pyplot.show()\n",
    "\n",
    "\n",
    "moscow_users['messages'].plot(kind = 'hist', figsize = (10,5), grid = True, title = 'messages')\n",
    "region_users['messages'].plot(kind = 'hist', figsize = (10,5), grid = True, title = 'messages',alpha =0.7)\n",
    "plt.pyplot.show()\n",
    "\n",
    "\n",
    "moscow_users['total_sum'].plot(kind = 'hist', figsize = (10,5), grid = True, title = 'total_sum')\n",
    "region_users['total_sum'].plot(kind = 'hist', figsize = (10,5), grid = True, title = 'total_sum',alpha =0.7)\n",
    "plt.pyplot.show()\n",
    "\n"
   ]
  },
  {
   "cell_type": "markdown",
   "metadata": {},
   "source": [
    "## Выводы\n",
    "1. Пользователи тарифа ультра покупают тариф из-за потребности в гб(так как ни по одному из других ограничений нет превышений), при этом и те и другие пользователи чаще всего используют от 15 до 20 гб интернета. \n",
    "2. Пользователи тарифа смарт значительно чаще превышают тарифные границы и по звонкам и по смс и по использованным гб, чем пользователи тарифа ультра. \n",
    "3. Пользовательское поведение Москвичей похоже на пользовательское поведение клиентов из других регионов.\n",
    "\n",
    "Гипотезы для проверки: \n",
    "1. Средняя выручка пользовтелей тариффа смарт отличается от средней выручки пользователей тариффа ультра. \n",
    "2. Средняя выручка пользовтелей из Москвы отличается от средней выручки пользователей из других регионов."
   ]
  },
  {
   "cell_type": "markdown",
   "metadata": {},
   "source": [
    "## Проверка гипотез"
   ]
  },
  {
   "cell_type": "markdown",
   "metadata": {},
   "source": [
    "Гипотеза 1. \n",
    "Средний чек пользователей тарифа ультра отличается от среднего чека пользователей тарифа смарт. \n",
    "<p>Нулевая гипотеза: среднее двух независимых генеральных совокупностей равны, то есть средний чек обоих тарифов одинаковый.</p>\n",
    "<p>Альтернативныя гипотеза: Средние чеки различаются. \n",
    "<p>Статистическую значимость возьмем за 0.01"
   ]
  },
  {
   "cell_type": "code",
   "execution_count": 59,
   "metadata": {},
   "outputs": [
    {
     "name": "stdout",
     "output_type": "stream",
     "text": [
      "1.4229814360764067e-160\n",
      "Отвергаем нулевую гипотезу\n"
     ]
    },
    {
     "data": {
      "image/png": "[encoded data removed]",
      "text/plain": [
       "<Figure size 432x288 with 1 Axes>"
      ]
     },
     "metadata": {
      "needs_background": "light"
     },
     "output_type": "display_data"
    }
   ],
   "source": [
    "alpha = 0.01\n",
    "\n",
    "results = st.ttest_ind(general_ultra['total_sum'], general_smart['total_sum'])\n",
    "print(results.pvalue)\n",
    "if results.pvalue<alpha:\n",
    "    print(\"Отвергаем нулевую гипотезу\")\n",
    "else:\n",
    "    print(\"Не получилось отвергнуть нулевую гипотезу\")\n",
    "    \n",
    "general_smart['total_sum'].plot(grid = True, kind = 'hist', title = 'Выручка')\n",
    "general_ultra['total_sum'].plot(grid = True, kind = 'hist', title = 'Выручка')\n",
    "plt.pyplot.show()\n"
   ]
  },
  {
   "cell_type": "markdown",
   "metadata": {},
   "source": [
    "Как, следствие, делаем вывод, что средние чеки различаются. На основании приведенных выше данных можно предположить, что средний чек пользователей тарифа \"Ультра\" больше, чем средний чек пользователей \"Смарт\". "
   ]
  },
  {
   "cell_type": "markdown",
   "metadata": {},
   "source": [
    "Гипотеза 2. \n",
    "Средний чек пользователей из Москвы отличается от среднего чека пользователей из регионов.\n",
    "<p> Нулевая гипотеза: средний чек пользователей из Москвы равен среднему чеку пользователю из региона.\n",
    "    <p> Альтернативная гипотеза: средний чек пользователя из Москвы отличается от среднего чека пользователя из региона\n",
    "       \n"
   ]
  },
  {
   "cell_type": "code",
   "execution_count": 60,
   "metadata": {},
   "outputs": [
    {
     "name": "stdout",
     "output_type": "stream",
     "text": [
      "0.5257376663729298\n",
      "Не получилось отвергнуть нулевую гипотезу\n"
     ]
    },
    {
     "data": {
      "image/png": "[encoded data removed]",
      "text/plain": [
       "<Figure size 720x360 with 1 Axes>"
      ]
     },
     "metadata": {
      "needs_background": "light"
     },
     "output_type": "display_data"
    }
   ],
   "source": [
    "alpha = 0.01\n",
    "\n",
    "results_2 = st.ttest_ind(region_users['total_sum'],moscow_users['total_sum'],equal_var = False)\n",
    "\n",
    "print(results_2.pvalue)\n",
    "if results_2.pvalue<alpha:\n",
    "    print('Отвергаем нулевую гипотезу')\n",
    "else:\n",
    "    print('Не получилось отвергнуть нулевую гипотезу')\n",
    "    \n",
    "moscow_users['total_sum'].plot(kind = 'hist', figsize = (10,5), grid = True, title = 'total_sum')\n",
    "region_users['total_sum'].plot(kind = 'hist', figsize = (10,5), grid = True, title = 'total_sum',alpha =0.7)\n",
    "plt.pyplot.show()\n",
    "\n"
   ]
  },
  {
   "cell_type": "markdown",
   "metadata": {},
   "source": [
    "Вероятность получить среднее значение 50 и выше! Как следствие, на основании представленных данных, нельзя отвергнуть гипотезу о том, что средний чек Москвича равен среднему чеку клиента из региона. "
   ]
  },
  {
   "cell_type": "markdown",
   "metadata": {},
   "source": [
    "# Вывод"
   ]
  },
  {
   "cell_type": "markdown",
   "metadata": {},
   "source": [
    "## Описание данных"
   ]
  },
  {
   "cell_type": "markdown",
   "metadata": {},
   "source": [
    "Данные были представлены в пяти различных таблицах, содержащих значения о длительности совершенных звонков, сессиях передачи данных и количестве отправленных смс по 500 клиентам компании. Также содержались значения о правилах тарификации и региональной принадлежности клиента. \n",
    "Пропусков данных практически не было, в рамках предобработки были изменены тип значений по некоторым столцам."
   ]
  },
  {
   "cell_type": "markdown",
   "metadata": {},
   "source": [
    "## Итоги исследования"
   ]
  },
  {
   "cell_type": "markdown",
   "metadata": {},
   "source": [
    "На основании изученных данных можно сделать предположение, что тариф Ультра более выгоден компании, чем тариф Смарт, так как средний чек за месяц выше, при условии, что тарифы имеют одинаковую рентабельность за предоставленные минуты, смс и траффик. \n",
    "Также, можно сделать предположение, что средние чеки клиента из региона и клиента из Москвы незначительно отличаются между собой. "
   ]
  },
  {
   "cell_type": "code",
   "execution_count": 66,
   "metadata": {},
   "outputs": [
    {
     "data": {
      "text/plain": [
       "<AxesSubplot:xlabel='month'>"
      ]
     },
     "execution_count": 66,
     "metadata": {},
     "output_type": "execute_result"
    },
    {
     "data": {
      "image/png": "[encoded data removed]",
      "text/plain": [
       "<Figure size 432x288 with 1 Axes>"
      ]
     },
     "metadata": {
      "needs_background": "light"
     },
     "output_type": "display_data"
    }
   ],
   "source": [
    "general_users.pivot_table(index='tariff', columns='month', values='total_sum', aggfunc='mean').T.plot(kind='bar', alpha=0.5)"
   ]
  }
 ],
 "metadata": {
  "ExecuteTimeLog": [
   {
    "duration": 878,
    "start_time": "2022-06-13T19:13:51.654Z"
   },
   {
    "duration": 110,
    "start_time": "2022-06-13T19:13:52.534Z"
   },
   {
    "duration": 0,
    "start_time": "2022-06-13T19:13:52.647Z"
   },
   {
    "duration": 0,
    "start_time": "2022-06-13T19:13:52.649Z"
   },
   {
    "duration": 0,
    "start_time": "2022-06-13T19:13:52.650Z"
   },
   {
    "duration": 0,
    "start_time": "2022-06-13T19:13:52.651Z"
   },
   {
    "duration": 0,
    "start_time": "2022-06-13T19:13:52.653Z"
   },
   {
    "duration": 0,
    "start_time": "2022-06-13T19:13:52.654Z"
   },
   {
    "duration": 0,
    "start_time": "2022-06-13T19:13:52.655Z"
   },
   {
    "duration": 0,
    "start_time": "2022-06-13T19:13:52.660Z"
   },
   {
    "duration": 0,
    "start_time": "2022-06-13T19:13:52.662Z"
   },
   {
    "duration": 0,
    "start_time": "2022-06-13T19:13:52.664Z"
   },
   {
    "duration": 0,
    "start_time": "2022-06-13T19:13:52.665Z"
   },
   {
    "duration": 0,
    "start_time": "2022-06-13T19:13:52.666Z"
   },
   {
    "duration": 0,
    "start_time": "2022-06-13T19:13:52.667Z"
   },
   {
    "duration": 0,
    "start_time": "2022-06-13T19:13:52.667Z"
   },
   {
    "duration": 0,
    "start_time": "2022-06-13T19:13:52.668Z"
   },
   {
    "duration": 0,
    "start_time": "2022-06-13T19:13:52.669Z"
   },
   {
    "duration": 0,
    "start_time": "2022-06-13T19:13:52.669Z"
   },
   {
    "duration": 0,
    "start_time": "2022-06-13T19:13:52.670Z"
   },
   {
    "duration": 0,
    "start_time": "2022-06-13T19:13:52.671Z"
   },
   {
    "duration": 0,
    "start_time": "2022-06-13T19:13:52.672Z"
   },
   {
    "duration": 0,
    "start_time": "2022-06-13T19:13:52.673Z"
   },
   {
    "duration": 0,
    "start_time": "2022-06-13T19:13:52.673Z"
   },
   {
    "duration": 0,
    "start_time": "2022-06-13T19:13:52.674Z"
   },
   {
    "duration": 0,
    "start_time": "2022-06-13T19:13:52.675Z"
   },
   {
    "duration": 0,
    "start_time": "2022-06-13T19:13:52.676Z"
   },
   {
    "duration": 1,
    "start_time": "2022-06-13T19:13:52.676Z"
   },
   {
    "duration": 0,
    "start_time": "2022-06-13T19:13:52.677Z"
   },
   {
    "duration": 0,
    "start_time": "2022-06-13T19:13:52.683Z"
   },
   {
    "duration": 0,
    "start_time": "2022-06-13T19:13:52.683Z"
   },
   {
    "duration": 0,
    "start_time": "2022-06-13T19:13:52.684Z"
   },
   {
    "duration": 0,
    "start_time": "2022-06-13T19:13:52.685Z"
   },
   {
    "duration": 0,
    "start_time": "2022-06-13T19:13:52.686Z"
   },
   {
    "duration": 0,
    "start_time": "2022-06-13T19:13:52.688Z"
   },
   {
    "duration": 0,
    "start_time": "2022-06-13T19:13:52.689Z"
   },
   {
    "duration": 0,
    "start_time": "2022-06-13T19:13:52.690Z"
   },
   {
    "duration": 0,
    "start_time": "2022-06-13T19:13:52.691Z"
   },
   {
    "duration": 0,
    "start_time": "2022-06-13T19:13:52.693Z"
   },
   {
    "duration": 0,
    "start_time": "2022-06-13T19:13:52.694Z"
   },
   {
    "duration": 0,
    "start_time": "2022-06-13T19:13:52.695Z"
   },
   {
    "duration": 0,
    "start_time": "2022-06-13T19:13:52.696Z"
   },
   {
    "duration": 0,
    "start_time": "2022-06-13T19:13:52.698Z"
   },
   {
    "duration": 0,
    "start_time": "2022-06-13T19:13:52.699Z"
   },
   {
    "duration": 0,
    "start_time": "2022-06-13T19:13:52.701Z"
   },
   {
    "duration": 0,
    "start_time": "2022-06-13T19:13:52.702Z"
   },
   {
    "duration": 0,
    "start_time": "2022-06-13T19:13:52.761Z"
   },
   {
    "duration": 0,
    "start_time": "2022-06-13T19:13:52.762Z"
   },
   {
    "duration": 0,
    "start_time": "2022-06-13T19:13:52.763Z"
   },
   {
    "duration": 0,
    "start_time": "2022-06-13T19:13:52.763Z"
   },
   {
    "duration": 42,
    "start_time": "2022-06-13T19:23:04.885Z"
   },
   {
    "duration": 718,
    "start_time": "2022-06-13T19:23:10.136Z"
   },
   {
    "duration": 55,
    "start_time": "2022-06-13T19:23:11.886Z"
   },
   {
    "duration": 3,
    "start_time": "2022-06-13T19:24:11.329Z"
   },
   {
    "duration": 1099,
    "start_time": "2022-06-13T19:24:11.334Z"
   },
   {
    "duration": 25,
    "start_time": "2022-06-13T19:24:12.434Z"
   },
   {
    "duration": 111,
    "start_time": "2022-06-13T19:24:12.462Z"
   },
   {
    "duration": 486,
    "start_time": "2022-06-13T19:24:12.575Z"
   },
   {
    "duration": 27,
    "start_time": "2022-06-13T19:24:13.062Z"
   },
   {
    "duration": 8,
    "start_time": "2022-06-13T19:24:13.090Z"
   },
   {
    "duration": 17,
    "start_time": "2022-06-13T19:24:13.100Z"
   },
   {
    "duration": 65,
    "start_time": "2022-06-13T19:24:13.119Z"
   },
   {
    "duration": 180,
    "start_time": "2022-06-13T19:24:13.185Z"
   },
   {
    "duration": 33,
    "start_time": "2022-06-13T19:24:13.366Z"
   },
   {
    "duration": 10,
    "start_time": "2022-06-13T19:24:13.400Z"
   },
   {
    "duration": 10,
    "start_time": "2022-06-13T19:24:13.411Z"
   },
   {
    "duration": 5,
    "start_time": "2022-06-13T19:24:13.424Z"
   },
   {
    "duration": 9,
    "start_time": "2022-06-13T19:24:13.431Z"
   },
   {
    "duration": 11,
    "start_time": "2022-06-13T19:24:13.441Z"
   },
   {
    "duration": 33,
    "start_time": "2022-06-13T19:24:13.453Z"
   },
   {
    "duration": 5,
    "start_time": "2022-06-13T19:24:13.488Z"
   },
   {
    "duration": 6,
    "start_time": "2022-06-13T19:24:13.495Z"
   },
   {
    "duration": 120,
    "start_time": "2022-06-13T19:24:13.503Z"
   },
   {
    "duration": 6,
    "start_time": "2022-06-13T19:24:13.624Z"
   },
   {
    "duration": 6,
    "start_time": "2022-06-13T19:24:13.631Z"
   },
   {
    "duration": 7,
    "start_time": "2022-06-13T19:24:13.639Z"
   },
   {
    "duration": 37,
    "start_time": "2022-06-13T19:24:13.648Z"
   },
   {
    "duration": 7,
    "start_time": "2022-06-13T19:24:13.687Z"
   },
   {
    "duration": 39,
    "start_time": "2022-06-13T19:24:13.695Z"
   },
   {
    "duration": 50,
    "start_time": "2022-06-13T19:24:13.736Z"
   },
   {
    "duration": 34,
    "start_time": "2022-06-13T19:24:13.788Z"
   },
   {
    "duration": 26,
    "start_time": "2022-06-13T19:24:13.824Z"
   },
   {
    "duration": 3,
    "start_time": "2022-06-13T19:24:13.851Z"
   },
   {
    "duration": 28,
    "start_time": "2022-06-13T19:24:13.878Z"
   },
   {
    "duration": 24,
    "start_time": "2022-06-13T19:24:13.907Z"
   },
   {
    "duration": 11,
    "start_time": "2022-06-13T19:24:13.932Z"
   },
   {
    "duration": 7,
    "start_time": "2022-06-13T19:24:13.944Z"
   },
   {
    "duration": 232,
    "start_time": "2022-06-13T19:24:13.952Z"
   },
   {
    "duration": 249,
    "start_time": "2022-06-13T19:24:14.185Z"
   },
   {
    "duration": 267,
    "start_time": "2022-06-13T19:24:14.436Z"
   },
   {
    "duration": 5,
    "start_time": "2022-06-13T19:24:14.705Z"
   },
   {
    "duration": 467,
    "start_time": "2022-06-13T19:24:14.711Z"
   },
   {
    "duration": 5,
    "start_time": "2022-06-13T19:24:15.179Z"
   },
   {
    "duration": 9,
    "start_time": "2022-06-13T19:24:15.187Z"
   },
   {
    "duration": 226,
    "start_time": "2022-06-13T19:24:15.198Z"
   },
   {
    "duration": 218,
    "start_time": "2022-06-13T19:24:15.426Z"
   },
   {
    "duration": 291,
    "start_time": "2022-06-13T19:24:15.646Z"
   },
   {
    "duration": 5,
    "start_time": "2022-06-13T19:24:15.939Z"
   },
   {
    "duration": 475,
    "start_time": "2022-06-13T19:24:15.946Z"
   },
   {
    "duration": 9,
    "start_time": "2022-06-13T19:24:16.422Z"
   },
   {
    "duration": 604,
    "start_time": "2022-06-13T19:24:16.432Z"
   },
   {
    "duration": 5,
    "start_time": "2022-06-13T19:24:17.038Z"
   },
   {
    "duration": 8,
    "start_time": "2022-06-13T19:24:17.044Z"
   },
   {
    "duration": 787,
    "start_time": "2022-06-14T14:16:02.001Z"
   },
   {
    "duration": 378,
    "start_time": "2022-06-14T14:16:02.790Z"
   },
   {
    "duration": 21,
    "start_time": "2022-06-14T14:16:03.169Z"
   },
   {
    "duration": 121,
    "start_time": "2022-06-14T14:16:03.192Z"
   },
   {
    "duration": 322,
    "start_time": "2022-06-14T14:16:03.315Z"
   },
   {
    "duration": 18,
    "start_time": "2022-06-14T14:16:03.638Z"
   },
   {
    "duration": 21,
    "start_time": "2022-06-14T14:16:03.658Z"
   },
   {
    "duration": 13,
    "start_time": "2022-06-14T14:16:03.680Z"
   },
   {
    "duration": 49,
    "start_time": "2022-06-14T14:16:03.694Z"
   },
   {
    "duration": 181,
    "start_time": "2022-06-14T14:16:03.745Z"
   },
   {
    "duration": 22,
    "start_time": "2022-06-14T14:16:03.927Z"
   },
   {
    "duration": 9,
    "start_time": "2022-06-14T14:16:03.950Z"
   },
   {
    "duration": 7,
    "start_time": "2022-06-14T14:16:03.978Z"
   },
   {
    "duration": 15,
    "start_time": "2022-06-14T14:16:03.987Z"
   },
   {
    "duration": 17,
    "start_time": "2022-06-14T14:16:04.003Z"
   },
   {
    "duration": 12,
    "start_time": "2022-06-14T14:16:04.022Z"
   },
   {
    "duration": 22,
    "start_time": "2022-06-14T14:16:04.036Z"
   },
   {
    "duration": 5,
    "start_time": "2022-06-14T14:16:04.059Z"
   },
   {
    "duration": 10,
    "start_time": "2022-06-14T14:16:04.066Z"
   },
   {
    "duration": 110,
    "start_time": "2022-06-14T14:16:04.077Z"
   },
   {
    "duration": 5,
    "start_time": "2022-06-14T14:16:04.189Z"
   },
   {
    "duration": 8,
    "start_time": "2022-06-14T14:16:04.196Z"
   },
   {
    "duration": 10,
    "start_time": "2022-06-14T14:16:04.206Z"
   },
   {
    "duration": 16,
    "start_time": "2022-06-14T14:16:04.217Z"
   },
   {
    "duration": 6,
    "start_time": "2022-06-14T14:16:04.235Z"
   },
   {
    "duration": 62,
    "start_time": "2022-06-14T14:16:04.242Z"
   },
   {
    "duration": 30,
    "start_time": "2022-06-14T14:16:04.305Z"
   },
   {
    "duration": 28,
    "start_time": "2022-06-14T14:16:04.336Z"
   },
   {
    "duration": 24,
    "start_time": "2022-06-14T14:16:04.378Z"
   },
   {
    "duration": 2,
    "start_time": "2022-06-14T14:16:04.404Z"
   },
   {
    "duration": 29,
    "start_time": "2022-06-14T14:16:04.407Z"
   },
   {
    "duration": 17,
    "start_time": "2022-06-14T14:16:04.438Z"
   },
   {
    "duration": 28,
    "start_time": "2022-06-14T14:16:04.456Z"
   },
   {
    "duration": 17,
    "start_time": "2022-06-14T14:16:04.485Z"
   },
   {
    "duration": 225,
    "start_time": "2022-06-14T14:16:04.504Z"
   },
   {
    "duration": 226,
    "start_time": "2022-06-14T14:16:04.730Z"
   },
   {
    "duration": 269,
    "start_time": "2022-06-14T14:16:04.957Z"
   },
   {
    "duration": 5,
    "start_time": "2022-06-14T14:16:05.227Z"
   },
   {
    "duration": 433,
    "start_time": "2022-06-14T14:16:05.233Z"
   },
   {
    "duration": 12,
    "start_time": "2022-06-14T14:16:05.667Z"
   },
   {
    "duration": 9,
    "start_time": "2022-06-14T14:16:05.682Z"
   },
   {
    "duration": 228,
    "start_time": "2022-06-14T14:16:05.692Z"
   },
   {
    "duration": 223,
    "start_time": "2022-06-14T14:16:05.922Z"
   },
   {
    "duration": 257,
    "start_time": "2022-06-14T14:16:06.146Z"
   },
   {
    "duration": 4,
    "start_time": "2022-06-14T14:16:06.405Z"
   },
   {
    "duration": 392,
    "start_time": "2022-06-14T14:16:06.411Z"
   },
   {
    "duration": 8,
    "start_time": "2022-06-14T14:16:06.804Z"
   },
   {
    "duration": 667,
    "start_time": "2022-06-14T14:16:06.813Z"
   },
   {
    "duration": 4,
    "start_time": "2022-06-14T14:16:07.482Z"
   },
   {
    "duration": 9,
    "start_time": "2022-06-14T14:16:07.487Z"
   },
   {
    "duration": 3,
    "start_time": "2022-06-14T14:23:46.980Z"
   },
   {
    "duration": 773,
    "start_time": "2022-06-14T14:23:56.585Z"
   },
   {
    "duration": 378,
    "start_time": "2022-06-14T14:23:57.360Z"
   },
   {
    "duration": 27,
    "start_time": "2022-06-14T14:23:57.741Z"
   },
   {
    "duration": 119,
    "start_time": "2022-06-14T14:23:57.777Z"
   },
   {
    "duration": 308,
    "start_time": "2022-06-14T14:23:57.898Z"
   },
   {
    "duration": 25,
    "start_time": "2022-06-14T14:23:58.208Z"
   },
   {
    "duration": 14,
    "start_time": "2022-06-14T14:23:58.235Z"
   },
   {
    "duration": 21,
    "start_time": "2022-06-14T14:23:58.251Z"
   },
   {
    "duration": 51,
    "start_time": "2022-06-14T14:23:58.278Z"
   },
   {
    "duration": 168,
    "start_time": "2022-06-14T14:23:58.330Z"
   },
   {
    "duration": 21,
    "start_time": "2022-06-14T14:23:58.500Z"
   },
   {
    "duration": 8,
    "start_time": "2022-06-14T14:23:58.523Z"
   },
   {
    "duration": 9,
    "start_time": "2022-06-14T14:23:58.532Z"
   },
   {
    "duration": 4,
    "start_time": "2022-06-14T14:23:58.544Z"
   },
   {
    "duration": 32,
    "start_time": "2022-06-14T14:23:58.549Z"
   },
   {
    "duration": 10,
    "start_time": "2022-06-14T14:23:58.583Z"
   },
   {
    "duration": 13,
    "start_time": "2022-06-14T14:23:58.595Z"
   },
   {
    "duration": 4,
    "start_time": "2022-06-14T14:23:58.609Z"
   },
   {
    "duration": 7,
    "start_time": "2022-06-14T14:23:58.614Z"
   },
   {
    "duration": 118,
    "start_time": "2022-06-14T14:23:58.622Z"
   },
   {
    "duration": 6,
    "start_time": "2022-06-14T14:23:58.741Z"
   },
   {
    "duration": 7,
    "start_time": "2022-06-14T14:23:58.748Z"
   },
   {
    "duration": 23,
    "start_time": "2022-06-14T14:23:58.756Z"
   },
   {
    "duration": 17,
    "start_time": "2022-06-14T14:23:58.780Z"
   },
   {
    "duration": 6,
    "start_time": "2022-06-14T14:23:58.798Z"
   },
   {
    "duration": 37,
    "start_time": "2022-06-14T14:23:58.806Z"
   },
   {
    "duration": 48,
    "start_time": "2022-06-14T14:23:58.845Z"
   },
   {
    "duration": 27,
    "start_time": "2022-06-14T14:23:58.894Z"
   },
   {
    "duration": 25,
    "start_time": "2022-06-14T14:23:58.922Z"
   },
   {
    "duration": 3,
    "start_time": "2022-06-14T14:23:58.948Z"
   },
   {
    "duration": 50,
    "start_time": "2022-06-14T14:23:58.952Z"
   },
   {
    "duration": 4,
    "start_time": "2022-06-14T14:23:59.004Z"
   },
   {
    "duration": 21,
    "start_time": "2022-06-14T14:23:59.009Z"
   },
   {
    "duration": 7,
    "start_time": "2022-06-14T14:23:59.031Z"
   },
   {
    "duration": 9,
    "start_time": "2022-06-14T14:23:59.040Z"
   },
   {
    "duration": 234,
    "start_time": "2022-06-14T14:23:59.050Z"
   },
   {
    "duration": 234,
    "start_time": "2022-06-14T14:23:59.285Z"
   },
   {
    "duration": 248,
    "start_time": "2022-06-14T14:23:59.520Z"
   },
   {
    "duration": 11,
    "start_time": "2022-06-14T14:23:59.770Z"
   },
   {
    "duration": 449,
    "start_time": "2022-06-14T14:23:59.782Z"
   },
   {
    "duration": 5,
    "start_time": "2022-06-14T14:24:00.234Z"
   },
   {
    "duration": 14,
    "start_time": "2022-06-14T14:24:00.240Z"
   },
   {
    "duration": 227,
    "start_time": "2022-06-14T14:24:00.255Z"
   },
   {
    "duration": 216,
    "start_time": "2022-06-14T14:24:00.483Z"
   },
   {
    "duration": 257,
    "start_time": "2022-06-14T14:24:00.700Z"
   },
   {
    "duration": 4,
    "start_time": "2022-06-14T14:24:00.959Z"
   },
   {
    "duration": 382,
    "start_time": "2022-06-14T14:24:00.977Z"
   },
   {
    "duration": 8,
    "start_time": "2022-06-14T14:24:01.360Z"
   },
   {
    "duration": 685,
    "start_time": "2022-06-14T14:24:01.378Z"
   },
   {
    "duration": 13,
    "start_time": "2022-06-14T14:24:02.065Z"
   },
   {
    "duration": 5,
    "start_time": "2022-06-14T14:24:02.080Z"
   },
   {
    "duration": 48,
    "start_time": "2022-06-14T14:57:24.443Z"
   },
   {
    "duration": 961,
    "start_time": "2022-06-14T14:57:30.248Z"
   },
   {
    "duration": 1017,
    "start_time": "2022-06-14T14:57:31.211Z"
   },
   {
    "duration": 28,
    "start_time": "2022-06-14T14:57:32.229Z"
   },
   {
    "duration": 125,
    "start_time": "2022-06-14T14:57:32.259Z"
   },
   {
    "duration": 574,
    "start_time": "2022-06-14T14:57:32.386Z"
   },
   {
    "duration": 24,
    "start_time": "2022-06-14T14:57:32.961Z"
   },
   {
    "duration": 22,
    "start_time": "2022-06-14T14:57:32.994Z"
   },
   {
    "duration": 19,
    "start_time": "2022-06-14T14:57:33.018Z"
   },
   {
    "duration": 57,
    "start_time": "2022-06-14T14:57:33.038Z"
   },
   {
    "duration": 181,
    "start_time": "2022-06-14T14:57:33.105Z"
   },
   {
    "duration": 37,
    "start_time": "2022-06-14T14:57:33.288Z"
   },
   {
    "duration": 10,
    "start_time": "2022-06-14T14:57:33.326Z"
   },
   {
    "duration": 11,
    "start_time": "2022-06-14T14:57:33.337Z"
   },
   {
    "duration": 5,
    "start_time": "2022-06-14T14:57:33.351Z"
   },
   {
    "duration": 10,
    "start_time": "2022-06-14T14:57:33.358Z"
   },
   {
    "duration": 33,
    "start_time": "2022-06-14T14:57:33.370Z"
   },
   {
    "duration": 18,
    "start_time": "2022-06-14T14:57:33.406Z"
   },
   {
    "duration": 8,
    "start_time": "2022-06-14T14:57:33.426Z"
   },
   {
    "duration": 10,
    "start_time": "2022-06-14T14:57:33.435Z"
   },
   {
    "duration": 127,
    "start_time": "2022-06-14T14:57:33.447Z"
   },
   {
    "duration": 6,
    "start_time": "2022-06-14T14:57:33.575Z"
   },
   {
    "duration": 24,
    "start_time": "2022-06-14T14:57:33.583Z"
   },
   {
    "duration": 26,
    "start_time": "2022-06-14T14:57:33.609Z"
   },
   {
    "duration": 38,
    "start_time": "2022-06-14T14:57:33.637Z"
   },
   {
    "duration": 35,
    "start_time": "2022-06-14T14:57:33.677Z"
   },
   {
    "duration": 56,
    "start_time": "2022-06-14T14:57:33.714Z"
   },
   {
    "duration": 38,
    "start_time": "2022-06-14T14:57:33.771Z"
   },
   {
    "duration": 35,
    "start_time": "2022-06-14T14:57:33.812Z"
   },
   {
    "duration": 57,
    "start_time": "2022-06-14T14:57:33.849Z"
   },
   {
    "duration": 3,
    "start_time": "2022-06-14T14:57:33.908Z"
   },
   {
    "duration": 66,
    "start_time": "2022-06-14T14:57:33.912Z"
   },
   {
    "duration": 5,
    "start_time": "2022-06-14T14:57:33.981Z"
   },
   {
    "duration": 22,
    "start_time": "2022-06-14T14:57:33.987Z"
   },
   {
    "duration": 21,
    "start_time": "2022-06-14T14:57:34.011Z"
   },
   {
    "duration": 11,
    "start_time": "2022-06-14T14:57:34.034Z"
   },
   {
    "duration": 29,
    "start_time": "2022-06-14T14:57:34.047Z"
   },
   {
    "duration": 262,
    "start_time": "2022-06-14T14:57:34.078Z"
   },
   {
    "duration": 279,
    "start_time": "2022-06-14T14:57:34.342Z"
   },
   {
    "duration": 322,
    "start_time": "2022-06-14T14:57:34.623Z"
   },
   {
    "duration": 6,
    "start_time": "2022-06-14T14:57:34.946Z"
   },
   {
    "duration": 554,
    "start_time": "2022-06-14T14:57:34.956Z"
   },
   {
    "duration": 6,
    "start_time": "2022-06-14T14:57:35.512Z"
   },
   {
    "duration": 28,
    "start_time": "2022-06-14T14:57:35.519Z"
   },
   {
    "duration": 268,
    "start_time": "2022-06-14T14:57:35.548Z"
   },
   {
    "duration": 289,
    "start_time": "2022-06-14T14:57:35.818Z"
   },
   {
    "duration": 307,
    "start_time": "2022-06-14T14:57:36.109Z"
   },
   {
    "duration": 5,
    "start_time": "2022-06-14T14:57:36.417Z"
   },
   {
    "duration": 530,
    "start_time": "2022-06-14T14:57:36.424Z"
   },
   {
    "duration": 7,
    "start_time": "2022-06-14T14:57:36.956Z"
   },
   {
    "duration": 690,
    "start_time": "2022-06-14T14:57:36.965Z"
   },
   {
    "duration": 5,
    "start_time": "2022-06-14T14:57:37.657Z"
   },
   {
    "duration": 10,
    "start_time": "2022-06-14T14:57:37.664Z"
   },
   {
    "duration": 5,
    "start_time": "2022-06-14T14:58:33.518Z"
   },
   {
    "duration": 5,
    "start_time": "2022-06-14T14:59:09.514Z"
   },
   {
    "duration": 34,
    "start_time": "2022-06-14T15:01:23.392Z"
   },
   {
    "duration": 35,
    "start_time": "2022-06-14T15:01:26.906Z"
   },
   {
    "duration": 71,
    "start_time": "2022-06-14T15:01:46.642Z"
   },
   {
    "duration": 53,
    "start_time": "2022-06-14T15:01:52.686Z"
   },
   {
    "duration": 38,
    "start_time": "2022-06-14T15:01:55.736Z"
   },
   {
    "duration": 9,
    "start_time": "2022-06-14T15:03:02.514Z"
   },
   {
    "duration": 13,
    "start_time": "2022-06-14T15:03:11.154Z"
   },
   {
    "duration": 9,
    "start_time": "2022-06-14T15:04:09.786Z"
   },
   {
    "duration": 46,
    "start_time": "2022-06-14T15:04:43.753Z"
   },
   {
    "duration": 13,
    "start_time": "2022-06-14T15:05:22.678Z"
   },
   {
    "duration": 56,
    "start_time": "2022-06-14T15:06:55.789Z"
   },
   {
    "duration": 19,
    "start_time": "2022-06-14T15:10:15.588Z"
   },
   {
    "duration": 46,
    "start_time": "2022-06-14T15:10:44.269Z"
   },
   {
    "duration": 35,
    "start_time": "2022-06-14T15:14:11.157Z"
   },
   {
    "duration": 5,
    "start_time": "2022-06-14T15:14:28.252Z"
   },
   {
    "duration": 42,
    "start_time": "2022-06-14T21:51:29.493Z"
   },
   {
    "duration": 897,
    "start_time": "2022-06-14T21:51:42.565Z"
   },
   {
    "duration": 457,
    "start_time": "2022-06-14T21:51:43.465Z"
   },
   {
    "duration": 37,
    "start_time": "2022-06-14T21:51:43.924Z"
   },
   {
    "duration": 138,
    "start_time": "2022-06-14T21:51:43.963Z"
   },
   {
    "duration": 374,
    "start_time": "2022-06-14T21:51:44.104Z"
   },
   {
    "duration": 42,
    "start_time": "2022-06-14T21:51:44.480Z"
   },
   {
    "duration": 11,
    "start_time": "2022-06-14T21:51:44.525Z"
   },
   {
    "duration": 17,
    "start_time": "2022-06-14T21:51:44.538Z"
   },
   {
    "duration": 98,
    "start_time": "2022-06-14T21:51:44.557Z"
   },
   {
    "duration": 183,
    "start_time": "2022-06-14T21:51:44.657Z"
   },
   {
    "duration": 25,
    "start_time": "2022-06-14T21:51:44.842Z"
   },
   {
    "duration": 27,
    "start_time": "2022-06-14T21:51:44.869Z"
   },
   {
    "duration": 13,
    "start_time": "2022-06-14T21:51:44.898Z"
   },
   {
    "duration": 7,
    "start_time": "2022-06-14T21:51:44.915Z"
   },
   {
    "duration": 12,
    "start_time": "2022-06-14T21:51:44.924Z"
   },
   {
    "duration": 13,
    "start_time": "2022-06-14T21:51:44.938Z"
   },
   {
    "duration": 42,
    "start_time": "2022-06-14T21:51:44.953Z"
   },
   {
    "duration": 6,
    "start_time": "2022-06-14T21:51:44.997Z"
   },
   {
    "duration": 14,
    "start_time": "2022-06-14T21:51:45.005Z"
   },
   {
    "duration": 139,
    "start_time": "2022-06-14T21:51:45.020Z"
   },
   {
    "duration": 7,
    "start_time": "2022-06-14T21:51:45.160Z"
   },
   {
    "duration": 10,
    "start_time": "2022-06-14T21:51:45.169Z"
   },
   {
    "duration": 20,
    "start_time": "2022-06-14T21:51:45.181Z"
   },
   {
    "duration": 20,
    "start_time": "2022-06-14T21:51:45.202Z"
   },
   {
    "duration": 8,
    "start_time": "2022-06-14T21:51:45.224Z"
   },
   {
    "duration": 62,
    "start_time": "2022-06-14T21:51:45.235Z"
   },
   {
    "duration": 34,
    "start_time": "2022-06-14T21:51:45.299Z"
   },
   {
    "duration": 35,
    "start_time": "2022-06-14T21:51:45.334Z"
   },
   {
    "duration": 50,
    "start_time": "2022-06-14T21:51:45.370Z"
   },
   {
    "duration": 3,
    "start_time": "2022-06-14T21:51:45.422Z"
   },
   {
    "duration": 17,
    "start_time": "2022-06-14T21:51:45.427Z"
   },
   {
    "duration": 13,
    "start_time": "2022-06-14T21:51:45.446Z"
   },
   {
    "duration": 42,
    "start_time": "2022-06-14T21:51:45.495Z"
   },
   {
    "duration": 5,
    "start_time": "2022-06-14T21:51:45.539Z"
   },
   {
    "duration": 28,
    "start_time": "2022-06-14T21:51:45.545Z"
   },
   {
    "duration": 88,
    "start_time": "2022-06-14T21:51:45.575Z"
   },
   {
    "duration": 30,
    "start_time": "2022-06-14T21:51:45.664Z"
   },
   {
    "duration": 9,
    "start_time": "2022-06-14T21:51:45.697Z"
   },
   {
    "duration": 10,
    "start_time": "2022-06-14T21:51:45.708Z"
   },
   {
    "duration": 75,
    "start_time": "2022-06-14T21:51:45.719Z"
   },
   {
    "duration": 11,
    "start_time": "2022-06-14T21:51:45.798Z"
   },
   {
    "duration": 38,
    "start_time": "2022-06-14T21:51:45.811Z"
   },
   {
    "duration": 12,
    "start_time": "2022-06-14T21:51:45.852Z"
   },
   {
    "duration": 36,
    "start_time": "2022-06-14T21:51:45.867Z"
   },
   {
    "duration": 315,
    "start_time": "2022-06-14T21:51:45.907Z"
   },
   {
    "duration": 250,
    "start_time": "2022-06-14T21:51:46.224Z"
   },
   {
    "duration": 307,
    "start_time": "2022-06-14T21:51:46.476Z"
   },
   {
    "duration": 12,
    "start_time": "2022-06-14T21:51:46.784Z"
   },
   {
    "duration": 7,
    "start_time": "2022-06-14T21:51:46.799Z"
   },
   {
    "duration": 4,
    "start_time": "2022-06-14T21:51:46.808Z"
   },
   {
    "duration": 316,
    "start_time": "2022-06-14T21:51:46.814Z"
   },
   {
    "duration": 385,
    "start_time": "2022-06-14T21:51:47.132Z"
   },
   {
    "duration": 309,
    "start_time": "2022-06-14T21:51:47.519Z"
   },
   {
    "duration": 8,
    "start_time": "2022-06-14T21:51:47.830Z"
   },
   {
    "duration": 437,
    "start_time": "2022-06-14T21:51:47.839Z"
   },
   {
    "duration": 419,
    "start_time": "2022-06-14T21:51:48.278Z"
   },
   {
    "duration": 9,
    "start_time": "2022-06-14T21:51:48.698Z"
   },
   {
    "duration": 752,
    "start_time": "2022-06-14T21:51:48.709Z"
   },
   {
    "duration": 160,
    "start_time": "2022-06-14T21:51:49.462Z"
   },
   {
    "duration": 190,
    "start_time": "2022-06-14T21:51:49.625Z"
   },
   {
    "duration": 25,
    "start_time": "2022-06-14T21:51:49.817Z"
   },
   {
    "duration": 106,
    "start_time": "2022-06-14T21:51:49.844Z"
   },
   {
    "duration": 242,
    "start_time": "2022-06-14T21:52:16.486Z"
   },
   {
    "duration": 250,
    "start_time": "2022-06-14T21:52:28.427Z"
   },
   {
    "duration": 210,
    "start_time": "2022-06-14T21:53:29.404Z"
   },
   {
    "duration": 206,
    "start_time": "2022-06-14T21:53:38.172Z"
   }
  ],
  "kernelspec": {
   "display_name": "Python 3 (ipykernel)",
   "language": "python",
   "name": "python3"
  },
  "language_info": {
   "codemirror_mode": {
    "name": "ipython",
    "version": 3
   },
   "file_extension": ".py",
   "mimetype": "text/x-python",
   "name": "python",
   "nbconvert_exporter": "python",
   "pygments_lexer": "ipython3",
   "version": "3.9.5"
  },
  "toc": {
   "base_numbering": 1,
   "nav_menu": {},
   "number_sections": true,
   "sideBar": true,
   "skip_h1_title": true,
   "title_cell": "Table of Contents",
   "title_sidebar": "Contents",
   "toc_cell": false,
   "toc_position": {
    "height": "calc(100% - 180px)",
    "left": "10px",
    "top": "150px",
    "width": "181.682px"
   },
   "toc_section_display": true,
   "toc_window_display": true
  }
 },
 "nbformat": 4,
 "nbformat_minor": 2
}
