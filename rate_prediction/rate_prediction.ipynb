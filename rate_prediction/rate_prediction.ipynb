{
 "cells": [
  {
   "cell_type": "markdown",
   "id": "19a04a57",
   "metadata": {},
   "source": [
    "# Рекомендация тарифов"
   ]
  },
  {
   "cell_type": "markdown",
   "id": "2378d66d",
   "metadata": {},
   "source": [
    "## Введение\n",
    "Многие клиенты компании продолжают использовать тарифы, ставшие архивными. Наша задача - изучить пользовательское поведение клиентов, перешедших на актуальные тарифы, для того, чтобы предложить клиентам с архивными тарифами наиболее интересные им активные тарифы. \n",
    "\n",
    "В нашем распоряжении данные по количеству потраченных минут, отправленных сообщений и объему использованного трафика клиентов с актуальными тарифами. А также признак использования тарифа \"Смарт\" или \"Ультра\". \n",
    "\n",
    "Предобработка данных выполнена ранее, поэтому выполним анализ данных без этого этапа. "
   ]
  },
  {
   "cell_type": "markdown",
   "id": "adf6fbbb",
   "metadata": {},
   "source": [
    "# Изучение данных"
   ]
  },
  {
   "cell_type": "code",
   "execution_count": 1,
   "id": "75345a88",
   "metadata": {},
   "outputs": [],
   "source": [
    "import pandas as pd\n",
    "from sklearn.model_selection import train_test_split\n",
    "from sklearn.tree import DecisionTreeClassifier\n",
    "from sklearn.ensemble import RandomForestClassifier\n",
    "from sklearn.linear_model import LogisticRegression\n",
    "from sklearn.metrics import accuracy_score\n",
    "from sklearn.tree import plot_tree\n",
    "from sklearn.dummy import DummyClassifier\n",
    "import matplotlib.pyplot as plt"
   ]
  },
  {
   "cell_type": "code",
   "execution_count": 2,
   "id": "c67a0341",
   "metadata": {},
   "outputs": [
    {
     "data": {
      "text/html": [
       "<div>\n",
       "<style scoped>\n",
       "    .dataframe tbody tr th:only-of-type {\n",
       "        vertical-align: middle;\n",
       "    }\n",
       "\n",
       "    .dataframe tbody tr th {\n",
       "        vertical-align: top;\n",
       "    }\n",
       "\n",
       "    .dataframe thead th {\n",
       "        text-align: right;\n",
       "    }\n",
       "</style>\n",
       "<table border=\"1\" class=\"dataframe\">\n",
       "  <thead>\n",
       "    <tr style=\"text-align: right;\">\n",
       "      <th></th>\n",
       "      <th>calls</th>\n",
       "      <th>minutes</th>\n",
       "      <th>messages</th>\n",
       "      <th>mb_used</th>\n",
       "      <th>is_ultra</th>\n",
       "    </tr>\n",
       "  </thead>\n",
       "  <tbody>\n",
       "    <tr>\n",
       "      <th>0</th>\n",
       "      <td>40.0</td>\n",
       "      <td>311.90</td>\n",
       "      <td>83.0</td>\n",
       "      <td>19915.42</td>\n",
       "      <td>0</td>\n",
       "    </tr>\n",
       "    <tr>\n",
       "      <th>1</th>\n",
       "      <td>85.0</td>\n",
       "      <td>516.75</td>\n",
       "      <td>56.0</td>\n",
       "      <td>22696.96</td>\n",
       "      <td>0</td>\n",
       "    </tr>\n",
       "    <tr>\n",
       "      <th>2</th>\n",
       "      <td>77.0</td>\n",
       "      <td>467.66</td>\n",
       "      <td>86.0</td>\n",
       "      <td>21060.45</td>\n",
       "      <td>0</td>\n",
       "    </tr>\n",
       "    <tr>\n",
       "      <th>3</th>\n",
       "      <td>106.0</td>\n",
       "      <td>745.53</td>\n",
       "      <td>81.0</td>\n",
       "      <td>8437.39</td>\n",
       "      <td>1</td>\n",
       "    </tr>\n",
       "    <tr>\n",
       "      <th>4</th>\n",
       "      <td>66.0</td>\n",
       "      <td>418.74</td>\n",
       "      <td>1.0</td>\n",
       "      <td>14502.75</td>\n",
       "      <td>0</td>\n",
       "    </tr>\n",
       "  </tbody>\n",
       "</table>\n",
       "</div>"
      ],
      "text/plain": [
       "   calls  minutes  messages   mb_used  is_ultra\n",
       "0   40.0   311.90      83.0  19915.42         0\n",
       "1   85.0   516.75      56.0  22696.96         0\n",
       "2   77.0   467.66      86.0  21060.45         0\n",
       "3  106.0   745.53      81.0   8437.39         1\n",
       "4   66.0   418.74       1.0  14502.75         0"
      ]
     },
     "execution_count": 2,
     "metadata": {},
     "output_type": "execute_result"
    }
   ],
   "source": [
    "df = pd.read_csv('/datasets/users_behavior.csv')\n",
    "df.head()"
   ]
  },
  {
   "cell_type": "code",
   "execution_count": 3,
   "id": "943dd0c7",
   "metadata": {},
   "outputs": [
    {
     "name": "stdout",
     "output_type": "stream",
     "text": [
      "<class 'pandas.core.frame.DataFrame'>\n",
      "RangeIndex: 3214 entries, 0 to 3213\n",
      "Data columns (total 5 columns):\n",
      " #   Column    Non-Null Count  Dtype  \n",
      "---  ------    --------------  -----  \n",
      " 0   calls     3214 non-null   float64\n",
      " 1   minutes   3214 non-null   float64\n",
      " 2   messages  3214 non-null   float64\n",
      " 3   mb_used   3214 non-null   float64\n",
      " 4   is_ultra  3214 non-null   int64  \n",
      "dtypes: float64(4), int64(1)\n",
      "memory usage: 125.7 KB\n"
     ]
    }
   ],
   "source": [
    "df.info()"
   ]
  },
  {
   "cell_type": "code",
   "execution_count": 4,
   "id": "72cb2562",
   "metadata": {},
   "outputs": [
    {
     "data": {
      "text/plain": [
       "0    2229\n",
       "1     985\n",
       "Name: is_ultra, dtype: int64"
      ]
     },
     "execution_count": 4,
     "metadata": {},
     "output_type": "execute_result"
    }
   ],
   "source": [
    "df['is_ultra'].value_counts()"
   ]
  },
  {
   "cell_type": "markdown",
   "id": "5194e176",
   "metadata": {},
   "source": [
    "В нашем распоряжении 3214 записей пользовательского поведения. \n",
    "Также, видим, что количество пользовтелей тарифа ультра приблизительно в два раза меньше, чем пользователей тарифа смарт.\n",
    "Предобработка данных выполнена. "
   ]
  },
  {
   "cell_type": "markdown",
   "id": "f0250569",
   "metadata": {},
   "source": [
    "## Создание обучающих, тестовой и валидационных выборок данных"
   ]
  },
  {
   "cell_type": "markdown",
   "id": "93e63358",
   "metadata": {},
   "source": [
    "Разделим выборки на обучающую, тестовую и валидационную в пропорциях 3:1:1"
   ]
  },
  {
   "cell_type": "code",
   "execution_count": 5,
   "id": "2bd5a221",
   "metadata": {},
   "outputs": [
    {
     "name": "stdout",
     "output_type": "stream",
     "text": [
      "Размер обучающей выборки 1928\n",
      "Размер валидационной выборки 643\n",
      "Размер валидационной выборки 643\n"
     ]
    }
   ],
   "source": [
    "features = df.drop(columns = ['is_ultra'])\n",
    "target = df['is_ultra']\n",
    "\n",
    "# Делим выборку на обучающую и тестовую + валидационную\n",
    "features_train, features_test_valid, target_train, target_test_valid = train_test_split(features, target, random_state = 12345, test_size = 0.4, stratify = target)\n",
    "# Разделяем тестовую и валидационные выборки\n",
    "features_valid, features_test, target_valid, target_test = train_test_split (features_test_valid, target_test_valid, random_state = 12345, test_size = 0.5, stratify = target_test_valid)\n",
    "\n",
    "print ('Размер обучающей выборки', features_train.shape[0])\n",
    "print ('Размер валидационной выборки', features_valid.shape[0])\n",
    "print ('Размер валидационной выборки', features_test.shape[0])"
   ]
  },
  {
   "cell_type": "markdown",
   "id": "96f0230e",
   "metadata": {},
   "source": [
    "## Исследование моделей"
   ]
  },
  {
   "cell_type": "markdown",
   "id": "505f10f8",
   "metadata": {},
   "source": [
    "Наше исследование - задача классификации. В качестве показателя качества модели будем использовать `accuracy` обученной модели.\n",
    "Рассмотрим три способа обучения: \n",
    "1. DecisionTreeClassification\n",
    "2. RandomForestClassification\n",
    "3. LogisticRegression\n",
    "</p>Для каждого из них проверим различные значения гиперпараметров, чтобы выбрать наиболее оптимальный способ обучения, далее выберем способ, с оптимальным соотношением по значению `accuracy` и временем обработки данных. "
   ]
  },
  {
   "cell_type": "code",
   "execution_count": 6,
   "id": "2b409e3d",
   "metadata": {
    "scrolled": true
   },
   "outputs": [
    {
     "name": "stdout",
     "output_type": "stream",
     "text": [
      "DecisionTreeClassifier лучший результат: 0.7853810264385692 с глубиной дерева: 5 DecisionTreeClassifier(max_depth=5, random_state=12345)\n"
     ]
    },
    {
     "data": {
      "image/png": "[encoded data removed]",
      "text/plain": [
       "<Figure size 720x720 with 1 Axes>"
      ]
     },
     "metadata": {
      "needs_background": "light"
     },
     "output_type": "display_data"
    }
   ],
   "source": [
    "best_result = 0\n",
    "best_depth = 0\n",
    "best_model_tree = None\n",
    "depth_values = []\n",
    "results = []\n",
    "\n",
    "for d in range(1,6):\n",
    "    model_tree = DecisionTreeClassifier(random_state = 12345, max_depth = d)\n",
    "    model_tree.fit(features_train, target_train)\n",
    "    predicted_values = model_tree.predict(features_valid)\n",
    "    result = accuracy_score(predicted_values, target_valid)\n",
    "    depth_values.append(d)\n",
    "    results.append(result)\n",
    "    if result > best_result:\n",
    "        best_result = result\n",
    "        best_model_tree = model_tree\n",
    "        best_depth = d\n",
    "print ('DecisionTreeClassifier лучший результат:', best_result, 'с глубиной дерева:', best_depth, best_model_tree)\n",
    "\n",
    "plt.figure(figsize=(10, 10))\n",
    "plt.grid()\n",
    "plt.title('accuracy в зависимости от глубины дерева')\n",
    "plt.xlabel('глубина дерева')\n",
    "plt.ylabel('accuracy')\n",
    "plt.plot(depth_values, results)\n",
    "plt.show()\n"
   ]
  },
  {
   "cell_type": "markdown",
   "id": "a9612bda",
   "metadata": {},
   "source": [
    "Из всех моделей дерева принятия решений, лучший рещультат по точности дает дерево с глубиной - 3. Значение accuracy = 0.785"
   ]
  },
  {
   "cell_type": "code",
   "execution_count": 7,
   "id": "007a6795",
   "metadata": {},
   "outputs": [
    {
     "name": "stdout",
     "output_type": "stream",
     "text": [
      "RandomForestClassifier(max_depth=5, n_estimators=50, random_state=12345) accuracy= 0.8009331259720062\n"
     ]
    },
    {
     "data": {
      "image/png": "[encoded data removed]",
      "text/plain": [
       "<Figure size 720x720 with 1 Axes>"
      ]
     },
     "metadata": {
      "needs_background": "light"
     },
     "output_type": "display_data"
    }
   ],
   "source": [
    "best_result = 0\n",
    "best_depth = 0\n",
    "best_est = 0\n",
    "best_model_forest = None\n",
    "forest_depth = []\n",
    "forest_estimators = []\n",
    "forest_accuracy =[]\n",
    "\n",
    "\n",
    "for e in range(10,101,10):\n",
    "    for d in range (1,6):\n",
    "        model_forest = RandomForestClassifier(random_state = 12345, n_estimators = e, max_depth = d)\n",
    "        model_forest.fit(features_train, target_train)\n",
    "        predicted_values = model_forest.predict(features_valid)\n",
    "        result = accuracy_score(predicted_values, target_valid)\n",
    "        forest_depth.append(d)\n",
    "        forest_estimators.append(e)\n",
    "        forest_accuracy.append(result)\n",
    "        if result > best_result:\n",
    "            best_result = result\n",
    "            best_depth = d\n",
    "            best_est = e\n",
    "            best_model_forest = model_forest\n",
    "print (best_model_forest, 'accuracy=',best_result)\n",
    "\n",
    "plt.figure(figsize=(10, 10))\n",
    "plt.grid()\n",
    "plt.title('accuracy в зависимости от количества деревьев')\n",
    "plt.xlabel('количество деревьев')\n",
    "plt.ylabel('accuracy')\n",
    "plt.plot(forest_estimators, forest_accuracy)\n",
    "plt.show()\n"
   ]
  },
  {
   "cell_type": "markdown",
   "id": "7dcad139",
   "metadata": {},
   "source": [
    "Из всех моделей классификации случайного леса лучший результат дает случайный лес с 40 деревьями и максимальной глубиной в 5. Значение accuracy при таких значениях гиперпараметров = 0.794"
   ]
  },
  {
   "cell_type": "code",
   "execution_count": 8,
   "id": "b36682bc",
   "metadata": {},
   "outputs": [
    {
     "name": "stderr",
     "output_type": "stream",
     "text": [
      "/opt/conda/lib/python3.9/site-packages/sklearn/linear_model/_logistic.py:763: ConvergenceWarning: lbfgs failed to converge (status=1):\n",
      "STOP: TOTAL NO. of ITERATIONS REACHED LIMIT.\n",
      "\n",
      "Increase the number of iterations (max_iter) or scale the data as shown in:\n",
      "    https://scikit-learn.org/stable/modules/preprocessing.html\n",
      "Please also refer to the documentation for alternative solver options:\n",
      "    https://scikit-learn.org/stable/modules/linear_model.html#logistic-regression\n",
      "  n_iter_i = _check_optimize_result(\n"
     ]
    },
    {
     "name": "stdout",
     "output_type": "stream",
     "text": [
      "LogisticRegression(random_state=12345) оптимальное количетсво итераций : 100 accuracy= 0.7387247278382582\n"
     ]
    }
   ],
   "source": [
    "best_n_iter = 0\n",
    "best_model_regression = None\n",
    "best_result = 0\n",
    "\n",
    "\n",
    "for i in range (0,1001, 100):\n",
    "    model_regression = LogisticRegression(random_state = 12345, max_iter = i, solver = 'lbfgs')\n",
    "    model_regression.fit(features_train, target_train)\n",
    "    predicted_values = model_regression.predict(features_valid)\n",
    "    result = accuracy_score(predicted_values, target_valid)\n",
    "    if result > best_result:\n",
    "        best_result = result\n",
    "        best_model = model_regression\n",
    "        best_n_iter = i\n",
    "print (best_model, 'оптимальное количетсво итераций :', best_n_iter, 'accuracy=', best_result)"
   ]
  },
  {
   "cell_type": "markdown",
   "id": "be7bb562",
   "metadata": {},
   "source": [
    "Логическая регрессия дает наименьшее значение accuracy, 0.71, при оптимальном количестве итераций = 100. "
   ]
  },
  {
   "cell_type": "markdown",
   "id": "605f5e7a",
   "metadata": {},
   "source": [
    "Выберем в качестве основной модели обучения - RandomForestClassifier, из-за лучшего значения accuracy_score. \n",
    "Гиперпараметры выбранной модели: 40 деревьев, с глубиной не более 5. \n",
    "Посчитаем `accuracy` на тестовой выборке"
   ]
  },
  {
   "cell_type": "markdown",
   "id": "99f527f2",
   "metadata": {},
   "source": [
    "## Проверка модели на тестовой выборке"
   ]
  },
  {
   "cell_type": "code",
   "execution_count": 9,
   "id": "e352cf3a",
   "metadata": {},
   "outputs": [
    {
     "name": "stdout",
     "output_type": "stream",
     "text": [
      "accuracy по тестовой выборке составляет: 0.8320373250388803\n"
     ]
    }
   ],
   "source": [
    "best_model_forest.fit(features_valid, target_valid)\n",
    "test_predicted_values = best_model_forest.predict(features_test)\n",
    "result = accuracy_score(test_predicted_values, target_test)\n",
    "print ('accuracy по тестовой выборке составляет:', result)"
   ]
  },
  {
   "cell_type": "markdown",
   "id": "4eb375e7",
   "metadata": {},
   "source": [
    "## Проверка модели на вменяемость"
   ]
  },
  {
   "cell_type": "markdown",
   "id": "c34fa7a7",
   "metadata": {},
   "source": [
    "Выполним проверку на адекватность построенноенной модели с помощью новой модели `dummy`, которая игнорирует параметры обучения и предсказывает значения `target` случайным образом. Далее, сравним, accuracy двух моделей."
   ]
  },
  {
   "cell_type": "code",
   "execution_count": 10,
   "id": "6fb58e6f",
   "metadata": {},
   "outputs": [
    {
     "name": "stdout",
     "output_type": "stream",
     "text": [
      "0.6936236391912908\n"
     ]
    }
   ],
   "source": [
    "model_dummy = DummyClassifier(random_state = 12345, strategy ='prior')\n",
    "model_dummy.fit(features_valid, target_valid)\n",
    "model_dummy.fit(features_train, target_train)\n",
    "predicted_dummy = model_dummy.predict(features_test)\n",
    "result_dummy = accuracy_score(target_test, predicted_dummy)\n",
    "print (result_dummy)"
   ]
  },
  {
   "cell_type": "markdown",
   "id": "c7aa734a",
   "metadata": {},
   "source": [
    "Значение accuracy выбранной модели Random Forest превосходит значение accuracy модели Dummy на 10%. Делаем вывод, что наша модель вменяема. "
   ]
  },
  {
   "cell_type": "markdown",
   "id": "d81ef342",
   "metadata": {},
   "source": [
    "Сохраним предсказанные значения в колонке `predicted` тестовой выборки и целевые в колонке `target`. \n",
    "Далее, найдем значения, где предсказанное значение отличается от реального и исследуем их подробнее. "
   ]
  },
  {
   "cell_type": "code",
   "execution_count": 11,
   "id": "72a43b8d",
   "metadata": {},
   "outputs": [
    {
     "name": "stdout",
     "output_type": "stream",
     "text": [
      "108\n",
      "643\n"
     ]
    },
    {
     "name": "stderr",
     "output_type": "stream",
     "text": [
      "/tmp/ipykernel_97/2397485715.py:1: SettingWithCopyWarning: \n",
      "A value is trying to be set on a copy of a slice from a DataFrame.\n",
      "Try using .loc[row_indexer,col_indexer] = value instead\n",
      "\n",
      "See the caveats in the documentation: https://pandas.pydata.org/pandas-docs/stable/user_guide/indexing.html#returning-a-view-versus-a-copy\n",
      "  features_test['target'] = target_test\n",
      "/tmp/ipykernel_97/2397485715.py:2: SettingWithCopyWarning: \n",
      "A value is trying to be set on a copy of a slice from a DataFrame.\n",
      "Try using .loc[row_indexer,col_indexer] = value instead\n",
      "\n",
      "See the caveats in the documentation: https://pandas.pydata.org/pandas-docs/stable/user_guide/indexing.html#returning-a-view-versus-a-copy\n",
      "  features_test['predicted'] = test_predicted_values\n"
     ]
    }
   ],
   "source": [
    "features_test['target'] = target_test\n",
    "features_test['predicted'] = test_predicted_values\n",
    "errors = features_test.query('target!=predicted')\n",
    "print (errors.shape[0])\n",
    "print (features_test.shape[0])"
   ]
  },
  {
   "cell_type": "markdown",
   "id": "9636aecb",
   "metadata": {},
   "source": [
    "В нашем распоряжении 643 тестовых значения и 139 ошибочных предсказаний. \n",
    "Рассмотрим два пограничных сценария: \n",
    "1. Клиент по всем параметрам соответствует тарифу \"Ультра\" - модель определяет его в тариф \"Смарт\"\n",
    "2. Клиент по всем параметрам соответствует тарифу \"Смарт\" - модель определяет его в \"Ультра\"\n",
    "Далее, оценим процент таких случаев относительно общего количества ошибок"
   ]
  },
  {
   "cell_type": "code",
   "execution_count": 12,
   "id": "a1ad0bbd",
   "metadata": {},
   "outputs": [
    {
     "data": {
      "text/plain": [
       "5"
      ]
     },
     "execution_count": 12,
     "metadata": {},
     "output_type": "execute_result"
    }
   ],
   "source": [
    "errors.query('minutes > 500 and messages > 50 and mb_used>15360 and predicted == 0').shape[0]"
   ]
  },
  {
   "cell_type": "code",
   "execution_count": 13,
   "id": "a94cce11",
   "metadata": {},
   "outputs": [
    {
     "data": {
      "text/plain": [
       "1"
      ]
     },
     "execution_count": 13,
     "metadata": {},
     "output_type": "execute_result"
    }
   ],
   "source": [
    "errors.query('minutes <= 500 and messages <= 50 and mb_used<=15360 and predicted == 1').shape[0]"
   ]
  },
  {
   "cell_type": "markdown",
   "id": "32eac8bb",
   "metadata": {},
   "source": [
    "Итого, 4 ошибки, где клиент по всем параметрам соответвует одному тарифу, а модель предсказывает другой. \n",
    "Это составляет 0.6% от тестовой выборки и 2.8% от всех ошибок. \n",
    "Далее, исключим из анализируемых параметров количетсво отправленных сообщений, так как это наименее важный критерий из трех, при определении тарифа клиентом. \n",
    "Новые пограничные состояния: \n",
    "1. Клиент по количеству минут и отправленных сообщений соответствует тарифу \"Ультра\" - модель определяет его в тариф \"Смарт\"\n",
    "2. Клиент по по количеству минут и отправленных сообщений соответствует тарифу \"Смарт\" - модель определяет его в \"Ультра\""
   ]
  },
  {
   "cell_type": "code",
   "execution_count": 14,
   "id": "3712d53e",
   "metadata": {},
   "outputs": [
    {
     "data": {
      "text/plain": [
       "26"
      ]
     },
     "execution_count": 14,
     "metadata": {},
     "output_type": "execute_result"
    }
   ],
   "source": [
    "errors.query('minutes > 500 and mb_used>15360 and predicted == 0').shape[0]"
   ]
  },
  {
   "cell_type": "code",
   "execution_count": 15,
   "id": "81afe192",
   "metadata": {},
   "outputs": [
    {
     "data": {
      "text/plain": [
       "2"
      ]
     },
     "execution_count": 15,
     "metadata": {},
     "output_type": "execute_result"
    }
   ],
   "source": [
    "errors.query('minutes <= 500 and mb_used<=15360 and predicted == 1').shape[0]"
   ]
  },
  {
   "cell_type": "markdown",
   "id": "2ec7e6be",
   "metadata": {},
   "source": [
    "Количество ошибок увеличилось до 23 и составляет 3.5% от общей тестовой выборки и 16.5 % от всех ошибок модели.\n",
    "Вывод, оставляем выбранную модель в качестве основной."
   ]
  },
  {
   "cell_type": "markdown",
   "id": "23650525",
   "metadata": {},
   "source": [
    "## Выводы\n",
    "Были исследованы три модели машинного обучения для прогнозирования оптимального тарифа клиентам - обладателям архивного тарифа:\n",
    "1. DecisionTreeClassifier - лучшее значение accuracy на валидационной выборке = 0.785 \n",
    "2. RandomForestClassifier - лучшее значение accuracy на валидационной выборке = 0.794\n",
    "3. LogisticRegression - лучшее значение accuracy на валидационной выборке = 0.71\n",
    "Для промышленного использования была выбрана модель RandomForestClassifier с количеством деревьев = 40 и максимальной глубиной = 5. По итогам проверки данной модели на тестовой выборке получено значение accuracy = 0.783\n"
   ]
  }
 ],
 "metadata": {
  "ExecuteTimeLog": [
   {
    "duration": 50,
    "start_time": "2022-07-04T10:24:44.929Z"
   },
   {
    "duration": 1366,
    "start_time": "2022-07-04T10:24:50.481Z"
   },
   {
    "duration": 47,
    "start_time": "2022-07-04T10:24:51.849Z"
   },
   {
    "duration": 12,
    "start_time": "2022-07-04T10:24:51.898Z"
   },
   {
    "duration": 8,
    "start_time": "2022-07-04T10:24:51.912Z"
   },
   {
    "duration": 35,
    "start_time": "2022-07-04T10:24:51.923Z"
   },
   {
    "duration": 5842,
    "start_time": "2022-07-04T10:24:51.960Z"
   },
   {
    "duration": 238,
    "start_time": "2022-07-04T10:24:57.804Z"
   },
   {
    "duration": 13,
    "start_time": "2022-07-04T10:24:58.044Z"
   },
   {
    "duration": 10,
    "start_time": "2022-07-04T10:24:58.059Z"
   },
   {
    "duration": 10,
    "start_time": "2022-07-04T10:24:58.071Z"
   },
   {
    "duration": 8,
    "start_time": "2022-07-04T10:24:58.082Z"
   },
   {
    "duration": 9,
    "start_time": "2022-07-04T10:24:58.092Z"
   },
   {
    "duration": 43,
    "start_time": "2022-07-04T10:24:58.102Z"
   },
   {
    "duration": 248,
    "start_time": "2022-07-04T10:25:24.079Z"
   },
   {
    "duration": 1359,
    "start_time": "2022-07-04T10:31:34.281Z"
   },
   {
    "duration": 50,
    "start_time": "2022-07-04T10:31:35.642Z"
   },
   {
    "duration": 12,
    "start_time": "2022-07-04T10:31:35.693Z"
   },
   {
    "duration": 13,
    "start_time": "2022-07-04T10:31:35.707Z"
   },
   {
    "duration": 40,
    "start_time": "2022-07-04T10:31:35.722Z"
   },
   {
    "duration": 5932,
    "start_time": "2022-07-04T10:31:35.764Z"
   },
   {
    "duration": 232,
    "start_time": "2022-07-04T10:31:41.698Z"
   },
   {
    "duration": 20,
    "start_time": "2022-07-04T10:31:41.932Z"
   },
   {
    "duration": 9,
    "start_time": "2022-07-04T10:31:41.955Z"
   },
   {
    "duration": 8,
    "start_time": "2022-07-04T10:31:41.967Z"
   },
   {
    "duration": 9,
    "start_time": "2022-07-04T10:31:41.976Z"
   },
   {
    "duration": 12,
    "start_time": "2022-07-04T10:31:41.987Z"
   },
   {
    "duration": 45,
    "start_time": "2022-07-04T10:31:42.000Z"
   },
   {
    "duration": 7,
    "start_time": "2022-07-04T10:32:11.926Z"
   },
   {
    "duration": 1646,
    "start_time": "2022-07-07T12:23:43.468Z"
   },
   {
    "duration": 132,
    "start_time": "2022-07-07T12:23:45.116Z"
   },
   {
    "duration": 12,
    "start_time": "2022-07-07T12:23:45.250Z"
   },
   {
    "duration": 6,
    "start_time": "2022-07-07T12:23:45.264Z"
   },
   {
    "duration": 14,
    "start_time": "2022-07-07T12:23:45.271Z"
   },
   {
    "duration": 211,
    "start_time": "2022-07-07T12:23:45.287Z"
   },
   {
    "duration": 5979,
    "start_time": "2022-07-07T12:23:45.500Z"
   },
   {
    "duration": 377,
    "start_time": "2022-07-07T12:23:51.481Z"
   },
   {
    "duration": 108,
    "start_time": "2022-07-07T12:23:51.860Z"
   },
   {
    "duration": 6,
    "start_time": "2022-07-07T12:23:51.971Z"
   },
   {
    "duration": 28,
    "start_time": "2022-07-07T12:23:51.979Z"
   },
   {
    "duration": 8,
    "start_time": "2022-07-07T12:23:52.009Z"
   },
   {
    "duration": 10,
    "start_time": "2022-07-07T12:23:52.019Z"
   },
   {
    "duration": 10,
    "start_time": "2022-07-07T12:23:52.030Z"
   },
   {
    "duration": 11,
    "start_time": "2022-07-07T12:23:52.041Z"
   },
   {
    "duration": 7,
    "start_time": "2022-07-07T12:27:39.303Z"
   }
  ],
  "kernelspec": {
   "display_name": "Python 3 (ipykernel)",
   "language": "python",
   "name": "python3"
  },
  "language_info": {
   "codemirror_mode": {
    "name": "ipython",
    "version": 3
   },
   "file_extension": ".py",
   "mimetype": "text/x-python",
   "name": "python",
   "nbconvert_exporter": "python",
   "pygments_lexer": "ipython3",
   "version": "3.9.5"
  },
  "toc": {
   "base_numbering": 1,
   "nav_menu": {},
   "number_sections": true,
   "sideBar": true,
   "skip_h1_title": true,
   "title_cell": "Table of Contents",
   "title_sidebar": "Contents",
   "toc_cell": false,
   "toc_position": {},
   "toc_section_display": true,
   "toc_window_display": false
  }
 },
 "nbformat": 4,
 "nbformat_minor": 5
}
