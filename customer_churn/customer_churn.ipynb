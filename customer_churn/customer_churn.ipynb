{
 "cells": [
  {
   "cell_type": "markdown",
   "id": "727cd7b5",
   "metadata": {
    "pycharm": {
     "name": "#%%\n"
    }
   },
   "source": [
    "## Прогнозирование оттока клиентов из банка."
   ]
  },
  {
   "cell_type": "markdown",
   "id": "e53b41af",
   "metadata": {},
   "source": [
    "## Введение\n",
    "\n",
    "В банке увеличился отток клиентов. Так как удерживать действующих клиентов дешевле и выгоднее компании, чем привлекать новых, необходимо исследовать поведение клиентов и научиться прогнозировать возможный уход клиента из банка, чтобы своевременно принимать меры по удержанию. \n",
    "В нашем распоряжении данные 10 000 клиентов, часть из которых покинули банк, часть остались действующими.  "
   ]
  },
  {
   "cell_type": "code",
   "execution_count": 104,
   "id": "bee55aa5",
   "metadata": {},
   "outputs": [],
   "source": [
    "import pandas as pd\n",
    "from sklearn.preprocessing import StandardScaler\n",
    "from sklearn.model_selection import train_test_split\n",
    "from sklearn.linear_model import LogisticRegression\n",
    "from sklearn.tree import DecisionTreeClassifier\n",
    "from sklearn.ensemble import RandomForestClassifier\n",
    "from sklearn.metrics import f1_score\n",
    "from sklearn.utils import shuffle\n",
    "import numpy as np\n",
    "from sklearn.metrics import roc_curve\n",
    "from matplotlib import pyplot as plt \n",
    "from sklearn.metrics import roc_auc_score \n",
    "from sklearn.metrics import precision_recall_curve\n",
    "from sklearn.dummy import DummyClassifier\n",
    "from sklearn.metrics import accuracy_score"
   ]
  },
  {
   "cell_type": "code",
   "execution_count": 105,
   "id": "89fc13eb",
   "metadata": {
    "pycharm": {
     "name": "#%%\n"
    }
   },
   "outputs": [
    {
     "name": "stdout",
     "output_type": "stream",
     "text": [
      "<class 'pandas.core.frame.DataFrame'>\n",
      "RangeIndex: 10000 entries, 0 to 9999\n",
      "Data columns (total 14 columns):\n",
      " #   Column           Non-Null Count  Dtype  \n",
      "---  ------           --------------  -----  \n",
      " 0   rownumber        10000 non-null  int64  \n",
      " 1   customerid       10000 non-null  int64  \n",
      " 2   surname          10000 non-null  object \n",
      " 3   creditscore      10000 non-null  int64  \n",
      " 4   geography        10000 non-null  object \n",
      " 5   gender           10000 non-null  object \n",
      " 6   age              10000 non-null  int64  \n",
      " 7   tenure           9091 non-null   float64\n",
      " 8   balance          10000 non-null  float64\n",
      " 9   numofproducts    10000 non-null  int64  \n",
      " 10  hascrcard        10000 non-null  int64  \n",
      " 11  isactivemember   10000 non-null  int64  \n",
      " 12  estimatedsalary  10000 non-null  float64\n",
      " 13  exited           10000 non-null  int64  \n",
      "dtypes: float64(3), int64(8), object(3)\n",
      "memory usage: 1.1+ MB\n"
     ]
    }
   ],
   "source": [
    "df = pd.read_csv('/datasets/Churn.csv')\n",
    "df.columns = df.columns.str.lower()\n",
    "df.info()"
   ]
  },
  {
   "cell_type": "markdown",
   "id": "a0432b0f",
   "metadata": {},
   "source": [
    "Колонки `rownumber` и `surname` удалим, так как они не помогут в исследовании. \n",
    "Колонки `geography` и `gender` необходимо преобразовать из категориальных в количетсвенные. Выполним эту операцию методом прямого кодирования с удалением первого столбца для избежания дамми-ловушки. \n",
    "Остальные колонки исследуем на предмет содержащихс данных. При необходимости выполним масштабирование.\n",
    "Пропущенные значения в колонке `tenure` заполним медианными значениями. "
   ]
  },
  {
   "cell_type": "code",
   "execution_count": 106,
   "id": "e1992744",
   "metadata": {},
   "outputs": [],
   "source": [
    "df = df.drop(columns = ['rownumber', 'surname', 'customerid'])"
   ]
  },
  {
   "cell_type": "code",
   "execution_count": 107,
   "id": "96e75b33",
   "metadata": {},
   "outputs": [],
   "source": [
    "median_tenure = df['tenure'].median()\n",
    "df['tenure'] = df['tenure'].fillna(np.random.randint(1,8+1))"
   ]
  },
  {
   "cell_type": "markdown",
   "id": "0303d046",
   "metadata": {},
   "source": [
    "Преобразуем категориальные колонки в количественные."
   ]
  },
  {
   "cell_type": "code",
   "execution_count": 108,
   "id": "b6d80785",
   "metadata": {},
   "outputs": [
    {
     "name": "stdout",
     "output_type": "stream",
     "text": [
      "<class 'pandas.core.frame.DataFrame'>\n",
      "RangeIndex: 10000 entries, 0 to 9999\n",
      "Data columns (total 12 columns):\n",
      " #   Column             Non-Null Count  Dtype  \n",
      "---  ------             --------------  -----  \n",
      " 0   creditscore        10000 non-null  int64  \n",
      " 1   age                10000 non-null  int64  \n",
      " 2   tenure             10000 non-null  float64\n",
      " 3   balance            10000 non-null  float64\n",
      " 4   numofproducts      10000 non-null  int64  \n",
      " 5   hascrcard          10000 non-null  int64  \n",
      " 6   isactivemember     10000 non-null  int64  \n",
      " 7   estimatedsalary    10000 non-null  float64\n",
      " 8   exited             10000 non-null  int64  \n",
      " 9   geography_Germany  10000 non-null  uint8  \n",
      " 10  geography_Spain    10000 non-null  uint8  \n",
      " 11  gender_Male        10000 non-null  uint8  \n",
      "dtypes: float64(3), int64(6), uint8(3)\n",
      "memory usage: 732.5 KB\n"
     ]
    }
   ],
   "source": [
    "df_ohe = pd.get_dummies(df,drop_first=True)\n",
    "df_ohe.info()"
   ]
  },
  {
   "cell_type": "code",
   "execution_count": 109,
   "id": "cdb98252",
   "metadata": {},
   "outputs": [
    {
     "name": "stdout",
     "output_type": "stream",
     "text": [
      "count    10000.000000\n",
      "mean       650.528800\n",
      "std         96.653299\n",
      "min        350.000000\n",
      "25%        584.000000\n",
      "50%        652.000000\n",
      "75%        718.000000\n",
      "max        850.000000\n",
      "Name: creditscore, dtype: float64\n",
      "--------------\n",
      "count    10000.000000\n",
      "mean        38.921800\n",
      "std         10.487806\n",
      "min         18.000000\n",
      "25%         32.000000\n",
      "50%         37.000000\n",
      "75%         44.000000\n",
      "max         92.000000\n",
      "Name: age, dtype: float64\n",
      "--------------\n",
      "count    10000.000000\n",
      "mean         4.725200\n",
      "std          2.891422\n",
      "min          0.000000\n",
      "25%          2.000000\n",
      "50%          4.000000\n",
      "75%          7.000000\n",
      "max         10.000000\n",
      "Name: tenure, dtype: float64\n",
      "--------------\n",
      "count     10000.000000\n",
      "mean      76485.889288\n",
      "std       62397.405202\n",
      "min           0.000000\n",
      "25%           0.000000\n",
      "50%       97198.540000\n",
      "75%      127644.240000\n",
      "max      250898.090000\n",
      "Name: balance, dtype: float64\n",
      "--------------\n",
      "count    10000.000000\n",
      "mean         1.530200\n",
      "std          0.581654\n",
      "min          1.000000\n",
      "25%          1.000000\n",
      "50%          1.000000\n",
      "75%          2.000000\n",
      "max          4.000000\n",
      "Name: numofproducts, dtype: float64\n",
      "--------------\n",
      "count    10000.00000\n",
      "mean         0.70550\n",
      "std          0.45584\n",
      "min          0.00000\n",
      "25%          0.00000\n",
      "50%          1.00000\n",
      "75%          1.00000\n",
      "max          1.00000\n",
      "Name: hascrcard, dtype: float64\n",
      "--------------\n",
      "count    10000.000000\n",
      "mean         0.515100\n",
      "std          0.499797\n",
      "min          0.000000\n",
      "25%          0.000000\n",
      "50%          1.000000\n",
      "75%          1.000000\n",
      "max          1.000000\n",
      "Name: isactivemember, dtype: float64\n",
      "--------------\n",
      "count     10000.000000\n",
      "mean     100090.239881\n",
      "std       57510.492818\n",
      "min          11.580000\n",
      "25%       51002.110000\n",
      "50%      100193.915000\n",
      "75%      149388.247500\n",
      "max      199992.480000\n",
      "Name: estimatedsalary, dtype: float64\n",
      "--------------\n",
      "count    10000.000000\n",
      "mean         0.203700\n",
      "std          0.402769\n",
      "min          0.000000\n",
      "25%          0.000000\n",
      "50%          0.000000\n",
      "75%          0.000000\n",
      "max          1.000000\n",
      "Name: exited, dtype: float64\n",
      "--------------\n",
      "count    10000.000000\n",
      "mean         0.250900\n",
      "std          0.433553\n",
      "min          0.000000\n",
      "25%          0.000000\n",
      "50%          0.000000\n",
      "75%          1.000000\n",
      "max          1.000000\n",
      "Name: geography_Germany, dtype: float64\n",
      "--------------\n",
      "count    10000.000000\n",
      "mean         0.247700\n",
      "std          0.431698\n",
      "min          0.000000\n",
      "25%          0.000000\n",
      "50%          0.000000\n",
      "75%          0.000000\n",
      "max          1.000000\n",
      "Name: geography_Spain, dtype: float64\n",
      "--------------\n",
      "count    10000.000000\n",
      "mean         0.545700\n",
      "std          0.497932\n",
      "min          0.000000\n",
      "25%          0.000000\n",
      "50%          1.000000\n",
      "75%          1.000000\n",
      "max          1.000000\n",
      "Name: gender_Male, dtype: float64\n",
      "--------------\n"
     ]
    }
   ],
   "source": [
    "for c in df_ohe.columns:\n",
    "    try:\n",
    "        print (df_ohe[c].describe())\n",
    "        print ('--------------')\n",
    "    except:\n",
    "        pass"
   ]
  },
  {
   "cell_type": "markdown",
   "id": "07faedfd",
   "metadata": {},
   "source": [
    "Разбросы значений в таблице неоднородны. Необходимо выполнить масштабирование признаков. \n",
    "Сначала разделим выборку на признаки и целевой показатель. \n",
    "Далее выполним стандартизацию признаков. После, разделим выборки на тренировочные, валидационные и тестовые, с сохранением дисбаланса классов. "
   ]
  },
  {
   "cell_type": "code",
   "execution_count": 110,
   "id": "3baee100",
   "metadata": {},
   "outputs": [
    {
     "name": "stdout",
     "output_type": "stream",
     "text": [
      "(7500, 11)\n",
      "(1250, 11)\n",
      "(1250, 11)\n",
      "(7500,)\n",
      "(1250,)\n",
      "(1250,)\n"
     ]
    }
   ],
   "source": [
    "# Делим выбоорку на признаки\n",
    "features = df_ohe.drop(columns =['exited'])\n",
    "target = df_ohe['exited']\n",
    "\n",
    "\n",
    "\n",
    "# Создаем тестовые, тренировочные и валидационные выборки\n",
    "(features_train, \n",
    " features_valid_test, \n",
    " target_train, \n",
    " target_valid_test) = train_test_split(features, target,\n",
    "                                       test_size = 0.25, \n",
    "                                       random_state = 12345,\n",
    "                                       stratify = target)\n",
    "(features_test,\n",
    "features_valid,\n",
    "target_test,\n",
    "target_valid) = train_test_split (features_valid_test, target_valid_test,\n",
    "                                test_size = 0.5,\n",
    "                                random_state = 12345, \n",
    "                                stratify = target_valid_test)\n",
    "\n",
    "\n",
    "# Выполняем маcштабирование\n",
    "scaler = StandardScaler()\n",
    "scaler.fit(features_train)\n",
    "features_train_scaled = scaler.transform(features_train)\n",
    "features_valid_scaled = scaler.transform(features_valid)\n",
    "features_test_scaled = scaler.transform(features_test)\n",
    "\n",
    "features_train = pd.DataFrame(features_train_scaled, index = features_train.index, columns = features_train.columns)\n",
    "features_valid = pd.DataFrame(features_valid_scaled, index = features_valid.index, columns = features_valid.columns)\n",
    "features_test = pd.DataFrame(features_test_scaled, index = features_test.index, columns = features_test.columns)\n",
    "\n",
    "\n",
    "\n",
    "\n",
    "\n",
    "\n",
    "print (features_train.shape)\n",
    "print (features_valid.shape)\n",
    "print (features_test.shape)\n",
    "print (target_train.shape)\n",
    "print (target_valid.shape)\n",
    "print (target_test.shape)"
   ]
  },
  {
   "cell_type": "markdown",
   "id": "2142473b",
   "metadata": {},
   "source": [
    "Исследуем дисбаланс классов в выборках. "
   ]
  },
  {
   "cell_type": "code",
   "execution_count": 112,
   "id": "76db6c03",
   "metadata": {},
   "outputs": [
    {
     "data": {
      "text/plain": [
       "0    5972\n",
       "1    1528\n",
       "Name: exited, dtype: int64"
      ]
     },
     "execution_count": 112,
     "metadata": {},
     "output_type": "execute_result"
    }
   ],
   "source": [
    "target_train.value_counts()"
   ]
  },
  {
   "cell_type": "markdown",
   "id": "06aefa35",
   "metadata": {},
   "source": [
    "Отметим, что ушедших из банка клиентов меньше, чем не ушедших. Нам предстоит решить задачу классификации с дисбалансом классов. "
   ]
  },
  {
   "cell_type": "markdown",
   "id": "49144384",
   "metadata": {},
   "source": [
    "## Обучение модели без учета дисбаланса классов. "
   ]
  },
  {
   "cell_type": "code",
   "execution_count": 113,
   "id": "6451d669",
   "metadata": {},
   "outputs": [
    {
     "name": "stdout",
     "output_type": "stream",
     "text": [
      "0.332378223495702\n"
     ]
    }
   ],
   "source": [
    "model_regression = LogisticRegression(random_state = 12345, solver = 'liblinear')\n",
    "model_regression.fit(features_train, target_train)\n",
    "predicted_regression = model_regression.predict(features_valid)\n",
    "print (f1_score(predicted_regression,target_valid)) "
   ]
  },
  {
   "cell_type": "code",
   "execution_count": 114,
   "id": "d99254c3",
   "metadata": {},
   "outputs": [
    {
     "name": "stdout",
     "output_type": "stream",
     "text": [
      "0.48015122873345933\n"
     ]
    }
   ],
   "source": [
    "model_tree = DecisionTreeClassifier(random_state = 12345)\n",
    "model_tree.fit(features_train,target_train)\n",
    "predicted_tree = model_tree.predict(features_valid)\n",
    "print (f1_score(target_valid, predicted_tree))"
   ]
  },
  {
   "cell_type": "code",
   "execution_count": 115,
   "id": "75ad3535",
   "metadata": {},
   "outputs": [
    {
     "name": "stdout",
     "output_type": "stream",
     "text": [
      "0.5638554216867471\n"
     ]
    }
   ],
   "source": [
    "model_forest = RandomForestClassifier(random_state = 12345)\n",
    "model_forest.fit(features_train, target_train)\n",
    "predicted_forest = model_forest.predict (features_valid)\n",
    "print (f1_score(predicted_forest, target_valid))"
   ]
  },
  {
   "cell_type": "markdown",
   "id": "36015e9e",
   "metadata": {},
   "source": [
    "Модель случайного леса выглядит наиболее интересной с точки зрения f1 метрики. Найдем для нее параметры `n_estimators`, `max_depth`."
   ]
  },
  {
   "cell_type": "code",
   "execution_count": 116,
   "id": "ee7d92da",
   "metadata": {},
   "outputs": [
    {
     "name": "stdout",
     "output_type": "stream",
     "text": [
      "лучшая модель: RandomForestClassifier(max_depth=6, n_estimators=900, random_state=12345) значение f1: 0.5298701298701298\n"
     ]
    }
   ],
   "source": [
    "best_f1 = 0\n",
    "for n in range (100, 1000, 100):\n",
    "    model_forest = RandomForestClassifier(random_state = 12345, max_depth = 6, n_estimators = n)\n",
    "    model_forest.fit(features_train, target_train)\n",
    "    predicted_values = model_forest.predict(features_valid)\n",
    "    f1_current = f1_score(predicted_values, target_valid)\n",
    "    if f1_current > best_f1:\n",
    "        best_f1 = f1_current\n",
    "print ('лучшая модель:', model_forest, 'значение f1:',best_f1)"
   ]
  },
  {
   "cell_type": "code",
   "execution_count": 117,
   "id": "4cda717c",
   "metadata": {},
   "outputs": [
    {
     "name": "stdout",
     "output_type": "stream",
     "text": [
      "лучшая модель: RandomForestClassifier(max_depth=19, n_estimators=300, random_state=12345) значение f1: 0.5734939759036145\n"
     ]
    }
   ],
   "source": [
    "best_f1 = 0\n",
    "for d in range (5, 20):\n",
    "    model_forest = RandomForestClassifier(random_state = 12345, max_depth = d, n_estimators = 300)\n",
    "    model_forest.fit(features_train, target_train)\n",
    "    predicted_values = model_forest.predict(features_valid)\n",
    "    f1_current = f1_score(predicted_values, target_valid)\n",
    "    if f1_current > best_f1:\n",
    "        best_f1 = f1_current\n",
    "print ('лучшая модель:', model_forest, 'значение f1:',best_f1)"
   ]
  },
  {
   "cell_type": "markdown",
   "id": "8f771ec4",
   "metadata": {},
   "source": [
    "Дообучим модель со значением параметров `max_depth` = 19, `n_estimators` = 1000 валидационной выборкой и посчитаем значение метрики f1 на тестовой выборке. "
   ]
  },
  {
   "cell_type": "code",
   "execution_count": 118,
   "id": "83b2d619",
   "metadata": {},
   "outputs": [
    {
     "name": "stdout",
     "output_type": "stream",
     "text": [
      "0.551558752997602\n",
      "CPU times: user 6.92 s, sys: 22.9 ms, total: 6.94 s\n",
      "Wall time: 6.94 s\n"
     ]
    }
   ],
   "source": [
    "%%time\n",
    "final_model_forest = RandomForestClassifier(random_state = 12345, max_depth = 15, n_estimators = 1000)\n",
    "final_model_forest.fit (features_train, target_train)\n",
    "final_model_forest.fit (features_valid, target_valid)\n",
    "predicted_values = final_model_forest.predict(features_test)\n",
    "print (f1_score(predicted_values, target_test))"
   ]
  },
  {
   "cell_type": "markdown",
   "id": "bda622ea",
   "metadata": {},
   "source": [
    "### Выводы: \n",
    "Лучшее значение на обучающей выборке дает модель RandomForestClassifier со значением f1 метрики = 0.57\n",
    "</p> Примем значения max_depth = 15, n_estimators = 1000. \n",
    "</p> На тестовой выборке значение f1 метрики составляет 0.53\n",
    "\n",
    "</p> Далее, выполним обучение модели с учетом дисбаланса классов, методами upsampling, и изменением порога классов. "
   ]
  },
  {
   "cell_type": "markdown",
   "id": "605a6da1",
   "metadata": {},
   "source": [
    "## Увеличение классов (upsampling)"
   ]
  },
  {
   "cell_type": "markdown",
   "id": "9757c8e8",
   "metadata": {},
   "source": [
    "Ушедших клиентов меньше, чем клиентов, оставшихся с банком, поэтому увеличим выборку клиентов, ушедших из банка перед обучением моделей. \n",
    "Для увеличения выборки выполним последовательно следующие действия: \n",
    "1. Разделим выборки `features` и `target` по классам. \n",
    "2. Умножим получившиеся выборки класса '1' на три. \n",
    "3. Соединим получившиеся выборки в одну таблицу. \n",
    "4. Перемешаем строки. \n",
    "Далее, приступим к обучению модели. "
   ]
  },
  {
   "cell_type": "code",
   "execution_count": 119,
   "id": "8207d419",
   "metadata": {},
   "outputs": [],
   "source": [
    "def upsample(features, target, repeat):\n",
    "    features_zeros = features[target == 0] # выделяем объекты с классом 0\n",
    "    features_ones = features[target == 1] # с классов 1\n",
    "    target_zeros = target[target == 0] # аналогично для датасета с таргетом\n",
    "    target_ones = target[target == 1]\n",
    "\n",
    "    features_upsampled = pd.concat([features_zeros] + ([features_ones] * repeat)) # умножаем объекты класса 1 и соединяем датасеты\n",
    "    target_upsampled = pd.concat([target_zeros] + ([target_ones] * repeat)) # аналогично для таргета\n",
    "\n",
    "    features_upsampled, target_upsampled = shuffle(\n",
    "        features_upsampled, target_upsampled, random_state=12345) # перемешиваем объекты\n",
    "\n",
    "    return features_upsampled, target_upsampled\n",
    "\n",
    "features_upsampled, target_upsampled = upsample(features_train, target_train, 4)"
   ]
  },
  {
   "cell_type": "markdown",
   "id": "8064050a",
   "metadata": {},
   "source": [
    "Найдем оптимальную модель из случайного леса, дерева принятия решений, логистической регрессии."
   ]
  },
  {
   "cell_type": "code",
   "execution_count": 120,
   "id": "ef2390f1",
   "metadata": {},
   "outputs": [
    {
     "name": "stdout",
     "output_type": "stream",
     "text": [
      "0.5887445887445888\n",
      "CPU times: user 850 ms, sys: 1.94 ms, total: 852 ms\n",
      "Wall time: 851 ms\n"
     ]
    }
   ],
   "source": [
    "%%time\n",
    "sh_model_forest = RandomForestClassifier(random_state = 12345)\n",
    "sh_model_forest.fit(features_upsampled, target_upsampled)\n",
    "predicted_values = sh_model_forest.predict(features_valid)\n",
    "print (f1_score(target_valid, predicted_values))"
   ]
  },
  {
   "cell_type": "markdown",
   "id": "75b5d32f",
   "metadata": {},
   "source": [
    "<div class=\"alert alert-block alert-info\">\n",
    "<b>Комментарий студента:</b> Исправил. \n",
    "</div>"
   ]
  },
  {
   "cell_type": "code",
   "execution_count": 121,
   "id": "f8aacf2c",
   "metadata": {},
   "outputs": [
    {
     "name": "stdout",
     "output_type": "stream",
     "text": [
      "0.48087431693989074\n",
      "CPU times: user 18.8 ms, sys: 35.1 ms, total: 54 ms\n",
      "Wall time: 12.3 ms\n"
     ]
    }
   ],
   "source": [
    "%%time\n",
    "sh_model_regression = LogisticRegression(random_state = 12345)\n",
    "sh_model_regression.fit(features_upsampled, target_upsampled)\n",
    "predicted_values = sh_model_regression.predict(features_valid)\n",
    "print (f1_score(target_valid, predicted_values))"
   ]
  },
  {
   "cell_type": "code",
   "execution_count": 122,
   "id": "ac8192fb",
   "metadata": {},
   "outputs": [
    {
     "name": "stdout",
     "output_type": "stream",
     "text": [
      "0.49108910891089114\n",
      "CPU times: user 58 ms, sys: 133 ms, total: 191 ms\n",
      "Wall time: 37.9 ms\n"
     ]
    }
   ],
   "source": [
    "%%time\n",
    "sh_model_tree = DecisionTreeClassifier(random_state = 12345)\n",
    "sh_model_tree.fit(features_upsampled, target_upsampled)\n",
    "predicted_values = sh_model_tree.predict(features_valid)\n",
    "print (f1_score(target_valid, predicted_values))"
   ]
  },
  {
   "cell_type": "markdown",
   "id": "ac2d9a81",
   "metadata": {},
   "source": [
    "Лучшие результаты на увеличенной выборке дает модель LogisticRegression. Выполним подбор гиперпараметров."
   ]
  },
  {
   "cell_type": "code",
   "execution_count": 123,
   "id": "88a35eff",
   "metadata": {},
   "outputs": [
    {
     "name": "stdout",
     "output_type": "stream",
     "text": [
      "0.48087431693989074 LogisticRegression(random_state=12345, solver='liblinear') 100\n"
     ]
    }
   ],
   "source": [
    "best_f1 = 0\n",
    "for i in range (100, 1001, 100):\n",
    "        model = LogisticRegression(random_state= 12345, max_iter = i, solver = 'liblinear')\n",
    "        model.fit (features_upsampled, target_upsampled)\n",
    "        predicted_values = model.predict(features_valid)\n",
    "        f1_current = f1_score(predicted_values, target_valid)\n",
    "        if f1_current > best_f1:\n",
    "            best_iter = i\n",
    "            best_f1 = f1_current\n",
    "            best_model = model\n",
    "print (best_f1, best_model, best_iter)"
   ]
  },
  {
   "cell_type": "code",
   "execution_count": 124,
   "id": "c1de792d",
   "metadata": {},
   "outputs": [
    {
     "name": "stdout",
     "output_type": "stream",
     "text": [
      "0.5243243243243244\n"
     ]
    }
   ],
   "source": [
    "predicted_test = best_model.predict(features_test)\n",
    "print (f1_score(predicted_test, target_test))"
   ]
  },
  {
   "cell_type": "markdown",
   "id": "2ad65714",
   "metadata": {},
   "source": [
    "### Выводы: \n",
    "Лучшее значение f1 метрики получено на модели `LogisticRegression`, но полученное значение меньше, чем значение, полученное при обучении без учета дисбаланса классов. \n",
    "Далее, обучим модель с балансировкой классов. "
   ]
  },
  {
   "cell_type": "markdown",
   "id": "0b371537",
   "metadata": {},
   "source": [
    "## Балансировка классов. "
   ]
  },
  {
   "cell_type": "markdown",
   "id": "ad062ac3",
   "metadata": {},
   "source": [
    "Выполним балансировку классов для каждой, из выбранных моделей. \n",
    "Найдем оптимальные гиперпараметры и проверим значение f1 метрики лучшей модели на тестовой выборке."
   ]
  },
  {
   "cell_type": "code",
   "execution_count": 125,
   "id": "e652b2d3",
   "metadata": {},
   "outputs": [
    {
     "name": "stdout",
     "output_type": "stream",
     "text": [
      "0.4835164835164835\n"
     ]
    }
   ],
   "source": [
    "model_balanced_regression = LogisticRegression(random_state=12345,class_weight='balanced')\n",
    "model_balanced_regression.fit(features_train, target_train)\n",
    "predicted_values = model_balanced_regression.predict(features_valid)\n",
    "print (f1_score(predicted_values, target_valid))"
   ]
  },
  {
   "cell_type": "code",
   "execution_count": 126,
   "id": "410bda97",
   "metadata": {},
   "outputs": [
    {
     "name": "stdout",
     "output_type": "stream",
     "text": [
      "0.49603174603174605\n"
     ]
    }
   ],
   "source": [
    "model_balanced_tree = DecisionTreeClassifier(random_state = 12345, class_weight='balanced')\n",
    "model_balanced_tree.fit(features_train, target_train)\n",
    "predicted_values = model_balanced_tree.predict(features_valid)\n",
    "print (f1_score(predicted_values, target_valid))"
   ]
  },
  {
   "cell_type": "code",
   "execution_count": 127,
   "id": "2ebd7301",
   "metadata": {},
   "outputs": [
    {
     "name": "stdout",
     "output_type": "stream",
     "text": [
      "0.5552825552825552\n"
     ]
    }
   ],
   "source": [
    "model_balanced_forest = RandomForestClassifier(random_state = 12345, class_weight='balanced')\n",
    "model_balanced_forest.fit(features_train, target_train)\n",
    "predicted_values = model_balanced_forest.predict(features_valid)\n",
    "print (f1_score(predicted_values, target_valid))"
   ]
  },
  {
   "cell_type": "markdown",
   "id": "8c51b4e8",
   "metadata": {},
   "source": [
    "Модель случайного леса дает наилучший результат f1 метрики. Найдем оптимальные гипер-параметры."
   ]
  },
  {
   "cell_type": "code",
   "execution_count": 128,
   "id": "6e433b2c",
   "metadata": {},
   "outputs": [
    {
     "name": "stdout",
     "output_type": "stream",
     "text": [
      "0.6317689530685922 RandomForestClassifier(class_weight='balanced', max_depth=9, n_estimators=800,\n",
      "                       random_state=12345)\n"
     ]
    }
   ],
   "source": [
    "best_balanced_f1 = 0\n",
    "\n",
    "for d in range(3,10,1):\n",
    "    for e in range (100, 1001, 100):\n",
    "        model_balanced = RandomForestClassifier(random_state=12345, class_weight='balanced',\n",
    "                                                     max_depth = d, n_estimators = e)\n",
    "        model_balanced.fit(features_train, target_train)\n",
    "        predicted_values = model_balanced.predict(features_valid)\n",
    "        f1_current = (f1_score(target_valid, predicted_values))\n",
    "        if f1_current>best_balanced_f1:\n",
    "            best_balanced_f1 = f1_current\n",
    "            best_model = model_balanced\n",
    "print (best_balanced_f1, best_model)     "
   ]
  },
  {
   "cell_type": "code",
   "execution_count": 129,
   "id": "fc36e866",
   "metadata": {},
   "outputs": [
    {
     "name": "stdout",
     "output_type": "stream",
     "text": [
      "0.6593406593406593\n"
     ]
    }
   ],
   "source": [
    "predicted_values = best_model.predict(features_test)\n",
    "print (f1_score(predicted_values, target_test))"
   ]
  },
  {
   "cell_type": "markdown",
   "id": "27cb0c26",
   "metadata": {},
   "source": [
    "### Выводы:\n",
    "Значение f1 метрики при балансировке классов составляет 0.65!"
   ]
  },
  {
   "cell_type": "markdown",
   "id": "bc20fa4e",
   "metadata": {},
   "source": [
    "## Обучение с изменением порога классов."
   ]
  },
  {
   "cell_type": "markdown",
   "id": "bdc20168",
   "metadata": {},
   "source": [
    "1. Обучим модель, с гиперпараметрами, наиболее дающими лучший f1_score с учетом дисбаланса классов.\n",
    "2. Посчитаем вероятности классов. \n",
    "3. В цикле переберем возможные веса классов и надем оптимальный баланс для увеличения f1 метрики. \n",
    "4. Проверим получившеюся модель на тестовой выборке. "
   ]
  },
  {
   "cell_type": "code",
   "execution_count": 130,
   "id": "9d11f45c",
   "metadata": {},
   "outputs": [
    {
     "name": "stdout",
     "output_type": "stream",
     "text": [
      "Best Threshold=0.221480, G-Mean=0.784\n"
     ]
    },
    {
     "data": {
      "image/png": "[encoded data removed]",
      "text/plain": [
       "<Figure size 640x480 with 1 Axes>"
      ]
     },
     "metadata": {
      "needs_background": "light"
     },
     "output_type": "display_data"
    },
    {
     "name": "stdout",
     "output_type": "stream",
     "text": [
      "Best Threshold=0.306671, f1=0.627\n"
     ]
    },
    {
     "data": {
      "image/png": "[encoded data removed]",
      "text/plain": [
       "<Figure size 640x480 with 1 Axes>"
      ]
     },
     "metadata": {
      "needs_background": "light"
     },
     "output_type": "display_data"
    }
   ],
   "source": [
    "best_f1 = 0\n",
    "best_treshold = 0\n",
    "gmean = 0\n",
    "\n",
    "dis_model = RandomForestClassifier(random_state=12345, max_depth=15, n_estimators = 1000)\n",
    "dis_model.fit(features_train, target_train)\n",
    "predicted_ones = dis_model.predict_proba(features_valid)[:,1]\n",
    "\n",
    "\n",
    "fpr,tpr,threshold = roc_curve(target_valid, predicted_ones)\n",
    "gmeans = (tpr * (1-fpr))**0.5\n",
    "ix = np.argmax(gmeans)\n",
    "print('Best Threshold=%f, G-Mean=%.3f' % (threshold[ix], gmeans[ix]))\n",
    "plt.figure(figsize=(8, 6), dpi=80)\n",
    "plt.plot(fpr, tpr, label='Обученная модель')\n",
    "plt.xlim([0.0, 1.0])\n",
    "plt.ylim([0.0, 1.0])\n",
    "plt.xlabel('False Positive Rate')\n",
    "plt.ylabel('True Positive Rate')\n",
    "plt.title('ROC-кривая')\n",
    "plt.plot([0,1], [0,1], linestyle='--', label='Случайные значения')\n",
    "plt.legend()\n",
    "plt.show()\n",
    "\n",
    "\n",
    "precision, recall, thresholds = precision_recall_curve(target_valid, predicted_ones)\n",
    "f1scores = (2 * precision * recall)/(precision + recall)\n",
    "iy = np.argmax(f1scores)\n",
    "print('Best Threshold=%f, f1=%.3f' % (thresholds[iy], f1scores[iy]))\n",
    "plt.figure(figsize=(8, 6), dpi=80)\n",
    "plt.plot(precision, recall, label='Обученная модель')\n",
    "plt.xlim([0.0, 1.0])\n",
    "plt.ylim([0.0, 1.0])\n",
    "plt.xlabel('precision')\n",
    "plt.ylabel('recall')\n",
    "plt.plot([0,1], [0,0], linestyle='--', label='Случайные значения')\n",
    "plt.scatter(precision[iy], recall[iy], marker='o', color='black', label='Best')\n",
    "plt.legend()\n",
    "plt.show()"
   ]
  },
  {
   "cell_type": "markdown",
   "id": "b533cfea",
   "metadata": {},
   "source": [
    "Выберем значение порога = 0.374 и проверим модель на тестовой выборке. "
   ]
  },
  {
   "cell_type": "code",
   "execution_count": 131,
   "id": "f7b59527",
   "metadata": {},
   "outputs": [
    {
     "name": "stdout",
     "output_type": "stream",
     "text": [
      "f1 = 0.6386861313868614\n",
      "auc_roc = 0.8836969159523107\n",
      "accuracy_score = 0.8416\n"
     ]
    }
   ],
   "source": [
    "predicted_ones = dis_model.predict_proba(features_test)[:,1]\n",
    "predicted_values = predicted_ones>0.29\n",
    "f1 = f1_score(predicted_values, target_test)\n",
    "auc_roc = roc_auc_score(target_test, predicted_ones)\n",
    "print ('f1 =',f1)\n",
    "print ('auc_roc =', auc_roc)\n",
    "print ('accuracy_score =', accuracy_score(target_test, predicted_values))"
   ]
  },
  {
   "cell_type": "markdown",
   "id": "22ecb54e",
   "metadata": {},
   "source": [
    "На тестовых данных обученная модель показала значения метрики f1 = 0.625, auc_roc = 0.883. \n",
    "Далее проверим модель на вменяемость с помощью."
   ]
  },
  {
   "cell_type": "markdown",
   "id": "366ce1ba",
   "metadata": {},
   "source": [
    "## Проверка на вменяемость"
   ]
  },
  {
   "cell_type": "code",
   "execution_count": 132,
   "id": "2631a4ee",
   "metadata": {},
   "outputs": [
    {
     "name": "stdout",
     "output_type": "stream",
     "text": [
      "f1 = 0.0\n",
      "accuracy_score = 0.796\n"
     ]
    }
   ],
   "source": [
    "dummy_model = DummyClassifier(random_state = 12345, strategy='prior')\n",
    "dummy_model.fit(features_train, target_train)\n",
    "dummy_model.fit(features_valid, target_valid)\n",
    "predicted_dummy = dummy_model.predict(features_test)\n",
    "print ('f1 =', f1_score(target_test, predicted_dummy))\n",
    "print ('accuracy_score =', accuracy_score(target_test, predicted_dummy))"
   ]
  },
  {
   "cell_type": "markdown",
   "id": "1613c712",
   "metadata": {},
   "source": [
    "Тест на вменяемость модели пройден. Принимаем модель `RandomForestClassifier`со значением гиперпараметров max_depth = 15, n_estimators = 1000, и порогом классификации = 0.37 "
   ]
  },
  {
   "cell_type": "markdown",
   "id": "d0d82799",
   "metadata": {},
   "source": [
    "## Вывод"
   ]
  },
  {
   "cell_type": "markdown",
   "id": "4253cadf",
   "metadata": {},
   "source": [
    "### Предобработка данных\n",
    "В датасете представлены данные по 10 000 клиентам, 25% из которых ушли из банка.\n",
    "По 10% клиентов не были заполнены данные в колонке `tenure`, количество лет в качестве клиента. Пропущенные значения были заполнены медианными. \n",
    "Далее, были последовательно выполены шаги: \n",
    "1. Нормализация данных, так как в количественных данных был виден значительный разброс, что могло привести к нерелевантным результатам обучения из-за присвоения бОльшего веса классам с относительно большими значениями. \n",
    "2. Перевод категориальных признаков и количетсвенные методом прямого кодирования с удалением первого столбца для избежания dummy ловушек. \n",
    "3. Разделение датафрейма на тестовую, валидационную и обучающую выборки в пропорциях 3:1:1, с сохранением дисбаланса классов в каждой из выборок. \n",
    "\n",
    "### Работа с данными\n",
    "1. Обчуение без учета дисбаланса классов. Из рассмотренных моделей, наиболее эффективной оказалась RandomForestClassifier, на которой удалось добиться значения f1 метрики 0.53 на тестовой выборке. \n",
    "2. Увеличение выборки. При увеличении выборки методом upsampling значение f1 метрики снизилось до 0.44 на тестовой выборке с самой эффективной моделью - DecisionTreeClassifier\n",
    "3. Изменение порога классов. Наиболее эффективная, с учетом выбранной модели и оттталкиваясь от метрик precision и recall,  вероятность класса \"1\" составляет 0.37. При данном значении порога, значение метики f1 на тестовой выборке составило 0.625. \n",
    "4. Изменение баланса классов. При выборе значения гиперпараметра class_weight = 'balanced', удалось поднять значение метрики f1 до 0.65\n"
   ]
  }
 ],
 "metadata": {
  "ExecuteTimeLog": [
   {
    "duration": 1520,
    "start_time": "2022-07-25T14:31:42.497Z"
   },
   {
    "duration": 101,
    "start_time": "2022-07-25T14:31:44.019Z"
   },
   {
    "duration": 4,
    "start_time": "2022-07-25T14:31:44.122Z"
   },
   {
    "duration": 6,
    "start_time": "2022-07-25T14:31:44.128Z"
   },
   {
    "duration": 20,
    "start_time": "2022-07-25T14:31:44.136Z"
   },
   {
    "duration": 41,
    "start_time": "2022-07-25T14:31:44.157Z"
   },
   {
    "duration": 20,
    "start_time": "2022-07-25T14:31:44.199Z"
   },
   {
    "duration": 6,
    "start_time": "2022-07-25T14:31:44.220Z"
   },
   {
    "duration": 55,
    "start_time": "2022-07-25T14:31:44.228Z"
   },
   {
    "duration": 185,
    "start_time": "2022-07-25T14:31:44.285Z"
   },
   {
    "duration": 822,
    "start_time": "2022-07-25T14:31:44.472Z"
   },
   {
    "duration": 21173,
    "start_time": "2022-07-25T14:31:45.296Z"
   },
   {
    "duration": 31797,
    "start_time": "2022-07-25T14:32:06.476Z"
   },
   {
    "duration": 10619,
    "start_time": "2022-07-25T14:32:38.279Z"
   },
   {
    "duration": 129,
    "start_time": "2022-07-25T14:32:48.900Z"
   },
   {
    "duration": 0,
    "start_time": "2022-07-25T14:32:49.031Z"
   },
   {
    "duration": 0,
    "start_time": "2022-07-25T14:32:49.032Z"
   },
   {
    "duration": 0,
    "start_time": "2022-07-25T14:32:49.034Z"
   },
   {
    "duration": 0,
    "start_time": "2022-07-25T14:32:49.035Z"
   },
   {
    "duration": 0,
    "start_time": "2022-07-25T14:32:49.036Z"
   },
   {
    "duration": 0,
    "start_time": "2022-07-25T14:32:49.037Z"
   },
   {
    "duration": 0,
    "start_time": "2022-07-25T14:32:49.038Z"
   },
   {
    "duration": 0,
    "start_time": "2022-07-25T14:32:49.039Z"
   },
   {
    "duration": 0,
    "start_time": "2022-07-25T14:32:49.040Z"
   },
   {
    "duration": 0,
    "start_time": "2022-07-25T14:32:49.041Z"
   },
   {
    "duration": 0,
    "start_time": "2022-07-25T14:32:49.043Z"
   },
   {
    "duration": 0,
    "start_time": "2022-07-25T14:32:49.067Z"
   },
   {
    "duration": 0,
    "start_time": "2022-07-25T14:32:49.068Z"
   }
  ],
  "kernelspec": {
   "display_name": "Python 3 (ipykernel)",
   "language": "python",
   "name": "python3"
  },
  "language_info": {
   "codemirror_mode": {
    "name": "ipython",
    "version": 3
   },
   "file_extension": ".py",
   "mimetype": "text/x-python",
   "name": "python",
   "nbconvert_exporter": "python",
   "pygments_lexer": "ipython3",
   "version": "3.9.5"
  },
  "toc": {
   "base_numbering": 1,
   "nav_menu": {},
   "number_sections": true,
   "sideBar": true,
   "skip_h1_title": true,
   "title_cell": "Table of Contents",
   "title_sidebar": "Contents",
   "toc_cell": false,
   "toc_position": {},
   "toc_section_display": true,
   "toc_window_display": false
  }
 },
 "nbformat": 4,
 "nbformat_minor": 5
}
