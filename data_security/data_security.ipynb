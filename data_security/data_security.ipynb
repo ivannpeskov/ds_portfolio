{
 "cells": [
  {
   "cell_type": "markdown",
   "id": "1f1f652f",
   "metadata": {
    "pycharm": {
     "name": "#%% md\n"
    }
   },
   "source": [
    "# Защита персональных данных клиентов"
   ]
  },
  {
   "cell_type": "markdown",
   "id": "bd05c00f",
   "metadata": {
    "pycharm": {
     "name": "#%% md\n"
    }
   },
   "source": [
    "Нам необходимо разработать алгоритм преобразования данных, который максимально усложнит процедуру восстановления исходных, при этом не ухудшит качество моделей машинного обучения. \n",
    "\n",
    "На входе у нас 5000 строк данных клиентов компании. \n",
    "\n",
    "План работ: \n",
    "1. Загрузим и предобработаем данные.\n",
    "2. Оценим качество модели машинного обучения без обезличивания данных.\n",
    "3. Проверим гипотезу о том, что качество модели машинного обучения не изменится при умножении признаков на обратимую матрицу.\n",
    "4. Составим и проверим алгоритм шифрования данных."
   ]
  },
  {
   "cell_type": "markdown",
   "id": "94064324",
   "metadata": {
    "pycharm": {
     "name": "#%% md\n"
    }
   },
   "source": [
    "## Загрузка данных"
   ]
  },
  {
   "cell_type": "code",
   "execution_count": 2,
   "id": "aa801055",
   "metadata": {
    "pycharm": {
     "name": "#%%\n"
    }
   },
   "outputs": [],
   "source": [
    "import pandas as pd\n",
    "import numpy as np\n",
    "from sklearn.model_selection import train_test_split\n",
    "from sklearn.linear_model import LinearRegression\n",
    "from sklearn.metrics import r2_score\n",
    "from matplotlib import pyplot as plt\n",
    "from sklearn.preprocessing import StandardScaler"
   ]
  },
  {
   "cell_type": "code",
   "execution_count": 3,
   "id": "2220d9b4",
   "metadata": {
    "pycharm": {
     "name": "#%%\n"
    }
   },
   "outputs": [
    {
     "name": "stdout",
     "output_type": "stream",
     "text": [
      "<class 'pandas.core.frame.DataFrame'>\n",
      "RangeIndex: 5000 entries, 0 to 4999\n",
      "Data columns (total 5 columns):\n",
      " #   Column          Non-Null Count  Dtype  \n",
      "---  ------          --------------  -----  \n",
      " 0   sex             5000 non-null   int64  \n",
      " 1   age             5000 non-null   float64\n",
      " 2   salary          5000 non-null   float64\n",
      " 3   family_members  5000 non-null   int64  \n",
      " 4   payouts         5000 non-null   int64  \n",
      "dtypes: float64(2), int64(3)\n",
      "memory usage: 195.4 KB\n"
     ]
    }
   ],
   "source": [
    "df = pd.read_csv('/datasets/insurance.csv')\n",
    "df.columns = ['sex', 'age', 'salary', 'family_members', 'payouts']\n",
    "df.info()"
   ]
  },
  {
   "cell_type": "code",
   "execution_count": 4,
   "id": "055f7e4f",
   "metadata": {
    "pycharm": {
     "name": "#%%\n"
    },
    "scrolled": true
   },
   "outputs": [
    {
     "data": {
      "text/html": [
       "<div>\n",
       "<style scoped>\n",
       "    .dataframe tbody tr th:only-of-type {\n",
       "        vertical-align: middle;\n",
       "    }\n",
       "\n",
       "    .dataframe tbody tr th {\n",
       "        vertical-align: top;\n",
       "    }\n",
       "\n",
       "    .dataframe thead th {\n",
       "        text-align: right;\n",
       "    }\n",
       "</style>\n",
       "<table border=\"1\" class=\"dataframe\">\n",
       "  <thead>\n",
       "    <tr style=\"text-align: right;\">\n",
       "      <th></th>\n",
       "      <th>sex</th>\n",
       "      <th>age</th>\n",
       "      <th>salary</th>\n",
       "      <th>family_members</th>\n",
       "      <th>payouts</th>\n",
       "    </tr>\n",
       "  </thead>\n",
       "  <tbody>\n",
       "    <tr>\n",
       "      <th>count</th>\n",
       "      <td>5000.000000</td>\n",
       "      <td>5000.000000</td>\n",
       "      <td>5000.000000</td>\n",
       "      <td>5000.000000</td>\n",
       "      <td>5000.000000</td>\n",
       "    </tr>\n",
       "    <tr>\n",
       "      <th>mean</th>\n",
       "      <td>0.499000</td>\n",
       "      <td>30.952800</td>\n",
       "      <td>39916.360000</td>\n",
       "      <td>1.194200</td>\n",
       "      <td>0.148000</td>\n",
       "    </tr>\n",
       "    <tr>\n",
       "      <th>std</th>\n",
       "      <td>0.500049</td>\n",
       "      <td>8.440807</td>\n",
       "      <td>9900.083569</td>\n",
       "      <td>1.091387</td>\n",
       "      <td>0.463183</td>\n",
       "    </tr>\n",
       "    <tr>\n",
       "      <th>min</th>\n",
       "      <td>0.000000</td>\n",
       "      <td>18.000000</td>\n",
       "      <td>5300.000000</td>\n",
       "      <td>0.000000</td>\n",
       "      <td>0.000000</td>\n",
       "    </tr>\n",
       "    <tr>\n",
       "      <th>25%</th>\n",
       "      <td>0.000000</td>\n",
       "      <td>24.000000</td>\n",
       "      <td>33300.000000</td>\n",
       "      <td>0.000000</td>\n",
       "      <td>0.000000</td>\n",
       "    </tr>\n",
       "    <tr>\n",
       "      <th>50%</th>\n",
       "      <td>0.000000</td>\n",
       "      <td>30.000000</td>\n",
       "      <td>40200.000000</td>\n",
       "      <td>1.000000</td>\n",
       "      <td>0.000000</td>\n",
       "    </tr>\n",
       "    <tr>\n",
       "      <th>75%</th>\n",
       "      <td>1.000000</td>\n",
       "      <td>37.000000</td>\n",
       "      <td>46600.000000</td>\n",
       "      <td>2.000000</td>\n",
       "      <td>0.000000</td>\n",
       "    </tr>\n",
       "    <tr>\n",
       "      <th>max</th>\n",
       "      <td>1.000000</td>\n",
       "      <td>65.000000</td>\n",
       "      <td>79000.000000</td>\n",
       "      <td>6.000000</td>\n",
       "      <td>5.000000</td>\n",
       "    </tr>\n",
       "  </tbody>\n",
       "</table>\n",
       "</div>"
      ],
      "text/plain": [
       "               sex          age        salary  family_members      payouts\n",
       "count  5000.000000  5000.000000   5000.000000     5000.000000  5000.000000\n",
       "mean      0.499000    30.952800  39916.360000        1.194200     0.148000\n",
       "std       0.500049     8.440807   9900.083569        1.091387     0.463183\n",
       "min       0.000000    18.000000   5300.000000        0.000000     0.000000\n",
       "25%       0.000000    24.000000  33300.000000        0.000000     0.000000\n",
       "50%       0.000000    30.000000  40200.000000        1.000000     0.000000\n",
       "75%       1.000000    37.000000  46600.000000        2.000000     0.000000\n",
       "max       1.000000    65.000000  79000.000000        6.000000     5.000000"
      ]
     },
     "execution_count": 4,
     "metadata": {},
     "output_type": "execute_result"
    }
   ],
   "source": [
    "df.describe()"
   ]
  },
  {
   "cell_type": "markdown",
   "id": "811e4708",
   "metadata": {
    "pycharm": {
     "name": "#%% md\n"
    }
   },
   "source": [
    "Данные выглядят корректно, предобработка не требуется. "
   ]
  },
  {
   "cell_type": "markdown",
   "id": "bac62c7f",
   "metadata": {
    "pycharm": {
     "name": "#%% md\n"
    }
   },
   "source": [
    "Разделим выборку на обучающую и валдиационную. Также, разделим признаки на целевые и обучающие."
   ]
  },
  {
   "cell_type": "code",
   "execution_count": 5,
   "id": "8d76cae7",
   "metadata": {
    "pycharm": {
     "name": "#%%\n"
    }
   },
   "outputs": [],
   "source": [
    "features = df.drop(columns = ['payouts'])\n",
    "target = df['payouts']\n",
    "\n",
    "features_train, features_valid, target_train, target_valid = train_test_split(features, target, random_state=12345, test_size = 0.25)"
   ]
  },
  {
   "cell_type": "code",
   "execution_count": 6,
   "id": "511cc1b9",
   "metadata": {
    "pycharm": {
     "name": "#%%\n"
    }
   },
   "outputs": [
    {
     "name": "stdout",
     "output_type": "stream",
     "text": [
      "(3750, 4)\n",
      "(1250, 4)\n",
      "(3750,)\n",
      "(1250,)\n"
     ]
    }
   ],
   "source": [
    "print (features_train.shape)\n",
    "print (features_valid.shape)\n",
    "print (target_train.shape)\n",
    "print (target_valid.shape)"
   ]
  },
  {
   "cell_type": "markdown",
   "id": "2469ac4a",
   "metadata": {
    "pycharm": {
     "name": "#%% md\n"
    }
   },
   "source": [
    "Обучающие и валидационные наборы данных созданы. Можем приступать к обучению моделей. "
   ]
  },
  {
   "cell_type": "markdown",
   "id": "dcf28f40",
   "metadata": {
    "pycharm": {
     "name": "#%% md\n"
    }
   },
   "source": [
    "## Умножение матриц"
   ]
  },
  {
   "attachments": {},
   "cell_type": "markdown",
   "id": "c605e540",
   "metadata": {},
   "source": [
    "\n",
    "$$\n",
    "a = Xw\n",
    "$$\n",
    "\n",
    "Задача обучения:\n",
    "\n",
    "$$\n",
    "w = \\arg\\min_w MSE(Xw, y)\n",
    "$$\n",
    "\n",
    "Формула обучения:\n",
    "\n",
    "$$\n",
    "w = (X^T X)^{-1} X^T y\n",
    "$$\n",
    "\n",
    "Умножим матрицу признаков X на обратимую матрицу P:\n",
    "\n",
    "$$\n",
    "a' = (XP)w'\n",
    "$$\n",
    "\n",
    "\n",
    "$$\n",
    "w' = ((XP)^T XP)^{-1} (XP)^T y\n",
    "$$\n",
    "\n",
    "$$\n",
    "w' = (P^T X^T X P)^{-1} (XP)^T y\n",
    "$$\n",
    "\n",
    "По свойству умножения матриц, внутри выражения возможно расставлять скобки любым образом, если не меняется порядок матриц: \n",
    "$$\n",
    "A (B C) = (A B) C\n",
    "$$\n",
    "Запишем выражение $w$ следующим образом: \n",
    "\n",
    "$$\n",
    "w' = (P^T ((X^T X) P))^{-1} (XP)^T y\n",
    "$$\n",
    "\n",
    "Раскроем скобки по свойству умножения матриц, тогда: \n",
    "$$\n",
    "w' = ((X^T X) P)^{-1} (P^T)^{-1} (XP)^T y\n",
    "$$\n",
    "=>\n",
    "$$\n",
    "w' = ((X^T X) P)^{-1} (P^T)^{-1} P^T X^T y\n",
    "$$\n",
    "\n",
    "\n",
    "$$\n",
    "(P^T)^{-1} P^T = E\n",
    "$$\n",
    "=>\n",
    "$$\n",
    "w' = ((X^T X) P)^{-1} X^T y\n",
    "$$\n",
    "=>\n",
    "$$\n",
    "w' = P^{-1} (X^T X)^{-1} X^T y\n",
    "$$\n",
    "\n",
    "Запишем выражение $a'$:\n",
    "\n",
    "$$\n",
    "a' = (X P) P^{-1} (X^T X)^{-1} X^T y\n",
    "$$\n",
    "\n",
    "$$ P P^{-1} = E $$\n",
    "=>\n",
    "\n",
    "$$\n",
    "a' = X (X^T X)^{-1} X^T y\n",
    "$$\n",
    "Доказано, что a' = a\n",
    "        \n",
    "</p>     \n",
    "</div>"
   ]
  },
  {
   "cell_type": "markdown",
   "id": "924dfaac",
   "metadata": {
    "pycharm": {
     "name": "#%% md\n"
    }
   },
   "source": [
    "Создадим модель машинного обучения, методом logisticRegression. Для оценки качества обученной модели будем использовать метрику r2"
   ]
  },
  {
   "cell_type": "code",
   "execution_count": 7,
   "id": "c9e23158",
   "metadata": {
    "pycharm": {
     "name": "#%%\n"
    }
   },
   "outputs": [
    {
     "data": {
      "text/plain": [
       "0.43522757127025635"
      ]
     },
     "execution_count": 7,
     "metadata": {},
     "output_type": "execute_result"
    }
   ],
   "source": [
    "model = LinearRegression()\n",
    "model.fit(features_train, target_train)\n",
    "results = model.predict(features_valid)\n",
    "r2_score(target_valid, results)"
   ]
  },
  {
   "cell_type": "markdown",
   "id": "90b32bce",
   "metadata": {
    "pycharm": {
     "name": "#%% md\n"
    }
   },
   "source": [
    "Создадим обратимую матрицу для умножения признаков. \n",
    "Эта матрица должна быть квадратной, так как только квадратные матрицы обратимы, и иметь высоту = 4, так как длина матрицы признаков = 4. \n",
    "\n",
    "Итого, создаем матрицу 4х4. \n",
    "\n",
    "Далее, обучим модель в цикле 100 раз, оценивая ее качество метрикой r2, затем найдем среднее значение и его отношение к значению r2 метрики, полученному при обучении на исходных признаках. "
   ]
  },
  {
   "cell_type": "code",
   "execution_count": 8,
   "id": "ffbc4f38",
   "metadata": {},
   "outputs": [],
   "source": [
    "def is_matrix_inv (matrix):\n",
    "    try:\n",
    "        np.linalg.inv(matrix)\n",
    "        return True\n",
    "    except:\n",
    "        return False"
   ]
  },
  {
   "cell_type": "code",
   "execution_count": 9,
   "id": "0367b85d",
   "metadata": {
    "pycharm": {
     "name": "#%%\n"
    }
   },
   "outputs": [
    {
     "data": {
      "text/plain": [
       "100.0000000000214"
      ]
     },
     "execution_count": 9,
     "metadata": {},
     "output_type": "execute_result"
    }
   ],
   "source": [
    "scores = []\n",
    "for i in range (1,100):\n",
    "    matrix = np.random.randint(10,size = (4,4))\n",
    "    while not is_matrix_inv(matrix):\n",
    "        matrix = np.random.randint(10,size = (4,4))\n",
    "    new_features_train = features_train.values@matrix\n",
    "    new_features_valid = features_valid.values@matrix\n",
    "    model = LinearRegression()\n",
    "    model.fit(new_features_train, target_train)\n",
    "    results = model.predict(new_features_valid)\n",
    "    scores.append (r2_score(target_valid, results))\n",
    "(np.array(scores).mean()/r2_score(target_valid, results))*100"
   ]
  },
  {
   "cell_type": "markdown",
   "id": "8761beae",
   "metadata": {
    "pycharm": {
     "name": "#%% md\n"
    }
   },
   "source": [
    "Точность выше 99% на матрице, состоящей из положительных целых чисел одного порядка. \n",
    "Попробуем составить более неоднородную матрицу, где значения отличабются друг от друга на несколько порядков. "
   ]
  },
  {
   "cell_type": "code",
   "execution_count": 10,
   "id": "71573f09",
   "metadata": {
    "pycharm": {
     "name": "#%%\n"
    }
   },
   "outputs": [
    {
     "name": "stdout",
     "output_type": "stream",
     "text": [
      "-0.0001430237930319933\n"
     ]
    }
   ],
   "source": [
    "a = np.array([[10000000000000000000000000000.0,-0.1,0,-0.23],[1,-0.1,-1,0],[0,100,-0.1,1],[0,0,10,1000]])\n",
    "if is_matrix_inv(a):\n",
    "    new_features_train = features_train.values@a\n",
    "    new_features_valid = features_valid.values@a\n",
    "    model = LinearRegression()\n",
    "    model.fit(new_features_train, target_train)\n",
    "    results = model.predict(new_features_valid)\n",
    "    print (r2_score(target_valid, results))\n",
    "else:\n",
    "    print ('матрица необратима')"
   ]
  },
  {
   "cell_type": "markdown",
   "id": "808434cc",
   "metadata": {
    "pycharm": {
     "name": "#%% md\n"
    }
   },
   "source": [
    "Значение метрики пошло вниз. Это связано с тем, что часть признаков умножается на слишком большое число, часть на слишком малое, что создает дисбаланс классов и, как следствие, нерелевантный вектор w, который бесполезен для данных, отличных от обучающих. \n",
    "\n",
    "Если эта гипотеза верна, то нам поможет скалирование признаков. Выполним его, далее переобучим модель и найдем метрику r2.  "
   ]
  },
  {
   "cell_type": "code",
   "execution_count": 11,
   "id": "68f547ce",
   "metadata": {
    "pycharm": {
     "name": "#%%\n"
    }
   },
   "outputs": [
    {
     "data": {
      "text/plain": [
       "0.43522757127026657"
      ]
     },
     "execution_count": 11,
     "metadata": {},
     "output_type": "execute_result"
    }
   ],
   "source": [
    "scaler = StandardScaler()\n",
    "scaler.fit(new_features_train)\n",
    "new_features_train = scaler.transform(new_features_train)\n",
    "new_features_valid = scaler.transform(new_features_valid)\n",
    "model = LinearRegression()\n",
    "model.fit(new_features_train, target_train)\n",
    "results = model.predict(new_features_valid)\n",
    "r2_score(target_valid, results)"
   ]
  },
  {
   "cell_type": "markdown",
   "id": "357ee392",
   "metadata": {
    "pycharm": {
     "name": "#%% md\n"
    }
   },
   "source": [
    "Значение метрики восстановлено! \n",
    "\n",
    "Возьмем выполненные операции за основу для алгоритма обезличивания данных. "
   ]
  },
  {
   "cell_type": "markdown",
   "id": "ab5a1004",
   "metadata": {
    "pycharm": {
     "name": "#%% md\n"
    }
   },
   "source": [
    "## Алгоритм преобразования"
   ]
  },
  {
   "cell_type": "markdown",
   "id": "5328e312",
   "metadata": {
    "pycharm": {
     "name": "#%% md\n"
    }
   },
   "source": [
    "Наш алгоритм будет принимать таблицу признаков на вход, и возвращать обезличенные признаки также одной таблицей. \n",
    "Работа алгоритма будет состоять из следующих шагов: \n",
    "1. Генерация квадратной обратимой матрицы, шириной, равной ширине таблицы признаков и проверка матрицы на обратимость.\n",
    "2. Умножение исходной таблицы на матрицу\n",
    "3. Скалирование признаков в получившейся матрице признаков. \n",
    "4. Возвращение матрицы признаков и сгенерированной матрицы. \n",
    "\n",
    "Далее, преобразованные признаки можно передать дата-саентистам для обработки, матрицу сохранить для последующего умножения боевых данных, чтобы обученная модель дала правильные результаты.\n",
    "\n",
    "Для проверки алгоритма обучим модель на имеющихся данных, далее сравним значение метрики r2 валидационной выборки с метрикой r2 после обучения на данных, умноженных на матрицу.\n",
    "\n",
    "Плюсы подхода: \n",
    "1. Уникальная матрица каждую итерацию обработки данных, это защищает нас от риска восстановления всех данных в случае утечки матрицы. \n",
    "\n",
    "Минусы: \n",
    "1. Необходимо развернуть и аккуратно вести базу данных матриц со связкой 1:1 к каждой обученной модели, а также нужен сервис, который умножит продовые данные на матрицу. Так как проект не подразумевает базу данных, буду сохранять данные в словари."
   ]
  },
  {
   "cell_type": "code",
   "execution_count": 12,
   "id": "cf3091fd",
   "metadata": {
    "pycharm": {
     "name": "#%%\n"
    }
   },
   "outputs": [],
   "source": [
    "dict_m = {}\n",
    "dict_sc = {}"
   ]
  },
  {
   "cell_type": "code",
   "execution_count": 13,
   "id": "ebdebe67",
   "metadata": {
    "pycharm": {
     "name": "#%%\n"
    }
   },
   "outputs": [],
   "source": [
    "def preprocess_data(features,dict_m,dict_sc):\n",
    "    matrix = np.random.randint(10000,size = (len(features.columns),len(features.columns)))\n",
    "    while not is_matrix_inv(matrix):\n",
    "        matrix = np.random.randint(10000,size = (4,4))\n",
    "    learn_id = len(dict_m)+1\n",
    "    dict_m[learn_id] = matrix\n",
    "    new_features = features.values@matrix\n",
    "    scaler = StandardScaler()\n",
    "    scaler.fit(new_features)\n",
    "    new_features = scaler.transform(new_features)\n",
    "    dict_sc[learn_id] = scaler\n",
    "    return (new_features, learn_id)"
   ]
  },
  {
   "cell_type": "code",
   "execution_count": 14,
   "id": "6c8cf776",
   "metadata": {
    "pycharm": {
     "name": "#%%\n"
    }
   },
   "outputs": [],
   "source": [
    "def postprocess_data(features, learn_id, dict_m, dict_sc):\n",
    "    matrix = dict_m[learn_id]\n",
    "    scaler = dict_sc[learn_id]\n",
    "    new_features = scaler.transform(features.values@matrix)\n",
    "    return(new_features)"
   ]
  },
  {
   "cell_type": "markdown",
   "id": "fd8db286",
   "metadata": {
    "pycharm": {
     "name": "#%% md\n"
    }
   },
   "source": [
    "**Обоснование**\n",
    "\n",
    "В случае, если сделать метод postprocess_data доступным для вызова из скрипта, написанного дата-сайентистом, получится схема, когда специалист получает обезличенные данные и уникальный идентификатор, который необходимо статично зашить в написанный скрипт, который будет работать с боевыми данными. \n",
    "Таким образом, мы сможем гарантировать, что и обучающие и продовые данные обрабатываются идентичным образом, при этом каждый раз используется уникальная матрица и уникальный скэлер, что значительно усложняет процесс восстановления первоначалльных данных. "
   ]
  },
  {
   "cell_type": "markdown",
   "id": "9485564b",
   "metadata": {
    "pycharm": {
     "name": "#%% md\n"
    }
   },
   "source": [
    "## Проверка алгоритма"
   ]
  },
  {
   "cell_type": "markdown",
   "id": "2999dcec",
   "metadata": {
    "pycharm": {
     "name": "#%% md\n"
    }
   },
   "source": [
    "Проверим написанные методы в цикле. "
   ]
  },
  {
   "cell_type": "code",
   "execution_count": 15,
   "id": "a232943c",
   "metadata": {
    "pycharm": {
     "name": "#%%\n"
    }
   },
   "outputs": [
    {
     "data": {
      "text/plain": [
       "99.99999999995194"
      ]
     },
     "execution_count": 15,
     "metadata": {},
     "output_type": "execute_result"
    }
   ],
   "source": [
    "scores = []\n",
    "for i in range (1,100):\n",
    "    new_features, learn_id = preprocess_data(features_train,dict_m,dict_sc)\n",
    "    new_features_valid = postprocess_data(features_valid, i,dict_m,dict_sc)\n",
    "    model = LinearRegression()\n",
    "    model.fit(new_features, target_train)\n",
    "    results = model.predict(new_features_valid)\n",
    "    score = r2_score(target_valid, results)\n",
    "    scores.append(score)\n",
    "(np.array(scores).mean()/r2_score(target_valid, results)*100)"
   ]
  },
  {
   "cell_type": "markdown",
   "id": "d0a90d6c",
   "metadata": {
    "pycharm": {
     "name": "#%% md\n"
    }
   },
   "source": [
    "## Выводы"
   ]
  },
  {
   "cell_type": "markdown",
   "id": "ff4db649",
   "metadata": {
    "pycharm": {
     "name": "#%% md\n"
    }
   },
   "source": [
    "Представленные для разработки алгоритма шифрования данные оказались качетсвенными, предобработка не потребовалась. \n",
    "\n",
    "Гипотеза об умножении признаков на обратимую матрицу с сохранением качества обучения модели оказалась верной, но с ограничениями, так как возможно появление дисбаланса классов, вследствие умножения на числа, отличющиеся от исходных на несколько порядков. Поэтому в итоговом алгоритме обработки данных используется умножение признаков на матрицу с последующим скалированием, что позволяет нивелировать дисбаланс. "
   ]
  }
 ],
 "metadata": {
  "ExecuteTimeLog": [
   {
    "duration": 2403,
    "start_time": "2022-09-03T08:03:30.369Z"
   },
   {
    "duration": 213,
    "start_time": "2022-09-03T08:03:32.774Z"
   },
   {
    "duration": 0,
    "start_time": "2022-09-03T08:03:33.039Z"
   },
   {
    "duration": 0,
    "start_time": "2022-09-03T08:03:33.040Z"
   },
   {
    "duration": 0,
    "start_time": "2022-09-03T08:03:33.041Z"
   },
   {
    "duration": 0,
    "start_time": "2022-09-03T08:03:33.042Z"
   },
   {
    "duration": 0,
    "start_time": "2022-09-03T08:03:33.044Z"
   },
   {
    "duration": 0,
    "start_time": "2022-09-03T08:03:33.045Z"
   },
   {
    "duration": 0,
    "start_time": "2022-09-03T08:03:33.046Z"
   },
   {
    "duration": 0,
    "start_time": "2022-09-03T08:03:33.047Z"
   },
   {
    "duration": 0,
    "start_time": "2022-09-03T08:03:33.049Z"
   },
   {
    "duration": 0,
    "start_time": "2022-09-03T08:03:33.051Z"
   },
   {
    "duration": 0,
    "start_time": "2022-09-03T08:03:33.052Z"
   },
   {
    "duration": 0,
    "start_time": "2022-09-03T08:03:33.053Z"
   },
   {
    "duration": 2374,
    "start_time": "2022-09-03T08:03:55.478Z"
   },
   {
    "duration": 214,
    "start_time": "2022-09-03T08:03:57.853Z"
   },
   {
    "duration": 0,
    "start_time": "2022-09-03T08:03:58.069Z"
   },
   {
    "duration": 1,
    "start_time": "2022-09-03T08:03:58.069Z"
   },
   {
    "duration": 0,
    "start_time": "2022-09-03T08:03:58.070Z"
   },
   {
    "duration": 0,
    "start_time": "2022-09-03T08:03:58.071Z"
   },
   {
    "duration": 0,
    "start_time": "2022-09-03T08:03:58.072Z"
   },
   {
    "duration": 0,
    "start_time": "2022-09-03T08:03:58.073Z"
   },
   {
    "duration": 0,
    "start_time": "2022-09-03T08:03:58.074Z"
   },
   {
    "duration": 0,
    "start_time": "2022-09-03T08:03:58.075Z"
   },
   {
    "duration": 0,
    "start_time": "2022-09-03T08:03:58.076Z"
   },
   {
    "duration": 0,
    "start_time": "2022-09-03T08:03:58.077Z"
   },
   {
    "duration": 0,
    "start_time": "2022-09-03T08:03:58.078Z"
   },
   {
    "duration": 0,
    "start_time": "2022-09-03T08:03:58.079Z"
   },
   {
    "duration": 48,
    "start_time": "2022-09-03T08:04:16.300Z"
   },
   {
    "duration": 86,
    "start_time": "2022-09-03T08:04:30.601Z"
   },
   {
    "duration": 1518,
    "start_time": "2022-09-03T08:04:42.640Z"
   },
   {
    "duration": 0,
    "start_time": "2022-09-03T08:04:44.160Z"
   },
   {
    "duration": 0,
    "start_time": "2022-09-03T08:04:44.162Z"
   },
   {
    "duration": 0,
    "start_time": "2022-09-03T08:04:44.162Z"
   },
   {
    "duration": 0,
    "start_time": "2022-09-03T08:04:44.163Z"
   },
   {
    "duration": 0,
    "start_time": "2022-09-03T08:04:44.164Z"
   },
   {
    "duration": 0,
    "start_time": "2022-09-03T08:04:44.165Z"
   },
   {
    "duration": 0,
    "start_time": "2022-09-03T08:04:44.166Z"
   },
   {
    "duration": 0,
    "start_time": "2022-09-03T08:04:44.167Z"
   },
   {
    "duration": 0,
    "start_time": "2022-09-03T08:04:44.168Z"
   },
   {
    "duration": 0,
    "start_time": "2022-09-03T08:04:44.168Z"
   },
   {
    "duration": 0,
    "start_time": "2022-09-03T08:04:44.170Z"
   },
   {
    "duration": 0,
    "start_time": "2022-09-03T08:04:44.171Z"
   },
   {
    "duration": 0,
    "start_time": "2022-09-03T08:04:44.171Z"
   },
   {
    "duration": 1657,
    "start_time": "2022-09-03T08:05:10.608Z"
   },
   {
    "duration": 36,
    "start_time": "2022-09-03T08:05:12.266Z"
   },
   {
    "duration": 22,
    "start_time": "2022-09-03T08:05:12.304Z"
   },
   {
    "duration": 6,
    "start_time": "2022-09-03T08:05:12.328Z"
   },
   {
    "duration": 5,
    "start_time": "2022-09-03T08:05:12.336Z"
   },
   {
    "duration": 12,
    "start_time": "2022-09-03T08:05:12.342Z"
   },
   {
    "duration": 140,
    "start_time": "2022-09-03T08:05:12.356Z"
   },
   {
    "duration": 10,
    "start_time": "2022-09-03T08:05:12.497Z"
   },
   {
    "duration": 13,
    "start_time": "2022-09-03T08:05:12.509Z"
   },
   {
    "duration": 15,
    "start_time": "2022-09-03T08:05:12.523Z"
   },
   {
    "duration": 4,
    "start_time": "2022-09-03T08:05:12.540Z"
   },
   {
    "duration": 5,
    "start_time": "2022-09-03T08:05:12.545Z"
   },
   {
    "duration": 252,
    "start_time": "2022-09-03T08:05:12.551Z"
   },
   {
    "duration": 14,
    "start_time": "2022-09-03T08:05:12.805Z"
   },
   {
    "duration": 181,
    "start_time": "2022-09-03T08:47:20.445Z"
   },
   {
    "duration": 11,
    "start_time": "2022-09-03T08:47:28.320Z"
   },
   {
    "duration": 76,
    "start_time": "2022-09-03T08:47:29.049Z"
   },
   {
    "duration": 525,
    "start_time": "2022-09-03T08:48:26.422Z"
   },
   {
    "duration": 80,
    "start_time": "2022-09-03T08:50:06.479Z"
   },
   {
    "duration": 77,
    "start_time": "2022-09-03T08:50:14.237Z"
   },
   {
    "duration": 8,
    "start_time": "2022-09-03T08:50:36.791Z"
   },
   {
    "duration": 5,
    "start_time": "2022-09-03T08:50:37.005Z"
   },
   {
    "duration": 8,
    "start_time": "2022-09-06T03:16:57.008Z"
   }
  ],
  "kernelspec": {
   "display_name": "Python 3 (ipykernel)",
   "language": "python",
   "name": "python3"
  },
  "language_info": {
   "codemirror_mode": {
    "name": "ipython",
    "version": 3
   },
   "file_extension": ".py",
   "mimetype": "text/x-python",
   "name": "python",
   "nbconvert_exporter": "python",
   "pygments_lexer": "ipython3",
   "version": "3.9.5"
  },
  "toc": {
   "base_numbering": 1,
   "nav_menu": {},
   "number_sections": true,
   "sideBar": true,
   "skip_h1_title": true,
   "title_cell": "Table of Contents",
   "title_sidebar": "Contents",
   "toc_cell": false,
   "toc_position": {},
   "toc_section_display": true,
   "toc_window_display": true
  }
 },
 "nbformat": 4,
 "nbformat_minor": 5
}
