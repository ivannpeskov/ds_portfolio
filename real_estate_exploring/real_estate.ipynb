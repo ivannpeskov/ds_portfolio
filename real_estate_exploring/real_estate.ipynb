{
 "cells": [
  {
   "cell_type": "markdown",
   "metadata": {
    "toc": true
   },
   "source": [
    "<h1>Содержание<span class=\"tocSkip\"></span></h1>\n",
    "<div class=\"toc\"><ul class=\"toc-item\"><li><span><a href=\"#Изучение-данных-из-файла\" data-toc-modified-id=\"Изучение-данных-из-файла-1\"><span class=\"toc-item-num\">1&nbsp;&nbsp;</span>Изучение данных из файла</a></span></li><li><span><a href=\"#Предобработка-данных\" data-toc-modified-id=\"Предобработка-данных-2\"><span class=\"toc-item-num\">2&nbsp;&nbsp;</span>Предобработка данных</a></span></li><li><span><a href=\"#Выводы\" data-toc-modified-id=\"Выводы-3\"><span class=\"toc-item-num\">3&nbsp;&nbsp;</span>Выводы</a></span></li><li><span><a href=\"#Расчёты-и-добавление-результатов-в-таблицу\" data-toc-modified-id=\"Расчёты-и-добавление-результатов-в-таблицу-4\"><span class=\"toc-item-num\">4&nbsp;&nbsp;</span>Расчёты и добавление результатов в таблицу</a></span></li><li><span><a href=\"#Исследовательский-анализ-данных\" data-toc-modified-id=\"Исследовательский-анализ-данных-5\"><span class=\"toc-item-num\">5&nbsp;&nbsp;</span>Исследовательский анализ данных</a></span><ul class=\"toc-item\"><li><span><a href=\"#Влияние-категориальных-переменных-на-стоимость-квадратного-метра:\" data-toc-modified-id=\"Влияние-категориальных-переменных-на-стоимость-квадратного-метра:-5.1\"><span class=\"toc-item-num\">5.1&nbsp;&nbsp;</span>Влияние категориальных переменных на стоимость квадратного метра:</a></span></li></ul></li><li><span><a href=\"#Исследуем-данные-по-непроданным-объектам-недвижимости\" data-toc-modified-id=\"Исследуем-данные-по-непроданным-объектам-недвижимости-6\"><span class=\"toc-item-num\">6&nbsp;&nbsp;</span>Исследуем данные по непроданным объектам недвижимости</a></span></li><li><span><a href=\"#Общий-вывод\" data-toc-modified-id=\"Общий-вывод-7\"><span class=\"toc-item-num\">7&nbsp;&nbsp;</span>Общий вывод</a></span><ul class=\"toc-item\"><li><span><a href=\"#Описание-данных\" data-toc-modified-id=\"Описание-данных-7.1\"><span class=\"toc-item-num\">7.1&nbsp;&nbsp;</span>Описание данных</a></span></li><li><span><a href=\"#Итоги-исследования\" data-toc-modified-id=\"Итоги-исследования-7.2\"><span class=\"toc-item-num\">7.2&nbsp;&nbsp;</span>Итоги исследования</a></span></li></ul></li></ul></div>"
   ]
  },
  {
   "cell_type": "markdown",
   "metadata": {},
   "source": [
    "# Исследование объявлений о продаже квартир\n",
    "\n",
    "В вашем распоряжении данные сервиса Яндекc Недвижимость — архив объявлений о продаже квартир в Санкт-Петербурге и соседних населённых пунктах за несколько лет. Нужно научиться определять рыночную стоимость объектов недвижимости. Ваша задача — установить параметры. Это позволит построить автоматизированную систему: она отследит аномалии и мошенническую деятельность. \n",
    "\n",
    "По каждой квартире на продажу доступны два вида данных. Первые вписаны пользователем, вторые получены автоматически на основе картографических данных. Например, расстояние до центра, аэропорта, ближайшего парка и водоёма. "
   ]
  },
  {
   "cell_type": "markdown",
   "metadata": {},
   "source": [
    "## Изучение данных из файла"
   ]
  },
  {
   "cell_type": "code",
   "execution_count": 244,
   "metadata": {},
   "outputs": [],
   "source": [
    "import pandas as pd\n",
    "import matplotlib as plt"
   ]
  },
  {
   "cell_type": "markdown",
   "metadata": {},
   "source": [
    "## Предобработка данных"
   ]
  },
  {
   "cell_type": "code",
   "execution_count": 178,
   "metadata": {},
   "outputs": [
    {
     "data": {
      "text/html": [
       "<div>\n",
       "<style scoped>\n",
       "    .dataframe tbody tr th:only-of-type {\n",
       "        vertical-align: middle;\n",
       "    }\n",
       "\n",
       "    .dataframe tbody tr th {\n",
       "        vertical-align: top;\n",
       "    }\n",
       "\n",
       "    .dataframe thead th {\n",
       "        text-align: right;\n",
       "    }\n",
       "</style>\n",
       "<table border=\"1\" class=\"dataframe\">\n",
       "  <thead>\n",
       "    <tr style=\"text-align: right;\">\n",
       "      <th></th>\n",
       "      <th>total_images</th>\n",
       "      <th>last_price</th>\n",
       "      <th>total_area</th>\n",
       "      <th>first_day_exposition</th>\n",
       "      <th>rooms</th>\n",
       "      <th>ceiling_height</th>\n",
       "      <th>floors_total</th>\n",
       "      <th>living_area</th>\n",
       "      <th>floor</th>\n",
       "      <th>is_apartment</th>\n",
       "      <th>...</th>\n",
       "      <th>kitchen_area</th>\n",
       "      <th>balcony</th>\n",
       "      <th>locality_name</th>\n",
       "      <th>airports_nearest</th>\n",
       "      <th>cityCenters_nearest</th>\n",
       "      <th>parks_around3000</th>\n",
       "      <th>parks_nearest</th>\n",
       "      <th>ponds_around3000</th>\n",
       "      <th>ponds_nearest</th>\n",
       "      <th>days_exposition</th>\n",
       "    </tr>\n",
       "  </thead>\n",
       "  <tbody>\n",
       "    <tr>\n",
       "      <th>0</th>\n",
       "      <td>20</td>\n",
       "      <td>13000000.0</td>\n",
       "      <td>108.0</td>\n",
       "      <td>2019-03-07T00:00:00</td>\n",
       "      <td>3</td>\n",
       "      <td>2.70</td>\n",
       "      <td>16.0</td>\n",
       "      <td>51.0</td>\n",
       "      <td>8</td>\n",
       "      <td>NaN</td>\n",
       "      <td>...</td>\n",
       "      <td>25.0</td>\n",
       "      <td>NaN</td>\n",
       "      <td>Санкт-Петербург</td>\n",
       "      <td>18863.0</td>\n",
       "      <td>16028.0</td>\n",
       "      <td>1.0</td>\n",
       "      <td>482.0</td>\n",
       "      <td>2.0</td>\n",
       "      <td>755.0</td>\n",
       "      <td>NaN</td>\n",
       "    </tr>\n",
       "    <tr>\n",
       "      <th>1</th>\n",
       "      <td>7</td>\n",
       "      <td>3350000.0</td>\n",
       "      <td>40.4</td>\n",
       "      <td>2018-12-04T00:00:00</td>\n",
       "      <td>1</td>\n",
       "      <td>NaN</td>\n",
       "      <td>11.0</td>\n",
       "      <td>18.6</td>\n",
       "      <td>1</td>\n",
       "      <td>NaN</td>\n",
       "      <td>...</td>\n",
       "      <td>11.0</td>\n",
       "      <td>2.0</td>\n",
       "      <td>посёлок Шушары</td>\n",
       "      <td>12817.0</td>\n",
       "      <td>18603.0</td>\n",
       "      <td>0.0</td>\n",
       "      <td>NaN</td>\n",
       "      <td>0.0</td>\n",
       "      <td>NaN</td>\n",
       "      <td>81.0</td>\n",
       "    </tr>\n",
       "    <tr>\n",
       "      <th>2</th>\n",
       "      <td>10</td>\n",
       "      <td>5196000.0</td>\n",
       "      <td>56.0</td>\n",
       "      <td>2015-08-20T00:00:00</td>\n",
       "      <td>2</td>\n",
       "      <td>NaN</td>\n",
       "      <td>5.0</td>\n",
       "      <td>34.3</td>\n",
       "      <td>4</td>\n",
       "      <td>NaN</td>\n",
       "      <td>...</td>\n",
       "      <td>8.3</td>\n",
       "      <td>0.0</td>\n",
       "      <td>Санкт-Петербург</td>\n",
       "      <td>21741.0</td>\n",
       "      <td>13933.0</td>\n",
       "      <td>1.0</td>\n",
       "      <td>90.0</td>\n",
       "      <td>2.0</td>\n",
       "      <td>574.0</td>\n",
       "      <td>558.0</td>\n",
       "    </tr>\n",
       "    <tr>\n",
       "      <th>3</th>\n",
       "      <td>0</td>\n",
       "      <td>64900000.0</td>\n",
       "      <td>159.0</td>\n",
       "      <td>2015-07-24T00:00:00</td>\n",
       "      <td>3</td>\n",
       "      <td>NaN</td>\n",
       "      <td>14.0</td>\n",
       "      <td>NaN</td>\n",
       "      <td>9</td>\n",
       "      <td>NaN</td>\n",
       "      <td>...</td>\n",
       "      <td>NaN</td>\n",
       "      <td>0.0</td>\n",
       "      <td>Санкт-Петербург</td>\n",
       "      <td>28098.0</td>\n",
       "      <td>6800.0</td>\n",
       "      <td>2.0</td>\n",
       "      <td>84.0</td>\n",
       "      <td>3.0</td>\n",
       "      <td>234.0</td>\n",
       "      <td>424.0</td>\n",
       "    </tr>\n",
       "    <tr>\n",
       "      <th>4</th>\n",
       "      <td>2</td>\n",
       "      <td>10000000.0</td>\n",
       "      <td>100.0</td>\n",
       "      <td>2018-06-19T00:00:00</td>\n",
       "      <td>2</td>\n",
       "      <td>3.03</td>\n",
       "      <td>14.0</td>\n",
       "      <td>32.0</td>\n",
       "      <td>13</td>\n",
       "      <td>NaN</td>\n",
       "      <td>...</td>\n",
       "      <td>41.0</td>\n",
       "      <td>NaN</td>\n",
       "      <td>Санкт-Петербург</td>\n",
       "      <td>31856.0</td>\n",
       "      <td>8098.0</td>\n",
       "      <td>2.0</td>\n",
       "      <td>112.0</td>\n",
       "      <td>1.0</td>\n",
       "      <td>48.0</td>\n",
       "      <td>121.0</td>\n",
       "    </tr>\n",
       "  </tbody>\n",
       "</table>\n",
       "<p>5 rows × 22 columns</p>\n",
       "</div>"
      ],
      "text/plain": [
       "   total_images  last_price  total_area first_day_exposition  rooms  \\\n",
       "0            20  13000000.0       108.0  2019-03-07T00:00:00      3   \n",
       "1             7   3350000.0        40.4  2018-12-04T00:00:00      1   \n",
       "2            10   5196000.0        56.0  2015-08-20T00:00:00      2   \n",
       "3             0  64900000.0       159.0  2015-07-24T00:00:00      3   \n",
       "4             2  10000000.0       100.0  2018-06-19T00:00:00      2   \n",
       "\n",
       "   ceiling_height  floors_total  living_area  floor is_apartment  ...  \\\n",
       "0            2.70          16.0         51.0      8          NaN  ...   \n",
       "1             NaN          11.0         18.6      1          NaN  ...   \n",
       "2             NaN           5.0         34.3      4          NaN  ...   \n",
       "3             NaN          14.0          NaN      9          NaN  ...   \n",
       "4            3.03          14.0         32.0     13          NaN  ...   \n",
       "\n",
       "   kitchen_area  balcony    locality_name  airports_nearest  \\\n",
       "0          25.0      NaN  Санкт-Петербург           18863.0   \n",
       "1          11.0      2.0   посёлок Шушары           12817.0   \n",
       "2           8.3      0.0  Санкт-Петербург           21741.0   \n",
       "3           NaN      0.0  Санкт-Петербург           28098.0   \n",
       "4          41.0      NaN  Санкт-Петербург           31856.0   \n",
       "\n",
       "  cityCenters_nearest  parks_around3000  parks_nearest  ponds_around3000  \\\n",
       "0             16028.0               1.0          482.0               2.0   \n",
       "1             18603.0               0.0            NaN               0.0   \n",
       "2             13933.0               1.0           90.0               2.0   \n",
       "3              6800.0               2.0           84.0               3.0   \n",
       "4              8098.0               2.0          112.0               1.0   \n",
       "\n",
       "   ponds_nearest  days_exposition  \n",
       "0          755.0              NaN  \n",
       "1            NaN             81.0  \n",
       "2          574.0            558.0  \n",
       "3          234.0            424.0  \n",
       "4           48.0            121.0  \n",
       "\n",
       "[5 rows x 22 columns]"
      ]
     },
     "execution_count": 178,
     "metadata": {},
     "output_type": "execute_result"
    }
   ],
   "source": [
    "df = pd.read_csv('/datasets/real_estate_data.csv',sep='\\t')\n",
    "df.head()"
   ]
  },
  {
   "cell_type": "code",
   "execution_count": 179,
   "metadata": {},
   "outputs": [
    {
     "name": "stdout",
     "output_type": "stream",
     "text": [
      "<class 'pandas.core.frame.DataFrame'>\n",
      "RangeIndex: 23699 entries, 0 to 23698\n",
      "Data columns (total 22 columns):\n",
      " #   Column                Non-Null Count  Dtype  \n",
      "---  ------                --------------  -----  \n",
      " 0   total_images          23699 non-null  int64  \n",
      " 1   last_price            23699 non-null  float64\n",
      " 2   total_area            23699 non-null  float64\n",
      " 3   first_day_exposition  23699 non-null  object \n",
      " 4   rooms                 23699 non-null  int64  \n",
      " 5   ceiling_height        14504 non-null  float64\n",
      " 6   floors_total          23613 non-null  float64\n",
      " 7   living_area           21796 non-null  float64\n",
      " 8   floor                 23699 non-null  int64  \n",
      " 9   is_apartment          2775 non-null   object \n",
      " 10  studio                23699 non-null  bool   \n",
      " 11  open_plan             23699 non-null  bool   \n",
      " 12  kitchen_area          21421 non-null  float64\n",
      " 13  balcony               12180 non-null  float64\n",
      " 14  locality_name         23650 non-null  object \n",
      " 15  airports_nearest      18157 non-null  float64\n",
      " 16  cityCenters_nearest   18180 non-null  float64\n",
      " 17  parks_around3000      18181 non-null  float64\n",
      " 18  parks_nearest         8079 non-null   float64\n",
      " 19  ponds_around3000      18181 non-null  float64\n",
      " 20  ponds_nearest         9110 non-null   float64\n",
      " 21  days_exposition       20518 non-null  float64\n",
      "dtypes: bool(2), float64(14), int64(3), object(3)\n",
      "memory usage: 3.7+ MB\n"
     ]
    }
   ],
   "source": [
    "df.info()"
   ]
  },
  {
   "cell_type": "markdown",
   "metadata": {},
   "source": [
    "## Выводы\n",
    "1. Всего в датафрейме представлены 23 699 измерений. \n",
    "2. По колонкам \n",
    "`ceiling_height`\n",
    "`floors_total`\n",
    "`living_area`\n",
    "`is_appartment`\n",
    "`kitchen_area`\n",
    "`balcony`\n",
    "`locatility_name`\n",
    "`airports_nearest`\n",
    "`citiCenters_nearest`\n",
    "`parks_nearest`\n",
    "`ponds_nearest`\n",
    "`days_exposition`\n",
    "Присутствуют пустые значения, необходимо дополнительно исследовать каждую из них.\n",
    "3. Колонки\n",
    "`citiCenters_nearest`\n",
    "`parks_around3000`\n",
    "`ponds_around3000` переименуем для удобства дальнейшего использования.\n",
    "4. Остальные колонки по набору данных выглядят полноценными, необходимо проверить записи на дубликаты, аномальные значения и распределние представленных значений. \n"
   ]
  },
  {
   "cell_type": "code",
   "execution_count": 180,
   "metadata": {},
   "outputs": [],
   "source": [
    "#Приведем наименование колонок в удобный вид\n",
    "df = df.rename(columns = {'cityCenters_nearest':'city_centers_nearest', 'parks_around3000':'parks_around', 'ponds_around3000':'ponds_around'})"
   ]
  },
  {
   "cell_type": "code",
   "execution_count": 181,
   "metadata": {},
   "outputs": [
    {
     "data": {
      "text/plain": [
       "count    23699.000000\n",
       "mean         9.858475\n",
       "std          5.682529\n",
       "min          0.000000\n",
       "25%          6.000000\n",
       "50%          9.000000\n",
       "75%         14.000000\n",
       "max         50.000000\n",
       "Name: total_images, dtype: float64"
      ]
     },
     "execution_count": 181,
     "metadata": {},
     "output_type": "execute_result"
    },
    {
     "data": {
      "image/png": "[encoded data removed]",
      "text/plain": [
       "<Figure size 432x288 with 1 Axes>"
      ]
     },
     "metadata": {
      "needs_background": "light"
     },
     "output_type": "display_data"
    }
   ],
   "source": [
    "#Изучим значения в колонке total_images\n",
    "df.hist(column='total_images')\n",
    "df['total_images'].describe()"
   ]
  },
  {
   "cell_type": "markdown",
   "metadata": {},
   "source": [
    "Минимальное значение - 0, максимальное - 50, медиана - 9. Распределение выглядит нормальным. \n",
    "Возможно, отсуствует ограничение на количество изображений по объявлению, это может стать причиной отказа инфраструктуры из-за нагрузки. \n",
    "Идем дальше. "
   ]
  },
  {
   "cell_type": "code",
   "execution_count": 182,
   "metadata": {},
   "outputs": [
    {
     "data": {
      "text/plain": [
       "count     23699.000000\n",
       "mean       6541.548772\n",
       "std       10887.013268\n",
       "min          12.190000\n",
       "25%        3400.000000\n",
       "50%        4650.000000\n",
       "75%        6800.000000\n",
       "max      763000.000000\n",
       "Name: last_price, dtype: float64"
      ]
     },
     "execution_count": 182,
     "metadata": {},
     "output_type": "execute_result"
    }
   ],
   "source": [
    "#Изучим значения в колонке last_price\n",
    "df['last_price'] = df['last_price'].astype('int') # изменим тип значений в колонке на int для более комфортного отображения\n",
    "\n",
    "(df['last_price']/1000).describe()\n"
   ]
  },
  {
   "cell_type": "markdown",
   "metadata": {},
   "source": [
    "Одно из значений явно выбивается из общей картины, необходимо изучить его подробнее"
   ]
  },
  {
   "cell_type": "code",
   "execution_count": 183,
   "metadata": {},
   "outputs": [
    {
     "data": {
      "text/html": [
       "<div>\n",
       "<style scoped>\n",
       "    .dataframe tbody tr th:only-of-type {\n",
       "        vertical-align: middle;\n",
       "    }\n",
       "\n",
       "    .dataframe tbody tr th {\n",
       "        vertical-align: top;\n",
       "    }\n",
       "\n",
       "    .dataframe thead th {\n",
       "        text-align: right;\n",
       "    }\n",
       "</style>\n",
       "<table border=\"1\" class=\"dataframe\">\n",
       "  <thead>\n",
       "    <tr style=\"text-align: right;\">\n",
       "      <th></th>\n",
       "      <th>total_images</th>\n",
       "      <th>last_price</th>\n",
       "      <th>total_area</th>\n",
       "      <th>first_day_exposition</th>\n",
       "      <th>rooms</th>\n",
       "      <th>ceiling_height</th>\n",
       "      <th>floors_total</th>\n",
       "      <th>living_area</th>\n",
       "      <th>floor</th>\n",
       "      <th>is_apartment</th>\n",
       "      <th>...</th>\n",
       "      <th>kitchen_area</th>\n",
       "      <th>balcony</th>\n",
       "      <th>locality_name</th>\n",
       "      <th>airports_nearest</th>\n",
       "      <th>city_centers_nearest</th>\n",
       "      <th>parks_around</th>\n",
       "      <th>parks_nearest</th>\n",
       "      <th>ponds_around</th>\n",
       "      <th>ponds_nearest</th>\n",
       "      <th>days_exposition</th>\n",
       "    </tr>\n",
       "  </thead>\n",
       "  <tbody>\n",
       "    <tr>\n",
       "      <th>8793</th>\n",
       "      <td>7</td>\n",
       "      <td>12190</td>\n",
       "      <td>109.0</td>\n",
       "      <td>2019-03-20T00:00:00</td>\n",
       "      <td>2</td>\n",
       "      <td>2.75</td>\n",
       "      <td>25.0</td>\n",
       "      <td>32.0</td>\n",
       "      <td>25</td>\n",
       "      <td>NaN</td>\n",
       "      <td>...</td>\n",
       "      <td>40.5</td>\n",
       "      <td>NaN</td>\n",
       "      <td>Санкт-Петербург</td>\n",
       "      <td>36421.0</td>\n",
       "      <td>9176.0</td>\n",
       "      <td>1.0</td>\n",
       "      <td>805.0</td>\n",
       "      <td>0.0</td>\n",
       "      <td>NaN</td>\n",
       "      <td>8.0</td>\n",
       "    </tr>\n",
       "  </tbody>\n",
       "</table>\n",
       "<p>1 rows × 22 columns</p>\n",
       "</div>"
      ],
      "text/plain": [
       "      total_images  last_price  total_area first_day_exposition  rooms  \\\n",
       "8793             7       12190       109.0  2019-03-20T00:00:00      2   \n",
       "\n",
       "      ceiling_height  floors_total  living_area  floor is_apartment  ...  \\\n",
       "8793            2.75          25.0         32.0     25          NaN  ...   \n",
       "\n",
       "      kitchen_area  balcony    locality_name  airports_nearest  \\\n",
       "8793          40.5      NaN  Санкт-Петербург           36421.0   \n",
       "\n",
       "     city_centers_nearest  parks_around  parks_nearest  ponds_around  \\\n",
       "8793               9176.0           1.0          805.0           0.0   \n",
       "\n",
       "      ponds_nearest  days_exposition  \n",
       "8793            NaN              8.0  \n",
       "\n",
       "[1 rows x 22 columns]"
      ]
     },
     "execution_count": 183,
     "metadata": {},
     "output_type": "execute_result"
    }
   ],
   "source": [
    "df.query('last_price<15000')"
   ]
  },
  {
   "cell_type": "markdown",
   "metadata": {},
   "source": [
    "Значение указано в тысячах рублей, домножим его на 1000, чтобы получить значение в рублях, как во всей остальной таблице и повторим исследование значений колонки"
   ]
  },
  {
   "cell_type": "code",
   "execution_count": 184,
   "metadata": {},
   "outputs": [],
   "source": [
    "df.loc[8793,'last_price'] = df.loc[8793,'last_price']*1000"
   ]
  },
  {
   "cell_type": "code",
   "execution_count": 185,
   "metadata": {},
   "outputs": [
    {
     "data": {
      "text/plain": [
       "count     23699.000000\n",
       "mean       6542.062625\n",
       "std       10886.992466\n",
       "min         430.000000\n",
       "25%        3400.000000\n",
       "50%        4650.000000\n",
       "75%        6800.000000\n",
       "max      763000.000000\n",
       "Name: last_price, dtype: float64"
      ]
     },
     "execution_count": 185,
     "metadata": {},
     "output_type": "execute_result"
    }
   ],
   "source": [
    "(df['last_price']/1000).describe()"
   ]
  },
  {
   "cell_type": "markdown",
   "metadata": {},
   "source": [
    "Теперь расрпеделение выглядит нормальным. Двигаемся дальше. "
   ]
  },
  {
   "cell_type": "code",
   "execution_count": 186,
   "metadata": {},
   "outputs": [
    {
     "data": {
      "text/plain": [
       "count    23699.000000\n",
       "mean        60.348651\n",
       "std         35.654083\n",
       "min         12.000000\n",
       "25%         40.000000\n",
       "50%         52.000000\n",
       "75%         69.900000\n",
       "max        900.000000\n",
       "Name: total_area, dtype: float64"
      ]
     },
     "execution_count": 186,
     "metadata": {},
     "output_type": "execute_result"
    },
    {
     "data": {
      "image/png": "[encoded data removed]",
      "text/plain": [
       "<Figure size 432x288 with 1 Axes>"
      ]
     },
     "metadata": {
      "needs_background": "light"
     },
     "output_type": "display_data"
    }
   ],
   "source": [
    "# Изучим значения колонки total_area\n",
    "df.hist(column='total_area')\n",
    "df['total_area'].describe()"
   ]
  },
  {
   "cell_type": "markdown",
   "metadata": {},
   "source": [
    "Распределение выглядит нормальным. "
   ]
  },
  {
   "cell_type": "code",
   "execution_count": 187,
   "metadata": {},
   "outputs": [
    {
     "name": "stderr",
     "output_type": "stream",
     "text": [
      "/tmp/ipykernel_25/1886861775.py:6: FutureWarning: Treating datetime data as categorical rather than numeric in `.describe` is deprecated and will be removed in a future version of pandas. Specify `datetime_is_numeric=True` to silence this warning and adopt the future behavior now.\n",
      "  df['first_day_exposition'].describe()\n"
     ]
    },
    {
     "data": {
      "text/plain": [
       "count                   23699\n",
       "unique                   1491\n",
       "top       2018-02-01 00:00:00\n",
       "freq                      368\n",
       "first     2014-11-27 00:00:00\n",
       "last      2019-05-03 00:00:00\n",
       "Name: first_day_exposition, dtype: object"
      ]
     },
     "execution_count": 187,
     "metadata": {},
     "output_type": "execute_result"
    }
   ],
   "source": [
    "#Изучим значение колонки first_day_exposition\n",
    "\n",
    "\n",
    "df['first_day_exposition'] = pd.to_datetime(df['first_day_exposition'],format = '%Y-%m-%d') #Переведем тип данных в datetime и сократим до дня\n",
    "\n",
    "df['first_day_exposition'].describe()"
   ]
  },
  {
   "cell_type": "markdown",
   "metadata": {},
   "source": [
    "Видим, что данные представлены за промежуток времени с 2014 по 2019 гг. "
   ]
  },
  {
   "cell_type": "code",
   "execution_count": 188,
   "metadata": {},
   "outputs": [
    {
     "data": {
      "text/plain": [
       "count    23699.000000\n",
       "mean         2.070636\n",
       "std          1.078405\n",
       "min          0.000000\n",
       "25%          1.000000\n",
       "50%          2.000000\n",
       "75%          3.000000\n",
       "max         19.000000\n",
       "Name: rooms, dtype: float64"
      ]
     },
     "execution_count": 188,
     "metadata": {},
     "output_type": "execute_result"
    },
    {
     "data": {
      "image/png": "[encoded data removed]",
      "text/plain": [
       "<Figure size 432x288 with 1 Axes>"
      ]
     },
     "metadata": {
      "needs_background": "light"
     },
     "output_type": "display_data"
    }
   ],
   "source": [
    "# изучим данные колонки rooms\n",
    "df.hist(column = 'rooms', range = (0,3))\n",
    "df['rooms'].describe()"
   ]
  },
  {
   "cell_type": "markdown",
   "metadata": {},
   "source": [
    "Изучим подронее данные о квартирах с количеством комнат = 0. "
   ]
  },
  {
   "cell_type": "code",
   "execution_count": 189,
   "metadata": {},
   "outputs": [
    {
     "name": "stdout",
     "output_type": "stream",
     "text": [
      "count    197.000000\n",
      "mean      29.279746\n",
      "std       25.855264\n",
      "min       15.500000\n",
      "25%       24.050000\n",
      "50%       26.050000\n",
      "75%       28.400000\n",
      "max      371.000000\n",
      "Name: total_area, dtype: float64\n"
     ]
    },
    {
     "data": {
      "text/html": [
       "<div>\n",
       "<style scoped>\n",
       "    .dataframe tbody tr th:only-of-type {\n",
       "        vertical-align: middle;\n",
       "    }\n",
       "\n",
       "    .dataframe tbody tr th {\n",
       "        vertical-align: top;\n",
       "    }\n",
       "\n",
       "    .dataframe thead tr th {\n",
       "        text-align: left;\n",
       "    }\n",
       "\n",
       "    .dataframe thead tr:last-of-type th {\n",
       "        text-align: right;\n",
       "    }\n",
       "</style>\n",
       "<table border=\"1\" class=\"dataframe\">\n",
       "  <thead>\n",
       "    <tr>\n",
       "      <th></th>\n",
       "      <th>min</th>\n",
       "      <th>median</th>\n",
       "    </tr>\n",
       "    <tr>\n",
       "      <th></th>\n",
       "      <th>total_area</th>\n",
       "      <th>total_area</th>\n",
       "    </tr>\n",
       "    <tr>\n",
       "      <th>rooms</th>\n",
       "      <th></th>\n",
       "      <th></th>\n",
       "    </tr>\n",
       "  </thead>\n",
       "  <tbody>\n",
       "    <tr>\n",
       "      <th>0</th>\n",
       "      <td>15.5</td>\n",
       "      <td>26.05</td>\n",
       "    </tr>\n",
       "    <tr>\n",
       "      <th>1</th>\n",
       "      <td>12.0</td>\n",
       "      <td>36.56</td>\n",
       "    </tr>\n",
       "    <tr>\n",
       "      <th>2</th>\n",
       "      <td>20.0</td>\n",
       "      <td>53.00</td>\n",
       "    </tr>\n",
       "    <tr>\n",
       "      <th>3</th>\n",
       "      <td>40.1</td>\n",
       "      <td>73.00</td>\n",
       "    </tr>\n",
       "    <tr>\n",
       "      <th>4</th>\n",
       "      <td>42.0</td>\n",
       "      <td>99.30</td>\n",
       "    </tr>\n",
       "    <tr>\n",
       "      <th>5</th>\n",
       "      <td>40.0</td>\n",
       "      <td>146.45</td>\n",
       "    </tr>\n",
       "    <tr>\n",
       "      <th>6</th>\n",
       "      <td>87.0</td>\n",
       "      <td>184.30</td>\n",
       "    </tr>\n",
       "    <tr>\n",
       "      <th>7</th>\n",
       "      <td>100.6</td>\n",
       "      <td>214.00</td>\n",
       "    </tr>\n",
       "    <tr>\n",
       "      <th>8</th>\n",
       "      <td>150.0</td>\n",
       "      <td>235.70</td>\n",
       "    </tr>\n",
       "    <tr>\n",
       "      <th>9</th>\n",
       "      <td>235.0</td>\n",
       "      <td>300.95</td>\n",
       "    </tr>\n",
       "    <tr>\n",
       "      <th>10</th>\n",
       "      <td>216.1</td>\n",
       "      <td>272.60</td>\n",
       "    </tr>\n",
       "    <tr>\n",
       "      <th>11</th>\n",
       "      <td>183.7</td>\n",
       "      <td>188.90</td>\n",
       "    </tr>\n",
       "    <tr>\n",
       "      <th>12</th>\n",
       "      <td>900.0</td>\n",
       "      <td>900.00</td>\n",
       "    </tr>\n",
       "    <tr>\n",
       "      <th>14</th>\n",
       "      <td>245.4</td>\n",
       "      <td>304.20</td>\n",
       "    </tr>\n",
       "    <tr>\n",
       "      <th>15</th>\n",
       "      <td>590.0</td>\n",
       "      <td>590.00</td>\n",
       "    </tr>\n",
       "    <tr>\n",
       "      <th>16</th>\n",
       "      <td>270.0</td>\n",
       "      <td>270.00</td>\n",
       "    </tr>\n",
       "    <tr>\n",
       "      <th>19</th>\n",
       "      <td>374.6</td>\n",
       "      <td>374.60</td>\n",
       "    </tr>\n",
       "  </tbody>\n",
       "</table>\n",
       "</div>"
      ],
      "text/plain": [
       "             min     median\n",
       "      total_area total_area\n",
       "rooms                      \n",
       "0           15.5      26.05\n",
       "1           12.0      36.56\n",
       "2           20.0      53.00\n",
       "3           40.1      73.00\n",
       "4           42.0      99.30\n",
       "5           40.0     146.45\n",
       "6           87.0     184.30\n",
       "7          100.6     214.00\n",
       "8          150.0     235.70\n",
       "9          235.0     300.95\n",
       "10         216.1     272.60\n",
       "11         183.7     188.90\n",
       "12         900.0     900.00\n",
       "14         245.4     304.20\n",
       "15         590.0     590.00\n",
       "16         270.0     270.00\n",
       "19         374.6     374.60"
      ]
     },
     "execution_count": 189,
     "metadata": {},
     "output_type": "execute_result"
    }
   ],
   "source": [
    "print (df.query('rooms==0')['total_area'].describe())\n",
    "\n",
    "df.pivot_table(index = 'rooms', values = 'total_area', aggfunc = ['min', 'median'])"
   ]
  },
  {
   "cell_type": "markdown",
   "metadata": {},
   "source": [
    "Встречаются данные от 15.5 м2 до 371 м2. Всего таких значений порядка 1% от общего количества измерений. Вероятнее всего, данный параметр не является обязательным при заполнении объявления. Также, встречаются объявления со свободной планировкой, где в отсутствие сделанного ремонта неизвестно количетсво комнат.\n",
    "Так как, количество комнат может влиять на стоимость квадратного метра недвижимости и с учетом разброса данных, удалим из дата фрейма данные записи. "
   ]
  },
  {
   "cell_type": "code",
   "execution_count": 190,
   "metadata": {},
   "outputs": [],
   "source": [
    "df = df.query('rooms!=0')"
   ]
  },
  {
   "cell_type": "code",
   "execution_count": 191,
   "metadata": {},
   "outputs": [
    {
     "data": {
      "text/plain": [
       "count    23502.000000\n",
       "mean         5.869841\n",
       "std          4.865664\n",
       "min          1.000000\n",
       "25%          2.000000\n",
       "50%          4.000000\n",
       "75%          8.000000\n",
       "max         33.000000\n",
       "Name: floor, dtype: float64"
      ]
     },
     "execution_count": 191,
     "metadata": {},
     "output_type": "execute_result"
    },
    {
     "data": {
      "image/png": "[encoded data removed]",
      "text/plain": [
       "<Figure size 432x288 with 1 Axes>"
      ]
     },
     "metadata": {
      "needs_background": "light"
     },
     "output_type": "display_data"
    }
   ],
   "source": [
    "#Изучим данные о колонке floor\n",
    "df.hist(column = 'floor')\n",
    "df['floor'].describe()"
   ]
  },
  {
   "cell_type": "markdown",
   "metadata": {},
   "source": [
    "Данные выглядят корректно. "
   ]
  },
  {
   "cell_type": "code",
   "execution_count": 192,
   "metadata": {},
   "outputs": [
    {
     "data": {
      "text/plain": [
       "count    23419.000000\n",
       "mean        10.622273\n",
       "std          6.569964\n",
       "min          1.000000\n",
       "25%          5.000000\n",
       "50%          9.000000\n",
       "75%         16.000000\n",
       "max         60.000000\n",
       "Name: floors_total, dtype: float64"
      ]
     },
     "execution_count": 192,
     "metadata": {},
     "output_type": "execute_result"
    },
    {
     "data": {
      "image/png": "[encoded data removed]",
      "text/plain": [
       "<Figure size 432x288 with 1 Axes>"
      ]
     },
     "metadata": {
      "needs_background": "light"
     },
     "output_type": "display_data"
    }
   ],
   "source": [
    "#Изучим данные в колонке floors_total\n",
    "\n",
    "df.hist(column='floors_total')\n",
    "df['floors_total'].describe()\n"
   ]
  },
  {
   "cell_type": "markdown",
   "metadata": {},
   "source": [
    "По 86 значениям не заполнена этажность дома. Заполним пропуски значением этажа, на котором расположен объект недвижимости. "
   ]
  },
  {
   "cell_type": "code",
   "execution_count": 193,
   "metadata": {},
   "outputs": [
    {
     "data": {
      "text/plain": [
       "0"
      ]
     },
     "execution_count": 193,
     "metadata": {},
     "output_type": "execute_result"
    }
   ],
   "source": [
    "df['floors_total'] = df['floors_total'].fillna(df['floor'])\n",
    "df['floors_total'].isna().sum()"
   ]
  },
  {
   "cell_type": "code",
   "execution_count": 194,
   "metadata": {},
   "outputs": [
    {
     "data": {
      "text/plain": [
       "False    23491\n",
       "True        11\n",
       "Name: studio, dtype: int64"
      ]
     },
     "execution_count": 194,
     "metadata": {},
     "output_type": "execute_result"
    }
   ],
   "source": [
    "# Изучим данные в колонке studio\n",
    "df['studio'].value_counts()"
   ]
  },
  {
   "cell_type": "code",
   "execution_count": 195,
   "metadata": {},
   "outputs": [
    {
     "data": {
      "text/plain": [
       "False    23494\n",
       "True         8\n",
       "Name: open_plan, dtype: int64"
      ]
     },
     "execution_count": 195,
     "metadata": {},
     "output_type": "execute_result"
    }
   ],
   "source": [
    "# Изучим данные в колонке open_plan\n",
    "df['open_plan'].value_counts()"
   ]
  },
  {
   "cell_type": "code",
   "execution_count": 196,
   "metadata": {},
   "outputs": [
    {
     "data": {
      "text/plain": [
       "Санкт-Петербург               15611\n",
       "посёлок Мурино                  495\n",
       "посёлок Шушары                  436\n",
       "Всеволожск                      392\n",
       "Пушкин                          369\n",
       "                              ...  \n",
       "поселок Жилгородок                1\n",
       "деревня Тихковицы                 1\n",
       "село Шум                          1\n",
       "деревня Лаврики                   1\n",
       "садовое товарищество Садко        1\n",
       "Name: locality_name, Length: 362, dtype: int64"
      ]
     },
     "execution_count": 196,
     "metadata": {},
     "output_type": "execute_result"
    }
   ],
   "source": [
    "# Изучим данные в колонке locality_name\n",
    "df['locality_name'].value_counts()"
   ]
  },
  {
   "cell_type": "markdown",
   "metadata": {},
   "source": [
    "Данные о локации не заполнены по 49 значениям, что составляет менее 1% от общего количетсва данных. Учитывая, что локация напрямую влияет на стоимость недвижимости выполним следующие шаги:\n",
    "\n",
    "1. Для целей исследования категаризируем данные на два значения, Санкт-Петербург и Ленинградская область. \n",
    "2. По расстоянию от центра определим входит ли объект недвижимости в Санкт-Петербург или же относится к области.\n",
    "3. Строки, где не заполнен и населенный пункт и удаленность от цента, удалим из таблицы."
   ]
  },
  {
   "cell_type": "code",
   "execution_count": 197,
   "metadata": {},
   "outputs": [
    {
     "data": {
      "text/html": [
       "<div>\n",
       "<style scoped>\n",
       "    .dataframe tbody tr th:only-of-type {\n",
       "        vertical-align: middle;\n",
       "    }\n",
       "\n",
       "    .dataframe tbody tr th {\n",
       "        vertical-align: top;\n",
       "    }\n",
       "\n",
       "    .dataframe thead tr th {\n",
       "        text-align: left;\n",
       "    }\n",
       "\n",
       "    .dataframe thead tr:last-of-type th {\n",
       "        text-align: right;\n",
       "    }\n",
       "</style>\n",
       "<table border=\"1\" class=\"dataframe\">\n",
       "  <thead>\n",
       "    <tr>\n",
       "      <th></th>\n",
       "      <th>max</th>\n",
       "      <th>median</th>\n",
       "      <th>min</th>\n",
       "    </tr>\n",
       "    <tr>\n",
       "      <th></th>\n",
       "      <th>city_centers_nearest</th>\n",
       "      <th>city_centers_nearest</th>\n",
       "      <th>city_centers_nearest</th>\n",
       "    </tr>\n",
       "    <tr>\n",
       "      <th>locality_name</th>\n",
       "      <th></th>\n",
       "      <th></th>\n",
       "      <th></th>\n",
       "    </tr>\n",
       "  </thead>\n",
       "  <tbody>\n",
       "    <tr>\n",
       "      <th>Зеленогорск</th>\n",
       "      <td>62706.0</td>\n",
       "      <td>53381.0</td>\n",
       "      <td>51115.0</td>\n",
       "    </tr>\n",
       "    <tr>\n",
       "      <th>Колпино</th>\n",
       "      <td>37477.0</td>\n",
       "      <td>32018.0</td>\n",
       "      <td>29436.0</td>\n",
       "    </tr>\n",
       "    <tr>\n",
       "      <th>Красное Село</th>\n",
       "      <td>41792.0</td>\n",
       "      <td>29140.5</td>\n",
       "      <td>27317.0</td>\n",
       "    </tr>\n",
       "    <tr>\n",
       "      <th>Кронштадт</th>\n",
       "      <td>51511.0</td>\n",
       "      <td>49575.0</td>\n",
       "      <td>46657.0</td>\n",
       "    </tr>\n",
       "    <tr>\n",
       "      <th>Ломоносов</th>\n",
       "      <td>61495.0</td>\n",
       "      <td>51677.0</td>\n",
       "      <td>36816.0</td>\n",
       "    </tr>\n",
       "    <tr>\n",
       "      <th>Павловск</th>\n",
       "      <td>36445.0</td>\n",
       "      <td>32683.0</td>\n",
       "      <td>31533.0</td>\n",
       "    </tr>\n",
       "    <tr>\n",
       "      <th>Петергоф</th>\n",
       "      <td>49574.0</td>\n",
       "      <td>33771.0</td>\n",
       "      <td>29815.0</td>\n",
       "    </tr>\n",
       "    <tr>\n",
       "      <th>Пушкин</th>\n",
       "      <td>35610.0</td>\n",
       "      <td>27930.5</td>\n",
       "      <td>24311.0</td>\n",
       "    </tr>\n",
       "    <tr>\n",
       "      <th>Санкт-Петербург</th>\n",
       "      <td>29493.0</td>\n",
       "      <td>12239.0</td>\n",
       "      <td>181.0</td>\n",
       "    </tr>\n",
       "    <tr>\n",
       "      <th>Сестрорецк</th>\n",
       "      <td>42971.0</td>\n",
       "      <td>34821.0</td>\n",
       "      <td>31130.0</td>\n",
       "    </tr>\n",
       "    <tr>\n",
       "      <th>поселок Лисий Нос</th>\n",
       "      <td>28246.0</td>\n",
       "      <td>28246.0</td>\n",
       "      <td>28246.0</td>\n",
       "    </tr>\n",
       "    <tr>\n",
       "      <th>поселок Мурино</th>\n",
       "      <td>21888.0</td>\n",
       "      <td>21888.0</td>\n",
       "      <td>21888.0</td>\n",
       "    </tr>\n",
       "    <tr>\n",
       "      <th>посёлок Александровская</th>\n",
       "      <td>27584.0</td>\n",
       "      <td>27468.0</td>\n",
       "      <td>27352.0</td>\n",
       "    </tr>\n",
       "    <tr>\n",
       "      <th>посёлок Белоостров</th>\n",
       "      <td>38868.0</td>\n",
       "      <td>38868.0</td>\n",
       "      <td>38868.0</td>\n",
       "    </tr>\n",
       "    <tr>\n",
       "      <th>посёлок Левашово</th>\n",
       "      <td>25727.0</td>\n",
       "      <td>25727.0</td>\n",
       "      <td>25727.0</td>\n",
       "    </tr>\n",
       "    <tr>\n",
       "      <th>посёлок Лисий Нос</th>\n",
       "      <td>28226.0</td>\n",
       "      <td>27297.0</td>\n",
       "      <td>26368.0</td>\n",
       "    </tr>\n",
       "    <tr>\n",
       "      <th>посёлок Металлострой</th>\n",
       "      <td>29217.0</td>\n",
       "      <td>27602.0</td>\n",
       "      <td>26696.0</td>\n",
       "    </tr>\n",
       "    <tr>\n",
       "      <th>посёлок Молодёжное</th>\n",
       "      <td>65968.0</td>\n",
       "      <td>65764.0</td>\n",
       "      <td>64857.0</td>\n",
       "    </tr>\n",
       "    <tr>\n",
       "      <th>посёлок Парголово</th>\n",
       "      <td>24415.0</td>\n",
       "      <td>19325.0</td>\n",
       "      <td>17994.0</td>\n",
       "    </tr>\n",
       "    <tr>\n",
       "      <th>посёлок Песочный</th>\n",
       "      <td>27835.0</td>\n",
       "      <td>26099.5</td>\n",
       "      <td>25867.0</td>\n",
       "    </tr>\n",
       "    <tr>\n",
       "      <th>посёлок Понтонный</th>\n",
       "      <td>33853.0</td>\n",
       "      <td>32354.0</td>\n",
       "      <td>30709.0</td>\n",
       "    </tr>\n",
       "    <tr>\n",
       "      <th>посёлок Репино</th>\n",
       "      <td>45226.0</td>\n",
       "      <td>42896.5</td>\n",
       "      <td>42550.0</td>\n",
       "    </tr>\n",
       "    <tr>\n",
       "      <th>посёлок Сапёрный</th>\n",
       "      <td>35892.0</td>\n",
       "      <td>35859.5</td>\n",
       "      <td>35822.0</td>\n",
       "    </tr>\n",
       "    <tr>\n",
       "      <th>посёлок Стрельна</th>\n",
       "      <td>24134.0</td>\n",
       "      <td>23506.0</td>\n",
       "      <td>21813.0</td>\n",
       "    </tr>\n",
       "    <tr>\n",
       "      <th>посёлок Усть-Ижора</th>\n",
       "      <td>28233.0</td>\n",
       "      <td>28222.5</td>\n",
       "      <td>28212.0</td>\n",
       "    </tr>\n",
       "    <tr>\n",
       "      <th>посёлок Шушары</th>\n",
       "      <td>32079.0</td>\n",
       "      <td>24213.0</td>\n",
       "      <td>17012.0</td>\n",
       "    </tr>\n",
       "    <tr>\n",
       "      <th>посёлок Щеглово</th>\n",
       "      <td>34085.0</td>\n",
       "      <td>34085.0</td>\n",
       "      <td>34085.0</td>\n",
       "    </tr>\n",
       "  </tbody>\n",
       "</table>\n",
       "</div>"
      ],
      "text/plain": [
       "                                         max               median  \\\n",
       "                        city_centers_nearest city_centers_nearest   \n",
       "locality_name                                                       \n",
       "Зеленогорск                          62706.0              53381.0   \n",
       "Колпино                              37477.0              32018.0   \n",
       "Красное Село                         41792.0              29140.5   \n",
       "Кронштадт                            51511.0              49575.0   \n",
       "Ломоносов                            61495.0              51677.0   \n",
       "Павловск                             36445.0              32683.0   \n",
       "Петергоф                             49574.0              33771.0   \n",
       "Пушкин                               35610.0              27930.5   \n",
       "Санкт-Петербург                      29493.0              12239.0   \n",
       "Сестрорецк                           42971.0              34821.0   \n",
       "поселок Лисий Нос                    28246.0              28246.0   \n",
       "поселок Мурино                       21888.0              21888.0   \n",
       "посёлок Александровская              27584.0              27468.0   \n",
       "посёлок Белоостров                   38868.0              38868.0   \n",
       "посёлок Левашово                     25727.0              25727.0   \n",
       "посёлок Лисий Нос                    28226.0              27297.0   \n",
       "посёлок Металлострой                 29217.0              27602.0   \n",
       "посёлок Молодёжное                   65968.0              65764.0   \n",
       "посёлок Парголово                    24415.0              19325.0   \n",
       "посёлок Песочный                     27835.0              26099.5   \n",
       "посёлок Понтонный                    33853.0              32354.0   \n",
       "посёлок Репино                       45226.0              42896.5   \n",
       "посёлок Сапёрный                     35892.0              35859.5   \n",
       "посёлок Стрельна                     24134.0              23506.0   \n",
       "посёлок Усть-Ижора                   28233.0              28222.5   \n",
       "посёлок Шушары                       32079.0              24213.0   \n",
       "посёлок Щеглово                      34085.0              34085.0   \n",
       "\n",
       "                                         min  \n",
       "                        city_centers_nearest  \n",
       "locality_name                                 \n",
       "Зеленогорск                          51115.0  \n",
       "Колпино                              29436.0  \n",
       "Красное Село                         27317.0  \n",
       "Кронштадт                            46657.0  \n",
       "Ломоносов                            36816.0  \n",
       "Павловск                             31533.0  \n",
       "Петергоф                             29815.0  \n",
       "Пушкин                               24311.0  \n",
       "Санкт-Петербург                        181.0  \n",
       "Сестрорецк                           31130.0  \n",
       "поселок Лисий Нос                    28246.0  \n",
       "поселок Мурино                       21888.0  \n",
       "посёлок Александровская              27352.0  \n",
       "посёлок Белоостров                   38868.0  \n",
       "посёлок Левашово                     25727.0  \n",
       "посёлок Лисий Нос                    26368.0  \n",
       "посёлок Металлострой                 26696.0  \n",
       "посёлок Молодёжное                   64857.0  \n",
       "посёлок Парголово                    17994.0  \n",
       "посёлок Песочный                     25867.0  \n",
       "посёлок Понтонный                    30709.0  \n",
       "посёлок Репино                       42550.0  \n",
       "посёлок Сапёрный                     35822.0  \n",
       "посёлок Стрельна                     21813.0  \n",
       "посёлок Усть-Ижора                   28212.0  \n",
       "посёлок Шушары                       17012.0  \n",
       "посёлок Щеглово                      34085.0  "
      ]
     },
     "execution_count": 197,
     "metadata": {},
     "output_type": "execute_result"
    }
   ],
   "source": [
    "df.pivot_table(index = 'locality_name', values = 'city_centers_nearest', aggfunc = ['max', 'median', 'min'])"
   ]
  },
  {
   "cell_type": "markdown",
   "metadata": {},
   "source": [
    "Из сводной таблицы видно, что областным объект недвижимости можно считать, если он удален более, чем на 30 000 метров. "
   ]
  },
  {
   "cell_type": "code",
   "execution_count": 198,
   "metadata": {},
   "outputs": [
    {
     "data": {
      "text/plain": [
       "Санкт-Петербург      15611\n",
       " Мурино                529\n",
       " Шушары                436\n",
       "Всеволожск             392\n",
       "Пушкин                 369\n",
       "                     ...  \n",
       " Дружноселье             1\n",
       "деревня Ялгино           1\n",
       " Рабитицы                1\n",
       "деревня Курковицы        1\n",
       " Тёсово-4                1\n",
       "Name: locality_name, Length: 328, dtype: int64"
      ]
     },
     "execution_count": 198,
     "metadata": {},
     "output_type": "execute_result"
    }
   ],
   "source": [
    "#Удаляем данные с незаполненными полями locality_name\n",
    "df = df[(df['locality_name'].isna()==False)]\n",
    "\n",
    "df['locality_name'] = df['locality_name'].str.replace('посёлок','')\n",
    "df['locality_name'] = df['locality_name'].str.replace('поселок','')\n",
    "\n",
    "df['locality_name'].value_counts()"
   ]
  },
  {
   "cell_type": "code",
   "execution_count": 199,
   "metadata": {},
   "outputs": [],
   "source": [
    "def location_categories(location):\n",
    "    if location == 'Санкт-Петербург':\n",
    "        return 'Санкт-Петербург'\n",
    "    return 'Ленинградская область'\n",
    "# Категоризируем значения. \n",
    "df['location'] = df['locality_name'].apply(location_categories)"
   ]
  },
  {
   "cell_type": "code",
   "execution_count": 200,
   "metadata": {},
   "outputs": [
    {
     "data": {
      "text/plain": [
       "0"
      ]
     },
     "execution_count": 200,
     "metadata": {},
     "output_type": "execute_result"
    }
   ],
   "source": [
    "#Заполним пропущенные значения колонки is_apartment значениям 0\n",
    "\n",
    "df['is_apartment'] = df['is_apartment'].fillna(0)\n",
    "df['is_apartment'].isna().sum()"
   ]
  },
  {
   "cell_type": "code",
   "execution_count": 201,
   "metadata": {},
   "outputs": [
    {
     "data": {
      "text/plain": [
       "0"
      ]
     },
     "execution_count": 201,
     "metadata": {},
     "output_type": "execute_result"
    }
   ],
   "source": [
    "# Заполним пропущенные значения колонки balcony значением 0\n",
    "df['balcony'] = df['balcony'].fillna(0)\n",
    "df['balcony'].isna().sum()"
   ]
  },
  {
   "cell_type": "code",
   "execution_count": 202,
   "metadata": {},
   "outputs": [
    {
     "data": {
      "text/plain": [
       "count    14408.000000\n",
       "mean         2.769392\n",
       "std          1.248634\n",
       "min          1.000000\n",
       "25%          2.510000\n",
       "50%          2.650000\n",
       "75%          2.800000\n",
       "max        100.000000\n",
       "Name: ceiling_height, dtype: float64"
      ]
     },
     "execution_count": 202,
     "metadata": {},
     "output_type": "execute_result"
    }
   ],
   "source": [
    "df['ceiling_height'].describe()"
   ]
  },
  {
   "cell_type": "markdown",
   "metadata": {},
   "source": [
    "Порядка 30% записей в таблице не имеют значения в колонке. Также встречаются аномальные значения. \n",
    "Так как медиана не подврежена выбросам и так как цель исследования - определение рыночной стоимости объектов недвижимости, заполним пропущенные и аномальные значения медианными значениями."
   ]
  },
  {
   "cell_type": "code",
   "execution_count": 203,
   "metadata": {},
   "outputs": [
    {
     "data": {
      "text/plain": [
       "count    23453.000000\n",
       "mean         2.693054\n",
       "std          0.204704\n",
       "min          2.000000\n",
       "25%          2.600000\n",
       "50%          2.650000\n",
       "75%          2.700000\n",
       "max          4.000000\n",
       "Name: ceiling_height, dtype: float64"
      ]
     },
     "execution_count": 203,
     "metadata": {},
     "output_type": "execute_result"
    }
   ],
   "source": [
    "median_height = df['ceiling_height'].median()\n",
    "df['ceiling_height'] = df['ceiling_height'].fillna(median_height)\n",
    "\n",
    "def no_to_anomal_height(height):\n",
    "    if height > 4 or height < 2:\n",
    "        height = median_height\n",
    "    return height\n",
    "\n",
    "df['ceiling_height'] = df['ceiling_height'].apply(no_to_anomal_height)\n",
    "\n",
    "df['ceiling_height'].describe()"
   ]
  },
  {
   "cell_type": "code",
   "execution_count": 204,
   "metadata": {},
   "outputs": [
    {
     "data": {
      "text/plain": [
       "count    18022.000000\n",
       "mean         0.613639\n",
       "std          0.802954\n",
       "min          0.000000\n",
       "25%          0.000000\n",
       "50%          0.000000\n",
       "75%          1.000000\n",
       "max          3.000000\n",
       "Name: parks_around, dtype: float64"
      ]
     },
     "execution_count": 204,
     "metadata": {},
     "output_type": "execute_result"
    }
   ],
   "source": [
    "# Изучим данные в колонке parks_around\n",
    "df['parks_around'].describe()"
   ]
  },
  {
   "cell_type": "markdown",
   "metadata": {},
   "source": [
    "Приблизительно 15% строк не имеют значения в колонке parks_around. \n",
    "Вероятно, данное поле заполняется пользователем. Предположительно, если в зоне досигаемости от объекта есть парк, то пользователь заполнит об этом информацию, если данные отсутствуют, то парков рядом - нет. \n",
    "Заполним пропуски значением 0. \n",
    "Также, изменим тип значений в поле на int, так как не может быть нецелое количетсво парков. \n"
   ]
  },
  {
   "cell_type": "code",
   "execution_count": 205,
   "metadata": {},
   "outputs": [],
   "source": [
    "df['parks_around'] = df['parks_around'].fillna(0)\n",
    "df['parks_around'] = df['parks_around'].astype('int')"
   ]
  },
  {
   "cell_type": "code",
   "execution_count": 206,
   "metadata": {},
   "outputs": [
    {
     "data": {
      "text/plain": [
       "count    18022.000000\n",
       "mean         0.769337\n",
       "std          0.938369\n",
       "min          0.000000\n",
       "25%          0.000000\n",
       "50%          1.000000\n",
       "75%          1.000000\n",
       "max          3.000000\n",
       "Name: ponds_around, dtype: float64"
      ]
     },
     "execution_count": 206,
     "metadata": {},
     "output_type": "execute_result"
    }
   ],
   "source": [
    "df['ponds_around'].describe()"
   ]
  },
  {
   "cell_type": "markdown",
   "metadata": {},
   "source": [
    "Ситуация с данными аналогичная колонке `parks_around`, заполним пропуски значением 0 и изменим тип данных на int"
   ]
  },
  {
   "cell_type": "code",
   "execution_count": 207,
   "metadata": {},
   "outputs": [],
   "source": [
    "df['ponds_around'] = df['ponds_around'].fillna(0)\n",
    "df['ponds_around'] = df['ponds_around'].astype('int')"
   ]
  },
  {
   "cell_type": "code",
   "execution_count": 208,
   "metadata": {},
   "outputs": [
    {
     "data": {
      "text/plain": [
       "count    20287.000000\n",
       "mean       181.398827\n",
       "std        220.147815\n",
       "min          1.000000\n",
       "25%         45.000000\n",
       "50%         96.000000\n",
       "75%        232.000000\n",
       "max       1580.000000\n",
       "Name: days_exposition, dtype: float64"
      ]
     },
     "execution_count": 208,
     "metadata": {},
     "output_type": "execute_result"
    },
    {
     "data": {
      "image/png": "[encoded data removed]",
      "text/plain": [
       "<Figure size 432x288 with 1 Axes>"
      ]
     },
     "metadata": {
      "needs_background": "light"
     },
     "output_type": "display_data"
    }
   ],
   "source": [
    "df.hist(column = 'days_exposition')\n",
    "df['days_exposition'].describe()"
   ]
  },
  {
   "cell_type": "markdown",
   "metadata": {},
   "source": [
    "Несколько тысяч записей не имеют значений в поле `days_exposition`. Предположительно это поле вычисляется после снятия объявления с продажи. Как следствие, не заполнена дата по объявлением, актуальным на день выгрузки данных. Заполним пропуски значением разности даты публикации и даты выгрузки данных. Дату выгрузки данных возьмем, как максимальную дату публикации объявления. "
   ]
  },
  {
   "cell_type": "code",
   "execution_count": 209,
   "metadata": {},
   "outputs": [
    {
     "data": {
      "text/plain": [
       "0        120370.370370\n",
       "1         82920.792079\n",
       "2         92785.714286\n",
       "3        408176.100629\n",
       "4        100000.000000\n",
       "             ...      \n",
       "23694     72490.845228\n",
       "23695     52542.372881\n",
       "23696     44091.710758\n",
       "23697    149511.400651\n",
       "23698     41795.665635\n",
       "Name: meter_price, Length: 23453, dtype: float64"
      ]
     },
     "execution_count": 209,
     "metadata": {},
     "output_type": "execute_result"
    }
   ],
   "source": [
    "df['meter_price'] = df['last_price']/df['total_area']\n",
    "df['meter_price']"
   ]
  },
  {
   "cell_type": "code",
   "execution_count": 210,
   "metadata": {},
   "outputs": [
    {
     "data": {
      "text/plain": [
       "0        120370.370370\n",
       "1         82920.792079\n",
       "2         92785.714286\n",
       "3        408176.100629\n",
       "4        100000.000000\n",
       "             ...      \n",
       "23694     72490.845228\n",
       "23695     52542.372881\n",
       "23696     44091.710758\n",
       "23697    149511.400651\n",
       "23698     41795.665635\n",
       "Name: meter_price, Length: 23453, dtype: float64"
      ]
     },
     "execution_count": 210,
     "metadata": {},
     "output_type": "execute_result"
    }
   ],
   "source": [
    "#Выполним расчет стоимости одного квадратного метра для каждого объекта недвижимости\n",
    "df['meter_price'] = df['last_price']/df['total_area']\n",
    "df['meter_price']"
   ]
  },
  {
   "cell_type": "code",
   "execution_count": 211,
   "metadata": {},
   "outputs": [
    {
     "data": {
      "text/html": [
       "<div>\n",
       "<style scoped>\n",
       "    .dataframe tbody tr th:only-of-type {\n",
       "        vertical-align: middle;\n",
       "    }\n",
       "\n",
       "    .dataframe tbody tr th {\n",
       "        vertical-align: top;\n",
       "    }\n",
       "\n",
       "    .dataframe thead th {\n",
       "        text-align: right;\n",
       "    }\n",
       "</style>\n",
       "<table border=\"1\" class=\"dataframe\">\n",
       "  <thead>\n",
       "    <tr style=\"text-align: right;\">\n",
       "      <th></th>\n",
       "      <th>meter_price</th>\n",
       "    </tr>\n",
       "    <tr>\n",
       "      <th>is_selled</th>\n",
       "      <th></th>\n",
       "    </tr>\n",
       "  </thead>\n",
       "  <tbody>\n",
       "    <tr>\n",
       "      <th>False</th>\n",
       "      <td>108419.400202</td>\n",
       "    </tr>\n",
       "    <tr>\n",
       "      <th>True</th>\n",
       "      <td>97947.033256</td>\n",
       "    </tr>\n",
       "  </tbody>\n",
       "</table>\n",
       "</div>"
      ],
      "text/plain": [
       "             meter_price\n",
       "is_selled               \n",
       "False      108419.400202\n",
       "True        97947.033256"
      ]
     },
     "execution_count": 211,
     "metadata": {},
     "output_type": "execute_result"
    }
   ],
   "source": [
    "def is_selled(days_exposition):\n",
    "    try:\n",
    "        int(days_exposition)\n",
    "        return True\n",
    "    except ValueError:\n",
    "        return False\n",
    "\n",
    "df['is_selled'] = df['days_exposition'].apply(is_selled)\n",
    "df['is_selled'].value_counts()\n",
    "\n",
    "df.pivot_table(index = 'is_selled', values = 'meter_price', aggfunc = 'mean')\n"
   ]
  },
  {
   "cell_type": "code",
   "execution_count": 212,
   "metadata": {},
   "outputs": [
    {
     "data": {
      "text/plain": [
       "0"
      ]
     },
     "execution_count": 212,
     "metadata": {},
     "output_type": "execute_result"
    }
   ],
   "source": [
    "date = df['first_day_exposition'].max()\n",
    "df['days_exposition'] = df['days_exposition'].fillna((date - df['first_day_exposition']).dt.days)\n",
    "\n",
    "df['days_exposition'].isna().sum()"
   ]
  },
  {
   "cell_type": "code",
   "execution_count": 213,
   "metadata": {},
   "outputs": [
    {
     "data": {
      "text/plain": [
       "0    14437\n",
       "Name: ponds_around, dtype: int64"
      ]
     },
     "execution_count": 213,
     "metadata": {},
     "output_type": "execute_result"
    }
   ],
   "source": [
    "# Изучим данные в колноке ponds_nearest\n",
    "df[df['ponds_nearest'].isna() == True]['ponds_around'].value_counts()"
   ]
  },
  {
   "cell_type": "markdown",
   "metadata": {},
   "source": [
    "По данным выше видно, что значение ближайшего пруда отсутствует только в случае, если значение колонки `ponds_nearest` = 0. \n",
    "Для целей исследования достаточно колонки `ponds_around`, поэтому не будем заполнять пропущенные значения."
   ]
  },
  {
   "cell_type": "code",
   "execution_count": 214,
   "metadata": {},
   "outputs": [
    {
     "data": {
      "text/plain": [
       "0    15418\n",
       "Name: parks_around, dtype: int64"
      ]
     },
     "execution_count": 214,
     "metadata": {},
     "output_type": "execute_result"
    }
   ],
   "source": [
    "# Изучим данные в колноке ponds_nearest\n",
    "df[df['parks_nearest'].isna() == True]['parks_around'].value_counts()"
   ]
  },
  {
   "cell_type": "markdown",
   "metadata": {},
   "source": [
    "По данным выше видно, что значение ближайшего пруда отсутствует только в случае, если значение колонки `ponds_nearest` = 0. Для целей исследования достаточно колонки `ponds_around`, поэтому не будем заполнять пропущенные значения."
   ]
  },
  {
   "cell_type": "code",
   "execution_count": 215,
   "metadata": {},
   "outputs": [],
   "source": [
    "# Изучим данные в колонке city_centers_nearest\n",
    "df[df['city_centers_nearest'].isna() == True]\n",
    "\n",
    "# Создаем сводную таблицу с медианным расстоянием до аэропорта и центра Санкт-Петербурга по населенным пунктам.\n",
    "cities_and_airports_pivot = df.pivot_table(\n",
    "    index = 'locality_name', values = ['airports_nearest', 'city_centers_nearest'], aggfunc = 'median')\n",
    "\n",
    "# Группируем данные с основным дата фреймом\n",
    "cities_and_airports_pivot.columns = ['airport_distance_mean', 'city_center_distance_mean']\n",
    "df = df.merge(cities_and_airports_pivot, on = 'locality_name', how = 'left')"
   ]
  },
  {
   "cell_type": "code",
   "execution_count": 216,
   "metadata": {},
   "outputs": [
    {
     "data": {
      "text/html": [
       "<div>\n",
       "<style scoped>\n",
       "    .dataframe tbody tr th:only-of-type {\n",
       "        vertical-align: middle;\n",
       "    }\n",
       "\n",
       "    .dataframe tbody tr th {\n",
       "        vertical-align: top;\n",
       "    }\n",
       "\n",
       "    .dataframe thead th {\n",
       "        text-align: right;\n",
       "    }\n",
       "</style>\n",
       "<table border=\"1\" class=\"dataframe\">\n",
       "  <thead>\n",
       "    <tr style=\"text-align: right;\">\n",
       "      <th></th>\n",
       "      <th>airport_distance_mean</th>\n",
       "      <th>city_center_distance_mean</th>\n",
       "    </tr>\n",
       "    <tr>\n",
       "      <th>locality_name</th>\n",
       "      <th></th>\n",
       "      <th></th>\n",
       "    </tr>\n",
       "  </thead>\n",
       "  <tbody>\n",
       "    <tr>\n",
       "      <th>Александровская</th>\n",
       "      <td>12896.5</td>\n",
       "      <td>27468.0</td>\n",
       "    </tr>\n",
       "    <tr>\n",
       "      <th>Белоостров</th>\n",
       "      <td>57769.0</td>\n",
       "      <td>38868.0</td>\n",
       "    </tr>\n",
       "    <tr>\n",
       "      <th>Левашово</th>\n",
       "      <td>52693.0</td>\n",
       "      <td>25727.0</td>\n",
       "    </tr>\n",
       "    <tr>\n",
       "      <th>Лисий Нос</th>\n",
       "      <td>55909.0</td>\n",
       "      <td>28226.0</td>\n",
       "    </tr>\n",
       "    <tr>\n",
       "      <th>Металлострой</th>\n",
       "      <td>25758.0</td>\n",
       "      <td>27602.0</td>\n",
       "    </tr>\n",
       "    <tr>\n",
       "      <th>Молодёжное</th>\n",
       "      <td>84665.0</td>\n",
       "      <td>65764.0</td>\n",
       "    </tr>\n",
       "    <tr>\n",
       "      <th>Мурино</th>\n",
       "      <td>51553.0</td>\n",
       "      <td>21888.0</td>\n",
       "    </tr>\n",
       "    <tr>\n",
       "      <th>Парголово</th>\n",
       "      <td>53426.0</td>\n",
       "      <td>19325.0</td>\n",
       "    </tr>\n",
       "    <tr>\n",
       "      <th>Песочный</th>\n",
       "      <td>54831.5</td>\n",
       "      <td>26099.5</td>\n",
       "    </tr>\n",
       "    <tr>\n",
       "      <th>Понтонный</th>\n",
       "      <td>30642.0</td>\n",
       "      <td>32354.0</td>\n",
       "    </tr>\n",
       "    <tr>\n",
       "      <th>Репино</th>\n",
       "      <td>61797.5</td>\n",
       "      <td>42896.5</td>\n",
       "    </tr>\n",
       "    <tr>\n",
       "      <th>Сапёрный</th>\n",
       "      <td>34147.5</td>\n",
       "      <td>35859.5</td>\n",
       "    </tr>\n",
       "    <tr>\n",
       "      <th>Стрельна</th>\n",
       "      <td>28317.0</td>\n",
       "      <td>23506.0</td>\n",
       "    </tr>\n",
       "    <tr>\n",
       "      <th>Усть-Ижора</th>\n",
       "      <td>26510.5</td>\n",
       "      <td>28222.5</td>\n",
       "    </tr>\n",
       "    <tr>\n",
       "      <th>Шушары</th>\n",
       "      <td>17429.0</td>\n",
       "      <td>24213.0</td>\n",
       "    </tr>\n",
       "    <tr>\n",
       "      <th>Щеглово</th>\n",
       "      <td>61908.0</td>\n",
       "      <td>34085.0</td>\n",
       "    </tr>\n",
       "    <tr>\n",
       "      <th>Зеленогорск</th>\n",
       "      <td>72282.0</td>\n",
       "      <td>53381.0</td>\n",
       "    </tr>\n",
       "    <tr>\n",
       "      <th>Колпино</th>\n",
       "      <td>26232.0</td>\n",
       "      <td>32018.0</td>\n",
       "    </tr>\n",
       "    <tr>\n",
       "      <th>Красное Село</th>\n",
       "      <td>25715.5</td>\n",
       "      <td>29140.5</td>\n",
       "    </tr>\n",
       "    <tr>\n",
       "      <th>Кронштадт</th>\n",
       "      <td>67850.0</td>\n",
       "      <td>49575.0</td>\n",
       "    </tr>\n",
       "    <tr>\n",
       "      <th>Ломоносов</th>\n",
       "      <td>48415.5</td>\n",
       "      <td>51677.0</td>\n",
       "    </tr>\n",
       "    <tr>\n",
       "      <th>Павловск</th>\n",
       "      <td>20529.5</td>\n",
       "      <td>32683.0</td>\n",
       "    </tr>\n",
       "    <tr>\n",
       "      <th>Петергоф</th>\n",
       "      <td>39231.0</td>\n",
       "      <td>33771.0</td>\n",
       "    </tr>\n",
       "    <tr>\n",
       "      <th>Пушкин</th>\n",
       "      <td>15766.0</td>\n",
       "      <td>27930.5</td>\n",
       "    </tr>\n",
       "    <tr>\n",
       "      <th>Санкт-Петербург</th>\n",
       "      <td>26786.0</td>\n",
       "      <td>12239.0</td>\n",
       "    </tr>\n",
       "    <tr>\n",
       "      <th>Сестрорецк</th>\n",
       "      <td>56692.0</td>\n",
       "      <td>34821.0</td>\n",
       "    </tr>\n",
       "  </tbody>\n",
       "</table>\n",
       "</div>"
      ],
      "text/plain": [
       "                  airport_distance_mean  city_center_distance_mean\n",
       "locality_name                                                     \n",
       " Александровская                12896.5                    27468.0\n",
       " Белоостров                     57769.0                    38868.0\n",
       " Левашово                       52693.0                    25727.0\n",
       " Лисий Нос                      55909.0                    28226.0\n",
       " Металлострой                   25758.0                    27602.0\n",
       " Молодёжное                     84665.0                    65764.0\n",
       " Мурино                         51553.0                    21888.0\n",
       " Парголово                      53426.0                    19325.0\n",
       " Песочный                       54831.5                    26099.5\n",
       " Понтонный                      30642.0                    32354.0\n",
       " Репино                         61797.5                    42896.5\n",
       " Сапёрный                       34147.5                    35859.5\n",
       " Стрельна                       28317.0                    23506.0\n",
       " Усть-Ижора                     26510.5                    28222.5\n",
       " Шушары                         17429.0                    24213.0\n",
       " Щеглово                        61908.0                    34085.0\n",
       "Зеленогорск                     72282.0                    53381.0\n",
       "Колпино                         26232.0                    32018.0\n",
       "Красное Село                    25715.5                    29140.5\n",
       "Кронштадт                       67850.0                    49575.0\n",
       "Ломоносов                       48415.5                    51677.0\n",
       "Павловск                        20529.5                    32683.0\n",
       "Петергоф                        39231.0                    33771.0\n",
       "Пушкин                          15766.0                    27930.5\n",
       "Санкт-Петербург                 26786.0                    12239.0\n",
       "Сестрорецк                      56692.0                    34821.0"
      ]
     },
     "execution_count": 216,
     "metadata": {},
     "output_type": "execute_result"
    }
   ],
   "source": [
    "cities_and_airports_pivot"
   ]
  },
  {
   "cell_type": "code",
   "execution_count": 217,
   "metadata": {},
   "outputs": [
    {
     "name": "stdout",
     "output_type": "stream",
     "text": [
      "4813\n",
      "4813\n"
     ]
    }
   ],
   "source": [
    "df[df['airport_distance_mean'].isna()==True]['locality_name']\n",
    "\n",
    "\n",
    "# Заполняем пропущенные данные медианными значениями \n",
    "df['airports_nearest'] = df['airports_nearest'].fillna(df['airport_distance_mean'])\n",
    "df['city_centers_nearest'] = df['city_centers_nearest'].fillna(df['city_center_distance_mean'])\n",
    "\n",
    "print (df['city_center_distance_mean'].isna().sum())\n",
    "print (df['airport_distance_mean'].isna().sum())\n",
    "\n"
   ]
  },
  {
   "cell_type": "markdown",
   "metadata": {},
   "source": [
    "Учитывая, что количество строк с незаполненными данными остается на уровне 5%, заполним их медианным значением по Ленинградской области. "
   ]
  },
  {
   "cell_type": "code",
   "execution_count": 218,
   "metadata": {},
   "outputs": [
    {
     "name": "stdout",
     "output_type": "stream",
     "text": [
      "0\n",
      "0\n"
     ]
    }
   ],
   "source": [
    "median_airport = df.query('location == \"Ленинградская область\"')['airports_nearest'].median()\n",
    "median_city = df.query('location == \"Ленинградская область\"')['city_centers_nearest'].median()\n",
    "# Заполняем пропущенные данные медианными значениями \n",
    "df['airports_nearest'] = df['airports_nearest'].fillna(median_airport)\n",
    "df['city_centers_nearest'] = df['city_centers_nearest'].fillna(median_city)\n",
    "\n",
    "print (df['airports_nearest'].isna().sum())\n",
    "print (df['city_centers_nearest'].isna().sum())"
   ]
  },
  {
   "cell_type": "markdown",
   "metadata": {},
   "source": [
    "Отсутсвующие данные в колонках `living_area` и `kitchen_area` вероятнее всего связаны с отсутствием соотвтетсвующих знаний и документов под рукой у пользователя в момент публикаци объявления. \n",
    "\n",
    "Данные значения могут понадобиться для доп вычислений, поэтому выполним замену, вычислив медианный процент жил площади и площади кухни по всему датафрейму."
   ]
  },
  {
   "cell_type": "code",
   "execution_count": 219,
   "metadata": {},
   "outputs": [
    {
     "name": "stdout",
     "output_type": "stream",
     "text": [
      "count    23453.000000\n",
      "mean        34.686666\n",
      "std         22.349254\n",
      "min          2.000000\n",
      "25%         19.000000\n",
      "50%         30.000000\n",
      "75%         42.200000\n",
      "max        409.700000\n",
      "Name: living_area, dtype: float64\n",
      "count    23453.000000\n",
      "mean        10.533745\n",
      "std          6.017176\n",
      "min          1.300000\n",
      "25%          7.000000\n",
      "50%          9.000000\n",
      "75%         12.000000\n",
      "max        112.000000\n",
      "Name: kitchen_area, dtype: float64\n"
     ]
    }
   ],
   "source": [
    "#Рассчитываем медианы\n",
    "living_area_median = (df['living_area']/df['total_area']).median()\n",
    "kitchen_area_median = (df['kitchen_area']/df['total_area']).median()\n",
    "\n",
    "#Заполняем пропуски\n",
    "df['living_area'] = df['living_area'].fillna(df['total_area']*living_area_median)\n",
    "df['kitchen_area'] = df['kitchen_area'].fillna(df['total_area']*kitchen_area_median)\n",
    "\n",
    "#Смотрим результат\n",
    "print(df['living_area'].describe())\n",
    "print(df['kitchen_area'].describe())"
   ]
  },
  {
   "cell_type": "code",
   "execution_count": 220,
   "metadata": {},
   "outputs": [],
   "source": [
    "# Изменим типы значений в полях\n",
    "\n",
    "df['floors_total'] = df['floors_total'].astype('int')\n",
    "df['is_apartment'] = df['is_apartment'].astype('bool')"
   ]
  },
  {
   "cell_type": "code",
   "execution_count": 221,
   "metadata": {},
   "outputs": [],
   "source": [
    "df['days_exposition'] = df['days_exposition'].astype('int')"
   ]
  },
  {
   "cell_type": "code",
   "execution_count": 222,
   "metadata": {},
   "outputs": [
    {
     "name": "stdout",
     "output_type": "stream",
     "text": [
      "<class 'pandas.core.frame.DataFrame'>\n",
      "Int64Index: 23453 entries, 0 to 23452\n",
      "Data columns (total 27 columns):\n",
      " #   Column                     Non-Null Count  Dtype         \n",
      "---  ------                     --------------  -----         \n",
      " 0   total_images               23453 non-null  int64         \n",
      " 1   last_price                 23453 non-null  int64         \n",
      " 2   total_area                 23453 non-null  float64       \n",
      " 3   first_day_exposition       23453 non-null  datetime64[ns]\n",
      " 4   rooms                      23453 non-null  int64         \n",
      " 5   ceiling_height             23453 non-null  float64       \n",
      " 6   floors_total               23453 non-null  int64         \n",
      " 7   living_area                23453 non-null  float64       \n",
      " 8   floor                      23453 non-null  int64         \n",
      " 9   is_apartment               23453 non-null  bool          \n",
      " 10  studio                     23453 non-null  bool          \n",
      " 11  open_plan                  23453 non-null  bool          \n",
      " 12  kitchen_area               23453 non-null  float64       \n",
      " 13  balcony                    23453 non-null  float64       \n",
      " 14  locality_name              23453 non-null  object        \n",
      " 15  airports_nearest           23453 non-null  float64       \n",
      " 16  city_centers_nearest       23453 non-null  float64       \n",
      " 17  parks_around               23453 non-null  int64         \n",
      " 18  parks_nearest              8035 non-null   float64       \n",
      " 19  ponds_around               23453 non-null  int64         \n",
      " 20  ponds_nearest              9016 non-null   float64       \n",
      " 21  days_exposition            23453 non-null  int64         \n",
      " 22  location                   23453 non-null  object        \n",
      " 23  meter_price                23453 non-null  float64       \n",
      " 24  is_selled                  23453 non-null  bool          \n",
      " 25  airport_distance_mean      18640 non-null  float64       \n",
      " 26  city_center_distance_mean  18640 non-null  float64       \n",
      "dtypes: bool(4), datetime64[ns](1), float64(12), int64(8), object(2)\n",
      "memory usage: 4.4+ MB\n"
     ]
    }
   ],
   "source": [
    "df.info()"
   ]
  },
  {
   "cell_type": "markdown",
   "metadata": {},
   "source": [
    "## Расчёты и добавление результатов в таблицу"
   ]
  },
  {
   "cell_type": "code",
   "execution_count": 223,
   "metadata": {},
   "outputs": [
    {
     "data": {
      "text/plain": [
       "Другой       17161\n",
       "Последний     3398\n",
       "Первый        2894\n",
       "Name: floor_category, dtype: int64"
      ]
     },
     "execution_count": 223,
     "metadata": {},
     "output_type": "execute_result"
    }
   ],
   "source": [
    "#Категаризируем данные по этажу \n",
    "\n",
    "def floor_categories (floor, total_floors):\n",
    "    if floor == 1:\n",
    "        return 'Первый'\n",
    "    elif floor == total_floors:\n",
    "        return 'Последний'\n",
    "    return 'Другой'\n",
    "\n",
    "df['floor_category'] = df.apply(lambda x: floor_categories(x['floor'], x['floors_total']) ,axis = 1)\n",
    "df['floor_category'].value_counts()"
   ]
  },
  {
   "cell_type": "code",
   "execution_count": 224,
   "metadata": {},
   "outputs": [],
   "source": [
    "#Найдем отношения жилой площади и площади кухни к общей площади объекта недвижимости\n",
    "\n",
    "df['living_to_total_area'] = df['living_area']/df['total_area']\n",
    "df['kitchen_to_total_area'] = df['kitchen_area']/df['total_area']"
   ]
  },
  {
   "cell_type": "code",
   "execution_count": 225,
   "metadata": {},
   "outputs": [
    {
     "data": {
      "text/plain": [
       "0"
      ]
     },
     "execution_count": 225,
     "metadata": {},
     "output_type": "execute_result"
    }
   ],
   "source": [
    "# Найдем явные дубликаты\n",
    "df.duplicated().sum()"
   ]
  },
  {
   "cell_type": "markdown",
   "metadata": {},
   "source": [
    "## Исследовательский анализ данных"
   ]
  },
  {
   "cell_type": "code",
   "execution_count": 226,
   "metadata": {},
   "outputs": [
    {
     "data": {
      "text/plain": [
       "count    23453.000000\n",
       "mean       186.255063\n",
       "std        233.607236\n",
       "min          0.000000\n",
       "25%         43.000000\n",
       "50%         95.000000\n",
       "75%        238.000000\n",
       "max       1618.000000\n",
       "Name: days_exposition, dtype: float64"
      ]
     },
     "execution_count": 226,
     "metadata": {},
     "output_type": "execute_result"
    },
    {
     "data": {
      "image/png": "[encoded data removed]",
      "text/plain": [
       "<Figure size 720x720 with 1 Axes>"
      ]
     },
     "metadata": {
      "needs_background": "light"
     },
     "output_type": "display_data"
    }
   ],
   "source": [
    "#Изучим время продади квартир\n",
    "\n",
    "df['days_exposition'].plot(kind = 'hist', figsize = (10,10), grid = True, bins = 10)\n",
    "df['days_exposition'].describe()"
   ]
  },
  {
   "cell_type": "code",
   "execution_count": 227,
   "metadata": {},
   "outputs": [
    {
     "data": {
      "text/plain": [
       "<AxesSubplot:>"
      ]
     },
     "execution_count": 227,
     "metadata": {},
     "output_type": "execute_result"
    },
    {
     "data": {
      "image/png": "[encoded data removed]",
      "text/plain": [
       "<Figure size 432x288 with 1 Axes>"
      ]
     },
     "metadata": {
      "needs_background": "light"
     },
     "output_type": "display_data"
    }
   ],
   "source": [
    "df.boxplot(column = 'days_exposition')"
   ]
  },
  {
   "cell_type": "markdown",
   "metadata": {},
   "source": [
    "Из приведенных диаграмм можно сделать следующие выводы: \n",
    "1. Третий квартиль составляет 238 дней, гистограмма подтверждает данные, большая часть объектов недвижимости была продана быстрее, чем за 200 дней. \n",
    "2. Значительное количество объявлений превышают межквартильный размах и имеют значение > 450 дней. Данные значения можно назвать аномальными. Причины долгих продаж необходимо исследовать дополнительно. \n",
    "Гипотезы: \n",
    "    1. Слишком высокая цена за квадратный метр. (Дополнительные исследования осложняются тем, что в данных указана финальная цена объекта недвижимости, которая могла меняться с течением времени.)\n",
    "    2. Отсутсвие спроса на объект недвижимости из-за неудобной локации.\n",
    "    3. Пользователь не снял объявление с площадки после продажи объекта. \n",
    "3. Минимальное значение = 0, это же значение соответствует нижней границе межквартильного рахмаха. Предположительно, такие объявления имели цену, ниже рыночной. \n",
    "\n",
    "Изучим цену квадратного метра недвижимости по Санкт-Петербургу и Ленинградской области по объектам со сроком продажи более 450 дней и сравним с аналогичными значениями объектов, проданных ранее, чем за 550 дней. "
   ]
  },
  {
   "cell_type": "code",
   "execution_count": 228,
   "metadata": {},
   "outputs": [
    {
     "data": {
      "text/html": [
       "<div>\n",
       "<style scoped>\n",
       "    .dataframe tbody tr th:only-of-type {\n",
       "        vertical-align: middle;\n",
       "    }\n",
       "\n",
       "    .dataframe tbody tr th {\n",
       "        vertical-align: top;\n",
       "    }\n",
       "\n",
       "    .dataframe thead tr th {\n",
       "        text-align: left;\n",
       "    }\n",
       "\n",
       "    .dataframe thead tr:last-of-type th {\n",
       "        text-align: right;\n",
       "    }\n",
       "</style>\n",
       "<table border=\"1\" class=\"dataframe\">\n",
       "  <thead>\n",
       "    <tr>\n",
       "      <th></th>\n",
       "      <th>mean_x</th>\n",
       "      <th>count_x</th>\n",
       "      <th>mean_y</th>\n",
       "      <th>count_y</th>\n",
       "    </tr>\n",
       "    <tr>\n",
       "      <th></th>\n",
       "      <th>meter_price</th>\n",
       "      <th>meter_price</th>\n",
       "      <th>meter_price</th>\n",
       "      <th>meter_price</th>\n",
       "    </tr>\n",
       "    <tr>\n",
       "      <th>location</th>\n",
       "      <th></th>\n",
       "      <th></th>\n",
       "      <th></th>\n",
       "      <th></th>\n",
       "    </tr>\n",
       "  </thead>\n",
       "  <tbody>\n",
       "    <tr>\n",
       "      <th>Ленинградская область</th>\n",
       "      <td>67567.068805</td>\n",
       "      <td>546</td>\n",
       "      <td>68712.246864</td>\n",
       "      <td>7295</td>\n",
       "    </tr>\n",
       "    <tr>\n",
       "      <th>Санкт-Петербург</th>\n",
       "      <td>124088.374572</td>\n",
       "      <td>1254</td>\n",
       "      <td>113988.116105</td>\n",
       "      <td>14353</td>\n",
       "    </tr>\n",
       "  </tbody>\n",
       "</table>\n",
       "</div>"
      ],
      "text/plain": [
       "                              mean_x     count_x         mean_y     count_y\n",
       "                         meter_price meter_price    meter_price meter_price\n",
       "location                                                                   \n",
       "Ленинградская область   67567.068805         546   68712.246864        7295\n",
       "Санкт-Петербург        124088.374572        1254  113988.116105       14353"
      ]
     },
     "execution_count": 228,
     "metadata": {},
     "output_type": "execute_result"
    }
   ],
   "source": [
    "(\n",
    "    df.query('days_exposition>550').pivot_table(index = 'location', values = 'meter_price', aggfunc = ['mean', 'count'])\n",
    "        .merge(\n",
    "             df.query('days_exposition<550').pivot_table(index = 'location', values = 'meter_price', aggfunc = ['mean', 'count'])\n",
    "         ,on = 'location'\n",
    "         )\n",
    ")"
   ]
  },
  {
   "cell_type": "markdown",
   "metadata": {},
   "source": [
    "В Санкт-Петербурге цена объектов недвижимости, которые продаются дольше - ниже, чем цена объектов, которые продаются оперативно. \n",
    "Учитывая, что у нас нет историчности данных, а также то, что цель исследования - определить рыночную цену объектов недвижимости - создадим новый дата фрейм, куда войдут только данные со сроком публикации в нормальном рапределении. "
   ]
  },
  {
   "cell_type": "code",
   "execution_count": 229,
   "metadata": {},
   "outputs": [
    {
     "name": "stdout",
     "output_type": "stream",
     "text": [
      "<class 'pandas.core.frame.DataFrame'>\n",
      "Int64Index: 17249 entries, 1 to 23449\n",
      "Data columns (total 30 columns):\n",
      " #   Column                     Non-Null Count  Dtype         \n",
      "---  ------                     --------------  -----         \n",
      " 0   total_images               17249 non-null  int64         \n",
      " 1   last_price                 17249 non-null  int64         \n",
      " 2   total_area                 17249 non-null  float64       \n",
      " 3   first_day_exposition       17249 non-null  datetime64[ns]\n",
      " 4   rooms                      17249 non-null  int64         \n",
      " 5   ceiling_height             17249 non-null  float64       \n",
      " 6   floors_total               17249 non-null  int64         \n",
      " 7   living_area                17249 non-null  float64       \n",
      " 8   floor                      17249 non-null  int64         \n",
      " 9   is_apartment               17249 non-null  bool          \n",
      " 10  studio                     17249 non-null  bool          \n",
      " 11  open_plan                  17249 non-null  bool          \n",
      " 12  kitchen_area               17249 non-null  float64       \n",
      " 13  balcony                    17249 non-null  float64       \n",
      " 14  locality_name              17249 non-null  object        \n",
      " 15  airports_nearest           17249 non-null  float64       \n",
      " 16  city_centers_nearest       17249 non-null  float64       \n",
      " 17  parks_around               17249 non-null  int64         \n",
      " 18  parks_nearest              5739 non-null   float64       \n",
      " 19  ponds_around               17249 non-null  int64         \n",
      " 20  ponds_nearest              6499 non-null   float64       \n",
      " 21  days_exposition            17249 non-null  int64         \n",
      " 22  location                   17249 non-null  object        \n",
      " 23  meter_price                17249 non-null  float64       \n",
      " 24  is_selled                  17249 non-null  bool          \n",
      " 25  airport_distance_mean      13847 non-null  float64       \n",
      " 26  city_center_distance_mean  13847 non-null  float64       \n",
      " 27  floor_category             17249 non-null  object        \n",
      " 28  living_to_total_area       17249 non-null  float64       \n",
      " 29  kitchen_to_total_area      17249 non-null  float64       \n",
      "dtypes: bool(4), datetime64[ns](1), float64(14), int64(8), object(3)\n",
      "memory usage: 3.6+ MB\n"
     ]
    }
   ],
   "source": [
    "good_data = df.query('days_exposition<365 & is_selled == True')\n",
    "good_data.info()"
   ]
  },
  {
   "cell_type": "markdown",
   "metadata": {},
   "source": [
    "Проверим коэффициенты корреляции между ценой квадратного метра и количеством квадратных метров, этажом, этажностью, количеством комнат, удаленностью от центра"
   ]
  },
  {
   "cell_type": "code",
   "execution_count": 230,
   "metadata": {},
   "outputs": [
    {
     "data": {
      "text/plain": [
       "<AxesSubplot:>"
      ]
     },
     "execution_count": 230,
     "metadata": {},
     "output_type": "execute_result"
    },
    {
     "data": {
      "image/png": "[encoded data removed]",
      "text/plain": [
       "<Figure size 1440x720 with 1 Axes>"
      ]
     },
     "metadata": {
      "needs_background": "light"
     },
     "output_type": "display_data"
    }
   ],
   "source": [
    "(\n",
    "    good_data[['meter_price', \n",
    "               'total_area', \n",
    "               'kitchen_area', \n",
    "               'living_area', \n",
    "               'floor', \n",
    "               'rooms', \n",
    "               'city_centers_nearest', \n",
    "               'parks_around', \n",
    "               'ponds_around', \n",
    "               'balcony', \n",
    "               'total_images', \n",
    "               'ceiling_height']].corr()\n",
    "    ['meter_price'].abs().plot(grid = True, figsize = (20,10), kind = 'bar')\n",
    ")"
   ]
  },
  {
   "cell_type": "code",
   "execution_count": 231,
   "metadata": {},
   "outputs": [
    {
     "name": "stderr",
     "output_type": "stream",
     "text": [
      "/tmp/ipykernel_25/2236466219.py:1: SettingWithCopyWarning: \n",
      "A value is trying to be set on a copy of a slice from a DataFrame.\n",
      "Try using .loc[row_indexer,col_indexer] = value instead\n",
      "\n",
      "See the caveats in the documentation: https://pandas.pydata.org/pandas-docs/stable/user_guide/indexing.html#returning-a-view-versus-a-copy\n",
      "  good_data['day_of_week_exposition'] = good_data['first_day_exposition'].dt.dayofweek\n",
      "/tmp/ipykernel_25/2236466219.py:2: SettingWithCopyWarning: \n",
      "A value is trying to be set on a copy of a slice from a DataFrame.\n",
      "Try using .loc[row_indexer,col_indexer] = value instead\n",
      "\n",
      "See the caveats in the documentation: https://pandas.pydata.org/pandas-docs/stable/user_guide/indexing.html#returning-a-view-versus-a-copy\n",
      "  good_data['month_exposition'] = good_data['first_day_exposition'].dt.month\n",
      "/tmp/ipykernel_25/2236466219.py:3: SettingWithCopyWarning: \n",
      "A value is trying to be set on a copy of a slice from a DataFrame.\n",
      "Try using .loc[row_indexer,col_indexer] = value instead\n",
      "\n",
      "See the caveats in the documentation: https://pandas.pydata.org/pandas-docs/stable/user_guide/indexing.html#returning-a-view-versus-a-copy\n",
      "  good_data['year_exposition'] = good_data['first_day_exposition'].dt.year\n"
     ]
    },
    {
     "data": {
      "text/plain": [
       "<AxesSubplot:xlabel='year_exposition'>"
      ]
     },
     "execution_count": 231,
     "metadata": {},
     "output_type": "execute_result"
    },
    {
     "data": {
      "image/png": "[encoded data removed]",
      "text/plain": [
       "<Figure size 1080x720 with 1 Axes>"
      ]
     },
     "metadata": {
      "needs_background": "light"
     },
     "output_type": "display_data"
    },
    {
     "data": {
      "image/png": "[encoded data removed]",
      "text/plain": [
       "<Figure size 1080x720 with 1 Axes>"
      ]
     },
     "metadata": {
      "needs_background": "light"
     },
     "output_type": "display_data"
    },
    {
     "data": {
      "image/png": "[encoded data removed]",
      "text/plain": [
       "<Figure size 1080x720 with 1 Axes>"
      ]
     },
     "metadata": {
      "needs_background": "light"
     },
     "output_type": "display_data"
    }
   ],
   "source": [
    "good_data['day_of_week_exposition'] = good_data['first_day_exposition'].dt.dayofweek\n",
    "good_data['month_exposition'] = good_data['first_day_exposition'].dt.month\n",
    "good_data['year_exposition'] = good_data['first_day_exposition'].dt.year\n",
    "\n",
    "good_data.pivot_table(index = 'day_of_week_exposition', values = 'meter_price', aggfunc = 'median').plot(figsize = (15,10), grid = True, ylim = (60000, 100000))\n",
    "good_data.pivot_table(index = 'month_exposition', values = 'meter_price', aggfunc = 'median').plot(figsize = (15,10), grid = True, ylim = (60000, 100000))\n",
    "good_data.pivot_table(index = 'year_exposition', values = 'meter_price', aggfunc = 'median').plot(figsize = (15,10), grid = True, ylim = (60000, 130000))\n",
    "\n",
    "\n"
   ]
  },
  {
   "cell_type": "markdown",
   "metadata": {},
   "source": [
    "### Влияние категориальных переменных на стоимость квадратного метра: \n",
    "1. Из графика видно, что день недели публикации не влияет на стоимость кв метра недвижимости. Динамика цен от 93 000 руб до 96 000 руб за кв метр.\n",
    "2. Месяц публикации влиет значительнее, чем день недели. Динамика цен от 92 000 до 98 000 руб с явными экстремумами. Минимальная цена - в июне, максимальная - в апреле и августе. Данную тенденцию можно связать с летним сезоном отпусков, снижением деловой активности, как следствие, снижением спроса на объекты недвижимости. \n",
    "3. Видно, что стоимость кв метра растет год к году. От 91 000 руб за кв метр в 2015 до 104 000 руб за кв метр в 2019. "
   ]
  },
  {
   "cell_type": "code",
   "execution_count": 232,
   "metadata": {},
   "outputs": [
    {
     "name": "stdout",
     "output_type": "stream",
     "text": [
      "<class 'pandas.core.frame.DataFrame'>\n",
      "Int64Index: 17249 entries, 1 to 23449\n",
      "Data columns (total 33 columns):\n",
      " #   Column                     Non-Null Count  Dtype         \n",
      "---  ------                     --------------  -----         \n",
      " 0   total_images               17249 non-null  int64         \n",
      " 1   last_price                 17249 non-null  int64         \n",
      " 2   total_area                 17249 non-null  float64       \n",
      " 3   first_day_exposition       17249 non-null  datetime64[ns]\n",
      " 4   rooms                      17249 non-null  int64         \n",
      " 5   ceiling_height             17249 non-null  float64       \n",
      " 6   floors_total               17249 non-null  int64         \n",
      " 7   living_area                17249 non-null  float64       \n",
      " 8   floor                      17249 non-null  int64         \n",
      " 9   is_apartment               17249 non-null  bool          \n",
      " 10  studio                     17249 non-null  bool          \n",
      " 11  open_plan                  17249 non-null  bool          \n",
      " 12  kitchen_area               17249 non-null  float64       \n",
      " 13  balcony                    17249 non-null  float64       \n",
      " 14  locality_name              17249 non-null  object        \n",
      " 15  airports_nearest           17249 non-null  float64       \n",
      " 16  city_centers_nearest       17249 non-null  float64       \n",
      " 17  parks_around               17249 non-null  int64         \n",
      " 18  parks_nearest              5739 non-null   float64       \n",
      " 19  ponds_around               17249 non-null  int64         \n",
      " 20  ponds_nearest              6499 non-null   float64       \n",
      " 21  days_exposition            17249 non-null  int64         \n",
      " 22  location                   17249 non-null  object        \n",
      " 23  meter_price                17249 non-null  float64       \n",
      " 24  is_selled                  17249 non-null  bool          \n",
      " 25  airport_distance_mean      13847 non-null  float64       \n",
      " 26  city_center_distance_mean  13847 non-null  float64       \n",
      " 27  floor_category             17249 non-null  object        \n",
      " 28  living_to_total_area       17249 non-null  float64       \n",
      " 29  kitchen_to_total_area      17249 non-null  float64       \n",
      " 30  day_of_week_exposition     17249 non-null  int64         \n",
      " 31  month_exposition           17249 non-null  int64         \n",
      " 32  year_exposition            17249 non-null  int64         \n",
      "dtypes: bool(4), datetime64[ns](1), float64(14), int64(11), object(3)\n",
      "memory usage: 4.0+ MB\n"
     ]
    }
   ],
   "source": [
    "good_data.info()"
   ]
  },
  {
   "cell_type": "markdown",
   "metadata": {},
   "source": [
    "Из графика видно, что наиболее значительное влияние на стоимость квадратного метра жилья оказывает географическое расположение объекта недвижимости:\n",
    "    Близость к центру\n",
    "    Наличие парков и прудов\n",
    "В меньшей степени коррелирует с ценой квадратного метра площадь квартиры и площадь кухни. "
   ]
  },
  {
   "cell_type": "markdown",
   "metadata": {},
   "source": [
    "Найдем населенные пункты с самым большим количеством объявлений и рассмотрим цену на кв метр недвижимости в каждом из них"
   ]
  },
  {
   "cell_type": "code",
   "execution_count": 233,
   "metadata": {},
   "outputs": [
    {
     "data": {
      "text/html": [
       "<div>\n",
       "<style scoped>\n",
       "    .dataframe tbody tr th:only-of-type {\n",
       "        vertical-align: middle;\n",
       "    }\n",
       "\n",
       "    .dataframe tbody tr th {\n",
       "        vertical-align: top;\n",
       "    }\n",
       "\n",
       "    .dataframe thead th {\n",
       "        text-align: right;\n",
       "    }\n",
       "</style>\n",
       "<table border=\"1\" class=\"dataframe\">\n",
       "  <thead>\n",
       "    <tr style=\"text-align: right;\">\n",
       "      <th></th>\n",
       "      <th>locality_name</th>\n",
       "      <th>count</th>\n",
       "      <th>price</th>\n",
       "    </tr>\n",
       "  </thead>\n",
       "  <tbody>\n",
       "    <tr>\n",
       "      <th>0</th>\n",
       "      <td>Санкт-Петербург</td>\n",
       "      <td>11463</td>\n",
       "      <td>111187.073756</td>\n",
       "    </tr>\n",
       "    <tr>\n",
       "      <th>1</th>\n",
       "      <td>Мурино</td>\n",
       "      <td>469</td>\n",
       "      <td>85385.288089</td>\n",
       "    </tr>\n",
       "    <tr>\n",
       "      <th>2</th>\n",
       "      <td>Шушары</td>\n",
       "      <td>359</td>\n",
       "      <td>77957.205806</td>\n",
       "    </tr>\n",
       "    <tr>\n",
       "      <th>3</th>\n",
       "      <td>Всеволожск</td>\n",
       "      <td>283</td>\n",
       "      <td>69149.123229</td>\n",
       "    </tr>\n",
       "    <tr>\n",
       "      <th>4</th>\n",
       "      <td>Колпино</td>\n",
       "      <td>275</td>\n",
       "      <td>74619.415207</td>\n",
       "    </tr>\n",
       "    <tr>\n",
       "      <th>5</th>\n",
       "      <td>Пушкин</td>\n",
       "      <td>262</td>\n",
       "      <td>101525.451715</td>\n",
       "    </tr>\n",
       "    <tr>\n",
       "      <th>6</th>\n",
       "      <td>Парголово</td>\n",
       "      <td>260</td>\n",
       "      <td>89048.568669</td>\n",
       "    </tr>\n",
       "    <tr>\n",
       "      <th>7</th>\n",
       "      <td>деревня Кудрово</td>\n",
       "      <td>244</td>\n",
       "      <td>92447.233105</td>\n",
       "    </tr>\n",
       "    <tr>\n",
       "      <th>8</th>\n",
       "      <td>Гатчина</td>\n",
       "      <td>221</td>\n",
       "      <td>68209.822666</td>\n",
       "    </tr>\n",
       "    <tr>\n",
       "      <th>9</th>\n",
       "      <td>Выборг</td>\n",
       "      <td>179</td>\n",
       "      <td>57126.723023</td>\n",
       "    </tr>\n",
       "  </tbody>\n",
       "</table>\n",
       "</div>"
      ],
      "text/plain": [
       "     locality_name  count          price\n",
       "0  Санкт-Петербург  11463  111187.073756\n",
       "1           Мурино    469   85385.288089\n",
       "2           Шушары    359   77957.205806\n",
       "3       Всеволожск    283   69149.123229\n",
       "4          Колпино    275   74619.415207\n",
       "5           Пушкин    262  101525.451715\n",
       "6        Парголово    260   89048.568669\n",
       "7  деревня Кудрово    244   92447.233105\n",
       "8          Гатчина    221   68209.822666\n",
       "9           Выборг    179   57126.723023"
      ]
     },
     "execution_count": 233,
     "metadata": {},
     "output_type": "execute_result"
    },
    {
     "data": {
      "image/png": "[encoded data removed]",
      "text/plain": [
       "<Figure size 1080x720 with 1 Axes>"
      ]
     },
     "metadata": {
      "needs_background": "light"
     },
     "output_type": "display_data"
    }
   ],
   "source": [
    "popular_towns = good_data.pivot_table(index = 'locality_name', values = 'meter_price', aggfunc = ['count', 'mean'])\n",
    "\n",
    "popular_towns.columns = ['count', 'price']\n",
    "popular_towns = popular_towns.sort_values('count', ascending = False).reset_index().head(10)\n",
    "popular_towns.plot(x = 'locality_name', y = 'price', grid = True, figsize = (15,10), kind = 'bar')\n",
    "popular_towns"
   ]
  },
  {
   "cell_type": "markdown",
   "metadata": {},
   "source": [
    "Максимальная стоимость квадратного метра объектов недвижимости приходитя на Санкт-Петербург, Пушкин Кудрово.\n",
    "Это можно объяснить блихостью к административному центру.\n",
    "\n",
    "Минимальная стоимость объектов недвижимости в Выборге. "
   ]
  },
  {
   "cell_type": "markdown",
   "metadata": {},
   "source": [
    "Оценим, как меняется стоимость квартир в зависимости от удаления от центра города. "
   ]
  },
  {
   "cell_type": "code",
   "execution_count": 234,
   "metadata": {},
   "outputs": [
    {
     "name": "stderr",
     "output_type": "stream",
     "text": [
      "/tmp/ipykernel_25/2836659440.py:5: SettingWithCopyWarning: \n",
      "A value is trying to be set on a copy of a slice from a DataFrame.\n",
      "Try using .loc[row_indexer,col_indexer] = value instead\n",
      "\n",
      "See the caveats in the documentation: https://pandas.pydata.org/pandas-docs/stable/user_guide/indexing.html#returning-a-view-versus-a-copy\n",
      "  spb_objects['city_centers_km'] = spb_objects['city_centers_nearest']/1000\n",
      "/tmp/ipykernel_25/2836659440.py:7: SettingWithCopyWarning: \n",
      "A value is trying to be set on a copy of a slice from a DataFrame.\n",
      "Try using .loc[row_indexer,col_indexer] = value instead\n",
      "\n",
      "See the caveats in the documentation: https://pandas.pydata.org/pandas-docs/stable/user_guide/indexing.html#returning-a-view-versus-a-copy\n",
      "  spb_objects['city_centers_km']= spb_objects['city_centers_km'].round(0)\n"
     ]
    },
    {
     "data": {
      "text/plain": [
       "<AxesSubplot:xlabel='city_centers_km'>"
      ]
     },
     "execution_count": 234,
     "metadata": {},
     "output_type": "execute_result"
    },
    {
     "data": {
      "image/png": "[encoded data removed]",
      "text/plain": [
       "<Figure size 1080x720 with 1 Axes>"
      ]
     },
     "metadata": {
      "needs_background": "light"
     },
     "output_type": "display_data"
    }
   ],
   "source": [
    "#Создадим датафрейм с объектами только в Санкт-Петербурге\n",
    "spb_objects = good_data.query('location==\"Санкт-Петербург\"')\n",
    "\n",
    "#Переведем метры в километры \n",
    "spb_objects['city_centers_km'] = spb_objects['city_centers_nearest']/1000\n",
    "#Округлим удаленность от центра до км. \n",
    "spb_objects['city_centers_km']= spb_objects['city_centers_km'].round(0)\n",
    "spb_objects['city_centers_km']\n",
    "\n",
    "\n",
    "\n",
    "(spb_objects\n",
    " .pivot_table(index = 'city_centers_km', values = 'meter_price', aggfunc = 'mean')\n",
    " .plot(grid = True, figsize = (15,10)))\n"
   ]
  },
  {
   "cell_type": "markdown",
   "metadata": {},
   "source": [
    "Видно значительное изменение графика на удаленности 6-7 км от центра. \n",
    "Данному удалению от центра соответствуют границы центральной части города. \n",
    "Также, отметим скачок графика в районе 26-27 км от центра города. Изучим данные подробнее. "
   ]
  },
  {
   "cell_type": "code",
   "execution_count": 235,
   "metadata": {},
   "outputs": [
    {
     "data": {
      "text/html": [
       "<div>\n",
       "<style scoped>\n",
       "    .dataframe tbody tr th:only-of-type {\n",
       "        vertical-align: middle;\n",
       "    }\n",
       "\n",
       "    .dataframe tbody tr th {\n",
       "        vertical-align: top;\n",
       "    }\n",
       "\n",
       "    .dataframe thead th {\n",
       "        text-align: right;\n",
       "    }\n",
       "</style>\n",
       "<table border=\"1\" class=\"dataframe\">\n",
       "  <thead>\n",
       "    <tr style=\"text-align: right;\">\n",
       "      <th></th>\n",
       "      <th>total_images</th>\n",
       "      <th>last_price</th>\n",
       "      <th>total_area</th>\n",
       "      <th>first_day_exposition</th>\n",
       "      <th>rooms</th>\n",
       "      <th>ceiling_height</th>\n",
       "      <th>floors_total</th>\n",
       "      <th>living_area</th>\n",
       "      <th>floor</th>\n",
       "      <th>is_apartment</th>\n",
       "      <th>...</th>\n",
       "      <th>is_selled</th>\n",
       "      <th>airport_distance_mean</th>\n",
       "      <th>city_center_distance_mean</th>\n",
       "      <th>floor_category</th>\n",
       "      <th>living_to_total_area</th>\n",
       "      <th>kitchen_to_total_area</th>\n",
       "      <th>day_of_week_exposition</th>\n",
       "      <th>month_exposition</th>\n",
       "      <th>year_exposition</th>\n",
       "      <th>city_centers_km</th>\n",
       "    </tr>\n",
       "  </thead>\n",
       "  <tbody>\n",
       "    <tr>\n",
       "      <th>252</th>\n",
       "      <td>17</td>\n",
       "      <td>3340000</td>\n",
       "      <td>37.0</td>\n",
       "      <td>2018-03-28</td>\n",
       "      <td>1</td>\n",
       "      <td>2.65</td>\n",
       "      <td>5</td>\n",
       "      <td>19.000000</td>\n",
       "      <td>4</td>\n",
       "      <td>False</td>\n",
       "      <td>...</td>\n",
       "      <td>True</td>\n",
       "      <td>26786.0</td>\n",
       "      <td>12239.0</td>\n",
       "      <td>Другой</td>\n",
       "      <td>0.513514</td>\n",
       "      <td>0.270270</td>\n",
       "      <td>2</td>\n",
       "      <td>3</td>\n",
       "      <td>2018</td>\n",
       "      <td>26.0</td>\n",
       "    </tr>\n",
       "    <tr>\n",
       "      <th>535</th>\n",
       "      <td>13</td>\n",
       "      <td>3250000</td>\n",
       "      <td>40.0</td>\n",
       "      <td>2018-06-25</td>\n",
       "      <td>1</td>\n",
       "      <td>2.65</td>\n",
       "      <td>10</td>\n",
       "      <td>22.669246</td>\n",
       "      <td>1</td>\n",
       "      <td>False</td>\n",
       "      <td>...</td>\n",
       "      <td>True</td>\n",
       "      <td>26786.0</td>\n",
       "      <td>12239.0</td>\n",
       "      <td>Первый</td>\n",
       "      <td>0.566731</td>\n",
       "      <td>0.172414</td>\n",
       "      <td>0</td>\n",
       "      <td>6</td>\n",
       "      <td>2018</td>\n",
       "      <td>26.0</td>\n",
       "    </tr>\n",
       "    <tr>\n",
       "      <th>741</th>\n",
       "      <td>13</td>\n",
       "      <td>14350000</td>\n",
       "      <td>74.0</td>\n",
       "      <td>2017-11-28</td>\n",
       "      <td>2</td>\n",
       "      <td>3.13</td>\n",
       "      <td>5</td>\n",
       "      <td>30.000000</td>\n",
       "      <td>3</td>\n",
       "      <td>False</td>\n",
       "      <td>...</td>\n",
       "      <td>True</td>\n",
       "      <td>26786.0</td>\n",
       "      <td>12239.0</td>\n",
       "      <td>Другой</td>\n",
       "      <td>0.405405</td>\n",
       "      <td>0.337838</td>\n",
       "      <td>1</td>\n",
       "      <td>11</td>\n",
       "      <td>2017</td>\n",
       "      <td>27.0</td>\n",
       "    </tr>\n",
       "    <tr>\n",
       "      <th>806</th>\n",
       "      <td>0</td>\n",
       "      <td>7600000</td>\n",
       "      <td>111.0</td>\n",
       "      <td>2017-07-26</td>\n",
       "      <td>3</td>\n",
       "      <td>3.00</td>\n",
       "      <td>16</td>\n",
       "      <td>63.000000</td>\n",
       "      <td>12</td>\n",
       "      <td>False</td>\n",
       "      <td>...</td>\n",
       "      <td>True</td>\n",
       "      <td>26786.0</td>\n",
       "      <td>12239.0</td>\n",
       "      <td>Другой</td>\n",
       "      <td>0.567568</td>\n",
       "      <td>0.126126</td>\n",
       "      <td>2</td>\n",
       "      <td>7</td>\n",
       "      <td>2017</td>\n",
       "      <td>28.0</td>\n",
       "    </tr>\n",
       "    <tr>\n",
       "      <th>1100</th>\n",
       "      <td>0</td>\n",
       "      <td>4072000</td>\n",
       "      <td>38.0</td>\n",
       "      <td>2015-10-14</td>\n",
       "      <td>1</td>\n",
       "      <td>2.65</td>\n",
       "      <td>5</td>\n",
       "      <td>16.000000</td>\n",
       "      <td>4</td>\n",
       "      <td>False</td>\n",
       "      <td>...</td>\n",
       "      <td>True</td>\n",
       "      <td>26786.0</td>\n",
       "      <td>12239.0</td>\n",
       "      <td>Другой</td>\n",
       "      <td>0.421053</td>\n",
       "      <td>0.315789</td>\n",
       "      <td>2</td>\n",
       "      <td>10</td>\n",
       "      <td>2015</td>\n",
       "      <td>28.0</td>\n",
       "    </tr>\n",
       "  </tbody>\n",
       "</table>\n",
       "<p>5 rows × 34 columns</p>\n",
       "</div>"
      ],
      "text/plain": [
       "      total_images  last_price  total_area first_day_exposition  rooms  \\\n",
       "252             17     3340000        37.0           2018-03-28      1   \n",
       "535             13     3250000        40.0           2018-06-25      1   \n",
       "741             13    14350000        74.0           2017-11-28      2   \n",
       "806              0     7600000       111.0           2017-07-26      3   \n",
       "1100             0     4072000        38.0           2015-10-14      1   \n",
       "\n",
       "      ceiling_height  floors_total  living_area  floor  is_apartment  ...  \\\n",
       "252             2.65             5    19.000000      4         False  ...   \n",
       "535             2.65            10    22.669246      1         False  ...   \n",
       "741             3.13             5    30.000000      3         False  ...   \n",
       "806             3.00            16    63.000000     12         False  ...   \n",
       "1100            2.65             5    16.000000      4         False  ...   \n",
       "\n",
       "      is_selled  airport_distance_mean  city_center_distance_mean  \\\n",
       "252        True                26786.0                    12239.0   \n",
       "535        True                26786.0                    12239.0   \n",
       "741        True                26786.0                    12239.0   \n",
       "806        True                26786.0                    12239.0   \n",
       "1100       True                26786.0                    12239.0   \n",
       "\n",
       "      floor_category living_to_total_area  kitchen_to_total_area  \\\n",
       "252           Другой             0.513514               0.270270   \n",
       "535           Первый             0.566731               0.172414   \n",
       "741           Другой             0.405405               0.337838   \n",
       "806           Другой             0.567568               0.126126   \n",
       "1100          Другой             0.421053               0.315789   \n",
       "\n",
       "      day_of_week_exposition  month_exposition  year_exposition  \\\n",
       "252                        2                 3             2018   \n",
       "535                        0                 6             2018   \n",
       "741                        1                11             2017   \n",
       "806                        2                 7             2017   \n",
       "1100                       2                10             2015   \n",
       "\n",
       "      city_centers_km  \n",
       "252              26.0  \n",
       "535              26.0  \n",
       "741              27.0  \n",
       "806              28.0  \n",
       "1100             28.0  \n",
       "\n",
       "[5 rows x 34 columns]"
      ]
     },
     "metadata": {},
     "output_type": "display_data"
    },
    {
     "data": {
      "text/html": [
       "<div>\n",
       "<style scoped>\n",
       "    .dataframe tbody tr th:only-of-type {\n",
       "        vertical-align: middle;\n",
       "    }\n",
       "\n",
       "    .dataframe tbody tr th {\n",
       "        vertical-align: top;\n",
       "    }\n",
       "\n",
       "    .dataframe thead th {\n",
       "        text-align: right;\n",
       "    }\n",
       "</style>\n",
       "<table border=\"1\" class=\"dataframe\">\n",
       "  <thead>\n",
       "    <tr style=\"text-align: right;\">\n",
       "      <th></th>\n",
       "      <th>total_images</th>\n",
       "      <th>last_price</th>\n",
       "      <th>total_area</th>\n",
       "      <th>first_day_exposition</th>\n",
       "      <th>rooms</th>\n",
       "      <th>ceiling_height</th>\n",
       "      <th>floors_total</th>\n",
       "      <th>living_area</th>\n",
       "      <th>floor</th>\n",
       "      <th>is_apartment</th>\n",
       "      <th>...</th>\n",
       "      <th>is_selled</th>\n",
       "      <th>airport_distance_mean</th>\n",
       "      <th>city_center_distance_mean</th>\n",
       "      <th>floor_category</th>\n",
       "      <th>living_to_total_area</th>\n",
       "      <th>kitchen_to_total_area</th>\n",
       "      <th>day_of_week_exposition</th>\n",
       "      <th>month_exposition</th>\n",
       "      <th>year_exposition</th>\n",
       "      <th>city_centers_km</th>\n",
       "    </tr>\n",
       "  </thead>\n",
       "  <tbody>\n",
       "    <tr>\n",
       "      <th>741</th>\n",
       "      <td>13</td>\n",
       "      <td>14350000</td>\n",
       "      <td>74.00</td>\n",
       "      <td>2017-11-28</td>\n",
       "      <td>2</td>\n",
       "      <td>3.13</td>\n",
       "      <td>5</td>\n",
       "      <td>30.0</td>\n",
       "      <td>3</td>\n",
       "      <td>False</td>\n",
       "      <td>...</td>\n",
       "      <td>True</td>\n",
       "      <td>26786.0</td>\n",
       "      <td>12239.0</td>\n",
       "      <td>Другой</td>\n",
       "      <td>0.405405</td>\n",
       "      <td>0.337838</td>\n",
       "      <td>1</td>\n",
       "      <td>11</td>\n",
       "      <td>2017</td>\n",
       "      <td>27.0</td>\n",
       "    </tr>\n",
       "    <tr>\n",
       "      <th>11098</th>\n",
       "      <td>10</td>\n",
       "      <td>3724812</td>\n",
       "      <td>32.76</td>\n",
       "      <td>2018-10-10</td>\n",
       "      <td>1</td>\n",
       "      <td>2.65</td>\n",
       "      <td>5</td>\n",
       "      <td>15.0</td>\n",
       "      <td>3</td>\n",
       "      <td>False</td>\n",
       "      <td>...</td>\n",
       "      <td>True</td>\n",
       "      <td>26786.0</td>\n",
       "      <td>12239.0</td>\n",
       "      <td>Другой</td>\n",
       "      <td>0.457875</td>\n",
       "      <td>0.172414</td>\n",
       "      <td>2</td>\n",
       "      <td>10</td>\n",
       "      <td>2018</td>\n",
       "      <td>26.0</td>\n",
       "    </tr>\n",
       "    <tr>\n",
       "      <th>14008</th>\n",
       "      <td>18</td>\n",
       "      <td>4150000</td>\n",
       "      <td>36.00</td>\n",
       "      <td>2018-09-05</td>\n",
       "      <td>1</td>\n",
       "      <td>2.50</td>\n",
       "      <td>10</td>\n",
       "      <td>20.0</td>\n",
       "      <td>7</td>\n",
       "      <td>False</td>\n",
       "      <td>...</td>\n",
       "      <td>True</td>\n",
       "      <td>26786.0</td>\n",
       "      <td>12239.0</td>\n",
       "      <td>Другой</td>\n",
       "      <td>0.555556</td>\n",
       "      <td>0.194444</td>\n",
       "      <td>2</td>\n",
       "      <td>9</td>\n",
       "      <td>2018</td>\n",
       "      <td>26.0</td>\n",
       "    </tr>\n",
       "    <tr>\n",
       "      <th>14177</th>\n",
       "      <td>8</td>\n",
       "      <td>4300000</td>\n",
       "      <td>37.20</td>\n",
       "      <td>2019-04-03</td>\n",
       "      <td>1</td>\n",
       "      <td>2.64</td>\n",
       "      <td>5</td>\n",
       "      <td>15.0</td>\n",
       "      <td>3</td>\n",
       "      <td>False</td>\n",
       "      <td>...</td>\n",
       "      <td>True</td>\n",
       "      <td>26786.0</td>\n",
       "      <td>12239.0</td>\n",
       "      <td>Другой</td>\n",
       "      <td>0.403226</td>\n",
       "      <td>0.349462</td>\n",
       "      <td>2</td>\n",
       "      <td>4</td>\n",
       "      <td>2019</td>\n",
       "      <td>26.0</td>\n",
       "    </tr>\n",
       "    <tr>\n",
       "      <th>18942</th>\n",
       "      <td>10</td>\n",
       "      <td>2903659</td>\n",
       "      <td>24.67</td>\n",
       "      <td>2018-10-10</td>\n",
       "      <td>1</td>\n",
       "      <td>2.65</td>\n",
       "      <td>6</td>\n",
       "      <td>16.0</td>\n",
       "      <td>6</td>\n",
       "      <td>False</td>\n",
       "      <td>...</td>\n",
       "      <td>True</td>\n",
       "      <td>26786.0</td>\n",
       "      <td>12239.0</td>\n",
       "      <td>Последний</td>\n",
       "      <td>0.648561</td>\n",
       "      <td>0.172414</td>\n",
       "      <td>2</td>\n",
       "      <td>10</td>\n",
       "      <td>2018</td>\n",
       "      <td>26.0</td>\n",
       "    </tr>\n",
       "  </tbody>\n",
       "</table>\n",
       "<p>5 rows × 34 columns</p>\n",
       "</div>"
      ],
      "text/plain": [
       "       total_images  last_price  total_area first_day_exposition  rooms  \\\n",
       "741              13    14350000       74.00           2017-11-28      2   \n",
       "11098            10     3724812       32.76           2018-10-10      1   \n",
       "14008            18     4150000       36.00           2018-09-05      1   \n",
       "14177             8     4300000       37.20           2019-04-03      1   \n",
       "18942            10     2903659       24.67           2018-10-10      1   \n",
       "\n",
       "       ceiling_height  floors_total  living_area  floor  is_apartment  ...  \\\n",
       "741              3.13             5         30.0      3         False  ...   \n",
       "11098            2.65             5         15.0      3         False  ...   \n",
       "14008            2.50            10         20.0      7         False  ...   \n",
       "14177            2.64             5         15.0      3         False  ...   \n",
       "18942            2.65             6         16.0      6         False  ...   \n",
       "\n",
       "       is_selled  airport_distance_mean  city_center_distance_mean  \\\n",
       "741         True                26786.0                    12239.0   \n",
       "11098       True                26786.0                    12239.0   \n",
       "14008       True                26786.0                    12239.0   \n",
       "14177       True                26786.0                    12239.0   \n",
       "18942       True                26786.0                    12239.0   \n",
       "\n",
       "       floor_category living_to_total_area  kitchen_to_total_area  \\\n",
       "741            Другой             0.405405               0.337838   \n",
       "11098          Другой             0.457875               0.172414   \n",
       "14008          Другой             0.555556               0.194444   \n",
       "14177          Другой             0.403226               0.349462   \n",
       "18942       Последний             0.648561               0.172414   \n",
       "\n",
       "       day_of_week_exposition  month_exposition  year_exposition  \\\n",
       "741                         1                11             2017   \n",
       "11098                       2                10             2018   \n",
       "14008                       2                 9             2018   \n",
       "14177                       2                 4             2019   \n",
       "18942                       2                10             2018   \n",
       "\n",
       "       city_centers_km  \n",
       "741               27.0  \n",
       "11098             26.0  \n",
       "14008             26.0  \n",
       "14177             26.0  \n",
       "18942             26.0  \n",
       "\n",
       "[5 rows x 34 columns]"
      ]
     },
     "metadata": {},
     "output_type": "display_data"
    }
   ],
   "source": [
    "#Сделаем срез данных, чтобы проверить строки на аномальные значения в других колонках\n",
    "display(spb_objects.query('city_centers_km>=26 & city_centers_km<=28').head())\n",
    "display(spb_objects.query('city_centers_km>=26 & meter_price>110000'))"
   ]
  },
  {
   "cell_type": "code",
   "execution_count": 236,
   "metadata": {},
   "outputs": [
    {
     "data": {
      "text/plain": [
       "<AxesSubplot:xlabel='city_centers_km'>"
      ]
     },
     "execution_count": 236,
     "metadata": {},
     "output_type": "execute_result"
    },
    {
     "data": {
      "image/png": "[encoded data removed]",
      "text/plain": [
       "<Figure size 1080x720 with 1 Axes>"
      ]
     },
     "metadata": {
      "needs_background": "light"
     },
     "output_type": "display_data"
    }
   ],
   "source": [
    "#Проверим количество значений для каждого километра удаления от центра. \n",
    "(spb_objects\n",
    " .pivot_table(index = 'city_centers_km', values = 'meter_price', aggfunc = 'count')\n",
    " .plot(grid = True, figsize = (15,10)))"
   ]
  },
  {
   "cell_type": "markdown",
   "metadata": {},
   "source": [
    "Рост средней цены на удалении 26-27 км от центра Санкт-Петербурга можно объяснить малым количеством объявлений. \n",
    "А также, наличием современных элитных жк в этих районах. "
   ]
  },
  {
   "cell_type": "markdown",
   "metadata": {},
   "source": [
    "Проверим, каким образом коррелируют аналогичные характеристики объектов недвижимости внутри Санкт-Петербурга в сравнении с общим датафреймом. "
   ]
  },
  {
   "cell_type": "code",
   "execution_count": 237,
   "metadata": {},
   "outputs": [
    {
     "data": {
      "text/plain": [
       "<AxesSubplot:>"
      ]
     },
     "execution_count": 237,
     "metadata": {},
     "output_type": "execute_result"
    },
    {
     "data": {
      "image/png": "[encoded data removed]",
      "text/plain": [
       "<Figure size 1440x720 with 1 Axes>"
      ]
     },
     "metadata": {
      "needs_background": "light"
     },
     "output_type": "display_data"
    }
   ],
   "source": [
    "(\n",
    "    spb_objects[['meter_price', \n",
    "               'total_area', \n",
    "               'kitchen_area', \n",
    "               'living_area', \n",
    "               'floor', \n",
    "               'rooms', \n",
    "               'city_centers_nearest', \n",
    "               'parks_around', \n",
    "               'ponds_around', \n",
    "               'balcony', \n",
    "               'total_images', \n",
    "               'ceiling_height']].corr()\n",
    "    ['meter_price'].abs().plot(grid = True, figsize = (20,10), kind = 'bar')\n",
    ")"
   ]
  },
  {
   "cell_type": "code",
   "execution_count": 238,
   "metadata": {},
   "outputs": [
    {
     "data": {
      "text/plain": [
       "<AxesSubplot:>"
      ]
     },
     "execution_count": 238,
     "metadata": {},
     "output_type": "execute_result"
    },
    {
     "data": {
      "image/png": "[encoded data removed]",
      "text/plain": [
       "<Figure size 1440x720 with 1 Axes>"
      ]
     },
     "metadata": {
      "needs_background": "light"
     },
     "output_type": "display_data"
    }
   ],
   "source": [
    "spb_center_objects = spb_objects.query('city_centers_km<7')\n",
    "\n",
    "(\n",
    "    spb_center_objects[['meter_price', \n",
    "               'total_area', \n",
    "               'kitchen_area', \n",
    "               'living_area', \n",
    "               'floor', \n",
    "               'rooms', \n",
    "               'city_centers_nearest', \n",
    "               'parks_around', \n",
    "               'ponds_around', \n",
    "               'balcony', \n",
    "               'total_images', \n",
    "               'ceiling_height']].corr()\n",
    "    ['meter_price'].abs().plot(grid = True, figsize = (20,10), kind = 'bar')\n",
    ")"
   ]
  },
  {
   "cell_type": "markdown",
   "metadata": {},
   "source": [
    "Можно отметить, что для объектов недвижимости в Петербурге значительно меньшая кореляция между близостью объекта недвижимости к центру города и его ценой. \n",
    "Это может быть связано с:\n",
    "    1. Более низким спросом на объекты недвижимости в центре из-за низкого уровня комфорта в квартирах исторической застройки. \n",
    "    2. Санкт-Петербург туристический город, в его центре всегда довольно шумно и людно, это снижает уровень комфорта.\n",
    "    3. Развитым общественным транспортом, так как в Санкт-Петербурге можно достаточно быстро и комфортно добраться до центра города при необходимости. "
   ]
  },
  {
   "cell_type": "code",
   "execution_count": 239,
   "metadata": {},
   "outputs": [
    {
     "name": "stderr",
     "output_type": "stream",
     "text": [
      "/tmp/ipykernel_25/219564199.py:1: SettingWithCopyWarning: \n",
      "A value is trying to be set on a copy of a slice from a DataFrame.\n",
      "Try using .loc[row_indexer,col_indexer] = value instead\n",
      "\n",
      "See the caveats in the documentation: https://pandas.pydata.org/pandas-docs/stable/user_guide/indexing.html#returning-a-view-versus-a-copy\n",
      "  spb_objects['day_of_week_exposition'] = spb_objects['first_day_exposition'].dt.dayofweek\n",
      "/tmp/ipykernel_25/219564199.py:2: SettingWithCopyWarning: \n",
      "A value is trying to be set on a copy of a slice from a DataFrame.\n",
      "Try using .loc[row_indexer,col_indexer] = value instead\n",
      "\n",
      "See the caveats in the documentation: https://pandas.pydata.org/pandas-docs/stable/user_guide/indexing.html#returning-a-view-versus-a-copy\n",
      "  spb_objects['month_exposition'] = spb_objects['first_day_exposition'].dt.month\n",
      "/tmp/ipykernel_25/219564199.py:3: SettingWithCopyWarning: \n",
      "A value is trying to be set on a copy of a slice from a DataFrame.\n",
      "Try using .loc[row_indexer,col_indexer] = value instead\n",
      "\n",
      "See the caveats in the documentation: https://pandas.pydata.org/pandas-docs/stable/user_guide/indexing.html#returning-a-view-versus-a-copy\n",
      "  spb_objects['year_exposition'] = spb_objects['first_day_exposition'].dt.year\n"
     ]
    },
    {
     "data": {
      "text/plain": [
       "<AxesSubplot:xlabel='year_exposition'>"
      ]
     },
     "execution_count": 239,
     "metadata": {},
     "output_type": "execute_result"
    },
    {
     "data": {
      "image/png": "[encoded data removed]",
      "text/plain": [
       "<Figure size 1080x720 with 1 Axes>"
      ]
     },
     "metadata": {
      "needs_background": "light"
     },
     "output_type": "display_data"
    },
    {
     "data": {
      "image/png": "[encoded data removed]",
      "text/plain": [
       "<Figure size 1080x720 with 1 Axes>"
      ]
     },
     "metadata": {
      "needs_background": "light"
     },
     "output_type": "display_data"
    },
    {
     "data": {
      "image/png": "[encoded data removed]",
      "text/plain": [
       "<Figure size 1080x720 with 1 Axes>"
      ]
     },
     "metadata": {
      "needs_background": "light"
     },
     "output_type": "display_data"
    }
   ],
   "source": [
    "spb_objects['day_of_week_exposition'] = spb_objects['first_day_exposition'].dt.dayofweek\n",
    "spb_objects['month_exposition'] = spb_objects['first_day_exposition'].dt.month\n",
    "spb_objects['year_exposition'] = spb_objects['first_day_exposition'].dt.year\n",
    "\n",
    "spb_objects.pivot_table(index = 'day_of_week_exposition', values = 'meter_price', aggfunc = 'median').plot(figsize = (15,10), grid = True, ylim = (80000, 150000))\n",
    "spb_objects.pivot_table(index = 'month_exposition', values = 'meter_price', aggfunc = 'median').plot(figsize = (15,10), grid = True, ylim = (80000, 150000))\n",
    "spb_objects.pivot_table(index = 'year_exposition', values = 'meter_price', aggfunc = 'median').plot(figsize = (15,10), grid = True, ylim = (80000, 150000))\n",
    "\n"
   ]
  },
  {
   "cell_type": "markdown",
   "metadata": {},
   "source": [
    "По категориальным значениям в Санкт-Петербурге сохраняются тендеции, характерные общему датафрейму: \n",
    "1. День недели публиукации влияет незначительно\n",
    "2. Месяц публикации влияет значительнее, чем день, летом квартиры дешевле, чем весной и зимой. \n",
    "3. Виден рост цены за кв метр недвижимости год к году. "
   ]
  },
  {
   "cell_type": "markdown",
   "metadata": {},
   "source": [
    "## Исследуем данные по непроданным объектам недвижимости"
   ]
  },
  {
   "cell_type": "markdown",
   "metadata": {},
   "source": [
    "Составим отдельный датафрейм, где признак `is_selled` = True  и срок продажи объекта более 100 дней, чтобы исключить из выборки те объекты, чей срок продажи нельзя назвать долгим. "
   ]
  },
  {
   "cell_type": "code",
   "execution_count": 242,
   "metadata": {},
   "outputs": [
    {
     "data": {
      "text/plain": [
       "108989.52036597798"
      ]
     },
     "execution_count": 242,
     "metadata": {},
     "output_type": "execute_result"
    }
   ],
   "source": [
    "bad_data = df.query('is_selled == False and days_exposition > 100')\n",
    "bad_data['meter_price'].mean()"
   ]
  },
  {
   "cell_type": "markdown",
   "metadata": {},
   "source": [
    "Проверим распределение стоимости недвижимости по удаленности от центра и сравним с данными квартир в Санкт-Петербурге"
   ]
  },
  {
   "cell_type": "code",
   "execution_count": 247,
   "metadata": {},
   "outputs": [
    {
     "name": "stderr",
     "output_type": "stream",
     "text": [
      "/tmp/ipykernel_25/3852777734.py:2: SettingWithCopyWarning: \n",
      "A value is trying to be set on a copy of a slice from a DataFrame.\n",
      "Try using .loc[row_indexer,col_indexer] = value instead\n",
      "\n",
      "See the caveats in the documentation: https://pandas.pydata.org/pandas-docs/stable/user_guide/indexing.html#returning-a-view-versus-a-copy\n",
      "  bad_data['city_centers_km'] = bad_data['city_centers_nearest']/1000\n",
      "/tmp/ipykernel_25/3852777734.py:4: SettingWithCopyWarning: \n",
      "A value is trying to be set on a copy of a slice from a DataFrame.\n",
      "Try using .loc[row_indexer,col_indexer] = value instead\n",
      "\n",
      "See the caveats in the documentation: https://pandas.pydata.org/pandas-docs/stable/user_guide/indexing.html#returning-a-view-versus-a-copy\n",
      "  bad_data['city_centers_km']= bad_data['city_centers_km'].round(0)\n"
     ]
    },
    {
     "data": {
      "text/plain": [
       "<AxesSubplot:xlabel='city_centers_km'>"
      ]
     },
     "execution_count": 247,
     "metadata": {},
     "output_type": "execute_result"
    },
    {
     "data": {
      "image/png": "[encoded data removed]",
      "text/plain": [
       "<Figure size 1080x720 with 1 Axes>"
      ]
     },
     "metadata": {
      "needs_background": "light"
     },
     "output_type": "display_data"
    }
   ],
   "source": [
    "#Переведем метры в километры \n",
    "bad_data['city_centers_km'] = bad_data['city_centers_nearest']/1000\n",
    "#Округлим удаленность от центра до км. \n",
    "bad_data['city_centers_km']= bad_data['city_centers_km'].round(0)\n",
    "bad_data['city_centers_km']\n",
    "\n",
    "(bad_data\n",
    " .pivot_table(index = 'city_centers_km', values = 'meter_price', aggfunc = 'mean')\n",
    " .plot(grid = True, figsize = (15,10)))\n",
    "\n"
   ]
  },
  {
   "cell_type": "code",
   "execution_count": 248,
   "metadata": {},
   "outputs": [
    {
     "data": {
      "text/plain": [
       "<AxesSubplot:xlabel='city_centers_km'>"
      ]
     },
     "execution_count": 248,
     "metadata": {},
     "output_type": "execute_result"
    },
    {
     "data": {
      "image/png": "[encoded data removed]",
      "text/plain": [
       "<Figure size 1080x720 with 1 Axes>"
      ]
     },
     "metadata": {
      "needs_background": "light"
     },
     "output_type": "display_data"
    }
   ],
   "source": [
    "(bad_data\n",
    " .pivot_table(index = 'city_centers_km', values = 'meter_price', aggfunc = 'count')\n",
    " .plot(grid = True, figsize = (15,10)))"
   ]
  },
  {
   "cell_type": "markdown",
   "metadata": {},
   "source": [
    "Из графиков видно, что высокая цена на кв метр недвижимости по непроданным объектам недвижимости связана с единичными аномальными предложениями с завышенной ценой. \n",
    "Данные объекты не оказывают влияния на рыночно"
   ]
  },
  {
   "cell_type": "markdown",
   "metadata": {},
   "source": [
    "## Общий вывод"
   ]
  },
  {
   "cell_type": "markdown",
   "metadata": {},
   "source": [
    "### Описание данных\n",
    "В представленном архиве данных содержалась 23 699 строк объевлений о продаже недвижимости.\n",
    "В некоторых колонках отсутствовали данные, пропущенные количественные значения были заполнены медианными с применением категоризаций и частично, удалены.\n",
    "Далее, были категоризованы значения по географическому признаку и этажу объекта недвижимости.\n",
    "Далее, были удалены объекты недвижимости с аномально высоким сроком продажи (>365 дней). Итоговый датафрейм `good_data` составил 19 787 строк. \n",
    "\n",
    "### Итоги исследования\n",
    "Стоимость квадратного метра недвижимости подвержена влиянию различных характеристик в зависимости от локации: \n",
    "    1. Для Санкт-Петербурга наиболее значительная корреляция между стоимостью кв метра недвижимости заметна для параметров: площадь кухни, близость к центру города, общая площадь. (При этом, все три параметра имеют коэффицент корреляции ниже, чем 0,4) Для объявлений в центре Санкт-Петербурга (менее 7 км от центра города), коэффициенты корреляции еще ниже. Лидирующим показателем остается площадь кухни. Это можно объяснить тем, что в центре города стоимость кв метра базово высока за счет географического расположения и высокого спроса (варьируется между 150 000 и 200 000 р. за кв. м и, как следствие менее подвержена влиянию характеристик объектов недвижимости.)\n",
    "    2. Для объектов недвижимости за пределами Санкт-Петербурга, определяющим фактором является близость к центру. В этом случае к административному центру, то есть к Санкт-Петербургу. Также, отметим кореляцию с ценой квадртного метра площади кухни и наличия парков и прудов. Выборка объектов Ленинградской области подверждает гипотезу, самые высокие цены в г.Пушкин и дер Кудрово, самые низкие в г Выборг. \n",
    "    3. Стоимость квадратного метра недвижимости в Санкт-Петербурге и Лен Области непрерывно растет с 2015 года. Это соответствует общему тренду по стране. Предположу влияние двух факторов:\n",
    "        1. Большая инфляция отражается на стоимости недвижимости\n",
    "        2. Люди считают недвижимость лучшим способом сбережения средств, это обеспечивает повышенный спрос. \n",
    "\n"
   ]
  }
 ],
 "metadata": {
  "ExecuteTimeLog": [
   {
    "duration": 463,
    "start_time": "2022-06-05T06:25:24.258Z"
   },
   {
    "duration": 150,
    "start_time": "2022-06-05T06:25:24.724Z"
   },
   {
    "duration": 14,
    "start_time": "2022-06-05T06:25:24.876Z"
   },
   {
    "duration": 7,
    "start_time": "2022-06-05T06:25:24.892Z"
   },
   {
    "duration": 447,
    "start_time": "2022-06-05T06:25:24.901Z"
   },
   {
    "duration": 0,
    "start_time": "2022-06-05T06:25:25.362Z"
   },
   {
    "duration": 0,
    "start_time": "2022-06-05T06:25:25.363Z"
   },
   {
    "duration": 0,
    "start_time": "2022-06-05T06:25:25.364Z"
   },
   {
    "duration": 0,
    "start_time": "2022-06-05T06:25:25.366Z"
   },
   {
    "duration": 0,
    "start_time": "2022-06-05T06:25:25.367Z"
   },
   {
    "duration": 0,
    "start_time": "2022-06-05T06:25:25.369Z"
   },
   {
    "duration": 0,
    "start_time": "2022-06-05T06:25:25.370Z"
   },
   {
    "duration": 0,
    "start_time": "2022-06-05T06:25:25.371Z"
   },
   {
    "duration": 0,
    "start_time": "2022-06-05T06:25:25.373Z"
   },
   {
    "duration": 0,
    "start_time": "2022-06-05T06:25:25.374Z"
   },
   {
    "duration": 0,
    "start_time": "2022-06-05T06:25:25.376Z"
   },
   {
    "duration": 0,
    "start_time": "2022-06-05T06:25:25.378Z"
   },
   {
    "duration": 0,
    "start_time": "2022-06-05T06:25:25.379Z"
   },
   {
    "duration": 0,
    "start_time": "2022-06-05T06:25:25.381Z"
   },
   {
    "duration": 0,
    "start_time": "2022-06-05T06:25:25.382Z"
   },
   {
    "duration": 1,
    "start_time": "2022-06-05T06:25:25.383Z"
   },
   {
    "duration": 0,
    "start_time": "2022-06-05T06:25:25.385Z"
   },
   {
    "duration": 0,
    "start_time": "2022-06-05T06:25:25.386Z"
   },
   {
    "duration": 0,
    "start_time": "2022-06-05T06:25:25.388Z"
   },
   {
    "duration": 0,
    "start_time": "2022-06-05T06:25:25.389Z"
   },
   {
    "duration": 0,
    "start_time": "2022-06-05T06:25:25.390Z"
   },
   {
    "duration": 0,
    "start_time": "2022-06-05T06:25:25.391Z"
   },
   {
    "duration": 0,
    "start_time": "2022-06-05T06:25:25.392Z"
   },
   {
    "duration": 0,
    "start_time": "2022-06-05T06:25:25.394Z"
   },
   {
    "duration": 0,
    "start_time": "2022-06-05T06:25:25.395Z"
   },
   {
    "duration": 0,
    "start_time": "2022-06-05T06:25:25.395Z"
   },
   {
    "duration": 0,
    "start_time": "2022-06-05T06:25:25.396Z"
   },
   {
    "duration": 0,
    "start_time": "2022-06-05T06:25:25.397Z"
   },
   {
    "duration": 0,
    "start_time": "2022-06-05T06:25:25.399Z"
   },
   {
    "duration": 0,
    "start_time": "2022-06-05T06:25:25.399Z"
   },
   {
    "duration": 0,
    "start_time": "2022-06-05T06:25:25.400Z"
   },
   {
    "duration": 0,
    "start_time": "2022-06-05T06:25:25.401Z"
   },
   {
    "duration": 0,
    "start_time": "2022-06-05T06:25:25.402Z"
   },
   {
    "duration": 0,
    "start_time": "2022-06-05T06:25:25.459Z"
   },
   {
    "duration": 0,
    "start_time": "2022-06-05T06:25:25.461Z"
   },
   {
    "duration": 0,
    "start_time": "2022-06-05T06:25:25.462Z"
   },
   {
    "duration": 0,
    "start_time": "2022-06-05T06:25:25.464Z"
   },
   {
    "duration": 0,
    "start_time": "2022-06-05T06:25:25.465Z"
   },
   {
    "duration": 0,
    "start_time": "2022-06-05T06:25:25.467Z"
   },
   {
    "duration": 0,
    "start_time": "2022-06-05T06:25:25.468Z"
   },
   {
    "duration": 0,
    "start_time": "2022-06-05T06:25:25.469Z"
   },
   {
    "duration": 0,
    "start_time": "2022-06-05T06:25:25.471Z"
   },
   {
    "duration": 0,
    "start_time": "2022-06-05T06:25:25.472Z"
   },
   {
    "duration": 0,
    "start_time": "2022-06-05T06:25:25.473Z"
   },
   {
    "duration": 1,
    "start_time": "2022-06-05T06:25:25.474Z"
   },
   {
    "duration": 0,
    "start_time": "2022-06-05T06:25:25.479Z"
   },
   {
    "duration": 0,
    "start_time": "2022-06-05T06:25:25.480Z"
   },
   {
    "duration": 0,
    "start_time": "2022-06-05T06:25:25.481Z"
   },
   {
    "duration": 0,
    "start_time": "2022-06-05T06:25:25.482Z"
   },
   {
    "duration": 0,
    "start_time": "2022-06-05T06:25:25.483Z"
   },
   {
    "duration": 0,
    "start_time": "2022-06-05T06:25:25.484Z"
   },
   {
    "duration": 0,
    "start_time": "2022-06-05T06:25:25.485Z"
   },
   {
    "duration": 0,
    "start_time": "2022-06-05T06:25:25.486Z"
   },
   {
    "duration": 60,
    "start_time": "2022-06-06T11:25:03.432Z"
   },
   {
    "duration": 436,
    "start_time": "2022-06-06T11:25:08.163Z"
   },
   {
    "duration": 372,
    "start_time": "2022-06-06T11:25:08.602Z"
   },
   {
    "duration": 18,
    "start_time": "2022-06-06T11:25:08.976Z"
   },
   {
    "duration": 5,
    "start_time": "2022-06-06T11:25:08.996Z"
   },
   {
    "duration": 704,
    "start_time": "2022-06-06T11:25:09.003Z"
   },
   {
    "duration": 23,
    "start_time": "2022-06-06T11:25:09.709Z"
   },
   {
    "duration": 25,
    "start_time": "2022-06-06T11:25:09.734Z"
   },
   {
    "duration": 4,
    "start_time": "2022-06-06T11:25:09.761Z"
   },
   {
    "duration": 22,
    "start_time": "2022-06-06T11:25:09.767Z"
   },
   {
    "duration": 172,
    "start_time": "2022-06-06T11:25:09.792Z"
   },
   {
    "duration": 22,
    "start_time": "2022-06-06T11:25:09.966Z"
   },
   {
    "duration": 175,
    "start_time": "2022-06-06T11:25:09.991Z"
   },
   {
    "duration": 32,
    "start_time": "2022-06-06T11:25:10.168Z"
   },
   {
    "duration": 28,
    "start_time": "2022-06-06T11:25:10.202Z"
   },
   {
    "duration": 164,
    "start_time": "2022-06-06T11:25:10.231Z"
   },
   {
    "duration": 157,
    "start_time": "2022-06-06T11:25:10.396Z"
   },
   {
    "duration": 7,
    "start_time": "2022-06-06T11:25:10.554Z"
   },
   {
    "duration": 22,
    "start_time": "2022-06-06T11:25:10.562Z"
   },
   {
    "duration": 52,
    "start_time": "2022-06-06T11:25:10.586Z"
   },
   {
    "duration": 15,
    "start_time": "2022-06-06T11:25:10.640Z"
   },
   {
    "duration": 60,
    "start_time": "2022-06-06T11:25:10.657Z"
   },
   {
    "duration": 49,
    "start_time": "2022-06-06T11:25:10.718Z"
   },
   {
    "duration": 8,
    "start_time": "2022-06-06T11:25:10.768Z"
   },
   {
    "duration": 19,
    "start_time": "2022-06-06T11:25:10.778Z"
   },
   {
    "duration": 9,
    "start_time": "2022-06-06T11:25:10.798Z"
   },
   {
    "duration": 10,
    "start_time": "2022-06-06T11:25:10.809Z"
   },
   {
    "duration": 17,
    "start_time": "2022-06-06T11:25:10.821Z"
   },
   {
    "duration": 9,
    "start_time": "2022-06-06T11:25:10.842Z"
   },
   {
    "duration": 16,
    "start_time": "2022-06-06T11:25:10.853Z"
   },
   {
    "duration": 10,
    "start_time": "2022-06-06T11:25:10.870Z"
   },
   {
    "duration": 24,
    "start_time": "2022-06-06T11:25:10.881Z"
   },
   {
    "duration": 176,
    "start_time": "2022-06-06T11:25:10.907Z"
   },
   {
    "duration": 9,
    "start_time": "2022-06-06T11:25:11.085Z"
   },
   {
    "duration": 36,
    "start_time": "2022-06-06T11:25:11.096Z"
   },
   {
    "duration": 14,
    "start_time": "2022-06-06T11:25:11.135Z"
   },
   {
    "duration": 100,
    "start_time": "2022-06-06T11:25:11.151Z"
   },
   {
    "duration": 12,
    "start_time": "2022-06-06T11:25:11.253Z"
   },
   {
    "duration": 71,
    "start_time": "2022-06-06T11:25:11.268Z"
   },
   {
    "duration": 19,
    "start_time": "2022-06-06T11:25:11.340Z"
   },
   {
    "duration": 77,
    "start_time": "2022-06-06T11:25:11.361Z"
   },
   {
    "duration": 15,
    "start_time": "2022-06-06T11:25:11.441Z"
   },
   {
    "duration": 71,
    "start_time": "2022-06-06T11:25:11.458Z"
   },
   {
    "duration": 36,
    "start_time": "2022-06-06T11:25:11.531Z"
   },
   {
    "duration": 6,
    "start_time": "2022-06-06T11:25:11.569Z"
   },
   {
    "duration": 735,
    "start_time": "2022-06-06T11:25:11.626Z"
   },
   {
    "duration": 6,
    "start_time": "2022-06-06T11:25:12.363Z"
   },
   {
    "duration": 86,
    "start_time": "2022-06-06T11:25:12.370Z"
   },
   {
    "duration": 478,
    "start_time": "2022-06-06T11:25:12.458Z"
   },
   {
    "duration": 311,
    "start_time": "2022-06-06T11:25:12.939Z"
   },
   {
    "duration": 108,
    "start_time": "2022-06-06T11:25:13.252Z"
   },
   {
    "duration": 164,
    "start_time": "2022-06-06T11:25:13.362Z"
   },
   {
    "duration": 275,
    "start_time": "2022-06-06T11:25:13.528Z"
   },
   {
    "duration": 262,
    "start_time": "2022-06-06T11:25:13.804Z"
   },
   {
    "duration": 244,
    "start_time": "2022-06-06T11:25:14.068Z"
   },
   {
    "duration": 60,
    "start_time": "2022-06-06T11:25:14.314Z"
   },
   {
    "duration": 280,
    "start_time": "2022-06-06T11:25:14.376Z"
   },
   {
    "duration": 259,
    "start_time": "2022-06-06T11:25:14.659Z"
   },
   {
    "duration": 257,
    "start_time": "2022-06-06T11:25:14.925Z"
   },
   {
    "duration": 50,
    "start_time": "2022-06-07T04:56:55.956Z"
   },
   {
    "duration": 412,
    "start_time": "2022-06-07T04:57:07.145Z"
   },
   {
    "duration": 317,
    "start_time": "2022-06-07T04:57:07.560Z"
   },
   {
    "duration": 13,
    "start_time": "2022-06-07T04:57:07.878Z"
   },
   {
    "duration": 4,
    "start_time": "2022-06-07T04:57:07.892Z"
   },
   {
    "duration": 523,
    "start_time": "2022-06-07T04:57:07.898Z"
   },
   {
    "duration": 12,
    "start_time": "2022-06-07T04:57:08.426Z"
   },
   {
    "duration": 21,
    "start_time": "2022-06-07T04:57:08.439Z"
   },
   {
    "duration": 3,
    "start_time": "2022-06-07T04:57:08.462Z"
   },
   {
    "duration": 10,
    "start_time": "2022-06-07T04:57:08.466Z"
   },
   {
    "duration": 142,
    "start_time": "2022-06-07T04:57:08.477Z"
   },
   {
    "duration": 14,
    "start_time": "2022-06-07T04:57:08.626Z"
   },
   {
    "duration": 152,
    "start_time": "2022-06-07T04:57:08.642Z"
   },
   {
    "duration": 35,
    "start_time": "2022-06-07T04:57:08.795Z"
   },
   {
    "duration": 7,
    "start_time": "2022-06-07T04:57:08.833Z"
   },
   {
    "duration": 139,
    "start_time": "2022-06-07T04:57:08.841Z"
   },
   {
    "duration": 125,
    "start_time": "2022-06-07T04:57:08.981Z"
   },
   {
    "duration": 6,
    "start_time": "2022-06-07T04:57:09.107Z"
   },
   {
    "duration": 6,
    "start_time": "2022-06-07T04:57:09.127Z"
   },
   {
    "duration": 8,
    "start_time": "2022-06-07T04:57:09.135Z"
   },
   {
    "duration": 9,
    "start_time": "2022-06-07T04:57:09.144Z"
   },
   {
    "duration": 32,
    "start_time": "2022-06-07T04:57:09.154Z"
   },
   {
    "duration": 51,
    "start_time": "2022-06-07T04:57:09.188Z"
   },
   {
    "duration": 7,
    "start_time": "2022-06-07T04:57:09.241Z"
   },
   {
    "duration": 16,
    "start_time": "2022-06-07T04:57:09.250Z"
   },
   {
    "duration": 23,
    "start_time": "2022-06-07T04:57:09.268Z"
   },
   {
    "duration": 10,
    "start_time": "2022-06-07T04:57:09.293Z"
   },
   {
    "duration": 28,
    "start_time": "2022-06-07T04:57:09.305Z"
   },
   {
    "duration": 8,
    "start_time": "2022-06-07T04:57:09.335Z"
   },
   {
    "duration": 6,
    "start_time": "2022-06-07T04:57:09.344Z"
   },
   {
    "duration": 8,
    "start_time": "2022-06-07T04:57:09.352Z"
   },
   {
    "duration": 5,
    "start_time": "2022-06-07T04:57:09.361Z"
   },
   {
    "duration": 165,
    "start_time": "2022-06-07T04:57:09.368Z"
   },
   {
    "duration": 8,
    "start_time": "2022-06-07T04:57:09.535Z"
   },
   {
    "duration": 10,
    "start_time": "2022-06-07T04:57:09.544Z"
   },
   {
    "duration": 7,
    "start_time": "2022-06-07T04:57:09.556Z"
   },
   {
    "duration": 26,
    "start_time": "2022-06-07T04:57:09.564Z"
   },
   {
    "duration": 44,
    "start_time": "2022-06-07T04:57:09.591Z"
   },
   {
    "duration": 14,
    "start_time": "2022-06-07T04:57:09.637Z"
   },
   {
    "duration": 14,
    "start_time": "2022-06-07T04:57:09.652Z"
   },
   {
    "duration": 17,
    "start_time": "2022-06-07T04:57:09.668Z"
   },
   {
    "duration": 6,
    "start_time": "2022-06-07T04:57:09.688Z"
   },
   {
    "duration": 32,
    "start_time": "2022-06-07T04:57:09.695Z"
   },
   {
    "duration": 17,
    "start_time": "2022-06-07T04:57:09.729Z"
   },
   {
    "duration": 5,
    "start_time": "2022-06-07T04:57:09.747Z"
   },
   {
    "duration": 320,
    "start_time": "2022-06-07T04:57:09.754Z"
   },
   {
    "duration": 4,
    "start_time": "2022-06-07T04:57:10.075Z"
   },
   {
    "duration": 29,
    "start_time": "2022-06-07T04:57:10.081Z"
   },
   {
    "duration": 162,
    "start_time": "2022-06-07T04:57:10.112Z"
   },
   {
    "duration": 116,
    "start_time": "2022-06-07T04:57:10.275Z"
   },
   {
    "duration": 47,
    "start_time": "2022-06-07T04:57:10.393Z"
   },
   {
    "duration": 113,
    "start_time": "2022-06-07T04:57:10.441Z"
   },
   {
    "duration": 211,
    "start_time": "2022-06-07T04:57:10.555Z"
   },
   {
    "duration": 14,
    "start_time": "2022-06-07T04:57:10.767Z"
   },
   {
    "duration": 216,
    "start_time": "2022-06-07T04:57:10.782Z"
   },
   {
    "duration": 222,
    "start_time": "2022-06-07T04:57:11.000Z"
   },
   {
    "duration": 52,
    "start_time": "2022-06-07T04:57:11.224Z"
   },
   {
    "duration": 199,
    "start_time": "2022-06-07T04:57:11.278Z"
   },
   {
    "duration": 211,
    "start_time": "2022-06-07T04:57:11.478Z"
   },
   {
    "duration": 216,
    "start_time": "2022-06-07T04:57:11.691Z"
   },
   {
    "duration": 56,
    "start_time": "2022-06-07T04:59:34.581Z"
   },
   {
    "duration": 7,
    "start_time": "2022-06-07T04:59:58.928Z"
   },
   {
    "duration": 7,
    "start_time": "2022-06-07T05:02:16.510Z"
   },
   {
    "duration": 14,
    "start_time": "2022-06-07T05:04:28.608Z"
   },
   {
    "duration": 16,
    "start_time": "2022-06-07T05:05:05.697Z"
   },
   {
    "duration": 187,
    "start_time": "2022-06-07T05:05:55.626Z"
   },
   {
    "duration": 237,
    "start_time": "2022-06-07T05:06:19.630Z"
   },
   {
    "duration": 188,
    "start_time": "2022-06-07T05:06:30.728Z"
   },
   {
    "duration": 14,
    "start_time": "2022-06-07T05:09:14.488Z"
   },
   {
    "duration": 372,
    "start_time": "2022-06-07T05:09:20.691Z"
   },
   {
    "duration": 551,
    "start_time": "2022-06-07T05:10:37.956Z"
   },
   {
    "duration": 877,
    "start_time": "2022-06-07T05:10:55.609Z"
   },
   {
    "duration": 579,
    "start_time": "2022-06-07T05:25:29.187Z"
   },
   {
    "duration": 613,
    "start_time": "2022-06-07T05:26:00.792Z"
   },
   {
    "duration": 204,
    "start_time": "2022-06-07T05:27:40.754Z"
   },
   {
    "duration": 203,
    "start_time": "2022-06-07T05:27:51.573Z"
   },
   {
    "duration": 519,
    "start_time": "2022-06-07T05:28:47.662Z"
   },
   {
    "duration": 56,
    "start_time": "2022-06-08T06:35:54.994Z"
   },
   {
    "duration": 445,
    "start_time": "2022-06-08T06:36:02.500Z"
   },
   {
    "duration": 349,
    "start_time": "2022-06-08T06:36:02.947Z"
   },
   {
    "duration": 14,
    "start_time": "2022-06-08T06:36:03.297Z"
   },
   {
    "duration": 4,
    "start_time": "2022-06-08T06:36:03.313Z"
   },
   {
    "duration": 548,
    "start_time": "2022-06-08T06:36:03.319Z"
   },
   {
    "duration": 14,
    "start_time": "2022-06-08T06:36:03.869Z"
   },
   {
    "duration": 49,
    "start_time": "2022-06-08T06:36:03.885Z"
   },
   {
    "duration": 4,
    "start_time": "2022-06-08T06:36:03.935Z"
   },
   {
    "duration": 14,
    "start_time": "2022-06-08T06:36:03.941Z"
   },
   {
    "duration": 138,
    "start_time": "2022-06-08T06:36:03.957Z"
   },
   {
    "duration": 14,
    "start_time": "2022-06-08T06:36:04.097Z"
   },
   {
    "duration": 171,
    "start_time": "2022-06-08T06:36:04.112Z"
   },
   {
    "duration": 29,
    "start_time": "2022-06-08T06:36:04.285Z"
   },
   {
    "duration": 10,
    "start_time": "2022-06-08T06:36:04.329Z"
   },
   {
    "duration": 153,
    "start_time": "2022-06-08T06:36:04.340Z"
   },
   {
    "duration": 136,
    "start_time": "2022-06-08T06:36:04.494Z"
   },
   {
    "duration": 5,
    "start_time": "2022-06-08T06:36:04.631Z"
   },
   {
    "duration": 24,
    "start_time": "2022-06-08T06:36:04.638Z"
   },
   {
    "duration": 6,
    "start_time": "2022-06-08T06:36:04.664Z"
   },
   {
    "duration": 11,
    "start_time": "2022-06-08T06:36:04.672Z"
   },
   {
    "duration": 36,
    "start_time": "2022-06-08T06:36:04.685Z"
   },
   {
    "duration": 35,
    "start_time": "2022-06-08T06:36:04.723Z"
   },
   {
    "duration": 8,
    "start_time": "2022-06-08T06:36:04.759Z"
   },
   {
    "duration": 30,
    "start_time": "2022-06-08T06:36:04.769Z"
   },
   {
    "duration": 10,
    "start_time": "2022-06-08T06:36:04.801Z"
   },
   {
    "duration": 21,
    "start_time": "2022-06-08T06:36:04.813Z"
   },
   {
    "duration": 18,
    "start_time": "2022-06-08T06:36:04.835Z"
   },
   {
    "duration": 9,
    "start_time": "2022-06-08T06:36:04.855Z"
   },
   {
    "duration": 13,
    "start_time": "2022-06-08T06:36:04.866Z"
   },
   {
    "duration": 15,
    "start_time": "2022-06-08T06:36:04.881Z"
   },
   {
    "duration": 30,
    "start_time": "2022-06-08T06:36:04.897Z"
   },
   {
    "duration": 158,
    "start_time": "2022-06-08T06:36:04.929Z"
   },
   {
    "duration": 23,
    "start_time": "2022-06-08T06:36:05.089Z"
   },
   {
    "duration": 7,
    "start_time": "2022-06-08T06:36:05.126Z"
   },
   {
    "duration": 8,
    "start_time": "2022-06-08T06:36:05.135Z"
   },
   {
    "duration": 8,
    "start_time": "2022-06-08T06:36:05.144Z"
   },
   {
    "duration": 29,
    "start_time": "2022-06-08T06:36:05.154Z"
   },
   {
    "duration": 10,
    "start_time": "2022-06-08T06:36:05.184Z"
   },
   {
    "duration": 44,
    "start_time": "2022-06-08T06:36:05.196Z"
   },
   {
    "duration": 19,
    "start_time": "2022-06-08T06:36:05.241Z"
   },
   {
    "duration": 18,
    "start_time": "2022-06-08T06:36:05.265Z"
   },
   {
    "duration": 10,
    "start_time": "2022-06-08T06:36:05.284Z"
   },
   {
    "duration": 35,
    "start_time": "2022-06-08T06:36:05.295Z"
   },
   {
    "duration": 15,
    "start_time": "2022-06-08T06:36:05.331Z"
   },
   {
    "duration": 7,
    "start_time": "2022-06-08T06:36:05.347Z"
   },
   {
    "duration": 362,
    "start_time": "2022-06-08T06:36:05.355Z"
   },
   {
    "duration": 9,
    "start_time": "2022-06-08T06:36:05.719Z"
   },
   {
    "duration": 39,
    "start_time": "2022-06-08T06:36:05.730Z"
   },
   {
    "duration": 188,
    "start_time": "2022-06-08T06:36:05.771Z"
   },
   {
    "duration": 136,
    "start_time": "2022-06-08T06:36:05.961Z"
   },
   {
    "duration": 52,
    "start_time": "2022-06-08T06:36:06.099Z"
   },
   {
    "duration": 157,
    "start_time": "2022-06-08T06:36:06.152Z"
   },
   {
    "duration": 269,
    "start_time": "2022-06-08T06:36:06.311Z"
   },
   {
    "duration": 563,
    "start_time": "2022-06-08T06:36:06.582Z"
   },
   {
    "duration": 16,
    "start_time": "2022-06-08T06:36:07.147Z"
   },
   {
    "duration": 249,
    "start_time": "2022-06-08T06:36:07.164Z"
   },
   {
    "duration": 203,
    "start_time": "2022-06-08T06:36:07.414Z"
   },
   {
    "duration": 53,
    "start_time": "2022-06-08T06:36:07.619Z"
   },
   {
    "duration": 195,
    "start_time": "2022-06-08T06:36:07.673Z"
   },
   {
    "duration": 218,
    "start_time": "2022-06-08T06:36:07.870Z"
   },
   {
    "duration": 296,
    "start_time": "2022-06-08T06:36:08.090Z"
   },
   {
    "duration": 557,
    "start_time": "2022-06-08T06:36:08.388Z"
   },
   {
    "duration": 218,
    "start_time": "2022-06-08T06:37:17.708Z"
   },
   {
    "duration": 123,
    "start_time": "2022-06-08T06:39:46.507Z"
   },
   {
    "duration": 111,
    "start_time": "2022-06-08T06:39:56.117Z"
   },
   {
    "duration": 99,
    "start_time": "2022-06-08T06:40:33.871Z"
   },
   {
    "duration": 3,
    "start_time": "2022-06-08T06:40:51.130Z"
   },
   {
    "duration": 315,
    "start_time": "2022-06-08T06:41:24.529Z"
   },
   {
    "duration": 16,
    "start_time": "2022-06-08T06:41:32.031Z"
   },
   {
    "duration": 46,
    "start_time": "2022-06-08T06:41:42.072Z"
   },
   {
    "duration": 97,
    "start_time": "2022-06-08T06:43:03.132Z"
   },
   {
    "duration": 27,
    "start_time": "2022-06-08T06:45:04.450Z"
   },
   {
    "duration": 24,
    "start_time": "2022-06-08T06:45:15.784Z"
   },
   {
    "duration": 15,
    "start_time": "2022-06-08T06:45:21.017Z"
   },
   {
    "duration": 3,
    "start_time": "2022-06-08T06:45:59.254Z"
   },
   {
    "duration": 131,
    "start_time": "2022-06-08T06:45:59.259Z"
   },
   {
    "duration": 16,
    "start_time": "2022-06-08T06:45:59.391Z"
   },
   {
    "duration": 5,
    "start_time": "2022-06-08T06:45:59.409Z"
   },
   {
    "duration": 170,
    "start_time": "2022-06-08T06:45:59.415Z"
   },
   {
    "duration": 12,
    "start_time": "2022-06-08T06:45:59.587Z"
   },
   {
    "duration": 45,
    "start_time": "2022-06-08T06:45:59.600Z"
   },
   {
    "duration": 4,
    "start_time": "2022-06-08T06:45:59.646Z"
   },
   {
    "duration": 12,
    "start_time": "2022-06-08T06:45:59.652Z"
   },
   {
    "duration": 130,
    "start_time": "2022-06-08T06:45:59.666Z"
   },
   {
    "duration": 13,
    "start_time": "2022-06-08T06:45:59.829Z"
   },
   {
    "duration": 142,
    "start_time": "2022-06-08T06:45:59.844Z"
   },
   {
    "duration": 26,
    "start_time": "2022-06-08T06:45:59.988Z"
   },
   {
    "duration": 18,
    "start_time": "2022-06-08T06:46:00.016Z"
   },
   {
    "duration": 166,
    "start_time": "2022-06-08T06:46:00.037Z"
   },
   {
    "duration": 139,
    "start_time": "2022-06-08T06:46:00.205Z"
   },
   {
    "duration": 6,
    "start_time": "2022-06-08T06:46:00.345Z"
   },
   {
    "duration": 38,
    "start_time": "2022-06-08T06:46:00.353Z"
   },
   {
    "duration": 27,
    "start_time": "2022-06-08T06:46:00.392Z"
   },
   {
    "duration": 23,
    "start_time": "2022-06-08T06:46:00.420Z"
   },
   {
    "duration": 51,
    "start_time": "2022-06-08T06:46:00.444Z"
   },
   {
    "duration": 35,
    "start_time": "2022-06-08T06:46:00.496Z"
   },
   {
    "duration": 6,
    "start_time": "2022-06-08T06:46:00.533Z"
   },
   {
    "duration": 27,
    "start_time": "2022-06-08T06:46:00.541Z"
   },
   {
    "duration": 33,
    "start_time": "2022-06-08T06:46:00.570Z"
   },
   {
    "duration": 24,
    "start_time": "2022-06-08T06:46:00.607Z"
   },
   {
    "duration": 31,
    "start_time": "2022-06-08T06:46:00.633Z"
   },
   {
    "duration": 20,
    "start_time": "2022-06-08T06:46:00.666Z"
   },
   {
    "duration": 29,
    "start_time": "2022-06-08T06:46:00.688Z"
   },
   {
    "duration": 22,
    "start_time": "2022-06-08T06:46:00.719Z"
   },
   {
    "duration": 24,
    "start_time": "2022-06-08T06:46:00.743Z"
   },
   {
    "duration": 167,
    "start_time": "2022-06-08T06:46:00.769Z"
   },
   {
    "duration": 7,
    "start_time": "2022-06-08T06:46:00.937Z"
   },
   {
    "duration": 22,
    "start_time": "2022-06-08T06:46:00.945Z"
   },
   {
    "duration": 12,
    "start_time": "2022-06-08T06:46:00.968Z"
   },
   {
    "duration": 28,
    "start_time": "2022-06-08T06:46:00.982Z"
   },
   {
    "duration": 10,
    "start_time": "2022-06-08T06:46:01.012Z"
   },
   {
    "duration": 32,
    "start_time": "2022-06-08T06:46:01.024Z"
   },
   {
    "duration": 10,
    "start_time": "2022-06-08T06:46:01.058Z"
   },
   {
    "duration": 14,
    "start_time": "2022-06-08T06:46:01.070Z"
   },
   {
    "duration": 22,
    "start_time": "2022-06-08T06:46:01.086Z"
   },
   {
    "duration": 30,
    "start_time": "2022-06-08T06:46:01.109Z"
   },
   {
    "duration": 12,
    "start_time": "2022-06-08T06:46:01.141Z"
   },
   {
    "duration": 20,
    "start_time": "2022-06-08T06:46:01.154Z"
   },
   {
    "duration": 0,
    "start_time": "2022-06-08T06:46:01.177Z"
   },
   {
    "duration": 0,
    "start_time": "2022-06-08T06:46:01.178Z"
   },
   {
    "duration": 0,
    "start_time": "2022-06-08T06:46:01.179Z"
   },
   {
    "duration": 0,
    "start_time": "2022-06-08T06:46:01.180Z"
   },
   {
    "duration": 0,
    "start_time": "2022-06-08T06:46:01.181Z"
   },
   {
    "duration": 0,
    "start_time": "2022-06-08T06:46:01.181Z"
   },
   {
    "duration": 0,
    "start_time": "2022-06-08T06:46:01.183Z"
   },
   {
    "duration": 0,
    "start_time": "2022-06-08T06:46:01.184Z"
   },
   {
    "duration": 0,
    "start_time": "2022-06-08T06:46:01.185Z"
   },
   {
    "duration": 0,
    "start_time": "2022-06-08T06:46:01.185Z"
   },
   {
    "duration": 0,
    "start_time": "2022-06-08T06:46:01.187Z"
   },
   {
    "duration": 0,
    "start_time": "2022-06-08T06:46:01.188Z"
   },
   {
    "duration": 0,
    "start_time": "2022-06-08T06:46:01.188Z"
   },
   {
    "duration": 0,
    "start_time": "2022-06-08T06:46:01.190Z"
   },
   {
    "duration": 0,
    "start_time": "2022-06-08T06:46:01.191Z"
   },
   {
    "duration": 0,
    "start_time": "2022-06-08T06:46:01.192Z"
   },
   {
    "duration": 0,
    "start_time": "2022-06-08T06:46:01.193Z"
   },
   {
    "duration": 0,
    "start_time": "2022-06-08T06:46:01.194Z"
   },
   {
    "duration": 0,
    "start_time": "2022-06-08T06:46:01.195Z"
   },
   {
    "duration": 20,
    "start_time": "2022-06-08T06:49:02.637Z"
   },
   {
    "duration": 35,
    "start_time": "2022-06-08T07:00:07.686Z"
   },
   {
    "duration": 15,
    "start_time": "2022-06-08T07:00:21.529Z"
   },
   {
    "duration": 2,
    "start_time": "2022-06-08T07:00:43.390Z"
   },
   {
    "duration": 108,
    "start_time": "2022-06-08T07:00:43.406Z"
   },
   {
    "duration": 13,
    "start_time": "2022-06-08T07:00:43.526Z"
   },
   {
    "duration": 5,
    "start_time": "2022-06-08T07:00:43.540Z"
   },
   {
    "duration": 163,
    "start_time": "2022-06-08T07:00:43.546Z"
   },
   {
    "duration": 25,
    "start_time": "2022-06-08T07:00:43.711Z"
   },
   {
    "duration": 23,
    "start_time": "2022-06-08T07:00:43.737Z"
   },
   {
    "duration": 3,
    "start_time": "2022-06-08T07:00:43.762Z"
   },
   {
    "duration": 11,
    "start_time": "2022-06-08T07:00:43.767Z"
   },
   {
    "duration": 236,
    "start_time": "2022-06-08T07:00:43.779Z"
   },
   {
    "duration": 18,
    "start_time": "2022-06-08T07:00:44.017Z"
   },
   {
    "duration": 179,
    "start_time": "2022-06-08T07:00:44.037Z"
   },
   {
    "duration": 33,
    "start_time": "2022-06-08T07:00:44.217Z"
   },
   {
    "duration": 6,
    "start_time": "2022-06-08T07:00:44.251Z"
   },
   {
    "duration": 147,
    "start_time": "2022-06-08T07:00:44.260Z"
   },
   {
    "duration": 136,
    "start_time": "2022-06-08T07:00:44.409Z"
   },
   {
    "duration": 5,
    "start_time": "2022-06-08T07:00:44.547Z"
   },
   {
    "duration": 6,
    "start_time": "2022-06-08T07:00:44.554Z"
   },
   {
    "duration": 10,
    "start_time": "2022-06-08T07:00:44.562Z"
   },
   {
    "duration": 15,
    "start_time": "2022-06-08T07:00:44.573Z"
   },
   {
    "duration": 49,
    "start_time": "2022-06-08T07:00:44.590Z"
   },
   {
    "duration": 33,
    "start_time": "2022-06-08T07:00:44.640Z"
   },
   {
    "duration": 7,
    "start_time": "2022-06-08T07:00:44.675Z"
   },
   {
    "duration": 19,
    "start_time": "2022-06-08T07:00:44.684Z"
   },
   {
    "duration": 23,
    "start_time": "2022-06-08T07:00:44.705Z"
   },
   {
    "duration": 9,
    "start_time": "2022-06-08T07:00:44.729Z"
   },
   {
    "duration": 16,
    "start_time": "2022-06-08T07:00:44.740Z"
   },
   {
    "duration": 10,
    "start_time": "2022-06-08T07:00:44.757Z"
   },
   {
    "duration": 29,
    "start_time": "2022-06-08T07:00:44.768Z"
   },
   {
    "duration": 37,
    "start_time": "2022-06-08T07:00:44.799Z"
   },
   {
    "duration": 45,
    "start_time": "2022-06-08T07:00:44.838Z"
   },
   {
    "duration": 151,
    "start_time": "2022-06-08T07:00:44.886Z"
   },
   {
    "duration": 8,
    "start_time": "2022-06-08T07:00:45.038Z"
   },
   {
    "duration": 60,
    "start_time": "2022-06-08T07:00:45.047Z"
   },
   {
    "duration": 60,
    "start_time": "2022-06-08T07:00:45.108Z"
   },
   {
    "duration": 7,
    "start_time": "2022-06-08T07:00:45.169Z"
   },
   {
    "duration": 11,
    "start_time": "2022-06-08T07:00:45.177Z"
   },
   {
    "duration": 7,
    "start_time": "2022-06-08T07:00:45.190Z"
   },
   {
    "duration": 33,
    "start_time": "2022-06-08T07:00:45.198Z"
   },
   {
    "duration": 10,
    "start_time": "2022-06-08T07:00:45.233Z"
   },
   {
    "duration": 13,
    "start_time": "2022-06-08T07:00:45.244Z"
   },
   {
    "duration": 18,
    "start_time": "2022-06-08T07:00:45.261Z"
   },
   {
    "duration": 19,
    "start_time": "2022-06-08T07:00:45.281Z"
   },
   {
    "duration": 27,
    "start_time": "2022-06-08T07:00:45.302Z"
   },
   {
    "duration": 28,
    "start_time": "2022-06-08T07:00:45.331Z"
   },
   {
    "duration": 23,
    "start_time": "2022-06-08T07:00:45.361Z"
   },
   {
    "duration": 265,
    "start_time": "2022-06-08T07:00:45.386Z"
   },
   {
    "duration": 7,
    "start_time": "2022-06-08T07:00:45.653Z"
   },
   {
    "duration": 54,
    "start_time": "2022-06-08T07:00:45.662Z"
   },
   {
    "duration": 195,
    "start_time": "2022-06-08T07:00:45.718Z"
   },
   {
    "duration": 125,
    "start_time": "2022-06-08T07:00:45.914Z"
   },
   {
    "duration": 45,
    "start_time": "2022-06-08T07:00:46.041Z"
   },
   {
    "duration": 14,
    "start_time": "2022-06-08T07:00:46.088Z"
   },
   {
    "duration": 0,
    "start_time": "2022-06-08T07:00:46.103Z"
   },
   {
    "duration": 0,
    "start_time": "2022-06-08T07:00:46.105Z"
   },
   {
    "duration": 0,
    "start_time": "2022-06-08T07:00:46.106Z"
   },
   {
    "duration": 0,
    "start_time": "2022-06-08T07:00:46.107Z"
   },
   {
    "duration": 0,
    "start_time": "2022-06-08T07:00:46.108Z"
   },
   {
    "duration": 0,
    "start_time": "2022-06-08T07:00:46.109Z"
   },
   {
    "duration": 0,
    "start_time": "2022-06-08T07:00:46.127Z"
   },
   {
    "duration": 0,
    "start_time": "2022-06-08T07:00:46.128Z"
   },
   {
    "duration": 0,
    "start_time": "2022-06-08T07:00:46.130Z"
   },
   {
    "duration": 0,
    "start_time": "2022-06-08T07:00:46.130Z"
   },
   {
    "duration": 25,
    "start_time": "2022-06-08T07:01:45.630Z"
   },
   {
    "duration": 4,
    "start_time": "2022-06-08T07:01:49.921Z"
   },
   {
    "duration": 127,
    "start_time": "2022-06-08T07:01:49.927Z"
   },
   {
    "duration": 13,
    "start_time": "2022-06-08T07:01:50.056Z"
   },
   {
    "duration": 5,
    "start_time": "2022-06-08T07:01:50.070Z"
   },
   {
    "duration": 173,
    "start_time": "2022-06-08T07:01:50.077Z"
   },
   {
    "duration": 11,
    "start_time": "2022-06-08T07:01:50.252Z"
   },
   {
    "duration": 22,
    "start_time": "2022-06-08T07:01:50.265Z"
   },
   {
    "duration": 4,
    "start_time": "2022-06-08T07:01:50.288Z"
   },
   {
    "duration": 35,
    "start_time": "2022-06-08T07:01:50.293Z"
   },
   {
    "duration": 206,
    "start_time": "2022-06-08T07:01:50.329Z"
   },
   {
    "duration": 12,
    "start_time": "2022-06-08T07:01:50.538Z"
   },
   {
    "duration": 155,
    "start_time": "2022-06-08T07:01:50.552Z"
   },
   {
    "duration": 39,
    "start_time": "2022-06-08T07:01:50.709Z"
   },
   {
    "duration": 8,
    "start_time": "2022-06-08T07:01:50.750Z"
   },
   {
    "duration": 154,
    "start_time": "2022-06-08T07:01:50.759Z"
   },
   {
    "duration": 150,
    "start_time": "2022-06-08T07:01:50.915Z"
   },
   {
    "duration": 17,
    "start_time": "2022-06-08T07:01:51.067Z"
   },
   {
    "duration": 22,
    "start_time": "2022-06-08T07:01:51.085Z"
   },
   {
    "duration": 14,
    "start_time": "2022-06-08T07:01:51.108Z"
   },
   {
    "duration": 15,
    "start_time": "2022-06-08T07:01:51.124Z"
   },
   {
    "duration": 50,
    "start_time": "2022-06-08T07:01:51.140Z"
   },
   {
    "duration": 63,
    "start_time": "2022-06-08T07:01:51.192Z"
   },
   {
    "duration": 11,
    "start_time": "2022-06-08T07:01:51.257Z"
   },
   {
    "duration": 26,
    "start_time": "2022-06-08T07:01:51.270Z"
   },
   {
    "duration": 8,
    "start_time": "2022-06-08T07:01:51.298Z"
   },
   {
    "duration": 29,
    "start_time": "2022-06-08T07:01:51.308Z"
   },
   {
    "duration": 17,
    "start_time": "2022-06-08T07:01:51.338Z"
   },
   {
    "duration": 9,
    "start_time": "2022-06-08T07:01:51.357Z"
   },
   {
    "duration": 5,
    "start_time": "2022-06-08T07:01:51.369Z"
   },
   {
    "duration": 11,
    "start_time": "2022-06-08T07:01:51.376Z"
   },
   {
    "duration": 6,
    "start_time": "2022-06-08T07:01:51.389Z"
   },
   {
    "duration": 188,
    "start_time": "2022-06-08T07:01:51.397Z"
   },
   {
    "duration": 9,
    "start_time": "2022-06-08T07:01:51.587Z"
   },
   {
    "duration": 12,
    "start_time": "2022-06-08T07:01:51.598Z"
   },
   {
    "duration": 37,
    "start_time": "2022-06-08T07:01:51.612Z"
   },
   {
    "duration": 7,
    "start_time": "2022-06-08T07:01:51.651Z"
   },
   {
    "duration": 9,
    "start_time": "2022-06-08T07:01:51.660Z"
   },
   {
    "duration": 8,
    "start_time": "2022-06-08T07:01:51.671Z"
   },
   {
    "duration": 71,
    "start_time": "2022-06-08T07:01:51.681Z"
   },
   {
    "duration": 13,
    "start_time": "2022-06-08T07:01:51.754Z"
   },
   {
    "duration": 14,
    "start_time": "2022-06-08T07:01:51.769Z"
   },
   {
    "duration": 43,
    "start_time": "2022-06-08T07:01:51.785Z"
   },
   {
    "duration": 22,
    "start_time": "2022-06-08T07:01:51.830Z"
   },
   {
    "duration": 9,
    "start_time": "2022-06-08T07:01:51.854Z"
   },
   {
    "duration": 4,
    "start_time": "2022-06-08T07:01:51.865Z"
   },
   {
    "duration": 15,
    "start_time": "2022-06-08T07:01:51.871Z"
   },
   {
    "duration": 318,
    "start_time": "2022-06-08T07:01:51.888Z"
   },
   {
    "duration": 5,
    "start_time": "2022-06-08T07:01:52.207Z"
   },
   {
    "duration": 37,
    "start_time": "2022-06-08T07:01:52.213Z"
   },
   {
    "duration": 182,
    "start_time": "2022-06-08T07:01:52.251Z"
   },
   {
    "duration": 126,
    "start_time": "2022-06-08T07:01:52.434Z"
   },
   {
    "duration": 49,
    "start_time": "2022-06-08T07:01:52.562Z"
   },
   {
    "duration": 19,
    "start_time": "2022-06-08T07:01:52.626Z"
   },
   {
    "duration": 225,
    "start_time": "2022-06-08T07:01:52.646Z"
   },
   {
    "duration": 676,
    "start_time": "2022-06-08T07:01:52.872Z"
   },
   {
    "duration": 20,
    "start_time": "2022-06-08T07:01:53.550Z"
   },
   {
    "duration": 248,
    "start_time": "2022-06-08T07:01:53.572Z"
   },
   {
    "duration": 224,
    "start_time": "2022-06-08T07:01:53.827Z"
   },
   {
    "duration": 48,
    "start_time": "2022-06-08T07:01:54.053Z"
   },
   {
    "duration": 214,
    "start_time": "2022-06-08T07:01:54.103Z"
   },
   {
    "duration": 225,
    "start_time": "2022-06-08T07:01:54.319Z"
   },
   {
    "duration": 225,
    "start_time": "2022-06-08T07:01:54.546Z"
   },
   {
    "duration": 566,
    "start_time": "2022-06-08T07:01:54.773Z"
   },
   {
    "duration": 14,
    "start_time": "2022-06-08T07:07:22.300Z"
   },
   {
    "duration": 18,
    "start_time": "2022-06-08T07:07:30.989Z"
   },
   {
    "duration": 9,
    "start_time": "2022-06-08T07:09:34.985Z"
   },
   {
    "duration": 196,
    "start_time": "2022-06-08T07:11:41.334Z"
   },
   {
    "duration": 3,
    "start_time": "2022-06-08T07:13:32.327Z"
   },
   {
    "duration": 195,
    "start_time": "2022-06-08T07:14:10.447Z"
   },
   {
    "duration": 11,
    "start_time": "2022-06-08T07:15:02.629Z"
   },
   {
    "duration": 291,
    "start_time": "2022-06-08T07:17:38.745Z"
   },
   {
    "duration": 229,
    "start_time": "2022-06-08T07:18:26.127Z"
   }
  ],
  "kernelspec": {
   "display_name": "Python 3 (ipykernel)",
   "language": "python",
   "name": "python3"
  },
  "language_info": {
   "codemirror_mode": {
    "name": "ipython",
    "version": 3
   },
   "file_extension": ".py",
   "mimetype": "text/x-python",
   "name": "python",
   "nbconvert_exporter": "python",
   "pygments_lexer": "ipython3",
   "version": "3.9.5"
  },
  "toc": {
   "base_numbering": 1,
   "nav_menu": {},
   "number_sections": true,
   "sideBar": true,
   "skip_h1_title": true,
   "title_cell": "Содержание",
   "title_sidebar": "Contents",
   "toc_cell": true,
   "toc_position": {},
   "toc_section_display": true,
   "toc_window_display": true
  }
 },
 "nbformat": 4,
 "nbformat_minor": 4
}
