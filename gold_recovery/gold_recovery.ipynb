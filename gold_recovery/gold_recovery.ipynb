{
 "cells": [
  {
   "cell_type": "markdown",
   "id": "32af8512",
   "metadata": {},
   "source": [
    "# Восстановление золота из руды"
   ]
  },
  {
   "cell_type": "markdown",
   "id": "ea4380a6",
   "metadata": {},
   "source": [
    "В нашем распоряжении данные золотодобывающей компании. \n",
    "Необходимо разработать модель машинного обучения, которая сможет прогнозировать успешность восстановления золота из руды, исходя из имеющихся данных, чтобы в дальнейшем искать точки оптимизации бизнеса. \n",
    "План работ: \n",
    "1. Выполнить предобработку данных\n",
    "2. Выполнить статистический анализ\n",
    "3. Спроектировать модель машинного обучения. "
   ]
  },
  {
   "cell_type": "markdown",
   "id": "9f47c008",
   "metadata": {},
   "source": [
    "# Предобработка данных"
   ]
  },
  {
   "cell_type": "code",
   "execution_count": 1,
   "id": "59f117be",
   "metadata": {},
   "outputs": [],
   "source": [
    "import pandas as pd\n",
    "from sklearn.metrics import mean_absolute_error\n",
    "import numpy as np\n",
    "from matplotlib import pyplot as plt\n",
    "from sklearn.model_selection import train_test_split\n",
    "from sklearn.preprocessing import StandardScaler\n",
    "from sklearn.linear_model import LinearRegression\n",
    "from sklearn.ensemble import RandomForestRegressor\n",
    "from sklearn.tree import DecisionTreeRegressor\n",
    "from sklearn.model_selection import cross_val_score\n",
    "from sklearn.metrics import r2_score\n",
    "from sklearn.metrics import make_scorer\n",
    "from sklearn.dummy import DummyRegressor"
   ]
  },
  {
   "cell_type": "code",
   "execution_count": 2,
   "id": "52cdd83a",
   "metadata": {},
   "outputs": [],
   "source": [
    "data = pd.read_csv('/datasets/gold_recovery_full_new.csv')\n",
    "test_data = pd.read_csv('/datasets/gold_recovery_test_new.csv')\n",
    "train_data = pd.read_csv('/datasets/gold_recovery_train_new.csv')"
   ]
  },
  {
   "cell_type": "code",
   "execution_count": 3,
   "id": "a0036afa",
   "metadata": {},
   "outputs": [
    {
     "name": "stdout",
     "output_type": "stream",
     "text": [
      "<class 'pandas.core.frame.DataFrame'>\n",
      "RangeIndex: 5290 entries, 0 to 5289\n",
      "Data columns (total 53 columns):\n",
      " #   Column                                      Non-Null Count  Dtype  \n",
      "---  ------                                      --------------  -----  \n",
      " 0   date                                        5290 non-null   object \n",
      " 1   primary_cleaner.input.sulfate               5286 non-null   float64\n",
      " 2   primary_cleaner.input.depressant            5285 non-null   float64\n",
      " 3   primary_cleaner.input.feed_size             5290 non-null   float64\n",
      " 4   primary_cleaner.input.xanthate              5286 non-null   float64\n",
      " 5   primary_cleaner.state.floatbank8_a_air      5290 non-null   float64\n",
      " 6   primary_cleaner.state.floatbank8_a_level    5290 non-null   float64\n",
      " 7   primary_cleaner.state.floatbank8_b_air      5290 non-null   float64\n",
      " 8   primary_cleaner.state.floatbank8_b_level    5290 non-null   float64\n",
      " 9   primary_cleaner.state.floatbank8_c_air      5290 non-null   float64\n",
      " 10  primary_cleaner.state.floatbank8_c_level    5290 non-null   float64\n",
      " 11  primary_cleaner.state.floatbank8_d_air      5290 non-null   float64\n",
      " 12  primary_cleaner.state.floatbank8_d_level    5290 non-null   float64\n",
      " 13  rougher.input.feed_ag                       5290 non-null   float64\n",
      " 14  rougher.input.feed_pb                       5290 non-null   float64\n",
      " 15  rougher.input.feed_rate                     5287 non-null   float64\n",
      " 16  rougher.input.feed_size                     5289 non-null   float64\n",
      " 17  rougher.input.feed_sol                      5269 non-null   float64\n",
      " 18  rougher.input.feed_au                       5290 non-null   float64\n",
      " 19  rougher.input.floatbank10_sulfate           5285 non-null   float64\n",
      " 20  rougher.input.floatbank10_xanthate          5290 non-null   float64\n",
      " 21  rougher.input.floatbank11_sulfate           5282 non-null   float64\n",
      " 22  rougher.input.floatbank11_xanthate          5265 non-null   float64\n",
      " 23  rougher.state.floatbank10_a_air             5290 non-null   float64\n",
      " 24  rougher.state.floatbank10_a_level           5290 non-null   float64\n",
      " 25  rougher.state.floatbank10_b_air             5290 non-null   float64\n",
      " 26  rougher.state.floatbank10_b_level           5290 non-null   float64\n",
      " 27  rougher.state.floatbank10_c_air             5290 non-null   float64\n",
      " 28  rougher.state.floatbank10_c_level           5290 non-null   float64\n",
      " 29  rougher.state.floatbank10_d_air             5290 non-null   float64\n",
      " 30  rougher.state.floatbank10_d_level           5290 non-null   float64\n",
      " 31  rougher.state.floatbank10_e_air             5290 non-null   float64\n",
      " 32  rougher.state.floatbank10_e_level           5290 non-null   float64\n",
      " 33  rougher.state.floatbank10_f_air             5290 non-null   float64\n",
      " 34  rougher.state.floatbank10_f_level           5290 non-null   float64\n",
      " 35  secondary_cleaner.state.floatbank2_a_air    5287 non-null   float64\n",
      " 36  secondary_cleaner.state.floatbank2_a_level  5290 non-null   float64\n",
      " 37  secondary_cleaner.state.floatbank2_b_air    5288 non-null   float64\n",
      " 38  secondary_cleaner.state.floatbank2_b_level  5290 non-null   float64\n",
      " 39  secondary_cleaner.state.floatbank3_a_air    5281 non-null   float64\n",
      " 40  secondary_cleaner.state.floatbank3_a_level  5290 non-null   float64\n",
      " 41  secondary_cleaner.state.floatbank3_b_air    5290 non-null   float64\n",
      " 42  secondary_cleaner.state.floatbank3_b_level  5290 non-null   float64\n",
      " 43  secondary_cleaner.state.floatbank4_a_air    5290 non-null   float64\n",
      " 44  secondary_cleaner.state.floatbank4_a_level  5290 non-null   float64\n",
      " 45  secondary_cleaner.state.floatbank4_b_air    5290 non-null   float64\n",
      " 46  secondary_cleaner.state.floatbank4_b_level  5290 non-null   float64\n",
      " 47  secondary_cleaner.state.floatbank5_a_air    5290 non-null   float64\n",
      " 48  secondary_cleaner.state.floatbank5_a_level  5290 non-null   float64\n",
      " 49  secondary_cleaner.state.floatbank5_b_air    5290 non-null   float64\n",
      " 50  secondary_cleaner.state.floatbank5_b_level  5290 non-null   float64\n",
      " 51  secondary_cleaner.state.floatbank6_a_air    5290 non-null   float64\n",
      " 52  secondary_cleaner.state.floatbank6_a_level  5290 non-null   float64\n",
      "dtypes: float64(52), object(1)\n",
      "memory usage: 2.1+ MB\n"
     ]
    },
    {
     "data": {
      "text/plain": [
       "None"
      ]
     },
     "metadata": {},
     "output_type": "display_data"
    }
   ],
   "source": [
    "display(test_data.info())"
   ]
  },
  {
   "cell_type": "code",
   "execution_count": 4,
   "id": "35396538",
   "metadata": {
    "scrolled": true
   },
   "outputs": [
    {
     "name": "stdout",
     "output_type": "stream",
     "text": [
      "<class 'pandas.core.frame.DataFrame'>\n",
      "RangeIndex: 14149 entries, 0 to 14148\n",
      "Data columns (total 87 columns):\n",
      " #   Column                                              Non-Null Count  Dtype  \n",
      "---  ------                                              --------------  -----  \n",
      " 0   date                                                14149 non-null  object \n",
      " 1   final.output.concentrate_ag                         14148 non-null  float64\n",
      " 2   final.output.concentrate_pb                         14148 non-null  float64\n",
      " 3   final.output.concentrate_sol                        13938 non-null  float64\n",
      " 4   final.output.concentrate_au                         14149 non-null  float64\n",
      " 5   final.output.recovery                               14149 non-null  float64\n",
      " 6   final.output.tail_ag                                14149 non-null  float64\n",
      " 7   final.output.tail_pb                                14049 non-null  float64\n",
      " 8   final.output.tail_sol                               14144 non-null  float64\n",
      " 9   final.output.tail_au                                14149 non-null  float64\n",
      " 10  primary_cleaner.input.sulfate                       14129 non-null  float64\n",
      " 11  primary_cleaner.input.depressant                    14117 non-null  float64\n",
      " 12  primary_cleaner.input.feed_size                     14149 non-null  float64\n",
      " 13  primary_cleaner.input.xanthate                      14049 non-null  float64\n",
      " 14  primary_cleaner.output.concentrate_ag               14149 non-null  float64\n",
      " 15  primary_cleaner.output.concentrate_pb               14063 non-null  float64\n",
      " 16  primary_cleaner.output.concentrate_sol              13863 non-null  float64\n",
      " 17  primary_cleaner.output.concentrate_au               14149 non-null  float64\n",
      " 18  primary_cleaner.output.tail_ag                      14148 non-null  float64\n",
      " 19  primary_cleaner.output.tail_pb                      14134 non-null  float64\n",
      " 20  primary_cleaner.output.tail_sol                     14103 non-null  float64\n",
      " 21  primary_cleaner.output.tail_au                      14149 non-null  float64\n",
      " 22  primary_cleaner.state.floatbank8_a_air              14145 non-null  float64\n",
      " 23  primary_cleaner.state.floatbank8_a_level            14148 non-null  float64\n",
      " 24  primary_cleaner.state.floatbank8_b_air              14145 non-null  float64\n",
      " 25  primary_cleaner.state.floatbank8_b_level            14148 non-null  float64\n",
      " 26  primary_cleaner.state.floatbank8_c_air              14147 non-null  float64\n",
      " 27  primary_cleaner.state.floatbank8_c_level            14148 non-null  float64\n",
      " 28  primary_cleaner.state.floatbank8_d_air              14146 non-null  float64\n",
      " 29  primary_cleaner.state.floatbank8_d_level            14148 non-null  float64\n",
      " 30  rougher.calculation.sulfate_to_au_concentrate       14148 non-null  float64\n",
      " 31  rougher.calculation.floatbank10_sulfate_to_au_feed  14148 non-null  float64\n",
      " 32  rougher.calculation.floatbank11_sulfate_to_au_feed  14148 non-null  float64\n",
      " 33  rougher.calculation.au_pb_ratio                     14149 non-null  float64\n",
      " 34  rougher.input.feed_ag                               14149 non-null  float64\n",
      " 35  rougher.input.feed_pb                               14049 non-null  float64\n",
      " 36  rougher.input.feed_rate                             14141 non-null  float64\n",
      " 37  rougher.input.feed_size                             14005 non-null  float64\n",
      " 38  rougher.input.feed_sol                              14071 non-null  float64\n",
      " 39  rougher.input.feed_au                               14149 non-null  float64\n",
      " 40  rougher.input.floatbank10_sulfate                   14120 non-null  float64\n",
      " 41  rougher.input.floatbank10_xanthate                  14141 non-null  float64\n",
      " 42  rougher.input.floatbank11_sulfate                   14113 non-null  float64\n",
      " 43  rougher.input.floatbank11_xanthate                  13721 non-null  float64\n",
      " 44  rougher.output.concentrate_ag                       14149 non-null  float64\n",
      " 45  rougher.output.concentrate_pb                       14149 non-null  float64\n",
      " 46  rougher.output.concentrate_sol                      14127 non-null  float64\n",
      " 47  rougher.output.concentrate_au                       14149 non-null  float64\n",
      " 48  rougher.output.recovery                             14149 non-null  float64\n",
      " 49  rougher.output.tail_ag                              14148 non-null  float64\n",
      " 50  rougher.output.tail_pb                              14149 non-null  float64\n",
      " 51  rougher.output.tail_sol                             14149 non-null  float64\n",
      " 52  rougher.output.tail_au                              14149 non-null  float64\n",
      " 53  rougher.state.floatbank10_a_air                     14148 non-null  float64\n",
      " 54  rougher.state.floatbank10_a_level                   14148 non-null  float64\n",
      " 55  rougher.state.floatbank10_b_air                     14148 non-null  float64\n",
      " 56  rougher.state.floatbank10_b_level                   14148 non-null  float64\n",
      " 57  rougher.state.floatbank10_c_air                     14148 non-null  float64\n",
      " 58  rougher.state.floatbank10_c_level                   14148 non-null  float64\n",
      " 59  rougher.state.floatbank10_d_air                     14149 non-null  float64\n",
      " 60  rougher.state.floatbank10_d_level                   14149 non-null  float64\n",
      " 61  rougher.state.floatbank10_e_air                     13713 non-null  float64\n",
      " 62  rougher.state.floatbank10_e_level                   14149 non-null  float64\n",
      " 63  rougher.state.floatbank10_f_air                     14149 non-null  float64\n",
      " 64  rougher.state.floatbank10_f_level                   14149 non-null  float64\n",
      " 65  secondary_cleaner.output.tail_ag                    14147 non-null  float64\n",
      " 66  secondary_cleaner.output.tail_pb                    14139 non-null  float64\n",
      " 67  secondary_cleaner.output.tail_sol                   12544 non-null  float64\n",
      " 68  secondary_cleaner.output.tail_au                    14149 non-null  float64\n",
      " 69  secondary_cleaner.state.floatbank2_a_air            13932 non-null  float64\n",
      " 70  secondary_cleaner.state.floatbank2_a_level          14148 non-null  float64\n",
      " 71  secondary_cleaner.state.floatbank2_b_air            14128 non-null  float64\n",
      " 72  secondary_cleaner.state.floatbank2_b_level          14148 non-null  float64\n",
      " 73  secondary_cleaner.state.floatbank3_a_air            14145 non-null  float64\n",
      " 74  secondary_cleaner.state.floatbank3_a_level          14148 non-null  float64\n",
      " 75  secondary_cleaner.state.floatbank3_b_air            14148 non-null  float64\n",
      " 76  secondary_cleaner.state.floatbank3_b_level          14148 non-null  float64\n",
      " 77  secondary_cleaner.state.floatbank4_a_air            14143 non-null  float64\n",
      " 78  secondary_cleaner.state.floatbank4_a_level          14148 non-null  float64\n",
      " 79  secondary_cleaner.state.floatbank4_b_air            14148 non-null  float64\n",
      " 80  secondary_cleaner.state.floatbank4_b_level          14148 non-null  float64\n",
      " 81  secondary_cleaner.state.floatbank5_a_air            14148 non-null  float64\n",
      " 82  secondary_cleaner.state.floatbank5_a_level          14148 non-null  float64\n",
      " 83  secondary_cleaner.state.floatbank5_b_air            14148 non-null  float64\n",
      " 84  secondary_cleaner.state.floatbank5_b_level          14148 non-null  float64\n",
      " 85  secondary_cleaner.state.floatbank6_a_air            14147 non-null  float64\n",
      " 86  secondary_cleaner.state.floatbank6_a_level          14148 non-null  float64\n",
      "dtypes: float64(86), object(1)\n",
      "memory usage: 9.4+ MB\n"
     ]
    },
    {
     "data": {
      "text/plain": [
       "None"
      ]
     },
     "metadata": {},
     "output_type": "display_data"
    }
   ],
   "source": [
    "display(train_data.info())"
   ]
  },
  {
   "cell_type": "code",
   "execution_count": 5,
   "id": "c914758c",
   "metadata": {},
   "outputs": [
    {
     "name": "stdout",
     "output_type": "stream",
     "text": [
      "<class 'pandas.core.frame.DataFrame'>\n",
      "RangeIndex: 19439 entries, 0 to 19438\n",
      "Data columns (total 87 columns):\n",
      " #   Column                                              Non-Null Count  Dtype  \n",
      "---  ------                                              --------------  -----  \n",
      " 0   date                                                19439 non-null  object \n",
      " 1   final.output.concentrate_ag                         19438 non-null  float64\n",
      " 2   final.output.concentrate_pb                         19438 non-null  float64\n",
      " 3   final.output.concentrate_sol                        19228 non-null  float64\n",
      " 4   final.output.concentrate_au                         19439 non-null  float64\n",
      " 5   final.output.recovery                               19439 non-null  float64\n",
      " 6   final.output.tail_ag                                19438 non-null  float64\n",
      " 7   final.output.tail_pb                                19338 non-null  float64\n",
      " 8   final.output.tail_sol                               19433 non-null  float64\n",
      " 9   final.output.tail_au                                19439 non-null  float64\n",
      " 10  primary_cleaner.input.sulfate                       19415 non-null  float64\n",
      " 11  primary_cleaner.input.depressant                    19402 non-null  float64\n",
      " 12  primary_cleaner.input.feed_size                     19439 non-null  float64\n",
      " 13  primary_cleaner.input.xanthate                      19335 non-null  float64\n",
      " 14  primary_cleaner.output.concentrate_ag               19439 non-null  float64\n",
      " 15  primary_cleaner.output.concentrate_pb               19323 non-null  float64\n",
      " 16  primary_cleaner.output.concentrate_sol              19069 non-null  float64\n",
      " 17  primary_cleaner.output.concentrate_au               19439 non-null  float64\n",
      " 18  primary_cleaner.output.tail_ag                      19435 non-null  float64\n",
      " 19  primary_cleaner.output.tail_pb                      19418 non-null  float64\n",
      " 20  primary_cleaner.output.tail_sol                     19377 non-null  float64\n",
      " 21  primary_cleaner.output.tail_au                      19439 non-null  float64\n",
      " 22  primary_cleaner.state.floatbank8_a_air              19435 non-null  float64\n",
      " 23  primary_cleaner.state.floatbank8_a_level            19438 non-null  float64\n",
      " 24  primary_cleaner.state.floatbank8_b_air              19435 non-null  float64\n",
      " 25  primary_cleaner.state.floatbank8_b_level            19438 non-null  float64\n",
      " 26  primary_cleaner.state.floatbank8_c_air              19437 non-null  float64\n",
      " 27  primary_cleaner.state.floatbank8_c_level            19438 non-null  float64\n",
      " 28  primary_cleaner.state.floatbank8_d_air              19436 non-null  float64\n",
      " 29  primary_cleaner.state.floatbank8_d_level            19438 non-null  float64\n",
      " 30  rougher.calculation.sulfate_to_au_concentrate       19437 non-null  float64\n",
      " 31  rougher.calculation.floatbank10_sulfate_to_au_feed  19437 non-null  float64\n",
      " 32  rougher.calculation.floatbank11_sulfate_to_au_feed  19437 non-null  float64\n",
      " 33  rougher.calculation.au_pb_ratio                     19439 non-null  float64\n",
      " 34  rougher.input.feed_ag                               19439 non-null  float64\n",
      " 35  rougher.input.feed_pb                               19339 non-null  float64\n",
      " 36  rougher.input.feed_rate                             19428 non-null  float64\n",
      " 37  rougher.input.feed_size                             19294 non-null  float64\n",
      " 38  rougher.input.feed_sol                              19340 non-null  float64\n",
      " 39  rougher.input.feed_au                               19439 non-null  float64\n",
      " 40  rougher.input.floatbank10_sulfate                   19405 non-null  float64\n",
      " 41  rougher.input.floatbank10_xanthate                  19431 non-null  float64\n",
      " 42  rougher.input.floatbank11_sulfate                   19395 non-null  float64\n",
      " 43  rougher.input.floatbank11_xanthate                  18986 non-null  float64\n",
      " 44  rougher.output.concentrate_ag                       19439 non-null  float64\n",
      " 45  rougher.output.concentrate_pb                       19439 non-null  float64\n",
      " 46  rougher.output.concentrate_sol                      19416 non-null  float64\n",
      " 47  rougher.output.concentrate_au                       19439 non-null  float64\n",
      " 48  rougher.output.recovery                             19439 non-null  float64\n",
      " 49  rougher.output.tail_ag                              19438 non-null  float64\n",
      " 50  rougher.output.tail_pb                              19439 non-null  float64\n",
      " 51  rougher.output.tail_sol                             19439 non-null  float64\n",
      " 52  rougher.output.tail_au                              19439 non-null  float64\n",
      " 53  rougher.state.floatbank10_a_air                     19438 non-null  float64\n",
      " 54  rougher.state.floatbank10_a_level                   19438 non-null  float64\n",
      " 55  rougher.state.floatbank10_b_air                     19438 non-null  float64\n",
      " 56  rougher.state.floatbank10_b_level                   19438 non-null  float64\n",
      " 57  rougher.state.floatbank10_c_air                     19438 non-null  float64\n",
      " 58  rougher.state.floatbank10_c_level                   19438 non-null  float64\n",
      " 59  rougher.state.floatbank10_d_air                     19439 non-null  float64\n",
      " 60  rougher.state.floatbank10_d_level                   19439 non-null  float64\n",
      " 61  rougher.state.floatbank10_e_air                     19003 non-null  float64\n",
      " 62  rougher.state.floatbank10_e_level                   19439 non-null  float64\n",
      " 63  rougher.state.floatbank10_f_air                     19439 non-null  float64\n",
      " 64  rougher.state.floatbank10_f_level                   19439 non-null  float64\n",
      " 65  secondary_cleaner.output.tail_ag                    19437 non-null  float64\n",
      " 66  secondary_cleaner.output.tail_pb                    19427 non-null  float64\n",
      " 67  secondary_cleaner.output.tail_sol                   17691 non-null  float64\n",
      " 68  secondary_cleaner.output.tail_au                    19439 non-null  float64\n",
      " 69  secondary_cleaner.state.floatbank2_a_air            19219 non-null  float64\n",
      " 70  secondary_cleaner.state.floatbank2_a_level          19438 non-null  float64\n",
      " 71  secondary_cleaner.state.floatbank2_b_air            19416 non-null  float64\n",
      " 72  secondary_cleaner.state.floatbank2_b_level          19438 non-null  float64\n",
      " 73  secondary_cleaner.state.floatbank3_a_air            19426 non-null  float64\n",
      " 74  secondary_cleaner.state.floatbank3_a_level          19438 non-null  float64\n",
      " 75  secondary_cleaner.state.floatbank3_b_air            19438 non-null  float64\n",
      " 76  secondary_cleaner.state.floatbank3_b_level          19438 non-null  float64\n",
      " 77  secondary_cleaner.state.floatbank4_a_air            19433 non-null  float64\n",
      " 78  secondary_cleaner.state.floatbank4_a_level          19438 non-null  float64\n",
      " 79  secondary_cleaner.state.floatbank4_b_air            19438 non-null  float64\n",
      " 80  secondary_cleaner.state.floatbank4_b_level          19438 non-null  float64\n",
      " 81  secondary_cleaner.state.floatbank5_a_air            19438 non-null  float64\n",
      " 82  secondary_cleaner.state.floatbank5_a_level          19438 non-null  float64\n",
      " 83  secondary_cleaner.state.floatbank5_b_air            19438 non-null  float64\n",
      " 84  secondary_cleaner.state.floatbank5_b_level          19438 non-null  float64\n",
      " 85  secondary_cleaner.state.floatbank6_a_air            19437 non-null  float64\n",
      " 86  secondary_cleaner.state.floatbank6_a_level          19438 non-null  float64\n",
      "dtypes: float64(86), object(1)\n",
      "memory usage: 12.9+ MB\n"
     ]
    },
    {
     "data": {
      "text/plain": [
       "None"
      ]
     },
     "metadata": {},
     "output_type": "display_data"
    }
   ],
   "source": [
    "display(data.info())"
   ]
  },
  {
   "cell_type": "markdown",
   "id": "c123df6f",
   "metadata": {},
   "source": [
    "Найдем колонки, недоступные в тестовых данных"
   ]
  },
  {
   "cell_type": "code",
   "execution_count": 6,
   "id": "916e0ca9",
   "metadata": {},
   "outputs": [],
   "source": [
    "columns_for_deleting = []\n",
    "for i in train_data.columns:\n",
    "    if i not in test_data.columns:\n",
    "        columns_for_deleting.append(i)"
   ]
  },
  {
   "cell_type": "markdown",
   "id": "fce1b01e",
   "metadata": {},
   "source": [
    "В тестовых данных не хватает выходных признаков для всех стадий обработки руды, а также расчетных характеристик для процесса флотации. \n",
    "\n",
    "Если я правильно понимаю условия задачи, то когда в реальных условиях будет работать модель, этих признаков тоже не будет.\n",
    "\n",
    "План:\n",
    "1. Добавим в тестовый датасет целевые признаки, которые смерджим из общего датасета по дате.\n",
    "2. Обучим модель на данных из обучающего датасета без отсутсвующих колонок"
   ]
  },
  {
   "cell_type": "markdown",
   "id": "950c9a27",
   "metadata": {},
   "source": [
    "Изменим тип данных в колонке `date`"
   ]
  },
  {
   "cell_type": "code",
   "execution_count": 7,
   "id": "09ab29d8",
   "metadata": {},
   "outputs": [],
   "source": [
    "data['date'] = pd.to_datetime(data['date'])\n",
    "test_data['date'] = pd.to_datetime(test_data['date'])\n",
    "train_data['date'] = pd.to_datetime(train_data['date'])"
   ]
  },
  {
   "cell_type": "markdown",
   "id": "54fc517c",
   "metadata": {},
   "source": [
    "Смерджим недостающие колонки."
   ]
  },
  {
   "cell_type": "code",
   "execution_count": 8,
   "id": "567d3535",
   "metadata": {},
   "outputs": [],
   "source": [
    "test_data = pd.merge_asof(\n",
    "    test_data.sort_values(by='date'),\n",
    "    data[['date', 'rougher.output.recovery', 'final.output.recovery']].sort_values(by='date'),\n",
    "    on = 'date'\n",
    ")"
   ]
  },
  {
   "cell_type": "markdown",
   "id": "27f2f35c",
   "metadata": {},
   "source": [
    "Заполним пропущенные значения случайными числами."
   ]
  },
  {
   "cell_type": "code",
   "execution_count": 9,
   "id": "f581e981",
   "metadata": {},
   "outputs": [],
   "source": [
    "def filling_nas(df):\n",
    "    for i in df:\n",
    "        try:\n",
    "            df[i] = df[i].fillna(\n",
    "        np.random.randint(df[i].min(), df[i].max())\n",
    "        )\n",
    "        except:\n",
    "            pass\n",
    "    return df\n",
    "data = filling_nas(data)\n",
    "train_data = filling_nas(train_data)\n",
    "test_data = filling_nas(test_data)"
   ]
  },
  {
   "cell_type": "markdown",
   "id": "a3e65e85",
   "metadata": {},
   "source": [
    "Проверим, верно ли рассчитана метрика `recovery` для обучающей выборки."
   ]
  },
  {
   "cell_type": "code",
   "execution_count": 10,
   "id": "6874c42b",
   "metadata": {},
   "outputs": [
    {
     "name": "stdout",
     "output_type": "stream",
     "text": [
      "значение MAE составляет 9.73512347450521e-15\n"
     ]
    },
    {
     "data": {
      "text/plain": [
       "True"
      ]
     },
     "execution_count": 10,
     "metadata": {},
     "output_type": "execute_result"
    }
   ],
   "source": [
    "c = train_data['rougher.output.concentrate_au']\n",
    "f = train_data['rougher.input.feed_au']\n",
    "t = train_data['rougher.output.tail_au']\n",
    "\n",
    "recovery = (c*(f-t))/(f*(c-t))*100\n",
    "print ('значение MAE составляет', mean_absolute_error(train_data['rougher.output.recovery'], recovery))\n",
    "all(round(recovery) == round(train_data['rougher.output.recovery']))"
   ]
  },
  {
   "cell_type": "markdown",
   "id": "8f43177e",
   "metadata": {},
   "source": [
    "### Вывод\n",
    "Метрика recovery для стадии флотации рассчитана верно, с точностью до одного процента."
   ]
  },
  {
   "cell_type": "markdown",
   "id": "da0de693",
   "metadata": {},
   "source": [
    "### Подготовка данных для обучения\n",
    "1. Разделим фреймы по признакам на целевые - target и нецелевые - features\n",
    "2. Разделим тренировочную выборку на обучающую и валидационную в пропорциях 3:1. \n",
    "3. Выполним масштабирование признаков. "
   ]
  },
  {
   "cell_type": "code",
   "execution_count": 11,
   "id": "f6f7b9e4",
   "metadata": {},
   "outputs": [],
   "source": [
    "columns_for_deleting.append('date')\n",
    "columns_for_deleting.append('rougher.output.recovery') \n",
    "columns_for_deleting.append('final.output.recovery')\n",
    "features_train = train_data.drop(columns = columns_for_deleting)\n",
    "target_train = train_data['final.output.recovery']\n",
    "target_rougher_train = train_data['rougher.output.recovery']\n",
    "\n",
    "\n",
    "features_test = test_data.drop(columns = ['date', 'rougher.output.recovery', 'final.output.recovery'])\n",
    "target_test = test_data['final.output.recovery']\n",
    "target_rougher_test = test_data['rougher.output.recovery']"
   ]
  },
  {
   "cell_type": "code",
   "execution_count": 12,
   "id": "6106fb7f",
   "metadata": {},
   "outputs": [
    {
     "name": "stdout",
     "output_type": "stream",
     "text": [
      "Размер тренировочной выборки: (10611, 52)\n",
      "Размер валидационной выборки: (3538, 52)\n"
     ]
    }
   ],
   "source": [
    "features_train, features_valid, target_train, target_valid = train_test_split(features_train, target_train, test_size = 0.25, random_state=12345)\n",
    "target_rougher_train, target_rougher_valid = train_test_split(target_rougher_train, test_size = 0.25, random_state=12345)\n",
    "print ('Размер тренировочной выборки:',features_train.shape)\n",
    "print ('Размер валидационной выборки:',features_valid.shape)"
   ]
  },
  {
   "cell_type": "markdown",
   "id": "922206d5",
   "metadata": {},
   "source": [
    "Данные подготовлены."
   ]
  },
  {
   "cell_type": "markdown",
   "id": "2a380284",
   "metadata": {},
   "source": [
    "## Анализ данных"
   ]
  },
  {
   "cell_type": "markdown",
   "id": "605f27f3",
   "metadata": {},
   "source": [
    "Исследуем, как менялась концентрация веществ (au, ag, pb) в зависимости от стадии обработки сырья. "
   ]
  },
  {
   "cell_type": "code",
   "execution_count": 13,
   "id": "88ece294",
   "metadata": {},
   "outputs": [
    {
     "data": {
      "image/png": "[encoded data removed]",
      "text/plain": [
       "<Figure size 720x720 with 1 Axes>"
      ]
     },
     "metadata": {
      "needs_background": "light"
     },
     "output_type": "display_data"
    }
   ],
   "source": [
    "stadies = ['флотация', 'первая очистка', 'вторая очистка']\n",
    "\n",
    "au = data[['rougher.output.concentrate_au', 'primary_cleaner.output.concentrate_au', 'final.output.concentrate_au']].median()\n",
    "pb = data[['rougher.output.concentrate_pb', 'primary_cleaner.output.concentrate_pb', 'final.output.concentrate_pb']].median()\n",
    "ag = data[['rougher.output.concentrate_ag', 'primary_cleaner.output.concentrate_ag', 'final.output.concentrate_ag']].median()\n",
    "sol = data[['rougher.output.concentrate_sol', 'primary_cleaner.output.concentrate_sol', 'final.output.concentrate_sol']].median()\n",
    "\n",
    "\n",
    "\n",
    "plt.figure(figsize = (10,10))\n",
    "plt.title('Концентрация веществ в зависимости от этапа обработки сырья')\n",
    "plt.grid()\n",
    "plt.ylabel('Концентрация,%')\n",
    "plt.plot(stadies, au)\n",
    "plt.plot(stadies, ag)\n",
    "plt.plot(stadies, pb)\n",
    "plt.plot(stadies, sol)\n",
    "plt.legend(['au', 'ag', 'pb', 'sol'])\n",
    "plt.show()"
   ]
  },
  {
   "cell_type": "markdown",
   "id": "b47fa300",
   "metadata": {},
   "source": [
    "Отметим, что возрастает концентрация золота на каждой стадии процесса. \n",
    "Заметно снижается уровень соли(?) после флотации.\n",
    "Серебро и свинец меняются незначительно. "
   ]
  },
  {
   "cell_type": "markdown",
   "id": "e6edab86",
   "metadata": {},
   "source": [
    "Исследуем изменение суммарных концентраций веществ в зависимости от стадии обработки сырья."
   ]
  },
  {
   "cell_type": "code",
   "execution_count": 14,
   "id": "0ec66065",
   "metadata": {},
   "outputs": [
    {
     "data": {
      "image/png": "[encoded data removed]",
      "text/plain": [
       "<Figure size 720x720 with 1 Axes>"
      ]
     },
     "metadata": {
      "needs_background": "light"
     },
     "output_type": "display_data"
    },
    {
     "data": {
      "image/png": "[encoded data removed]",
      "text/plain": [
       "<Figure size 720x720 with 1 Axes>"
      ]
     },
     "metadata": {
      "needs_background": "light"
     },
     "output_type": "display_data"
    },
    {
     "data": {
      "image/png": "[encoded data removed]",
      "text/plain": [
       "<Figure size 720x720 with 1 Axes>"
      ]
     },
     "metadata": {
      "needs_background": "light"
     },
     "output_type": "display_data"
    }
   ],
   "source": [
    "plt.figure(figsize = (10,10))\n",
    "plt.title('Суммарная концентрация веществ сырья')\n",
    "plt.grid()\n",
    "plt.xlabel('Концентрация,%')\n",
    "plt.hist(data['rougher.input.feed_au'] +\n",
    "    data['rougher.input.feed_ag'] +\n",
    "    data['rougher.input.feed_pb'] +\n",
    "    data['rougher.input.feed_sol'])\n",
    "plt.show()\n",
    "\n",
    "\n",
    "\n",
    "plt.figure(figsize = (10,10))\n",
    "plt.title('Суммарная концентрация веществ после флотации')\n",
    "plt.grid()\n",
    "plt.xlabel('Концентрация,%')\n",
    "plt.hist(data['rougher.output.concentrate_au']+\n",
    "    data['rougher.output.concentrate_ag']+\n",
    "    data['rougher.output.concentrate_pb']+\n",
    "    data['rougher.output.concentrate_sol'])\n",
    "plt.show()\n",
    "\n",
    "\n",
    "plt.figure(figsize = (10,10))\n",
    "plt.title('Суммарная концентрация веществ по итогам обработки')\n",
    "plt.grid()\n",
    "plt.xlabel('Концентрация,%')\n",
    "plt.hist(data['final.output.concentrate_au'] +\n",
    "    data['final.output.concentrate_ag'] +\n",
    "    data['final.output.concentrate_pb'] +\n",
    "    data['final.output.concentrate_sol'])\n",
    "plt.show()"
   ]
  },
  {
   "cell_type": "markdown",
   "id": "596f3d03",
   "metadata": {},
   "source": [
    "Из графика видим, что суммарная концентрация веществ падает с 70 до 62 по итогам первой ступени очистки, и повышается до 68 после второго этапа очистки. "
   ]
  },
  {
   "cell_type": "markdown",
   "id": "59ec0716",
   "metadata": {},
   "source": [
    "Сравним значения размеров гранул в тестовой и обучающей выборках. "
   ]
  },
  {
   "cell_type": "code",
   "execution_count": 15,
   "id": "fbe52dc2",
   "metadata": {},
   "outputs": [
    {
     "data": {
      "image/png": "[encoded data removed]",
      "text/plain": [
       "<Figure size 720x720 with 1 Axes>"
      ]
     },
     "metadata": {
      "needs_background": "light"
     },
     "output_type": "display_data"
    }
   ],
   "source": [
    "plt.figure(figsize = (10,10))\n",
    "plt.title('Сравнение размеров гранул в обучающей и тестовых выборках')\n",
    "plt.grid()\n",
    "plt.hist(test_data['rougher.input.feed_size'])\n",
    "plt.hist(train_data['rougher.input.feed_size'], alpha=0.5)\n",
    "plt.xlim(0,150)\n",
    "plt.legend(['test', 'train'])\n",
    "plt.show()"
   ]
  },
  {
   "cell_type": "markdown",
   "id": "f82a0861",
   "metadata": {},
   "source": [
    "Из графика видно, что размер гранул в обучающей и тестовых выборках находятся преимущественно в диапазоне 40-60. "
   ]
  },
  {
   "cell_type": "markdown",
   "id": "3cdf7943",
   "metadata": {},
   "source": [
    "Видим, что концентрация золота в руде растет с 20 до 45 процентов при прохождении сырья по стадиям. \n",
    "Концентрация солей(?) значительно падает после флотации, с 27 до 10 процентов. \n",
    "Концентрация серебра и свинца меняется незначительно."
   ]
  },
  {
   "cell_type": "markdown",
   "id": "a8bf5e71",
   "metadata": {},
   "source": [
    "## Обучение моделей"
   ]
  },
  {
   "cell_type": "markdown",
   "id": "0bcb708c",
   "metadata": {},
   "source": [
    "Задача представлет из себя задачу регрессии. \n",
    "Рассмотрим в качестве моделей рассмотрим LogisticRegression, RandomForestRegressor, Decision Tree Regression. \n",
    "Сравнивать их будем метрикой sMAPE"
   ]
  },
  {
   "cell_type": "markdown",
   "id": "85843ede",
   "metadata": {},
   "source": [
    "Напишем функцию, рассчитывающую значение sMAPE по корректным данным и данным, предсказанным моделью. "
   ]
  },
  {
   "cell_type": "code",
   "execution_count": 16,
   "id": "8134ceb7",
   "metadata": {},
   "outputs": [],
   "source": [
    "# Функция расчета sMAPE. y - настоящие значения, y_y - предсказанные моделью.\n",
    "def sMAPE (y, y_y):\n",
    "    total_sum = 0\n",
    "    diff = abs(y - y_y)\n",
    "    summ = ((abs(y)+abs(y_y))/2)\n",
    "    div = diff/summ\n",
    "    total_sum = sum(div) #.fillna(0))\n",
    "    smape = total_sum/len(y)*100\n",
    "    return smape"
   ]
  },
  {
   "cell_type": "code",
   "execution_count": 17,
   "id": "4e47c830",
   "metadata": {},
   "outputs": [],
   "source": [
    "smape_scorer = make_scorer(sMAPE)"
   ]
  },
  {
   "cell_type": "markdown",
   "id": "3214ea20",
   "metadata": {},
   "source": [
    "Рассмотрим различные модели регрессии и выберем наиболее подходящую с помощью кросс-валидации. \n",
    "Выбор осуществим с помощью кросс-валидации, используя метрику r2. \n",
    "\n",
    "\n",
    "Время выполнения работ моделью оставим вне фокуса внимания, так как модель, разрабатываемая в рамках проекта будет работать не с конечными клиентами, а для внутренних задач."
   ]
  },
  {
   "cell_type": "code",
   "execution_count": 18,
   "id": "4c6eca3a",
   "metadata": {},
   "outputs": [
    {
     "name": "stdout",
     "output_type": "stream",
     "text": [
      "7.046064179586902\n"
     ]
    }
   ],
   "source": [
    "model = RandomForestRegressor(random_state=12345)\n",
    "scores = cross_val_score(model, features_train,target_train,scoring = smape_scorer, cv = 5)\n",
    "print(scores.mean())"
   ]
  },
  {
   "cell_type": "code",
   "execution_count": 19,
   "id": "8af0212c",
   "metadata": {},
   "outputs": [
    {
     "name": "stdout",
     "output_type": "stream",
     "text": [
      "9.754121506716322\n"
     ]
    }
   ],
   "source": [
    "model = LinearRegression()\n",
    "scores = cross_val_score(model, features_train,target_rougher_train, scoring = smape_scorer, cv = 5)\n",
    "print(scores.mean())"
   ]
  },
  {
   "cell_type": "code",
   "execution_count": 187,
   "id": "3d96f0a5",
   "metadata": {},
   "outputs": [
    {
     "name": "stdout",
     "output_type": "stream",
     "text": [
      "7.709169798765592\n"
     ]
    }
   ],
   "source": [
    "model = DecisionTreeRegressor(random_state=12345)\n",
    "scores = cross_val_score(model, features_train,target_rougher_train, scoring = smape_scorer, cv = 10)\n",
    "print(scores.mean())"
   ]
  },
  {
   "cell_type": "markdown",
   "id": "4cf73175",
   "metadata": {},
   "source": [
    "Лучший результат в кросс-валидации дает модель RandomForestRegressor."
   ]
  },
  {
   "cell_type": "markdown",
   "id": "402b6906",
   "metadata": {},
   "source": [
    "Рассчитаем sMAPE для финального этапа и флотации."
   ]
  },
  {
   "cell_type": "code",
   "execution_count": 188,
   "id": "37cfe533",
   "metadata": {},
   "outputs": [],
   "source": [
    "model = RandomForestRegressor(random_state=12345)\n",
    "model.fit(features_train, target_train)\n",
    "predicted_values = model.predict(features_test)\n",
    "predicted_values = pd.Series(index = target_test.index, \n",
    "                            data = predicted_values)\n",
    "smape_final = sMAPE(target_test, predicted_values)"
   ]
  },
  {
   "cell_type": "code",
   "execution_count": 189,
   "id": "2367e9c4",
   "metadata": {},
   "outputs": [
    {
     "data": {
      "text/plain": [
       "9.706716353273567"
      ]
     },
     "execution_count": 189,
     "metadata": {},
     "output_type": "execute_result"
    }
   ],
   "source": [
    "smape_final"
   ]
  },
  {
   "cell_type": "code",
   "execution_count": 206,
   "id": "e51aa9d6",
   "metadata": {},
   "outputs": [],
   "source": [
    "model = DecisionTreeRegressor(random_state=12345, max_depth=4)\n",
    "model.fit(features_train, target_rougher_train)\n",
    "predicted_values = model.predict(features_test)\n",
    "predicted_values = pd.Series(index = target_rougher_test.index, \n",
    "                            data = predicted_values)\n",
    "smape_rougher = sMAPE(target_rougher_test, predicted_values)"
   ]
  },
  {
   "cell_type": "code",
   "execution_count": 207,
   "id": "8a8f5c29",
   "metadata": {},
   "outputs": [
    {
     "data": {
      "text/plain": [
       "10.6828236853316"
      ]
     },
     "execution_count": 207,
     "metadata": {},
     "output_type": "execute_result"
    }
   ],
   "source": [
    "smape_rougher"
   ]
  },
  {
   "cell_type": "markdown",
   "id": "8f4a3d35",
   "metadata": {},
   "source": [
    "Рассчитаем итоговый sMAPE"
   ]
  },
  {
   "cell_type": "code",
   "execution_count": 208,
   "id": "b564d0fb",
   "metadata": {},
   "outputs": [
    {
     "data": {
      "text/plain": [
       "9.950743186288076"
      ]
     },
     "execution_count": 208,
     "metadata": {},
     "output_type": "execute_result"
    }
   ],
   "source": [
    "smape_total = 0.25*smape_rougher + 0.75*smape_final\n",
    "smape_total"
   ]
  },
  {
   "cell_type": "markdown",
   "id": "b070ec46",
   "metadata": {},
   "source": [
    "Итоговый sMAPE составли 9,9"
   ]
  },
  {
   "cell_type": "code",
   "execution_count": 193,
   "id": "9b50c74b",
   "metadata": {},
   "outputs": [
    {
     "data": {
      "text/plain": [
       "10.310671182083752"
      ]
     },
     "execution_count": 193,
     "metadata": {},
     "output_type": "execute_result"
    }
   ],
   "source": [
    "model_dummy = DummyRegressor()\n",
    "model_dummy.fit(features_train, target_train)\n",
    "predicted_values = model_dummy.predict(features_test)\n",
    "smape_final_dummy = sMAPE(target_test, predicted_values)\n",
    "smape_final_dummy"
   ]
  },
  {
   "cell_type": "code",
   "execution_count": 194,
   "id": "742985db",
   "metadata": {},
   "outputs": [
    {
     "data": {
      "text/plain": [
       "10.280432924419216"
      ]
     },
     "execution_count": 194,
     "metadata": {},
     "output_type": "execute_result"
    }
   ],
   "source": [
    "model_dummy.fit(features_train, target_rougher_train)\n",
    "predicted_values = model_dummy.predict(features_test)\n",
    "smape_rougher_dummy = sMAPE(target_rougher_test, predicted_values)\n",
    "smape_rougher_dummy"
   ]
  },
  {
   "cell_type": "code",
   "execution_count": 195,
   "id": "a11551a5",
   "metadata": {},
   "outputs": [
    {
     "data": {
      "text/plain": [
       "10.303111617667618"
      ]
     },
     "execution_count": 195,
     "metadata": {},
     "output_type": "execute_result"
    }
   ],
   "source": [
    "smape_total_dummy = 0.75*smape_final_dummy + 0.25*smape_rougher_dummy\n",
    "smape_total_dummy"
   ]
  },
  {
   "cell_type": "markdown",
   "id": "b2300f54",
   "metadata": {},
   "source": [
    "sMAPE в dummy > sMAPE модели."
   ]
  },
  {
   "cell_type": "markdown",
   "id": "abe9ec3f",
   "metadata": {},
   "source": [
    "## Выводы\n",
    "#### Предобработка данных\n",
    "В нашем распоряжении оказались данные по 15 000 записей истории обработки золотой руды, разделенные на обучающую и тестовую выборки. \n",
    "В тестовой выборке отсутсвовали целевые признаки и выходные признаки сырья для каждого из этапов производства.\n",
    "Также, в ряде колонок не хватало значений. \n",
    "Предпринятые действия: \n",
    "1. Пропуски заполнены случайными значениями. \n",
    "2. Из обучающей выборки удалены колонки, отсутствующие в тестовой выборке, чтобы модель училась на том же объеме данных, на котором будет далее делать предсказания. \n",
    "3. В тестовую выборку добавлены целевые признаки, взятые из основной выборке по дате.\n",
    "\n",
    "#### Обучение моделей\n",
    "В качетсве решения задачи регресси были рассмотрены следующие модели: \n",
    "1. RandomForestRegressor\n",
    "2. DecisionTreeRegressor\n",
    "3. LinearRegression\n",
    "Лучшие результаты на обучающей выборке показала модель RandomForestRegressor. При этом, данная модель занимает больше времени, чем остальные, но с учетом того, что пользоваться результатом модели будет не конечный пользователь - выбрали данную модель. "
   ]
  }
 ],
 "metadata": {
  "ExecuteTimeLog": [
   {
    "duration": 2807,
    "start_time": "2022-08-19T09:38:55.654Z"
   },
   {
    "duration": 632,
    "start_time": "2022-08-19T09:38:58.463Z"
   },
   {
    "duration": 16,
    "start_time": "2022-08-19T09:38:59.096Z"
   },
   {
    "duration": 18,
    "start_time": "2022-08-19T09:38:59.114Z"
   },
   {
    "duration": 39,
    "start_time": "2022-08-19T09:38:59.134Z"
   },
   {
    "duration": 2,
    "start_time": "2022-08-19T09:38:59.175Z"
   },
   {
    "duration": 16,
    "start_time": "2022-08-19T09:38:59.179Z"
   },
   {
    "duration": 23,
    "start_time": "2022-08-19T09:38:59.197Z"
   },
   {
    "duration": 150,
    "start_time": "2022-08-19T09:38:59.222Z"
   },
   {
    "duration": 10,
    "start_time": "2022-08-19T09:38:59.375Z"
   },
   {
    "duration": 10,
    "start_time": "2022-08-19T09:38:59.387Z"
   },
   {
    "duration": 17,
    "start_time": "2022-08-19T09:38:59.399Z"
   },
   {
    "duration": 226,
    "start_time": "2022-08-19T09:38:59.418Z"
   },
   {
    "duration": 523,
    "start_time": "2022-08-19T09:38:59.646Z"
   },
   {
    "duration": 247,
    "start_time": "2022-08-19T09:39:00.171Z"
   },
   {
    "duration": 4,
    "start_time": "2022-08-19T09:39:00.420Z"
   },
   {
    "duration": 14,
    "start_time": "2022-08-19T09:39:00.426Z"
   },
   {
    "duration": 197183,
    "start_time": "2022-08-19T09:39:00.442Z"
   },
   {
    "duration": 1049,
    "start_time": "2022-08-19T09:42:17.627Z"
   }
  ],
  "kernelspec": {
   "display_name": "Python 3 (ipykernel)",
   "language": "python",
   "name": "python3"
  },
  "language_info": {
   "codemirror_mode": {
    "name": "ipython",
    "version": 3
   },
   "file_extension": ".py",
   "mimetype": "text/x-python",
   "name": "python",
   "nbconvert_exporter": "python",
   "pygments_lexer": "ipython3",
   "version": "3.9.5"
  },
  "toc": {
   "base_numbering": 1,
   "nav_menu": {},
   "number_sections": true,
   "sideBar": true,
   "skip_h1_title": true,
   "title_cell": "Table of Contents",
   "title_sidebar": "Contents",
   "toc_cell": false,
   "toc_position": {},
   "toc_section_display": true,
   "toc_window_display": false
  }
 },
 "nbformat": 4,
 "nbformat_minor": 5
}
