{
 "cells": [
  {
   "cell_type": "markdown",
   "id": "6c1d6c97",
   "metadata": {},
   "source": [
    "# Исследование надежности заемщиков."
   ]
  },
  {
   "cell_type": "markdown",
   "id": "a30e8779",
   "metadata": {},
   "source": [
    "# Шаг 1. Обзор данных"
   ]
  },
  {
   "cell_type": "code",
   "execution_count": 4,
   "id": "be304890",
   "metadata": {
    "scrolled": true
   },
   "outputs": [],
   "source": [
    "import pandas as pd"
   ]
  },
  {
   "cell_type": "code",
   "execution_count": 5,
   "id": "242706f6",
   "metadata": {},
   "outputs": [
    {
     "name": "stdout",
     "output_type": "stream",
     "text": [
      "<class 'pandas.core.frame.DataFrame'>\n",
      "RangeIndex: 21525 entries, 0 to 21524\n",
      "Data columns (total 12 columns):\n",
      " #   Column            Non-Null Count  Dtype  \n",
      "---  ------            --------------  -----  \n",
      " 0   children          21525 non-null  int64  \n",
      " 1   days_employed     19351 non-null  float64\n",
      " 2   dob_years         21525 non-null  int64  \n",
      " 3   education         21525 non-null  object \n",
      " 4   education_id      21525 non-null  int64  \n",
      " 5   family_status     21525 non-null  object \n",
      " 6   family_status_id  21525 non-null  int64  \n",
      " 7   gender            21525 non-null  object \n",
      " 8   income_type       21525 non-null  object \n",
      " 9   debt              21525 non-null  int64  \n",
      " 10  total_income      19351 non-null  float64\n",
      " 11  purpose           21525 non-null  object \n",
      "dtypes: float64(2), int64(5), object(5)\n",
      "memory usage: 2.0+ MB\n"
     ]
    }
   ],
   "source": [
    "data = pd.read_csv('/datasets/data.csv')\n",
    "data.info()"
   ]
  },
  {
   "cell_type": "markdown",
   "id": "bb0edbb3",
   "metadata": {},
   "source": [
    "Видим отсутствующие значения в количественных колонках `days_employed` (трудовой стаж), `total_income` (ежемесячный доход). <p>Обратим внимание, что количество значений в обеих колонках - одинаковое, по 19 351, из чего сделаем вывод, что пропуски носят не слуайный характер, а скорее всего связаны с наличием выданных кредитов людям без постоянного места работы.</p> <p>Количество пропусков составляет **10%** от общего количества записей. Учитывая, что цель исследования - оценить влияение семейного положения на платежеспособность клиента, заполним пропущенные значения медианными. <p>Также, изучим подробнее данные в других колонках таблицы."
   ]
  },
  {
   "cell_type": "code",
   "execution_count": 6,
   "id": "c4256244",
   "metadata": {},
   "outputs": [
    {
     "data": {
      "text/plain": [
       " 0     14149\n",
       " 1      4818\n",
       " 2      2055\n",
       " 3       330\n",
       " 20       76\n",
       "-1        47\n",
       " 4        41\n",
       " 5         9\n",
       "Name: children, dtype: int64"
      ]
     },
     "execution_count": 6,
     "metadata": {},
     "output_type": "execute_result"
    }
   ],
   "source": [
    "data['children'].value_counts()"
   ]
  },
  {
   "cell_type": "markdown",
   "id": "0f597c41",
   "metadata": {},
   "source": [
    "Видим два значения колонки `children`, с аномальными значениями: -1 и 20. Суммарно, это 123 значения или 0,5% от общего количества данных. Изменим -1 на 1. Записи со значением 20 удалим из таблицы.  "
   ]
  },
  {
   "cell_type": "code",
   "execution_count": 7,
   "id": "7ebc3b1a",
   "metadata": {},
   "outputs": [
    {
     "data": {
      "text/plain": [
       "0    14149\n",
       "1     4865\n",
       "2     2055\n",
       "3      330\n",
       "4       41\n",
       "5        9\n",
       "Name: children, dtype: int64"
      ]
     },
     "execution_count": 7,
     "metadata": {},
     "output_type": "execute_result"
    }
   ],
   "source": [
    "data['children'] = abs(data['children']) #присваиваем столбцу значения по модулю, таким образом значения -1 преобразуются в 1\n",
    "data = data.loc[data['children']!=20].reset_index(drop=True) #избавляемся от значений =20\n",
    "data['children'].value_counts()"
   ]
  },
  {
   "cell_type": "markdown",
   "id": "4c82315c",
   "metadata": {},
   "source": [
    "Видно, что часть значений колонки `days_employed` отрицательные. Изучим ее подробнее.  "
   ]
  },
  {
   "cell_type": "code",
   "execution_count": 8,
   "id": "1353524d",
   "metadata": {},
   "outputs": [
    {
     "name": "stdout",
     "output_type": "stream",
     "text": [
      "Количество положительных значений стажа: 3438\n",
      "Количество отрицательных значений стажа: 15846\n",
      "Среднее положительное значение стажа: 365012 дней что составляет 1000 лет\n",
      "Минимальное положительное значение стажа состовляет: 328728 дней\n",
      "Медианный возраст заемщиков с положительным значением стажа: 60\n",
      "Среднее отрицательное значение стажа: -2353 дней что составляет -6 лет\n"
     ]
    }
   ],
   "source": [
    "positive_stage_count = data['days_employed'][data['days_employed']>=0].count()\n",
    "negative_stage_count = data['days_employed'][data['days_employed']<0].count()\n",
    "positive_stage_mean = data['days_employed'][data['days_employed']>=0].mean()\n",
    "positive_stage_min = data['days_employed'][data['days_employed']>=0].min()\n",
    "positive_stage_mean_age = data['dob_years'][data['days_employed']>=0].median()\n",
    "negative_stage_mean = data['days_employed'][data['days_employed']<0].mean()\n",
    "\n",
    "\n",
    "print ('Количество положительных значений стажа:',positive_stage_count)\n",
    "print ('Количество отрицательных значений стажа:',negative_stage_count)\n",
    "print ('Среднее положительное значение стажа:', int(positive_stage_mean),'дней', 'что составляет', int(positive_stage_mean/365), 'лет')\n",
    "print ('Минимальное положительное значение стажа состовляет:', int(positive_stage_min),'дней')\n",
    "print ('Медианный возраст заемщиков с положительным значением стажа:', int(positive_stage_mean_age))\n",
    "print ('Среднее отрицательное значение стажа:', int(negative_stage_mean),'дней', 'что составляет', int(negative_stage_mean/365), 'лет')"
   ]
  },
  {
   "cell_type": "markdown",
   "id": "8185a421",
   "metadata": {},
   "source": [
    "**Выводы**\n",
    "\n",
    "1. Все положительные значения в колонке `days_employed` не могут указывать на количество дней трудового стажа, так как даже минимальное положительное значение значительно превышает средний возраст заемщика. Предположительно, значения указаны в часах. \n",
    "2. Отрицательные значения в колонке `days_employed`, исходя из проведенного анализа, показывают количество дней трудового стажа. То, что они отрицаительные - случайная ошибка, которую необходимо исправить. "
   ]
  },
  {
   "cell_type": "code",
   "execution_count": 9,
   "id": "04488ff9",
   "metadata": {},
   "outputs": [],
   "source": [
    "def hours_to_years (days):\n",
    "    if days>0:\n",
    "        days = days/24/365\n",
    "    return days\n",
    "\n",
    "data['days_employed'] = data['days_employed'].apply(hours_to_years) #переводим положительныез значения в дни\n",
    "data['days_employed'] = abs(data['days_employed']) #избавляемся от отрицательных значений"
   ]
  },
  {
   "cell_type": "code",
   "execution_count": 10,
   "id": "7fbc65e9",
   "metadata": {},
   "outputs": [
    {
     "name": "stdout",
     "output_type": "stream",
     "text": [
      "75\n",
      "0\n"
     ]
    },
    {
     "data": {
      "text/html": [
       "<div>\n",
       "<style scoped>\n",
       "    .dataframe tbody tr th:only-of-type {\n",
       "        vertical-align: middle;\n",
       "    }\n",
       "\n",
       "    .dataframe tbody tr th {\n",
       "        vertical-align: top;\n",
       "    }\n",
       "\n",
       "    .dataframe thead th {\n",
       "        text-align: right;\n",
       "    }\n",
       "</style>\n",
       "<table border=\"1\" class=\"dataframe\">\n",
       "  <thead>\n",
       "    <tr style=\"text-align: right;\">\n",
       "      <th></th>\n",
       "      <th>children</th>\n",
       "      <th>days_employed</th>\n",
       "      <th>dob_years</th>\n",
       "      <th>education</th>\n",
       "      <th>education_id</th>\n",
       "      <th>family_status</th>\n",
       "      <th>family_status_id</th>\n",
       "      <th>gender</th>\n",
       "      <th>income_type</th>\n",
       "      <th>debt</th>\n",
       "      <th>total_income</th>\n",
       "      <th>purpose</th>\n",
       "    </tr>\n",
       "  </thead>\n",
       "  <tbody>\n",
       "    <tr>\n",
       "      <th>99</th>\n",
       "      <td>0</td>\n",
       "      <td>39.559546</td>\n",
       "      <td>0</td>\n",
       "      <td>Среднее</td>\n",
       "      <td>1</td>\n",
       "      <td>женат / замужем</td>\n",
       "      <td>0</td>\n",
       "      <td>F</td>\n",
       "      <td>пенсионер</td>\n",
       "      <td>0</td>\n",
       "      <td>71291.522491</td>\n",
       "      <td>автомобиль</td>\n",
       "    </tr>\n",
       "    <tr>\n",
       "      <th>149</th>\n",
       "      <td>0</td>\n",
       "      <td>2664.273168</td>\n",
       "      <td>0</td>\n",
       "      <td>среднее</td>\n",
       "      <td>1</td>\n",
       "      <td>в разводе</td>\n",
       "      <td>3</td>\n",
       "      <td>F</td>\n",
       "      <td>сотрудник</td>\n",
       "      <td>0</td>\n",
       "      <td>70176.435951</td>\n",
       "      <td>операции с жильем</td>\n",
       "    </tr>\n",
       "    <tr>\n",
       "      <th>270</th>\n",
       "      <td>3</td>\n",
       "      <td>1872.663186</td>\n",
       "      <td>0</td>\n",
       "      <td>среднее</td>\n",
       "      <td>1</td>\n",
       "      <td>женат / замужем</td>\n",
       "      <td>0</td>\n",
       "      <td>F</td>\n",
       "      <td>сотрудник</td>\n",
       "      <td>0</td>\n",
       "      <td>102166.458894</td>\n",
       "      <td>ремонт жилью</td>\n",
       "    </tr>\n",
       "    <tr>\n",
       "      <th>578</th>\n",
       "      <td>0</td>\n",
       "      <td>45.417416</td>\n",
       "      <td>0</td>\n",
       "      <td>среднее</td>\n",
       "      <td>1</td>\n",
       "      <td>женат / замужем</td>\n",
       "      <td>0</td>\n",
       "      <td>F</td>\n",
       "      <td>пенсионер</td>\n",
       "      <td>0</td>\n",
       "      <td>97620.687042</td>\n",
       "      <td>строительство собственной недвижимости</td>\n",
       "    </tr>\n",
       "    <tr>\n",
       "      <th>1038</th>\n",
       "      <td>0</td>\n",
       "      <td>1158.029561</td>\n",
       "      <td>0</td>\n",
       "      <td>высшее</td>\n",
       "      <td>0</td>\n",
       "      <td>в разводе</td>\n",
       "      <td>3</td>\n",
       "      <td>F</td>\n",
       "      <td>компаньон</td>\n",
       "      <td>0</td>\n",
       "      <td>303994.134987</td>\n",
       "      <td>свой автомобиль</td>\n",
       "    </tr>\n",
       "    <tr>\n",
       "      <th>...</th>\n",
       "      <td>...</td>\n",
       "      <td>...</td>\n",
       "      <td>...</td>\n",
       "      <td>...</td>\n",
       "      <td>...</td>\n",
       "      <td>...</td>\n",
       "      <td>...</td>\n",
       "      <td>...</td>\n",
       "      <td>...</td>\n",
       "      <td>...</td>\n",
       "      <td>...</td>\n",
       "      <td>...</td>\n",
       "    </tr>\n",
       "    <tr>\n",
       "      <th>19760</th>\n",
       "      <td>0</td>\n",
       "      <td>NaN</td>\n",
       "      <td>0</td>\n",
       "      <td>среднее</td>\n",
       "      <td>1</td>\n",
       "      <td>женат / замужем</td>\n",
       "      <td>0</td>\n",
       "      <td>F</td>\n",
       "      <td>сотрудник</td>\n",
       "      <td>0</td>\n",
       "      <td>NaN</td>\n",
       "      <td>жилье</td>\n",
       "    </tr>\n",
       "    <tr>\n",
       "      <th>20391</th>\n",
       "      <td>0</td>\n",
       "      <td>38.668364</td>\n",
       "      <td>0</td>\n",
       "      <td>среднее</td>\n",
       "      <td>1</td>\n",
       "      <td>женат / замужем</td>\n",
       "      <td>0</td>\n",
       "      <td>F</td>\n",
       "      <td>пенсионер</td>\n",
       "      <td>0</td>\n",
       "      <td>259193.920299</td>\n",
       "      <td>покупка своего жилья</td>\n",
       "    </tr>\n",
       "    <tr>\n",
       "      <th>20506</th>\n",
       "      <td>0</td>\n",
       "      <td>37.870008</td>\n",
       "      <td>0</td>\n",
       "      <td>среднее</td>\n",
       "      <td>1</td>\n",
       "      <td>Не женат / не замужем</td>\n",
       "      <td>4</td>\n",
       "      <td>F</td>\n",
       "      <td>пенсионер</td>\n",
       "      <td>0</td>\n",
       "      <td>129788.762899</td>\n",
       "      <td>недвижимость</td>\n",
       "    </tr>\n",
       "    <tr>\n",
       "      <th>21107</th>\n",
       "      <td>2</td>\n",
       "      <td>108.967042</td>\n",
       "      <td>0</td>\n",
       "      <td>высшее</td>\n",
       "      <td>0</td>\n",
       "      <td>женат / замужем</td>\n",
       "      <td>0</td>\n",
       "      <td>M</td>\n",
       "      <td>компаньон</td>\n",
       "      <td>0</td>\n",
       "      <td>240702.007382</td>\n",
       "      <td>строительство жилой недвижимости</td>\n",
       "    </tr>\n",
       "    <tr>\n",
       "      <th>21241</th>\n",
       "      <td>0</td>\n",
       "      <td>1268.487728</td>\n",
       "      <td>0</td>\n",
       "      <td>среднее</td>\n",
       "      <td>1</td>\n",
       "      <td>Не женат / не замужем</td>\n",
       "      <td>4</td>\n",
       "      <td>M</td>\n",
       "      <td>сотрудник</td>\n",
       "      <td>0</td>\n",
       "      <td>152419.184851</td>\n",
       "      <td>операции с жильем</td>\n",
       "    </tr>\n",
       "  </tbody>\n",
       "</table>\n",
       "<p>100 rows × 12 columns</p>\n",
       "</div>"
      ],
      "text/plain": [
       "       children  days_employed  dob_years education  education_id  \\\n",
       "99            0      39.559546          0   Среднее             1   \n",
       "149           0    2664.273168          0   среднее             1   \n",
       "270           3    1872.663186          0   среднее             1   \n",
       "578           0      45.417416          0   среднее             1   \n",
       "1038          0    1158.029561          0    высшее             0   \n",
       "...         ...            ...        ...       ...           ...   \n",
       "19760         0            NaN          0   среднее             1   \n",
       "20391         0      38.668364          0   среднее             1   \n",
       "20506         0      37.870008          0   среднее             1   \n",
       "21107         2     108.967042          0    высшее             0   \n",
       "21241         0    1268.487728          0   среднее             1   \n",
       "\n",
       "               family_status  family_status_id gender income_type  debt  \\\n",
       "99           женат / замужем                 0      F   пенсионер     0   \n",
       "149                в разводе                 3      F   сотрудник     0   \n",
       "270          женат / замужем                 0      F   сотрудник     0   \n",
       "578          женат / замужем                 0      F   пенсионер     0   \n",
       "1038               в разводе                 3      F   компаньон     0   \n",
       "...                      ...               ...    ...         ...   ...   \n",
       "19760        женат / замужем                 0      F   сотрудник     0   \n",
       "20391        женат / замужем                 0      F   пенсионер     0   \n",
       "20506  Не женат / не замужем                 4      F   пенсионер     0   \n",
       "21107        женат / замужем                 0      M   компаньон     0   \n",
       "21241  Не женат / не замужем                 4      M   сотрудник     0   \n",
       "\n",
       "        total_income                                 purpose  \n",
       "99      71291.522491                              автомобиль  \n",
       "149     70176.435951                       операции с жильем  \n",
       "270    102166.458894                            ремонт жилью  \n",
       "578     97620.687042  строительство собственной недвижимости  \n",
       "1038   303994.134987                         свой автомобиль  \n",
       "...              ...                                     ...  \n",
       "19760            NaN                                   жилье  \n",
       "20391  259193.920299                    покупка своего жилья  \n",
       "20506  129788.762899                            недвижимость  \n",
       "21107  240702.007382        строительство жилой недвижимости  \n",
       "21241  152419.184851                       операции с жильем  \n",
       "\n",
       "[100 rows x 12 columns]"
      ]
     },
     "execution_count": 10,
     "metadata": {},
     "output_type": "execute_result"
    }
   ],
   "source": [
    "print(data['dob_years'].max())\n",
    "print (data['dob_years'].min())\n",
    "(data[data['dob_years']==0])"
   ]
  },
  {
   "cell_type": "markdown",
   "id": "60733bd5",
   "metadata": {},
   "source": [
    "Учитывая, что целью исследования стоит выяснение, влияет ли семейное положение на платежеспособность, заполним нулевые значения возраста медианным значением. "
   ]
  },
  {
   "cell_type": "code",
   "execution_count": 71,
   "id": "e0581289",
   "metadata": {},
   "outputs": [
    {
     "name": "stdout",
     "output_type": "stream",
     "text": [
      "Минимальный возраст заемщика: 19 лет\n"
     ]
    }
   ],
   "source": [
    "def median_age (age):\n",
    "    new_age = int(data['dob_years'].median())\n",
    "    if age==0:\n",
    "        age = new_age\n",
    "    return age\n",
    "\n",
    "data['dob_years'] = data['dob_years'].apply(median_age)\n",
    "print ('Минимальный возраст заемщика:',data['dob_years'].min(), 'лет')"
   ]
  },
  {
   "cell_type": "code",
   "execution_count": 12,
   "id": "67af8806",
   "metadata": {},
   "outputs": [
    {
     "data": {
      "text/plain": [
       "среднее                15173\n",
       "высшее                  5246\n",
       "неоконченное высшее      742\n",
       "начальное                282\n",
       "ученая степень             6\n",
       "Name: education, dtype: int64"
      ]
     },
     "execution_count": 12,
     "metadata": {},
     "output_type": "execute_result"
    }
   ],
   "source": [
    "data['education'] = data['education'].str.lower()\n",
    "data['education'].value_counts()"
   ]
  },
  {
   "cell_type": "code",
   "execution_count": 13,
   "id": "b49eda06",
   "metadata": {},
   "outputs": [
    {
     "data": {
      "text/plain": [
       "1    15173\n",
       "0     5246\n",
       "2      742\n",
       "3      282\n",
       "4        6\n",
       "Name: education_id, dtype: int64"
      ]
     },
     "execution_count": 13,
     "metadata": {},
     "output_type": "execute_result"
    }
   ],
   "source": [
    "data['education_id'].value_counts()"
   ]
  },
  {
   "cell_type": "markdown",
   "id": "b69d5c4a",
   "metadata": {},
   "source": [
    "Сведения о высшем образовании в таблице выглядят корректными. "
   ]
  },
  {
   "cell_type": "code",
   "execution_count": 72,
   "id": "aab3155a",
   "metadata": {},
   "outputs": [
    {
     "data": {
      "text/plain": [
       "женат / замужем          12290\n",
       "гражданский брак          4138\n",
       "не женат / не замужем     2801\n",
       "в разводе                 1193\n",
       "вдовец / вдова             955\n",
       "Name: family_status, dtype: int64"
      ]
     },
     "execution_count": 72,
     "metadata": {},
     "output_type": "execute_result"
    }
   ],
   "source": [
    "data['family_status'] = data['family_status'].str.lower()\n",
    "data['family_status'].value_counts()"
   ]
  },
  {
   "cell_type": "markdown",
   "id": "a93ad9ba",
   "metadata": {},
   "source": [
    "Сведения о семейном статусе выглядят корректными. "
   ]
  },
  {
   "cell_type": "code",
   "execution_count": 15,
   "id": "3255c78e",
   "metadata": {},
   "outputs": [
    {
     "data": {
      "text/plain": [
       "F      14189\n",
       "M       7259\n",
       "XNA        1\n",
       "Name: gender, dtype: int64"
      ]
     },
     "execution_count": 15,
     "metadata": {},
     "output_type": "execute_result"
    }
   ],
   "source": [
    "data['gender'].value_counts()"
   ]
  },
  {
   "cell_type": "markdown",
   "id": "d3cffcf3",
   "metadata": {},
   "source": [
    "Данные о половой принадлежности выглядят корректно, за исключением одного значения. Учитывая цели исследования оставим данное значение без изменений. "
   ]
  },
  {
   "cell_type": "code",
   "execution_count": 16,
   "id": "4f1e4e15",
   "metadata": {},
   "outputs": [
    {
     "data": {
      "text/plain": [
       "сотрудник          11076\n",
       "компаньон           5063\n",
       "пенсионер           3847\n",
       "госслужащий         1457\n",
       "безработный            2\n",
       "предприниматель        2\n",
       "в декрете              1\n",
       "студент                1\n",
       "Name: income_type, dtype: int64"
      ]
     },
     "execution_count": 16,
     "metadata": {},
     "output_type": "execute_result"
    }
   ],
   "source": [
    "data['income_type'].value_counts()"
   ]
  },
  {
   "cell_type": "markdown",
   "id": "65171abd",
   "metadata": {},
   "source": [
    "Данные о способе получения дохода выглядят корректно. "
   ]
  },
  {
   "cell_type": "code",
   "execution_count": 17,
   "id": "048cc315",
   "metadata": {},
   "outputs": [
    {
     "data": {
      "text/plain": [
       "0    19716\n",
       "1     1733\n",
       "Name: debt, dtype: int64"
      ]
     },
     "execution_count": 17,
     "metadata": {},
     "output_type": "execute_result"
    }
   ],
   "source": [
    "data['debt'].value_counts()"
   ]
  },
  {
   "cell_type": "markdown",
   "id": "8068e7f1",
   "metadata": {},
   "source": [
    "Данные о наличии/отсутствии задолженности выглядят корректно."
   ]
  },
  {
   "cell_type": "code",
   "execution_count": 74,
   "id": "47045111",
   "metadata": {},
   "outputs": [
    {
     "name": "stdout",
     "output_type": "stream",
     "text": [
      "Максимальное значение дохода составляет 2265604\n",
      "Минимальное значение дохода составляет 20667\n"
     ]
    }
   ],
   "source": [
    "print ('Максимальное значение дохода составляет', data['total_income'].max())\n",
    "print ('Минимальное значение дохода составляет', data['total_income'].min())\n"
   ]
  },
  {
   "cell_type": "markdown",
   "id": "fc09edf0",
   "metadata": {},
   "source": [
    "Данные о суммах дохода выглядят корректно."
   ]
  },
  {
   "cell_type": "code",
   "execution_count": 19,
   "id": "5e16a838",
   "metadata": {},
   "outputs": [
    {
     "data": {
      "text/plain": [
       "свадьба                                   796\n",
       "на проведение свадьбы                     773\n",
       "сыграть свадьбу                           770\n",
       "операции с недвижимостью                  675\n",
       "покупка коммерческой недвижимости         661\n",
       "покупка жилья для сдачи                   652\n",
       "операции с жильем                         649\n",
       "операции с коммерческой недвижимостью     647\n",
       "покупка жилья                             644\n",
       "жилье                                     643\n",
       "покупка жилья для семьи                   640\n",
       "недвижимость                              633\n",
       "строительство собственной недвижимости    629\n",
       "операции со своей недвижимостью           629\n",
       "строительство жилой недвижимости          625\n",
       "покупка недвижимости                      622\n",
       "покупка своего жилья                      620\n",
       "строительство недвижимости                620\n",
       "ремонт жилью                              610\n",
       "покупка жилой недвижимости                605\n",
       "на покупку своего автомобиля              505\n",
       "заняться высшим образованием              496\n",
       "автомобиль                                494\n",
       "сделка с подержанным автомобилем          485\n",
       "автомобили                                477\n",
       "свой автомобиль                           477\n",
       "на покупку подержанного автомобиля        473\n",
       "на покупку автомобиля                     471\n",
       "приобретение автомобиля                   462\n",
       "дополнительное образование                459\n",
       "сделка с автомобилем                      455\n",
       "высшее образование                        448\n",
       "получение дополнительного образования     446\n",
       "образование                               445\n",
       "получение образования                     442\n",
       "профильное образование                    434\n",
       "получение высшего образования             425\n",
       "заняться образованием                     412\n",
       "Name: purpose, dtype: int64"
      ]
     },
     "execution_count": 19,
     "metadata": {},
     "output_type": "execute_result"
    }
   ],
   "source": [
    "data['purpose'].value_counts()"
   ]
  },
  {
   "cell_type": "markdown",
   "id": "a9719d6a",
   "metadata": {},
   "source": [
    "Необходимо выполнить категоризацию значений по целям кредита. "
   ]
  },
  {
   "cell_type": "markdown",
   "id": "1b019b3f",
   "metadata": {},
   "source": [
    "# Шаг 2 Заполнение пропусков"
   ]
  },
  {
   "cell_type": "code",
   "execution_count": 20,
   "id": "acd75e9d",
   "metadata": {},
   "outputs": [
    {
     "name": "stdout",
     "output_type": "stream",
     "text": [
      "<class 'pandas.core.frame.DataFrame'>\n",
      "RangeIndex: 21449 entries, 0 to 21448\n",
      "Data columns (total 12 columns):\n",
      " #   Column            Non-Null Count  Dtype  \n",
      "---  ------            --------------  -----  \n",
      " 0   children          21449 non-null  int64  \n",
      " 1   days_employed     21449 non-null  float64\n",
      " 2   dob_years         21449 non-null  int64  \n",
      " 3   education         21449 non-null  object \n",
      " 4   education_id      21449 non-null  int64  \n",
      " 5   family_status     21449 non-null  object \n",
      " 6   family_status_id  21449 non-null  int64  \n",
      " 7   gender            21449 non-null  object \n",
      " 8   income_type       21449 non-null  object \n",
      " 9   debt              21449 non-null  int64  \n",
      " 10  total_income      19284 non-null  float64\n",
      " 11  purpose           21449 non-null  object \n",
      "dtypes: float64(2), int64(5), object(5)\n",
      "memory usage: 2.0+ MB\n"
     ]
    }
   ],
   "source": [
    "median_stage = data['days_employed'].median()\n",
    "data['days_employed']=data['days_employed'].fillna(median_stage)\n",
    "data.info()"
   ]
  },
  {
   "cell_type": "code",
   "execution_count": 21,
   "id": "44135b83",
   "metadata": {},
   "outputs": [
    {
     "name": "stdout",
     "output_type": "stream",
     "text": [
      "<class 'pandas.core.frame.DataFrame'>\n",
      "RangeIndex: 21449 entries, 0 to 21448\n",
      "Data columns (total 12 columns):\n",
      " #   Column            Non-Null Count  Dtype  \n",
      "---  ------            --------------  -----  \n",
      " 0   children          21449 non-null  int64  \n",
      " 1   days_employed     21449 non-null  float64\n",
      " 2   dob_years         21449 non-null  int64  \n",
      " 3   education         21449 non-null  object \n",
      " 4   education_id      21449 non-null  int64  \n",
      " 5   family_status     21449 non-null  object \n",
      " 6   family_status_id  21449 non-null  int64  \n",
      " 7   gender            21449 non-null  object \n",
      " 8   income_type       21449 non-null  object \n",
      " 9   debt              21449 non-null  int64  \n",
      " 10  total_income      21449 non-null  float64\n",
      " 11  purpose           21449 non-null  object \n",
      "dtypes: float64(2), int64(5), object(5)\n",
      "memory usage: 2.0+ MB\n"
     ]
    }
   ],
   "source": [
    "median_total_income = data['total_income'].median()\n",
    "data['total_income'] = data['total_income'].fillna(median_total_income)\n",
    "data.info()"
   ]
  },
  {
   "cell_type": "markdown",
   "id": "7a7d271c",
   "metadata": {},
   "source": [
    "# Шаг 3. Изменение типов данных."
   ]
  },
  {
   "cell_type": "markdown",
   "id": "f0cefbf3",
   "metadata": {},
   "source": [
    "Изменим типы данных с вещественного на целочисленные в столбцах: `days_employed`, `total_income`"
   ]
  },
  {
   "cell_type": "code",
   "execution_count": 22,
   "id": "f0d3ca44",
   "metadata": {},
   "outputs": [
    {
     "name": "stdout",
     "output_type": "stream",
     "text": [
      "<class 'pandas.core.frame.DataFrame'>\n",
      "RangeIndex: 21449 entries, 0 to 21448\n",
      "Data columns (total 12 columns):\n",
      " #   Column            Non-Null Count  Dtype \n",
      "---  ------            --------------  ----- \n",
      " 0   children          21449 non-null  int64 \n",
      " 1   days_employed     21449 non-null  int64 \n",
      " 2   dob_years         21449 non-null  int64 \n",
      " 3   education         21449 non-null  object\n",
      " 4   education_id      21449 non-null  int64 \n",
      " 5   family_status     21449 non-null  object\n",
      " 6   family_status_id  21449 non-null  int64 \n",
      " 7   gender            21449 non-null  object\n",
      " 8   income_type       21449 non-null  object\n",
      " 9   debt              21449 non-null  int64 \n",
      " 10  total_income      21449 non-null  int64 \n",
      " 11  purpose           21449 non-null  object\n",
      "dtypes: int64(7), object(5)\n",
      "memory usage: 2.0+ MB\n"
     ]
    }
   ],
   "source": [
    "data['days_employed'] = data['days_employed'].astype('int')\n",
    "data['total_income'] = data['total_income'].astype('int')\n",
    "data.info()"
   ]
  },
  {
   "cell_type": "markdown",
   "id": "5ba7c38e",
   "metadata": {},
   "source": [
    "# Шаг 4. Удаление дубликатов."
   ]
  },
  {
   "cell_type": "code",
   "execution_count": 23,
   "id": "bdb1b29e",
   "metadata": {},
   "outputs": [
    {
     "name": "stdout",
     "output_type": "stream",
     "text": [
      "количетсво явных дубликатов в строках таблицы: 72\n",
      "количетсво явных дубликатов в строках таблицы после удаления: 0\n"
     ]
    }
   ],
   "source": [
    "print ('количетсво явных дубликатов в строках таблицы:',data.duplicated().sum())\n",
    "data = data.drop_duplicates().reset_index(drop=True) #удаляем явные дубликаты\n",
    "print ('количетсво явных дубликатов в строках таблицы после удаления:',data.duplicated().sum())"
   ]
  },
  {
   "cell_type": "markdown",
   "id": "3e5df24f",
   "metadata": {},
   "source": [
    "# Шаг 5. Формирование дополнительных датафреймов словарей, декомпозиция исходного датафрейма."
   ]
  },
  {
   "cell_type": "code",
   "execution_count": 24,
   "id": "dce38fd9",
   "metadata": {},
   "outputs": [
    {
     "data": {
      "text/html": [
       "<div>\n",
       "<style scoped>\n",
       "    .dataframe tbody tr th:only-of-type {\n",
       "        vertical-align: middle;\n",
       "    }\n",
       "\n",
       "    .dataframe tbody tr th {\n",
       "        vertical-align: top;\n",
       "    }\n",
       "\n",
       "    .dataframe thead th {\n",
       "        text-align: right;\n",
       "    }\n",
       "</style>\n",
       "<table border=\"1\" class=\"dataframe\">\n",
       "  <thead>\n",
       "    <tr style=\"text-align: right;\">\n",
       "      <th></th>\n",
       "      <th>children</th>\n",
       "      <th>days_employed</th>\n",
       "      <th>dob_years</th>\n",
       "      <th>education</th>\n",
       "      <th>education_id</th>\n",
       "      <th>family_status</th>\n",
       "      <th>family_status_id</th>\n",
       "      <th>gender</th>\n",
       "      <th>income_type</th>\n",
       "      <th>debt</th>\n",
       "      <th>total_income</th>\n",
       "      <th>purpose</th>\n",
       "    </tr>\n",
       "  </thead>\n",
       "  <tbody>\n",
       "    <tr>\n",
       "      <th>0</th>\n",
       "      <td>1</td>\n",
       "      <td>8437</td>\n",
       "      <td>42</td>\n",
       "      <td>высшее</td>\n",
       "      <td>0</td>\n",
       "      <td>женат / замужем</td>\n",
       "      <td>0</td>\n",
       "      <td>F</td>\n",
       "      <td>сотрудник</td>\n",
       "      <td>0</td>\n",
       "      <td>253875</td>\n",
       "      <td>покупка жилья</td>\n",
       "    </tr>\n",
       "    <tr>\n",
       "      <th>1</th>\n",
       "      <td>1</td>\n",
       "      <td>4024</td>\n",
       "      <td>36</td>\n",
       "      <td>среднее</td>\n",
       "      <td>1</td>\n",
       "      <td>женат / замужем</td>\n",
       "      <td>0</td>\n",
       "      <td>F</td>\n",
       "      <td>сотрудник</td>\n",
       "      <td>0</td>\n",
       "      <td>112080</td>\n",
       "      <td>приобретение автомобиля</td>\n",
       "    </tr>\n",
       "    <tr>\n",
       "      <th>2</th>\n",
       "      <td>0</td>\n",
       "      <td>5623</td>\n",
       "      <td>33</td>\n",
       "      <td>среднее</td>\n",
       "      <td>1</td>\n",
       "      <td>женат / замужем</td>\n",
       "      <td>0</td>\n",
       "      <td>M</td>\n",
       "      <td>сотрудник</td>\n",
       "      <td>0</td>\n",
       "      <td>145885</td>\n",
       "      <td>покупка жилья</td>\n",
       "    </tr>\n",
       "    <tr>\n",
       "      <th>3</th>\n",
       "      <td>3</td>\n",
       "      <td>4124</td>\n",
       "      <td>32</td>\n",
       "      <td>среднее</td>\n",
       "      <td>1</td>\n",
       "      <td>женат / замужем</td>\n",
       "      <td>0</td>\n",
       "      <td>M</td>\n",
       "      <td>сотрудник</td>\n",
       "      <td>0</td>\n",
       "      <td>267628</td>\n",
       "      <td>дополнительное образование</td>\n",
       "    </tr>\n",
       "    <tr>\n",
       "      <th>4</th>\n",
       "      <td>0</td>\n",
       "      <td>38</td>\n",
       "      <td>53</td>\n",
       "      <td>среднее</td>\n",
       "      <td>1</td>\n",
       "      <td>гражданский брак</td>\n",
       "      <td>1</td>\n",
       "      <td>F</td>\n",
       "      <td>пенсионер</td>\n",
       "      <td>0</td>\n",
       "      <td>158616</td>\n",
       "      <td>сыграть свадьбу</td>\n",
       "    </tr>\n",
       "    <tr>\n",
       "      <th>5</th>\n",
       "      <td>0</td>\n",
       "      <td>926</td>\n",
       "      <td>27</td>\n",
       "      <td>высшее</td>\n",
       "      <td>0</td>\n",
       "      <td>гражданский брак</td>\n",
       "      <td>1</td>\n",
       "      <td>M</td>\n",
       "      <td>компаньон</td>\n",
       "      <td>0</td>\n",
       "      <td>255763</td>\n",
       "      <td>покупка жилья</td>\n",
       "    </tr>\n",
       "    <tr>\n",
       "      <th>6</th>\n",
       "      <td>0</td>\n",
       "      <td>2879</td>\n",
       "      <td>43</td>\n",
       "      <td>высшее</td>\n",
       "      <td>0</td>\n",
       "      <td>женат / замужем</td>\n",
       "      <td>0</td>\n",
       "      <td>F</td>\n",
       "      <td>компаньон</td>\n",
       "      <td>0</td>\n",
       "      <td>240525</td>\n",
       "      <td>операции с жильем</td>\n",
       "    </tr>\n",
       "    <tr>\n",
       "      <th>7</th>\n",
       "      <td>0</td>\n",
       "      <td>152</td>\n",
       "      <td>50</td>\n",
       "      <td>среднее</td>\n",
       "      <td>1</td>\n",
       "      <td>женат / замужем</td>\n",
       "      <td>0</td>\n",
       "      <td>M</td>\n",
       "      <td>сотрудник</td>\n",
       "      <td>0</td>\n",
       "      <td>135823</td>\n",
       "      <td>образование</td>\n",
       "    </tr>\n",
       "    <tr>\n",
       "      <th>8</th>\n",
       "      <td>2</td>\n",
       "      <td>6929</td>\n",
       "      <td>35</td>\n",
       "      <td>высшее</td>\n",
       "      <td>0</td>\n",
       "      <td>гражданский брак</td>\n",
       "      <td>1</td>\n",
       "      <td>F</td>\n",
       "      <td>сотрудник</td>\n",
       "      <td>0</td>\n",
       "      <td>95856</td>\n",
       "      <td>на проведение свадьбы</td>\n",
       "    </tr>\n",
       "    <tr>\n",
       "      <th>9</th>\n",
       "      <td>0</td>\n",
       "      <td>2188</td>\n",
       "      <td>41</td>\n",
       "      <td>среднее</td>\n",
       "      <td>1</td>\n",
       "      <td>женат / замужем</td>\n",
       "      <td>0</td>\n",
       "      <td>M</td>\n",
       "      <td>сотрудник</td>\n",
       "      <td>0</td>\n",
       "      <td>144425</td>\n",
       "      <td>покупка жилья для семьи</td>\n",
       "    </tr>\n",
       "  </tbody>\n",
       "</table>\n",
       "</div>"
      ],
      "text/plain": [
       "   children  days_employed  dob_years education  education_id  \\\n",
       "0         1           8437         42    высшее             0   \n",
       "1         1           4024         36   среднее             1   \n",
       "2         0           5623         33   среднее             1   \n",
       "3         3           4124         32   среднее             1   \n",
       "4         0             38         53   среднее             1   \n",
       "5         0            926         27    высшее             0   \n",
       "6         0           2879         43    высшее             0   \n",
       "7         0            152         50   среднее             1   \n",
       "8         2           6929         35    высшее             0   \n",
       "9         0           2188         41   среднее             1   \n",
       "\n",
       "      family_status  family_status_id gender income_type  debt  total_income  \\\n",
       "0   женат / замужем                 0      F   сотрудник     0        253875   \n",
       "1   женат / замужем                 0      F   сотрудник     0        112080   \n",
       "2   женат / замужем                 0      M   сотрудник     0        145885   \n",
       "3   женат / замужем                 0      M   сотрудник     0        267628   \n",
       "4  гражданский брак                 1      F   пенсионер     0        158616   \n",
       "5  гражданский брак                 1      M   компаньон     0        255763   \n",
       "6   женат / замужем                 0      F   компаньон     0        240525   \n",
       "7   женат / замужем                 0      M   сотрудник     0        135823   \n",
       "8  гражданский брак                 1      F   сотрудник     0         95856   \n",
       "9   женат / замужем                 0      M   сотрудник     0        144425   \n",
       "\n",
       "                      purpose  \n",
       "0               покупка жилья  \n",
       "1     приобретение автомобиля  \n",
       "2               покупка жилья  \n",
       "3  дополнительное образование  \n",
       "4             сыграть свадьбу  \n",
       "5               покупка жилья  \n",
       "6           операции с жильем  \n",
       "7                 образование  \n",
       "8       на проведение свадьбы  \n",
       "9     покупка жилья для семьи  "
      ]
     },
     "execution_count": 24,
     "metadata": {},
     "output_type": "execute_result"
    }
   ],
   "source": [
    "data.head(10)"
   ]
  },
  {
   "cell_type": "markdown",
   "id": "2bfe50d5",
   "metadata": {},
   "source": [
    "В целях упрощения датафрейма, создадим отдельные словари для образования - `education_dict` и семейного статуса `family_status_dict`. "
   ]
  },
  {
   "cell_type": "code",
   "execution_count": 25,
   "id": "7bc65833",
   "metadata": {},
   "outputs": [
    {
     "data": {
      "text/html": [
       "<div>\n",
       "<style scoped>\n",
       "    .dataframe tbody tr th:only-of-type {\n",
       "        vertical-align: middle;\n",
       "    }\n",
       "\n",
       "    .dataframe tbody tr th {\n",
       "        vertical-align: top;\n",
       "    }\n",
       "\n",
       "    .dataframe thead th {\n",
       "        text-align: right;\n",
       "    }\n",
       "</style>\n",
       "<table border=\"1\" class=\"dataframe\">\n",
       "  <thead>\n",
       "    <tr style=\"text-align: right;\">\n",
       "      <th></th>\n",
       "      <th>children</th>\n",
       "      <th>days_employed</th>\n",
       "      <th>dob_years</th>\n",
       "      <th>education_id</th>\n",
       "      <th>family_status_id</th>\n",
       "      <th>gender</th>\n",
       "      <th>income_type</th>\n",
       "      <th>debt</th>\n",
       "      <th>total_income</th>\n",
       "      <th>purpose</th>\n",
       "    </tr>\n",
       "  </thead>\n",
       "  <tbody>\n",
       "    <tr>\n",
       "      <th>0</th>\n",
       "      <td>1</td>\n",
       "      <td>8437</td>\n",
       "      <td>42</td>\n",
       "      <td>0</td>\n",
       "      <td>0</td>\n",
       "      <td>F</td>\n",
       "      <td>сотрудник</td>\n",
       "      <td>0</td>\n",
       "      <td>253875</td>\n",
       "      <td>покупка жилья</td>\n",
       "    </tr>\n",
       "    <tr>\n",
       "      <th>1</th>\n",
       "      <td>1</td>\n",
       "      <td>4024</td>\n",
       "      <td>36</td>\n",
       "      <td>1</td>\n",
       "      <td>0</td>\n",
       "      <td>F</td>\n",
       "      <td>сотрудник</td>\n",
       "      <td>0</td>\n",
       "      <td>112080</td>\n",
       "      <td>приобретение автомобиля</td>\n",
       "    </tr>\n",
       "    <tr>\n",
       "      <th>2</th>\n",
       "      <td>0</td>\n",
       "      <td>5623</td>\n",
       "      <td>33</td>\n",
       "      <td>1</td>\n",
       "      <td>0</td>\n",
       "      <td>M</td>\n",
       "      <td>сотрудник</td>\n",
       "      <td>0</td>\n",
       "      <td>145885</td>\n",
       "      <td>покупка жилья</td>\n",
       "    </tr>\n",
       "    <tr>\n",
       "      <th>3</th>\n",
       "      <td>3</td>\n",
       "      <td>4124</td>\n",
       "      <td>32</td>\n",
       "      <td>1</td>\n",
       "      <td>0</td>\n",
       "      <td>M</td>\n",
       "      <td>сотрудник</td>\n",
       "      <td>0</td>\n",
       "      <td>267628</td>\n",
       "      <td>дополнительное образование</td>\n",
       "    </tr>\n",
       "    <tr>\n",
       "      <th>4</th>\n",
       "      <td>0</td>\n",
       "      <td>38</td>\n",
       "      <td>53</td>\n",
       "      <td>1</td>\n",
       "      <td>1</td>\n",
       "      <td>F</td>\n",
       "      <td>пенсионер</td>\n",
       "      <td>0</td>\n",
       "      <td>158616</td>\n",
       "      <td>сыграть свадьбу</td>\n",
       "    </tr>\n",
       "    <tr>\n",
       "      <th>5</th>\n",
       "      <td>0</td>\n",
       "      <td>926</td>\n",
       "      <td>27</td>\n",
       "      <td>0</td>\n",
       "      <td>1</td>\n",
       "      <td>M</td>\n",
       "      <td>компаньон</td>\n",
       "      <td>0</td>\n",
       "      <td>255763</td>\n",
       "      <td>покупка жилья</td>\n",
       "    </tr>\n",
       "    <tr>\n",
       "      <th>6</th>\n",
       "      <td>0</td>\n",
       "      <td>2879</td>\n",
       "      <td>43</td>\n",
       "      <td>0</td>\n",
       "      <td>0</td>\n",
       "      <td>F</td>\n",
       "      <td>компаньон</td>\n",
       "      <td>0</td>\n",
       "      <td>240525</td>\n",
       "      <td>операции с жильем</td>\n",
       "    </tr>\n",
       "    <tr>\n",
       "      <th>7</th>\n",
       "      <td>0</td>\n",
       "      <td>152</td>\n",
       "      <td>50</td>\n",
       "      <td>1</td>\n",
       "      <td>0</td>\n",
       "      <td>M</td>\n",
       "      <td>сотрудник</td>\n",
       "      <td>0</td>\n",
       "      <td>135823</td>\n",
       "      <td>образование</td>\n",
       "    </tr>\n",
       "    <tr>\n",
       "      <th>8</th>\n",
       "      <td>2</td>\n",
       "      <td>6929</td>\n",
       "      <td>35</td>\n",
       "      <td>0</td>\n",
       "      <td>1</td>\n",
       "      <td>F</td>\n",
       "      <td>сотрудник</td>\n",
       "      <td>0</td>\n",
       "      <td>95856</td>\n",
       "      <td>на проведение свадьбы</td>\n",
       "    </tr>\n",
       "    <tr>\n",
       "      <th>9</th>\n",
       "      <td>0</td>\n",
       "      <td>2188</td>\n",
       "      <td>41</td>\n",
       "      <td>1</td>\n",
       "      <td>0</td>\n",
       "      <td>M</td>\n",
       "      <td>сотрудник</td>\n",
       "      <td>0</td>\n",
       "      <td>144425</td>\n",
       "      <td>покупка жилья для семьи</td>\n",
       "    </tr>\n",
       "  </tbody>\n",
       "</table>\n",
       "</div>"
      ],
      "text/plain": [
       "   children  days_employed  dob_years  education_id  family_status_id gender  \\\n",
       "0         1           8437         42             0                 0      F   \n",
       "1         1           4024         36             1                 0      F   \n",
       "2         0           5623         33             1                 0      M   \n",
       "3         3           4124         32             1                 0      M   \n",
       "4         0             38         53             1                 1      F   \n",
       "5         0            926         27             0                 1      M   \n",
       "6         0           2879         43             0                 0      F   \n",
       "7         0            152         50             1                 0      M   \n",
       "8         2           6929         35             0                 1      F   \n",
       "9         0           2188         41             1                 0      M   \n",
       "\n",
       "  income_type  debt  total_income                     purpose  \n",
       "0   сотрудник     0        253875               покупка жилья  \n",
       "1   сотрудник     0        112080     приобретение автомобиля  \n",
       "2   сотрудник     0        145885               покупка жилья  \n",
       "3   сотрудник     0        267628  дополнительное образование  \n",
       "4   пенсионер     0        158616             сыграть свадьбу  \n",
       "5   компаньон     0        255763               покупка жилья  \n",
       "6   компаньон     0        240525           операции с жильем  \n",
       "7   сотрудник     0        135823                 образование  \n",
       "8   сотрудник     0         95856       на проведение свадьбы  \n",
       "9   сотрудник     0        144425     покупка жилья для семьи  "
      ]
     },
     "execution_count": 25,
     "metadata": {},
     "output_type": "execute_result"
    }
   ],
   "source": [
    "education_dict = data[['education', 'education_id']]\n",
    "education_dict = education_dict.drop_duplicates().reset_index(drop=True)\n",
    "\n",
    "family_status_dict = data[['family_status', 'family_status_id']]\n",
    "family_status_dict = family_status_dict.drop_duplicates().reset_index(drop=True)\n",
    "\n",
    "credit_history = data [[ 'children', 'days_employed', 'dob_years', 'education_id', 'family_status_id', 'gender', 'income_type', 'debt', 'total_income', 'purpose']]\n",
    "credit_history.head(10)"
   ]
  },
  {
   "cell_type": "markdown",
   "id": "8ae7663c",
   "metadata": {},
   "source": [
    "# Шаг 6. Категоризация данных."
   ]
  },
  {
   "cell_type": "code",
   "execution_count": 26,
   "id": "eeeb47f6",
   "metadata": {},
   "outputs": [
    {
     "name": "stderr",
     "output_type": "stream",
     "text": [
      "/tmp/ipykernel_32/3846242974.py:12: SettingWithCopyWarning: \n",
      "A value is trying to be set on a copy of a slice from a DataFrame.\n",
      "Try using .loc[row_indexer,col_indexer] = value instead\n",
      "\n",
      "See the caveats in the documentation: https://pandas.pydata.org/pandas-docs/stable/user_guide/indexing.html#returning-a-view-versus-a-copy\n",
      "  credit_history['total_income_category'] = credit_history['total_income'].apply(income_categories)\n"
     ]
    }
   ],
   "source": [
    "#Категоризируем данные о способе получения дохода.\n",
    "def income_categories (income):\n",
    "    if income <= 30000:\n",
    "        return 'E'\n",
    "    if income <= 50000:\n",
    "        return 'D'\n",
    "    if income <= 200000:\n",
    "        return 'C'\n",
    "    if income <= 1000000:\n",
    "        return 'B'\n",
    "    return 'A'\n",
    "\n",
    "credit_history['total_income_category'] = credit_history['total_income'].apply(income_categories)"
   ]
  },
  {
   "cell_type": "code",
   "execution_count": 27,
   "id": "f09918e1",
   "metadata": {},
   "outputs": [
    {
     "data": {
      "text/plain": [
       "adult      8191\n",
       "retiree    6626\n",
       "middle     5332\n",
       "junior     1228\n",
       "Name: age_group, dtype: int64"
      ]
     },
     "execution_count": 27,
     "metadata": {},
     "output_type": "execute_result"
    }
   ],
   "source": [
    "#Категоризируем данные по возрасту клиента.\n",
    "def age_categories(age):\n",
    "    if age <= 25:\n",
    "        return 'junior'\n",
    "    if age <= 35:\n",
    "        return 'middle'\n",
    "    if age <= 50:\n",
    "        return 'adult'\n",
    "    return 'retiree'\n",
    "\n",
    "credit_history['age_group'] = credit_history['dob_years'].apply(age_categories)\n",
    "credit_history['age_group'].value_counts()"
   ]
  },
  {
   "cell_type": "code",
   "execution_count": 28,
   "id": "b3e9117a",
   "metadata": {},
   "outputs": [
    {
     "data": {
      "text/plain": [
       "C    15959\n",
       "B     5021\n",
       "D      350\n",
       "A       25\n",
       "E       22\n",
       "Name: total_income_category, dtype: int64"
      ]
     },
     "execution_count": 28,
     "metadata": {},
     "output_type": "execute_result"
    }
   ],
   "source": [
    "credit_history['total_income_category'].value_counts()"
   ]
  },
  {
   "cell_type": "code",
   "execution_count": 29,
   "id": "596cbd48",
   "metadata": {},
   "outputs": [
    {
     "data": {
      "text/plain": [
       "свадьба                                   790\n",
       "на проведение свадьбы                     763\n",
       "сыграть свадьбу                           761\n",
       "операции с недвижимостью                  674\n",
       "покупка коммерческой недвижимости         658\n",
       "покупка жилья для сдачи                   650\n",
       "операции с жильем                         648\n",
       "операции с коммерческой недвижимостью     646\n",
       "покупка жилья                             643\n",
       "жилье                                     642\n",
       "покупка жилья для семьи                   637\n",
       "недвижимость                              632\n",
       "строительство собственной недвижимости    629\n",
       "операции со своей недвижимостью           626\n",
       "строительство жилой недвижимости          623\n",
       "покупка своего жилья                      620\n",
       "покупка недвижимости                      619\n",
       "строительство недвижимости                619\n",
       "ремонт жилью                              605\n",
       "покупка жилой недвижимости                604\n",
       "на покупку своего автомобиля              505\n",
       "заняться высшим образованием              496\n",
       "автомобиль                                493\n",
       "сделка с подержанным автомобилем          482\n",
       "автомобили                                477\n",
       "свой автомобиль                           475\n",
       "на покупку подержанного автомобиля        472\n",
       "на покупку автомобиля                     470\n",
       "приобретение автомобиля                   461\n",
       "дополнительное образование                457\n",
       "сделка с автомобилем                      455\n",
       "высшее образование                        447\n",
       "получение дополнительного образования     445\n",
       "образование                               445\n",
       "получение образования                     441\n",
       "профильное образование                    434\n",
       "получение высшего образования             425\n",
       "заняться образованием                     408\n",
       "Name: purpose, dtype: int64"
      ]
     },
     "execution_count": 29,
     "metadata": {},
     "output_type": "execute_result"
    }
   ],
   "source": [
    "credit_history['purpose'].value_counts()"
   ]
  },
  {
   "cell_type": "code",
   "execution_count": 30,
   "id": "e56f83a2",
   "metadata": {},
   "outputs": [],
   "source": [
    "#Категоризируем данные по целям кредитов.\n",
    "def purpose_categories (purpose):\n",
    "    if 'свадьб' in purpose:\n",
    "        return 'свадьба'\n",
    "    if 'недвижим' in purpose:\n",
    "        return 'недвижимость'\n",
    "    if 'авто' in purpose:\n",
    "        return 'автомобиль'\n",
    "    if 'жиль' in purpose:\n",
    "        return 'недвижимость'\n",
    "    if 'образ' in purpose:\n",
    "        return 'образование'\n",
    "    return 'остальное'\n",
    "\n",
    "credit_history ['purpose_category'] = credit_history['purpose'].apply(purpose_categories)"
   ]
  },
  {
   "cell_type": "code",
   "execution_count": 31,
   "id": "5d81874c",
   "metadata": {},
   "outputs": [
    {
     "data": {
      "text/plain": [
       "недвижимость    10775\n",
       "автомобиль       4290\n",
       "образование      3998\n",
       "свадьба          2314\n",
       "Name: purpose_category, dtype: int64"
      ]
     },
     "execution_count": 31,
     "metadata": {},
     "output_type": "execute_result"
    }
   ],
   "source": [
    "credit_history['purpose_category'].value_counts()"
   ]
  },
  {
   "cell_type": "markdown",
   "id": "5849d1e8",
   "metadata": {},
   "source": [
    "Данные категоризированы. "
   ]
  },
  {
   "cell_type": "markdown",
   "id": "cc1463cd",
   "metadata": {},
   "source": [
    "# Шаг 7. Анализ данных."
   ]
  },
  {
   "cell_type": "code",
   "execution_count": 32,
   "id": "2e5e0701",
   "metadata": {},
   "outputs": [
    {
     "name": "stdout",
     "output_type": "stream",
     "text": [
      "Средний уровень задолженности составляет: 8.106843804088507 %\n"
     ]
    }
   ],
   "source": [
    "#рассчитаем средний процент должников датафрейма. \n",
    "\n",
    "mean_debt = credit_history['debt'].mean()\n",
    "print ('Средний уровень должников составляет:',mean_debt*100,'%')\n"
   ]
  },
  {
   "cell_type": "code",
   "execution_count": 34,
   "id": "ab14454b",
   "metadata": {},
   "outputs": [
    {
     "data": {
      "text/html": [
       "<div>\n",
       "<style scoped>\n",
       "    .dataframe tbody tr th:only-of-type {\n",
       "        vertical-align: middle;\n",
       "    }\n",
       "\n",
       "    .dataframe tbody tr th {\n",
       "        vertical-align: top;\n",
       "    }\n",
       "\n",
       "    .dataframe thead th {\n",
       "        text-align: right;\n",
       "    }\n",
       "</style>\n",
       "<table border=\"1\" class=\"dataframe\">\n",
       "  <thead>\n",
       "    <tr style=\"text-align: right;\">\n",
       "      <th>debt</th>\n",
       "      <th>total_borrowers</th>\n",
       "      <th>debitors_percentage</th>\n",
       "    </tr>\n",
       "    <tr>\n",
       "      <th>children</th>\n",
       "      <th></th>\n",
       "      <th></th>\n",
       "    </tr>\n",
       "  </thead>\n",
       "  <tbody>\n",
       "    <tr>\n",
       "      <th>0</th>\n",
       "      <td>14090.0</td>\n",
       "      <td>7.544358</td>\n",
       "    </tr>\n",
       "    <tr>\n",
       "      <th>1</th>\n",
       "      <td>4855.0</td>\n",
       "      <td>9.165808</td>\n",
       "    </tr>\n",
       "    <tr>\n",
       "      <th>2</th>\n",
       "      <td>2052.0</td>\n",
       "      <td>9.454191</td>\n",
       "    </tr>\n",
       "    <tr>\n",
       "      <th>3</th>\n",
       "      <td>330.0</td>\n",
       "      <td>8.181818</td>\n",
       "    </tr>\n",
       "    <tr>\n",
       "      <th>4</th>\n",
       "      <td>41.0</td>\n",
       "      <td>9.756098</td>\n",
       "    </tr>\n",
       "    <tr>\n",
       "      <th>5</th>\n",
       "      <td>9.0</td>\n",
       "      <td>0.000000</td>\n",
       "    </tr>\n",
       "  </tbody>\n",
       "</table>\n",
       "</div>"
      ],
      "text/plain": [
       "debt      total_borrowers  debitors_percentage\n",
       "children                                      \n",
       "0                 14090.0             7.544358\n",
       "1                  4855.0             9.165808\n",
       "2                  2052.0             9.454191\n",
       "3                   330.0             8.181818\n",
       "4                    41.0             9.756098\n",
       "5                     9.0             0.000000"
      ]
     },
     "execution_count": 34,
     "metadata": {},
     "output_type": "execute_result"
    }
   ],
   "source": [
    "#Зависимость от количества детей\n",
    "table_children = pd.pivot_table(credit_history, index = 'children', columns = 'debt', values = 'purpose', aggfunc = 'count')\n",
    "table_children.loc[5,1] = 0\n",
    "table_children['credits_count'] = table_children[0] + table_children[1]\n",
    "table_children['credits_count'] = table_children[1]/table_children['credits_count']*100\n",
    "table_children [['credits_count','credits_count']]\n"
   ]
  },
  {
   "cell_type": "markdown",
   "id": "0563d1f6",
   "metadata": {},
   "source": [
    "Отметим негативный тренд выплчиваемости кредита по мере увеличения количества детей. \n",
    "Тренд прерывается на значении `3`, но стоит принимать во внимание сравнительно небольшое количество исследований. \n",
    "\n",
    "Появление детей в семье может негативно сказаться на возможности выплатить кредит в срок по следующим причинам:  \n",
    "1. Уменьшение финансового потока, так как один из родителей выходит в декрет.\n",
    "2. Увеличение суммы обязательных ежемесячных трат."
   ]
  },
  {
   "cell_type": "code",
   "execution_count": 35,
   "id": "9b26c53a",
   "metadata": {},
   "outputs": [
    {
     "data": {
      "text/html": [
       "<div>\n",
       "<style scoped>\n",
       "    .dataframe tbody tr th:only-of-type {\n",
       "        vertical-align: middle;\n",
       "    }\n",
       "\n",
       "    .dataframe tbody tr th {\n",
       "        vertical-align: top;\n",
       "    }\n",
       "\n",
       "    .dataframe thead th {\n",
       "        text-align: right;\n",
       "    }\n",
       "</style>\n",
       "<table border=\"1\" class=\"dataframe\">\n",
       "  <thead>\n",
       "    <tr style=\"text-align: right;\">\n",
       "      <th></th>\n",
       "      <th>family_status</th>\n",
       "      <th>total_borrowers</th>\n",
       "      <th>debitors_percentage</th>\n",
       "    </tr>\n",
       "  </thead>\n",
       "  <tbody>\n",
       "    <tr>\n",
       "      <th>0</th>\n",
       "      <td>женат / замужем</td>\n",
       "      <td>12290</td>\n",
       "      <td>7.550854</td>\n",
       "    </tr>\n",
       "    <tr>\n",
       "      <th>1</th>\n",
       "      <td>гражданский брак</td>\n",
       "      <td>4138</td>\n",
       "      <td>9.304012</td>\n",
       "    </tr>\n",
       "    <tr>\n",
       "      <th>2</th>\n",
       "      <td>вдовец / вдова</td>\n",
       "      <td>955</td>\n",
       "      <td>6.596859</td>\n",
       "    </tr>\n",
       "    <tr>\n",
       "      <th>3</th>\n",
       "      <td>в разводе</td>\n",
       "      <td>1193</td>\n",
       "      <td>7.041073</td>\n",
       "    </tr>\n",
       "    <tr>\n",
       "      <th>4</th>\n",
       "      <td>не женат / не замужем</td>\n",
       "      <td>2801</td>\n",
       "      <td>9.746519</td>\n",
       "    </tr>\n",
       "  </tbody>\n",
       "</table>\n",
       "</div>"
      ],
      "text/plain": [
       "           family_status  total_borrowers  debitors_percentage\n",
       "0        женат / замужем            12290             7.550854\n",
       "1       гражданский брак             4138             9.304012\n",
       "2         вдовец / вдова              955             6.596859\n",
       "3              в разводе             1193             7.041073\n",
       "4  не женат / не замужем             2801             9.746519"
      ]
     },
     "execution_count": 35,
     "metadata": {},
     "output_type": "execute_result"
    }
   ],
   "source": [
    "#Зависимость от семейного положения\n",
    "marriage = pd.pivot_table(credit_history, index = ['family_status_id'], columns = 'debt', values = 'purpose', aggfunc = 'count')\n",
    "\n",
    "marriage['total_borrowers'] = marriage[0] + marriage[1]\n",
    "marriage['debitors_percentage'] = marriage[1]/marriage['total_borrowers']*100\n",
    "\n",
    "\n",
    "marriage = marriage.merge(family_status_dict, on = 'family_status_id', how = 'left')\n",
    "marriage[['family_status', 'total_borrowers', 'debitors_percentage']]\n",
    "\n"
   ]
  },
  {
   "cell_type": "markdown",
   "id": "a0f76e08",
   "metadata": {},
   "source": [
    "Отметим, что в категориях, где отношения были законодательно оформлены, `женат / замужем`,`вдовец / вдова`,`в разводе`, процент выплачиваемости кредитов значительно лучше, чем в остальных категориях: `не женат / не замужем`,`гражданский брак`\n",
    "\n",
    "Для исследования причин, проведем дополнительный анализ: \n",
    "1. Оценим влияние других категориальных значений фрейма на выплачиваемость кредита. \n",
    "2. Проверим, каким образом распределены наиболее влияющие категориальные значения по различным видам семейного положения. "
   ]
  },
  {
   "cell_type": "code",
   "execution_count": 33,
   "id": "70ce8c19",
   "metadata": {},
   "outputs": [
    {
     "data": {
      "text/html": [
       "<div>\n",
       "<style scoped>\n",
       "    .dataframe tbody tr th:only-of-type {\n",
       "        vertical-align: middle;\n",
       "    }\n",
       "\n",
       "    .dataframe tbody tr th {\n",
       "        vertical-align: top;\n",
       "    }\n",
       "\n",
       "    .dataframe thead th {\n",
       "        text-align: right;\n",
       "    }\n",
       "</style>\n",
       "<table border=\"1\" class=\"dataframe\">\n",
       "  <thead>\n",
       "    <tr style=\"text-align: right;\">\n",
       "      <th>debt</th>\n",
       "      <th>0</th>\n",
       "      <th>1</th>\n",
       "      <th>credits_count</th>\n",
       "      <th>debt_count</th>\n",
       "    </tr>\n",
       "    <tr>\n",
       "      <th>total_income_category</th>\n",
       "      <th></th>\n",
       "      <th></th>\n",
       "      <th></th>\n",
       "      <th></th>\n",
       "    </tr>\n",
       "  </thead>\n",
       "  <tbody>\n",
       "    <tr>\n",
       "      <th>A</th>\n",
       "      <td>23</td>\n",
       "      <td>2</td>\n",
       "      <td>25</td>\n",
       "      <td>8.000000</td>\n",
       "    </tr>\n",
       "    <tr>\n",
       "      <th>B</th>\n",
       "      <td>4667</td>\n",
       "      <td>354</td>\n",
       "      <td>5021</td>\n",
       "      <td>7.050388</td>\n",
       "    </tr>\n",
       "    <tr>\n",
       "      <th>C</th>\n",
       "      <td>14605</td>\n",
       "      <td>1354</td>\n",
       "      <td>15959</td>\n",
       "      <td>8.484241</td>\n",
       "    </tr>\n",
       "    <tr>\n",
       "      <th>D</th>\n",
       "      <td>329</td>\n",
       "      <td>21</td>\n",
       "      <td>350</td>\n",
       "      <td>6.000000</td>\n",
       "    </tr>\n",
       "    <tr>\n",
       "      <th>E</th>\n",
       "      <td>20</td>\n",
       "      <td>2</td>\n",
       "      <td>22</td>\n",
       "      <td>9.090909</td>\n",
       "    </tr>\n",
       "  </tbody>\n",
       "</table>\n",
       "</div>"
      ],
      "text/plain": [
       "debt                       0     1  credits_count  debt_count\n",
       "total_income_category                                        \n",
       "A                         23     2             25    8.000000\n",
       "B                       4667   354           5021    7.050388\n",
       "C                      14605  1354          15959    8.484241\n",
       "D                        329    21            350    6.000000\n",
       "E                         20     2             22    9.090909"
      ]
     },
     "execution_count": 33,
     "metadata": {},
     "output_type": "execute_result"
    }
   ],
   "source": [
    "#Зависимость от суммы дохода\n",
    "table = pd.pivot_table(credit_history,index = 'total_income_category', columns = ['debt'], values = 'purpose', aggfunc = 'count')\n",
    "table['credits_count'] = table[0] + table[1]\n",
    "table['debt_count'] = table[1]/table['credits_count']*100\n",
    "table \n"
   ]
  },
  {
   "cell_type": "markdown",
   "id": "a75bd4e8",
   "metadata": {},
   "source": [
    "Из таблицы выше видно отсутсвие корреляции между уровнем дохода и выплачиваемостью кредита. \n",
    "Можно отметить незначительное улучшение платежеспосбности для категории `B`. \n",
    "Значения категорий `D` и `E` нельзя считать репрезентативными, так как слишком мало исследований."
   ]
  },
  {
   "cell_type": "code",
   "execution_count": 36,
   "id": "6cb5da3d",
   "metadata": {},
   "outputs": [
    {
     "data": {
      "text/html": [
       "<div>\n",
       "<style scoped>\n",
       "    .dataframe tbody tr th:only-of-type {\n",
       "        vertical-align: middle;\n",
       "    }\n",
       "\n",
       "    .dataframe tbody tr th {\n",
       "        vertical-align: top;\n",
       "    }\n",
       "\n",
       "    .dataframe thead th {\n",
       "        text-align: right;\n",
       "    }\n",
       "</style>\n",
       "<table border=\"1\" class=\"dataframe\">\n",
       "  <thead>\n",
       "    <tr style=\"text-align: right;\">\n",
       "      <th>debt</th>\n",
       "      <th>total_borrowers</th>\n",
       "      <th>debitors_percentage</th>\n",
       "    </tr>\n",
       "    <tr>\n",
       "      <th>purpose_category</th>\n",
       "      <th></th>\n",
       "      <th></th>\n",
       "    </tr>\n",
       "  </thead>\n",
       "  <tbody>\n",
       "    <tr>\n",
       "      <th>автомобиль</th>\n",
       "      <td>4290</td>\n",
       "      <td>9.347319</td>\n",
       "    </tr>\n",
       "    <tr>\n",
       "      <th>недвижимость</th>\n",
       "      <td>10775</td>\n",
       "      <td>7.238979</td>\n",
       "    </tr>\n",
       "    <tr>\n",
       "      <th>образование</th>\n",
       "      <td>3998</td>\n",
       "      <td>9.229615</td>\n",
       "    </tr>\n",
       "    <tr>\n",
       "      <th>свадьба</th>\n",
       "      <td>2314</td>\n",
       "      <td>7.908384</td>\n",
       "    </tr>\n",
       "  </tbody>\n",
       "</table>\n",
       "</div>"
      ],
      "text/plain": [
       "debt              total_borrowers  debitors_percentage\n",
       "purpose_category                                      \n",
       "автомобиль                   4290             9.347319\n",
       "недвижимость                10775             7.238979\n",
       "образование                  3998             9.229615\n",
       "свадьба                      2314             7.908384"
      ]
     },
     "execution_count": 36,
     "metadata": {},
     "output_type": "execute_result"
    }
   ],
   "source": [
    "#Зависимость от цели кредита\n",
    "purpose = pd.pivot_table(credit_history, index = 'purpose_category', columns = 'debt', values = 'purpose', aggfunc='count')\n",
    "\n",
    "purpose['total_borrowers'] = purpose[0] + purpose[1]\n",
    "purpose['debitors_percentage'] = purpose[1]/purpose['total_borrowers']*100\n",
    "purpose [['total_borrowers', 'debitors_percentage']]\n",
    "\n"
   ]
  },
  {
   "cell_type": "markdown",
   "id": "33a3277b",
   "metadata": {},
   "source": [
    "Из таблицы видно, что выплачиваемость кредита по категориям `свадьба` и `недвижимость` лучше, чем по категориям `автомобиль` и `образование`."
   ]
  },
  {
   "cell_type": "code",
   "execution_count": 47,
   "id": "3f4017e3",
   "metadata": {},
   "outputs": [
    {
     "data": {
      "text/html": [
       "<div>\n",
       "<style scoped>\n",
       "    .dataframe tbody tr th:only-of-type {\n",
       "        vertical-align: middle;\n",
       "    }\n",
       "\n",
       "    .dataframe tbody tr th {\n",
       "        vertical-align: top;\n",
       "    }\n",
       "\n",
       "    .dataframe thead th {\n",
       "        text-align: right;\n",
       "    }\n",
       "</style>\n",
       "<table border=\"1\" class=\"dataframe\">\n",
       "  <thead>\n",
       "    <tr style=\"text-align: right;\">\n",
       "      <th>debt</th>\n",
       "      <th>total_borrowers</th>\n",
       "      <th>debitors_percentage</th>\n",
       "    </tr>\n",
       "    <tr>\n",
       "      <th>gender</th>\n",
       "      <th></th>\n",
       "      <th></th>\n",
       "    </tr>\n",
       "  </thead>\n",
       "  <tbody>\n",
       "    <tr>\n",
       "      <th>F</th>\n",
       "      <td>14126.0</td>\n",
       "      <td>7.008353</td>\n",
       "    </tr>\n",
       "    <tr>\n",
       "      <th>M</th>\n",
       "      <td>7250.0</td>\n",
       "      <td>10.248276</td>\n",
       "    </tr>\n",
       "  </tbody>\n",
       "</table>\n",
       "</div>"
      ],
      "text/plain": [
       "debt    total_borrowers  debitors_percentage\n",
       "gender                                      \n",
       "F               14126.0             7.008353\n",
       "M                7250.0            10.248276"
      ]
     },
     "execution_count": 47,
     "metadata": {},
     "output_type": "execute_result"
    }
   ],
   "source": [
    "#Возвращаемость кредита в зависимости от пола заемщика. \n",
    "\n",
    "gender = pd.pivot_table(credit_history, index ='gender', columns ='debt', values ='purpose_category', aggfunc ='count')\n",
    "gender['total_borrowers'] = gender[0] + gender[1]\n",
    "gender['debitors_percentage'] = gender[1]/gender['total_borrowers']*100\n",
    "gender [['total_borrowers', 'debitors_percentage']]\n",
    "gender = gender.dropna()\n",
    "gender[['total_borrowers', 'debitors_percentage']]\n"
   ]
  },
  {
   "cell_type": "markdown",
   "id": "99f41af0",
   "metadata": {},
   "source": [
    "Несмотря на сомнительную этичность данного разреза, сделаем вывод, что женщины выплачивают кредиты значительно исправнее мужчин. "
   ]
  },
  {
   "cell_type": "code",
   "execution_count": 49,
   "id": "ff1ca9f1",
   "metadata": {},
   "outputs": [
    {
     "data": {
      "text/html": [
       "<div>\n",
       "<style scoped>\n",
       "    .dataframe tbody tr th:only-of-type {\n",
       "        vertical-align: middle;\n",
       "    }\n",
       "\n",
       "    .dataframe tbody tr th {\n",
       "        vertical-align: top;\n",
       "    }\n",
       "\n",
       "    .dataframe thead th {\n",
       "        text-align: right;\n",
       "    }\n",
       "</style>\n",
       "<table border=\"1\" class=\"dataframe\">\n",
       "  <thead>\n",
       "    <tr style=\"text-align: right;\">\n",
       "      <th></th>\n",
       "      <th>education</th>\n",
       "      <th>total_borrowers</th>\n",
       "      <th>debitors_percentage</th>\n",
       "    </tr>\n",
       "  </thead>\n",
       "  <tbody>\n",
       "    <tr>\n",
       "      <th>0</th>\n",
       "      <td>высшее</td>\n",
       "      <td>5236.0</td>\n",
       "      <td>5.309396</td>\n",
       "    </tr>\n",
       "    <tr>\n",
       "      <th>1</th>\n",
       "      <td>среднее</td>\n",
       "      <td>15111.0</td>\n",
       "      <td>8.973595</td>\n",
       "    </tr>\n",
       "    <tr>\n",
       "      <th>2</th>\n",
       "      <td>неоконченное высшее</td>\n",
       "      <td>742.0</td>\n",
       "      <td>9.164420</td>\n",
       "    </tr>\n",
       "    <tr>\n",
       "      <th>3</th>\n",
       "      <td>начальное</td>\n",
       "      <td>282.0</td>\n",
       "      <td>10.992908</td>\n",
       "    </tr>\n",
       "  </tbody>\n",
       "</table>\n",
       "</div>"
      ],
      "text/plain": [
       "             education  total_borrowers  debitors_percentage\n",
       "0               высшее           5236.0             5.309396\n",
       "1              среднее          15111.0             8.973595\n",
       "2  неоконченное высшее            742.0             9.164420\n",
       "3            начальное            282.0            10.992908"
      ]
     },
     "execution_count": 49,
     "metadata": {},
     "output_type": "execute_result"
    }
   ],
   "source": [
    "#Возвращаемость кредита в зависимости от уровня образования. \n",
    "\n",
    "education = pd.pivot_table(credit_history, index = 'education_id', columns = 'debt', values = 'purpose', aggfunc = 'count')\n",
    "education = education.merge(education_dict, on='education_id', how = 'left')\n",
    "education['total_borrowers'] = education[0] + education[1]\n",
    "education['debitors_percentage'] = education[1]/education['total_borrowers']*100\n",
    "\n",
    "education = education.dropna()\n",
    "education[['education', 'total_borrowers', 'debitors_percentage']]\n",
    "\n"
   ]
  },
  {
   "cell_type": "markdown",
   "id": "9ae94f3d",
   "metadata": {},
   "source": [
    "Отметим, что клиенты с высшим образованием возвращают кредиты значительно лучше, клиентов с остальными категориями образований. "
   ]
  },
  {
   "cell_type": "code",
   "execution_count": 48,
   "id": "67051e05",
   "metadata": {},
   "outputs": [
    {
     "data": {
      "text/html": [
       "<div>\n",
       "<style scoped>\n",
       "    .dataframe tbody tr th:only-of-type {\n",
       "        vertical-align: middle;\n",
       "    }\n",
       "\n",
       "    .dataframe tbody tr th {\n",
       "        vertical-align: top;\n",
       "    }\n",
       "\n",
       "    .dataframe thead th {\n",
       "        text-align: right;\n",
       "    }\n",
       "</style>\n",
       "<table border=\"1\" class=\"dataframe\">\n",
       "  <thead>\n",
       "    <tr style=\"text-align: right;\">\n",
       "      <th>debt</th>\n",
       "      <th>total_borrowers</th>\n",
       "      <th>debitors_percentage</th>\n",
       "    </tr>\n",
       "    <tr>\n",
       "      <th>income_type</th>\n",
       "      <th></th>\n",
       "      <th></th>\n",
       "    </tr>\n",
       "  </thead>\n",
       "  <tbody>\n",
       "    <tr>\n",
       "      <th>безработный</th>\n",
       "      <td>2.0</td>\n",
       "      <td>50.000000</td>\n",
       "    </tr>\n",
       "    <tr>\n",
       "      <th>госслужащий</th>\n",
       "      <td>1455.0</td>\n",
       "      <td>5.910653</td>\n",
       "    </tr>\n",
       "    <tr>\n",
       "      <th>компаньон</th>\n",
       "      <td>5056.0</td>\n",
       "      <td>7.397152</td>\n",
       "    </tr>\n",
       "    <tr>\n",
       "      <th>пенсионер</th>\n",
       "      <td>3820.0</td>\n",
       "      <td>5.654450</td>\n",
       "    </tr>\n",
       "    <tr>\n",
       "      <th>сотрудник</th>\n",
       "      <td>11040.0</td>\n",
       "      <td>9.556159</td>\n",
       "    </tr>\n",
       "  </tbody>\n",
       "</table>\n",
       "</div>"
      ],
      "text/plain": [
       "debt         total_borrowers  debitors_percentage\n",
       "income_type                                      \n",
       "безработный              2.0            50.000000\n",
       "госслужащий           1455.0             5.910653\n",
       "компаньон             5056.0             7.397152\n",
       "пенсионер             3820.0             5.654450\n",
       "сотрудник            11040.0             9.556159"
      ]
     },
     "execution_count": 48,
     "metadata": {},
     "output_type": "execute_result"
    }
   ],
   "source": [
    "#Возвращаемость кредита в зависимости от способа получения дохода\n",
    "\n",
    "income_type = pd.pivot_table(credit_history, index = 'income_type', columns = 'debt', values = 'purpose', aggfunc = 'count')\n",
    "income_type['total_borrowers'] = income_type[0] + income_type[1]\n",
    "income_type['debitors_percentage'] = income_type[1]/income_type['total_borrowers']*100\n",
    "\n",
    "income_type = income_type.dropna()\n",
    "income_type[['total_borrowers', 'debitors_percentage']]\n",
    "\n"
   ]
  },
  {
   "cell_type": "markdown",
   "id": "20260fd5",
   "metadata": {},
   "source": [
    "Отметим, что госслужащие, компаньоны и пенсионеры возвращают кредиты лучше, чем сотрудники. "
   ]
  },
  {
   "cell_type": "code",
   "execution_count": 52,
   "id": "1b71190d",
   "metadata": {},
   "outputs": [
    {
     "data": {
      "text/html": [
       "<div>\n",
       "<style scoped>\n",
       "    .dataframe tbody tr th:only-of-type {\n",
       "        vertical-align: middle;\n",
       "    }\n",
       "\n",
       "    .dataframe tbody tr th {\n",
       "        vertical-align: top;\n",
       "    }\n",
       "\n",
       "    .dataframe thead th {\n",
       "        text-align: right;\n",
       "    }\n",
       "</style>\n",
       "<table border=\"1\" class=\"dataframe\">\n",
       "  <thead>\n",
       "    <tr style=\"text-align: right;\">\n",
       "      <th>debt</th>\n",
       "      <th>total_borrowers</th>\n",
       "      <th>debitors_percentage</th>\n",
       "    </tr>\n",
       "    <tr>\n",
       "      <th>age_group</th>\n",
       "      <th></th>\n",
       "      <th></th>\n",
       "    </tr>\n",
       "  </thead>\n",
       "  <tbody>\n",
       "    <tr>\n",
       "      <th>adult</th>\n",
       "      <td>8191</td>\n",
       "      <td>8.020999</td>\n",
       "    </tr>\n",
       "    <tr>\n",
       "      <th>junior</th>\n",
       "      <td>1228</td>\n",
       "      <td>10.667752</td>\n",
       "    </tr>\n",
       "    <tr>\n",
       "      <th>middle</th>\n",
       "      <td>5332</td>\n",
       "      <td>10.596399</td>\n",
       "    </tr>\n",
       "    <tr>\n",
       "      <th>retiree</th>\n",
       "      <td>6626</td>\n",
       "      <td>5.734983</td>\n",
       "    </tr>\n",
       "  </tbody>\n",
       "</table>\n",
       "</div>"
      ],
      "text/plain": [
       "debt       total_borrowers  debitors_percentage\n",
       "age_group                                      \n",
       "adult                 8191             8.020999\n",
       "junior                1228            10.667752\n",
       "middle                5332            10.596399\n",
       "retiree               6626             5.734983"
      ]
     },
     "execution_count": 52,
     "metadata": {},
     "output_type": "execute_result"
    }
   ],
   "source": [
    "age = pd.pivot_table(credit_history, index = 'age_group', columns = 'debt', values = 'purpose', aggfunc = 'count')\n",
    "age['total_borrowers'] = age[0] + age[1]\n",
    "age['debitors_percentage'] = age[1]/age['total_borrowers']*100\n",
    "\n",
    "age = age.dropna()\n",
    "age[['total_borrowers', 'debitors_percentage']]"
   ]
  },
  {
   "cell_type": "markdown",
   "id": "00f58f7a",
   "metadata": {},
   "source": [
    "# Выводы\n",
    "1. Увеличение количества детей негативно влияет на выплачиваемость кредита. \n",
    "2. Законодательно оформленные отношения позитивно влияют на выплачиваемость кредита. \n",
    "3. Наиболее значительное влияние на выплачиваемость кредита оказывают критерии: возрастная группа и уровень образования заемщика.\n",
    "\n",
    "# Гипотезы\n",
    "1. Среди клиентов банка, находящихся в законодательно оформленных отношениях доминируют люди старших возрастных групп и люди, имеющие высшее образование.\n",
    "2. Дети появляются в относительно молодых возрастных группах, что может негативно влиять на выплачиваемость кредита.\n",
    "\n",
    "Проверим гипотезы, составив необходимые сводные таблицы. "
   ]
  },
  {
   "cell_type": "code",
   "execution_count": 41,
   "id": "a663a571",
   "metadata": {},
   "outputs": [
    {
     "data": {
      "text/html": [
       "<div>\n",
       "<style scoped>\n",
       "    .dataframe tbody tr th:only-of-type {\n",
       "        vertical-align: middle;\n",
       "    }\n",
       "\n",
       "    .dataframe tbody tr th {\n",
       "        vertical-align: top;\n",
       "    }\n",
       "\n",
       "    .dataframe thead th {\n",
       "        text-align: right;\n",
       "    }\n",
       "</style>\n",
       "<table border=\"1\" class=\"dataframe\">\n",
       "  <thead>\n",
       "    <tr style=\"text-align: right;\">\n",
       "      <th></th>\n",
       "      <th>education</th>\n",
       "      <th>family_status</th>\n",
       "      <th>total_borrowers</th>\n",
       "      <th>debitors_percentage</th>\n",
       "    </tr>\n",
       "  </thead>\n",
       "  <tbody>\n",
       "    <tr>\n",
       "      <th>0</th>\n",
       "      <td>высшее</td>\n",
       "      <td>женат / замужем</td>\n",
       "      <td>3030.0</td>\n",
       "      <td>5.115512</td>\n",
       "    </tr>\n",
       "    <tr>\n",
       "      <th>1</th>\n",
       "      <td>высшее</td>\n",
       "      <td>гражданский брак</td>\n",
       "      <td>953.0</td>\n",
       "      <td>5.771249</td>\n",
       "    </tr>\n",
       "    <tr>\n",
       "      <th>2</th>\n",
       "      <td>высшее</td>\n",
       "      <td>вдовец / вдова</td>\n",
       "      <td>135.0</td>\n",
       "      <td>5.185185</td>\n",
       "    </tr>\n",
       "    <tr>\n",
       "      <th>3</th>\n",
       "      <td>высшее</td>\n",
       "      <td>в разводе</td>\n",
       "      <td>315.0</td>\n",
       "      <td>4.761905</td>\n",
       "    </tr>\n",
       "    <tr>\n",
       "      <th>4</th>\n",
       "      <td>высшее</td>\n",
       "      <td>не женат / не замужем</td>\n",
       "      <td>803.0</td>\n",
       "      <td>5.728518</td>\n",
       "    </tr>\n",
       "    <tr>\n",
       "      <th>5</th>\n",
       "      <td>среднее</td>\n",
       "      <td>женат / замужем</td>\n",
       "      <td>8774.0</td>\n",
       "      <td>8.297242</td>\n",
       "    </tr>\n",
       "    <tr>\n",
       "      <th>6</th>\n",
       "      <td>среднее</td>\n",
       "      <td>гражданский брак</td>\n",
       "      <td>2964.0</td>\n",
       "      <td>10.290148</td>\n",
       "    </tr>\n",
       "    <tr>\n",
       "      <th>7</th>\n",
       "      <td>среднее</td>\n",
       "      <td>вдовец / вдова</td>\n",
       "      <td>776.0</td>\n",
       "      <td>6.958763</td>\n",
       "    </tr>\n",
       "    <tr>\n",
       "      <th>8</th>\n",
       "      <td>среднее</td>\n",
       "      <td>в разводе</td>\n",
       "      <td>826.0</td>\n",
       "      <td>7.627119</td>\n",
       "    </tr>\n",
       "    <tr>\n",
       "      <th>9</th>\n",
       "      <td>среднее</td>\n",
       "      <td>не женат / не замужем</td>\n",
       "      <td>1771.0</td>\n",
       "      <td>11.631846</td>\n",
       "    </tr>\n",
       "    <tr>\n",
       "      <th>10</th>\n",
       "      <td>неоконченное высшее</td>\n",
       "      <td>женат / замужем</td>\n",
       "      <td>341.0</td>\n",
       "      <td>8.797654</td>\n",
       "    </tr>\n",
       "    <tr>\n",
       "      <th>11</th>\n",
       "      <td>неоконченное высшее</td>\n",
       "      <td>гражданский брак</td>\n",
       "      <td>165.0</td>\n",
       "      <td>8.484848</td>\n",
       "    </tr>\n",
       "    <tr>\n",
       "      <th>12</th>\n",
       "      <td>неоконченное высшее</td>\n",
       "      <td>вдовец / вдова</td>\n",
       "      <td>13.0</td>\n",
       "      <td>15.384615</td>\n",
       "    </tr>\n",
       "    <tr>\n",
       "      <th>13</th>\n",
       "      <td>неоконченное высшее</td>\n",
       "      <td>в разводе</td>\n",
       "      <td>31.0</td>\n",
       "      <td>12.903226</td>\n",
       "    </tr>\n",
       "    <tr>\n",
       "      <th>14</th>\n",
       "      <td>неоконченное высшее</td>\n",
       "      <td>не женат / не замужем</td>\n",
       "      <td>192.0</td>\n",
       "      <td>9.375000</td>\n",
       "    </tr>\n",
       "    <tr>\n",
       "      <th>15</th>\n",
       "      <td>начальное</td>\n",
       "      <td>женат / замужем</td>\n",
       "      <td>141.0</td>\n",
       "      <td>10.638298</td>\n",
       "    </tr>\n",
       "    <tr>\n",
       "      <th>16</th>\n",
       "      <td>начальное</td>\n",
       "      <td>гражданский брак</td>\n",
       "      <td>56.0</td>\n",
       "      <td>19.642857</td>\n",
       "    </tr>\n",
       "    <tr>\n",
       "      <th>17</th>\n",
       "      <td>начальное</td>\n",
       "      <td>в разводе</td>\n",
       "      <td>20.0</td>\n",
       "      <td>10.000000</td>\n",
       "    </tr>\n",
       "    <tr>\n",
       "      <th>18</th>\n",
       "      <td>начальное</td>\n",
       "      <td>не женат / не замужем</td>\n",
       "      <td>34.0</td>\n",
       "      <td>8.823529</td>\n",
       "    </tr>\n",
       "  </tbody>\n",
       "</table>\n",
       "</div>"
      ],
      "text/plain": [
       "              education          family_status  total_borrowers  \\\n",
       "0                высшее        женат / замужем           3030.0   \n",
       "1                высшее       гражданский брак            953.0   \n",
       "2                высшее         вдовец / вдова            135.0   \n",
       "3                высшее              в разводе            315.0   \n",
       "4                высшее  не женат / не замужем            803.0   \n",
       "5               среднее        женат / замужем           8774.0   \n",
       "6               среднее       гражданский брак           2964.0   \n",
       "7               среднее         вдовец / вдова            776.0   \n",
       "8               среднее              в разводе            826.0   \n",
       "9               среднее  не женат / не замужем           1771.0   \n",
       "10  неоконченное высшее        женат / замужем            341.0   \n",
       "11  неоконченное высшее       гражданский брак            165.0   \n",
       "12  неоконченное высшее         вдовец / вдова             13.0   \n",
       "13  неоконченное высшее              в разводе             31.0   \n",
       "14  неоконченное высшее  не женат / не замужем            192.0   \n",
       "15            начальное        женат / замужем            141.0   \n",
       "16            начальное       гражданский брак             56.0   \n",
       "17            начальное              в разводе             20.0   \n",
       "18            начальное  не женат / не замужем             34.0   \n",
       "\n",
       "    debitors_percentage  \n",
       "0              5.115512  \n",
       "1              5.771249  \n",
       "2              5.185185  \n",
       "3              4.761905  \n",
       "4              5.728518  \n",
       "5              8.297242  \n",
       "6             10.290148  \n",
       "7              6.958763  \n",
       "8              7.627119  \n",
       "9             11.631846  \n",
       "10             8.797654  \n",
       "11             8.484848  \n",
       "12            15.384615  \n",
       "13            12.903226  \n",
       "14             9.375000  \n",
       "15            10.638298  \n",
       "16            19.642857  \n",
       "17            10.000000  \n",
       "18             8.823529  "
      ]
     },
     "execution_count": 41,
     "metadata": {},
     "output_type": "execute_result"
    }
   ],
   "source": [
    "#Зависимость от семейного положения и образования\n",
    "marriage_and_education = pd.pivot_table(credit_history, index = ['education_id','family_status_id'], columns = 'debt', values = 'purpose', aggfunc = 'count')\n",
    "\n",
    "marriage_and_education['total_borrowers'] = marriage_and_education[0] + marriage_and_education[1]\n",
    "marriage_and_education['debitors_percentage'] = marriage_and_education[1]/marriage_and_education['total_borrowers']*100\n",
    "marriage_and_education = marriage_and_education.dropna()\n",
    "marriage_and_education = marriage_and_education.reset_index()\n",
    "marriage_and_education = marriage_and_education.merge(education_dict, on = 'education_id', how = 'left')\n",
    "marriage_and_education = marriage_and_education.merge(family_status_dict, on = 'family_status_id', how = 'left')\n",
    "marriage_and_education[['education', 'family_status', 'total_borrowers', 'debitors_percentage']]\n",
    "\n",
    "\n"
   ]
  },
  {
   "cell_type": "markdown",
   "id": "15e87063",
   "metadata": {},
   "source": [
    "Из таблицы видно, что уровень образования влияет значительнее, чем семейное положение. \n",
    "При этом внутри каждой категории образования сохраняется тренд, показывающий, что официально оформленные отношения позитивно влияют на вероятность выплатить кредит. "
   ]
  },
  {
   "cell_type": "code",
   "execution_count": 62,
   "id": "fa342b36",
   "metadata": {},
   "outputs": [
    {
     "data": {
      "text/html": [
       "<div>\n",
       "<style scoped>\n",
       "    .dataframe tbody tr th:only-of-type {\n",
       "        vertical-align: middle;\n",
       "    }\n",
       "\n",
       "    .dataframe tbody tr th {\n",
       "        vertical-align: top;\n",
       "    }\n",
       "\n",
       "    .dataframe thead th {\n",
       "        text-align: right;\n",
       "    }\n",
       "</style>\n",
       "<table border=\"1\" class=\"dataframe\">\n",
       "  <thead>\n",
       "    <tr style=\"text-align: right;\">\n",
       "      <th></th>\n",
       "      <th>age_group</th>\n",
       "      <th>family_status</th>\n",
       "      <th>total_borrowers</th>\n",
       "      <th>debitors_percentage</th>\n",
       "    </tr>\n",
       "  </thead>\n",
       "  <tbody>\n",
       "    <tr>\n",
       "      <th>0</th>\n",
       "      <td>adult</td>\n",
       "      <td>женат / замужем</td>\n",
       "      <td>5006.0</td>\n",
       "      <td>7.471035</td>\n",
       "    </tr>\n",
       "    <tr>\n",
       "      <th>16</th>\n",
       "      <td>adult</td>\n",
       "      <td>не женат / не замужем</td>\n",
       "      <td>820.0</td>\n",
       "      <td>8.780488</td>\n",
       "    </tr>\n",
       "    <tr>\n",
       "      <th>4</th>\n",
       "      <td>adult</td>\n",
       "      <td>гражданский брак</td>\n",
       "      <td>1638.0</td>\n",
       "      <td>9.768010</td>\n",
       "    </tr>\n",
       "    <tr>\n",
       "      <th>8</th>\n",
       "      <td>adult</td>\n",
       "      <td>вдовец / вдова</td>\n",
       "      <td>189.0</td>\n",
       "      <td>7.407407</td>\n",
       "    </tr>\n",
       "    <tr>\n",
       "      <th>12</th>\n",
       "      <td>adult</td>\n",
       "      <td>в разводе</td>\n",
       "      <td>538.0</td>\n",
       "      <td>6.877323</td>\n",
       "    </tr>\n",
       "    <tr>\n",
       "      <th>1</th>\n",
       "      <td>junior</td>\n",
       "      <td>женат / замужем</td>\n",
       "      <td>428.0</td>\n",
       "      <td>9.579439</td>\n",
       "    </tr>\n",
       "    <tr>\n",
       "      <th>17</th>\n",
       "      <td>junior</td>\n",
       "      <td>не женат / не замужем</td>\n",
       "      <td>473.0</td>\n",
       "      <td>12.050740</td>\n",
       "    </tr>\n",
       "    <tr>\n",
       "      <th>5</th>\n",
       "      <td>junior</td>\n",
       "      <td>гражданский брак</td>\n",
       "      <td>304.0</td>\n",
       "      <td>9.539474</td>\n",
       "    </tr>\n",
       "    <tr>\n",
       "      <th>13</th>\n",
       "      <td>junior</td>\n",
       "      <td>в разводе</td>\n",
       "      <td>22.0</td>\n",
       "      <td>18.181818</td>\n",
       "    </tr>\n",
       "    <tr>\n",
       "      <th>14</th>\n",
       "      <td>middle</td>\n",
       "      <td>в разводе</td>\n",
       "      <td>209.0</td>\n",
       "      <td>9.090909</td>\n",
       "    </tr>\n",
       "    <tr>\n",
       "      <th>10</th>\n",
       "      <td>middle</td>\n",
       "      <td>вдовец / вдова</td>\n",
       "      <td>19.0</td>\n",
       "      <td>10.526316</td>\n",
       "    </tr>\n",
       "    <tr>\n",
       "      <th>18</th>\n",
       "      <td>middle</td>\n",
       "      <td>не женат / не замужем</td>\n",
       "      <td>901.0</td>\n",
       "      <td>11.764706</td>\n",
       "    </tr>\n",
       "    <tr>\n",
       "      <th>6</th>\n",
       "      <td>middle</td>\n",
       "      <td>гражданский брак</td>\n",
       "      <td>1086.0</td>\n",
       "      <td>11.233886</td>\n",
       "    </tr>\n",
       "    <tr>\n",
       "      <th>2</th>\n",
       "      <td>middle</td>\n",
       "      <td>женат / замужем</td>\n",
       "      <td>3117.0</td>\n",
       "      <td>10.137953</td>\n",
       "    </tr>\n",
       "    <tr>\n",
       "      <th>7</th>\n",
       "      <td>retiree</td>\n",
       "      <td>гражданский брак</td>\n",
       "      <td>1110.0</td>\n",
       "      <td>6.666667</td>\n",
       "    </tr>\n",
       "    <tr>\n",
       "      <th>15</th>\n",
       "      <td>retiree</td>\n",
       "      <td>в разводе</td>\n",
       "      <td>424.0</td>\n",
       "      <td>5.660377</td>\n",
       "    </tr>\n",
       "    <tr>\n",
       "      <th>3</th>\n",
       "      <td>retiree</td>\n",
       "      <td>женат / замужем</td>\n",
       "      <td>3739.0</td>\n",
       "      <td>5.268788</td>\n",
       "    </tr>\n",
       "    <tr>\n",
       "      <th>11</th>\n",
       "      <td>retiree</td>\n",
       "      <td>вдовец / вдова</td>\n",
       "      <td>746.0</td>\n",
       "      <td>6.300268</td>\n",
       "    </tr>\n",
       "    <tr>\n",
       "      <th>19</th>\n",
       "      <td>retiree</td>\n",
       "      <td>не женат / не замужем</td>\n",
       "      <td>607.0</td>\n",
       "      <td>6.260297</td>\n",
       "    </tr>\n",
       "  </tbody>\n",
       "</table>\n",
       "</div>"
      ],
      "text/plain": [
       "   age_group          family_status  total_borrowers  debitors_percentage\n",
       "0      adult        женат / замужем           5006.0             7.471035\n",
       "16     adult  не женат / не замужем            820.0             8.780488\n",
       "4      adult       гражданский брак           1638.0             9.768010\n",
       "8      adult         вдовец / вдова            189.0             7.407407\n",
       "12     adult              в разводе            538.0             6.877323\n",
       "1     junior        женат / замужем            428.0             9.579439\n",
       "17    junior  не женат / не замужем            473.0            12.050740\n",
       "5     junior       гражданский брак            304.0             9.539474\n",
       "13    junior              в разводе             22.0            18.181818\n",
       "14    middle              в разводе            209.0             9.090909\n",
       "10    middle         вдовец / вдова             19.0            10.526316\n",
       "18    middle  не женат / не замужем            901.0            11.764706\n",
       "6     middle       гражданский брак           1086.0            11.233886\n",
       "2     middle        женат / замужем           3117.0            10.137953\n",
       "7    retiree       гражданский брак           1110.0             6.666667\n",
       "15   retiree              в разводе            424.0             5.660377\n",
       "3    retiree        женат / замужем           3739.0             5.268788\n",
       "11   retiree         вдовец / вдова            746.0             6.300268\n",
       "19   retiree  не женат / не замужем            607.0             6.260297"
      ]
     },
     "execution_count": 62,
     "metadata": {},
     "output_type": "execute_result"
    }
   ],
   "source": [
    "#Зависимость от возраста и семейного положения.\n",
    "\n",
    "age_marriage = pd.pivot_table(credit_history, index = ['family_status_id', 'age_group'], columns = 'debt', values = 'purpose', aggfunc = 'count')\n",
    "age_marriage = age_marriage.reset_index()\n",
    "age_marriage = age_marriage.merge(family_status_dict, on = 'family_status_id', how = 'right')\n",
    "\n",
    "age_marriage['total_borrowers'] = age_marriage[0] + age_marriage[1]\n",
    "age_marriage['debitors_percentage'] = age_marriage[1]/age_marriage['total_borrowers']*100\n",
    "age_marriage = age_marriage.dropna()\n",
    "\n",
    "\n",
    "age_marriage [['age_group', 'family_status','total_borrowers','debitors_percentage']].sort_values('age_group')\n"
   ]
  },
  {
   "cell_type": "markdown",
   "id": "8ad664ed",
   "metadata": {},
   "source": [
    "Видно, что более старшие группы клиентов лучше выплачивают кредит. При этом внутри каждой категории образования сохраняется тренд, показывающий, что официально оформленные отношения позитивно влияют на вероятность выплатить кредит."
   ]
  },
  {
   "cell_type": "code",
   "execution_count": 63,
   "id": "c0675060",
   "metadata": {},
   "outputs": [
    {
     "data": {
      "text/html": [
       "<div>\n",
       "<style scoped>\n",
       "    .dataframe tbody tr th:only-of-type {\n",
       "        vertical-align: middle;\n",
       "    }\n",
       "\n",
       "    .dataframe tbody tr th {\n",
       "        vertical-align: top;\n",
       "    }\n",
       "\n",
       "    .dataframe thead th {\n",
       "        text-align: right;\n",
       "    }\n",
       "</style>\n",
       "<table border=\"1\" class=\"dataframe\">\n",
       "  <thead>\n",
       "    <tr style=\"text-align: right;\">\n",
       "      <th></th>\n",
       "      <th>children</th>\n",
       "      <th>education</th>\n",
       "      <th>total_borrowers</th>\n",
       "      <th>debitors_percentage</th>\n",
       "    </tr>\n",
       "  </thead>\n",
       "  <tbody>\n",
       "    <tr>\n",
       "      <th>0</th>\n",
       "      <td>0.0</td>\n",
       "      <td>высшее</td>\n",
       "      <td>3259.0</td>\n",
       "      <td>5.308377</td>\n",
       "    </tr>\n",
       "    <tr>\n",
       "      <th>1</th>\n",
       "      <td>1.0</td>\n",
       "      <td>высшее</td>\n",
       "      <td>1330.0</td>\n",
       "      <td>5.413534</td>\n",
       "    </tr>\n",
       "    <tr>\n",
       "      <th>2</th>\n",
       "      <td>2.0</td>\n",
       "      <td>высшее</td>\n",
       "      <td>555.0</td>\n",
       "      <td>5.225225</td>\n",
       "    </tr>\n",
       "    <tr>\n",
       "      <th>3</th>\n",
       "      <td>3.0</td>\n",
       "      <td>высшее</td>\n",
       "      <td>83.0</td>\n",
       "      <td>4.819277</td>\n",
       "    </tr>\n",
       "    <tr>\n",
       "      <th>4</th>\n",
       "      <td>0.0</td>\n",
       "      <td>среднее</td>\n",
       "      <td>10152.0</td>\n",
       "      <td>8.254531</td>\n",
       "    </tr>\n",
       "    <tr>\n",
       "      <th>5</th>\n",
       "      <td>1.0</td>\n",
       "      <td>среднее</td>\n",
       "      <td>3288.0</td>\n",
       "      <td>10.431873</td>\n",
       "    </tr>\n",
       "    <tr>\n",
       "      <th>6</th>\n",
       "      <td>2.0</td>\n",
       "      <td>среднее</td>\n",
       "      <td>1400.0</td>\n",
       "      <td>10.714286</td>\n",
       "    </tr>\n",
       "    <tr>\n",
       "      <th>7</th>\n",
       "      <td>3.0</td>\n",
       "      <td>среднее</td>\n",
       "      <td>231.0</td>\n",
       "      <td>9.090909</td>\n",
       "    </tr>\n",
       "    <tr>\n",
       "      <th>8</th>\n",
       "      <td>4.0</td>\n",
       "      <td>среднее</td>\n",
       "      <td>32.0</td>\n",
       "      <td>12.500000</td>\n",
       "    </tr>\n",
       "    <tr>\n",
       "      <th>9</th>\n",
       "      <td>0.0</td>\n",
       "      <td>неоконченное высшее</td>\n",
       "      <td>486.0</td>\n",
       "      <td>7.613169</td>\n",
       "    </tr>\n",
       "    <tr>\n",
       "      <th>10</th>\n",
       "      <td>1.0</td>\n",
       "      <td>неоконченное высшее</td>\n",
       "      <td>176.0</td>\n",
       "      <td>11.363636</td>\n",
       "    </tr>\n",
       "    <tr>\n",
       "      <th>11</th>\n",
       "      <td>2.0</td>\n",
       "      <td>неоконченное высшее</td>\n",
       "      <td>72.0</td>\n",
       "      <td>12.500000</td>\n",
       "    </tr>\n",
       "    <tr>\n",
       "      <th>12</th>\n",
       "      <td>3.0</td>\n",
       "      <td>неоконченное высшее</td>\n",
       "      <td>8.0</td>\n",
       "      <td>25.000000</td>\n",
       "    </tr>\n",
       "    <tr>\n",
       "      <th>13</th>\n",
       "      <td>0.0</td>\n",
       "      <td>начальное</td>\n",
       "      <td>189.0</td>\n",
       "      <td>7.936508</td>\n",
       "    </tr>\n",
       "    <tr>\n",
       "      <th>14</th>\n",
       "      <td>1.0</td>\n",
       "      <td>начальное</td>\n",
       "      <td>60.0</td>\n",
       "      <td>16.666667</td>\n",
       "    </tr>\n",
       "    <tr>\n",
       "      <th>15</th>\n",
       "      <td>2.0</td>\n",
       "      <td>начальное</td>\n",
       "      <td>25.0</td>\n",
       "      <td>24.000000</td>\n",
       "    </tr>\n",
       "    <tr>\n",
       "      <th>16</th>\n",
       "      <td>NaN</td>\n",
       "      <td>ученая степень</td>\n",
       "      <td>NaN</td>\n",
       "      <td>NaN</td>\n",
       "    </tr>\n",
       "  </tbody>\n",
       "</table>\n",
       "</div>"
      ],
      "text/plain": [
       "    children            education  total_borrowers  debitors_percentage\n",
       "0        0.0               высшее           3259.0             5.308377\n",
       "1        1.0               высшее           1330.0             5.413534\n",
       "2        2.0               высшее            555.0             5.225225\n",
       "3        3.0               высшее             83.0             4.819277\n",
       "4        0.0              среднее          10152.0             8.254531\n",
       "5        1.0              среднее           3288.0            10.431873\n",
       "6        2.0              среднее           1400.0            10.714286\n",
       "7        3.0              среднее            231.0             9.090909\n",
       "8        4.0              среднее             32.0            12.500000\n",
       "9        0.0  неоконченное высшее            486.0             7.613169\n",
       "10       1.0  неоконченное высшее            176.0            11.363636\n",
       "11       2.0  неоконченное высшее             72.0            12.500000\n",
       "12       3.0  неоконченное высшее              8.0            25.000000\n",
       "13       0.0            начальное            189.0             7.936508\n",
       "14       1.0            начальное             60.0            16.666667\n",
       "15       2.0            начальное             25.0            24.000000\n",
       "16       NaN       ученая степень              NaN                  NaN"
      ]
     },
     "execution_count": 63,
     "metadata": {},
     "output_type": "execute_result"
    }
   ],
   "source": [
    "#Зависимость от количества детей и уровня образования\n",
    "children_and_education = pd.pivot_table(credit_history, index = ['education_id','children'], columns = 'debt', values = 'purpose', aggfunc = 'count')\n",
    "\n",
    "\n",
    "children_and_education['total_borrowers'] = children_and_education[0] + children_and_education[1]\n",
    "children_and_education['debitors_percentage'] = children_and_education[1]/children_and_education['total_borrowers']*100\n",
    "\n",
    "children_and_education = children_and_education.dropna()\n",
    "children_and_education = children_and_education.reset_index() \n",
    "\n",
    "children_and_education = children_and_education.merge(education_dict, on = 'education_id', how = 'right')\n",
    "\n",
    "children_and_education[['children','education','total_borrowers', 'debitors_percentage']]\n"
   ]
  },
  {
   "cell_type": "markdown",
   "id": "09202cdf",
   "metadata": {},
   "source": [
    "Из таблицы видно, что уровень образования влияет значительнее, чем количество детей. При этом, внутри каждой категории образования сохраняется тренд, показывающий, что увеличение количества детей негативно влияет на выплачиваемость кредита."
   ]
  },
  {
   "cell_type": "code",
   "execution_count": 66,
   "id": "82a00854",
   "metadata": {},
   "outputs": [
    {
     "data": {
      "text/html": [
       "<div>\n",
       "<style scoped>\n",
       "    .dataframe tbody tr th:only-of-type {\n",
       "        vertical-align: middle;\n",
       "    }\n",
       "\n",
       "    .dataframe tbody tr th {\n",
       "        vertical-align: top;\n",
       "    }\n",
       "\n",
       "    .dataframe thead th {\n",
       "        text-align: right;\n",
       "    }\n",
       "</style>\n",
       "<table border=\"1\" class=\"dataframe\">\n",
       "  <thead>\n",
       "    <tr style=\"text-align: right;\">\n",
       "      <th>debt</th>\n",
       "      <th>age_group</th>\n",
       "      <th>children</th>\n",
       "      <th>total_borrowers</th>\n",
       "      <th>debitors_percentage</th>\n",
       "    </tr>\n",
       "  </thead>\n",
       "  <tbody>\n",
       "    <tr>\n",
       "      <th>0</th>\n",
       "      <td>adult</td>\n",
       "      <td>0</td>\n",
       "      <td>4784.0</td>\n",
       "      <td>7.671405</td>\n",
       "    </tr>\n",
       "    <tr>\n",
       "      <th>4</th>\n",
       "      <td>adult</td>\n",
       "      <td>1</td>\n",
       "      <td>2257.0</td>\n",
       "      <td>8.684094</td>\n",
       "    </tr>\n",
       "    <tr>\n",
       "      <th>8</th>\n",
       "      <td>adult</td>\n",
       "      <td>2</td>\n",
       "      <td>964.0</td>\n",
       "      <td>8.195021</td>\n",
       "    </tr>\n",
       "    <tr>\n",
       "      <th>12</th>\n",
       "      <td>adult</td>\n",
       "      <td>3</td>\n",
       "      <td>163.0</td>\n",
       "      <td>8.588957</td>\n",
       "    </tr>\n",
       "    <tr>\n",
       "      <th>16</th>\n",
       "      <td>adult</td>\n",
       "      <td>4</td>\n",
       "      <td>18.0</td>\n",
       "      <td>5.555556</td>\n",
       "    </tr>\n",
       "    <tr>\n",
       "      <th>1</th>\n",
       "      <td>junior</td>\n",
       "      <td>0</td>\n",
       "      <td>891.0</td>\n",
       "      <td>10.662177</td>\n",
       "    </tr>\n",
       "    <tr>\n",
       "      <th>5</th>\n",
       "      <td>junior</td>\n",
       "      <td>1</td>\n",
       "      <td>279.0</td>\n",
       "      <td>10.752688</td>\n",
       "    </tr>\n",
       "    <tr>\n",
       "      <th>9</th>\n",
       "      <td>junior</td>\n",
       "      <td>2</td>\n",
       "      <td>56.0</td>\n",
       "      <td>10.714286</td>\n",
       "    </tr>\n",
       "    <tr>\n",
       "      <th>2</th>\n",
       "      <td>middle</td>\n",
       "      <td>0</td>\n",
       "      <td>2426.0</td>\n",
       "      <td>10.552350</td>\n",
       "    </tr>\n",
       "    <tr>\n",
       "      <th>6</th>\n",
       "      <td>middle</td>\n",
       "      <td>1</td>\n",
       "      <td>1750.0</td>\n",
       "      <td>10.742857</td>\n",
       "    </tr>\n",
       "    <tr>\n",
       "      <th>10</th>\n",
       "      <td>middle</td>\n",
       "      <td>2</td>\n",
       "      <td>974.0</td>\n",
       "      <td>10.882957</td>\n",
       "    </tr>\n",
       "    <tr>\n",
       "      <th>14</th>\n",
       "      <td>middle</td>\n",
       "      <td>3</td>\n",
       "      <td>158.0</td>\n",
       "      <td>8.227848</td>\n",
       "    </tr>\n",
       "    <tr>\n",
       "      <th>18</th>\n",
       "      <td>middle</td>\n",
       "      <td>4</td>\n",
       "      <td>21.0</td>\n",
       "      <td>9.523810</td>\n",
       "    </tr>\n",
       "    <tr>\n",
       "      <th>3</th>\n",
       "      <td>retiree</td>\n",
       "      <td>0</td>\n",
       "      <td>5989.0</td>\n",
       "      <td>5.760561</td>\n",
       "    </tr>\n",
       "    <tr>\n",
       "      <th>7</th>\n",
       "      <td>retiree</td>\n",
       "      <td>1</td>\n",
       "      <td>569.0</td>\n",
       "      <td>5.448155</td>\n",
       "    </tr>\n",
       "    <tr>\n",
       "      <th>11</th>\n",
       "      <td>retiree</td>\n",
       "      <td>2</td>\n",
       "      <td>58.0</td>\n",
       "      <td>5.172414</td>\n",
       "    </tr>\n",
       "  </tbody>\n",
       "</table>\n",
       "</div>"
      ],
      "text/plain": [
       "debt age_group  children  total_borrowers  debitors_percentage\n",
       "0        adult         0           4784.0             7.671405\n",
       "4        adult         1           2257.0             8.684094\n",
       "8        adult         2            964.0             8.195021\n",
       "12       adult         3            163.0             8.588957\n",
       "16       adult         4             18.0             5.555556\n",
       "1       junior         0            891.0            10.662177\n",
       "5       junior         1            279.0            10.752688\n",
       "9       junior         2             56.0            10.714286\n",
       "2       middle         0           2426.0            10.552350\n",
       "6       middle         1           1750.0            10.742857\n",
       "10      middle         2            974.0            10.882957\n",
       "14      middle         3            158.0             8.227848\n",
       "18      middle         4             21.0             9.523810\n",
       "3      retiree         0           5989.0             5.760561\n",
       "7      retiree         1            569.0             5.448155\n",
       "11     retiree         2             58.0             5.172414"
      ]
     },
     "execution_count": 66,
     "metadata": {},
     "output_type": "execute_result"
    }
   ],
   "source": [
    "#Зависимость между возрастной группой и количеством детей. \n",
    "\n",
    "age_children = pd.pivot_table(credit_history, index = ['children', 'age_group'], columns = 'debt', values = 'purpose', aggfunc = 'count')\n",
    "\n",
    "age_children = age_children.reset_index()\n",
    "age_children = age_children.dropna()\n",
    "\n",
    "age_children['total_borrowers'] = age_children[0] + age_children[1]\n",
    "age_children['debitors_percentage'] = age_children[1]/age_children['total_borrowers']*100\n",
    "\n",
    "age_children[['age_group', 'children', 'total_borrowers', 'debitors_percentage']].sort_values('age_group')\n",
    "\n",
    "\n",
    "\n",
    "\n",
    "\n"
   ]
  },
  {
   "cell_type": "markdown",
   "id": "518501fd",
   "metadata": {},
   "source": [
    "Из таблицы видно, что возрастная группа влияет значительнее, чем количество детей.\n",
    "Внутри возрастных категорий нарушен тренд ухудшения платежеспособности при изменении количества детей. \n",
    "Делаем вывод, что количество детей незначительно влияет на выплачиваемость кредита. "
   ]
  },
  {
   "cell_type": "code",
   "execution_count": 67,
   "id": "3b2fe130",
   "metadata": {},
   "outputs": [
    {
     "data": {
      "text/html": [
       "<div>\n",
       "<style scoped>\n",
       "    .dataframe tbody tr th:only-of-type {\n",
       "        vertical-align: middle;\n",
       "    }\n",
       "\n",
       "    .dataframe tbody tr th {\n",
       "        vertical-align: top;\n",
       "    }\n",
       "\n",
       "    .dataframe thead th {\n",
       "        text-align: right;\n",
       "    }\n",
       "</style>\n",
       "<table border=\"1\" class=\"dataframe\">\n",
       "  <thead>\n",
       "    <tr style=\"text-align: right;\">\n",
       "      <th></th>\n",
       "      <th>family_status</th>\n",
       "      <th>children</th>\n",
       "      <th>total_borrowers</th>\n",
       "      <th>debitors_percentage</th>\n",
       "    </tr>\n",
       "  </thead>\n",
       "  <tbody>\n",
       "    <tr>\n",
       "      <th>0</th>\n",
       "      <td>женат / замужем</td>\n",
       "      <td>0</td>\n",
       "      <td>7468.0</td>\n",
       "      <td>6.909480</td>\n",
       "    </tr>\n",
       "    <tr>\n",
       "      <th>1</th>\n",
       "      <td>женат / замужем</td>\n",
       "      <td>1</td>\n",
       "      <td>3004.0</td>\n",
       "      <td>8.222370</td>\n",
       "    </tr>\n",
       "    <tr>\n",
       "      <th>2</th>\n",
       "      <td>женат / замужем</td>\n",
       "      <td>2</td>\n",
       "      <td>1533.0</td>\n",
       "      <td>9.458578</td>\n",
       "    </tr>\n",
       "    <tr>\n",
       "      <th>3</th>\n",
       "      <td>женат / замужем</td>\n",
       "      <td>3</td>\n",
       "      <td>249.0</td>\n",
       "      <td>6.827309</td>\n",
       "    </tr>\n",
       "    <tr>\n",
       "      <th>4</th>\n",
       "      <td>женат / замужем</td>\n",
       "      <td>4</td>\n",
       "      <td>29.0</td>\n",
       "      <td>10.344828</td>\n",
       "    </tr>\n",
       "    <tr>\n",
       "      <th>6</th>\n",
       "      <td>гражданский брак</td>\n",
       "      <td>0</td>\n",
       "      <td>2729.0</td>\n",
       "      <td>8.391352</td>\n",
       "    </tr>\n",
       "    <tr>\n",
       "      <th>7</th>\n",
       "      <td>гражданский брак</td>\n",
       "      <td>1</td>\n",
       "      <td>1000.0</td>\n",
       "      <td>11.800000</td>\n",
       "    </tr>\n",
       "    <tr>\n",
       "      <th>8</th>\n",
       "      <td>гражданский брак</td>\n",
       "      <td>2</td>\n",
       "      <td>343.0</td>\n",
       "      <td>8.746356</td>\n",
       "    </tr>\n",
       "    <tr>\n",
       "      <th>9</th>\n",
       "      <td>гражданский брак</td>\n",
       "      <td>3</td>\n",
       "      <td>56.0</td>\n",
       "      <td>14.285714</td>\n",
       "    </tr>\n",
       "    <tr>\n",
       "      <th>12</th>\n",
       "      <td>вдовец / вдова</td>\n",
       "      <td>0</td>\n",
       "      <td>847.0</td>\n",
       "      <td>6.257379</td>\n",
       "    </tr>\n",
       "    <tr>\n",
       "      <th>13</th>\n",
       "      <td>вдовец / вдова</td>\n",
       "      <td>1</td>\n",
       "      <td>81.0</td>\n",
       "      <td>8.641975</td>\n",
       "    </tr>\n",
       "    <tr>\n",
       "      <th>14</th>\n",
       "      <td>вдовец / вдова</td>\n",
       "      <td>2</td>\n",
       "      <td>20.0</td>\n",
       "      <td>15.000000</td>\n",
       "    </tr>\n",
       "    <tr>\n",
       "      <th>17</th>\n",
       "      <td>в разводе</td>\n",
       "      <td>0</td>\n",
       "      <td>784.0</td>\n",
       "      <td>7.015306</td>\n",
       "    </tr>\n",
       "    <tr>\n",
       "      <th>18</th>\n",
       "      <td>в разводе</td>\n",
       "      <td>1</td>\n",
       "      <td>316.0</td>\n",
       "      <td>6.645570</td>\n",
       "    </tr>\n",
       "    <tr>\n",
       "      <th>19</th>\n",
       "      <td>в разводе</td>\n",
       "      <td>2</td>\n",
       "      <td>81.0</td>\n",
       "      <td>8.641975</td>\n",
       "    </tr>\n",
       "    <tr>\n",
       "      <th>20</th>\n",
       "      <td>в разводе</td>\n",
       "      <td>3</td>\n",
       "      <td>11.0</td>\n",
       "      <td>9.090909</td>\n",
       "    </tr>\n",
       "    <tr>\n",
       "      <th>22</th>\n",
       "      <td>не женат / не замужем</td>\n",
       "      <td>0</td>\n",
       "      <td>2262.0</td>\n",
       "      <td>9.283820</td>\n",
       "    </tr>\n",
       "    <tr>\n",
       "      <th>23</th>\n",
       "      <td>не женат / не замужем</td>\n",
       "      <td>1</td>\n",
       "      <td>454.0</td>\n",
       "      <td>11.453744</td>\n",
       "    </tr>\n",
       "    <tr>\n",
       "      <th>24</th>\n",
       "      <td>не женат / не замужем</td>\n",
       "      <td>2</td>\n",
       "      <td>75.0</td>\n",
       "      <td>12.000000</td>\n",
       "    </tr>\n",
       "    <tr>\n",
       "      <th>25</th>\n",
       "      <td>не женат / не замужем</td>\n",
       "      <td>3</td>\n",
       "      <td>8.0</td>\n",
       "      <td>12.500000</td>\n",
       "    </tr>\n",
       "    <tr>\n",
       "      <th>26</th>\n",
       "      <td>не женат / не замужем</td>\n",
       "      <td>4</td>\n",
       "      <td>2.0</td>\n",
       "      <td>50.000000</td>\n",
       "    </tr>\n",
       "  </tbody>\n",
       "</table>\n",
       "</div>"
      ],
      "text/plain": [
       "            family_status  children  total_borrowers  debitors_percentage\n",
       "0         женат / замужем         0           7468.0             6.909480\n",
       "1         женат / замужем         1           3004.0             8.222370\n",
       "2         женат / замужем         2           1533.0             9.458578\n",
       "3         женат / замужем         3            249.0             6.827309\n",
       "4         женат / замужем         4             29.0            10.344828\n",
       "6        гражданский брак         0           2729.0             8.391352\n",
       "7        гражданский брак         1           1000.0            11.800000\n",
       "8        гражданский брак         2            343.0             8.746356\n",
       "9        гражданский брак         3             56.0            14.285714\n",
       "12         вдовец / вдова         0            847.0             6.257379\n",
       "13         вдовец / вдова         1             81.0             8.641975\n",
       "14         вдовец / вдова         2             20.0            15.000000\n",
       "17              в разводе         0            784.0             7.015306\n",
       "18              в разводе         1            316.0             6.645570\n",
       "19              в разводе         2             81.0             8.641975\n",
       "20              в разводе         3             11.0             9.090909\n",
       "22  не женат / не замужем         0           2262.0             9.283820\n",
       "23  не женат / не замужем         1            454.0            11.453744\n",
       "24  не женат / не замужем         2             75.0            12.000000\n",
       "25  не женат / не замужем         3              8.0            12.500000\n",
       "26  не женат / не замужем         4              2.0            50.000000"
      ]
     },
     "execution_count": 67,
     "metadata": {},
     "output_type": "execute_result"
    }
   ],
   "source": [
    "#Зависимость между количеством детей и семейным положением\n",
    "children_marriage = pd.pivot_table(credit_history, index = ['family_status_id', 'children'], columns = 'debt', values = 'purpose', aggfunc = 'count')\n",
    "\n",
    "children_marriage = children_marriage.reset_index()\n",
    "children_marriage = children_marriage.merge(family_status_dict, on ='family_status_id', how = 'right')\n",
    "\n",
    "children_marriage['total_borrowers'] = children_marriage[0] + children_marriage[1]\n",
    "children_marriage['debitors_percentage'] = children_marriage[1]/children_marriage['total_borrowers']*100\n",
    "\n",
    "\n",
    "children_marriage = children_marriage.dropna()\n",
    "\n",
    "children_marriage[['family_status', 'children', 'total_borrowers', 'debitors_percentage']]\n",
    "\n",
    "\n",
    "\n"
   ]
  },
  {
   "cell_type": "code",
   "execution_count": 69,
   "id": "708f6647",
   "metadata": {},
   "outputs": [
    {
     "data": {
      "text/html": [
       "<div>\n",
       "<style scoped>\n",
       "    .dataframe tbody tr th:only-of-type {\n",
       "        vertical-align: middle;\n",
       "    }\n",
       "\n",
       "    .dataframe tbody tr th {\n",
       "        vertical-align: top;\n",
       "    }\n",
       "\n",
       "    .dataframe thead th {\n",
       "        text-align: right;\n",
       "    }\n",
       "</style>\n",
       "<table border=\"1\" class=\"dataframe\">\n",
       "  <thead>\n",
       "    <tr style=\"text-align: right;\">\n",
       "      <th></th>\n",
       "      <th>education</th>\n",
       "      <th>age_group</th>\n",
       "      <th>total_borrowers</th>\n",
       "      <th>debitors_percentage</th>\n",
       "    </tr>\n",
       "  </thead>\n",
       "  <tbody>\n",
       "    <tr>\n",
       "      <th>0</th>\n",
       "      <td>высшее</td>\n",
       "      <td>adult</td>\n",
       "      <td>1959.0</td>\n",
       "      <td>4.594181</td>\n",
       "    </tr>\n",
       "    <tr>\n",
       "      <th>1</th>\n",
       "      <td>высшее</td>\n",
       "      <td>junior</td>\n",
       "      <td>318.0</td>\n",
       "      <td>6.918239</td>\n",
       "    </tr>\n",
       "    <tr>\n",
       "      <th>2</th>\n",
       "      <td>высшее</td>\n",
       "      <td>middle</td>\n",
       "      <td>1745.0</td>\n",
       "      <td>6.246418</td>\n",
       "    </tr>\n",
       "    <tr>\n",
       "      <th>3</th>\n",
       "      <td>высшее</td>\n",
       "      <td>retiree</td>\n",
       "      <td>1214.0</td>\n",
       "      <td>4.695222</td>\n",
       "    </tr>\n",
       "    <tr>\n",
       "      <th>4</th>\n",
       "      <td>среднее</td>\n",
       "      <td>adult</td>\n",
       "      <td>5933.0</td>\n",
       "      <td>9.000506</td>\n",
       "    </tr>\n",
       "    <tr>\n",
       "      <th>5</th>\n",
       "      <td>среднее</td>\n",
       "      <td>junior</td>\n",
       "      <td>732.0</td>\n",
       "      <td>13.387978</td>\n",
       "    </tr>\n",
       "    <tr>\n",
       "      <th>6</th>\n",
       "      <td>среднее</td>\n",
       "      <td>middle</td>\n",
       "      <td>3248.0</td>\n",
       "      <td>12.653941</td>\n",
       "    </tr>\n",
       "    <tr>\n",
       "      <th>7</th>\n",
       "      <td>среднее</td>\n",
       "      <td>retiree</td>\n",
       "      <td>5198.0</td>\n",
       "      <td>6.021547</td>\n",
       "    </tr>\n",
       "    <tr>\n",
       "      <th>8</th>\n",
       "      <td>неоконченное высшее</td>\n",
       "      <td>adult</td>\n",
       "      <td>204.0</td>\n",
       "      <td>9.803922</td>\n",
       "    </tr>\n",
       "    <tr>\n",
       "      <th>9</th>\n",
       "      <td>неоконченное высшее</td>\n",
       "      <td>junior</td>\n",
       "      <td>168.0</td>\n",
       "      <td>5.952381</td>\n",
       "    </tr>\n",
       "    <tr>\n",
       "      <th>10</th>\n",
       "      <td>неоконченное высшее</td>\n",
       "      <td>middle</td>\n",
       "      <td>286.0</td>\n",
       "      <td>11.538462</td>\n",
       "    </tr>\n",
       "    <tr>\n",
       "      <th>11</th>\n",
       "      <td>неоконченное высшее</td>\n",
       "      <td>retiree</td>\n",
       "      <td>84.0</td>\n",
       "      <td>5.952381</td>\n",
       "    </tr>\n",
       "    <tr>\n",
       "      <th>12</th>\n",
       "      <td>начальное</td>\n",
       "      <td>adult</td>\n",
       "      <td>92.0</td>\n",
       "      <td>14.130435</td>\n",
       "    </tr>\n",
       "    <tr>\n",
       "      <th>13</th>\n",
       "      <td>начальное</td>\n",
       "      <td>junior</td>\n",
       "      <td>10.0</td>\n",
       "      <td>10.000000</td>\n",
       "    </tr>\n",
       "    <tr>\n",
       "      <th>14</th>\n",
       "      <td>начальное</td>\n",
       "      <td>middle</td>\n",
       "      <td>53.0</td>\n",
       "      <td>22.641509</td>\n",
       "    </tr>\n",
       "    <tr>\n",
       "      <th>15</th>\n",
       "      <td>начальное</td>\n",
       "      <td>retiree</td>\n",
       "      <td>127.0</td>\n",
       "      <td>3.937008</td>\n",
       "    </tr>\n",
       "    <tr>\n",
       "      <th>16</th>\n",
       "      <td>ученая степень</td>\n",
       "      <td>NaN</td>\n",
       "      <td>NaN</td>\n",
       "      <td>NaN</td>\n",
       "    </tr>\n",
       "  </tbody>\n",
       "</table>\n",
       "</div>"
      ],
      "text/plain": [
       "              education age_group  total_borrowers  debitors_percentage\n",
       "0                высшее     adult           1959.0             4.594181\n",
       "1                высшее    junior            318.0             6.918239\n",
       "2                высшее    middle           1745.0             6.246418\n",
       "3                высшее   retiree           1214.0             4.695222\n",
       "4               среднее     adult           5933.0             9.000506\n",
       "5               среднее    junior            732.0            13.387978\n",
       "6               среднее    middle           3248.0            12.653941\n",
       "7               среднее   retiree           5198.0             6.021547\n",
       "8   неоконченное высшее     adult            204.0             9.803922\n",
       "9   неоконченное высшее    junior            168.0             5.952381\n",
       "10  неоконченное высшее    middle            286.0            11.538462\n",
       "11  неоконченное высшее   retiree             84.0             5.952381\n",
       "12            начальное     adult             92.0            14.130435\n",
       "13            начальное    junior             10.0            10.000000\n",
       "14            начальное    middle             53.0            22.641509\n",
       "15            начальное   retiree            127.0             3.937008\n",
       "16       ученая степень       NaN              NaN                  NaN"
      ]
     },
     "execution_count": 69,
     "metadata": {},
     "output_type": "execute_result"
    }
   ],
   "source": [
    "#Зависимость от возраста и уровня образования\n",
    "\n",
    "education_age = pd.pivot_table(credit_history, index =['age_group', 'education_id'], columns = 'debt', values = 'purpose', aggfunc='count')\n",
    "\n",
    "education_age = education_age.reset_index()\n",
    "education_age = education_age.dropna()\n",
    "\n",
    "education_age['total_borrowers'] = education_age[0] + education_age[1]\n",
    "education_age['debitors_percentage'] = education_age[1]/education_age['total_borrowers']*100\n",
    "\n",
    "\n",
    "education_age = education_age.merge(education_dict, on = 'education_id', how = 'right')\n",
    "\n",
    "education_age[['education', 'age_group', 'total_borrowers', 'debitors_percentage']]\n",
    "\n"
   ]
  },
  {
   "cell_type": "markdown",
   "id": "17f91b80",
   "metadata": {},
   "source": [
    "<div class=\"alert alert-success\">\n",
    "<b>✔️ Комментарий ревьюера:</b> Мне очень нравится, что ты сделал дополнительные проверки! Так работают настоящие аналитики"
   ]
  },
  {
   "cell_type": "markdown",
   "id": "5c410edb",
   "metadata": {},
   "source": [
    "# Общие выводы:"
   ]
  },
  {
   "cell_type": "markdown",
   "id": "342962a6",
   "metadata": {},
   "source": [
    "1. Количество детей влияет на выплачиваемость кредита. Клиенты с 0 детьми выплачивают кредит лучше клиентов с большим количеством детей. Отклонения в пределах 2% \n",
    "2. Семейное положение влияет на выплачиваемость кредита в срок. Клиенты, официально оформившие отношения с партнером, выплачивают кредит лучше клиентов, не сделавших этого. \n",
    "3. Данные кореляции можно объяснить совокупностью факторов:\n",
    "    1. Изменениями в образе жизни в связи с миграцией между категориями (расходы на детей или совместное планирование бюджета с партнером)\n",
    "    2. Влиянием других категориальных значений на выплачиваемость кредита. \n",
    "4. Наиболее значительное влияние на вероятность выплаты кредита оказывает принадлежность клиента к возрастной группе, а также образованность. В рамках обеих категорий есть разброс до 10%. Лучше других выплачивают кредит люди, предпенсионной возрастной группы и люди, имеющие высшее образование."
   ]
  }
 ],
 "metadata": {
  "ExecuteTimeLog": [
   {
    "duration": 468,
    "start_time": "2022-05-09T04:48:28.506Z"
   },
   {
    "duration": 65,
    "start_time": "2022-05-09T04:49:36.301Z"
   },
   {
    "duration": 14,
    "start_time": "2022-05-09T05:00:24.808Z"
   },
   {
    "duration": 65,
    "start_time": "2022-05-09T05:02:17.697Z"
   },
   {
    "duration": 8,
    "start_time": "2022-05-09T05:02:36.722Z"
   },
   {
    "duration": 4,
    "start_time": "2022-05-09T05:03:52.671Z"
   },
   {
    "duration": 5,
    "start_time": "2022-05-09T05:03:58.372Z"
   },
   {
    "duration": 12,
    "start_time": "2022-05-09T05:06:49.807Z"
   },
   {
    "duration": 5,
    "start_time": "2022-05-09T05:07:58.776Z"
   },
   {
    "duration": 5,
    "start_time": "2022-05-09T05:09:15.902Z"
   },
   {
    "duration": 6,
    "start_time": "2022-05-09T05:09:29.978Z"
   },
   {
    "duration": 5,
    "start_time": "2022-05-09T05:09:36.055Z"
   },
   {
    "duration": 6,
    "start_time": "2022-05-09T05:09:51.486Z"
   },
   {
    "duration": 13,
    "start_time": "2022-05-09T05:10:13.502Z"
   },
   {
    "duration": 5,
    "start_time": "2022-05-09T05:14:18.467Z"
   },
   {
    "duration": 108,
    "start_time": "2022-05-09T05:15:41.818Z"
   },
   {
    "duration": 14,
    "start_time": "2022-05-09T05:15:50.276Z"
   },
   {
    "duration": 12,
    "start_time": "2022-05-09T05:16:03.267Z"
   },
   {
    "duration": 4,
    "start_time": "2022-05-09T05:18:04.368Z"
   },
   {
    "duration": 4,
    "start_time": "2022-05-09T05:18:10.136Z"
   },
   {
    "duration": 5,
    "start_time": "2022-05-09T05:23:22.823Z"
   },
   {
    "duration": 2269,
    "start_time": "2022-05-09T05:23:35.070Z"
   },
   {
    "duration": 15,
    "start_time": "2022-05-09T05:23:41.953Z"
   },
   {
    "duration": 19,
    "start_time": "2022-05-09T05:24:22.303Z"
   },
   {
    "duration": 20,
    "start_time": "2022-05-09T05:26:20.724Z"
   },
   {
    "duration": 22,
    "start_time": "2022-05-09T05:26:34.282Z"
   },
   {
    "duration": 19,
    "start_time": "2022-05-09T05:28:47.155Z"
   },
   {
    "duration": 4,
    "start_time": "2022-05-09T05:33:42.420Z"
   },
   {
    "duration": 7,
    "start_time": "2022-05-09T05:33:48.810Z"
   },
   {
    "duration": 8,
    "start_time": "2022-05-09T05:33:54.996Z"
   },
   {
    "duration": 4,
    "start_time": "2022-05-09T05:34:22.366Z"
   },
   {
    "duration": 69,
    "start_time": "2022-05-09T05:35:52.814Z"
   },
   {
    "duration": 14,
    "start_time": "2022-05-09T05:35:55.714Z"
   },
   {
    "duration": 16,
    "start_time": "2022-05-09T05:36:11.858Z"
   },
   {
    "duration": 20,
    "start_time": "2022-05-09T05:37:27.324Z"
   },
   {
    "duration": 32,
    "start_time": "2022-05-09T05:37:40.066Z"
   },
   {
    "duration": 6,
    "start_time": "2022-05-09T05:39:32.960Z"
   },
   {
    "duration": 2630,
    "start_time": "2022-05-09T05:40:00.441Z"
   },
   {
    "duration": 54,
    "start_time": "2022-05-09T05:41:17.167Z"
   },
   {
    "duration": 56,
    "start_time": "2022-05-09T05:41:26.985Z"
   },
   {
    "duration": 10,
    "start_time": "2022-05-09T05:47:06.725Z"
   },
   {
    "duration": 5,
    "start_time": "2022-05-09T05:47:26.348Z"
   },
   {
    "duration": 6,
    "start_time": "2022-05-09T05:48:36.512Z"
   },
   {
    "duration": 85,
    "start_time": "2022-05-09T05:52:33.832Z"
   },
   {
    "duration": 16,
    "start_time": "2022-05-09T05:52:36.449Z"
   },
   {
    "duration": 16,
    "start_time": "2022-05-09T05:52:45.074Z"
   },
   {
    "duration": 13,
    "start_time": "2022-05-09T05:59:03.286Z"
   },
   {
    "duration": 11,
    "start_time": "2022-05-09T05:59:22.200Z"
   },
   {
    "duration": 10,
    "start_time": "2022-05-09T06:00:22.095Z"
   },
   {
    "duration": 1839,
    "start_time": "2022-05-09T06:07:36.181Z"
   },
   {
    "duration": 1818,
    "start_time": "2022-05-09T06:07:38.213Z"
   },
   {
    "duration": 11,
    "start_time": "2022-05-09T06:07:55.957Z"
   },
   {
    "duration": 11,
    "start_time": "2022-05-09T06:08:32.464Z"
   },
   {
    "duration": 12,
    "start_time": "2022-05-09T06:09:16.509Z"
   },
   {
    "duration": 16,
    "start_time": "2022-05-09T06:10:45.244Z"
   },
   {
    "duration": 121,
    "start_time": "2022-05-09T06:11:56.617Z"
   },
   {
    "duration": 12,
    "start_time": "2022-05-09T06:12:03.192Z"
   },
   {
    "duration": 131,
    "start_time": "2022-05-09T06:12:09.274Z"
   },
   {
    "duration": 13,
    "start_time": "2022-05-09T06:12:12.159Z"
   },
   {
    "duration": 12,
    "start_time": "2022-05-09T06:13:04.337Z"
   },
   {
    "duration": 12,
    "start_time": "2022-05-09T06:13:17.866Z"
   },
   {
    "duration": 14,
    "start_time": "2022-05-09T06:18:10.437Z"
   },
   {
    "duration": 175,
    "start_time": "2022-05-09T06:33:22.179Z"
   },
   {
    "duration": 2104,
    "start_time": "2022-05-09T06:33:29.191Z"
   },
   {
    "duration": 572,
    "start_time": "2022-05-09T06:33:45.092Z"
   },
   {
    "duration": 557,
    "start_time": "2022-05-09T06:35:25.044Z"
   },
   {
    "duration": 473,
    "start_time": "2022-05-09T06:39:15.871Z"
   },
   {
    "duration": 9,
    "start_time": "2022-05-09T06:40:30.434Z"
   },
   {
    "duration": 10,
    "start_time": "2022-05-09T06:40:58.710Z"
   },
   {
    "duration": 478,
    "start_time": "2022-05-09T06:41:50.614Z"
   },
   {
    "duration": 503,
    "start_time": "2022-05-09T06:42:28.254Z"
   },
   {
    "duration": 479,
    "start_time": "2022-05-09T06:49:39.561Z"
   },
   {
    "duration": 24,
    "start_time": "2022-05-09T06:50:49.795Z"
   },
   {
    "duration": 10,
    "start_time": "2022-05-09T06:52:43.466Z"
   },
   {
    "duration": 13,
    "start_time": "2022-05-09T06:54:11.613Z"
   },
   {
    "duration": 11,
    "start_time": "2022-05-09T06:55:07.758Z"
   },
   {
    "duration": 16,
    "start_time": "2022-05-09T06:55:38.837Z"
   },
   {
    "duration": 13,
    "start_time": "2022-05-09T06:56:38.838Z"
   },
   {
    "duration": 11,
    "start_time": "2022-05-09T06:57:09.733Z"
   },
   {
    "duration": 2277,
    "start_time": "2022-05-09T06:57:29.626Z"
   },
   {
    "duration": 11,
    "start_time": "2022-05-09T06:57:38.641Z"
   },
   {
    "duration": 11,
    "start_time": "2022-05-09T06:59:21.446Z"
   },
   {
    "duration": 141,
    "start_time": "2022-05-09T07:00:42.362Z"
   },
   {
    "duration": 119,
    "start_time": "2022-05-09T07:01:01.094Z"
   },
   {
    "duration": 8,
    "start_time": "2022-05-09T07:02:44.118Z"
   },
   {
    "duration": 8,
    "start_time": "2022-05-09T07:03:33.320Z"
   },
   {
    "duration": 12,
    "start_time": "2022-05-09T07:05:03.904Z"
   },
   {
    "duration": 74,
    "start_time": "2022-05-10T06:44:00.195Z"
   },
   {
    "duration": 599,
    "start_time": "2022-05-10T06:44:04.544Z"
   },
   {
    "duration": 22,
    "start_time": "2022-05-10T06:44:05.387Z"
   },
   {
    "duration": 7,
    "start_time": "2022-05-10T06:44:10.863Z"
   },
   {
    "duration": 36,
    "start_time": "2022-05-10T06:50:00.974Z"
   },
   {
    "duration": 35,
    "start_time": "2022-05-10T06:50:47.313Z"
   },
   {
    "duration": 7,
    "start_time": "2022-05-10T06:51:39.357Z"
   },
   {
    "duration": 6,
    "start_time": "2022-05-10T06:53:05.263Z"
   },
   {
    "duration": 8,
    "start_time": "2022-05-10T06:53:30.632Z"
   },
   {
    "duration": 13,
    "start_time": "2022-05-10T06:57:21.323Z"
   },
   {
    "duration": 27,
    "start_time": "2022-05-10T06:57:45.727Z"
   },
   {
    "duration": 25,
    "start_time": "2022-05-10T06:58:32.943Z"
   },
   {
    "duration": 80,
    "start_time": "2022-05-10T06:58:40.449Z"
   },
   {
    "duration": 78,
    "start_time": "2022-05-10T06:58:47.510Z"
   },
   {
    "duration": 21,
    "start_time": "2022-05-10T06:58:55.183Z"
   },
   {
    "duration": 8,
    "start_time": "2022-05-10T06:59:07.611Z"
   },
   {
    "duration": 24,
    "start_time": "2022-05-10T06:59:11.576Z"
   },
   {
    "duration": 29,
    "start_time": "2022-05-10T06:59:40.613Z"
   },
   {
    "duration": 15,
    "start_time": "2022-05-10T06:59:57.840Z"
   },
   {
    "duration": 17,
    "start_time": "2022-05-10T07:02:10.275Z"
   },
   {
    "duration": 17,
    "start_time": "2022-05-10T07:02:29.782Z"
   },
   {
    "duration": 27,
    "start_time": "2022-05-10T07:04:24.848Z"
   },
   {
    "duration": 58,
    "start_time": "2022-05-10T07:05:46.305Z"
   },
   {
    "duration": 86,
    "start_time": "2022-05-10T07:05:53.056Z"
   },
   {
    "duration": 20,
    "start_time": "2022-05-10T07:05:53.880Z"
   },
   {
    "duration": 8,
    "start_time": "2022-05-10T07:05:55.245Z"
   },
   {
    "duration": 14,
    "start_time": "2022-05-10T07:05:58.195Z"
   },
   {
    "duration": 19,
    "start_time": "2022-05-10T07:06:02.496Z"
   },
   {
    "duration": 8,
    "start_time": "2022-05-10T07:08:57.591Z"
   },
   {
    "duration": 33,
    "start_time": "2022-05-10T07:09:40.034Z"
   },
   {
    "duration": 8,
    "start_time": "2022-05-10T07:09:55.210Z"
   },
   {
    "duration": 9,
    "start_time": "2022-05-10T07:10:12.997Z"
   },
   {
    "duration": 7,
    "start_time": "2022-05-10T07:11:01.699Z"
   },
   {
    "duration": 1464,
    "start_time": "2022-05-10T07:11:11.564Z"
   },
   {
    "duration": 1624,
    "start_time": "2022-05-10T07:11:30.176Z"
   },
   {
    "duration": 1409,
    "start_time": "2022-05-10T07:11:53.735Z"
   },
   {
    "duration": 1337,
    "start_time": "2022-05-10T07:12:05.601Z"
   },
   {
    "duration": 7,
    "start_time": "2022-05-10T07:12:11.032Z"
   },
   {
    "duration": 81,
    "start_time": "2022-05-10T07:12:20.719Z"
   },
   {
    "duration": 21,
    "start_time": "2022-05-10T07:12:21.483Z"
   },
   {
    "duration": 8,
    "start_time": "2022-05-10T07:12:23.846Z"
   },
   {
    "duration": 17,
    "start_time": "2022-05-10T07:12:25.292Z"
   },
   {
    "duration": 20,
    "start_time": "2022-05-10T07:12:29.248Z"
   },
   {
    "duration": 33,
    "start_time": "2022-05-10T07:12:43.764Z"
   },
   {
    "duration": 137,
    "start_time": "2022-05-10T07:13:13.966Z"
   },
   {
    "duration": 477,
    "start_time": "2022-05-10T07:16:24.206Z"
   },
   {
    "duration": 425,
    "start_time": "2022-05-10T07:19:00.746Z"
   },
   {
    "duration": 488,
    "start_time": "2022-05-10T07:20:49.996Z"
   },
   {
    "duration": 18,
    "start_time": "2022-05-10T07:22:11.949Z"
   },
   {
    "duration": 14,
    "start_time": "2022-05-10T07:22:17.331Z"
   },
   {
    "duration": 858,
    "start_time": "2022-05-10T07:23:54.789Z"
   },
   {
    "duration": 10,
    "start_time": "2022-05-10T07:24:27.389Z"
   },
   {
    "duration": 424,
    "start_time": "2022-05-10T07:24:56.376Z"
   },
   {
    "duration": 426,
    "start_time": "2022-05-10T07:25:04.113Z"
   },
   {
    "duration": 11,
    "start_time": "2022-05-10T07:25:14.285Z"
   },
   {
    "duration": 571,
    "start_time": "2022-05-10T07:25:45.644Z"
   },
   {
    "duration": 11,
    "start_time": "2022-05-10T07:27:18.789Z"
   },
   {
    "duration": 539,
    "start_time": "2022-05-10T07:29:46.737Z"
   },
   {
    "duration": 423,
    "start_time": "2022-05-10T07:29:57.643Z"
   },
   {
    "duration": 23,
    "start_time": "2022-05-10T07:30:17.115Z"
   },
   {
    "duration": 1831,
    "start_time": "2022-05-10T07:30:49.939Z"
   },
   {
    "duration": 1833,
    "start_time": "2022-05-10T07:31:01.704Z"
   },
   {
    "duration": 11,
    "start_time": "2022-05-10T07:31:05.374Z"
   },
   {
    "duration": 9,
    "start_time": "2022-05-10T07:31:08.930Z"
   },
   {
    "duration": 9,
    "start_time": "2022-05-10T07:31:13.982Z"
   },
   {
    "duration": 11,
    "start_time": "2022-05-10T07:31:19.373Z"
   },
   {
    "duration": 233,
    "start_time": "2022-05-10T07:32:33.264Z"
   },
   {
    "duration": 231,
    "start_time": "2022-05-10T07:32:52.691Z"
   },
   {
    "duration": 236,
    "start_time": "2022-05-10T07:33:14.159Z"
   },
   {
    "duration": 435,
    "start_time": "2022-05-10T07:33:19.546Z"
   },
   {
    "duration": 15,
    "start_time": "2022-05-10T07:36:04.715Z"
   },
   {
    "duration": 14,
    "start_time": "2022-05-10T07:37:21.236Z"
   },
   {
    "duration": 83,
    "start_time": "2022-05-10T07:38:00.360Z"
   },
   {
    "duration": 22,
    "start_time": "2022-05-10T07:38:00.445Z"
   },
   {
    "duration": 7,
    "start_time": "2022-05-10T07:38:00.469Z"
   },
   {
    "duration": 32,
    "start_time": "2022-05-10T07:38:00.478Z"
   },
   {
    "duration": 20,
    "start_time": "2022-05-10T07:38:00.514Z"
   },
   {
    "duration": 13,
    "start_time": "2022-05-10T07:38:00.552Z"
   },
   {
    "duration": 23,
    "start_time": "2022-05-10T07:38:56.627Z"
   },
   {
    "duration": 23,
    "start_time": "2022-05-10T07:39:55.178Z"
   },
   {
    "duration": 7,
    "start_time": "2022-05-10T07:42:30.463Z"
   },
   {
    "duration": 7,
    "start_time": "2022-05-10T07:42:36.963Z"
   },
   {
    "duration": 9,
    "start_time": "2022-05-10T07:43:21.628Z"
   },
   {
    "duration": 8,
    "start_time": "2022-05-10T07:43:29.709Z"
   },
   {
    "duration": 22,
    "start_time": "2022-05-10T07:43:50.184Z"
   },
   {
    "duration": 27,
    "start_time": "2022-05-10T07:44:00.754Z"
   },
   {
    "duration": 8,
    "start_time": "2022-05-10T07:45:38.087Z"
   },
   {
    "duration": 12,
    "start_time": "2022-05-10T07:45:57.827Z"
   },
   {
    "duration": 9,
    "start_time": "2022-05-10T07:46:20.704Z"
   },
   {
    "duration": 12,
    "start_time": "2022-05-10T07:46:59.806Z"
   },
   {
    "duration": 7,
    "start_time": "2022-05-10T07:47:51.531Z"
   },
   {
    "duration": 21,
    "start_time": "2022-05-10T07:48:22.663Z"
   },
   {
    "duration": 33,
    "start_time": "2022-05-10T07:48:30.645Z"
   },
   {
    "duration": 12,
    "start_time": "2022-05-10T07:53:31.990Z"
   },
   {
    "duration": 22,
    "start_time": "2022-05-10T07:53:49.123Z"
   },
   {
    "duration": 21,
    "start_time": "2022-05-10T07:54:33.503Z"
   },
   {
    "duration": 21,
    "start_time": "2022-05-10T07:55:07.362Z"
   },
   {
    "duration": 20,
    "start_time": "2022-05-10T07:55:10.538Z"
   },
   {
    "duration": 22,
    "start_time": "2022-05-10T07:55:28.487Z"
   },
   {
    "duration": 18,
    "start_time": "2022-05-10T07:56:32.157Z"
   },
   {
    "duration": 8,
    "start_time": "2022-05-10T07:56:34.705Z"
   },
   {
    "duration": 25,
    "start_time": "2022-05-10T07:56:40.793Z"
   },
   {
    "duration": 23,
    "start_time": "2022-05-10T07:57:00.588Z"
   },
   {
    "duration": 9,
    "start_time": "2022-05-10T07:57:19.781Z"
   },
   {
    "duration": 23,
    "start_time": "2022-05-10T07:57:28.903Z"
   },
   {
    "duration": 7,
    "start_time": "2022-05-10T07:57:53.677Z"
   },
   {
    "duration": 89,
    "start_time": "2022-05-10T07:58:12.002Z"
   },
   {
    "duration": 23,
    "start_time": "2022-05-10T07:58:12.094Z"
   },
   {
    "duration": 8,
    "start_time": "2022-05-10T07:58:12.119Z"
   },
   {
    "duration": 15,
    "start_time": "2022-05-10T07:58:12.152Z"
   },
   {
    "duration": 18,
    "start_time": "2022-05-10T07:58:12.170Z"
   },
   {
    "duration": 16,
    "start_time": "2022-05-10T07:58:12.190Z"
   },
   {
    "duration": 72,
    "start_time": "2022-05-10T07:58:12.209Z"
   },
   {
    "duration": 25,
    "start_time": "2022-05-10T07:58:12.284Z"
   },
   {
    "duration": 21,
    "start_time": "2022-05-10T07:58:29.021Z"
   },
   {
    "duration": 7,
    "start_time": "2022-05-10T07:58:47.997Z"
   },
   {
    "duration": 11276,
    "start_time": "2022-05-10T08:00:36.733Z"
   },
   {
    "duration": 11444,
    "start_time": "2022-05-10T08:01:00.410Z"
   },
   {
    "duration": 9,
    "start_time": "2022-05-10T08:01:58.660Z"
   },
   {
    "duration": 22,
    "start_time": "2022-05-10T08:03:26.226Z"
   },
   {
    "duration": 8,
    "start_time": "2022-05-10T08:04:05.191Z"
   },
   {
    "duration": 10,
    "start_time": "2022-05-10T08:04:47.318Z"
   },
   {
    "duration": 11,
    "start_time": "2022-05-10T08:05:05.892Z"
   },
   {
    "duration": 17,
    "start_time": "2022-05-10T08:05:36.244Z"
   },
   {
    "duration": 9,
    "start_time": "2022-05-10T08:05:57.086Z"
   },
   {
    "duration": 10,
    "start_time": "2022-05-10T08:07:01.330Z"
   },
   {
    "duration": 6,
    "start_time": "2022-05-10T08:07:39.254Z"
   },
   {
    "duration": 6,
    "start_time": "2022-05-10T08:07:45.522Z"
   },
   {
    "duration": 7,
    "start_time": "2022-05-10T08:07:52.457Z"
   },
   {
    "duration": 7,
    "start_time": "2022-05-10T08:08:10.653Z"
   },
   {
    "duration": 6,
    "start_time": "2022-05-10T08:08:14.214Z"
   },
   {
    "duration": 10,
    "start_time": "2022-05-10T08:08:38.137Z"
   },
   {
    "duration": 22,
    "start_time": "2022-05-10T08:10:35.312Z"
   },
   {
    "duration": 514,
    "start_time": "2022-05-11T05:02:01.681Z"
   },
   {
    "duration": 23,
    "start_time": "2022-05-11T05:02:02.198Z"
   },
   {
    "duration": 33,
    "start_time": "2022-05-11T05:02:02.223Z"
   },
   {
    "duration": 18,
    "start_time": "2022-05-11T05:02:02.257Z"
   },
   {
    "duration": 15,
    "start_time": "2022-05-11T05:02:02.277Z"
   },
   {
    "duration": 20,
    "start_time": "2022-05-11T05:02:02.294Z"
   },
   {
    "duration": 26,
    "start_time": "2022-05-11T05:02:02.316Z"
   },
   {
    "duration": 9140,
    "start_time": "2022-05-11T05:02:02.344Z"
   },
   {
    "duration": 29,
    "start_time": "2022-05-11T05:02:11.485Z"
   },
   {
    "duration": 5,
    "start_time": "2022-05-11T05:02:11.516Z"
   },
   {
    "duration": 17,
    "start_time": "2022-05-11T05:02:11.522Z"
   },
   {
    "duration": 7,
    "start_time": "2022-05-11T05:02:11.541Z"
   },
   {
    "duration": 8,
    "start_time": "2022-05-11T05:02:11.550Z"
   },
   {
    "duration": 34,
    "start_time": "2022-05-11T05:02:11.560Z"
   },
   {
    "duration": 9,
    "start_time": "2022-05-11T05:02:11.595Z"
   },
   {
    "duration": 16,
    "start_time": "2022-05-11T05:02:11.606Z"
   },
   {
    "duration": 18,
    "start_time": "2022-05-11T05:02:11.623Z"
   },
   {
    "duration": 15,
    "start_time": "2022-05-11T05:02:11.642Z"
   },
   {
    "duration": 15,
    "start_time": "2022-05-11T05:02:58.841Z"
   },
   {
    "duration": 18,
    "start_time": "2022-05-11T05:05:15.693Z"
   },
   {
    "duration": 15,
    "start_time": "2022-05-11T05:05:33.610Z"
   },
   {
    "duration": 64,
    "start_time": "2022-05-11T05:07:34.399Z"
   },
   {
    "duration": 17,
    "start_time": "2022-05-11T05:07:51.080Z"
   },
   {
    "duration": 22,
    "start_time": "2022-05-11T05:08:12.920Z"
   },
   {
    "duration": 23,
    "start_time": "2022-05-11T05:08:50.712Z"
   },
   {
    "duration": 17,
    "start_time": "2022-05-11T05:08:57.644Z"
   },
   {
    "duration": 51,
    "start_time": "2022-05-11T05:10:42.588Z"
   },
   {
    "duration": 58,
    "start_time": "2022-05-11T05:10:58.690Z"
   },
   {
    "duration": 12,
    "start_time": "2022-05-11T05:12:33.763Z"
   },
   {
    "duration": 16,
    "start_time": "2022-05-11T05:21:34.297Z"
   },
   {
    "duration": 24,
    "start_time": "2022-05-11T05:22:59.431Z"
   },
   {
    "duration": 33,
    "start_time": "2022-05-11T05:26:56.479Z"
   },
   {
    "duration": 34,
    "start_time": "2022-05-11T05:27:25.694Z"
   },
   {
    "duration": 13,
    "start_time": "2022-05-11T05:28:34.992Z"
   },
   {
    "duration": 4,
    "start_time": "2022-05-11T05:32:44.014Z"
   },
   {
    "duration": 9,
    "start_time": "2022-05-11T05:36:18.520Z"
   },
   {
    "duration": 10,
    "start_time": "2022-05-11T05:36:30.092Z"
   },
   {
    "duration": 9,
    "start_time": "2022-05-11T05:36:50.662Z"
   },
   {
    "duration": 12,
    "start_time": "2022-05-11T05:37:37.084Z"
   },
   {
    "duration": 14,
    "start_time": "2022-05-11T05:37:43.280Z"
   },
   {
    "duration": 11,
    "start_time": "2022-05-11T05:37:46.944Z"
   },
   {
    "duration": 11,
    "start_time": "2022-05-11T05:38:12.862Z"
   },
   {
    "duration": 14,
    "start_time": "2022-05-11T05:41:02.306Z"
   },
   {
    "duration": 24,
    "start_time": "2022-05-11T05:44:39.269Z"
   },
   {
    "duration": 23,
    "start_time": "2022-05-11T05:45:47.370Z"
   },
   {
    "duration": 43,
    "start_time": "2022-05-11T05:46:52.707Z"
   },
   {
    "duration": 63,
    "start_time": "2022-05-11T05:47:10.684Z"
   },
   {
    "duration": 14,
    "start_time": "2022-05-11T05:47:10.749Z"
   },
   {
    "duration": 5,
    "start_time": "2022-05-11T05:47:10.765Z"
   },
   {
    "duration": 32,
    "start_time": "2022-05-11T05:47:10.772Z"
   },
   {
    "duration": 13,
    "start_time": "2022-05-11T05:47:10.806Z"
   },
   {
    "duration": 9,
    "start_time": "2022-05-11T05:47:10.821Z"
   },
   {
    "duration": 22,
    "start_time": "2022-05-11T05:47:10.832Z"
   },
   {
    "duration": 8190,
    "start_time": "2022-05-11T05:47:10.856Z"
   },
   {
    "duration": 17,
    "start_time": "2022-05-11T05:47:19.048Z"
   },
   {
    "duration": 25,
    "start_time": "2022-05-11T05:47:19.068Z"
   },
   {
    "duration": 13,
    "start_time": "2022-05-11T05:47:19.095Z"
   },
   {
    "duration": 11,
    "start_time": "2022-05-11T05:47:19.111Z"
   },
   {
    "duration": 11,
    "start_time": "2022-05-11T05:47:19.124Z"
   },
   {
    "duration": 7,
    "start_time": "2022-05-11T05:47:19.136Z"
   },
   {
    "duration": 7,
    "start_time": "2022-05-11T05:47:19.145Z"
   },
   {
    "duration": 8,
    "start_time": "2022-05-11T05:47:19.153Z"
   },
   {
    "duration": 45,
    "start_time": "2022-05-11T05:47:19.163Z"
   },
   {
    "duration": 17,
    "start_time": "2022-05-11T05:47:19.211Z"
   },
   {
    "duration": 14,
    "start_time": "2022-05-11T05:47:19.229Z"
   },
   {
    "duration": 49,
    "start_time": "2022-05-11T05:47:19.245Z"
   },
   {
    "duration": 74,
    "start_time": "2022-05-11T05:47:19.295Z"
   },
   {
    "duration": 30,
    "start_time": "2022-05-11T05:47:19.372Z"
   },
   {
    "duration": 34,
    "start_time": "2022-05-11T05:47:19.404Z"
   },
   {
    "duration": 56,
    "start_time": "2022-05-11T05:47:19.441Z"
   },
   {
    "duration": 24,
    "start_time": "2022-05-11T05:47:43.405Z"
   },
   {
    "duration": 24,
    "start_time": "2022-05-11T05:48:21.944Z"
   },
   {
    "duration": 22,
    "start_time": "2022-05-11T05:48:45.721Z"
   },
   {
    "duration": 71,
    "start_time": "2022-05-11T05:49:36.590Z"
   },
   {
    "duration": 15,
    "start_time": "2022-05-11T05:49:36.663Z"
   },
   {
    "duration": 5,
    "start_time": "2022-05-11T05:49:36.693Z"
   },
   {
    "duration": 26,
    "start_time": "2022-05-11T05:49:36.701Z"
   },
   {
    "duration": 14,
    "start_time": "2022-05-11T05:49:36.729Z"
   },
   {
    "duration": 20,
    "start_time": "2022-05-11T05:49:36.745Z"
   },
   {
    "duration": 32,
    "start_time": "2022-05-11T05:49:36.767Z"
   },
   {
    "duration": 8356,
    "start_time": "2022-05-11T05:49:36.801Z"
   },
   {
    "duration": 18,
    "start_time": "2022-05-11T05:49:45.159Z"
   },
   {
    "duration": 6,
    "start_time": "2022-05-11T05:49:45.192Z"
   },
   {
    "duration": 37,
    "start_time": "2022-05-11T05:49:45.200Z"
   },
   {
    "duration": 9,
    "start_time": "2022-05-11T05:49:45.240Z"
   },
   {
    "duration": 11,
    "start_time": "2022-05-11T05:49:45.250Z"
   },
   {
    "duration": 8,
    "start_time": "2022-05-11T05:49:45.263Z"
   },
   {
    "duration": 20,
    "start_time": "2022-05-11T05:49:45.273Z"
   },
   {
    "duration": 8,
    "start_time": "2022-05-11T05:49:45.295Z"
   },
   {
    "duration": 32,
    "start_time": "2022-05-11T05:49:45.304Z"
   },
   {
    "duration": 16,
    "start_time": "2022-05-11T05:49:45.338Z"
   },
   {
    "duration": 13,
    "start_time": "2022-05-11T05:49:45.356Z"
   },
   {
    "duration": 34,
    "start_time": "2022-05-11T05:49:45.370Z"
   },
   {
    "duration": 59,
    "start_time": "2022-05-11T05:49:45.406Z"
   },
   {
    "duration": 29,
    "start_time": "2022-05-11T05:49:45.466Z"
   },
   {
    "duration": 23,
    "start_time": "2022-05-11T05:49:45.497Z"
   },
   {
    "duration": 8,
    "start_time": "2022-05-11T05:53:28.982Z"
   },
   {
    "duration": 19,
    "start_time": "2022-05-11T06:00:30.663Z"
   },
   {
    "duration": 15,
    "start_time": "2022-05-11T06:01:30.346Z"
   },
   {
    "duration": 5,
    "start_time": "2022-05-11T15:00:23.146Z"
   },
   {
    "duration": 8,
    "start_time": "2022-05-11T15:01:15.359Z"
   },
   {
    "duration": 18,
    "start_time": "2022-05-11T15:01:27.271Z"
   },
   {
    "duration": 64,
    "start_time": "2022-05-11T15:02:06.917Z"
   },
   {
    "duration": 14,
    "start_time": "2022-05-11T15:02:06.983Z"
   },
   {
    "duration": 5,
    "start_time": "2022-05-11T15:02:06.999Z"
   },
   {
    "duration": 14,
    "start_time": "2022-05-11T15:02:07.005Z"
   },
   {
    "duration": 13,
    "start_time": "2022-05-11T15:02:07.021Z"
   },
   {
    "duration": 14,
    "start_time": "2022-05-11T15:02:07.036Z"
   },
   {
    "duration": 47,
    "start_time": "2022-05-11T15:02:07.052Z"
   },
   {
    "duration": 8703,
    "start_time": "2022-05-11T15:02:07.100Z"
   },
   {
    "duration": 18,
    "start_time": "2022-05-11T15:02:15.805Z"
   },
   {
    "duration": 7,
    "start_time": "2022-05-11T15:02:15.824Z"
   },
   {
    "duration": 18,
    "start_time": "2022-05-11T15:02:15.833Z"
   },
   {
    "duration": 9,
    "start_time": "2022-05-11T15:02:15.853Z"
   },
   {
    "duration": 37,
    "start_time": "2022-05-11T15:02:15.864Z"
   },
   {
    "duration": 8,
    "start_time": "2022-05-11T15:02:15.903Z"
   },
   {
    "duration": 8,
    "start_time": "2022-05-11T15:02:15.912Z"
   },
   {
    "duration": 14,
    "start_time": "2022-05-11T15:02:15.921Z"
   },
   {
    "duration": 20,
    "start_time": "2022-05-11T15:02:15.937Z"
   },
   {
    "duration": 41,
    "start_time": "2022-05-11T15:02:15.959Z"
   },
   {
    "duration": 15,
    "start_time": "2022-05-11T15:02:16.001Z"
   },
   {
    "duration": 16,
    "start_time": "2022-05-11T15:02:16.019Z"
   },
   {
    "duration": 73,
    "start_time": "2022-05-11T15:02:16.037Z"
   },
   {
    "duration": 12,
    "start_time": "2022-05-11T15:02:16.112Z"
   },
   {
    "duration": 28,
    "start_time": "2022-05-11T15:02:16.125Z"
   },
   {
    "duration": 8,
    "start_time": "2022-05-11T15:02:16.154Z"
   },
   {
    "duration": 34,
    "start_time": "2022-05-11T15:02:16.164Z"
   },
   {
    "duration": 19,
    "start_time": "2022-05-11T15:02:34.786Z"
   },
   {
    "duration": 7,
    "start_time": "2022-05-11T15:03:05.925Z"
   },
   {
    "duration": 85,
    "start_time": "2022-05-11T15:03:45.412Z"
   },
   {
    "duration": 21,
    "start_time": "2022-05-11T15:03:45.500Z"
   },
   {
    "duration": 6,
    "start_time": "2022-05-11T15:03:45.524Z"
   },
   {
    "duration": 17,
    "start_time": "2022-05-11T15:03:45.532Z"
   },
   {
    "duration": 47,
    "start_time": "2022-05-11T15:03:45.553Z"
   },
   {
    "duration": 11,
    "start_time": "2022-05-11T15:03:45.602Z"
   },
   {
    "duration": 26,
    "start_time": "2022-05-11T15:03:45.615Z"
   },
   {
    "duration": 8997,
    "start_time": "2022-05-11T15:03:45.642Z"
   },
   {
    "duration": 17,
    "start_time": "2022-05-11T15:03:54.641Z"
   },
   {
    "duration": 13,
    "start_time": "2022-05-11T15:03:54.660Z"
   },
   {
    "duration": 28,
    "start_time": "2022-05-11T15:03:54.675Z"
   },
   {
    "duration": 13,
    "start_time": "2022-05-11T15:03:54.705Z"
   },
   {
    "duration": 12,
    "start_time": "2022-05-11T15:03:54.720Z"
   },
   {
    "duration": 6,
    "start_time": "2022-05-11T15:03:54.736Z"
   },
   {
    "duration": 9,
    "start_time": "2022-05-11T15:03:54.744Z"
   },
   {
    "duration": 14,
    "start_time": "2022-05-11T15:03:54.754Z"
   },
   {
    "duration": 40,
    "start_time": "2022-05-11T15:03:54.770Z"
   },
   {
    "duration": 17,
    "start_time": "2022-05-11T15:03:54.812Z"
   },
   {
    "duration": 16,
    "start_time": "2022-05-11T15:03:54.831Z"
   },
   {
    "duration": 45,
    "start_time": "2022-05-11T15:03:54.849Z"
   },
   {
    "duration": 50,
    "start_time": "2022-05-11T15:03:54.897Z"
   },
   {
    "duration": 12,
    "start_time": "2022-05-11T15:03:54.950Z"
   },
   {
    "duration": 47,
    "start_time": "2022-05-11T15:03:54.964Z"
   },
   {
    "duration": 8,
    "start_time": "2022-05-11T15:03:55.014Z"
   },
   {
    "duration": 13,
    "start_time": "2022-05-11T15:03:55.025Z"
   },
   {
    "duration": 13,
    "start_time": "2022-05-11T15:03:55.039Z"
   },
   {
    "duration": 8,
    "start_time": "2022-05-11T15:05:07.940Z"
   },
   {
    "duration": 87,
    "start_time": "2022-05-11T15:05:57.228Z"
   },
   {
    "duration": 21,
    "start_time": "2022-05-11T15:05:57.318Z"
   },
   {
    "duration": 7,
    "start_time": "2022-05-11T15:05:57.341Z"
   },
   {
    "duration": 17,
    "start_time": "2022-05-11T15:05:57.350Z"
   },
   {
    "duration": 16,
    "start_time": "2022-05-11T15:05:57.392Z"
   },
   {
    "duration": 13,
    "start_time": "2022-05-11T15:05:57.410Z"
   },
   {
    "duration": 28,
    "start_time": "2022-05-11T15:05:57.426Z"
   },
   {
    "duration": 12584,
    "start_time": "2022-05-11T15:05:57.456Z"
   },
   {
    "duration": 23,
    "start_time": "2022-05-11T15:06:10.043Z"
   },
   {
    "duration": 25,
    "start_time": "2022-05-11T15:06:10.068Z"
   },
   {
    "duration": 21,
    "start_time": "2022-05-11T15:06:10.095Z"
   },
   {
    "duration": 10,
    "start_time": "2022-05-11T15:06:10.118Z"
   },
   {
    "duration": 17,
    "start_time": "2022-05-11T15:06:10.130Z"
   },
   {
    "duration": 7,
    "start_time": "2022-05-11T15:06:10.151Z"
   },
   {
    "duration": 6,
    "start_time": "2022-05-11T15:06:10.160Z"
   },
   {
    "duration": 8,
    "start_time": "2022-05-11T15:06:10.192Z"
   },
   {
    "duration": 18,
    "start_time": "2022-05-11T15:06:10.202Z"
   },
   {
    "duration": 15,
    "start_time": "2022-05-11T15:06:10.222Z"
   },
   {
    "duration": 12,
    "start_time": "2022-05-11T15:06:10.239Z"
   },
   {
    "duration": 45,
    "start_time": "2022-05-11T15:06:10.253Z"
   },
   {
    "duration": 50,
    "start_time": "2022-05-11T15:06:10.299Z"
   },
   {
    "duration": 12,
    "start_time": "2022-05-11T15:06:10.350Z"
   },
   {
    "duration": 49,
    "start_time": "2022-05-11T15:06:10.364Z"
   },
   {
    "duration": 8,
    "start_time": "2022-05-11T15:06:10.414Z"
   },
   {
    "duration": 11,
    "start_time": "2022-05-11T15:06:10.424Z"
   },
   {
    "duration": 17,
    "start_time": "2022-05-11T15:06:10.436Z"
   },
   {
    "duration": 14,
    "start_time": "2022-05-11T15:06:42.055Z"
   },
   {
    "duration": 489,
    "start_time": "2022-05-12T04:53:25.413Z"
   },
   {
    "duration": 15,
    "start_time": "2022-05-12T04:53:25.904Z"
   },
   {
    "duration": 6,
    "start_time": "2022-05-12T04:53:25.920Z"
   },
   {
    "duration": 14,
    "start_time": "2022-05-12T04:53:25.927Z"
   },
   {
    "duration": 13,
    "start_time": "2022-05-12T04:53:25.944Z"
   },
   {
    "duration": 43,
    "start_time": "2022-05-12T04:53:25.958Z"
   },
   {
    "duration": 20,
    "start_time": "2022-05-12T04:53:26.003Z"
   },
   {
    "duration": 7441,
    "start_time": "2022-05-12T04:53:26.025Z"
   },
   {
    "duration": 17,
    "start_time": "2022-05-12T04:53:33.468Z"
   },
   {
    "duration": 6,
    "start_time": "2022-05-12T04:53:33.499Z"
   },
   {
    "duration": 13,
    "start_time": "2022-05-12T04:53:33.507Z"
   },
   {
    "duration": 6,
    "start_time": "2022-05-12T04:53:33.522Z"
   },
   {
    "duration": 8,
    "start_time": "2022-05-12T04:53:33.530Z"
   },
   {
    "duration": 5,
    "start_time": "2022-05-12T04:53:33.541Z"
   },
   {
    "duration": 5,
    "start_time": "2022-05-12T04:53:33.548Z"
   },
   {
    "duration": 7,
    "start_time": "2022-05-12T04:53:33.555Z"
   },
   {
    "duration": 15,
    "start_time": "2022-05-12T04:53:33.601Z"
   },
   {
    "duration": 15,
    "start_time": "2022-05-12T04:53:33.618Z"
   },
   {
    "duration": 13,
    "start_time": "2022-05-12T04:53:33.634Z"
   },
   {
    "duration": 14,
    "start_time": "2022-05-12T04:53:33.649Z"
   },
   {
    "duration": 77,
    "start_time": "2022-05-12T04:53:33.665Z"
   },
   {
    "duration": 11,
    "start_time": "2022-05-12T04:53:33.744Z"
   },
   {
    "duration": 21,
    "start_time": "2022-05-12T04:53:33.757Z"
   },
   {
    "duration": 23,
    "start_time": "2022-05-12T04:53:33.780Z"
   },
   {
    "duration": 10,
    "start_time": "2022-05-12T04:53:33.805Z"
   },
   {
    "duration": 7,
    "start_time": "2022-05-12T04:53:33.817Z"
   },
   {
    "duration": 5,
    "start_time": "2022-05-12T05:04:16.145Z"
   },
   {
    "duration": 6,
    "start_time": "2022-05-12T05:04:21.095Z"
   },
   {
    "duration": 5,
    "start_time": "2022-05-12T05:04:26.600Z"
   },
   {
    "duration": 4,
    "start_time": "2022-05-12T05:04:38.186Z"
   },
   {
    "duration": 7,
    "start_time": "2022-05-12T05:05:06.951Z"
   },
   {
    "duration": 14,
    "start_time": "2022-05-12T05:15:45.640Z"
   },
   {
    "duration": 7,
    "start_time": "2022-05-12T05:16:11.677Z"
   },
   {
    "duration": 13,
    "start_time": "2022-05-12T05:20:07.857Z"
   },
   {
    "duration": 8,
    "start_time": "2022-05-12T05:21:21.975Z"
   },
   {
    "duration": 7,
    "start_time": "2022-05-12T05:23:14.003Z"
   },
   {
    "duration": 9,
    "start_time": "2022-05-12T05:24:38.427Z"
   },
   {
    "duration": 60,
    "start_time": "2022-05-12T05:26:30.753Z"
   },
   {
    "duration": 9,
    "start_time": "2022-05-12T05:27:04.301Z"
   },
   {
    "duration": 7,
    "start_time": "2022-05-12T05:35:25.055Z"
   },
   {
    "duration": 8,
    "start_time": "2022-05-12T05:35:39.156Z"
   },
   {
    "duration": 8,
    "start_time": "2022-05-12T05:36:20.079Z"
   },
   {
    "duration": 8,
    "start_time": "2022-05-12T05:37:07.713Z"
   },
   {
    "duration": 13,
    "start_time": "2022-05-12T05:37:34.524Z"
   },
   {
    "duration": 76,
    "start_time": "2022-05-12T05:38:09.809Z"
   },
   {
    "duration": 13,
    "start_time": "2022-05-12T05:38:09.887Z"
   },
   {
    "duration": 5,
    "start_time": "2022-05-12T05:38:09.902Z"
   },
   {
    "duration": 13,
    "start_time": "2022-05-12T05:38:09.908Z"
   },
   {
    "duration": 13,
    "start_time": "2022-05-12T05:38:09.923Z"
   },
   {
    "duration": 14,
    "start_time": "2022-05-12T05:38:09.938Z"
   },
   {
    "duration": 22,
    "start_time": "2022-05-12T05:38:09.954Z"
   },
   {
    "duration": 7425,
    "start_time": "2022-05-12T05:38:09.977Z"
   },
   {
    "duration": 14,
    "start_time": "2022-05-12T05:38:17.404Z"
   },
   {
    "duration": 9,
    "start_time": "2022-05-12T05:38:17.420Z"
   },
   {
    "duration": 15,
    "start_time": "2022-05-12T05:38:17.430Z"
   },
   {
    "duration": 6,
    "start_time": "2022-05-12T05:38:17.446Z"
   },
   {
    "duration": 10,
    "start_time": "2022-05-12T05:38:17.454Z"
   },
   {
    "duration": 5,
    "start_time": "2022-05-12T05:38:17.466Z"
   },
   {
    "duration": 29,
    "start_time": "2022-05-12T05:38:17.472Z"
   },
   {
    "duration": 6,
    "start_time": "2022-05-12T05:38:17.502Z"
   },
   {
    "duration": 16,
    "start_time": "2022-05-12T05:38:17.509Z"
   },
   {
    "duration": 13,
    "start_time": "2022-05-12T05:38:17.527Z"
   },
   {
    "duration": 12,
    "start_time": "2022-05-12T05:38:17.541Z"
   },
   {
    "duration": 14,
    "start_time": "2022-05-12T05:38:17.554Z"
   },
   {
    "duration": 69,
    "start_time": "2022-05-12T05:38:17.569Z"
   },
   {
    "duration": 12,
    "start_time": "2022-05-12T05:38:17.639Z"
   },
   {
    "duration": 24,
    "start_time": "2022-05-12T05:38:17.653Z"
   },
   {
    "duration": 31,
    "start_time": "2022-05-12T05:38:17.678Z"
   },
   {
    "duration": 9,
    "start_time": "2022-05-12T05:38:17.711Z"
   },
   {
    "duration": 9,
    "start_time": "2022-05-12T05:38:17.722Z"
   },
   {
    "duration": 20,
    "start_time": "2022-05-12T05:38:17.732Z"
   },
   {
    "duration": 11,
    "start_time": "2022-05-12T05:38:17.753Z"
   },
   {
    "duration": 7,
    "start_time": "2022-05-12T05:38:17.766Z"
   },
   {
    "duration": 64,
    "start_time": "2022-05-12T05:38:50.931Z"
   },
   {
    "duration": 13,
    "start_time": "2022-05-12T05:38:50.997Z"
   },
   {
    "duration": 5,
    "start_time": "2022-05-12T05:38:51.011Z"
   },
   {
    "duration": 13,
    "start_time": "2022-05-12T05:38:51.017Z"
   },
   {
    "duration": 11,
    "start_time": "2022-05-12T05:38:51.031Z"
   },
   {
    "duration": 8,
    "start_time": "2022-05-12T05:38:51.043Z"
   },
   {
    "duration": 21,
    "start_time": "2022-05-12T05:38:51.052Z"
   },
   {
    "duration": 7460,
    "start_time": "2022-05-12T05:38:51.075Z"
   },
   {
    "duration": 14,
    "start_time": "2022-05-12T05:38:58.537Z"
   },
   {
    "duration": 8,
    "start_time": "2022-05-12T05:38:58.554Z"
   },
   {
    "duration": 14,
    "start_time": "2022-05-12T05:38:58.563Z"
   },
   {
    "duration": 24,
    "start_time": "2022-05-12T05:38:58.578Z"
   },
   {
    "duration": 10,
    "start_time": "2022-05-12T05:38:58.603Z"
   },
   {
    "duration": 7,
    "start_time": "2022-05-12T05:38:58.614Z"
   },
   {
    "duration": 9,
    "start_time": "2022-05-12T05:38:58.622Z"
   },
   {
    "duration": 10,
    "start_time": "2022-05-12T05:38:58.632Z"
   },
   {
    "duration": 18,
    "start_time": "2022-05-12T05:38:58.643Z"
   },
   {
    "duration": 14,
    "start_time": "2022-05-12T05:38:58.662Z"
   },
   {
    "duration": 29,
    "start_time": "2022-05-12T05:38:58.677Z"
   },
   {
    "duration": 15,
    "start_time": "2022-05-12T05:38:58.707Z"
   },
   {
    "duration": 43,
    "start_time": "2022-05-12T05:38:58.723Z"
   },
   {
    "duration": 34,
    "start_time": "2022-05-12T05:38:58.767Z"
   },
   {
    "duration": 21,
    "start_time": "2022-05-12T05:38:58.803Z"
   },
   {
    "duration": 12,
    "start_time": "2022-05-12T05:38:58.825Z"
   },
   {
    "duration": 10,
    "start_time": "2022-05-12T05:38:58.839Z"
   },
   {
    "duration": 11,
    "start_time": "2022-05-12T05:38:58.851Z"
   },
   {
    "duration": 10,
    "start_time": "2022-05-12T05:38:58.864Z"
   },
   {
    "duration": 15,
    "start_time": "2022-05-12T05:38:58.899Z"
   },
   {
    "duration": 11,
    "start_time": "2022-05-12T05:38:58.916Z"
   },
   {
    "duration": 11,
    "start_time": "2022-05-12T05:39:06.952Z"
   },
   {
    "duration": 12,
    "start_time": "2022-05-12T05:39:29.673Z"
   },
   {
    "duration": 13,
    "start_time": "2022-05-12T05:43:13.975Z"
   },
   {
    "duration": 12,
    "start_time": "2022-05-12T05:43:20.236Z"
   },
   {
    "duration": 11,
    "start_time": "2022-05-12T05:43:24.858Z"
   },
   {
    "duration": 9,
    "start_time": "2022-05-12T05:43:41.348Z"
   },
   {
    "duration": 11,
    "start_time": "2022-05-12T05:43:49.177Z"
   },
   {
    "duration": 153,
    "start_time": "2022-05-12T05:44:08.691Z"
   },
   {
    "duration": 184,
    "start_time": "2022-05-12T05:44:17.938Z"
   },
   {
    "duration": 11,
    "start_time": "2022-05-12T05:44:29.739Z"
   },
   {
    "duration": 13,
    "start_time": "2022-05-12T05:44:41.586Z"
   },
   {
    "duration": 155,
    "start_time": "2022-05-12T05:49:28.782Z"
   },
   {
    "duration": 163,
    "start_time": "2022-05-12T05:49:44.589Z"
   },
   {
    "duration": 15,
    "start_time": "2022-05-12T05:49:57.810Z"
   },
   {
    "duration": 15,
    "start_time": "2022-05-12T05:50:19.936Z"
   },
   {
    "duration": 17,
    "start_time": "2022-05-12T05:50:30.377Z"
   },
   {
    "duration": 15,
    "start_time": "2022-05-12T05:51:05.267Z"
   },
   {
    "duration": 12,
    "start_time": "2022-05-12T05:52:11.820Z"
   },
   {
    "duration": 15,
    "start_time": "2022-05-12T05:52:22.246Z"
   },
   {
    "duration": 15,
    "start_time": "2022-05-12T05:54:45.109Z"
   },
   {
    "duration": 2481,
    "start_time": "2022-05-12T05:56:12.344Z"
   },
   {
    "duration": 17,
    "start_time": "2022-05-12T05:56:43.645Z"
   },
   {
    "duration": 3022,
    "start_time": "2022-05-12T05:57:19.558Z"
   },
   {
    "duration": 13,
    "start_time": "2022-05-12T05:57:58.526Z"
   },
   {
    "duration": 17,
    "start_time": "2022-05-12T05:58:03.725Z"
   },
   {
    "duration": 14,
    "start_time": "2022-05-12T05:58:43.046Z"
   },
   {
    "duration": 18,
    "start_time": "2022-05-12T05:58:49.280Z"
   },
   {
    "duration": 2425,
    "start_time": "2022-05-12T05:59:37.817Z"
   },
   {
    "duration": 2503,
    "start_time": "2022-05-12T05:59:54.120Z"
   },
   {
    "duration": 2468,
    "start_time": "2022-05-12T06:00:24.299Z"
   },
   {
    "duration": 18,
    "start_time": "2022-05-12T06:00:44.524Z"
   },
   {
    "duration": 16,
    "start_time": "2022-05-12T06:01:35.635Z"
   },
   {
    "duration": 15,
    "start_time": "2022-05-12T06:05:05.465Z"
   },
   {
    "duration": 13,
    "start_time": "2022-05-12T06:05:36.918Z"
   },
   {
    "duration": 16,
    "start_time": "2022-05-12T06:05:45.190Z"
   },
   {
    "duration": 15,
    "start_time": "2022-05-12T06:06:07.023Z"
   },
   {
    "duration": 2537,
    "start_time": "2022-05-12T06:06:26.964Z"
   },
   {
    "duration": 16,
    "start_time": "2022-05-12T06:06:41.973Z"
   },
   {
    "duration": 2704,
    "start_time": "2022-05-12T06:06:47.155Z"
   },
   {
    "duration": 2484,
    "start_time": "2022-05-12T06:07:27.048Z"
   },
   {
    "duration": 2612,
    "start_time": "2022-05-12T06:07:54.456Z"
   },
   {
    "duration": 16,
    "start_time": "2022-05-12T06:08:32.565Z"
   },
   {
    "duration": 16,
    "start_time": "2022-05-12T06:08:44.626Z"
   },
   {
    "duration": 17,
    "start_time": "2022-05-12T06:17:25.871Z"
   },
   {
    "duration": 18,
    "start_time": "2022-05-12T06:17:37.188Z"
   },
   {
    "duration": 20,
    "start_time": "2022-05-12T06:17:52.631Z"
   },
   {
    "duration": 19,
    "start_time": "2022-05-12T06:18:00.351Z"
   },
   {
    "duration": 17,
    "start_time": "2022-05-12T06:21:15.324Z"
   },
   {
    "duration": 55,
    "start_time": "2022-05-12T06:33:17.277Z"
   },
   {
    "duration": 15,
    "start_time": "2022-05-12T06:35:16.743Z"
   },
   {
    "duration": 16,
    "start_time": "2022-05-12T06:35:52.359Z"
   },
   {
    "duration": 103,
    "start_time": "2022-05-12T06:36:06.398Z"
   },
   {
    "duration": 20,
    "start_time": "2022-05-12T06:36:06.503Z"
   },
   {
    "duration": 5,
    "start_time": "2022-05-12T06:36:06.525Z"
   },
   {
    "duration": 14,
    "start_time": "2022-05-12T06:36:06.532Z"
   },
   {
    "duration": 11,
    "start_time": "2022-05-12T06:36:06.547Z"
   },
   {
    "duration": 9,
    "start_time": "2022-05-12T06:36:06.560Z"
   },
   {
    "duration": 46,
    "start_time": "2022-05-12T06:36:06.570Z"
   },
   {
    "duration": 7743,
    "start_time": "2022-05-12T06:36:06.617Z"
   },
   {
    "duration": 16,
    "start_time": "2022-05-12T06:36:14.361Z"
   },
   {
    "duration": 7,
    "start_time": "2022-05-12T06:36:14.379Z"
   },
   {
    "duration": 12,
    "start_time": "2022-05-12T06:36:14.400Z"
   },
   {
    "duration": 9,
    "start_time": "2022-05-12T06:36:14.414Z"
   },
   {
    "duration": 8,
    "start_time": "2022-05-12T06:36:14.425Z"
   },
   {
    "duration": 9,
    "start_time": "2022-05-12T06:36:14.434Z"
   },
   {
    "duration": 9,
    "start_time": "2022-05-12T06:36:14.445Z"
   },
   {
    "duration": 8,
    "start_time": "2022-05-12T06:36:14.456Z"
   },
   {
    "duration": 40,
    "start_time": "2022-05-12T06:36:14.466Z"
   },
   {
    "duration": 14,
    "start_time": "2022-05-12T06:36:14.507Z"
   },
   {
    "duration": 12,
    "start_time": "2022-05-12T06:36:14.523Z"
   },
   {
    "duration": 15,
    "start_time": "2022-05-12T06:36:14.537Z"
   },
   {
    "duration": 67,
    "start_time": "2022-05-12T06:36:14.553Z"
   },
   {
    "duration": 11,
    "start_time": "2022-05-12T06:36:14.622Z"
   },
   {
    "duration": 22,
    "start_time": "2022-05-12T06:36:14.635Z"
   },
   {
    "duration": 11,
    "start_time": "2022-05-12T06:36:14.659Z"
   },
   {
    "duration": 32,
    "start_time": "2022-05-12T06:36:14.672Z"
   },
   {
    "duration": 11,
    "start_time": "2022-05-12T06:36:14.706Z"
   },
   {
    "duration": 13,
    "start_time": "2022-05-12T06:36:14.718Z"
   },
   {
    "duration": 6,
    "start_time": "2022-05-12T06:36:14.734Z"
   },
   {
    "duration": 22,
    "start_time": "2022-05-12T06:36:14.742Z"
   },
   {
    "duration": 15,
    "start_time": "2022-05-12T06:36:14.765Z"
   },
   {
    "duration": 13,
    "start_time": "2022-05-12T06:36:28.083Z"
   },
   {
    "duration": 15,
    "start_time": "2022-05-12T06:36:59.638Z"
   },
   {
    "duration": 16,
    "start_time": "2022-05-12T06:37:18.677Z"
   },
   {
    "duration": 20,
    "start_time": "2022-05-12T06:37:29.579Z"
   },
   {
    "duration": 15,
    "start_time": "2022-05-12T06:37:34.144Z"
   },
   {
    "duration": 17,
    "start_time": "2022-05-12T06:37:50.221Z"
   },
   {
    "duration": 13,
    "start_time": "2022-05-12T06:38:45.953Z"
   },
   {
    "duration": 21,
    "start_time": "2022-05-12T06:39:11.987Z"
   },
   {
    "duration": 12,
    "start_time": "2022-05-12T06:39:24.372Z"
   },
   {
    "duration": 17,
    "start_time": "2022-05-12T06:39:38.936Z"
   },
   {
    "duration": 18,
    "start_time": "2022-05-12T06:40:02.019Z"
   },
   {
    "duration": 19,
    "start_time": "2022-05-12T06:40:13.250Z"
   },
   {
    "duration": 16,
    "start_time": "2022-05-12T06:41:21.521Z"
   },
   {
    "duration": 16,
    "start_time": "2022-05-12T06:41:52.070Z"
   },
   {
    "duration": 18,
    "start_time": "2022-05-12T06:42:40.356Z"
   },
   {
    "duration": 19,
    "start_time": "2022-05-12T06:42:56.832Z"
   },
   {
    "duration": 22,
    "start_time": "2022-05-12T06:44:48.493Z"
   },
   {
    "duration": 21,
    "start_time": "2022-05-12T06:45:24.841Z"
   },
   {
    "duration": 17,
    "start_time": "2022-05-12T06:51:24.525Z"
   },
   {
    "duration": 17,
    "start_time": "2022-05-12T06:51:51.177Z"
   },
   {
    "duration": 23,
    "start_time": "2022-05-12T06:52:30.240Z"
   },
   {
    "duration": 21,
    "start_time": "2022-05-12T06:52:45.716Z"
   },
   {
    "duration": 21,
    "start_time": "2022-05-12T06:53:00.697Z"
   },
   {
    "duration": 19,
    "start_time": "2022-05-12T06:53:36.475Z"
   },
   {
    "duration": 19,
    "start_time": "2022-05-12T06:53:49.657Z"
   },
   {
    "duration": 92,
    "start_time": "2022-05-13T05:18:35.786Z"
   },
   {
    "duration": 490,
    "start_time": "2022-05-13T05:18:39.350Z"
   },
   {
    "duration": 16,
    "start_time": "2022-05-13T05:18:39.842Z"
   },
   {
    "duration": 7,
    "start_time": "2022-05-13T05:18:39.862Z"
   },
   {
    "duration": 20,
    "start_time": "2022-05-13T05:18:39.872Z"
   },
   {
    "duration": 21,
    "start_time": "2022-05-13T05:18:39.895Z"
   },
   {
    "duration": 46,
    "start_time": "2022-05-13T05:18:39.918Z"
   },
   {
    "duration": 32,
    "start_time": "2022-05-13T05:18:39.966Z"
   },
   {
    "duration": 13453,
    "start_time": "2022-05-13T05:18:40.000Z"
   },
   {
    "duration": 27,
    "start_time": "2022-05-13T05:18:53.462Z"
   },
   {
    "duration": 9,
    "start_time": "2022-05-13T05:18:53.492Z"
   },
   {
    "duration": 18,
    "start_time": "2022-05-13T05:18:53.503Z"
   },
   {
    "duration": 10,
    "start_time": "2022-05-13T05:18:53.523Z"
   },
   {
    "duration": 30,
    "start_time": "2022-05-13T05:18:53.535Z"
   },
   {
    "duration": 8,
    "start_time": "2022-05-13T05:18:53.568Z"
   },
   {
    "duration": 8,
    "start_time": "2022-05-13T05:18:53.578Z"
   },
   {
    "duration": 11,
    "start_time": "2022-05-13T05:18:53.587Z"
   },
   {
    "duration": 16,
    "start_time": "2022-05-13T05:18:53.600Z"
   },
   {
    "duration": 16,
    "start_time": "2022-05-13T05:18:53.618Z"
   },
   {
    "duration": 42,
    "start_time": "2022-05-13T05:18:53.635Z"
   },
   {
    "duration": 46,
    "start_time": "2022-05-13T05:18:53.679Z"
   },
   {
    "duration": 11,
    "start_time": "2022-05-13T05:18:53.727Z"
   },
   {
    "duration": 22,
    "start_time": "2022-05-13T05:18:53.761Z"
   },
   {
    "duration": 12,
    "start_time": "2022-05-13T05:18:53.784Z"
   },
   {
    "duration": 9,
    "start_time": "2022-05-13T05:18:53.797Z"
   },
   {
    "duration": 11,
    "start_time": "2022-05-13T05:18:53.807Z"
   },
   {
    "duration": 42,
    "start_time": "2022-05-13T05:18:53.820Z"
   },
   {
    "duration": 7,
    "start_time": "2022-05-13T05:18:53.864Z"
   },
   {
    "duration": 29,
    "start_time": "2022-05-13T05:18:53.874Z"
   },
   {
    "duration": 27,
    "start_time": "2022-05-13T05:18:53.905Z"
   },
   {
    "duration": 57,
    "start_time": "2022-05-13T05:18:53.934Z"
   },
   {
    "duration": 28,
    "start_time": "2022-05-13T05:18:53.993Z"
   },
   {
    "duration": 22,
    "start_time": "2022-05-13T05:27:38.755Z"
   },
   {
    "duration": 26,
    "start_time": "2022-05-13T05:28:31.884Z"
   },
   {
    "duration": 15,
    "start_time": "2022-05-13T05:46:39.140Z"
   },
   {
    "duration": 21,
    "start_time": "2022-05-13T05:47:37.690Z"
   },
   {
    "duration": 27,
    "start_time": "2022-05-13T05:48:52.333Z"
   },
   {
    "duration": 18,
    "start_time": "2022-05-13T05:53:58.290Z"
   }
  ],
  "kernelspec": {
   "display_name": "Python 3 (ipykernel)",
   "language": "python",
   "name": "python3"
  },
  "language_info": {
   "codemirror_mode": {
    "name": "ipython",
    "version": 3
   },
   "file_extension": ".py",
   "mimetype": "text/x-python",
   "name": "python",
   "nbconvert_exporter": "python",
   "pygments_lexer": "ipython3",
   "version": "3.9.5"
  },
  "toc": {
   "base_numbering": 1,
   "nav_menu": {},
   "number_sections": true,
   "sideBar": true,
   "skip_h1_title": true,
   "title_cell": "Table of Contents",
   "title_sidebar": "Contents",
   "toc_cell": false,
   "toc_position": {},
   "toc_section_display": true,
   "toc_window_display": false
  }
 },
 "nbformat": 4,
 "nbformat_minor": 5
}
