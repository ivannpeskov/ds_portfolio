{
 "cells": [
  {
   "cell_type": "markdown",
   "id": "cf9765c6",
   "metadata": {},
   "source": [
    "# Исследование мирового рынка игр. "
   ]
  },
  {
   "cell_type": "markdown",
   "id": "888073b3",
   "metadata": {},
   "source": [
    "Игровая индустрия по всему миру неоднородна. Успешность отдельно взятой игры может зависеть от региона распространения, платформы реализации и даже от возрастного рейтинга. Проанализируем данные из открытых источников, чтобы вложить инвестиции в разработку нужного клиентам продукта.\n",
    "\n",
    "### Цель исследования: \n",
    "На основании имеющихся данных найти закономерности, влияющие на успешную продажу игр, а также составить прогноз по наиболее популярным платформам и жанрам игр на 2017 год.\n",
    "\n",
    "### Описание данных: \n",
    "Перед нами данные до 2016 года. Они представляют собой исторические данные о продажах игр, оценки пользователей и экспертов, жанры и платформы (например, Xbox или PlayStation).\n",
    "\n",
    "### План работ:\n",
    "1. Проверим корректность данных, заполним пропущенные значения. \n",
    "2. Выполним необходимые для анализа рассчеты, например, общие продажи по всему миру. \n",
    "3. Найдем самые популярные платформы, срок жизни платформ, а также самые популярные жанры и рейтинги игр.\n",
    "4. Проверим, влияют ли оценки критиков и пользователей на продаваемость игр. \n",
    "5. Сформулируем и проверим на выборках гипотезы, которые помогут сформулировать итоговые выводы."
   ]
  },
  {
   "cell_type": "markdown",
   "id": "d08bbd75",
   "metadata": {},
   "source": [
    "## Предобработка данных"
   ]
  },
  {
   "cell_type": "code",
   "execution_count": 1,
   "id": "6000b500",
   "metadata": {},
   "outputs": [],
   "source": [
    "import pandas as pd \n",
    "import numpy as np\n",
    "import matplotlib as plt \n",
    "import seaborn as sns\n",
    "from scipy import stats as st"
   ]
  },
  {
   "cell_type": "code",
   "execution_count": 2,
   "id": "7e39cbec",
   "metadata": {},
   "outputs": [
    {
     "name": "stdout",
     "output_type": "stream",
     "text": [
      "<class 'pandas.core.frame.DataFrame'>\n",
      "RangeIndex: 16715 entries, 0 to 16714\n",
      "Data columns (total 11 columns):\n",
      " #   Column           Non-Null Count  Dtype  \n",
      "---  ------           --------------  -----  \n",
      " 0   Name             16713 non-null  object \n",
      " 1   Platform         16715 non-null  object \n",
      " 2   Year_of_Release  16446 non-null  float64\n",
      " 3   Genre            16713 non-null  object \n",
      " 4   NA_sales         16715 non-null  float64\n",
      " 5   EU_sales         16715 non-null  float64\n",
      " 6   JP_sales         16715 non-null  float64\n",
      " 7   Other_sales      16715 non-null  float64\n",
      " 8   Critic_Score     8137 non-null   float64\n",
      " 9   User_Score       10014 non-null  object \n",
      " 10  Rating           9949 non-null   object \n",
      "dtypes: float64(6), object(5)\n",
      "memory usage: 1.4+ MB\n"
     ]
    }
   ],
   "source": [
    "games = pd.read_csv('/datasets/games.csv')\n",
    "games.info()"
   ]
  },
  {
   "cell_type": "markdown",
   "id": "f085988f",
   "metadata": {},
   "source": [
    "Из данных видно, что фрейм имеет 16715 записей. \n",
    "Для дальнейшего удобства переименуем колонки.\n",
    "В колонках: \n",
    "`Name`, `Year_of_Release`, `Genre`, `Critic_Score`, `User_Score`, `Rating` не хватает данных. Изучим их подробнее.\n"
   ]
  },
  {
   "cell_type": "code",
   "execution_count": 3,
   "id": "1edbe840",
   "metadata": {},
   "outputs": [
    {
     "name": "stdout",
     "output_type": "stream",
     "text": [
      "<class 'pandas.core.frame.DataFrame'>\n",
      "RangeIndex: 16715 entries, 0 to 16714\n",
      "Data columns (total 11 columns):\n",
      " #   Column           Non-Null Count  Dtype  \n",
      "---  ------           --------------  -----  \n",
      " 0   name             16713 non-null  object \n",
      " 1   platform         16715 non-null  object \n",
      " 2   year_of_release  16446 non-null  float64\n",
      " 3   genre            16713 non-null  object \n",
      " 4   na_sales         16715 non-null  float64\n",
      " 5   eu_sales         16715 non-null  float64\n",
      " 6   jp_sales         16715 non-null  float64\n",
      " 7   other_sales      16715 non-null  float64\n",
      " 8   critic_score     8137 non-null   float64\n",
      " 9   user_score       10014 non-null  object \n",
      " 10  rating           9949 non-null   object \n",
      "dtypes: float64(6), object(5)\n",
      "memory usage: 1.4+ MB\n"
     ]
    }
   ],
   "source": [
    "games.columns = (['name'\n",
    "                  , 'platform'\n",
    "                  , 'year_of_release'\n",
    "                  , 'genre'\n",
    "                  , 'na_sales'\n",
    "                  , 'eu_sales'\n",
    "                  , 'jp_sales'\n",
    "                  , 'other_sales'\n",
    "                  , 'critic_score'\n",
    "                  , 'user_score'\n",
    "                  , 'rating'                  \n",
    "                 ])\n",
    "games.info()"
   ]
  },
  {
   "cell_type": "code",
   "execution_count": 4,
   "id": "c836d72a",
   "metadata": {},
   "outputs": [
    {
     "data": {
      "text/html": [
       "<div>\n",
       "<style scoped>\n",
       "    .dataframe tbody tr th:only-of-type {\n",
       "        vertical-align: middle;\n",
       "    }\n",
       "\n",
       "    .dataframe tbody tr th {\n",
       "        vertical-align: top;\n",
       "    }\n",
       "\n",
       "    .dataframe thead th {\n",
       "        text-align: right;\n",
       "    }\n",
       "</style>\n",
       "<table border=\"1\" class=\"dataframe\">\n",
       "  <thead>\n",
       "    <tr style=\"text-align: right;\">\n",
       "      <th></th>\n",
       "      <th>name</th>\n",
       "      <th>platform</th>\n",
       "      <th>year_of_release</th>\n",
       "      <th>genre</th>\n",
       "      <th>na_sales</th>\n",
       "      <th>eu_sales</th>\n",
       "      <th>jp_sales</th>\n",
       "      <th>other_sales</th>\n",
       "      <th>critic_score</th>\n",
       "      <th>user_score</th>\n",
       "      <th>rating</th>\n",
       "    </tr>\n",
       "  </thead>\n",
       "  <tbody>\n",
       "    <tr>\n",
       "      <th>659</th>\n",
       "      <td>NaN</td>\n",
       "      <td>GEN</td>\n",
       "      <td>1993.0</td>\n",
       "      <td>NaN</td>\n",
       "      <td>1.78</td>\n",
       "      <td>0.53</td>\n",
       "      <td>0.00</td>\n",
       "      <td>0.08</td>\n",
       "      <td>NaN</td>\n",
       "      <td>NaN</td>\n",
       "      <td>NaN</td>\n",
       "    </tr>\n",
       "    <tr>\n",
       "      <th>14244</th>\n",
       "      <td>NaN</td>\n",
       "      <td>GEN</td>\n",
       "      <td>1993.0</td>\n",
       "      <td>NaN</td>\n",
       "      <td>0.00</td>\n",
       "      <td>0.00</td>\n",
       "      <td>0.03</td>\n",
       "      <td>0.00</td>\n",
       "      <td>NaN</td>\n",
       "      <td>NaN</td>\n",
       "      <td>NaN</td>\n",
       "    </tr>\n",
       "  </tbody>\n",
       "</table>\n",
       "</div>"
      ],
      "text/plain": [
       "      name platform  year_of_release genre  na_sales  eu_sales  jp_sales  \\\n",
       "659    NaN      GEN           1993.0   NaN      1.78      0.53      0.00   \n",
       "14244  NaN      GEN           1993.0   NaN      0.00      0.00      0.03   \n",
       "\n",
       "       other_sales  critic_score user_score rating  \n",
       "659           0.08           NaN        NaN    NaN  \n",
       "14244         0.00           NaN        NaN    NaN  "
      ]
     },
     "execution_count": 4,
     "metadata": {},
     "output_type": "execute_result"
    }
   ],
   "source": [
    "games[games['name'].isna()==True]"
   ]
  },
  {
   "cell_type": "markdown",
   "id": "363343ac",
   "metadata": {},
   "source": [
    "По данным строкам не заполнены практически все колонки. Удалим их. "
   ]
  },
  {
   "cell_type": "code",
   "execution_count": 5,
   "id": "c4648f1b",
   "metadata": {},
   "outputs": [
    {
     "name": "stdout",
     "output_type": "stream",
     "text": [
      "<class 'pandas.core.frame.DataFrame'>\n",
      "Int64Index: 16713 entries, 0 to 16714\n",
      "Data columns (total 11 columns):\n",
      " #   Column           Non-Null Count  Dtype  \n",
      "---  ------           --------------  -----  \n",
      " 0   name             16713 non-null  object \n",
      " 1   platform         16713 non-null  object \n",
      " 2   year_of_release  16444 non-null  float64\n",
      " 3   genre            16713 non-null  object \n",
      " 4   na_sales         16713 non-null  float64\n",
      " 5   eu_sales         16713 non-null  float64\n",
      " 6   jp_sales         16713 non-null  float64\n",
      " 7   other_sales      16713 non-null  float64\n",
      " 8   critic_score     8137 non-null   float64\n",
      " 9   user_score       10014 non-null  object \n",
      " 10  rating           9949 non-null   object \n",
      "dtypes: float64(6), object(5)\n",
      "memory usage: 1.5+ MB\n"
     ]
    }
   ],
   "source": [
    "index = games[games['name'].isna()==True].index\n",
    "games = games.drop(index = index)\n",
    "games.info()"
   ]
  },
  {
   "cell_type": "code",
   "execution_count": 6,
   "id": "21c8c7de",
   "metadata": {},
   "outputs": [
    {
     "data": {
      "text/plain": [
       "PS2     2161\n",
       "DS      2151\n",
       "PS3     1331\n",
       "Wii     1320\n",
       "X360    1262\n",
       "PSP     1209\n",
       "PS      1197\n",
       "PC       974\n",
       "XB       824\n",
       "GBA      822\n",
       "GC       556\n",
       "3DS      520\n",
       "PSV      430\n",
       "PS4      392\n",
       "N64      319\n",
       "XOne     247\n",
       "SNES     239\n",
       "SAT      173\n",
       "WiiU     147\n",
       "2600     133\n",
       "GB        98\n",
       "NES       98\n",
       "DC        52\n",
       "GEN       27\n",
       "NG        12\n",
       "WS         6\n",
       "SCD        6\n",
       "3DO        3\n",
       "TG16       2\n",
       "GG         1\n",
       "PCFX       1\n",
       "Name: platform, dtype: int64"
      ]
     },
     "execution_count": 6,
     "metadata": {},
     "output_type": "execute_result"
    }
   ],
   "source": [
    "games['platform'].value_counts()"
   ]
  },
  {
   "cell_type": "markdown",
   "id": "4f9bbaac",
   "metadata": {},
   "source": [
    "Данные по платформам выглядят корректно. "
   ]
  },
  {
   "cell_type": "code",
   "execution_count": 7,
   "id": "bb607076",
   "metadata": {},
   "outputs": [
    {
     "data": {
      "text/plain": [
       "269"
      ]
     },
     "execution_count": 7,
     "metadata": {},
     "output_type": "execute_result"
    }
   ],
   "source": [
    "games['year_of_release'].isna().sum()"
   ]
  },
  {
   "cell_type": "markdown",
   "id": "63c9a193",
   "metadata": {},
   "source": [
    "По 269 строкам не заполнен год выпуска, возможно, год заполнен по другим платформам этой же игры. Попроуем выполнить поиск по колонке `name` и заполнить медианным значением. "
   ]
  },
  {
   "cell_type": "code",
   "execution_count": 8,
   "id": "8742bc84",
   "metadata": {},
   "outputs": [
    {
     "name": "stderr",
     "output_type": "stream",
     "text": [
      "/opt/conda/lib/python3.9/site-packages/numpy/lib/nanfunctions.py:1117: RuntimeWarning: Mean of empty slice\n",
      "  return np.nanmean(a, axis, out=out, keepdims=keepdims)\n",
      "/opt/conda/lib/python3.9/site-packages/numpy/lib/nanfunctions.py:1117: RuntimeWarning: Mean of empty slice\n",
      "  return np.nanmean(a, axis, out=out, keepdims=keepdims)\n",
      "/opt/conda/lib/python3.9/site-packages/numpy/lib/nanfunctions.py:1117: RuntimeWarning: Mean of empty slice\n",
      "  return np.nanmean(a, axis, out=out, keepdims=keepdims)\n",
      "/opt/conda/lib/python3.9/site-packages/numpy/lib/nanfunctions.py:1117: RuntimeWarning: Mean of empty slice\n",
      "  return np.nanmean(a, axis, out=out, keepdims=keepdims)\n",
      "/opt/conda/lib/python3.9/site-packages/numpy/lib/nanfunctions.py:1117: RuntimeWarning: Mean of empty slice\n",
      "  return np.nanmean(a, axis, out=out, keepdims=keepdims)\n",
      "/opt/conda/lib/python3.9/site-packages/numpy/lib/nanfunctions.py:1117: RuntimeWarning: Mean of empty slice\n",
      "  return np.nanmean(a, axis, out=out, keepdims=keepdims)\n",
      "/opt/conda/lib/python3.9/site-packages/numpy/lib/nanfunctions.py:1117: RuntimeWarning: Mean of empty slice\n",
      "  return np.nanmean(a, axis, out=out, keepdims=keepdims)\n",
      "/opt/conda/lib/python3.9/site-packages/numpy/lib/nanfunctions.py:1117: RuntimeWarning: Mean of empty slice\n",
      "  return np.nanmean(a, axis, out=out, keepdims=keepdims)\n",
      "/opt/conda/lib/python3.9/site-packages/numpy/lib/nanfunctions.py:1117: RuntimeWarning: Mean of empty slice\n",
      "  return np.nanmean(a, axis, out=out, keepdims=keepdims)\n",
      "/opt/conda/lib/python3.9/site-packages/numpy/lib/nanfunctions.py:1117: RuntimeWarning: Mean of empty slice\n",
      "  return np.nanmean(a, axis, out=out, keepdims=keepdims)\n",
      "/opt/conda/lib/python3.9/site-packages/numpy/lib/nanfunctions.py:1117: RuntimeWarning: Mean of empty slice\n",
      "  return np.nanmean(a, axis, out=out, keepdims=keepdims)\n",
      "/opt/conda/lib/python3.9/site-packages/numpy/lib/nanfunctions.py:1117: RuntimeWarning: Mean of empty slice\n",
      "  return np.nanmean(a, axis, out=out, keepdims=keepdims)\n",
      "/opt/conda/lib/python3.9/site-packages/numpy/lib/nanfunctions.py:1117: RuntimeWarning: Mean of empty slice\n",
      "  return np.nanmean(a, axis, out=out, keepdims=keepdims)\n",
      "/opt/conda/lib/python3.9/site-packages/numpy/lib/nanfunctions.py:1117: RuntimeWarning: Mean of empty slice\n",
      "  return np.nanmean(a, axis, out=out, keepdims=keepdims)\n",
      "/opt/conda/lib/python3.9/site-packages/numpy/lib/nanfunctions.py:1117: RuntimeWarning: Mean of empty slice\n",
      "  return np.nanmean(a, axis, out=out, keepdims=keepdims)\n",
      "/opt/conda/lib/python3.9/site-packages/numpy/lib/nanfunctions.py:1117: RuntimeWarning: Mean of empty slice\n",
      "  return np.nanmean(a, axis, out=out, keepdims=keepdims)\n",
      "/opt/conda/lib/python3.9/site-packages/numpy/lib/nanfunctions.py:1117: RuntimeWarning: Mean of empty slice\n",
      "  return np.nanmean(a, axis, out=out, keepdims=keepdims)\n",
      "/opt/conda/lib/python3.9/site-packages/numpy/lib/nanfunctions.py:1117: RuntimeWarning: Mean of empty slice\n",
      "  return np.nanmean(a, axis, out=out, keepdims=keepdims)\n",
      "/opt/conda/lib/python3.9/site-packages/numpy/lib/nanfunctions.py:1117: RuntimeWarning: Mean of empty slice\n",
      "  return np.nanmean(a, axis, out=out, keepdims=keepdims)\n",
      "/opt/conda/lib/python3.9/site-packages/numpy/lib/nanfunctions.py:1117: RuntimeWarning: Mean of empty slice\n",
      "  return np.nanmean(a, axis, out=out, keepdims=keepdims)\n",
      "/opt/conda/lib/python3.9/site-packages/numpy/lib/nanfunctions.py:1117: RuntimeWarning: Mean of empty slice\n",
      "  return np.nanmean(a, axis, out=out, keepdims=keepdims)\n",
      "/opt/conda/lib/python3.9/site-packages/numpy/lib/nanfunctions.py:1117: RuntimeWarning: Mean of empty slice\n",
      "  return np.nanmean(a, axis, out=out, keepdims=keepdims)\n",
      "/opt/conda/lib/python3.9/site-packages/numpy/lib/nanfunctions.py:1117: RuntimeWarning: Mean of empty slice\n",
      "  return np.nanmean(a, axis, out=out, keepdims=keepdims)\n",
      "/opt/conda/lib/python3.9/site-packages/numpy/lib/nanfunctions.py:1117: RuntimeWarning: Mean of empty slice\n",
      "  return np.nanmean(a, axis, out=out, keepdims=keepdims)\n",
      "/opt/conda/lib/python3.9/site-packages/numpy/lib/nanfunctions.py:1117: RuntimeWarning: Mean of empty slice\n",
      "  return np.nanmean(a, axis, out=out, keepdims=keepdims)\n",
      "/opt/conda/lib/python3.9/site-packages/numpy/lib/nanfunctions.py:1117: RuntimeWarning: Mean of empty slice\n",
      "  return np.nanmean(a, axis, out=out, keepdims=keepdims)\n",
      "/opt/conda/lib/python3.9/site-packages/numpy/lib/nanfunctions.py:1117: RuntimeWarning: Mean of empty slice\n",
      "  return np.nanmean(a, axis, out=out, keepdims=keepdims)\n",
      "/opt/conda/lib/python3.9/site-packages/numpy/lib/nanfunctions.py:1117: RuntimeWarning: Mean of empty slice\n",
      "  return np.nanmean(a, axis, out=out, keepdims=keepdims)\n",
      "/opt/conda/lib/python3.9/site-packages/numpy/lib/nanfunctions.py:1117: RuntimeWarning: Mean of empty slice\n",
      "  return np.nanmean(a, axis, out=out, keepdims=keepdims)\n",
      "/opt/conda/lib/python3.9/site-packages/numpy/lib/nanfunctions.py:1117: RuntimeWarning: Mean of empty slice\n",
      "  return np.nanmean(a, axis, out=out, keepdims=keepdims)\n",
      "/opt/conda/lib/python3.9/site-packages/numpy/lib/nanfunctions.py:1117: RuntimeWarning: Mean of empty slice\n",
      "  return np.nanmean(a, axis, out=out, keepdims=keepdims)\n",
      "/opt/conda/lib/python3.9/site-packages/numpy/lib/nanfunctions.py:1117: RuntimeWarning: Mean of empty slice\n",
      "  return np.nanmean(a, axis, out=out, keepdims=keepdims)\n",
      "/opt/conda/lib/python3.9/site-packages/numpy/lib/nanfunctions.py:1117: RuntimeWarning: Mean of empty slice\n",
      "  return np.nanmean(a, axis, out=out, keepdims=keepdims)\n",
      "/opt/conda/lib/python3.9/site-packages/numpy/lib/nanfunctions.py:1117: RuntimeWarning: Mean of empty slice\n",
      "  return np.nanmean(a, axis, out=out, keepdims=keepdims)\n",
      "/opt/conda/lib/python3.9/site-packages/numpy/lib/nanfunctions.py:1117: RuntimeWarning: Mean of empty slice\n",
      "  return np.nanmean(a, axis, out=out, keepdims=keepdims)\n",
      "/opt/conda/lib/python3.9/site-packages/numpy/lib/nanfunctions.py:1117: RuntimeWarning: Mean of empty slice\n",
      "  return np.nanmean(a, axis, out=out, keepdims=keepdims)\n",
      "/opt/conda/lib/python3.9/site-packages/numpy/lib/nanfunctions.py:1117: RuntimeWarning: Mean of empty slice\n",
      "  return np.nanmean(a, axis, out=out, keepdims=keepdims)\n",
      "/opt/conda/lib/python3.9/site-packages/numpy/lib/nanfunctions.py:1117: RuntimeWarning: Mean of empty slice\n",
      "  return np.nanmean(a, axis, out=out, keepdims=keepdims)\n",
      "/opt/conda/lib/python3.9/site-packages/numpy/lib/nanfunctions.py:1117: RuntimeWarning: Mean of empty slice\n",
      "  return np.nanmean(a, axis, out=out, keepdims=keepdims)\n",
      "/opt/conda/lib/python3.9/site-packages/numpy/lib/nanfunctions.py:1117: RuntimeWarning: Mean of empty slice\n",
      "  return np.nanmean(a, axis, out=out, keepdims=keepdims)\n",
      "/opt/conda/lib/python3.9/site-packages/numpy/lib/nanfunctions.py:1117: RuntimeWarning: Mean of empty slice\n",
      "  return np.nanmean(a, axis, out=out, keepdims=keepdims)\n",
      "/opt/conda/lib/python3.9/site-packages/numpy/lib/nanfunctions.py:1117: RuntimeWarning: Mean of empty slice\n",
      "  return np.nanmean(a, axis, out=out, keepdims=keepdims)\n",
      "/opt/conda/lib/python3.9/site-packages/numpy/lib/nanfunctions.py:1117: RuntimeWarning: Mean of empty slice\n",
      "  return np.nanmean(a, axis, out=out, keepdims=keepdims)\n",
      "/opt/conda/lib/python3.9/site-packages/numpy/lib/nanfunctions.py:1117: RuntimeWarning: Mean of empty slice\n",
      "  return np.nanmean(a, axis, out=out, keepdims=keepdims)\n",
      "/opt/conda/lib/python3.9/site-packages/numpy/lib/nanfunctions.py:1117: RuntimeWarning: Mean of empty slice\n",
      "  return np.nanmean(a, axis, out=out, keepdims=keepdims)\n",
      "/opt/conda/lib/python3.9/site-packages/numpy/lib/nanfunctions.py:1117: RuntimeWarning: Mean of empty slice\n",
      "  return np.nanmean(a, axis, out=out, keepdims=keepdims)\n",
      "/opt/conda/lib/python3.9/site-packages/numpy/lib/nanfunctions.py:1117: RuntimeWarning: Mean of empty slice\n",
      "  return np.nanmean(a, axis, out=out, keepdims=keepdims)\n",
      "/opt/conda/lib/python3.9/site-packages/numpy/lib/nanfunctions.py:1117: RuntimeWarning: Mean of empty slice\n",
      "  return np.nanmean(a, axis, out=out, keepdims=keepdims)\n",
      "/opt/conda/lib/python3.9/site-packages/numpy/lib/nanfunctions.py:1117: RuntimeWarning: Mean of empty slice\n",
      "  return np.nanmean(a, axis, out=out, keepdims=keepdims)\n",
      "/opt/conda/lib/python3.9/site-packages/numpy/lib/nanfunctions.py:1117: RuntimeWarning: Mean of empty slice\n",
      "  return np.nanmean(a, axis, out=out, keepdims=keepdims)\n",
      "/opt/conda/lib/python3.9/site-packages/numpy/lib/nanfunctions.py:1117: RuntimeWarning: Mean of empty slice\n",
      "  return np.nanmean(a, axis, out=out, keepdims=keepdims)\n",
      "/opt/conda/lib/python3.9/site-packages/numpy/lib/nanfunctions.py:1117: RuntimeWarning: Mean of empty slice\n",
      "  return np.nanmean(a, axis, out=out, keepdims=keepdims)\n",
      "/opt/conda/lib/python3.9/site-packages/numpy/lib/nanfunctions.py:1117: RuntimeWarning: Mean of empty slice\n",
      "  return np.nanmean(a, axis, out=out, keepdims=keepdims)\n",
      "/opt/conda/lib/python3.9/site-packages/numpy/lib/nanfunctions.py:1117: RuntimeWarning: Mean of empty slice\n",
      "  return np.nanmean(a, axis, out=out, keepdims=keepdims)\n",
      "/opt/conda/lib/python3.9/site-packages/numpy/lib/nanfunctions.py:1117: RuntimeWarning: Mean of empty slice\n",
      "  return np.nanmean(a, axis, out=out, keepdims=keepdims)\n",
      "/opt/conda/lib/python3.9/site-packages/numpy/lib/nanfunctions.py:1117: RuntimeWarning: Mean of empty slice\n",
      "  return np.nanmean(a, axis, out=out, keepdims=keepdims)\n",
      "/opt/conda/lib/python3.9/site-packages/numpy/lib/nanfunctions.py:1117: RuntimeWarning: Mean of empty slice\n",
      "  return np.nanmean(a, axis, out=out, keepdims=keepdims)\n",
      "/opt/conda/lib/python3.9/site-packages/numpy/lib/nanfunctions.py:1117: RuntimeWarning: Mean of empty slice\n",
      "  return np.nanmean(a, axis, out=out, keepdims=keepdims)\n",
      "/opt/conda/lib/python3.9/site-packages/numpy/lib/nanfunctions.py:1117: RuntimeWarning: Mean of empty slice\n",
      "  return np.nanmean(a, axis, out=out, keepdims=keepdims)\n",
      "/opt/conda/lib/python3.9/site-packages/numpy/lib/nanfunctions.py:1117: RuntimeWarning: Mean of empty slice\n",
      "  return np.nanmean(a, axis, out=out, keepdims=keepdims)\n",
      "/opt/conda/lib/python3.9/site-packages/numpy/lib/nanfunctions.py:1117: RuntimeWarning: Mean of empty slice\n",
      "  return np.nanmean(a, axis, out=out, keepdims=keepdims)\n",
      "/opt/conda/lib/python3.9/site-packages/numpy/lib/nanfunctions.py:1117: RuntimeWarning: Mean of empty slice\n",
      "  return np.nanmean(a, axis, out=out, keepdims=keepdims)\n",
      "/opt/conda/lib/python3.9/site-packages/numpy/lib/nanfunctions.py:1117: RuntimeWarning: Mean of empty slice\n",
      "  return np.nanmean(a, axis, out=out, keepdims=keepdims)\n",
      "/opt/conda/lib/python3.9/site-packages/numpy/lib/nanfunctions.py:1117: RuntimeWarning: Mean of empty slice\n",
      "  return np.nanmean(a, axis, out=out, keepdims=keepdims)\n",
      "/opt/conda/lib/python3.9/site-packages/numpy/lib/nanfunctions.py:1117: RuntimeWarning: Mean of empty slice\n",
      "  return np.nanmean(a, axis, out=out, keepdims=keepdims)\n",
      "/opt/conda/lib/python3.9/site-packages/numpy/lib/nanfunctions.py:1117: RuntimeWarning: Mean of empty slice\n",
      "  return np.nanmean(a, axis, out=out, keepdims=keepdims)\n",
      "/opt/conda/lib/python3.9/site-packages/numpy/lib/nanfunctions.py:1117: RuntimeWarning: Mean of empty slice\n",
      "  return np.nanmean(a, axis, out=out, keepdims=keepdims)\n",
      "/opt/conda/lib/python3.9/site-packages/numpy/lib/nanfunctions.py:1117: RuntimeWarning: Mean of empty slice\n",
      "  return np.nanmean(a, axis, out=out, keepdims=keepdims)\n",
      "/opt/conda/lib/python3.9/site-packages/numpy/lib/nanfunctions.py:1117: RuntimeWarning: Mean of empty slice\n",
      "  return np.nanmean(a, axis, out=out, keepdims=keepdims)\n",
      "/opt/conda/lib/python3.9/site-packages/numpy/lib/nanfunctions.py:1117: RuntimeWarning: Mean of empty slice\n",
      "  return np.nanmean(a, axis, out=out, keepdims=keepdims)\n",
      "/opt/conda/lib/python3.9/site-packages/numpy/lib/nanfunctions.py:1117: RuntimeWarning: Mean of empty slice\n",
      "  return np.nanmean(a, axis, out=out, keepdims=keepdims)\n",
      "/opt/conda/lib/python3.9/site-packages/numpy/lib/nanfunctions.py:1117: RuntimeWarning: Mean of empty slice\n",
      "  return np.nanmean(a, axis, out=out, keepdims=keepdims)\n",
      "/opt/conda/lib/python3.9/site-packages/numpy/lib/nanfunctions.py:1117: RuntimeWarning: Mean of empty slice\n",
      "  return np.nanmean(a, axis, out=out, keepdims=keepdims)\n",
      "/opt/conda/lib/python3.9/site-packages/numpy/lib/nanfunctions.py:1117: RuntimeWarning: Mean of empty slice\n",
      "  return np.nanmean(a, axis, out=out, keepdims=keepdims)\n",
      "/opt/conda/lib/python3.9/site-packages/numpy/lib/nanfunctions.py:1117: RuntimeWarning: Mean of empty slice\n",
      "  return np.nanmean(a, axis, out=out, keepdims=keepdims)\n",
      "/opt/conda/lib/python3.9/site-packages/numpy/lib/nanfunctions.py:1117: RuntimeWarning: Mean of empty slice\n",
      "  return np.nanmean(a, axis, out=out, keepdims=keepdims)\n",
      "/opt/conda/lib/python3.9/site-packages/numpy/lib/nanfunctions.py:1117: RuntimeWarning: Mean of empty slice\n",
      "  return np.nanmean(a, axis, out=out, keepdims=keepdims)\n",
      "/opt/conda/lib/python3.9/site-packages/numpy/lib/nanfunctions.py:1117: RuntimeWarning: Mean of empty slice\n",
      "  return np.nanmean(a, axis, out=out, keepdims=keepdims)\n",
      "/opt/conda/lib/python3.9/site-packages/numpy/lib/nanfunctions.py:1117: RuntimeWarning: Mean of empty slice\n",
      "  return np.nanmean(a, axis, out=out, keepdims=keepdims)\n",
      "/opt/conda/lib/python3.9/site-packages/numpy/lib/nanfunctions.py:1117: RuntimeWarning: Mean of empty slice\n",
      "  return np.nanmean(a, axis, out=out, keepdims=keepdims)\n",
      "/opt/conda/lib/python3.9/site-packages/numpy/lib/nanfunctions.py:1117: RuntimeWarning: Mean of empty slice\n",
      "  return np.nanmean(a, axis, out=out, keepdims=keepdims)\n",
      "/opt/conda/lib/python3.9/site-packages/numpy/lib/nanfunctions.py:1117: RuntimeWarning: Mean of empty slice\n",
      "  return np.nanmean(a, axis, out=out, keepdims=keepdims)\n",
      "/opt/conda/lib/python3.9/site-packages/numpy/lib/nanfunctions.py:1117: RuntimeWarning: Mean of empty slice\n",
      "  return np.nanmean(a, axis, out=out, keepdims=keepdims)\n",
      "/opt/conda/lib/python3.9/site-packages/numpy/lib/nanfunctions.py:1117: RuntimeWarning: Mean of empty slice\n",
      "  return np.nanmean(a, axis, out=out, keepdims=keepdims)\n",
      "/opt/conda/lib/python3.9/site-packages/numpy/lib/nanfunctions.py:1117: RuntimeWarning: Mean of empty slice\n",
      "  return np.nanmean(a, axis, out=out, keepdims=keepdims)\n",
      "/opt/conda/lib/python3.9/site-packages/numpy/lib/nanfunctions.py:1117: RuntimeWarning: Mean of empty slice\n",
      "  return np.nanmean(a, axis, out=out, keepdims=keepdims)\n",
      "/opt/conda/lib/python3.9/site-packages/numpy/lib/nanfunctions.py:1117: RuntimeWarning: Mean of empty slice\n",
      "  return np.nanmean(a, axis, out=out, keepdims=keepdims)\n",
      "/opt/conda/lib/python3.9/site-packages/numpy/lib/nanfunctions.py:1117: RuntimeWarning: Mean of empty slice\n",
      "  return np.nanmean(a, axis, out=out, keepdims=keepdims)\n",
      "/opt/conda/lib/python3.9/site-packages/numpy/lib/nanfunctions.py:1117: RuntimeWarning: Mean of empty slice\n",
      "  return np.nanmean(a, axis, out=out, keepdims=keepdims)\n",
      "/opt/conda/lib/python3.9/site-packages/numpy/lib/nanfunctions.py:1117: RuntimeWarning: Mean of empty slice\n",
      "  return np.nanmean(a, axis, out=out, keepdims=keepdims)\n",
      "/opt/conda/lib/python3.9/site-packages/numpy/lib/nanfunctions.py:1117: RuntimeWarning: Mean of empty slice\n",
      "  return np.nanmean(a, axis, out=out, keepdims=keepdims)\n",
      "/opt/conda/lib/python3.9/site-packages/numpy/lib/nanfunctions.py:1117: RuntimeWarning: Mean of empty slice\n",
      "  return np.nanmean(a, axis, out=out, keepdims=keepdims)\n",
      "/opt/conda/lib/python3.9/site-packages/numpy/lib/nanfunctions.py:1117: RuntimeWarning: Mean of empty slice\n",
      "  return np.nanmean(a, axis, out=out, keepdims=keepdims)\n",
      "/opt/conda/lib/python3.9/site-packages/numpy/lib/nanfunctions.py:1117: RuntimeWarning: Mean of empty slice\n",
      "  return np.nanmean(a, axis, out=out, keepdims=keepdims)\n",
      "/opt/conda/lib/python3.9/site-packages/numpy/lib/nanfunctions.py:1117: RuntimeWarning: Mean of empty slice\n",
      "  return np.nanmean(a, axis, out=out, keepdims=keepdims)\n",
      "/opt/conda/lib/python3.9/site-packages/numpy/lib/nanfunctions.py:1117: RuntimeWarning: Mean of empty slice\n",
      "  return np.nanmean(a, axis, out=out, keepdims=keepdims)\n",
      "/opt/conda/lib/python3.9/site-packages/numpy/lib/nanfunctions.py:1117: RuntimeWarning: Mean of empty slice\n",
      "  return np.nanmean(a, axis, out=out, keepdims=keepdims)\n",
      "/opt/conda/lib/python3.9/site-packages/numpy/lib/nanfunctions.py:1117: RuntimeWarning: Mean of empty slice\n",
      "  return np.nanmean(a, axis, out=out, keepdims=keepdims)\n",
      "/opt/conda/lib/python3.9/site-packages/numpy/lib/nanfunctions.py:1117: RuntimeWarning: Mean of empty slice\n",
      "  return np.nanmean(a, axis, out=out, keepdims=keepdims)\n",
      "/opt/conda/lib/python3.9/site-packages/numpy/lib/nanfunctions.py:1117: RuntimeWarning: Mean of empty slice\n",
      "  return np.nanmean(a, axis, out=out, keepdims=keepdims)\n",
      "/opt/conda/lib/python3.9/site-packages/numpy/lib/nanfunctions.py:1117: RuntimeWarning: Mean of empty slice\n",
      "  return np.nanmean(a, axis, out=out, keepdims=keepdims)\n",
      "/opt/conda/lib/python3.9/site-packages/numpy/lib/nanfunctions.py:1117: RuntimeWarning: Mean of empty slice\n",
      "  return np.nanmean(a, axis, out=out, keepdims=keepdims)\n",
      "/opt/conda/lib/python3.9/site-packages/numpy/lib/nanfunctions.py:1117: RuntimeWarning: Mean of empty slice\n",
      "  return np.nanmean(a, axis, out=out, keepdims=keepdims)\n",
      "/opt/conda/lib/python3.9/site-packages/numpy/lib/nanfunctions.py:1117: RuntimeWarning: Mean of empty slice\n",
      "  return np.nanmean(a, axis, out=out, keepdims=keepdims)\n",
      "/opt/conda/lib/python3.9/site-packages/numpy/lib/nanfunctions.py:1117: RuntimeWarning: Mean of empty slice\n",
      "  return np.nanmean(a, axis, out=out, keepdims=keepdims)\n",
      "/opt/conda/lib/python3.9/site-packages/numpy/lib/nanfunctions.py:1117: RuntimeWarning: Mean of empty slice\n",
      "  return np.nanmean(a, axis, out=out, keepdims=keepdims)\n",
      "/opt/conda/lib/python3.9/site-packages/numpy/lib/nanfunctions.py:1117: RuntimeWarning: Mean of empty slice\n",
      "  return np.nanmean(a, axis, out=out, keepdims=keepdims)\n",
      "/opt/conda/lib/python3.9/site-packages/numpy/lib/nanfunctions.py:1117: RuntimeWarning: Mean of empty slice\n",
      "  return np.nanmean(a, axis, out=out, keepdims=keepdims)\n",
      "/opt/conda/lib/python3.9/site-packages/numpy/lib/nanfunctions.py:1117: RuntimeWarning: Mean of empty slice\n",
      "  return np.nanmean(a, axis, out=out, keepdims=keepdims)\n",
      "/opt/conda/lib/python3.9/site-packages/numpy/lib/nanfunctions.py:1117: RuntimeWarning: Mean of empty slice\n",
      "  return np.nanmean(a, axis, out=out, keepdims=keepdims)\n",
      "/opt/conda/lib/python3.9/site-packages/numpy/lib/nanfunctions.py:1117: RuntimeWarning: Mean of empty slice\n",
      "  return np.nanmean(a, axis, out=out, keepdims=keepdims)\n",
      "/opt/conda/lib/python3.9/site-packages/numpy/lib/nanfunctions.py:1117: RuntimeWarning: Mean of empty slice\n",
      "  return np.nanmean(a, axis, out=out, keepdims=keepdims)\n",
      "/opt/conda/lib/python3.9/site-packages/numpy/lib/nanfunctions.py:1117: RuntimeWarning: Mean of empty slice\n",
      "  return np.nanmean(a, axis, out=out, keepdims=keepdims)\n",
      "/opt/conda/lib/python3.9/site-packages/numpy/lib/nanfunctions.py:1117: RuntimeWarning: Mean of empty slice\n",
      "  return np.nanmean(a, axis, out=out, keepdims=keepdims)\n",
      "/opt/conda/lib/python3.9/site-packages/numpy/lib/nanfunctions.py:1117: RuntimeWarning: Mean of empty slice\n",
      "  return np.nanmean(a, axis, out=out, keepdims=keepdims)\n",
      "/opt/conda/lib/python3.9/site-packages/numpy/lib/nanfunctions.py:1117: RuntimeWarning: Mean of empty slice\n",
      "  return np.nanmean(a, axis, out=out, keepdims=keepdims)\n",
      "/opt/conda/lib/python3.9/site-packages/numpy/lib/nanfunctions.py:1117: RuntimeWarning: Mean of empty slice\n",
      "  return np.nanmean(a, axis, out=out, keepdims=keepdims)\n",
      "/opt/conda/lib/python3.9/site-packages/numpy/lib/nanfunctions.py:1117: RuntimeWarning: Mean of empty slice\n",
      "  return np.nanmean(a, axis, out=out, keepdims=keepdims)\n",
      "/opt/conda/lib/python3.9/site-packages/numpy/lib/nanfunctions.py:1117: RuntimeWarning: Mean of empty slice\n",
      "  return np.nanmean(a, axis, out=out, keepdims=keepdims)\n",
      "/opt/conda/lib/python3.9/site-packages/numpy/lib/nanfunctions.py:1117: RuntimeWarning: Mean of empty slice\n",
      "  return np.nanmean(a, axis, out=out, keepdims=keepdims)\n",
      "/opt/conda/lib/python3.9/site-packages/numpy/lib/nanfunctions.py:1117: RuntimeWarning: Mean of empty slice\n",
      "  return np.nanmean(a, axis, out=out, keepdims=keepdims)\n",
      "/opt/conda/lib/python3.9/site-packages/numpy/lib/nanfunctions.py:1117: RuntimeWarning: Mean of empty slice\n",
      "  return np.nanmean(a, axis, out=out, keepdims=keepdims)\n",
      "/opt/conda/lib/python3.9/site-packages/numpy/lib/nanfunctions.py:1117: RuntimeWarning: Mean of empty slice\n",
      "  return np.nanmean(a, axis, out=out, keepdims=keepdims)\n",
      "/opt/conda/lib/python3.9/site-packages/numpy/lib/nanfunctions.py:1117: RuntimeWarning: Mean of empty slice\n",
      "  return np.nanmean(a, axis, out=out, keepdims=keepdims)\n",
      "/opt/conda/lib/python3.9/site-packages/numpy/lib/nanfunctions.py:1117: RuntimeWarning: Mean of empty slice\n",
      "  return np.nanmean(a, axis, out=out, keepdims=keepdims)\n",
      "/opt/conda/lib/python3.9/site-packages/numpy/lib/nanfunctions.py:1117: RuntimeWarning: Mean of empty slice\n",
      "  return np.nanmean(a, axis, out=out, keepdims=keepdims)\n",
      "/opt/conda/lib/python3.9/site-packages/numpy/lib/nanfunctions.py:1117: RuntimeWarning: Mean of empty slice\n",
      "  return np.nanmean(a, axis, out=out, keepdims=keepdims)\n",
      "/opt/conda/lib/python3.9/site-packages/numpy/lib/nanfunctions.py:1117: RuntimeWarning: Mean of empty slice\n",
      "  return np.nanmean(a, axis, out=out, keepdims=keepdims)\n",
      "/opt/conda/lib/python3.9/site-packages/numpy/lib/nanfunctions.py:1117: RuntimeWarning: Mean of empty slice\n",
      "  return np.nanmean(a, axis, out=out, keepdims=keepdims)\n",
      "/opt/conda/lib/python3.9/site-packages/numpy/lib/nanfunctions.py:1117: RuntimeWarning: Mean of empty slice\n",
      "  return np.nanmean(a, axis, out=out, keepdims=keepdims)\n",
      "/opt/conda/lib/python3.9/site-packages/numpy/lib/nanfunctions.py:1117: RuntimeWarning: Mean of empty slice\n",
      "  return np.nanmean(a, axis, out=out, keepdims=keepdims)\n",
      "/opt/conda/lib/python3.9/site-packages/numpy/lib/nanfunctions.py:1117: RuntimeWarning: Mean of empty slice\n",
      "  return np.nanmean(a, axis, out=out, keepdims=keepdims)\n",
      "/opt/conda/lib/python3.9/site-packages/numpy/lib/nanfunctions.py:1117: RuntimeWarning: Mean of empty slice\n",
      "  return np.nanmean(a, axis, out=out, keepdims=keepdims)\n",
      "/opt/conda/lib/python3.9/site-packages/numpy/lib/nanfunctions.py:1117: RuntimeWarning: Mean of empty slice\n",
      "  return np.nanmean(a, axis, out=out, keepdims=keepdims)\n",
      "/opt/conda/lib/python3.9/site-packages/numpy/lib/nanfunctions.py:1117: RuntimeWarning: Mean of empty slice\n",
      "  return np.nanmean(a, axis, out=out, keepdims=keepdims)\n",
      "/opt/conda/lib/python3.9/site-packages/numpy/lib/nanfunctions.py:1117: RuntimeWarning: Mean of empty slice\n",
      "  return np.nanmean(a, axis, out=out, keepdims=keepdims)\n",
      "/opt/conda/lib/python3.9/site-packages/numpy/lib/nanfunctions.py:1117: RuntimeWarning: Mean of empty slice\n",
      "  return np.nanmean(a, axis, out=out, keepdims=keepdims)\n",
      "/opt/conda/lib/python3.9/site-packages/numpy/lib/nanfunctions.py:1117: RuntimeWarning: Mean of empty slice\n",
      "  return np.nanmean(a, axis, out=out, keepdims=keepdims)\n",
      "/opt/conda/lib/python3.9/site-packages/numpy/lib/nanfunctions.py:1117: RuntimeWarning: Mean of empty slice\n",
      "  return np.nanmean(a, axis, out=out, keepdims=keepdims)\n",
      "/opt/conda/lib/python3.9/site-packages/numpy/lib/nanfunctions.py:1117: RuntimeWarning: Mean of empty slice\n",
      "  return np.nanmean(a, axis, out=out, keepdims=keepdims)\n",
      "/opt/conda/lib/python3.9/site-packages/numpy/lib/nanfunctions.py:1117: RuntimeWarning: Mean of empty slice\n",
      "  return np.nanmean(a, axis, out=out, keepdims=keepdims)\n",
      "/opt/conda/lib/python3.9/site-packages/numpy/lib/nanfunctions.py:1117: RuntimeWarning: Mean of empty slice\n",
      "  return np.nanmean(a, axis, out=out, keepdims=keepdims)\n",
      "/opt/conda/lib/python3.9/site-packages/numpy/lib/nanfunctions.py:1117: RuntimeWarning: Mean of empty slice\n",
      "  return np.nanmean(a, axis, out=out, keepdims=keepdims)\n",
      "/opt/conda/lib/python3.9/site-packages/numpy/lib/nanfunctions.py:1117: RuntimeWarning: Mean of empty slice\n",
      "  return np.nanmean(a, axis, out=out, keepdims=keepdims)\n",
      "/opt/conda/lib/python3.9/site-packages/numpy/lib/nanfunctions.py:1117: RuntimeWarning: Mean of empty slice\n",
      "  return np.nanmean(a, axis, out=out, keepdims=keepdims)\n",
      "/opt/conda/lib/python3.9/site-packages/numpy/lib/nanfunctions.py:1117: RuntimeWarning: Mean of empty slice\n",
      "  return np.nanmean(a, axis, out=out, keepdims=keepdims)\n"
     ]
    }
   ],
   "source": [
    "indexes = games[games['year_of_release'].isna() == True].index\n",
    "\n",
    "years_of_releases = []\n",
    "for index in indexes:\n",
    "    name = games.loc[index,'name']\n",
    "    year_of_release = games.query('name == @name')['year_of_release'].median()\n",
    "    games.loc[index, 'year_of_release'] = year_of_release"
   ]
  },
  {
   "cell_type": "code",
   "execution_count": 9,
   "id": "30a65265",
   "metadata": {},
   "outputs": [
    {
     "data": {
      "text/plain": [
       "146"
      ]
     },
     "execution_count": 9,
     "metadata": {},
     "output_type": "execute_result"
    }
   ],
   "source": [
    "games['year_of_release'].isna().sum()"
   ]
  },
  {
   "cell_type": "markdown",
   "id": "13183bdc",
   "metadata": {},
   "source": [
    "Уменьшили количетсво пропусков до 146. Сейчас строки с пропусками составляют приблизительно 1.5% от общего количества записей. Большая часть записей была выпущена только на одной платформе. \n",
    "Заполним оставшиеся пропуски значением медианного года выпуска по платформе релиза. Так как популярность каждой платформы строго ограничена временными рамками в виду выхода новых поколений. "
   ]
  },
  {
   "cell_type": "code",
   "execution_count": 10,
   "id": "39f5dc9c",
   "metadata": {},
   "outputs": [],
   "source": [
    "indexes = games[games['year_of_release'].isna() == True].index\n",
    "\n",
    "games = games.drop(index = indexes)"
   ]
  },
  {
   "cell_type": "code",
   "execution_count": 11,
   "id": "6561fb97",
   "metadata": {},
   "outputs": [
    {
     "data": {
      "text/plain": [
       "0"
      ]
     },
     "execution_count": 11,
     "metadata": {},
     "output_type": "execute_result"
    }
   ],
   "source": [
    "games['year_of_release'].isna().sum()"
   ]
  },
  {
   "cell_type": "markdown",
   "id": "cea784ef",
   "metadata": {},
   "source": [
    "Иследуем данные в колнке `genre`"
   ]
  },
  {
   "cell_type": "code",
   "execution_count": 12,
   "id": "9b9b955c",
   "metadata": {},
   "outputs": [
    {
     "name": "stdout",
     "output_type": "stream",
     "text": [
      "<class 'pandas.core.frame.DataFrame'>\n",
      "Int64Index: 16567 entries, 0 to 16714\n",
      "Data columns (total 11 columns):\n",
      " #   Column           Non-Null Count  Dtype  \n",
      "---  ------           --------------  -----  \n",
      " 0   name             16567 non-null  object \n",
      " 1   platform         16567 non-null  object \n",
      " 2   year_of_release  16567 non-null  float64\n",
      " 3   genre            16567 non-null  object \n",
      " 4   na_sales         16567 non-null  float64\n",
      " 5   eu_sales         16567 non-null  float64\n",
      " 6   jp_sales         16567 non-null  float64\n",
      " 7   other_sales      16567 non-null  float64\n",
      " 8   critic_score     8075 non-null   float64\n",
      " 9   user_score       9934 non-null   object \n",
      " 10  rating           9868 non-null   object \n",
      "dtypes: float64(6), object(5)\n",
      "memory usage: 1.5+ MB\n"
     ]
    }
   ],
   "source": [
    "games.info()"
   ]
  },
  {
   "cell_type": "code",
   "execution_count": 13,
   "id": "2744dd1e",
   "metadata": {},
   "outputs": [
    {
     "data": {
      "text/plain": [
       "array(['Sports', 'Platform', 'Racing', 'Role-Playing', 'Puzzle', 'Misc',\n",
       "       'Shooter', 'Simulation', 'Action', 'Fighting', 'Adventure',\n",
       "       'Strategy'], dtype=object)"
      ]
     },
     "execution_count": 13,
     "metadata": {},
     "output_type": "execute_result"
    }
   ],
   "source": [
    "games['genre'].unique()"
   ]
  },
  {
   "cell_type": "markdown",
   "id": "04dcd3a2",
   "metadata": {},
   "source": [
    "Всего 12 жанров, нет дублей. Категориальная колонка выглядит корректно. "
   ]
  },
  {
   "cell_type": "markdown",
   "id": "f6d36a27",
   "metadata": {},
   "source": [
    "Исследуем данные колонок `na_sales`, `eu_sales`, `jp_sales` "
   ]
  },
  {
   "cell_type": "code",
   "execution_count": 14,
   "id": "7ed506fe",
   "metadata": {},
   "outputs": [
    {
     "data": {
      "text/plain": [
       "count    16567.000000\n",
       "mean         0.263975\n",
       "std          0.816474\n",
       "min          0.000000\n",
       "25%          0.000000\n",
       "50%          0.080000\n",
       "75%          0.240000\n",
       "max         41.360000\n",
       "Name: na_sales, dtype: float64"
      ]
     },
     "execution_count": 14,
     "metadata": {},
     "output_type": "execute_result"
    },
    {
     "data": {
      "image/png": "[encoded data removed]",
      "text/plain": [
       "<Figure size 432x288 with 1 Axes>"
      ]
     },
     "metadata": {
      "needs_background": "light"
     },
     "output_type": "display_data"
    }
   ],
   "source": [
    "games['na_sales'].hist(range = (0,3))\n",
    "games['na_sales'].describe()"
   ]
  },
  {
   "cell_type": "markdown",
   "id": "9fec6d76",
   "metadata": {},
   "source": [
    "В Северной Америке большая часть игр продана в количестве экземпляров менее 0.5 млн, при этом есть аномальные значения продаж более 5 млн копий. Максимальное значение 41,36 млн проданных копий. "
   ]
  },
  {
   "cell_type": "code",
   "execution_count": 15,
   "id": "fa891b30",
   "metadata": {},
   "outputs": [
    {
     "data": {
      "text/plain": [
       "count    16567.000000\n",
       "mean         0.145814\n",
       "std          0.505364\n",
       "min          0.000000\n",
       "25%          0.000000\n",
       "50%          0.020000\n",
       "75%          0.110000\n",
       "max         28.960000\n",
       "Name: eu_sales, dtype: float64"
      ]
     },
     "execution_count": 15,
     "metadata": {},
     "output_type": "execute_result"
    },
    {
     "data": {
      "image/png": "[encoded data removed]",
      "text/plain": [
       "<Figure size 432x288 with 1 Axes>"
      ]
     },
     "metadata": {
      "needs_background": "light"
     },
     "output_type": "display_data"
    }
   ],
   "source": [
    "games['eu_sales'].hist(range = (0,3))\n",
    "games['eu_sales'].describe()"
   ]
  },
  {
   "cell_type": "markdown",
   "id": "964d24a5",
   "metadata": {},
   "source": [
    "В Европе ситуация аналогичная Северной Америке. Большая часть значений лежит в пределах 0.5 млн проданных копий. Максимаольное значение 28,9 млн проданных копий.  "
   ]
  },
  {
   "cell_type": "code",
   "execution_count": 16,
   "id": "acf5c98c",
   "metadata": {},
   "outputs": [
    {
     "data": {
      "text/plain": [
       "count    16567.000000\n",
       "mean         0.078020\n",
       "std          0.310068\n",
       "min          0.000000\n",
       "25%          0.000000\n",
       "50%          0.000000\n",
       "75%          0.040000\n",
       "max         10.220000\n",
       "Name: jp_sales, dtype: float64"
      ]
     },
     "execution_count": 16,
     "metadata": {},
     "output_type": "execute_result"
    },
    {
     "data": {
      "image/png": "[encoded data removed]",
      "text/plain": [
       "<Figure size 432x288 with 1 Axes>"
      ]
     },
     "metadata": {
      "needs_background": "light"
     },
     "output_type": "display_data"
    }
   ],
   "source": [
    "games['jp_sales'].hist(range = (0,3))\n",
    "games['jp_sales'].describe()"
   ]
  },
  {
   "cell_type": "markdown",
   "id": "339bed57",
   "metadata": {},
   "source": [
    "В Японии также, как и в других регионах большая часть значений лежит в пределах 0.5 млн проданных копий. Отметим, что 50% выпущенных игр были проданы в количестве, меньшем, чем 0,01 млн проданных копий. Максимальное количество проданных копий составляет 10,22 млн."
   ]
  },
  {
   "cell_type": "code",
   "execution_count": 17,
   "id": "349f7c6c",
   "metadata": {},
   "outputs": [
    {
     "data": {
      "text/plain": [
       "count    16567.000000\n",
       "mean         0.047567\n",
       "std          0.187476\n",
       "min          0.000000\n",
       "25%          0.000000\n",
       "50%          0.010000\n",
       "75%          0.030000\n",
       "max         10.570000\n",
       "Name: other_sales, dtype: float64"
      ]
     },
     "execution_count": 17,
     "metadata": {},
     "output_type": "execute_result"
    },
    {
     "data": {
      "image/png": "[encoded data removed]",
      "text/plain": [
       "<Figure size 432x288 with 1 Axes>"
      ]
     },
     "metadata": {
      "needs_background": "light"
     },
     "output_type": "display_data"
    }
   ],
   "source": [
    "games['other_sales'].hist(range = (0,3))\n",
    "games['other_sales'].describe()"
   ]
  },
  {
   "cell_type": "markdown",
   "id": "57250f66",
   "metadata": {},
   "source": [
    "Картина продаж игр в остальном мире (за исключением Японии, Северной Америки и Европы) соответствует трендам, большая часть значений в пределах 0,5 млн копий. 50% значений проданы менее чем 0,01 млн раз. Максимальное количество проданных копий - 10,22 млн. "
   ]
  },
  {
   "cell_type": "code",
   "execution_count": 18,
   "id": "8cc730d0",
   "metadata": {},
   "outputs": [
    {
     "data": {
      "text/plain": [
       "Int64Index([16676, 16709], dtype='int64')"
      ]
     },
     "execution_count": 18,
     "metadata": {},
     "output_type": "execute_result"
    }
   ],
   "source": [
    "games.query('jp_sales == 0 & eu_sales == 0 & na_sales == 0 & other_sales == 0').index"
   ]
  },
  {
   "cell_type": "markdown",
   "id": "b939cc11",
   "metadata": {},
   "source": [
    "Видим две строки, которые купили в количестве копий < 100 000 экземпляров в каждом из возможных регионов, при этом колонки рейтингов также не заполнены. Удалим эти строки. "
   ]
  },
  {
   "cell_type": "code",
   "execution_count": 19,
   "id": "629c126b",
   "metadata": {},
   "outputs": [],
   "source": [
    "indexes = games.query('jp_sales == 0 & eu_sales == 0 & na_sales == 0 & other_sales == 0').index\n",
    "games = games.drop(index = indexes)"
   ]
  },
  {
   "cell_type": "markdown",
   "id": "dbcb28db",
   "metadata": {},
   "source": [
    "Исследуем колонки `critic_score`, `user_score`, `rating`"
   ]
  },
  {
   "cell_type": "code",
   "execution_count": 20,
   "id": "2570adb0",
   "metadata": {},
   "outputs": [
    {
     "name": "stdout",
     "output_type": "stream",
     "text": [
      "8490\n"
     ]
    },
    {
     "data": {
      "text/plain": [
       "count    8075.000000\n",
       "mean       68.991950\n",
       "std        13.923383\n",
       "min        13.000000\n",
       "25%        60.000000\n",
       "50%        71.000000\n",
       "75%        79.000000\n",
       "max        98.000000\n",
       "Name: critic_score, dtype: float64"
      ]
     },
     "execution_count": 20,
     "metadata": {},
     "output_type": "execute_result"
    },
    {
     "data": {
      "image/png": "[encoded data removed]",
      "text/plain": [
       "<Figure size 432x288 with 1 Axes>"
      ]
     },
     "metadata": {
      "needs_background": "light"
     },
     "output_type": "display_data"
    }
   ],
   "source": [
    "print(games['critic_score'].isna().sum())\n",
    "games['critic_score'].hist()\n",
    "games['critic_score'].describe()"
   ]
  },
  {
   "cell_type": "markdown",
   "id": "deb2fb2b",
   "metadata": {},
   "source": [
    "Данные на гистограмме скошены вправо. Также, видим, что более 8 000 записей в таблице не имеют оценки критика. Попробуем найти оценку критика по аналогичным играм на других платформах. "
   ]
  },
  {
   "cell_type": "markdown",
   "id": "148117af",
   "metadata": {},
   "source": [
    "Варианты заполнения оставшихся данных: \n",
    "1. Как количетсвенную колонку заполнить медианными значениями, не подверженными выбросам. \n",
    "2. Проверить, равны ли оценки критиков, оценкам клиентов и заполнить пропущенные значения клиентскими оценками. \n",
    "3. Оставить игры, не оцененные критиками без оценок, далее проверить корреляцию между оценкой и продажами и, если она есть, то выполнить действия по п.1 или п.2\n",
    "Исследуем колонку `user_score`"
   ]
  },
  {
   "cell_type": "code",
   "execution_count": 21,
   "id": "6a4d0b26",
   "metadata": {},
   "outputs": [
    {
     "data": {
      "text/plain": [
       "tbd    2394\n",
       "7.8     324\n",
       "8       288\n",
       "8.2     279\n",
       "8.3     253\n",
       "       ... \n",
       "0.2       2\n",
       "1.9       2\n",
       "9.6       2\n",
       "0         1\n",
       "9.7       1\n",
       "Name: user_score, Length: 96, dtype: int64"
      ]
     },
     "execution_count": 21,
     "metadata": {},
     "output_type": "execute_result"
    }
   ],
   "source": [
    "games['user_score'].value_counts()"
   ]
  },
  {
   "cell_type": "markdown",
   "id": "eb8fe558",
   "metadata": {},
   "source": [
    "Заменим значения tbd на 0 и изменим тип колонки."
   ]
  },
  {
   "cell_type": "code",
   "execution_count": 22,
   "id": "e0252ad6",
   "metadata": {},
   "outputs": [],
   "source": [
    "games.query('user_score == \"tbd\"')\n",
    "\n",
    "def score_changer(score):\n",
    "    if score == 'tbd':\n",
    "        return \n",
    "    return score\n",
    "\n",
    "games['user_score'] = games['user_score'].apply(score_changer)"
   ]
  },
  {
   "cell_type": "code",
   "execution_count": 23,
   "id": "44bc2386",
   "metadata": {},
   "outputs": [
    {
     "data": {
      "text/plain": [
       "7.8    324\n",
       "8.0    288\n",
       "8.2    279\n",
       "8.3    253\n",
       "8.5    252\n",
       "      ... \n",
       "2.3      2\n",
       "0.7      2\n",
       "1.1      2\n",
       "9.7      1\n",
       "0.0      1\n",
       "Name: user_score, Length: 95, dtype: int64"
      ]
     },
     "execution_count": 23,
     "metadata": {},
     "output_type": "execute_result"
    }
   ],
   "source": [
    "games['user_score'] = games['user_score'].astype('float')\n",
    "games['user_score'].value_counts()"
   ]
  },
  {
   "cell_type": "markdown",
   "id": "bf169562",
   "metadata": {},
   "source": [
    "Посмотрим, насколько совпадают оценки критиков и покупателей."
   ]
  },
  {
   "cell_type": "code",
   "execution_count": 24,
   "id": "d45b664c",
   "metadata": {},
   "outputs": [
    {
     "data": {
      "image/png": "[encoded data removed]",
      "text/plain": [
       "<Figure size 432x288 with 1 Axes>"
      ]
     },
     "metadata": {
      "needs_background": "light"
     },
     "output_type": "display_data"
    }
   ],
   "source": [
    "games['user_score'].hist()\n",
    "(games['critic_score']/10).hist(alpha = 0.7)\n",
    "plt.pyplot.show()"
   ]
  },
  {
   "cell_type": "markdown",
   "id": "36b12ade",
   "metadata": {},
   "source": [
    "Оценки критиков ниже оценок пользователей. \n",
    "Оставим пока что пропуски без заполнения и проверим ниже, есть ли корреляция между количеством проданных копий и рейтингом игры. Если корреляция будет отсутствовать, то оставим строки незаполненными и учтем это при проверке гипотез. "
   ]
  },
  {
   "cell_type": "code",
   "execution_count": 25,
   "id": "e24804bf",
   "metadata": {},
   "outputs": [
    {
     "data": {
      "text/plain": [
       "2447"
      ]
     },
     "execution_count": 25,
     "metadata": {},
     "output_type": "execute_result"
    }
   ],
   "source": [
    "(games['user_score'].round(0) == (games['critic_score']/10).round(0)).sum()"
   ]
  },
  {
   "cell_type": "markdown",
   "id": "0e782ad7",
   "metadata": {},
   "source": [
    "Исследуем колонку rating"
   ]
  },
  {
   "cell_type": "code",
   "execution_count": 26,
   "id": "f8f9bb0e",
   "metadata": {},
   "outputs": [
    {
     "data": {
      "text/plain": [
       "E       3958\n",
       "T       2930\n",
       "M       1554\n",
       "E10+    1412\n",
       "EC         8\n",
       "K-A        3\n",
       "RP         2\n",
       "AO         1\n",
       "Name: rating, dtype: int64"
      ]
     },
     "execution_count": 26,
     "metadata": {},
     "output_type": "execute_result"
    }
   ],
   "source": [
    "games['rating'].value_counts()"
   ]
  },
  {
   "cell_type": "code",
   "execution_count": 27,
   "id": "acbd2c68",
   "metadata": {},
   "outputs": [
    {
     "data": {
      "text/plain": [
       "6697"
      ]
     },
     "execution_count": 27,
     "metadata": {},
     "output_type": "execute_result"
    }
   ],
   "source": [
    "games['rating'].isna().sum()"
   ]
  },
  {
   "cell_type": "code",
   "execution_count": 28,
   "id": "f7bd2abb",
   "metadata": {},
   "outputs": [
    {
     "data": {
      "text/plain": [
       "0"
      ]
     },
     "execution_count": 28,
     "metadata": {},
     "output_type": "execute_result"
    }
   ],
   "source": [
    "games['rating'] = games['rating'].fillna('underfined')\n",
    "games['rating'].isna().sum()"
   ]
  },
  {
   "cell_type": "markdown",
   "id": "785aba84",
   "metadata": {},
   "source": [
    "Приведем колонку `year_of_release` к типу `int`"
   ]
  },
  {
   "cell_type": "code",
   "execution_count": 29,
   "id": "6fb96e75",
   "metadata": {},
   "outputs": [],
   "source": [
    "games['year_of_release'] = games['year_of_release'].astype('int') "
   ]
  },
  {
   "cell_type": "code",
   "execution_count": 30,
   "id": "c53f97bb",
   "metadata": {},
   "outputs": [
    {
     "name": "stdout",
     "output_type": "stream",
     "text": [
      "<class 'pandas.core.frame.DataFrame'>\n",
      "Int64Index: 16565 entries, 0 to 16714\n",
      "Data columns (total 11 columns):\n",
      " #   Column           Non-Null Count  Dtype  \n",
      "---  ------           --------------  -----  \n",
      " 0   name             16565 non-null  object \n",
      " 1   platform         16565 non-null  object \n",
      " 2   year_of_release  16565 non-null  int64  \n",
      " 3   genre            16565 non-null  object \n",
      " 4   na_sales         16565 non-null  float64\n",
      " 5   eu_sales         16565 non-null  float64\n",
      " 6   jp_sales         16565 non-null  float64\n",
      " 7   other_sales      16565 non-null  float64\n",
      " 8   critic_score     8075 non-null   float64\n",
      " 9   user_score       7540 non-null   float64\n",
      " 10  rating           16565 non-null  object \n",
      "dtypes: float64(6), int64(1), object(4)\n",
      "memory usage: 1.5+ MB\n"
     ]
    }
   ],
   "source": [
    "games.info()"
   ]
  },
  {
   "cell_type": "markdown",
   "id": "d48e8c1b",
   "metadata": {},
   "source": [
    "# Анализ данных"
   ]
  },
  {
   "cell_type": "markdown",
   "id": "aa1faff0",
   "metadata": {},
   "source": [
    "Создадим отдельную колонку с сумарными продажами игр по всем регионам"
   ]
  },
  {
   "cell_type": "code",
   "execution_count": 31,
   "id": "1917e35d",
   "metadata": {},
   "outputs": [
    {
     "data": {
      "text/plain": [
       "0        82.54\n",
       "1        40.24\n",
       "2        35.52\n",
       "3        32.77\n",
       "4        31.38\n",
       "         ...  \n",
       "16710     0.01\n",
       "16711     0.01\n",
       "16712     0.01\n",
       "16713     0.01\n",
       "16714     0.01\n",
       "Name: sales_total, Length: 16565, dtype: float64"
      ]
     },
     "execution_count": 31,
     "metadata": {},
     "output_type": "execute_result"
    }
   ],
   "source": [
    "games['sales_total'] = games['na_sales'] + games['eu_sales'] + games['jp_sales'] + games['other_sales']\n",
    "games['sales_total']"
   ]
  },
  {
   "cell_type": "code",
   "execution_count": 32,
   "id": "8e9d003d",
   "metadata": {},
   "outputs": [
    {
     "data": {
      "text/plain": [
       "<AxesSubplot:title={'center':'Количетсво проданных копий игр по годам'}, xlabel='year_of_release'>"
      ]
     },
     "execution_count": 32,
     "metadata": {},
     "output_type": "execute_result"
    },
    {
     "data": {
      "image/png": "[encoded data removed]",
      "text/plain": [
       "<Figure size 1080x720 with 1 Axes>"
      ]
     },
     "metadata": {
      "needs_background": "light"
     },
     "output_type": "display_data"
    }
   ],
   "source": [
    "(games\n",
    "     .pivot_table(index = 'year_of_release',values = 'name', aggfunc = 'count')\n",
    "     .plot(figsize = (15,10), grid = True, title ='Количетсво проданных копий игр по годам')\n",
    ")"
   ]
  },
  {
   "cell_type": "markdown",
   "id": "e146a0b9",
   "metadata": {},
   "source": [
    "Количество выпущенных игр росло с 80-х годов достигнув пика в 2008 году, далее заметен тренд на падение. \n",
    "До 1994 года выпускалось менее ста игр в год и, как следствие, в это время могли быть другие метрики, влияющие на популярность игры, поэтому для дальнейшего исследования будем использовать данные, начиная с 1994 года. "
   ]
  },
  {
   "cell_type": "code",
   "execution_count": 33,
   "id": "f79059bc",
   "metadata": {},
   "outputs": [],
   "source": [
    "games = games.query('year_of_release>=1994')"
   ]
  },
  {
   "cell_type": "markdown",
   "id": "e26b6371",
   "metadata": {},
   "source": [
    "Исследуем данные продаж по платформам. Также исследуем срок жизни платформы и наиболее популярные платформы на момент выгрузки датафрейма."
   ]
  },
  {
   "cell_type": "code",
   "execution_count": 34,
   "id": "7ae2c0f5",
   "metadata": {},
   "outputs": [
    {
     "data": {
      "text/plain": [
       "<AxesSubplot:title={'center':'Общее количество продаж по платформам'}, xlabel='platform'>"
      ]
     },
     "execution_count": 34,
     "metadata": {},
     "output_type": "execute_result"
    },
    {
     "data": {
      "image/png": "[encoded data removed]",
      "text/plain": [
       "<Figure size 1080x720 with 1 Axes>"
      ]
     },
     "metadata": {
      "needs_background": "light"
     },
     "output_type": "display_data"
    }
   ],
   "source": [
    "(games\n",
    " .pivot_table(index = 'platform', values='sales_total', aggfunc='sum')\n",
    " .sort_values(by = 'sales_total')\n",
    " .plot(kind = 'bar', figsize = (15,10), grid = True, title = 'Общее количество продаж по платформам')\n",
    ")"
   ]
  },
  {
   "cell_type": "code",
   "execution_count": 35,
   "id": "27efa731",
   "metadata": {},
   "outputs": [
    {
     "data": {
      "text/plain": [
       "count    30.000000\n",
       "mean      6.200000\n",
       "std       5.294109\n",
       "min       0.000000\n",
       "25%       2.000000\n",
       "50%       5.500000\n",
       "75%       9.750000\n",
       "max      22.000000\n",
       "Name: total, dtype: float64"
      ]
     },
     "execution_count": 35,
     "metadata": {},
     "output_type": "execute_result"
    },
    {
     "data": {
      "image/png": "[encoded data removed]",
      "text/plain": [
       "<Figure size 432x288 with 1 Axes>"
      ]
     },
     "metadata": {
      "needs_background": "light"
     },
     "output_type": "display_data"
    }
   ],
   "source": [
    "yers_of_life = (games\n",
    " .pivot_table(index = 'platform', values = 'year_of_release', aggfunc = ['min', 'max'])\n",
    " .reset_index()\n",
    " .rename(columns = {'name':'num'})\n",
    ")\n",
    "yers_of_life['total'] = yers_of_life['max'] - yers_of_life['min']  \n",
    "yers_of_life['total'].hist()\n",
    "yers_of_life['total'].describe()"
   ]
  },
  {
   "cell_type": "markdown",
   "id": "139a53d7",
   "metadata": {},
   "source": [
    "Исследуем продажи по топ платформам в разрезе годов."
   ]
  },
  {
   "cell_type": "code",
   "execution_count": 36,
   "id": "746b6af1",
   "metadata": {},
   "outputs": [
    {
     "data": {
      "text/plain": [
       "Text(0.5, 1.0, 'Срок жизни платформ')"
      ]
     },
     "execution_count": 36,
     "metadata": {},
     "output_type": "execute_result"
    },
    {
     "data": {
      "image/png": "[encoded data removed]",
      "text/plain": [
       "<Figure size 1080x576 with 1 Axes>"
      ]
     },
     "metadata": {
      "needs_background": "light"
     },
     "output_type": "display_data"
    }
   ],
   "source": [
    "top_platforms = (games\n",
    " .pivot_table(index = 'platform', values='sales_total', aggfunc='sum')\n",
    " .reset_index()\n",
    " .sort_values(by = 'sales_total')\n",
    " .tail(7)\n",
    ")\n",
    "\n",
    "platform_by_years = (games.query('platform in @top_platforms.platform')\n",
    " .pivot_table(index = ['platform', 'year_of_release'], values='sales_total', aggfunc='sum')\n",
    " .sort_values(by = 'sales_total')\n",
    " .reset_index()\n",
    "                  \n",
    ")\n",
    "plt.pyplot.figure(figsize=(15,8))\n",
    "\n",
    "sns.lineplot(x=\"year_of_release\", y=\"sales_total\",\n",
    "             hue=\"platform\",\n",
    "             data=platform_by_years)\n",
    "plt.pyplot.grid()\n",
    "plt.pyplot.title('Срок жизни платформ')"
   ]
  },
  {
   "cell_type": "markdown",
   "id": "8302604d",
   "metadata": {},
   "source": [
    "Из графика видно, что жизненный цикл топ-платформ составляет 5 лет и в течение следующих 3-5 лет продажи по платформе приходят к 0. Также, заметен негативный тренд по количеству проданных копий игр по всем платформам. Для дальнейшего анализа и построения прогнозов на 2017 год возьмем данные, начиная с 2013 года. "
   ]
  },
  {
   "cell_type": "code",
   "execution_count": 37,
   "id": "6d57b828",
   "metadata": {},
   "outputs": [],
   "source": [
    "games_actual = games.query('year_of_release>=2013')"
   ]
  },
  {
   "cell_type": "markdown",
   "id": "97326066",
   "metadata": {},
   "source": [
    "Определим, какие платформы лидируют по продажам."
   ]
  },
  {
   "cell_type": "code",
   "execution_count": 38,
   "id": "e4397103",
   "metadata": {},
   "outputs": [
    {
     "data": {
      "text/html": [
       "<div>\n",
       "<style scoped>\n",
       "    .dataframe tbody tr th:only-of-type {\n",
       "        vertical-align: middle;\n",
       "    }\n",
       "\n",
       "    .dataframe tbody tr th {\n",
       "        vertical-align: top;\n",
       "    }\n",
       "\n",
       "    .dataframe thead th {\n",
       "        text-align: right;\n",
       "    }\n",
       "</style>\n",
       "<table border=\"1\" class=\"dataframe\">\n",
       "  <thead>\n",
       "    <tr style=\"text-align: right;\">\n",
       "      <th></th>\n",
       "      <th>sales_total</th>\n",
       "    </tr>\n",
       "    <tr>\n",
       "      <th>platform</th>\n",
       "      <th></th>\n",
       "    </tr>\n",
       "  </thead>\n",
       "  <tbody>\n",
       "    <tr>\n",
       "      <th>PS4</th>\n",
       "      <td>314.14</td>\n",
       "    </tr>\n",
       "    <tr>\n",
       "      <th>PS3</th>\n",
       "      <td>181.43</td>\n",
       "    </tr>\n",
       "    <tr>\n",
       "      <th>XOne</th>\n",
       "      <td>159.32</td>\n",
       "    </tr>\n",
       "    <tr>\n",
       "      <th>3DS</th>\n",
       "      <td>143.25</td>\n",
       "    </tr>\n",
       "    <tr>\n",
       "      <th>X360</th>\n",
       "      <td>136.80</td>\n",
       "    </tr>\n",
       "    <tr>\n",
       "      <th>WiiU</th>\n",
       "      <td>64.63</td>\n",
       "    </tr>\n",
       "    <tr>\n",
       "      <th>PC</th>\n",
       "      <td>40.06</td>\n",
       "    </tr>\n",
       "    <tr>\n",
       "      <th>PSV</th>\n",
       "      <td>32.99</td>\n",
       "    </tr>\n",
       "    <tr>\n",
       "      <th>Wii</th>\n",
       "      <td>13.66</td>\n",
       "    </tr>\n",
       "    <tr>\n",
       "      <th>PSP</th>\n",
       "      <td>3.74</td>\n",
       "    </tr>\n",
       "    <tr>\n",
       "      <th>DS</th>\n",
       "      <td>1.54</td>\n",
       "    </tr>\n",
       "  </tbody>\n",
       "</table>\n",
       "</div>"
      ],
      "text/plain": [
       "          sales_total\n",
       "platform             \n",
       "PS4            314.14\n",
       "PS3            181.43\n",
       "XOne           159.32\n",
       "3DS            143.25\n",
       "X360           136.80\n",
       "WiiU            64.63\n",
       "PC              40.06\n",
       "PSV             32.99\n",
       "Wii             13.66\n",
       "PSP              3.74\n",
       "DS               1.54"
      ]
     },
     "execution_count": 38,
     "metadata": {},
     "output_type": "execute_result"
    }
   ],
   "source": [
    "(games_actual\n",
    " .pivot_table(index = 'platform', values = 'sales_total', aggfunc = 'sum')\n",
    " .sort_values('sales_total', ascending = False)\n",
    ")"
   ]
  },
  {
   "cell_type": "markdown",
   "id": "6c646bf0",
   "metadata": {},
   "source": [
    "Посмотрим, как менялись продажи по годам. "
   ]
  },
  {
   "cell_type": "code",
   "execution_count": 39,
   "id": "14b1071d",
   "metadata": {},
   "outputs": [
    {
     "data": {
      "text/plain": [
       "Text(0.5, 1.0, 'Количество продаж по платформам с 2013г')"
      ]
     },
     "execution_count": 39,
     "metadata": {},
     "output_type": "execute_result"
    },
    {
     "data": {
      "image/png": "[encoded data removed]",
      "text/plain": [
       "<Figure size 1080x720 with 1 Axes>"
      ]
     },
     "metadata": {
      "needs_background": "light"
     },
     "output_type": "display_data"
    }
   ],
   "source": [
    "actual_trends = (games_actual\n",
    " .pivot_table(index = ['platform', 'year_of_release'], values='sales_total', aggfunc='sum')\n",
    " .sort_values(by = 'sales_total')\n",
    " .reset_index()\n",
    "                  \n",
    ")\n",
    "plt.pyplot.figure(figsize=(15,10))\n",
    "sns.lineplot(x=\"year_of_release\", y=\"sales_total\",\n",
    "             hue=\"platform\",\n",
    "             data=actual_trends\n",
    "            )\n",
    "plt.pyplot.grid()\n",
    "plt.pyplot.title('Количество продаж по платформам с 2013г')"
   ]
  },
  {
   "cell_type": "markdown",
   "id": "9a9ea197",
   "metadata": {},
   "source": [
    "Наиболее интересные платформы, исходя из графика\n",
    "1. PS4 - не смотря на падение, остается одним из глобальных лидеров.\n",
    "2. XOne - не смотря на падение, остается одним из глобальных лидеров.\n",
    "3. 3ds - не смотря на падение, остается одним из глобальных лидеров.\n",
    "4. PC - имеет стабильные продажи год к году. \n",
    "5. PSV - имеет стабильные продажи год к году.\n",
    "6. WiiU - после падения в 10-е, имеет стабильные продажи последние несколько лет. \n",
    "</p>Построим по ним график \"Ящик с усами\""
   ]
  },
  {
   "cell_type": "code",
   "execution_count": 40,
   "id": "e88d75b8",
   "metadata": {},
   "outputs": [
    {
     "data": {
      "text/plain": [
       "<AxesSubplot:title={'center':'Распределение продаж по платформам'}>"
      ]
     },
     "execution_count": 40,
     "metadata": {},
     "output_type": "execute_result"
    },
    {
     "data": {
      "image/png": "[encoded data removed]",
      "text/plain": [
       "<Figure size 576x576 with 1 Axes>"
      ]
     },
     "metadata": {
      "needs_background": "light"
     },
     "output_type": "display_data"
    }
   ],
   "source": [
    "games_actual = games_actual.query('platform == \"PS4\" or platform == \"XOne\" or platform == \"3DS\" or platform == \"PC\" or platform == \"PSV\" or platform == \"WiiU\"')\n",
    "(games_actual\n",
    " .pivot_table(index = 'platform', values = 'sales_total', aggfunc = 'sum')\n",
    " .sort_values('sales_total', ascending = False)\n",
    " .plot(kind = 'box', grid = True, figsize = (8,8), title = 'Распределение продаж по платформам')\n",
    ")"
   ]
  },
  {
   "cell_type": "code",
   "execution_count": 41,
   "id": "737da79b",
   "metadata": {
    "scrolled": false
   },
   "outputs": [
    {
     "data": {
      "image/png": "[encoded data removed]",
      "text/plain": [
       "<Figure size 576x576 with 1 Axes>"
      ]
     },
     "metadata": {
      "needs_background": "light"
     },
     "output_type": "display_data"
    },
    {
     "data": {
      "image/png": "[encoded data removed]",
      "text/plain": [
       "<Figure size 576x576 with 1 Axes>"
      ]
     },
     "metadata": {
      "needs_background": "light"
     },
     "output_type": "display_data"
    },
    {
     "data": {
      "image/png": "[encoded data removed]",
      "text/plain": [
       "<Figure size 576x576 with 1 Axes>"
      ]
     },
     "metadata": {
      "needs_background": "light"
     },
     "output_type": "display_data"
    },
    {
     "data": {
      "image/png": "[encoded data removed]",
      "text/plain": [
       "<Figure size 576x576 with 1 Axes>"
      ]
     },
     "metadata": {
      "needs_background": "light"
     },
     "output_type": "display_data"
    },
    {
     "data": {
      "image/png": "[encoded data removed]",
      "text/plain": [
       "<Figure size 576x576 with 1 Axes>"
      ]
     },
     "metadata": {
      "needs_background": "light"
     },
     "output_type": "display_data"
    },
    {
     "data": {
      "image/png": "[encoded data removed]",
      "text/plain": [
       "<Figure size 576x576 with 1 Axes>"
      ]
     },
     "metadata": {
      "needs_background": "light"
     },
     "output_type": "display_data"
    }
   ],
   "source": [
    "games_actual.query('platform == \"PS4\"')['sales_total'].plot(kind = 'box', grid = True, figsize = (8,8), title = 'Распределение продаж по PS4')\n",
    "plt.pyplot.show()\n",
    "games_actual.query('platform == \"XOne\"')['sales_total'].plot(kind = 'box', grid = True, figsize = (8,8), title = 'Распределение продаж по xbox one')\n",
    "plt.pyplot.show()\n",
    "games_actual.query('platform == \"3DS\"')['sales_total'].plot(kind = 'box', grid = True, figsize = (8,8), title = 'Распределение продаж по 3DS')\n",
    "plt.pyplot.show()\n",
    "games_actual.query('platform == \"PC\"')['sales_total'].plot(kind = 'box', grid = True, figsize = (8,8), title = 'Распределение продаж по PC')\n",
    "plt.pyplot.show()\n",
    "games_actual.query('platform == \"PSV\"')['sales_total'].plot(kind = 'box', grid = True, figsize = (8,8), title = 'Распределение продаж по PSV')\n",
    "plt.pyplot.show()\n",
    "games_actual.query('platform == \"WiiU\"')['sales_total'].plot(kind = 'box', grid = True, figsize = (8,8), title = 'Распределение продаж по WiiU')\n",
    "plt.pyplot.show()\n",
    "\n",
    "\n"
   ]
  },
  {
   "cell_type": "markdown",
   "id": "3be58e9f",
   "metadata": {},
   "source": [
    "По каждой популярной платформе третий квартиль располагается от 0,1 до 0,5 млн проданных копий. При этом по каждой платформе заметны выбросы, это игры, которые стали аномально популярными во всем мире. "
   ]
  },
  {
   "cell_type": "code",
   "execution_count": 42,
   "id": "8bab276a",
   "metadata": {},
   "outputs": [
    {
     "data": {
      "text/plain": [
       "PS4     392\n",
       "PSV     358\n",
       "3DS     303\n",
       "XOne    247\n",
       "PC      192\n",
       "WiiU    115\n",
       "Name: platform, dtype: int64"
      ]
     },
     "execution_count": 42,
     "metadata": {},
     "output_type": "execute_result"
    }
   ],
   "source": [
    "games_actual.platform.value_counts()"
   ]
  },
  {
   "cell_type": "markdown",
   "id": "87567619",
   "metadata": {},
   "source": [
    "Проверим на примере ps4 влияние отзывов на количество продаж. "
   ]
  },
  {
   "cell_type": "code",
   "execution_count": 43,
   "id": "f3fc41f2",
   "metadata": {},
   "outputs": [
    {
     "data": {
      "text/html": [
       "<div>\n",
       "<style scoped>\n",
       "    .dataframe tbody tr th:only-of-type {\n",
       "        vertical-align: middle;\n",
       "    }\n",
       "\n",
       "    .dataframe tbody tr th {\n",
       "        vertical-align: top;\n",
       "    }\n",
       "\n",
       "    .dataframe thead th {\n",
       "        text-align: right;\n",
       "    }\n",
       "</style>\n",
       "<table border=\"1\" class=\"dataframe\">\n",
       "  <thead>\n",
       "    <tr style=\"text-align: right;\">\n",
       "      <th></th>\n",
       "      <th>sales_total</th>\n",
       "      <th>critic_score</th>\n",
       "      <th>user_score</th>\n",
       "    </tr>\n",
       "  </thead>\n",
       "  <tbody>\n",
       "    <tr>\n",
       "      <th>sales_total</th>\n",
       "      <td>1.000000</td>\n",
       "      <td>0.405895</td>\n",
       "      <td>-0.033625</td>\n",
       "    </tr>\n",
       "    <tr>\n",
       "      <th>critic_score</th>\n",
       "      <td>0.405895</td>\n",
       "      <td>1.000000</td>\n",
       "      <td>0.557654</td>\n",
       "    </tr>\n",
       "    <tr>\n",
       "      <th>user_score</th>\n",
       "      <td>-0.033625</td>\n",
       "      <td>0.557654</td>\n",
       "      <td>1.000000</td>\n",
       "    </tr>\n",
       "  </tbody>\n",
       "</table>\n",
       "</div>"
      ],
      "text/plain": [
       "              sales_total  critic_score  user_score\n",
       "sales_total      1.000000      0.405895   -0.033625\n",
       "critic_score     0.405895      1.000000    0.557654\n",
       "user_score      -0.033625      0.557654    1.000000"
      ]
     },
     "execution_count": 43,
     "metadata": {},
     "output_type": "execute_result"
    },
    {
     "data": {
      "image/png": "[encoded data removed]",
      "text/plain": [
       "<Figure size 720x720 with 2 Axes>"
      ]
     },
     "metadata": {
      "needs_background": "light"
     },
     "output_type": "display_data"
    }
   ],
   "source": [
    "ps4_games = games_actual.query('platform == \"PS4\" and user_score > 0 and critic_score > 0')\n",
    "ps4_games.plot.scatter(x = 'user_score', y = ('critic_score'), grid = True, figsize = (10,10), colormap='jet',c='sales_total', alpha = 2, title ='Диаграмма разброса продаж в зависимости от оценок критиков и пользователей')\n",
    "ps4_games[['sales_total', 'critic_score', 'user_score']].corr()\n",
    "\n",
    "\n"
   ]
  },
  {
   "cell_type": "code",
   "execution_count": 44,
   "id": "65b9b378",
   "metadata": {},
   "outputs": [
    {
     "data": {
      "text/html": [
       "<div>\n",
       "<style scoped>\n",
       "    .dataframe tbody tr th:only-of-type {\n",
       "        vertical-align: middle;\n",
       "    }\n",
       "\n",
       "    .dataframe tbody tr th {\n",
       "        vertical-align: top;\n",
       "    }\n",
       "\n",
       "    .dataframe thead th {\n",
       "        text-align: right;\n",
       "    }\n",
       "</style>\n",
       "<table border=\"1\" class=\"dataframe\">\n",
       "  <thead>\n",
       "    <tr style=\"text-align: right;\">\n",
       "      <th></th>\n",
       "      <th>sales_total</th>\n",
       "      <th>critic_score</th>\n",
       "      <th>user_score</th>\n",
       "    </tr>\n",
       "  </thead>\n",
       "  <tbody>\n",
       "    <tr>\n",
       "      <th>sales_total</th>\n",
       "      <td>1.000000</td>\n",
       "      <td>0.410422</td>\n",
       "      <td>-0.094003</td>\n",
       "    </tr>\n",
       "    <tr>\n",
       "      <th>critic_score</th>\n",
       "      <td>0.410422</td>\n",
       "      <td>1.000000</td>\n",
       "      <td>0.472462</td>\n",
       "    </tr>\n",
       "    <tr>\n",
       "      <th>user_score</th>\n",
       "      <td>-0.094003</td>\n",
       "      <td>0.472462</td>\n",
       "      <td>1.000000</td>\n",
       "    </tr>\n",
       "  </tbody>\n",
       "</table>\n",
       "</div>"
      ],
      "text/plain": [
       "              sales_total  critic_score  user_score\n",
       "sales_total      1.000000      0.410422   -0.094003\n",
       "critic_score     0.410422      1.000000    0.472462\n",
       "user_score      -0.094003      0.472462    1.000000"
      ]
     },
     "execution_count": 44,
     "metadata": {},
     "output_type": "execute_result"
    }
   ],
   "source": [
    "xone_games = games_actual.query('platform == \"XOne\" and user_score > 0 and critic_score > 0')\n",
    "xone_games[['sales_total', 'critic_score', 'user_score']].corr()"
   ]
  },
  {
   "cell_type": "code",
   "execution_count": 45,
   "id": "f5991ddf",
   "metadata": {},
   "outputs": [
    {
     "data": {
      "text/html": [
       "<div>\n",
       "<style scoped>\n",
       "    .dataframe tbody tr th:only-of-type {\n",
       "        vertical-align: middle;\n",
       "    }\n",
       "\n",
       "    .dataframe tbody tr th {\n",
       "        vertical-align: top;\n",
       "    }\n",
       "\n",
       "    .dataframe thead th {\n",
       "        text-align: right;\n",
       "    }\n",
       "</style>\n",
       "<table border=\"1\" class=\"dataframe\">\n",
       "  <thead>\n",
       "    <tr style=\"text-align: right;\">\n",
       "      <th></th>\n",
       "      <th>sales_total</th>\n",
       "      <th>critic_score</th>\n",
       "      <th>user_score</th>\n",
       "    </tr>\n",
       "  </thead>\n",
       "  <tbody>\n",
       "    <tr>\n",
       "      <th>sales_total</th>\n",
       "      <td>1.000000</td>\n",
       "      <td>0.197790</td>\n",
       "      <td>-0.105228</td>\n",
       "    </tr>\n",
       "    <tr>\n",
       "      <th>critic_score</th>\n",
       "      <td>0.197790</td>\n",
       "      <td>1.000000</td>\n",
       "      <td>0.432737</td>\n",
       "    </tr>\n",
       "    <tr>\n",
       "      <th>user_score</th>\n",
       "      <td>-0.105228</td>\n",
       "      <td>0.432737</td>\n",
       "      <td>1.000000</td>\n",
       "    </tr>\n",
       "  </tbody>\n",
       "</table>\n",
       "</div>"
      ],
      "text/plain": [
       "              sales_total  critic_score  user_score\n",
       "sales_total      1.000000      0.197790   -0.105228\n",
       "critic_score     0.197790      1.000000    0.432737\n",
       "user_score      -0.105228      0.432737    1.000000"
      ]
     },
     "execution_count": 45,
     "metadata": {},
     "output_type": "execute_result"
    }
   ],
   "source": [
    "pc_games = games_actual.query('platform == \"PC\" and user_score > 0 and critic_score > 0')\n",
    "pc_games[['sales_total', 'critic_score', 'user_score']].corr()"
   ]
  },
  {
   "cell_type": "markdown",
   "id": "fef0e9bf",
   "metadata": {},
   "source": [
    "Заметна слабая корреляция между оценкой критика и количеством продаж. Оценка клиентов не коррелирует с итоговой ценой. "
   ]
  },
  {
   "cell_type": "code",
   "execution_count": 46,
   "id": "d9a3b9dd",
   "metadata": {},
   "outputs": [
    {
     "data": {
      "text/plain": [
       "<AxesSubplot:title={'center':'Прибыльность игр по жанрам'}, xlabel='genre'>"
      ]
     },
     "execution_count": 46,
     "metadata": {},
     "output_type": "execute_result"
    },
    {
     "data": {
      "image/png": "[encoded data removed]",
      "text/plain": [
       "<Figure size 576x576 with 1 Axes>"
      ]
     },
     "metadata": {
      "needs_background": "light"
     },
     "output_type": "display_data"
    }
   ],
   "source": [
    "(games_actual\n",
    " .pivot_table(index = 'genre', values = 'sales_total', aggfunc = 'median')\n",
    " .sort_values('sales_total', ascending = False)\n",
    " .plot(kind = 'bar', figsize = (8,8), grid = True, title = 'Прибыльность игр по жанрам')\n",
    ")"
   ]
  },
  {
   "cell_type": "markdown",
   "id": "fa5b647c",
   "metadata": {},
   "source": [
    "Шутеры - лидеры продаж, далее по прибыльности следуют спортивные и платформенные игры. Стратегии, пазлы и приключения - наоборот, практически не продаются. "
   ]
  },
  {
   "cell_type": "code",
   "execution_count": 47,
   "id": "082f16eb",
   "metadata": {},
   "outputs": [
    {
     "data": {
      "text/plain": [
       "<AxesSubplot:title={'center':'Прибыльность игр по рейтингам'}, xlabel='rating'>"
      ]
     },
     "execution_count": 47,
     "metadata": {},
     "output_type": "execute_result"
    },
    {
     "data": {
      "image/png": "[encoded data removed]",
      "text/plain": [
       "<Figure size 576x576 with 1 Axes>"
      ]
     },
     "metadata": {
      "needs_background": "light"
     },
     "output_type": "display_data"
    }
   ],
   "source": [
    "(games_actual\n",
    " .pivot_table(index = 'rating', values = 'sales_total', aggfunc = 'median')\n",
    " .sort_values('sales_total', ascending = False)\n",
    " .plot(kind = 'bar', figsize = (8,8), grid = True, title = 'Прибыльность игр по рейтингам')\n",
    ")"
   ]
  },
  {
   "cell_type": "markdown",
   "id": "3b2615aa",
   "metadata": {},
   "source": [
    "Наиболее прибыльные игры с возрастными ограничениями -  М и e10+"
   ]
  },
  {
   "cell_type": "markdown",
   "id": "d5a19612",
   "metadata": {},
   "source": [
    "## Исследование региональных особенностей клиентов."
   ]
  },
  {
   "cell_type": "code",
   "execution_count": 48,
   "id": "d91a49e3",
   "metadata": {},
   "outputs": [
    {
     "data": {
      "text/plain": [
       "count    1607.000000\n",
       "mean        0.177660\n",
       "std         0.475405\n",
       "min         0.000000\n",
       "25%         0.000000\n",
       "50%         0.020000\n",
       "75%         0.130000\n",
       "max         6.030000\n",
       "Name: na_sales, dtype: float64"
      ]
     },
     "execution_count": 48,
     "metadata": {},
     "output_type": "execute_result"
    }
   ],
   "source": [
    "games_actual['na_sales'].describe()"
   ]
  },
  {
   "cell_type": "code",
   "execution_count": 49,
   "id": "4d1b08c2",
   "metadata": {},
   "outputs": [
    {
     "data": {
      "text/plain": [
       "<AxesSubplot:title={'center':'Популярные платформы по странам мира'}, xlabel='platform'>"
      ]
     },
     "execution_count": 49,
     "metadata": {},
     "output_type": "execute_result"
    },
    {
     "data": {
      "image/png": "[encoded data removed]",
      "text/plain": [
       "<Figure size 720x720 with 1 Axes>"
      ]
     },
     "metadata": {
      "needs_background": "light"
     },
     "output_type": "display_data"
    }
   ],
   "source": [
    "(games_actual\n",
    " .pivot_table(index = 'platform', values = ['eu_sales', 'na_sales', 'jp_sales', 'other_sales'], aggfunc = 'sum')\n",
    " .sort_values('eu_sales', ascending = False)\n",
    " .plot(kind = 'bar', grid = True, figsize = (10,10), title = 'Популярные платформы по странам мира')\n",
    ")"
   ]
  },
  {
   "cell_type": "markdown",
   "id": "55466c51",
   "metadata": {},
   "source": [
    "В Европе и остальном мире наибольшей популярностью пользуются платформы от компании Sony - ps4. \n",
    "В Северной Америке на равне с ps4 самой популярной консолью является XOne.  \n",
    "В Японии самой популярной платформой является 3ds"
   ]
  },
  {
   "cell_type": "markdown",
   "id": "1f853c2e",
   "metadata": {},
   "source": [
    "Исследуем наиболее популярные жанры по странам мира."
   ]
  },
  {
   "cell_type": "code",
   "execution_count": 50,
   "id": "091c319d",
   "metadata": {},
   "outputs": [
    {
     "data": {
      "text/plain": [
       "<AxesSubplot:title={'center':'Популярные жанры по странам мира'}, xlabel='genre'>"
      ]
     },
     "execution_count": 50,
     "metadata": {},
     "output_type": "execute_result"
    },
    {
     "data": {
      "image/png": "[encoded data removed]",
      "text/plain": [
       "<Figure size 720x720 with 1 Axes>"
      ]
     },
     "metadata": {
      "needs_background": "light"
     },
     "output_type": "display_data"
    }
   ],
   "source": [
    "(games_actual\n",
    " .pivot_table(index = 'genre', values = ['eu_sales', 'na_sales', 'jp_sales', 'other_sales'], aggfunc = 'sum')\n",
    " .sort_values('eu_sales', ascending = False)\n",
    " .plot(kind = 'bar', grid = True, figsize = (10,10), title = 'Популярные жанры по странам мира')\n",
    ")"
   ]
  },
  {
   "cell_type": "markdown",
   "id": "7d6cb35d",
   "metadata": {},
   "source": [
    "В Японии - наиболее популярный жанр - role-playing. \n",
    "В остальном мире распределение похоже на общее, экшн - шутер - спортивные игры."
   ]
  },
  {
   "cell_type": "markdown",
   "id": "67f85016",
   "metadata": {},
   "source": [
    "Оценим влияние рейтинга на продажи по регионам."
   ]
  },
  {
   "cell_type": "code",
   "execution_count": 51,
   "id": "d1b5ddf1",
   "metadata": {},
   "outputs": [
    {
     "data": {
      "text/plain": [
       "<AxesSubplot:title={'center':'Популярные рейтинги по странам мира'}, xlabel='rating'>"
      ]
     },
     "execution_count": 51,
     "metadata": {},
     "output_type": "execute_result"
    },
    {
     "data": {
      "image/png": "[encoded data removed]",
      "text/plain": [
       "<Figure size 720x720 with 1 Axes>"
      ]
     },
     "metadata": {
      "needs_background": "light"
     },
     "output_type": "display_data"
    }
   ],
   "source": [
    "(games_actual\n",
    " .pivot_table(index = 'rating', values = ['eu_sales', 'na_sales', 'jp_sales', 'other_sales'], aggfunc = 'sum')\n",
    " .sort_values('eu_sales', ascending = False)\n",
    " .plot(kind = 'bar', grid = True, figsize = (10,10), title = 'Популярные рейтинги по странам мира')\n",
    ")"
   ]
  },
  {
   "cell_type": "markdown",
   "id": "e654f35c",
   "metadata": {},
   "source": [
    "<div class=\"alert alert-info\"> <b>Комментарий студента:</b> Добавил! </div>"
   ]
  },
  {
   "cell_type": "markdown",
   "id": "2a83a0b5",
   "metadata": {},
   "source": [
    "В Европе, Северной Америке и остальном мире самым популярным рейтингом является \"M\". \n",
    "В Японии самыем популярные игры без рейтинга"
   ]
  },
  {
   "cell_type": "markdown",
   "id": "cca6e2b3",
   "metadata": {},
   "source": [
    "<div class=\"alert alert-info\"> <b>Комментарий студента:</b> Обновил</div>"
   ]
  },
  {
   "cell_type": "markdown",
   "id": "fbb56eca",
   "metadata": {},
   "source": [
    "## Проверка гипотез"
   ]
  },
  {
   "cell_type": "markdown",
   "id": "88845183",
   "metadata": {},
   "source": [
    "Гипотеза 1.\n",
    "</p> Нулевая гипотеза - Средний пользовательский рейтинг платформ XBox One и PC - одинаковые. \n",
    "</p> Альтернативная гипотеза - Средний пользовательский рейтинг платформ XBox One и PC - отличаются."
   ]
  },
  {
   "cell_type": "code",
   "execution_count": 52,
   "id": "e7228225",
   "metadata": {},
   "outputs": [
    {
     "name": "stdout",
     "output_type": "stream",
     "text": [
      "0.15503167687396294\n",
      "не получилось отвергнуть нулевую гипотезу\n"
     ]
    }
   ],
   "source": [
    "xbox_ratings = games_actual.query('platform == \"XOne\" and user_score>0')['user_score']\n",
    "pc_ratings = games_actual.query('platform == \"PC\" and user_score>0')['user_score']\n",
    "\n",
    "alpha = 0.01\n",
    "\n",
    "results = st.ttest_ind(xbox_ratings, pc_ratings, equal_var = True)\n",
    "print (results.pvalue)\n",
    "if results.pvalue < alpha:\n",
    "    print ('отвергаем нулевую гипотезу')\n",
    "else:\n",
    "    print ('не получилось отвергнуть нулевую гипотезу')"
   ]
  },
  {
   "cell_type": "markdown",
   "id": "a65f55ed",
   "metadata": {},
   "source": [
    "Вывод: на основании представленных данных можно сделать обоснованное предположение, что пользователи одинаково оценивают игры, разработанные на платформах PC и Xbox One"
   ]
  },
  {
   "cell_type": "markdown",
   "id": "d5a0ecc1",
   "metadata": {},
   "source": [
    "Гипотеза 2.\n",
    "</p> Нулевая гипотеза - Средний пользовательский рейтинг жанров action и sports - одинаковые. \n",
    "</p> Альтернативная гипотеза - Средний пользовательский рейтинг жанров action и sports - отличаются."
   ]
  },
  {
   "cell_type": "code",
   "execution_count": 53,
   "id": "a9a07dde",
   "metadata": {},
   "outputs": [
    {
     "name": "stdout",
     "output_type": "stream",
     "text": [
      "1.2481210261397359e-11\n",
      "Отвергаем нулевую гипотезу\n"
     ]
    }
   ],
   "source": [
    "sports_games = games_actual.query('genre == \"Sports\" and user_score > 0')['user_score']\n",
    "action_games = games_actual.query('genre == \"Action\" and user_score > 0')['user_score']\n",
    "\n",
    "alpha = 0.01\n",
    "\n",
    "results = st.ttest_ind(sports_games, action_games, equal_var = False)\n",
    "print (results.pvalue)\n",
    "\n",
    "if results.pvalue<alpha:\n",
    "    print ('Отвергаем нулевую гипотезу')\n",
    "else:\n",
    "    print ('Не получилось отвергнуть нулевую гипотезу')"
   ]
  },
  {
   "cell_type": "code",
   "execution_count": 54,
   "id": "ac824e7d",
   "metadata": {},
   "outputs": [
    {
     "name": "stdout",
     "output_type": "stream",
     "text": [
      "Медианная оценка по спортивным играм: 5.8\n",
      "Медианная оценка по играм в жанре экшн: 7.1\n"
     ]
    }
   ],
   "source": [
    "print ('Медианная оценка по спортивным играм:', sports_games.median())\n",
    "print ('Медианная оценка по играм в жанре экшн:', action_games.median())"
   ]
  },
  {
   "cell_type": "markdown",
   "id": "33cf2754",
   "metadata": {},
   "source": [
    "На основании выборок генеральных совокупностей можем сделать предположение, что пользователи оценивают игры жанра action выше, чем жарна sports"
   ]
  },
  {
   "cell_type": "markdown",
   "id": "636b8928",
   "metadata": {},
   "source": [
    "## Выводы"
   ]
  },
  {
   "cell_type": "markdown",
   "id": "e1db1ca2",
   "metadata": {},
   "source": [
    "В рамках предобработки данных были выявлены пропуски в колонках `user_score`, `critic_score`, `rating`. По части пропусков была выполнена замена соответсвующим значением аналогичной игры на другую платформу. Другая часть пропусков колонки `rating` была заполнена самым частым значением для данного жанра. Часть пропусков в колонках `user_score` и `critic_score` были оставлены незаполненными, так как в рамках исследования было выявлено отсутствие кореляции между продаваемостью игры и наличием оценок. \n",
    "\n",
    "На основании данных можно сдлелать вывод, что игровая индустрия имеет негативный тренд по количеству проданных копий игр и по количеству релизнутых игр.\n",
    "Наиболее перспективными площадками на 2017 год являются: \n",
    "1. ps4 - лидер мирового рынка. \n",
    "2. xbox one - один из лидеров мирового рынка и Северной Америки. \n",
    "3. pc - за счет стабильных продаж по всему миру. \n",
    "4. 3ds - за счет популярности в Японии.\n",
    "</p>Также, делаем вывод, что пользовательские оценки не влияют на уровень продаваемости игр, оценки критиков влияют незначительно. \n",
    "</p>Более важным критерием является жанр и платформа потенциальнго продукта, которые в свою очередь зависият от региональных предпочтений. \n",
    "Если ориентировать продукт в Японию, то платформа - ps4/3ds, жанр role playing. \n",
    "Если ориентировать продукт в Остальной мир, то платформа ps4/xbox one/pc, жанр - Shooter, Platform или Sports. "
   ]
  }
 ],
 "metadata": {
  "ExecuteTimeLog": [
   {
    "duration": 1195,
    "start_time": "2022-06-21T15:44:56.282Z"
   },
   {
    "duration": 87,
    "start_time": "2022-06-21T15:44:57.483Z"
   },
   {
    "duration": 19,
    "start_time": "2022-06-21T15:44:57.574Z"
   },
   {
    "duration": 33,
    "start_time": "2022-06-21T15:44:57.597Z"
   },
   {
    "duration": 20,
    "start_time": "2022-06-21T15:44:57.632Z"
   },
   {
    "duration": 45,
    "start_time": "2022-06-21T15:44:57.655Z"
   },
   {
    "duration": 17,
    "start_time": "2022-06-21T15:44:57.702Z"
   },
   {
    "duration": 772,
    "start_time": "2022-06-21T15:44:57.721Z"
   },
   {
    "duration": 5,
    "start_time": "2022-06-21T15:44:58.495Z"
   },
   {
    "duration": 421,
    "start_time": "2022-06-21T15:44:58.502Z"
   },
   {
    "duration": 4,
    "start_time": "2022-06-21T15:44:58.925Z"
   },
   {
    "duration": 13,
    "start_time": "2022-06-21T15:44:58.931Z"
   },
   {
    "duration": 12,
    "start_time": "2022-06-21T15:44:58.959Z"
   },
   {
    "duration": 173,
    "start_time": "2022-06-21T15:44:58.975Z"
   },
   {
    "duration": 161,
    "start_time": "2022-06-21T15:44:59.149Z"
   },
   {
    "duration": 164,
    "start_time": "2022-06-21T15:44:59.312Z"
   },
   {
    "duration": 159,
    "start_time": "2022-06-21T15:44:59.478Z"
   },
   {
    "duration": 21,
    "start_time": "2022-06-21T15:44:59.640Z"
   },
   {
    "duration": 165,
    "start_time": "2022-06-21T15:44:59.669Z"
   },
   {
    "duration": 25235,
    "start_time": "2022-06-21T15:44:59.836Z"
   },
   {
    "duration": 21,
    "start_time": "2022-06-21T15:45:25.072Z"
   },
   {
    "duration": 11,
    "start_time": "2022-06-21T15:45:25.095Z"
   },
   {
    "duration": 9,
    "start_time": "2022-06-21T15:45:25.108Z"
   },
   {
    "duration": 135,
    "start_time": "2022-06-21T15:45:25.119Z"
   },
   {
    "duration": 19,
    "start_time": "2022-06-21T15:45:25.261Z"
   },
   {
    "duration": 23,
    "start_time": "2022-06-21T15:45:25.281Z"
   },
   {
    "duration": 9,
    "start_time": "2022-06-21T15:45:25.306Z"
   },
   {
    "duration": 20,
    "start_time": "2022-06-21T15:45:25.318Z"
   },
   {
    "duration": 6,
    "start_time": "2022-06-21T15:45:25.340Z"
   },
   {
    "duration": 14,
    "start_time": "2022-06-21T15:45:25.348Z"
   },
   {
    "duration": 16879,
    "start_time": "2022-06-21T15:45:25.366Z"
   },
   {
    "duration": 18050,
    "start_time": "2022-06-21T15:45:42.246Z"
   },
   {
    "duration": 32,
    "start_time": "2022-06-21T15:46:00.298Z"
   },
   {
    "duration": 5,
    "start_time": "2022-06-21T15:46:00.332Z"
   },
   {
    "duration": 34,
    "start_time": "2022-06-21T15:46:00.360Z"
   },
   {
    "duration": 20,
    "start_time": "2022-06-21T15:46:00.396Z"
   },
   {
    "duration": 219,
    "start_time": "2022-06-21T15:46:00.418Z"
   },
   {
    "duration": 7,
    "start_time": "2022-06-21T15:46:00.638Z"
   },
   {
    "duration": 387,
    "start_time": "2022-06-21T15:46:00.647Z"
   },
   {
    "duration": 154,
    "start_time": "2022-06-21T15:46:01.035Z"
   },
   {
    "duration": 329,
    "start_time": "2022-06-21T15:46:01.191Z"
   },
   {
    "duration": 6,
    "start_time": "2022-06-21T15:46:01.521Z"
   },
   {
    "duration": 36,
    "start_time": "2022-06-21T15:46:01.528Z"
   },
   {
    "duration": 413,
    "start_time": "2022-06-21T15:46:01.568Z"
   },
   {
    "duration": 133,
    "start_time": "2022-06-21T15:46:01.983Z"
   },
   {
    "duration": 262,
    "start_time": "2022-06-21T15:46:02.118Z"
   },
   {
    "duration": 13,
    "start_time": "2022-06-21T15:46:02.381Z"
   },
   {
    "duration": 31,
    "start_time": "2022-06-21T15:46:02.396Z"
   },
   {
    "duration": 288,
    "start_time": "2022-06-21T15:46:02.429Z"
   },
   {
    "duration": 204,
    "start_time": "2022-06-21T15:46:02.719Z"
   },
   {
    "duration": 10,
    "start_time": "2022-06-21T15:46:02.925Z"
   },
   {
    "duration": 401,
    "start_time": "2022-06-21T15:46:02.937Z"
   },
   {
    "duration": 330,
    "start_time": "2022-06-21T15:46:03.340Z"
   },
   {
    "duration": 237,
    "start_time": "2022-06-21T15:46:03.674Z"
   },
   {
    "duration": 12,
    "start_time": "2022-06-21T15:46:03.913Z"
   },
   {
    "duration": 16,
    "start_time": "2022-06-21T15:46:03.927Z"
   },
   {
    "duration": 9,
    "start_time": "2022-06-21T15:49:46.130Z"
   },
   {
    "duration": 5,
    "start_time": "2022-06-21T15:51:12.801Z"
   },
   {
    "duration": 1385,
    "start_time": "2022-06-22T07:26:32.578Z"
   },
   {
    "duration": 111,
    "start_time": "2022-06-22T07:26:33.966Z"
   },
   {
    "duration": 16,
    "start_time": "2022-06-22T07:26:34.078Z"
   },
   {
    "duration": 21,
    "start_time": "2022-06-22T07:26:34.096Z"
   },
   {
    "duration": 28,
    "start_time": "2022-06-22T07:26:34.126Z"
   },
   {
    "duration": 19,
    "start_time": "2022-06-22T07:26:34.159Z"
   },
   {
    "duration": 29,
    "start_time": "2022-06-22T07:26:34.181Z"
   },
   {
    "duration": 1208,
    "start_time": "2022-06-22T07:26:34.213Z"
   },
   {
    "duration": 7,
    "start_time": "2022-06-22T07:26:35.423Z"
   },
   {
    "duration": 658,
    "start_time": "2022-06-22T07:26:35.433Z"
   },
   {
    "duration": 6,
    "start_time": "2022-06-22T07:26:36.094Z"
   },
   {
    "duration": 25,
    "start_time": "2022-06-22T07:26:36.102Z"
   },
   {
    "duration": 20,
    "start_time": "2022-06-22T07:26:36.129Z"
   },
   {
    "duration": 235,
    "start_time": "2022-06-22T07:26:36.153Z"
   },
   {
    "duration": 204,
    "start_time": "2022-06-22T07:26:36.391Z"
   },
   {
    "duration": 175,
    "start_time": "2022-06-22T07:26:36.598Z"
   },
   {
    "duration": 242,
    "start_time": "2022-06-22T07:26:36.775Z"
   },
   {
    "duration": 12,
    "start_time": "2022-06-22T07:26:37.019Z"
   },
   {
    "duration": 250,
    "start_time": "2022-06-22T07:26:37.034Z"
   },
   {
    "duration": 34485,
    "start_time": "2022-06-22T07:26:37.287Z"
   },
   {
    "duration": 13,
    "start_time": "2022-06-22T07:27:11.775Z"
   },
   {
    "duration": 23,
    "start_time": "2022-06-22T07:27:11.791Z"
   },
   {
    "duration": 17,
    "start_time": "2022-06-22T07:27:11.817Z"
   },
   {
    "duration": 159,
    "start_time": "2022-06-22T07:27:11.836Z"
   },
   {
    "duration": 8,
    "start_time": "2022-06-22T07:27:11.998Z"
   },
   {
    "duration": 18,
    "start_time": "2022-06-22T07:27:12.008Z"
   },
   {
    "duration": 10,
    "start_time": "2022-06-22T07:27:12.029Z"
   },
   {
    "duration": 29,
    "start_time": "2022-06-22T07:27:12.043Z"
   },
   {
    "duration": 17,
    "start_time": "2022-06-22T07:27:12.074Z"
   },
   {
    "duration": 16,
    "start_time": "2022-06-22T07:27:12.094Z"
   },
   {
    "duration": 18818,
    "start_time": "2022-06-22T07:27:12.113Z"
   },
   {
    "duration": 20751,
    "start_time": "2022-06-22T07:27:30.933Z"
   },
   {
    "duration": 44,
    "start_time": "2022-06-22T07:27:51.686Z"
   },
   {
    "duration": 20,
    "start_time": "2022-06-22T07:27:51.732Z"
   },
   {
    "duration": 25,
    "start_time": "2022-06-22T07:27:51.754Z"
   },
   {
    "duration": 9,
    "start_time": "2022-06-22T07:27:51.781Z"
   },
   {
    "duration": 300,
    "start_time": "2022-06-22T07:27:51.792Z"
   },
   {
    "duration": 7,
    "start_time": "2022-06-22T07:27:52.095Z"
   },
   {
    "duration": 397,
    "start_time": "2022-06-22T07:27:52.104Z"
   },
   {
    "duration": 192,
    "start_time": "2022-06-22T07:27:52.503Z"
   },
   {
    "duration": 429,
    "start_time": "2022-06-22T07:27:52.699Z"
   },
   {
    "duration": 7,
    "start_time": "2022-06-22T07:27:53.130Z"
   },
   {
    "duration": 26,
    "start_time": "2022-06-22T07:27:53.139Z"
   },
   {
    "duration": 418,
    "start_time": "2022-06-22T07:27:53.168Z"
   },
   {
    "duration": 175,
    "start_time": "2022-06-22T07:27:53.588Z"
   },
   {
    "duration": 281,
    "start_time": "2022-06-22T07:27:53.765Z"
   },
   {
    "duration": 13,
    "start_time": "2022-06-22T07:27:54.051Z"
   },
   {
    "duration": 23,
    "start_time": "2022-06-22T07:27:54.067Z"
   },
   {
    "duration": 414,
    "start_time": "2022-06-22T07:27:54.092Z"
   },
   {
    "duration": 264,
    "start_time": "2022-06-22T07:27:54.508Z"
   },
   {
    "duration": 12,
    "start_time": "2022-06-22T07:27:54.774Z"
   },
   {
    "duration": 451,
    "start_time": "2022-06-22T07:27:54.788Z"
   },
   {
    "duration": 472,
    "start_time": "2022-06-22T07:27:55.242Z"
   },
   {
    "duration": 304,
    "start_time": "2022-06-22T07:27:55.716Z"
   },
   {
    "duration": 13,
    "start_time": "2022-06-22T07:27:56.022Z"
   },
   {
    "duration": 20,
    "start_time": "2022-06-22T07:27:56.052Z"
   },
   {
    "duration": 230,
    "start_time": "2022-06-22T07:41:05.403Z"
   },
   {
    "duration": 257,
    "start_time": "2022-06-22T07:41:10.482Z"
   },
   {
    "duration": 170,
    "start_time": "2022-06-22T07:41:14.299Z"
   },
   {
    "duration": 231,
    "start_time": "2022-06-22T07:41:18.843Z"
   },
   {
    "duration": 324,
    "start_time": "2022-06-22T07:41:23.210Z"
   },
   {
    "duration": 1344,
    "start_time": "2022-06-22T08:17:00.528Z"
   },
   {
    "duration": 108,
    "start_time": "2022-06-22T08:17:01.874Z"
   },
   {
    "duration": 13,
    "start_time": "2022-06-22T08:17:01.984Z"
   },
   {
    "duration": 26,
    "start_time": "2022-06-22T08:17:01.999Z"
   },
   {
    "duration": 21,
    "start_time": "2022-06-22T08:17:02.027Z"
   },
   {
    "duration": 6,
    "start_time": "2022-06-22T08:17:02.050Z"
   },
   {
    "duration": 12,
    "start_time": "2022-06-22T08:17:02.057Z"
   },
   {
    "duration": 780,
    "start_time": "2022-06-22T08:17:02.070Z"
   },
   {
    "duration": 4,
    "start_time": "2022-06-22T08:17:02.852Z"
   },
   {
    "duration": 17,
    "start_time": "2022-06-22T08:17:02.858Z"
   },
   {
    "duration": 6,
    "start_time": "2022-06-22T08:17:02.877Z"
   },
   {
    "duration": 17,
    "start_time": "2022-06-22T08:17:02.885Z"
   },
   {
    "duration": 4,
    "start_time": "2022-06-22T08:17:02.904Z"
   },
   {
    "duration": 154,
    "start_time": "2022-06-22T08:17:02.926Z"
   },
   {
    "duration": 151,
    "start_time": "2022-06-22T08:17:03.081Z"
   },
   {
    "duration": 156,
    "start_time": "2022-06-22T08:17:03.233Z"
   },
   {
    "duration": 162,
    "start_time": "2022-06-22T08:17:03.391Z"
   },
   {
    "duration": 9,
    "start_time": "2022-06-22T08:17:03.555Z"
   },
   {
    "duration": 162,
    "start_time": "2022-06-22T08:17:03.566Z"
   },
   {
    "duration": 24229,
    "start_time": "2022-06-22T08:17:03.729Z"
   },
   {
    "duration": 7,
    "start_time": "2022-06-22T08:17:27.960Z"
   },
   {
    "duration": 28,
    "start_time": "2022-06-22T08:17:27.968Z"
   },
   {
    "duration": 14,
    "start_time": "2022-06-22T08:17:27.997Z"
   },
   {
    "duration": 135,
    "start_time": "2022-06-22T08:17:28.013Z"
   },
   {
    "duration": 6,
    "start_time": "2022-06-22T08:17:28.150Z"
   },
   {
    "duration": 21,
    "start_time": "2022-06-22T08:17:28.157Z"
   },
   {
    "duration": 34,
    "start_time": "2022-06-22T08:17:28.179Z"
   },
   {
    "duration": 19,
    "start_time": "2022-06-22T08:17:28.217Z"
   },
   {
    "duration": 13,
    "start_time": "2022-06-22T08:17:28.237Z"
   },
   {
    "duration": 11,
    "start_time": "2022-06-22T08:17:28.251Z"
   },
   {
    "duration": 15837,
    "start_time": "2022-06-22T08:17:28.263Z"
   },
   {
    "duration": 17293,
    "start_time": "2022-06-22T08:17:44.101Z"
   },
   {
    "duration": 51,
    "start_time": "2022-06-22T08:18:01.395Z"
   },
   {
    "duration": 65,
    "start_time": "2022-06-22T08:18:01.448Z"
   },
   {
    "duration": 70,
    "start_time": "2022-06-22T08:18:01.516Z"
   },
   {
    "duration": 11,
    "start_time": "2022-06-22T08:18:01.588Z"
   },
   {
    "duration": 237,
    "start_time": "2022-06-22T08:18:01.601Z"
   },
   {
    "duration": 8,
    "start_time": "2022-06-22T08:18:01.841Z"
   },
   {
    "duration": 365,
    "start_time": "2022-06-22T08:18:01.851Z"
   },
   {
    "duration": 183,
    "start_time": "2022-06-22T08:18:02.218Z"
   },
   {
    "duration": 367,
    "start_time": "2022-06-22T08:18:02.403Z"
   },
   {
    "duration": 7,
    "start_time": "2022-06-22T08:18:02.773Z"
   },
   {
    "duration": 33,
    "start_time": "2022-06-22T08:18:02.782Z"
   },
   {
    "duration": 513,
    "start_time": "2022-06-22T08:18:02.817Z"
   },
   {
    "duration": 157,
    "start_time": "2022-06-22T08:18:03.332Z"
   },
   {
    "duration": 278,
    "start_time": "2022-06-22T08:18:03.490Z"
   },
   {
    "duration": 13,
    "start_time": "2022-06-22T08:18:03.770Z"
   },
   {
    "duration": 22,
    "start_time": "2022-06-22T08:18:03.786Z"
   },
   {
    "duration": 306,
    "start_time": "2022-06-22T08:18:03.810Z"
   },
   {
    "duration": 185,
    "start_time": "2022-06-22T08:18:04.118Z"
   },
   {
    "duration": 10,
    "start_time": "2022-06-22T08:18:04.305Z"
   },
   {
    "duration": 391,
    "start_time": "2022-06-22T08:18:04.326Z"
   },
   {
    "duration": 314,
    "start_time": "2022-06-22T08:18:04.719Z"
   },
   {
    "duration": 243,
    "start_time": "2022-06-22T08:18:05.035Z"
   },
   {
    "duration": 12,
    "start_time": "2022-06-22T08:18:05.279Z"
   },
   {
    "duration": 15,
    "start_time": "2022-06-22T08:18:05.293Z"
   },
   {
    "duration": 3,
    "start_time": "2022-06-22T10:57:33.051Z"
   },
   {
    "duration": 67,
    "start_time": "2022-06-22T10:57:33.065Z"
   },
   {
    "duration": 15,
    "start_time": "2022-06-22T10:57:33.134Z"
   },
   {
    "duration": 15,
    "start_time": "2022-06-22T10:57:33.151Z"
   },
   {
    "duration": 25,
    "start_time": "2022-06-22T10:57:33.169Z"
   },
   {
    "duration": 7,
    "start_time": "2022-06-22T10:57:33.196Z"
   },
   {
    "duration": 5,
    "start_time": "2022-06-22T10:57:33.227Z"
   },
   {
    "duration": 784,
    "start_time": "2022-06-22T10:57:33.234Z"
   },
   {
    "duration": 8,
    "start_time": "2022-06-22T10:57:34.020Z"
   },
   {
    "duration": 11,
    "start_time": "2022-06-22T10:57:34.029Z"
   },
   {
    "duration": 8,
    "start_time": "2022-06-22T10:57:34.041Z"
   },
   {
    "duration": 22,
    "start_time": "2022-06-22T10:57:34.051Z"
   },
   {
    "duration": 13,
    "start_time": "2022-06-22T10:57:34.075Z"
   },
   {
    "duration": 144,
    "start_time": "2022-06-22T10:57:34.089Z"
   },
   {
    "duration": 162,
    "start_time": "2022-06-22T10:57:34.234Z"
   },
   {
    "duration": 191,
    "start_time": "2022-06-22T10:57:34.399Z"
   },
   {
    "duration": 181,
    "start_time": "2022-06-22T10:57:34.592Z"
   },
   {
    "duration": 7,
    "start_time": "2022-06-22T10:57:34.775Z"
   },
   {
    "duration": 15,
    "start_time": "2022-06-22T10:57:34.783Z"
   },
   {
    "duration": 233,
    "start_time": "2022-06-22T10:57:34.801Z"
   },
   {
    "duration": 8,
    "start_time": "2022-06-22T10:57:35.036Z"
   },
   {
    "duration": 11,
    "start_time": "2022-06-22T10:57:35.046Z"
   },
   {
    "duration": 18,
    "start_time": "2022-06-22T10:57:35.059Z"
   },
   {
    "duration": 148,
    "start_time": "2022-06-22T10:57:35.078Z"
   },
   {
    "duration": 7,
    "start_time": "2022-06-22T10:57:35.228Z"
   },
   {
    "duration": 9,
    "start_time": "2022-06-22T10:57:35.237Z"
   },
   {
    "duration": 13,
    "start_time": "2022-06-22T10:57:35.250Z"
   },
   {
    "duration": 9,
    "start_time": "2022-06-22T10:57:35.264Z"
   },
   {
    "duration": 5,
    "start_time": "2022-06-22T10:57:35.275Z"
   },
   {
    "duration": 16,
    "start_time": "2022-06-22T10:57:35.281Z"
   },
   {
    "duration": 32,
    "start_time": "2022-06-22T10:57:35.298Z"
   },
   {
    "duration": 260,
    "start_time": "2022-06-22T10:57:35.332Z"
   },
   {
    "duration": 7,
    "start_time": "2022-06-22T10:57:35.595Z"
   },
   {
    "duration": 323,
    "start_time": "2022-06-22T10:57:35.605Z"
   },
   {
    "duration": 145,
    "start_time": "2022-06-22T10:57:35.930Z"
   },
   {
    "duration": 331,
    "start_time": "2022-06-22T10:57:36.076Z"
   },
   {
    "duration": 6,
    "start_time": "2022-06-22T10:57:36.408Z"
   },
   {
    "duration": 22,
    "start_time": "2022-06-22T10:57:36.416Z"
   },
   {
    "duration": 371,
    "start_time": "2022-06-22T10:57:36.439Z"
   },
   {
    "duration": 137,
    "start_time": "2022-06-22T10:57:36.812Z"
   },
   {
    "duration": 258,
    "start_time": "2022-06-22T10:57:36.951Z"
   },
   {
    "duration": 19,
    "start_time": "2022-06-22T10:57:37.211Z"
   },
   {
    "duration": 30,
    "start_time": "2022-06-22T10:57:37.232Z"
   },
   {
    "duration": 341,
    "start_time": "2022-06-22T10:57:37.264Z"
   },
   {
    "duration": 176,
    "start_time": "2022-06-22T10:57:37.607Z"
   },
   {
    "duration": 9,
    "start_time": "2022-06-22T10:57:37.785Z"
   },
   {
    "duration": 302,
    "start_time": "2022-06-22T10:57:37.796Z"
   },
   {
    "duration": 304,
    "start_time": "2022-06-22T10:57:38.100Z"
   },
   {
    "duration": 228,
    "start_time": "2022-06-22T10:57:38.406Z"
   },
   {
    "duration": 11,
    "start_time": "2022-06-22T10:57:38.636Z"
   },
   {
    "duration": 15,
    "start_time": "2022-06-22T10:57:38.649Z"
   },
   {
    "duration": 8,
    "start_time": "2022-06-22T10:59:41.436Z"
   },
   {
    "duration": 194,
    "start_time": "2022-06-22T10:59:48.780Z"
   },
   {
    "duration": 206,
    "start_time": "2022-06-22T11:00:12.498Z"
   },
   {
    "duration": 427,
    "start_time": "2022-06-22T11:00:44.229Z"
   },
   {
    "duration": 337,
    "start_time": "2022-06-22T11:04:56.038Z"
   },
   {
    "duration": 321,
    "start_time": "2022-06-22T11:07:58.102Z"
   },
   {
    "duration": 422,
    "start_time": "2022-06-22T11:10:15.844Z"
   },
   {
    "duration": 141,
    "start_time": "2022-06-22T11:14:30.966Z"
   },
   {
    "duration": 6,
    "start_time": "2022-06-22T11:17:31.862Z"
   },
   {
    "duration": 264,
    "start_time": "2022-06-22T11:17:51.973Z"
   },
   {
    "duration": 282,
    "start_time": "2022-06-22T11:19:07.995Z"
   },
   {
    "duration": 271,
    "start_time": "2022-06-22T11:20:02.606Z"
   },
   {
    "duration": 263,
    "start_time": "2022-06-22T11:20:29.570Z"
   },
   {
    "duration": 17,
    "start_time": "2022-06-22T11:21:54.390Z"
   },
   {
    "duration": 13,
    "start_time": "2022-06-22T11:21:58.372Z"
   },
   {
    "duration": 15,
    "start_time": "2022-06-22T11:22:01.217Z"
   },
   {
    "duration": 189,
    "start_time": "2022-06-22T11:22:03.358Z"
   },
   {
    "duration": 170,
    "start_time": "2022-06-22T11:24:18.357Z"
   },
   {
    "duration": 146,
    "start_time": "2022-06-22T11:24:34.867Z"
   },
   {
    "duration": 225,
    "start_time": "2022-06-22T11:25:01.933Z"
   },
   {
    "duration": 157,
    "start_time": "2022-06-22T11:25:25.630Z"
   },
   {
    "duration": 9,
    "start_time": "2022-06-22T11:27:49.631Z"
   },
   {
    "duration": 238,
    "start_time": "2022-06-22T11:27:50.570Z"
   },
   {
    "duration": 497,
    "start_time": "2022-06-22T11:28:09.530Z"
   },
   {
    "duration": 220,
    "start_time": "2022-06-22T11:28:37.580Z"
   },
   {
    "duration": 235,
    "start_time": "2022-06-22T11:29:13.004Z"
   },
   {
    "duration": 346,
    "start_time": "2022-06-22T11:29:31.134Z"
   },
   {
    "duration": 280,
    "start_time": "2022-06-22T11:29:37.655Z"
   },
   {
    "duration": 237,
    "start_time": "2022-06-22T11:29:51.110Z"
   },
   {
    "duration": 10,
    "start_time": "2022-06-22T11:31:38.841Z"
   },
   {
    "duration": 5,
    "start_time": "2022-06-22T11:33:41.023Z"
   },
   {
    "duration": 7,
    "start_time": "2022-06-22T11:34:13.562Z"
   },
   {
    "duration": 315,
    "start_time": "2022-06-22T11:37:22.398Z"
   },
   {
    "duration": 297,
    "start_time": "2022-06-22T11:37:32.989Z"
   },
   {
    "duration": 1565,
    "start_time": "2022-06-22T16:52:48.871Z"
   },
   {
    "duration": 108,
    "start_time": "2022-06-22T16:52:50.440Z"
   },
   {
    "duration": 17,
    "start_time": "2022-06-22T16:52:50.551Z"
   },
   {
    "duration": 24,
    "start_time": "2022-06-22T16:52:50.570Z"
   },
   {
    "duration": 21,
    "start_time": "2022-06-22T16:52:50.596Z"
   },
   {
    "duration": 35,
    "start_time": "2022-06-22T16:52:50.619Z"
   },
   {
    "duration": 7,
    "start_time": "2022-06-22T16:52:50.656Z"
   },
   {
    "duration": 938,
    "start_time": "2022-06-22T16:52:50.665Z"
   },
   {
    "duration": 5,
    "start_time": "2022-06-22T16:52:51.606Z"
   },
   {
    "duration": 9,
    "start_time": "2022-06-22T16:52:51.612Z"
   },
   {
    "duration": 28,
    "start_time": "2022-06-22T16:52:51.623Z"
   },
   {
    "duration": 16,
    "start_time": "2022-06-22T16:52:51.653Z"
   },
   {
    "duration": 6,
    "start_time": "2022-06-22T16:52:51.670Z"
   },
   {
    "duration": 198,
    "start_time": "2022-06-22T16:52:51.678Z"
   },
   {
    "duration": 169,
    "start_time": "2022-06-22T16:52:51.878Z"
   },
   {
    "duration": 174,
    "start_time": "2022-06-22T16:52:52.051Z"
   },
   {
    "duration": 167,
    "start_time": "2022-06-22T16:52:52.226Z"
   },
   {
    "duration": 9,
    "start_time": "2022-06-22T16:52:52.395Z"
   },
   {
    "duration": 9,
    "start_time": "2022-06-22T16:52:52.406Z"
   },
   {
    "duration": 188,
    "start_time": "2022-06-22T16:52:52.417Z"
   },
   {
    "duration": 8,
    "start_time": "2022-06-22T16:52:52.607Z"
   },
   {
    "duration": 13,
    "start_time": "2022-06-22T16:52:52.616Z"
   },
   {
    "duration": 26,
    "start_time": "2022-06-22T16:52:52.630Z"
   },
   {
    "duration": 161,
    "start_time": "2022-06-22T16:52:52.658Z"
   },
   {
    "duration": 6,
    "start_time": "2022-06-22T16:52:52.821Z"
   },
   {
    "duration": 24,
    "start_time": "2022-06-22T16:52:52.829Z"
   },
   {
    "duration": 6,
    "start_time": "2022-06-22T16:52:52.857Z"
   },
   {
    "duration": 10,
    "start_time": "2022-06-22T16:52:52.865Z"
   },
   {
    "duration": 6,
    "start_time": "2022-06-22T16:52:52.877Z"
   },
   {
    "duration": 16,
    "start_time": "2022-06-22T16:52:52.885Z"
   },
   {
    "duration": 49,
    "start_time": "2022-06-22T16:52:52.902Z"
   },
   {
    "duration": 259,
    "start_time": "2022-06-22T16:52:52.953Z"
   },
   {
    "duration": 7,
    "start_time": "2022-06-22T16:52:53.214Z"
   },
   {
    "duration": 382,
    "start_time": "2022-06-22T16:52:53.223Z"
   },
   {
    "duration": 257,
    "start_time": "2022-06-22T16:52:53.607Z"
   },
   {
    "duration": 396,
    "start_time": "2022-06-22T16:52:53.866Z"
   },
   {
    "duration": 6,
    "start_time": "2022-06-22T16:52:54.264Z"
   },
   {
    "duration": 19,
    "start_time": "2022-06-22T16:52:54.272Z"
   },
   {
    "duration": 510,
    "start_time": "2022-06-22T16:52:54.294Z"
   },
   {
    "duration": 155,
    "start_time": "2022-06-22T16:52:54.806Z"
   },
   {
    "duration": 6,
    "start_time": "2022-06-22T16:52:54.963Z"
   },
   {
    "duration": 315,
    "start_time": "2022-06-22T16:52:54.971Z"
   },
   {
    "duration": 14,
    "start_time": "2022-06-22T16:52:55.288Z"
   },
   {
    "duration": 17,
    "start_time": "2022-06-22T16:52:55.304Z"
   },
   {
    "duration": 242,
    "start_time": "2022-06-22T16:52:55.323Z"
   },
   {
    "duration": 187,
    "start_time": "2022-06-22T16:52:55.567Z"
   },
   {
    "duration": 9,
    "start_time": "2022-06-22T16:52:55.756Z"
   },
   {
    "duration": 280,
    "start_time": "2022-06-22T16:52:55.766Z"
   },
   {
    "duration": 328,
    "start_time": "2022-06-22T16:52:56.048Z"
   },
   {
    "duration": 336,
    "start_time": "2022-06-22T16:52:56.378Z"
   },
   {
    "duration": 13,
    "start_time": "2022-06-22T16:52:56.717Z"
   },
   {
    "duration": 27,
    "start_time": "2022-06-22T16:52:56.732Z"
   },
   {
    "duration": 7,
    "start_time": "2022-06-22T16:52:56.761Z"
   },
   {
    "duration": 11,
    "start_time": "2022-06-22T16:58:14.530Z"
   },
   {
    "duration": 225,
    "start_time": "2022-06-22T16:58:17.660Z"
   },
   {
    "duration": 1307,
    "start_time": "2022-06-22T18:42:55.612Z"
   },
   {
    "duration": 101,
    "start_time": "2022-06-22T18:42:56.921Z"
   },
   {
    "duration": 13,
    "start_time": "2022-06-22T18:42:57.024Z"
   },
   {
    "duration": 18,
    "start_time": "2022-06-22T18:42:57.039Z"
   },
   {
    "duration": 17,
    "start_time": "2022-06-22T18:42:57.058Z"
   },
   {
    "duration": 5,
    "start_time": "2022-06-22T18:42:57.076Z"
   },
   {
    "duration": 6,
    "start_time": "2022-06-22T18:42:57.083Z"
   },
   {
    "duration": 768,
    "start_time": "2022-06-22T18:42:57.090Z"
   },
   {
    "duration": 4,
    "start_time": "2022-06-22T18:42:57.860Z"
   },
   {
    "duration": 7,
    "start_time": "2022-06-22T18:42:57.866Z"
   },
   {
    "duration": 4,
    "start_time": "2022-06-22T18:42:57.875Z"
   },
   {
    "duration": 17,
    "start_time": "2022-06-22T18:42:57.881Z"
   },
   {
    "duration": 26,
    "start_time": "2022-06-22T18:42:57.899Z"
   },
   {
    "duration": 163,
    "start_time": "2022-06-22T18:42:57.927Z"
   },
   {
    "duration": 152,
    "start_time": "2022-06-22T18:42:58.091Z"
   },
   {
    "duration": 151,
    "start_time": "2022-06-22T18:42:58.245Z"
   },
   {
    "duration": 150,
    "start_time": "2022-06-22T18:42:58.397Z"
   },
   {
    "duration": 8,
    "start_time": "2022-06-22T18:42:58.548Z"
   },
   {
    "duration": 11,
    "start_time": "2022-06-22T18:42:58.558Z"
   },
   {
    "duration": 152,
    "start_time": "2022-06-22T18:42:58.571Z"
   },
   {
    "duration": 7,
    "start_time": "2022-06-22T18:42:58.725Z"
   },
   {
    "duration": 14,
    "start_time": "2022-06-22T18:42:58.733Z"
   },
   {
    "duration": 8,
    "start_time": "2022-06-22T18:42:58.748Z"
   },
   {
    "duration": 143,
    "start_time": "2022-06-22T18:42:58.757Z"
   },
   {
    "duration": 5,
    "start_time": "2022-06-22T18:42:58.902Z"
   },
   {
    "duration": 16,
    "start_time": "2022-06-22T18:42:58.908Z"
   },
   {
    "duration": 12,
    "start_time": "2022-06-22T18:42:58.926Z"
   },
   {
    "duration": 13,
    "start_time": "2022-06-22T18:42:58.943Z"
   },
   {
    "duration": 9,
    "start_time": "2022-06-22T18:42:58.957Z"
   },
   {
    "duration": 14,
    "start_time": "2022-06-22T18:42:58.967Z"
   },
   {
    "duration": 7,
    "start_time": "2022-06-22T18:42:58.983Z"
   },
   {
    "duration": 233,
    "start_time": "2022-06-22T18:42:58.992Z"
   },
   {
    "duration": 9,
    "start_time": "2022-06-22T18:42:59.228Z"
   },
   {
    "duration": 337,
    "start_time": "2022-06-22T18:42:59.239Z"
   },
   {
    "duration": 214,
    "start_time": "2022-06-22T18:42:59.578Z"
   },
   {
    "duration": 365,
    "start_time": "2022-06-22T18:42:59.794Z"
   },
   {
    "duration": 6,
    "start_time": "2022-06-22T18:43:00.161Z"
   },
   {
    "duration": 21,
    "start_time": "2022-06-22T18:43:00.169Z"
   },
   {
    "duration": 372,
    "start_time": "2022-06-22T18:43:00.191Z"
   },
   {
    "duration": 127,
    "start_time": "2022-06-22T18:43:00.565Z"
   },
   {
    "duration": 6,
    "start_time": "2022-06-22T18:43:00.693Z"
   },
   {
    "duration": 263,
    "start_time": "2022-06-22T18:43:00.700Z"
   },
   {
    "duration": 13,
    "start_time": "2022-06-22T18:43:00.964Z"
   },
   {
    "duration": 36,
    "start_time": "2022-06-22T18:43:00.979Z"
   },
   {
    "duration": 203,
    "start_time": "2022-06-22T18:43:01.017Z"
   },
   {
    "duration": 166,
    "start_time": "2022-06-22T18:43:01.222Z"
   },
   {
    "duration": 9,
    "start_time": "2022-06-22T18:43:01.390Z"
   },
   {
    "duration": 238,
    "start_time": "2022-06-22T18:43:01.401Z"
   },
   {
    "duration": 297,
    "start_time": "2022-06-22T18:43:01.641Z"
   },
   {
    "duration": 314,
    "start_time": "2022-06-22T18:43:01.940Z"
   },
   {
    "duration": 11,
    "start_time": "2022-06-22T18:43:02.255Z"
   },
   {
    "duration": 12,
    "start_time": "2022-06-22T18:43:02.268Z"
   },
   {
    "duration": 14,
    "start_time": "2022-06-22T18:43:02.281Z"
   },
   {
    "duration": 22,
    "start_time": "2022-06-22T18:46:14.776Z"
   },
   {
    "duration": 100,
    "start_time": "2022-06-22T18:46:46.778Z"
   },
   {
    "duration": 121,
    "start_time": "2022-06-22T18:47:11.997Z"
   },
   {
    "duration": 265,
    "start_time": "2022-06-22T18:48:05.692Z"
   },
   {
    "duration": 245,
    "start_time": "2022-06-22T18:48:23.332Z"
   },
   {
    "duration": 476,
    "start_time": "2022-06-22T18:49:58.652Z"
   },
   {
    "duration": 898,
    "start_time": "2022-06-22T18:51:12.253Z"
   },
   {
    "duration": 216,
    "start_time": "2022-06-22T18:55:45.574Z"
   },
   {
    "duration": 287,
    "start_time": "2022-06-22T18:56:36.352Z"
   },
   {
    "duration": 194,
    "start_time": "2022-06-22T18:57:28.153Z"
   },
   {
    "duration": 1080,
    "start_time": "2022-06-22T19:37:07.931Z"
   },
   {
    "duration": 55,
    "start_time": "2022-06-22T19:37:09.013Z"
   },
   {
    "duration": 11,
    "start_time": "2022-06-22T19:37:09.069Z"
   },
   {
    "duration": 24,
    "start_time": "2022-06-22T19:37:09.081Z"
   },
   {
    "duration": 14,
    "start_time": "2022-06-22T19:37:09.107Z"
   },
   {
    "duration": 11,
    "start_time": "2022-06-22T19:37:09.123Z"
   },
   {
    "duration": 17,
    "start_time": "2022-06-22T19:37:09.136Z"
   },
   {
    "duration": 679,
    "start_time": "2022-06-22T19:37:09.155Z"
   },
   {
    "duration": 4,
    "start_time": "2022-06-22T19:37:09.835Z"
   },
   {
    "duration": 6,
    "start_time": "2022-06-22T19:37:09.851Z"
   },
   {
    "duration": 5,
    "start_time": "2022-06-22T19:37:09.858Z"
   },
   {
    "duration": 13,
    "start_time": "2022-06-22T19:37:09.865Z"
   },
   {
    "duration": 5,
    "start_time": "2022-06-22T19:37:09.879Z"
   },
   {
    "duration": 147,
    "start_time": "2022-06-22T19:37:09.885Z"
   },
   {
    "duration": 135,
    "start_time": "2022-06-22T19:37:10.034Z"
   },
   {
    "duration": 143,
    "start_time": "2022-06-22T19:37:10.170Z"
   },
   {
    "duration": 128,
    "start_time": "2022-06-22T19:37:10.315Z"
   },
   {
    "duration": 9,
    "start_time": "2022-06-22T19:37:10.445Z"
   },
   {
    "duration": 8,
    "start_time": "2022-06-22T19:37:10.455Z"
   },
   {
    "duration": 132,
    "start_time": "2022-06-22T19:37:10.465Z"
   },
   {
    "duration": 6,
    "start_time": "2022-06-22T19:37:10.598Z"
   },
   {
    "duration": 10,
    "start_time": "2022-06-22T19:37:10.605Z"
   },
   {
    "duration": 7,
    "start_time": "2022-06-22T19:37:10.616Z"
   },
   {
    "duration": 132,
    "start_time": "2022-06-22T19:37:10.624Z"
   },
   {
    "duration": 5,
    "start_time": "2022-06-22T19:37:10.757Z"
   },
   {
    "duration": 8,
    "start_time": "2022-06-22T19:37:10.763Z"
   },
   {
    "duration": 9,
    "start_time": "2022-06-22T19:37:10.772Z"
   },
   {
    "duration": 5,
    "start_time": "2022-06-22T19:37:10.785Z"
   },
   {
    "duration": 5,
    "start_time": "2022-06-22T19:37:10.791Z"
   },
   {
    "duration": 12,
    "start_time": "2022-06-22T19:37:10.797Z"
   },
   {
    "duration": 6,
    "start_time": "2022-06-22T19:37:10.811Z"
   },
   {
    "duration": 212,
    "start_time": "2022-06-22T19:37:10.818Z"
   },
   {
    "duration": 7,
    "start_time": "2022-06-22T19:37:11.032Z"
   },
   {
    "duration": 279,
    "start_time": "2022-06-22T19:37:11.051Z"
   },
   {
    "duration": 202,
    "start_time": "2022-06-22T19:37:11.332Z"
   },
   {
    "duration": 255,
    "start_time": "2022-06-22T19:37:11.536Z"
   },
   {
    "duration": 5,
    "start_time": "2022-06-22T19:37:11.793Z"
   },
   {
    "duration": 14,
    "start_time": "2022-06-22T19:37:11.799Z"
   },
   {
    "duration": 329,
    "start_time": "2022-06-22T19:37:11.814Z"
   },
   {
    "duration": 110,
    "start_time": "2022-06-22T19:37:12.151Z"
   },
   {
    "duration": 647,
    "start_time": "2022-06-22T19:37:12.262Z"
   },
   {
    "duration": 5,
    "start_time": "2022-06-22T19:37:12.910Z"
   },
   {
    "duration": 297,
    "start_time": "2022-06-22T19:37:12.916Z"
   },
   {
    "duration": 11,
    "start_time": "2022-06-22T19:37:13.215Z"
   },
   {
    "duration": 14,
    "start_time": "2022-06-22T19:37:13.227Z"
   },
   {
    "duration": 166,
    "start_time": "2022-06-22T19:37:13.251Z"
   },
   {
    "duration": 139,
    "start_time": "2022-06-22T19:37:13.419Z"
   },
   {
    "duration": 7,
    "start_time": "2022-06-22T19:37:13.559Z"
   },
   {
    "duration": 207,
    "start_time": "2022-06-22T19:37:13.567Z"
   },
   {
    "duration": 255,
    "start_time": "2022-06-22T19:37:13.776Z"
   },
   {
    "duration": 181,
    "start_time": "2022-06-22T19:37:14.032Z"
   },
   {
    "duration": 9,
    "start_time": "2022-06-22T19:37:14.215Z"
   },
   {
    "duration": 12,
    "start_time": "2022-06-22T19:37:14.226Z"
   },
   {
    "duration": 5,
    "start_time": "2022-06-22T19:37:14.250Z"
   }
  ],
  "kernelspec": {
   "display_name": "Python 3 (ipykernel)",
   "language": "python",
   "name": "python3"
  },
  "language_info": {
   "codemirror_mode": {
    "name": "ipython",
    "version": 3
   },
   "file_extension": ".py",
   "mimetype": "text/x-python",
   "name": "python",
   "nbconvert_exporter": "python",
   "pygments_lexer": "ipython3",
   "version": "3.9.5"
  },
  "toc": {
   "base_numbering": 1,
   "nav_menu": {},
   "number_sections": true,
   "sideBar": true,
   "skip_h1_title": true,
   "title_cell": "Table of Contents",
   "title_sidebar": "Contents",
   "toc_cell": false,
   "toc_position": {},
   "toc_section_display": true,
   "toc_window_display": false
  }
 },
 "nbformat": 4,
 "nbformat_minor": 5
}
