{
 "cells": [
  {
   "cell_type": "markdown",
   "id": "0f3087c4",
   "metadata": {},
   "source": [
    "# Выбор локации для скважины"
   ]
  },
  {
   "cell_type": "markdown",
   "id": "7ade32ad",
   "metadata": {},
   "source": [
    "## Введение\n",
    "Необходимо решить задачу о финансировании одного из возможных регионов добычи нефти. \n",
    "Дано:\n",
    "1. Данные по 100 000 скважинам из трех регионов для построения модели машинного обучения.\n",
    "2. По каждой скважине есть три признака и значение запасов нефти.\n",
    "3. Бюджет на разработку скважин 10 000 000 000 рублей.\n",
    "4. Стоимость барреля нефти 450 рублей. (данные о количестве нефти в скважине представлены в тыс. баррелей).\n",
    "\n",
    "Процесс принятия решения:\n",
    "1. Предварительно разарабатываются 500 скважин, с которых собираются признаки.\n",
    "2. С помощью модели машинного обучения выбираются 200 самых перспективных скважин. \n",
    "3. Скважины разрабатываются - нефть продается. \n",
    "\n",
    "Алгоритм решения задачи: \n",
    "1. Выполним предобработку данных.\n",
    "2. Разделим выборки на тренировочную и валдиационную.\n",
    "3. Обучим по модели для каждого региона. \n",
    "4. Рассчитаем прибыль техникой bootstrap для 500 случайных скважин в каждом регионе (выбрав далее 200 лучших по предсказаниям модели)\n",
    "5. Найдем доверительный интервал прибыли для каждого региона.\n",
    "6. Оценим вероятность возникновения убытков в регионе. "
   ]
  },
  {
   "cell_type": "markdown",
   "id": "da98c8a6",
   "metadata": {},
   "source": [
    "## Загрузка и подготовка данных"
   ]
  },
  {
   "cell_type": "code",
   "execution_count": 1,
   "id": "fb5308df",
   "metadata": {},
   "outputs": [],
   "source": [
    "import pandas as pd\n",
    "from sklearn.preprocessing import StandardScaler\n",
    "from sklearn.model_selection import train_test_split\n",
    "from sklearn.linear_model import LinearRegression\n",
    "from sklearn.metrics import mean_squared_error\n",
    "import numpy as np\n",
    "from matplotlib import pyplot as plt"
   ]
  },
  {
   "cell_type": "code",
   "execution_count": 2,
   "id": "2f45ee52",
   "metadata": {},
   "outputs": [],
   "source": [
    "max_points = 500 #количество исследуюмых точек выбранного региона\n",
    "work_points = 200 #количество разрабатываемых точек\n",
    "point_budget = 10**10 #бюджет на разработку скважины\n",
    "revenue = 450000 #доход с одной единицы продукта"
   ]
  },
  {
   "cell_type": "code",
   "execution_count": 3,
   "id": "1e3972d3",
   "metadata": {},
   "outputs": [],
   "source": [
    "data_0 = pd.read_csv('/datasets/geo_data_0.csv')\n",
    "data_1 = pd.read_csv('/datasets/geo_data_1.csv')\n",
    "data_2 = pd.read_csv('/datasets/geo_data_2.csv')"
   ]
  },
  {
   "cell_type": "code",
   "execution_count": 4,
   "id": "a2696e5d",
   "metadata": {},
   "outputs": [
    {
     "name": "stdout",
     "output_type": "stream",
     "text": [
      "<class 'pandas.core.frame.DataFrame'>\n",
      "RangeIndex: 100000 entries, 0 to 99999\n",
      "Data columns (total 5 columns):\n",
      " #   Column   Non-Null Count   Dtype  \n",
      "---  ------   --------------   -----  \n",
      " 0   id       100000 non-null  object \n",
      " 1   f0       100000 non-null  float64\n",
      " 2   f1       100000 non-null  float64\n",
      " 3   f2       100000 non-null  float64\n",
      " 4   product  100000 non-null  float64\n",
      "dtypes: float64(4), object(1)\n",
      "memory usage: 3.8+ MB\n"
     ]
    }
   ],
   "source": [
    "data_0.info()"
   ]
  },
  {
   "cell_type": "code",
   "execution_count": 5,
   "id": "2ee7fbbf",
   "metadata": {},
   "outputs": [
    {
     "name": "stdout",
     "output_type": "stream",
     "text": [
      "<class 'pandas.core.frame.DataFrame'>\n",
      "RangeIndex: 100000 entries, 0 to 99999\n",
      "Data columns (total 5 columns):\n",
      " #   Column   Non-Null Count   Dtype  \n",
      "---  ------   --------------   -----  \n",
      " 0   id       100000 non-null  object \n",
      " 1   f0       100000 non-null  float64\n",
      " 2   f1       100000 non-null  float64\n",
      " 3   f2       100000 non-null  float64\n",
      " 4   product  100000 non-null  float64\n",
      "dtypes: float64(4), object(1)\n",
      "memory usage: 3.8+ MB\n"
     ]
    }
   ],
   "source": [
    "data_1.info()"
   ]
  },
  {
   "cell_type": "code",
   "execution_count": 6,
   "id": "37ac64da",
   "metadata": {},
   "outputs": [
    {
     "name": "stdout",
     "output_type": "stream",
     "text": [
      "<class 'pandas.core.frame.DataFrame'>\n",
      "RangeIndex: 100000 entries, 0 to 99999\n",
      "Data columns (total 5 columns):\n",
      " #   Column   Non-Null Count   Dtype  \n",
      "---  ------   --------------   -----  \n",
      " 0   id       100000 non-null  object \n",
      " 1   f0       100000 non-null  float64\n",
      " 2   f1       100000 non-null  float64\n",
      " 3   f2       100000 non-null  float64\n",
      " 4   product  100000 non-null  float64\n",
      "dtypes: float64(4), object(1)\n",
      "memory usage: 3.8+ MB\n"
     ]
    }
   ],
   "source": [
    "data_2.info()"
   ]
  },
  {
   "cell_type": "code",
   "execution_count": 7,
   "id": "c470c13e",
   "metadata": {},
   "outputs": [
    {
     "data": {
      "text/html": [
       "<div>\n",
       "<style scoped>\n",
       "    .dataframe tbody tr th:only-of-type {\n",
       "        vertical-align: middle;\n",
       "    }\n",
       "\n",
       "    .dataframe tbody tr th {\n",
       "        vertical-align: top;\n",
       "    }\n",
       "\n",
       "    .dataframe thead th {\n",
       "        text-align: right;\n",
       "    }\n",
       "</style>\n",
       "<table border=\"1\" class=\"dataframe\">\n",
       "  <thead>\n",
       "    <tr style=\"text-align: right;\">\n",
       "      <th></th>\n",
       "      <th>f0</th>\n",
       "      <th>f1</th>\n",
       "      <th>f2</th>\n",
       "      <th>product</th>\n",
       "    </tr>\n",
       "  </thead>\n",
       "  <tbody>\n",
       "    <tr>\n",
       "      <th>count</th>\n",
       "      <td>100000.000000</td>\n",
       "      <td>100000.000000</td>\n",
       "      <td>100000.000000</td>\n",
       "      <td>100000.000000</td>\n",
       "    </tr>\n",
       "    <tr>\n",
       "      <th>mean</th>\n",
       "      <td>0.500419</td>\n",
       "      <td>0.250143</td>\n",
       "      <td>2.502647</td>\n",
       "      <td>92.500000</td>\n",
       "    </tr>\n",
       "    <tr>\n",
       "      <th>std</th>\n",
       "      <td>0.871832</td>\n",
       "      <td>0.504433</td>\n",
       "      <td>3.248248</td>\n",
       "      <td>44.288691</td>\n",
       "    </tr>\n",
       "    <tr>\n",
       "      <th>min</th>\n",
       "      <td>-1.408605</td>\n",
       "      <td>-0.848218</td>\n",
       "      <td>-12.088328</td>\n",
       "      <td>0.000000</td>\n",
       "    </tr>\n",
       "    <tr>\n",
       "      <th>25%</th>\n",
       "      <td>-0.072580</td>\n",
       "      <td>-0.200881</td>\n",
       "      <td>0.287748</td>\n",
       "      <td>56.497507</td>\n",
       "    </tr>\n",
       "    <tr>\n",
       "      <th>50%</th>\n",
       "      <td>0.502360</td>\n",
       "      <td>0.250252</td>\n",
       "      <td>2.515969</td>\n",
       "      <td>91.849972</td>\n",
       "    </tr>\n",
       "    <tr>\n",
       "      <th>75%</th>\n",
       "      <td>1.073581</td>\n",
       "      <td>0.700646</td>\n",
       "      <td>4.715088</td>\n",
       "      <td>128.564089</td>\n",
       "    </tr>\n",
       "    <tr>\n",
       "      <th>max</th>\n",
       "      <td>2.362331</td>\n",
       "      <td>1.343769</td>\n",
       "      <td>16.003790</td>\n",
       "      <td>185.364347</td>\n",
       "    </tr>\n",
       "  </tbody>\n",
       "</table>\n",
       "</div>"
      ],
      "text/plain": [
       "                  f0             f1             f2        product\n",
       "count  100000.000000  100000.000000  100000.000000  100000.000000\n",
       "mean        0.500419       0.250143       2.502647      92.500000\n",
       "std         0.871832       0.504433       3.248248      44.288691\n",
       "min        -1.408605      -0.848218     -12.088328       0.000000\n",
       "25%        -0.072580      -0.200881       0.287748      56.497507\n",
       "50%         0.502360       0.250252       2.515969      91.849972\n",
       "75%         1.073581       0.700646       4.715088     128.564089\n",
       "max         2.362331       1.343769      16.003790     185.364347"
      ]
     },
     "metadata": {},
     "output_type": "display_data"
    },
    {
     "data": {
      "text/html": [
       "<div>\n",
       "<style scoped>\n",
       "    .dataframe tbody tr th:only-of-type {\n",
       "        vertical-align: middle;\n",
       "    }\n",
       "\n",
       "    .dataframe tbody tr th {\n",
       "        vertical-align: top;\n",
       "    }\n",
       "\n",
       "    .dataframe thead th {\n",
       "        text-align: right;\n",
       "    }\n",
       "</style>\n",
       "<table border=\"1\" class=\"dataframe\">\n",
       "  <thead>\n",
       "    <tr style=\"text-align: right;\">\n",
       "      <th></th>\n",
       "      <th>f0</th>\n",
       "      <th>f1</th>\n",
       "      <th>f2</th>\n",
       "      <th>product</th>\n",
       "    </tr>\n",
       "  </thead>\n",
       "  <tbody>\n",
       "    <tr>\n",
       "      <th>count</th>\n",
       "      <td>100000.000000</td>\n",
       "      <td>100000.000000</td>\n",
       "      <td>100000.000000</td>\n",
       "      <td>100000.000000</td>\n",
       "    </tr>\n",
       "    <tr>\n",
       "      <th>mean</th>\n",
       "      <td>1.141296</td>\n",
       "      <td>-4.796579</td>\n",
       "      <td>2.494541</td>\n",
       "      <td>68.825000</td>\n",
       "    </tr>\n",
       "    <tr>\n",
       "      <th>std</th>\n",
       "      <td>8.965932</td>\n",
       "      <td>5.119872</td>\n",
       "      <td>1.703572</td>\n",
       "      <td>45.944423</td>\n",
       "    </tr>\n",
       "    <tr>\n",
       "      <th>min</th>\n",
       "      <td>-31.609576</td>\n",
       "      <td>-26.358598</td>\n",
       "      <td>-0.018144</td>\n",
       "      <td>0.000000</td>\n",
       "    </tr>\n",
       "    <tr>\n",
       "      <th>25%</th>\n",
       "      <td>-6.298551</td>\n",
       "      <td>-8.267985</td>\n",
       "      <td>1.000021</td>\n",
       "      <td>26.953261</td>\n",
       "    </tr>\n",
       "    <tr>\n",
       "      <th>50%</th>\n",
       "      <td>1.153055</td>\n",
       "      <td>-4.813172</td>\n",
       "      <td>2.011479</td>\n",
       "      <td>57.085625</td>\n",
       "    </tr>\n",
       "    <tr>\n",
       "      <th>75%</th>\n",
       "      <td>8.621015</td>\n",
       "      <td>-1.332816</td>\n",
       "      <td>3.999904</td>\n",
       "      <td>107.813044</td>\n",
       "    </tr>\n",
       "    <tr>\n",
       "      <th>max</th>\n",
       "      <td>29.421755</td>\n",
       "      <td>18.734063</td>\n",
       "      <td>5.019721</td>\n",
       "      <td>137.945408</td>\n",
       "    </tr>\n",
       "  </tbody>\n",
       "</table>\n",
       "</div>"
      ],
      "text/plain": [
       "                  f0             f1             f2        product\n",
       "count  100000.000000  100000.000000  100000.000000  100000.000000\n",
       "mean        1.141296      -4.796579       2.494541      68.825000\n",
       "std         8.965932       5.119872       1.703572      45.944423\n",
       "min       -31.609576     -26.358598      -0.018144       0.000000\n",
       "25%        -6.298551      -8.267985       1.000021      26.953261\n",
       "50%         1.153055      -4.813172       2.011479      57.085625\n",
       "75%         8.621015      -1.332816       3.999904     107.813044\n",
       "max        29.421755      18.734063       5.019721     137.945408"
      ]
     },
     "metadata": {},
     "output_type": "display_data"
    },
    {
     "data": {
      "text/html": [
       "<div>\n",
       "<style scoped>\n",
       "    .dataframe tbody tr th:only-of-type {\n",
       "        vertical-align: middle;\n",
       "    }\n",
       "\n",
       "    .dataframe tbody tr th {\n",
       "        vertical-align: top;\n",
       "    }\n",
       "\n",
       "    .dataframe thead th {\n",
       "        text-align: right;\n",
       "    }\n",
       "</style>\n",
       "<table border=\"1\" class=\"dataframe\">\n",
       "  <thead>\n",
       "    <tr style=\"text-align: right;\">\n",
       "      <th></th>\n",
       "      <th>f0</th>\n",
       "      <th>f1</th>\n",
       "      <th>f2</th>\n",
       "      <th>product</th>\n",
       "    </tr>\n",
       "  </thead>\n",
       "  <tbody>\n",
       "    <tr>\n",
       "      <th>count</th>\n",
       "      <td>100000.000000</td>\n",
       "      <td>100000.000000</td>\n",
       "      <td>100000.000000</td>\n",
       "      <td>100000.000000</td>\n",
       "    </tr>\n",
       "    <tr>\n",
       "      <th>mean</th>\n",
       "      <td>0.002023</td>\n",
       "      <td>-0.002081</td>\n",
       "      <td>2.495128</td>\n",
       "      <td>95.000000</td>\n",
       "    </tr>\n",
       "    <tr>\n",
       "      <th>std</th>\n",
       "      <td>1.732045</td>\n",
       "      <td>1.730417</td>\n",
       "      <td>3.473445</td>\n",
       "      <td>44.749921</td>\n",
       "    </tr>\n",
       "    <tr>\n",
       "      <th>min</th>\n",
       "      <td>-8.760004</td>\n",
       "      <td>-7.084020</td>\n",
       "      <td>-11.970335</td>\n",
       "      <td>0.000000</td>\n",
       "    </tr>\n",
       "    <tr>\n",
       "      <th>25%</th>\n",
       "      <td>-1.162288</td>\n",
       "      <td>-1.174820</td>\n",
       "      <td>0.130359</td>\n",
       "      <td>59.450441</td>\n",
       "    </tr>\n",
       "    <tr>\n",
       "      <th>50%</th>\n",
       "      <td>0.009424</td>\n",
       "      <td>-0.009482</td>\n",
       "      <td>2.484236</td>\n",
       "      <td>94.925613</td>\n",
       "    </tr>\n",
       "    <tr>\n",
       "      <th>75%</th>\n",
       "      <td>1.158535</td>\n",
       "      <td>1.163678</td>\n",
       "      <td>4.858794</td>\n",
       "      <td>130.595027</td>\n",
       "    </tr>\n",
       "    <tr>\n",
       "      <th>max</th>\n",
       "      <td>7.238262</td>\n",
       "      <td>7.844801</td>\n",
       "      <td>16.739402</td>\n",
       "      <td>190.029838</td>\n",
       "    </tr>\n",
       "  </tbody>\n",
       "</table>\n",
       "</div>"
      ],
      "text/plain": [
       "                  f0             f1             f2        product\n",
       "count  100000.000000  100000.000000  100000.000000  100000.000000\n",
       "mean        0.002023      -0.002081       2.495128      95.000000\n",
       "std         1.732045       1.730417       3.473445      44.749921\n",
       "min        -8.760004      -7.084020     -11.970335       0.000000\n",
       "25%        -1.162288      -1.174820       0.130359      59.450441\n",
       "50%         0.009424      -0.009482       2.484236      94.925613\n",
       "75%         1.158535       1.163678       4.858794     130.595027\n",
       "max         7.238262       7.844801      16.739402     190.029838"
      ]
     },
     "metadata": {},
     "output_type": "display_data"
    }
   ],
   "source": [
    "display(data_0.describe())\n",
    "display(data_1.describe())\n",
    "display(data_2.describe())"
   ]
  },
  {
   "cell_type": "markdown",
   "id": "44fc4612",
   "metadata": {},
   "source": [
    "Разделим данные на признаки и целевой признак. Далее, разделим выборки на обучающие и валидационные.\n",
    "\n",
    "\n",
    "Видим, что в разных признаки разные на уровне порядков разбросы данных. Во избежание присваивания некорректных весов признакам при обучении модели, выполним нормализацию значений признаков, методом `StandardScaler`."
   ]
  },
  {
   "cell_type": "code",
   "execution_count": 8,
   "id": "278ee154",
   "metadata": {},
   "outputs": [],
   "source": [
    "features_0 = data_0.drop(columns = ['id', 'product'])\n",
    "features_1 = data_1.drop(columns = ['id', 'product'])\n",
    "features_2 = data_2.drop(columns = ['id', 'product'])\n",
    "\n",
    "target_0 = data_0['product']\n",
    "target_1 = data_1['product']\n",
    "target_2 = data_2['product']"
   ]
  },
  {
   "cell_type": "code",
   "execution_count": 9,
   "id": "f3dbe66d",
   "metadata": {},
   "outputs": [],
   "source": [
    "features_0_train, features_0_valid, target_0_train, target_0_valid = train_test_split(features_0, target_0, test_size= 0.25, random_state= 12345)\n",
    "features_1_train, features_1_valid, target_1_train, target_1_valid = train_test_split(features_1, target_1, test_size= 0.25, random_state= 12345)\n",
    "features_2_train, features_2_valid, target_2_train, target_2_valid = train_test_split(features_2, target_2, test_size= 0.25, random_state= 12345)"
   ]
  },
  {
   "cell_type": "code",
   "execution_count": 10,
   "id": "fc019996",
   "metadata": {},
   "outputs": [],
   "source": [
    "def scaler (features_train, features_valid):\n",
    "    scaler = StandardScaler()\n",
    "    scaler.fit(features_train)\n",
    "    features_valid = scaler.transform(features_valid)\n",
    "    features_train = scaler.transform(features_train)\n",
    "    return features_train, features_valid"
   ]
  },
  {
   "cell_type": "code",
   "execution_count": 11,
   "id": "c028f74c",
   "metadata": {},
   "outputs": [],
   "source": [
    "features_0_train, features_0_valid = scaler(features_0_train, features_0_valid)\n",
    "features_1_train, features_1_valid = scaler(features_1_train, features_1_valid)\n",
    "features_2_train, features_2_valid = scaler(features_2_train, features_2_valid)"
   ]
  },
  {
   "cell_type": "code",
   "execution_count": 12,
   "id": "56cde3e3",
   "metadata": {},
   "outputs": [
    {
     "name": "stdout",
     "output_type": "stream",
     "text": [
      "Размер тренировочной выборки региона 0: (75000, 3)\n",
      "Размер тренировочной выборки региона 1: (75000, 3)\n",
      "Размер тренировочной выборки региона 2: (75000, 3)\n",
      "Размер валидационной выборки региона 0: (25000, 3)\n",
      "Размер валидационной выборки региона 1: (25000, 3)\n",
      "Размер валидационной выборки региона 2: (25000, 3)\n"
     ]
    }
   ],
   "source": [
    "print ('Размер тренировочной выборки региона 0:',features_0_train.shape)\n",
    "print ('Размер тренировочной выборки региона 1:',features_1_train.shape)\n",
    "print ('Размер тренировочной выборки региона 2:',features_2_train.shape)\n",
    "print ('Размер валидационной выборки региона 0:',features_0_valid.shape)\n",
    "print ('Размер валидационной выборки региона 1:',features_1_valid.shape)\n",
    "print ('Размер валидационной выборки региона 2:',features_2_valid.shape)"
   ]
  },
  {
   "cell_type": "markdown",
   "id": "87c73e87",
   "metadata": {},
   "source": [
    "#### Выводы. \n",
    "1. В нашем распоряжении данные по 100 000 скважинам из трех регионов. \n",
    "2. По каждой скважине в данных представлены три признака - f0, f1, f2 и объем запасов нефти в тысячах баррелей.\n",
    "3. Данные по каждому региону разделены на валидационную и обучающую выборки.\n",
    "4. Выполнено масштабирование признаков. "
   ]
  },
  {
   "cell_type": "markdown",
   "id": "a6117d91",
   "metadata": {},
   "source": [
    "## Обучение модели и проверка модели"
   ]
  },
  {
   "cell_type": "markdown",
   "id": "ef8779d0",
   "metadata": {},
   "source": [
    "Задача является задачей регрессии. В качестве модели будем использовать модель `LinearRegression`"
   ]
  },
  {
   "cell_type": "code",
   "execution_count": 13,
   "id": "80c187cf",
   "metadata": {},
   "outputs": [],
   "source": [
    "# функция, создающая модель для каждого региона по тренировочным и валидационным выборкам\n",
    "def predicted_oil(features_train, features_valid, target_train, target_valid):\n",
    "    model = LinearRegression().fit(features_train, target_train)\n",
    "    results = model.predict(features_valid)\n",
    "    rmse = mean_squared_error(results ,target_valid)**0.5\n",
    "    mean_product = results.mean()\n",
    "    return mean_product, rmse, results"
   ]
  },
  {
   "cell_type": "code",
   "execution_count": 14,
   "id": "4e95955d",
   "metadata": {},
   "outputs": [
    {
     "name": "stdout",
     "output_type": "stream",
     "text": [
      "Средний предсказанный запас нефти в регионе ноль: 92.59256778438035 тыс. баррелей.\n",
      "Средняя ошибка модели для региона: 37.5794217150813 тыс. баррелей.\n"
     ]
    }
   ],
   "source": [
    "mean_product_0, rmse_0, results_0 = predicted_oil(features_0_train, features_0_valid, target_0_train, target_0_valid)\n",
    "print ('Средний предсказанный запас нефти в регионе ноль:', mean_product_0, 'тыс. баррелей.')\n",
    "print ('Средняя ошибка модели для региона:', rmse_0, 'тыс. баррелей.')"
   ]
  },
  {
   "cell_type": "code",
   "execution_count": 15,
   "id": "36ade012",
   "metadata": {},
   "outputs": [
    {
     "name": "stdout",
     "output_type": "stream",
     "text": [
      "Средний предсказанный запас нефти в регионе один: 68.728546895446 тыс. баррелей.\n",
      "Средняя ошибка модели для региона: 0.893099286775617 тыс. баррелей.\n"
     ]
    }
   ],
   "source": [
    "mean_product_1, rmse_1, results_1 = predicted_oil(features_1_train, features_1_valid, target_1_train, target_1_valid)\n",
    "print ('Средний предсказанный запас нефти в регионе один:', mean_product_1, 'тыс. баррелей.')\n",
    "print ('Средняя ошибка модели для региона:', rmse_1, 'тыс. баррелей.')"
   ]
  },
  {
   "cell_type": "code",
   "execution_count": 16,
   "id": "6c99906f",
   "metadata": {},
   "outputs": [
    {
     "name": "stdout",
     "output_type": "stream",
     "text": [
      "Средний предсказанный запас нефти в регионе два: 94.96504596800489 тыс. баррелей.\n",
      "Средняя ошибка модели для региона: 40.02970873393434 тыс. баррелей.\n"
     ]
    }
   ],
   "source": [
    "mean_product_2, rmse_2, results_2 = predicted_oil(features_2_train, features_2_valid, target_2_train, target_2_valid)\n",
    "print ('Средний предсказанный запас нефти в регионе два:', mean_product_2, 'тыс. баррелей.')\n",
    "print ('Средняя ошибка модели для региона:', rmse_2, 'тыс. баррелей.')"
   ]
  },
  {
   "cell_type": "code",
   "execution_count": 17,
   "id": "88fb9aa0",
   "metadata": {},
   "outputs": [
    {
     "data": {
      "image/png": "[encoded data removed]",
      "text/plain": [
       "<Figure size 576x432 with 1 Axes>"
      ]
     },
     "metadata": {
      "needs_background": "light"
     },
     "output_type": "display_data"
    },
    {
     "data": {
      "image/png": "[encoded data removed]",
      "text/plain": [
       "<Figure size 576x432 with 1 Axes>"
      ]
     },
     "metadata": {
      "needs_background": "light"
     },
     "output_type": "display_data"
    },
    {
     "data": {
      "image/png": "[encoded data removed]",
      "text/plain": [
       "<Figure size 576x432 with 1 Axes>"
      ]
     },
     "metadata": {
      "needs_background": "light"
     },
     "output_type": "display_data"
    }
   ],
   "source": [
    "#Гистограмма для региона 0\n",
    "plt.figure(figsize= (8,6))\n",
    "plt.title('Распределения запасов по скважинам региона 0')\n",
    "plt.grid()\n",
    "plt.hist([results_0,target_0_valid], label=['Предсказания модели', 'Реальные значения'])\n",
    "plt.legend()\n",
    "plt.show()\n",
    "\n",
    "\n",
    "#Гистограмма для региона 1\n",
    "plt.figure(figsize= (8,6))\n",
    "plt.title('Распределения запасов по скважинам региона 1')\n",
    "plt.grid()\n",
    "plt.hist([results_1,target_1_valid], label=['Предсказания модели', 'Реальные значения'])\n",
    "plt.legend()\n",
    "plt.show()\n",
    "\n",
    "\n",
    "#Гистограмма для региона 2\n",
    "plt.figure(figsize= (8,6))\n",
    "plt.title('Распределения запасов по скважинам региона 2')\n",
    "plt.grid()\n",
    "plt.hist([results_2,target_2_valid], label=['Предсказания модели', 'Реальные значения'])\n",
    "plt.legend()\n",
    "plt.show()"
   ]
  },
  {
   "cell_type": "markdown",
   "id": "9cbab742",
   "metadata": {},
   "source": [
    "#### Выводы\n",
    "Модель для каждого регона обучена.\n",
    "\n",
    "Самые большие средние запасы нефти предсказаны в регионе номер два, но этому же региону соответвует наименее качественно обученная модель, средняя ошибка составляет порядка 40 тыс баррелей на скважину. \n",
    "\n",
    "Наиболее релевантно модель обучена для региона номер один, средняя ошибка составляет 0.89 тыс баррелей на скважину. Средний объем запасов составляет 68.7 тыс баррелей нефти на скважину. "
   ]
  },
  {
   "cell_type": "markdown",
   "id": "7b8cbd11",
   "metadata": {},
   "source": [
    "## Подготовка к расчету прибыли"
   ]
  },
  {
   "cell_type": "markdown",
   "id": "56717363",
   "metadata": {},
   "source": [
    "Сохраним все константные значения, необходимые для расчета прибыли. "
   ]
  },
  {
   "cell_type": "markdown",
   "id": "2b83451d",
   "metadata": {},
   "source": [
    "Рассчитаем минимальное необходимое среднее количество нефти.\n",
    "\n",
    "Найдем его как отношение бюджета на разработку всех скважин к выручкке с тысячи баррелей и количеству разрабатываемых скважин."
   ]
  },
  {
   "cell_type": "code",
   "execution_count": 18,
   "id": "e7231f99",
   "metadata": {},
   "outputs": [
    {
     "data": {
      "text/plain": [
       "111.11111111111111"
      ]
     },
     "execution_count": 18,
     "metadata": {},
     "output_type": "execute_result"
    }
   ],
   "source": [
    "min_product = point_budget/revenue/200\n",
    "min_product"
   ]
  },
  {
   "cell_type": "markdown",
   "id": "18975b5d",
   "metadata": {},
   "source": [
    "### Вывод\n",
    "Минимальное среднее значение сырья для каждого региона превышает среднее значение сырья, предсказанное моделями. \n",
    "Найдем средние значения предсказанного сырья для топ-200 скважин по предсказанным запасам. "
   ]
  },
  {
   "cell_type": "code",
   "execution_count": 19,
   "id": "4d1cbb9c",
   "metadata": {},
   "outputs": [
    {
     "name": "stdout",
     "output_type": "stream",
     "text": [
      "среднее значение региона_0, предсказанное моделью: 155.54756230056083\n",
      "среднее значение региона_0 на самом деле: 148.15047934986757\n"
     ]
    }
   ],
   "source": [
    "results_0 = pd.Series(results_0, index=target_0_valid.index)\n",
    "top_wells_0 = results_0.sort_values(ascending = False).head(work_points-1).index\n",
    "product_predict_0 = results_0[top_wells_0]\n",
    "product_real_0 = target_0_valid[top_wells_0]\n",
    "\n",
    "region_0_stats = pd.concat([results_0, target_0_valid], axis =1)\n",
    "region_0_stats.columns = ['predicted', 'real']\n",
    "\n",
    "print ('среднее значение региона_0, предсказанное моделью:', product_predict_0.mean())\n",
    "print ('среднее значение региона_0 на самом деле:', product_real_0.mean())"
   ]
  },
  {
   "cell_type": "code",
   "execution_count": 20,
   "id": "c842c97e",
   "metadata": {},
   "outputs": [
    {
     "name": "stdout",
     "output_type": "stream",
     "text": [
      "среднее значение региона 1, предсказанное моделью 138.73173912274706\n",
      "среднее значение региона 1 на самом деле 137.94540774090612\n"
     ]
    }
   ],
   "source": [
    "results_1 = pd.Series(results_1, index = target_1_valid.index)\n",
    "top_wells_1 = results_1.sort_values(ascending = False).head(work_points-1).index\n",
    "product_predict_1 = results_1[top_wells_1]\n",
    "product_real_1 = target_1_valid[top_wells_1]\n",
    "\n",
    "region_1_stats = pd.concat([results_1, target_1_valid], axis =1)\n",
    "region_1_stats.columns = ['predicted', 'real']\n",
    "\n",
    "print ('среднее значение региона 1, предсказанное моделью', product_predict_1.mean())\n",
    "print ('среднее значение региона 1 на самом деле', product_real_1.mean())"
   ]
  },
  {
   "cell_type": "code",
   "execution_count": 21,
   "id": "512632c2",
   "metadata": {},
   "outputs": [
    {
     "name": "stdout",
     "output_type": "stream",
     "text": [
      "среднее значение региона 2, предсказанное моделью 148.01949329159194\n",
      "среднее значение региона 2 на самом деле 141.22611070666485\n"
     ]
    }
   ],
   "source": [
    "results_2 = pd.Series(results_2, index = target_2_valid.index)\n",
    "top_wells_2 = results_2.sort_values(ascending = False).head(work_points).index\n",
    "product_predict_2 = results_2[top_wells_2]\n",
    "product_real_2 = target_2_valid[top_wells_2]\n",
    "\n",
    "region_2_stats = pd.concat([results_2, target_2_valid], axis =1)\n",
    "region_2_stats.columns = ['predicted', 'real']\n",
    "\n",
    "print ('среднее значение региона 2, предсказанное моделью', product_predict_2.mean())\n",
    "print ('среднее значение региона 2 на самом деле', product_real_2.mean())"
   ]
  },
  {
   "cell_type": "markdown",
   "id": "1002df73",
   "metadata": {},
   "source": [
    "Видим, что на отобранных 200 точках с максимальным прогнозируемым объемом сырья, среднее значение сырья выше точки безубыточности. Составим функцию для расчета доходности региона с учетом того, **что 500 точек для машинного обучения выбираются случайным образом (в условии задачи так написано, но я не уверен).**\n",
    "\n",
    "Доходность рассчитаем, как объем реальных запасов нефти на выбранных скважинах, умноженный на стоимость 1000 баррелей за вычетом расходов на разработку скважин."
   ]
  },
  {
   "cell_type": "code",
   "execution_count": 22,
   "id": "146cd02f",
   "metadata": {},
   "outputs": [
    {
     "name": "stdout",
     "output_type": "stream",
     "text": [
      "region_0: 605 млн.р.\n",
      "region_1: 228 млн.р.\n",
      "region_2: -71 млн.р.\n"
     ]
    }
   ],
   "source": [
    "# Функиця расчета прибыли\n",
    "def profit_value(region_stats):\n",
    "    sample = region_stats.sample(n=max_points, random_state =12345, replace = True)\n",
    "    top_wells_product = sample.sort_values(by = 'predicted', ascending = False).head(work_points)['real'].sum()\n",
    "    total_revenue = top_wells_product*revenue\n",
    "    profit = total_revenue - point_budget  \n",
    "    return int(profit/1000000)\n",
    "print('region_0:',profit_value(region_0_stats), 'млн.р.')\n",
    "print('region_1:',profit_value(region_1_stats), 'млн.р.')\n",
    "print('region_2:',profit_value(region_2_stats), 'млн.р.')"
   ]
  },
  {
   "cell_type": "markdown",
   "id": "fadc8cc6",
   "metadata": {},
   "source": [
    "<div class=\"alert alert-block alert-info\">\n",
    "<b>Комментарий студента:</b> \n",
    "\n",
    "1. Исправил на констнтное значение = 200. Запутался, думал, что head принимает на вход индексы, хотя если подумать чуть серьезнее, становится понятно, что это не так. \n",
    "    \n",
    "2. Исправил replace на true.\n",
    "</div>"
   ]
  },
  {
   "cell_type": "markdown",
   "id": "26e5962f",
   "metadata": {},
   "source": [
    "Видим, что в случайно выбранных 500 точках, с дальнейшей сортировкой с помощью модели машинного обучения, наибольшая прибыль возможна в регионе 1. "
   ]
  },
  {
   "cell_type": "markdown",
   "id": "fda50f9c",
   "metadata": {},
   "source": [
    "Найдем среднее значение прибыли в каждом регионе методом bootstrap."
   ]
  },
  {
   "cell_type": "code",
   "execution_count": 23,
   "id": "cf9e9c23",
   "metadata": {},
   "outputs": [
    {
     "name": "stdout",
     "output_type": "stream",
     "text": [
      "Регион 0 средняя прибыль по итогам bootstrap: 376.211 млн.р.\n",
      "Регион 1 средняя прибыль по итогам bootstrap: 452.36 млн.р.\n",
      "Регион 2 средняя прибыль по итогам bootstrap: 403.96 млн.р.\n"
     ]
    }
   ],
   "source": [
    "def bootstrap(product):\n",
    "    profits = []\n",
    "    state = np.random.RandomState(12345)\n",
    "    for i in range(1000):\n",
    "        sub_sample = product.sample(frac =1, replace = False, random_state=state)\n",
    "        profit = profit_value(sub_sample)\n",
    "        profits.append(profit)\n",
    "    return profits\n",
    "profits_bootstrap_0 = pd.Series(bootstrap(region_0_stats))\n",
    "profits_bootstrap_1 = pd.Series(bootstrap(region_1_stats))\n",
    "profits_bootstrap_2 = pd.Series(bootstrap(region_2_stats))\n",
    "print('Регион 0 средняя прибыль по итогам bootstrap:',profits_bootstrap_0.mean(), 'млн.р.')\n",
    "print('Регион 1 средняя прибыль по итогам bootstrap:',profits_bootstrap_1.mean(), 'млн.р.')\n",
    "print('Регион 2 средняя прибыль по итогам bootstrap:',profits_bootstrap_2.mean(), 'млн.р.')"
   ]
  },
  {
   "cell_type": "markdown",
   "id": "25fae0a5",
   "metadata": {},
   "source": [
    "<div class=\"alert alert-block alert-info\">\n",
    "<b>Комментарий студента:</b> \n",
    "\n",
    "Здесь заменил возвращение на false. Если я правильно понял работу sample, то сейчас мы берем все 25 000 строк валидационной выборки и передаем в функцию для расчета прибыли для отбора 500 случайных с возвращением. \n",
    "\n",
    "Вопросы: \n",
    "1. Нужен ли тогда вообще метод sample здесь? Опять же, если я все правильно понимаю, мы как будто перетасовали колоду карт. \n",
    "2. Оказывает ли в этом случае какое-то влияние параметр random state?\n",
    "</div>"
   ]
  },
  {
   "cell_type": "markdown",
   "id": "6843b639",
   "metadata": {},
   "source": [
    "<div class=\"alert alert-success\">\n",
    "<b>Комментарий ревьюера :</b> \n",
    "    \n",
    "Раз ты решил проводить семплирование в формуле, то здесь тогда уже не нужно, потому что сейчас да, получается он просто перемешивает все наблюдения. Но обрати внимание: если сейчас ты удалишь здесь перетасовку, то у тебя каждый раз будут отбираться одни и те же 500 строк, так как ты зафиксировал для них числовой random state. Чтобы этого не происходило, нужно задать его через `state = np.random.RandomState(12345)` и передавать в sample уже переменную state. Дело в том, что np.random.RandomState() заранее определяет список случайных значений, и каждый раз, когда какая-то функция обращается к этому списку случайностей, ей выдается следующее по очереди неиспользованное значение, то сеть если мы один раз зададим этот список и будем несколько раз обращаться к нему через sample, то у нас не будут получаться одни и те же выборки, так как при каждом следующем обращении к переменной state мы будем получать другое случайное значение.\n",
    "    \n",
    "    \n",
    "Поскольку строки все-таки перемешиваются, то random state важен. Если мы оставим здесь семплирования (перемешивание полной выборки), то без зафиксированного random state оно каждый раз будет отличаться, и random state для отбора 500 точек (при условии, что он задан правильно, про это я рассказала в абзаце выше) уже не спасет (т.к. ему на вход каждый раз поступает разный порядок наблюдений), поэтому мы будем получать разные финальные результаты. "
   ]
  },
  {
   "cell_type": "code",
   "execution_count": 24,
   "id": "cfa1521e",
   "metadata": {},
   "outputs": [
    {
     "data": {
      "image/png": "[encoded data removed]",
      "text/plain": [
       "<Figure size 360x432 with 1 Axes>"
      ]
     },
     "metadata": {
      "needs_background": "light"
     },
     "output_type": "display_data"
    },
    {
     "data": {
      "image/png": "[encoded data removed]",
      "text/plain": [
       "<Figure size 360x432 with 1 Axes>"
      ]
     },
     "metadata": {
      "needs_background": "light"
     },
     "output_type": "display_data"
    },
    {
     "data": {
      "image/png": "[encoded data removed]",
      "text/plain": [
       "<Figure size 360x432 with 1 Axes>"
      ]
     },
     "metadata": {
      "needs_background": "light"
     },
     "output_type": "display_data"
    }
   ],
   "source": [
    "plt.figure()\n",
    "plt.title('Распредение средних прибылей региона 0')\n",
    "profits_bootstrap_0.hist(figsize = (5,6))\n",
    "plt.show()\n",
    "\n",
    "plt.figure()\n",
    "plt.title('Распредение средних прибылей региона 1')\n",
    "profits_bootstrap_1.hist(figsize = (5,6))\n",
    "plt.show()\n",
    "\n",
    "\n",
    "plt.figure()\n",
    "plt.title('Распредение средних прибылей региона 2')\n",
    "profits_bootstrap_2.hist(figsize = (5,6))\n",
    "plt.show()"
   ]
  },
  {
   "cell_type": "markdown",
   "id": "8edb2993",
   "metadata": {},
   "source": [
    "Рассчитаем доверительный интервал для средней прибыли выборок"
   ]
  },
  {
   "cell_type": "code",
   "execution_count": 25,
   "id": "829f9506",
   "metadata": {},
   "outputs": [
    {
     "name": "stdout",
     "output_type": "stream",
     "text": [
      "Регион 0, 95% доверительный интервал от: -56.099999999999994 млн. р. до: 818.05 млн. р.\n",
      "Регион 1, 95% доверительный интервал от: 129.9 млн. р. до: 780.0 млн. р.\n",
      "Регион 2, 95% доверительный интервал от: -32.0 млн. р. до: 858.1499999999999 млн. р.\n"
     ]
    }
   ],
   "source": [
    "print ('Регион 0, 95% доверительный интервал от:',\n",
    "       profits_bootstrap_0.quantile(0.05),\n",
    "       'млн. р.',\n",
    "       'до:',\n",
    "       profits_bootstrap_0.quantile(0.95),\n",
    "      'млн. р.')\n",
    "\n",
    "print ('Регион 1, 95% доверительный интервал от:',\n",
    "       profits_bootstrap_1.quantile(0.05),\n",
    "       'млн. р.',\n",
    "       'до:',\n",
    "       profits_bootstrap_1.quantile(0.95),\n",
    "      'млн. р.')\n",
    "\n",
    "print ('Регион 2, 95% доверительный интервал от:',\n",
    "       profits_bootstrap_2.quantile(0.05),\n",
    "       'млн. р.',\n",
    "       'до:',\n",
    "       profits_bootstrap_2.quantile(0.95),\n",
    "      'млн. р.')"
   ]
  },
  {
   "cell_type": "code",
   "execution_count": 26,
   "id": "a49a119e",
   "metadata": {},
   "outputs": [
    {
     "data": {
      "image/png": "[encoded data removed]",
      "text/plain": [
       "<Figure size 648x576 with 1 Axes>"
      ]
     },
     "metadata": {
      "needs_background": "light"
     },
     "output_type": "display_data"
    }
   ],
   "source": [
    "left = [profits_bootstrap_0.quantile(0.05), profits_bootstrap_1.quantile(0.05), profits_bootstrap_2.quantile(0.05)]\n",
    "right = [profits_bootstrap_0.quantile(0.95), profits_bootstrap_1.quantile(0.95), profits_bootstrap_2.quantile(0.95)]\n",
    "regions = ['регион 0', 'регион 1', 'регион 2']\n",
    "plt.figure(figsize = (9,8))\n",
    "plt.title('95% Доверительный интервал прибыли по регионам')\n",
    "plt.grid()\n",
    "plt.scatter(regions,left)\n",
    "plt.scatter(regions, right)\n",
    "plt.legend(['min', 'max'])\n",
    "plt.show()"
   ]
  },
  {
   "cell_type": "markdown",
   "id": "5aca4563",
   "metadata": {},
   "source": [
    "#### Выводы\n",
    "1. После применения техники bootstrap наиболее прибыльным регоном оказался регион один. \n",
    "2. По итогам расчета доверительного интервала в регионе ноль и регионе два, левая граница интервала - отрицательная, в регионе номер один левая граница интервала составляет 129.9 млн р.\n",
    "3. Правая граница 95% доверительного интервала наибольшая в регионе два, далее регион ноль, далее регион один. Разница между регонами по правой границе в пределах 5%, то есть незначительная. \n",
    "\n",
    "Рассчитаем риски убытков по регонам"
   ]
  },
  {
   "cell_type": "markdown",
   "id": "f164d3c9",
   "metadata": {},
   "source": [
    "## Расчет рисков"
   ]
  },
  {
   "cell_type": "markdown",
   "id": "a0d4867f",
   "metadata": {},
   "source": [
    "Найдем вероятность убытков, как отношение количества средних прибылей меньше нуля к количетсву исходов больше нуля"
   ]
  },
  {
   "cell_type": "code",
   "execution_count": 27,
   "id": "925ccb8f",
   "metadata": {},
   "outputs": [
    {
     "name": "stdout",
     "output_type": "stream",
     "text": [
      "вероятность убытков в регионе 0: 7.3 %\n",
      "вероятность убытков в регионе 1: 1.3 %\n",
      "вероятность убытков в регионе 2: 6.800000000000001 %\n"
     ]
    }
   ],
   "source": [
    "print ('вероятность убытков в регионе 0:', (profits_bootstrap_0 < 0).mean()*100, '%')\n",
    "print ('вероятность убытков в регионе 1:', (profits_bootstrap_1 < 0).mean()*100, '%')\n",
    "print ('вероятность убытков в регионе 2:', (profits_bootstrap_2 < 0).mean()*100, '%')"
   ]
  },
  {
   "cell_type": "code",
   "execution_count": 28,
   "id": "2a49a075",
   "metadata": {},
   "outputs": [
    {
     "data": {
      "image/png": "[encoded data removed]",
      "text/plain": [
       "<Figure size 432x432 with 1 Axes>"
      ]
     },
     "metadata": {
      "needs_background": "light"
     },
     "output_type": "display_data"
    }
   ],
   "source": [
    "losses = [sum(profits_bootstrap_0<0)/len(profits_bootstrap_0)*100, sum(profits_bootstrap_1<0)/len(profits_bootstrap_1)*100, sum(profits_bootstrap_2<0)/len(profits_bootstrap_2)*100]\n",
    "plt.figure(figsize = (6,6))\n",
    "plt.title('Вероятность получения убытков по регионам, %')\n",
    "plt.grid()\n",
    "plt.plot(regions, losses)\n",
    "plt.show()"
   ]
  },
  {
   "cell_type": "markdown",
   "id": "125ddce9",
   "metadata": {},
   "source": [
    "#### Выводы\n",
    "Видим, что риск убытков в регионе один - минимальный, 1.3%. В регионе ноль риск убытков составляет 6.8%, в регионе два 7,3%"
   ]
  },
  {
   "cell_type": "markdown",
   "id": "c85499f0",
   "metadata": {},
   "source": [
    "## Вывод\n",
    "#### Предобработка данных\n",
    "В нашем распоряжении оказались данные по 100 000 скважинам из трех регионов. \n",
    "Для каждого региона были выполнены следующие действия:\n",
    "1. Проверена полнота данных\n",
    "2. Разделение выборки на тренировочную и валидационную в пропорциях 25 на 75. \n",
    "3. Масштабирование признаков.\n",
    "\n",
    "#### Обучение моделей\n",
    "В качестве модели обучения выбор сделан в пользу \"LinearRegression\", так как на нашем объеме данных она дает наиболее предсказуемые результаты. \n",
    "Наиболее качественная по результатам модель получилась для региона один, где ошибка составила мене 1 тыс. баррелей на скважину. Сравнимыми по качеству получились модели для регионов ноль и два, где средняя ошибка составила более 30 тыс. баррелей на скважину. Это, предположительно, связано с тем, что по собираемым метрикам со скважин в регионе невозможно точно предсказать залежи нефти в скважине.  \n",
    "\n",
    "\n",
    "#### Расчет прибыли и рисков, рекомендация по выбору региона\n",
    "Для каждого региона техникой bootstrap были отобраны слуайным образом по 500 скважин, далее из них выбраны 200 лучших с помощью модели машинного обучения. Далее, по выбранным скважинам была рассчитана прибыль. Количество повторений - 1000. \n",
    "\n",
    "По итогам, был посчитан 95% доверительный интервал для каждого региона и риск получения убытков. Лучшие показатели получились в **регионе один** доверительный интервал составил 75 - 750 млн. р., риск получения убытков в регионе 1.3%. \n",
    "\n",
    "Остальные два региона имеют отрицательную левую границу доверительного интервала и риск убыточности более 5%"
   ]
  }
 ],
 "metadata": {
  "ExecuteTimeLog": [
   {
    "duration": 1507,
    "start_time": "2022-08-06T16:54:02.030Z"
   },
   {
    "duration": 880,
    "start_time": "2022-08-06T16:54:06.113Z"
   },
   {
    "duration": 17,
    "start_time": "2022-08-06T16:54:06.995Z"
   },
   {
    "duration": 13,
    "start_time": "2022-08-06T16:54:07.505Z"
   },
   {
    "duration": 16,
    "start_time": "2022-08-06T16:54:08.066Z"
   },
   {
    "duration": 3,
    "start_time": "2022-08-06T16:54:09.038Z"
   },
   {
    "duration": 217,
    "start_time": "2022-08-06T16:54:09.767Z"
   },
   {
    "duration": 10,
    "start_time": "2022-08-06T16:54:15.989Z"
   },
   {
    "duration": 31,
    "start_time": "2022-08-06T16:54:16.724Z"
   },
   {
    "duration": 3,
    "start_time": "2022-08-06T16:54:19.521Z"
   },
   {
    "duration": 11,
    "start_time": "2022-08-06T16:54:31.673Z"
   },
   {
    "duration": 25,
    "start_time": "2022-08-06T16:54:36.159Z"
   },
   {
    "duration": 10,
    "start_time": "2022-08-06T16:54:40.967Z"
   },
   {
    "duration": 3,
    "start_time": "2022-08-06T16:55:15.328Z"
   },
   {
    "duration": 27,
    "start_time": "2022-08-06T16:55:54.307Z"
   },
   {
    "duration": 4,
    "start_time": "2022-08-06T16:55:55.175Z"
   },
   {
    "duration": 4,
    "start_time": "2022-08-06T16:58:16.696Z"
   },
   {
    "duration": 24,
    "start_time": "2022-08-06T16:58:21.080Z"
   },
   {
    "duration": 10,
    "start_time": "2022-08-06T16:58:27.346Z"
   },
   {
    "duration": 2,
    "start_time": "2022-08-06T16:58:45.690Z"
   },
   {
    "duration": 3,
    "start_time": "2022-08-06T16:59:20.052Z"
   },
   {
    "duration": 22,
    "start_time": "2022-08-06T16:59:24.771Z"
   },
   {
    "duration": 11,
    "start_time": "2022-08-06T16:59:26.870Z"
   },
   {
    "duration": 3,
    "start_time": "2022-08-06T16:59:39.766Z"
   },
   {
    "duration": 22,
    "start_time": "2022-08-06T16:59:47.033Z"
   },
   {
    "duration": 9,
    "start_time": "2022-08-06T16:59:49.484Z"
   },
   {
    "duration": 3,
    "start_time": "2022-08-06T16:59:58.923Z"
   },
   {
    "duration": 22,
    "start_time": "2022-08-06T17:00:07.997Z"
   },
   {
    "duration": 9,
    "start_time": "2022-08-06T17:00:14.920Z"
   },
   {
    "duration": 14,
    "start_time": "2022-08-06T17:00:37.622Z"
   },
   {
    "duration": 1290,
    "start_time": "2022-08-06T17:00:57.404Z"
   },
   {
    "duration": 361,
    "start_time": "2022-08-06T17:01:01.310Z"
   },
   {
    "duration": 20,
    "start_time": "2022-08-06T17:01:01.681Z"
   },
   {
    "duration": 10,
    "start_time": "2022-08-06T17:01:07.771Z"
   },
   {
    "duration": 30,
    "start_time": "2022-08-06T17:01:08.313Z"
   },
   {
    "duration": 3,
    "start_time": "2022-08-06T17:01:12.284Z"
   },
   {
    "duration": 15,
    "start_time": "2022-08-06T17:01:19.280Z"
   },
   {
    "duration": 24,
    "start_time": "2022-08-06T17:01:23.583Z"
   },
   {
    "duration": 91,
    "start_time": "2022-08-06T17:01:28.473Z"
   },
   {
    "duration": 10,
    "start_time": "2022-08-06T17:01:34.004Z"
   },
   {
    "duration": 3,
    "start_time": "2022-08-06T17:01:57.143Z"
   },
   {
    "duration": 9,
    "start_time": "2022-08-06T17:02:03.453Z"
   },
   {
    "duration": 22,
    "start_time": "2022-08-06T17:02:11.107Z"
   },
   {
    "duration": 9,
    "start_time": "2022-08-06T17:02:13.122Z"
   },
   {
    "duration": 10,
    "start_time": "2022-08-06T17:02:15.781Z"
   },
   {
    "duration": 10,
    "start_time": "2022-08-06T17:02:27.535Z"
   },
   {
    "duration": 22,
    "start_time": "2022-08-06T17:02:35.774Z"
   },
   {
    "duration": 10,
    "start_time": "2022-08-06T17:02:36.482Z"
   },
   {
    "duration": 3,
    "start_time": "2022-08-06T17:02:49.224Z"
   },
   {
    "duration": 10,
    "start_time": "2022-08-06T17:03:02.518Z"
   },
   {
    "duration": 22,
    "start_time": "2022-08-06T17:03:07.956Z"
   },
   {
    "duration": 9,
    "start_time": "2022-08-06T17:03:11.370Z"
   },
   {
    "duration": 10,
    "start_time": "2022-08-06T17:03:15.844Z"
   }
  ],
  "kernelspec": {
   "display_name": "Python 3 (ipykernel)",
   "language": "python",
   "name": "python3"
  },
  "language_info": {
   "codemirror_mode": {
    "name": "ipython",
    "version": 3
   },
   "file_extension": ".py",
   "mimetype": "text/x-python",
   "name": "python",
   "nbconvert_exporter": "python",
   "pygments_lexer": "ipython3",
   "version": "3.9.5"
  },
  "toc": {
   "base_numbering": 1,
   "nav_menu": {},
   "number_sections": true,
   "sideBar": true,
   "skip_h1_title": true,
   "title_cell": "Table of Contents",
   "title_sidebar": "Contents",
   "toc_cell": false,
   "toc_position": {},
   "toc_section_display": true,
   "toc_window_display": false
  }
 },
 "nbformat": 4,
 "nbformat_minor": 5
}
